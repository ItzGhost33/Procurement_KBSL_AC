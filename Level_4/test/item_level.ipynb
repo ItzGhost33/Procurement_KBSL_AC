{
 "cells": [
  {
   "cell_type": "code",
   "execution_count": 16,
   "metadata": {},
   "outputs": [],
   "source": [
    "import numpy as np\n",
    "import pandas as pd\n",
    "from math import ceil\n",
    "from datetime import datetime, timedelta\n",
    "import calendar\n",
    "from sklearn.linear_model import LogisticRegression,LinearRegression\n",
    "from xgboost.sklearn import XGBRegressor\n",
    "from sklego.meta import ZeroInflatedRegressor\n",
    "from sqlalchemy import create_engine\n",
    "from prophet import Prophet\n",
    "import inspect\n",
    "from config import base_path\n",
    "import os\n",
    "from LazyProphet import LazyProphet as lp\n",
    "# import pickle\n",
    "import logging"
   ]
  },
  {
   "cell_type": "code",
   "execution_count": 17,
   "metadata": {},
   "outputs": [],
   "source": [
    "#Create and configure logger\n",
    "logging.basicConfig(filename='item_level_gross_amount_training_model.log', format='%(asctime)s %(levelname)s:%(message)s', filemode='w')\n",
    "#Creating an object\n",
    "logger=logging.getLogger()\n",
    "#Setting the threshold of logger to DEBUG\n",
    "logger.setLevel(logging.DEBUG)"
   ]
  },
  {
   "cell_type": "code",
   "execution_count": 18,
   "metadata": {},
   "outputs": [],
   "source": [
    "## import Data  \n",
    "def import_data():\n",
    "\n",
    "    category_df = pd.read_excel(f\"{base_path}/category_with_ID.xlsx\",sheet_name='category')\n",
    "    category_df = category_df.applymap(lambda x: x.strip() if isinstance(x, str) else x)\n",
    "    category_df['CategoryID'] = category_df['CategoryID'].astype(str)\n",
    "    print('Category data shape',category_df.shape)\n",
    "\n",
    "    property_data = pd.read_csv(f\"{base_path}/filtered_with_feb_with_stand_name.csv\",encoding = 'latin1' ,\n",
    "                    usecols=['Booking Date','Gross Amount','Category','CategoryID','Property name','Item name','stand_name','Cost Center Name','Cost center'])\n",
    "    property_data.rename(columns={'Booking Date':'Booking_Date','Gross Amount':'Gross_Amount','Property name':'Property_name', 'Item name':'Item_Name',\n",
    "                                  'Category':'Category','CategoryID':'CategoryID','Cost center':'Cost_center','Cost Center Name':'Cost_Center_Name'}, inplace=True)\n",
    "    property_data = property_data.applymap(lambda x: x.strip() if isinstance(x, str) else x)\n",
    "    property_data['Item_Name'] = property_data['Item_Name'].str.lower()\n",
    "    print(\"consumption data shape:\",property_data.shape)\n",
    "\n",
    "    #Correcting one name in the item name list\n",
    "    wrong_item = 'roissant, plain, butter, Bridor, eclat du terroir, 30gr, frozen'\n",
    "    correct_item = 'c' + wrong_item\n",
    "\n",
    "    property_data.loc[property_data['Item_Name'] == wrong_item,'Item_Name'] = correct_item\n",
    "\n",
    "    # mapping_df = pd.read_excel(f\"{base_path}/item_name_mapping.xlsx\",sheet_name='mapping_sheet'\n",
    "    #                            ,usecols=['Item_Name','Item_Name_Standard','Category_Standard','Remove_flag'])\n",
    "    mapping_df = pd.read_csv(f\"{base_path}/item_name_mapping.csv\",encoding = 'latin1'\n",
    "                                ,usecols=['Item_Name','Item_Name_Standard','Category_Standard','Remove_flag','CategoryID_Standard'])\n",
    "\n",
    "    mapping_df = mapping_df.applymap(lambda x: x.strip() if isinstance(x, str) else x)\n",
    "    # mapping_df['Category_Standard'] = mapping_df['Category_Standard'].str.lower()\n",
    "    mapping_df['Item_Name'] = mapping_df['Item_Name'].str.lower()\n",
    "    mapping_df['Item_Name_Standard'] = mapping_df['Item_Name_Standard'].str.lower()\n",
    "    mapping_df_ = mapping_df.drop_duplicates().reset_index(drop=True)\n",
    "    mapping_df_['Remove_flag'] = mapping_df_['Remove_flag'].astype(str)\n",
    "    mapping_df_ = mapping_df_[mapping_df_['Remove_flag']=='0']\n",
    "    print('Mapping data shape',mapping_df_.shape)\n",
    "    \n",
    "    merged_property_data_df = pd.merge(property_data, mapping_df_[['Item_Name','Category_Standard','Item_Name_Standard','CategoryID_Standard']], on=['Item_Name'], how='inner')\n",
    "    merged_property_data_df['CategoryID_Standard'] = merged_property_data_df['CategoryID_Standard'].astype(str)\n",
    "    #### Get only 26 categories data\n",
    "    final_data_set = merged_property_data_df[merged_property_data_df['CategoryID_Standard'].isin(category_df.CategoryID.tolist())].reset_index(drop=True)\n",
    "    print('Final data shape',final_data_set.shape)\n",
    "    \n",
    "\n",
    "    return category_df,final_data_set"
   ]
  },
  {
   "cell_type": "code",
   "execution_count": 19,
   "metadata": {},
   "outputs": [
    {
     "name": "stdout",
     "output_type": "stream",
     "text": [
      "Category data shape (26, 2)\n",
      "consumption data shape: (204668, 9)\n",
      "Mapping data shape (7941, 5)\n",
      "Final data shape (204303, 12)\n"
     ]
    }
   ],
   "source": [
    "try:\n",
    "    category_df,final_data_set = import_data()\n",
    "    logger.debug(\"Reading interanl consumption data and mapped with mapping file and consider only 26 categories from DB completed. Total records : %d\",final_data_set.shape[0])\n",
    "\n",
    "except OSError as e:\n",
    "    logging.error(\"Reading data from shared folder failed.\")\n"
   ]
  },
  {
   "cell_type": "code",
   "execution_count": 20,
   "metadata": {},
   "outputs": [],
   "source": [
    "def fill_missing_dates(df, unique_id_col, date_col,max_date_):\n",
    "    # Convert 'Booking_Date' column to datetime if it's not already\n",
    "    df[date_col] = pd.to_datetime(df[date_col])\n",
    "\n",
    "    # max_date = df.Booking_Date.max()\n",
    "    # Generate a date range from the minimum to the maximum date in your specified range\n",
    "    #date_range = pd.date_range(start=df.Booking_Date.min(), end=df.Booking_Date.max()+pd.offsets.MonthEnd(0), freq='D')\n",
    "    date_range = pd.date_range(start=df.Booking_Date.min(), end= max_date_+pd.offsets.MonthEnd(0), freq='D')\n",
    "\n",
    "    # Create a MultiIndex with all unique IDs and the generated date range\n",
    "    idx = pd.MultiIndex.from_product([df[unique_id_col].unique(), date_range], names=[unique_id_col, date_col])\n",
    "\n",
    "    # Reindex the DataFrame with the MultiIndex and fill missing values with zeros\n",
    "    filled_df = df.set_index([unique_id_col, date_col]).reindex(idx, fill_value=0).reset_index()\n",
    "\n",
    "    return filled_df"
   ]
  },
  {
   "cell_type": "code",
   "execution_count": 21,
   "metadata": {},
   "outputs": [],
   "source": [
    "def get_days_week_month_count(df):\n",
    "\n",
    "    # Add a new column 'Year'\n",
    "    df['Year'] = df['Booking_Date'].dt.isocalendar().year\n",
    "    # Add a new column 'Week of Year'\n",
    "    df['Week_of_Year'] = df['Booking_Date'].dt.isocalendar().week\n",
    "\n",
    "    df['week_year'] = df['Year'].astype(str) + '-' + df['Week_of_Year'].astype(str)\n",
    "\n",
    "    # Group the original dataframe by 'Unique ID'\n",
    "    grouped_df = df.groupby(['uniqueID']).agg(\n",
    "        no_of_days=('Booking_Date', 'nunique'),  # Count the number of unique booking dates\n",
    "        no_of_weeks=('week_year', 'nunique'),\n",
    "        no_of_months=('Booking_Date', lambda x: x.dt.to_period('M').nunique()),\n",
    "        last_Trx_Date = ('Booking_Date', 'max')).reset_index()\n",
    "    \n",
    "    grouped_df['lastest_date'] = grouped_df.last_Trx_Date.max()\n",
    "    grouped_df['months_difference'] = (grouped_df['lastest_date'].dt.to_period('M') - grouped_df['last_Trx_Date'].dt.to_period('M'))\n",
    "    grouped_df['months_difference'] = grouped_df['months_difference'].apply(lambda x: x.n)\n",
    "    \n",
    "    #### Filter uniqueIDs which has more week numbers\n",
    "    grouped_df_more_week_df = grouped_df[~((grouped_df['no_of_days'] < 11) | (grouped_df['months_difference'] >= 4))]\n",
    "    more_week_count_list_ = grouped_df_more_week_df.uniqueID.tolist()\n",
    "    print('Selected Unique IDs count: ',len(more_week_count_list_))\n",
    "    print('Selected Unique IDs: ',more_week_count_list_)\n",
    "\n",
    "\n",
    "    #### Filter uniqueIDs which has less week numbers\n",
    "    grouped_df_less_week_df = grouped_df[(grouped_df['no_of_days']< 21) | (grouped_df['months_difference']>= 4)]  #### filter less than or equal 10 records and last 4 month does not happend any purchase\n",
    "    less_count_unique_ids_list = grouped_df_less_week_df.uniqueID.tolist()\n",
    "\n",
    "    print('Unselected Unique IDs count: ',len(less_count_unique_ids_list))\n",
    "    print('Unselected Unique IDs: ',less_count_unique_ids_list)\n",
    "    # dfgs = pd.DataFrame(less_count_unique_ids_list, columns=['unique_id'])\n",
    "    # dfgs.to_csv('test.csv')\n",
    "\n",
    "    return more_week_count_list_, less_count_unique_ids_list"
   ]
  },
  {
   "cell_type": "code",
   "execution_count": 22,
   "metadata": {},
   "outputs": [],
   "source": [
    "def weekly_resampling(df):\n",
    "    sunday_dates = []\n",
    "    def week_of_month(dt):\n",
    "        first_day = dt.replace(day=1)\n",
    "        dom = dt.day\n",
    "        adjusted_dom = dom + first_day.weekday()\n",
    "        return int(ceil(adjusted_dom/7.0))\n",
    "    \n",
    "    def calculate_sunday_date(year, month, week_number):\n",
    "        first_day_of_month = pd.Timestamp(year, month, 1)\n",
    "        first_day_of_month_weekday = first_day_of_month.dayofweek\n",
    "        days_to_sunday = 6 - first_day_of_month_weekday\n",
    "        first_sunday_of_month = first_day_of_month + pd.Timedelta(days=days_to_sunday)\n",
    "        sunday_date = first_sunday_of_month + pd.Timedelta(weeks=week_number - 1)\n",
    "        return sunday_date\n",
    "    \n",
    "    df['Year'] = df['Booking_Date'].dt.year\n",
    "    df['Month'] = df['Booking_Date'].dt.month\n",
    "    df['Week_Number'] = df['Booking_Date'].apply(lambda x: week_of_month(x))\n",
    "    df_weekly = df.groupby(['uniqueID', 'Year', 'Month', 'Week_Number']).agg({'Gross_Amount': 'sum'}).reset_index()\n",
    "    grouped = df_weekly.groupby(['uniqueID', 'Year', 'Month'])\n",
    "    for name, group in grouped:\n",
    "        last_two_weeks = group.tail(2)\n",
    "        last_day_of_month = calendar.monthrange(name[1], name[2])[1]\n",
    "        weekday_of_last_day = calendar.weekday(name[1], name[2], last_day_of_month)\n",
    " \n",
    "        if weekday_of_last_day == 6:\n",
    "            continue\n",
    "        else:\n",
    "            sum_last_two_weeks = last_two_weeks['Gross_Amount'].sum()\n",
    "            min_week_number = min(last_two_weeks['Week_Number'])\n",
    "            df_weekly.loc[last_two_weeks.index, 'Gross_Amount'] = sum_last_two_weeks\n",
    "            df_weekly.loc[last_two_weeks.index, 'Week_Number'] = min_week_number\n",
    "    df_weekly = df_weekly.drop_duplicates()\n",
    "    \n",
    "    for index, row in df_weekly.iterrows():\n",
    "        sunday_date = calculate_sunday_date(row['Year'], row['Month'], row['Week_Number'])\n",
    "        sunday_dates.append(sunday_date)\n",
    " \n",
    "    df_weekly['Sunday_Date'] = sunday_dates\n",
    "    columns_to_select = ['uniqueID', 'Sunday_Date', 'Gross_Amount']\n",
    "    df_weekly = df_weekly[columns_to_select].copy()\n",
    "    df_weekly = df_weekly.rename(columns={'Sunday_Date':'Booking_Date'}) \n",
    "\n",
    "    #### Select wanted columns only \n",
    "    selected_colm = ['uniqueID','Booking_Date','Gross_Amount'] \n",
    "    df_weekly = df_weekly[selected_colm]\n",
    "\n",
    "    return df_weekly"
   ]
  },
  {
   "cell_type": "code",
   "execution_count": 23,
   "metadata": {},
   "outputs": [],
   "source": [
    "# Handle negative values in forecasted data\n",
    "def replace_negatives_with_weighted_average(forecast_data):\n",
    "    \"\"\"\n",
    "    Replace weighted average of non-neg values for neg values in fcst data \n",
    "    \"\"\"\n",
    "    replaced_count = 0\n",
    "    updated_forecast = forecast_data.copy()\n",
    "    for i, val in enumerate(forecast_data):\n",
    "        if val < 0:  # Handle negative values\n",
    "            closest_non_negative_1 = None\n",
    "            closest_non_negative_2 = None\n",
    "            distance_1 = None\n",
    "            distance_2 = None\n",
    "            # Find the two closest non-negative numbers\n",
    "            for j in range(1, min(i+1, len(forecast_data)-i)):\n",
    "                if forecast_data[i-j] >= 0:\n",
    "                    closest_non_negative_1 = forecast_data[i-j]\n",
    "                    distance_1 = j\n",
    "                if forecast_data[i+j] >= 0:\n",
    "                    closest_non_negative_2 = forecast_data[i+j]\n",
    "                    distance_2 = j\n",
    "                if closest_non_negative_1 is not None and closest_non_negative_2 is not None:\n",
    "                    break\n",
    "            # Compute the weights based on the inverse of the distances\n",
    "            if closest_non_negative_1 is not None and closest_non_negative_2 is not None:\n",
    "                weight_1 = 1 / (distance_1 + 1)  # Adding 1 to avoid division by zero\n",
    "                weight_2 = 1 / (distance_2 + 1)  # Adding 1 to avoid division by zero\n",
    "                total_weight = weight_1 + weight_2\n",
    "                weighted_avg = (closest_non_negative_1 * weight_1 + closest_non_negative_2 * weight_2) / total_weight\n",
    "                updated_forecast[i] = weighted_avg\n",
    "            replaced_count+=1 \n",
    "    return updated_forecast, replaced_count"
   ]
  },
  {
   "cell_type": "code",
   "execution_count": 24,
   "metadata": {},
   "outputs": [],
   "source": [
    "####### Weekly to monthly prediction - Prophet model\n",
    "def prophet_1(df,max_date):\n",
    "        \n",
    "        def week_of_month(dt):\n",
    "                first_day = dt.replace(day=1)\n",
    "                dom = dt.day\n",
    "                adjusted_dom = dom + first_day.weekday()\n",
    "                return int(ceil(adjusted_dom/7.0))\n",
    "\n",
    "        df = df.copy()\n",
    "        print(df.Booking_Date.max())\n",
    "        df['Week_Number'] = df['Booking_Date'].apply(lambda x: week_of_month(x))\n",
    "        prophet_df = df.rename(columns={'Booking_Date': 'ds', 'Gross_Amount': 'y'})\n",
    "\n",
    "        model = Prophet(interval_width = 0.8)\n",
    "        model.fit(prophet_df)\n",
    "        future = model.make_future_dataframe(freq='W',periods=52)\n",
    "        forecast = model.predict(future)\n",
    "        forecast_sel_col = ['ds', 'yhat']\n",
    "        forecast = forecast[forecast_sel_col]\n",
    "        forecast.rename(columns={'ds': 'Booking_Date', 'yhat':'predicted'}, inplace=True)\n",
    "        \n",
    "        ## Handling the negative values with a specific function\n",
    "        forecast['predicted'], _ = replace_negatives_with_weighted_average(forecast['predicted'])\n",
    "        forecast['uniqueID'] = df['uniqueID'].iloc[-1]\n",
    "        merged_df = pd.merge(df, forecast, on=['uniqueID','Booking_Date'], how ='right')\n",
    "        merged_df_ = merged_df[['uniqueID','Booking_Date', 'Gross_Amount', 'predicted']]\n",
    "\n",
    "        ##### weekly Predicted value aggregated into monthly\n",
    "        prophet_agg_prediction_df = merged_df_.groupby(['uniqueID', pd.Grouper(key='Booking_Date', freq='M')]).sum().reset_index()\n",
    "        #### Predicted value if negative it will be convert it into zero\n",
    "        prophet_agg_prediction_df['predicted'] = prophet_agg_prediction_df['predicted'].apply(lambda x: max(0,x))\n",
    "\n",
    "        #### Actual Data frame\n",
    "        actual_df = prophet_agg_prediction_df[prophet_agg_prediction_df['Booking_Date']<= max_date]\n",
    "        sel_col = ['uniqueID','Booking_Date','Gross_Amount']\n",
    "        actual_df = actual_df[sel_col]\n",
    "\n",
    "        #### Prediction Data frame\n",
    "        prediction_df = prophet_agg_prediction_df[prophet_agg_prediction_df['Booking_Date']> max_date]\n",
    "        sel_col_pre = ['uniqueID','Booking_Date','predicted']\n",
    "        prediction_df = prediction_df[sel_col_pre]\n",
    "\n",
    "        return prediction_df, actual_df\n"
   ]
  },
  {
   "cell_type": "code",
   "execution_count": 25,
   "metadata": {},
   "outputs": [],
   "source": [
    "def data_preprocessing(df):\n",
    "    df['Booking_Date'] = pd.to_datetime(df['Booking_Date'])\n",
    "    max_date = df.Booking_Date.max() +  pd.offsets.MonthEnd(0)\n",
    "    print('Maximum Date: ',max_date)\n",
    "    \n",
    "    ### Create the uniqueID\n",
    "    try:\n",
    "        separator = '__'\n",
    "        columns_to_concat = ['Property_name', 'Cost_Center_Name','Category_Standard', 'Item_Name_Standard']\n",
    "        df['uniqueID'] = df[columns_to_concat].astype(str).apply(lambda x: x.str.cat(sep=separator), axis=1)\n",
    "        logger.debug(\"Sucessfully created UniqueID\")\n",
    "    except OSError as e:\n",
    "        logging.error(\"Failed create the uniqueID.\")\n",
    "\n",
    "    #### Sort the data frame\n",
    "    df = df.sort_values(by=['uniqueID','Booking_Date'])\n",
    "\n",
    "    #### select only specfic column \n",
    "    select_columns = ['Booking_Date','uniqueID','Gross_Amount']\n",
    "    selected_colm_df = df[select_columns]\n",
    "    \n",
    "    #### Groping the dataset by 'uniqueID','Booking_Date'\n",
    "    try:\n",
    "        selected_grouped_df = selected_colm_df.groupby(['uniqueID','Booking_Date'])['Gross_Amount'].sum().reset_index()\n",
    "        logger.debug(\"Successfully aggregated same-day transactions by unique ID\")\n",
    "    except OSError as e:\n",
    "        logging.error(\"Failed aggregated same-day transactions by unique ID.\")\n",
    "\n",
    "\n",
    "    #### Filter only have more week numbers\n",
    "    try:\n",
    "        selected_grouped_df1 = selected_grouped_df.copy()\n",
    "        more_week_count_list_, less_week_count_list_ = get_days_week_month_count(selected_grouped_df1)\n",
    "        selected_filtered_df = selected_grouped_df[selected_grouped_df['uniqueID'].isin(more_week_count_list_)].reset_index(drop=True)\n",
    "\n",
    "        sel_unique_ids = selected_filtered_df['uniqueID'].unique()\n",
    "        print('Selected final uniqueIDs to perform forecast: ',len(sel_unique_ids))\n",
    "        logger.debug(\"Successfully filterout if have less week numbers.\")\n",
    " \n",
    "        ### Write unselected unique IDs to a text file\n",
    "        with open('selected_item_level_unique_ids.txt','w')as file:\n",
    "            for unique_id in sel_unique_ids:\n",
    "                file.write(f\"{unique_id}\\n\")\n",
    "        logger.debug(\"Successfully wrote selected unique IDs to text file.\")\n",
    "    except OSError as e:\n",
    "        logging.error(\"Failed filterout if have less week numbers.\")\n",
    "\n",
    "    #### Filter have less week numbers\n",
    "    try:\n",
    "        unselected_filtered_df = selected_grouped_df[selected_grouped_df['uniqueID'].isin(less_week_count_list_)].reset_index(drop=True)\n",
    "        unique_ids = unselected_filtered_df['uniqueID'].unique()\n",
    "        print('Unselected uniqueIDs counts: ',len(unique_ids))\n",
    "        logger.debug(\"Successfully filtered only those with fewer days.\")\n",
    "\n",
    "        ### Write unselected unique IDs to a text file\n",
    "        with open('unselected_item_level_unique_ids.txt','w')as file:\n",
    "            for unique_id in unique_ids:\n",
    "                file.write(f\"{unique_id}\\n\")\n",
    "        logger.debug(\"Successfully wrote unique IDs to text file.\")\n",
    "    except OSError as e:\n",
    "        logging.error(\"Failed to filter only those with fewer days.\")\n",
    "        logging.error(str(e))\n",
    "    \n",
    "\n",
    "    def sub_pre(dff):\n",
    "        ### Fill missing sequence with zero\n",
    "        try:\n",
    "            filled_data = []\n",
    "            for unique_id in dff['uniqueID'].unique():\n",
    "                subset = dff[dff['uniqueID'] == unique_id]  ### Get each uniqueIDs in loop\n",
    "                filled_subset = fill_missing_dates(subset, unique_id_col='uniqueID', date_col='Booking_Date', max_date_ = max_date)\n",
    "                filled_data.append(filled_subset)\n",
    "            \n",
    "            filled_missing_df = pd.concat(filled_data) # Concatenate the filled sequence subsets\n",
    "            logger.debug(\"Successfully filled the missing sequence date.\")\n",
    "        except OSError as e:\n",
    "            logging.error(\"Failed filled the missing sequence date.\")\n",
    "\n",
    "        try:\n",
    "                #### Resampled by monthly\n",
    "            month_resampled_data = []\n",
    "            for unique_id in filled_missing_df['uniqueID'].unique():\n",
    "                mon_subset = filled_missing_df[filled_missing_df['uniqueID'] == unique_id]\n",
    "                monthly_resampled_ = mon_subset.groupby(['uniqueID', pd.Grouper(key='Booking_Date', freq='M')]).sum().reset_index()\n",
    "                month_resampled_data.append(monthly_resampled_)\n",
    "            monthly_resampling_df = pd.concat(month_resampled_data) # Concatenate the filled subsets\n",
    "            logger.debug(\"Successfully daily dataset has been resampled into monthly.\")\n",
    "        except OSError as e:\n",
    "            logging.error(\"Failed daily dataset has been resampled into monthly.\")\n",
    "\n",
    "        ##### Resampled by weekly\n",
    "        try:\n",
    "            weekly_filled_data = []\n",
    "            for unique_id_ in filled_missing_df['uniqueID'].unique():\n",
    "                week_subset = filled_missing_df[filled_missing_df['uniqueID'] == unique_id_]  ### Get each uniqueIDs in loop\n",
    "                filled_week_subset = weekly_resampling(week_subset)\n",
    "                weekly_filled_data.append(filled_week_subset)\n",
    "            \n",
    "            weekly_resampling_df = pd.concat(weekly_filled_data) # Concatenate the filled subsets\n",
    "            logger.debug(\"Successfully resampled each unique ids in weekly.\")\n",
    "        except OSError as e:\n",
    "            logging.error(\"Failed resampled each unique ids in weekly.\")\n",
    "\n",
    "        return filled_missing_df, weekly_resampling_df, monthly_resampling_df\n",
    "\n",
    "        \n",
    "    try:\n",
    "        selected_df_daily,selected_df_weekly,selected_df_monthly = sub_pre(selected_filtered_df)\n",
    "        logger.debug(\"Successfully saved selected daily, week and monthly resampled dataset into selected_df_daily,selected_df_weekly,selected_df_monthly variabels.\")\n",
    "    except OSError as e:\n",
    "            logging.error(\"Failed saved selected daily, week and monthly resampled dataset into selected_df_daily,selected_df_weekly,selected_df_monthly variabels.\")\n",
    "    # try:        \n",
    "    #     unselected_df_daily,unselected_df_weekly,unselected_df_monthly = sub_pre(unselected_filtered_df)\n",
    "    #     logger.debug(\"Successfully saved unselected daily, week and monthly resampled dataset into selected_df_daily,unselected_df_weekly,selected_df_monthly variabels.\")\n",
    "    # except OSError as e:\n",
    "    #         logging.error(\"Failed saved unselected daily, week and monthly resampled dataset into selected_df_daily,unselected_df_weekly,selected_df_monthly variabels.\")\n",
    "    \n",
    "    #### Resampled by monthly\n",
    "    # month_resampled_data = []\n",
    "    # for unique_id in filled_missing_df['uniqueID'].unique():\n",
    "    #     mon_subset = filled_missing_df[filled_missing_df['uniqueID'] == unique_id]\n",
    "    #     monthly_resampled_df = mon_subset['Gross_Amount'].resample('M').sum()\n",
    "    #     # monthly_resampled_df_ = monthly_resampled_df.reset_index(drop=False)\n",
    "    #     month_resampled_data.append(mon_subset)\n",
    "\n",
    "    return selected_df_daily,selected_df_weekly,selected_df_monthly, max_date"
   ]
  },
  {
   "cell_type": "code",
   "execution_count": 26,
   "metadata": {},
   "outputs": [],
   "source": [
    "def run_model_for_all_ids(model, filtered_df, max_date=None,model_name=\"\"):\n",
    "    try:\n",
    "        # Initialize empty DataFrames to store the results\n",
    "        all_prediction_df = pd.DataFrame()\n",
    "        all_actual_df = pd.DataFrame()\n",
    "\n",
    "        # List to store unique IDs that fail\n",
    "        failed_unique_ids = []\n",
    "\n",
    "        # Check if the model function requires max_date as an argument\n",
    "        model_args = inspect.signature(model).parameters\n",
    "\n",
    "        # Iterate over unique IDs for Prophet model\n",
    "        for unique_id in filtered_df['uniqueID'].unique():\n",
    "            try:\n",
    "                logger.debug(f\"Processing unique ID: {unique_id}\")\n",
    "                # Filter dataframe for each unique ID\n",
    "                df_subset = filtered_df[filtered_df['uniqueID'] == unique_id].reset_index(drop=True)\n",
    "                logger.debug(df_subset.head())\n",
    "                \n",
    "                # Apply model function to the subset of data\n",
    "                if 'max_date' in model_args:\n",
    "                    prediction_df, actual_df = model(df_subset, max_date)\n",
    "                else:\n",
    "                    prediction_df, actual_df = model(df_subset)\n",
    "                \n",
    "                logger.debug(f\"Prediction DataFrame for {unique_id}: {prediction_df.head()}\")\n",
    "                logger.debug(f\"Actual DataFrame for {unique_id}: {actual_df.head()}\")\n",
    "                \n",
    "                # Append the results to the main result DataFrames\n",
    "                # all_prediction_df = all_prediction_df.append(prediction_df, ignore_index=True)\n",
    "                all_prediction_df = pd.concat([all_prediction_df,prediction_df], ignore_index=True)\n",
    "                # all_actual_df = all_actual_df.append(actual_df, ignore_index=True)\n",
    "                all_actual_df = pd.concat([all_actual_df,actual_df], ignore_index=True)\n",
    "\n",
    "            except Exception as e:\n",
    "                logging.error(f\"Failed to process unique ID {unique_id}: {e}\")\n",
    "                failed_unique_ids.append(unique_id)\n",
    "\n",
    "        # Write failing unique IDs to a text file\n",
    "        if failed_unique_ids:\n",
    "            logger.debug(f\"Writing failed unique IDs to failed_unique_ids_item_level.txt\")\n",
    "            # Check if file exists, and open in append mode if it does\n",
    "            with open('failed_unique_ids_supplier_category.txt', 'a' if os.path.exists('failed_unique_ids_item_level.txt') else 'w') as f:\n",
    "                for unique_id in failed_unique_ids:\n",
    "                    f.write(f\"{unique_id}, {model_name}\\n\")\n",
    "            logger.debug(f\"Failed unique IDs written to failed_unique_ids_item_level.txt\")\n",
    "\n",
    "        logger.debug(\"Successfully saved both actual data and prophet prediction results as two separate dataframes.\")\n",
    "        return all_prediction_df, all_actual_df\n",
    "\n",
    "    except Exception as e:\n",
    "        logging.error(f\"Failed to save both actual data and prophet prediction results as two separate dataframes: {e}\")\n",
    "        return pd.DataFrame(), pd.DataFrame()\n"
   ]
  },
  {
   "cell_type": "code",
   "execution_count": 27,
   "metadata": {},
   "outputs": [
    {
     "name": "stdout",
     "output_type": "stream",
     "text": [
      "Maximum Date:  2024-02-29 00:00:00\n",
      "Selected Unique IDs count:  1411\n",
      "Selected Unique IDs:  ['ADAGIO__F&B Kitchen__LS - Bakery Products Chilled__glaze', 'ADAGIO__F&B Kitchen__LS - Bakery Products Fresh__bread', 'ADAGIO__F&B Kitchen__LS - Bakery Products Fresh__bread arabic', 'ADAGIO__F&B Kitchen__LS - Bakery Products Fresh__bread pan', 'ADAGIO__F&B Kitchen__LS - Bakery Products Fresh__bread toast', 'ADAGIO__F&B Kitchen__LS - Bakery Products Frozen__biscuit', 'ADAGIO__F&B Kitchen__LS - Bakery Products Frozen__bread', 'ADAGIO__F&B Kitchen__LS - Bakery Products Frozen__bread buger', 'ADAGIO__F&B Kitchen__LS - Bakery Products Frozen__bread focaccia', 'ADAGIO__F&B Kitchen__LS - Bakery Products Frozen__bread loaf', 'ADAGIO__F&B Kitchen__LS - Bakery Products Frozen__bread roll', 'ADAGIO__F&B Kitchen__LS - Bakery Products Frozen__bread sourdough', 'ADAGIO__F&B Kitchen__LS - Bakery Products Frozen__bread, baguette', 'ADAGIO__F&B Kitchen__LS - Bakery Products Frozen__croissant', 'ADAGIO__F&B Kitchen__LS - Bakery Products Frozen__danish', 'ADAGIO__F&B Kitchen__LS - Bakery Products Frozen__flour', 'ADAGIO__F&B Kitchen__LS - Bakery Products Frozen__muffin', 'ADAGIO__F&B Kitchen__LS - Bakery Products Frozen__paratha', 'ADAGIO__F&B Kitchen__LS - Bakery Products Frozen__tart shell', 'ADAGIO__F&B Kitchen__LS - Consumables__garbage bag', 'ADAGIO__F&B Kitchen__LS - Consumables__gloves', 'ADAGIO__F&B Kitchen__LS - Consumables__paper towel', 'ADAGIO__F&B Kitchen__LS - Dairy Products Fresh__eggs white', 'ADAGIO__F&B Kitchen__LS - Dairy Products Fresh__yoghurt', 'ADAGIO__F&B Kitchen__LS - Dairy products chilled/frozen__brie cheese', 'ADAGIO__F&B Kitchen__LS - Dairy products chilled/frozen__burrata cheese', 'ADAGIO__F&B Kitchen__LS - Dairy products chilled/frozen__butter', 'ADAGIO__F&B Kitchen__LS - Dairy products chilled/frozen__cheddar cheese', 'ADAGIO__F&B Kitchen__LS - Dairy products chilled/frozen__cheese', 'ADAGIO__F&B Kitchen__LS - Dairy products chilled/frozen__cheese selection', 'ADAGIO__F&B Kitchen__LS - Dairy products chilled/frozen__cooking cream', 'ADAGIO__F&B Kitchen__LS - Dairy products chilled/frozen__cream cheese', 'ADAGIO__F&B Kitchen__LS - Dairy products chilled/frozen__emmental cheese', 'ADAGIO__F&B Kitchen__LS - Dairy products chilled/frozen__feta cheese', 'ADAGIO__F&B Kitchen__LS - Dairy products chilled/frozen__halloumi cheese', 'ADAGIO__F&B Kitchen__LS - Dairy products chilled/frozen__labneh,full fat', 'ADAGIO__F&B Kitchen__LS - Dairy products chilled/frozen__mascarpone cheese', 'ADAGIO__F&B Kitchen__LS - Dairy products chilled/frozen__milk', 'ADAGIO__F&B Kitchen__LS - Dairy products chilled/frozen__mozzarella cheese', 'ADAGIO__F&B Kitchen__LS - Dairy products chilled/frozen__parmesan cheese', 'ADAGIO__F&B Kitchen__LS - Dairy products chilled/frozen__whipping cream', 'ADAGIO__F&B Kitchen__LS - Dried Products__almond flakes', 'ADAGIO__F&B Kitchen__LS - Dried Products__almond whole', 'ADAGIO__F&B Kitchen__LS - Dried Products__apricot', 'ADAGIO__F&B Kitchen__LS - Dried Products__baked beans', 'ADAGIO__F&B Kitchen__LS - Dried Products__basmati rice', 'ADAGIO__F&B Kitchen__LS - Dried Products__beef', 'ADAGIO__F&B Kitchen__LS - Dried Products__bread crumbs', 'ADAGIO__F&B Kitchen__LS - Dried Products__bread roll', 'ADAGIO__F&B Kitchen__LS - Dried Products__canola oil', 'ADAGIO__F&B Kitchen__LS - Dried Products__capers', 'ADAGIO__F&B Kitchen__LS - Dried Products__cashew nut', 'ADAGIO__F&B Kitchen__LS - Dried Products__chia seeds', 'ADAGIO__F&B Kitchen__LS - Dried Products__chick peas', 'ADAGIO__F&B Kitchen__LS - Dried Products__chicken stock', 'ADAGIO__F&B Kitchen__LS - Dried Products__chilli powder', 'ADAGIO__F&B Kitchen__LS - Dried Products__chocolate', 'ADAGIO__F&B Kitchen__LS - Dried Products__coconut', 'ADAGIO__F&B Kitchen__LS - Dried Products__coconut milk', 'ADAGIO__F&B Kitchen__LS - Dried Products__crackers', 'ADAGIO__F&B Kitchen__LS - Dried Products__cranberry', 'ADAGIO__F&B Kitchen__LS - Dried Products__dal', 'ADAGIO__F&B Kitchen__LS - Dried Products__doughnut', 'ADAGIO__F&B Kitchen__LS - Dried Products__essence', 'ADAGIO__F&B Kitchen__LS - Dried Products__fig', 'ADAGIO__F&B Kitchen__LS - Dried Products__fish', 'ADAGIO__F&B Kitchen__LS - Dried Products__flour', 'ADAGIO__F&B Kitchen__LS - Dried Products__food color', 'ADAGIO__F&B Kitchen__LS - Dried Products__foul mudammas', 'ADAGIO__F&B Kitchen__LS - Dried Products__frying oil', 'ADAGIO__F&B Kitchen__LS - Dried Products__hazelnut', 'ADAGIO__F&B Kitchen__LS - Dried Products__honey', 'ADAGIO__F&B Kitchen__LS - Dried Products__lentil', 'ADAGIO__F&B Kitchen__LS - Dried Products__muffin mix', 'ADAGIO__F&B Kitchen__LS - Dried Products__mushroom', 'ADAGIO__F&B Kitchen__LS - Dried Products__mustard', 'ADAGIO__F&B Kitchen__LS - Dried Products__mustard dijon', 'ADAGIO__F&B Kitchen__LS - Dried Products__noodles', 'ADAGIO__F&B Kitchen__LS - Dried Products__nutella', 'ADAGIO__F&B Kitchen__LS - Dried Products__oats', 'ADAGIO__F&B Kitchen__LS - Dried Products__olive oil', 'ADAGIO__F&B Kitchen__LS - Dried Products__olives black', 'ADAGIO__F&B Kitchen__LS - Dried Products__olives green', 'ADAGIO__F&B Kitchen__LS - Dried Products__papad', 'ADAGIO__F&B Kitchen__LS - Dried Products__pear halves', 'ADAGIO__F&B Kitchen__LS - Dried Products__pepper black powder', 'ADAGIO__F&B Kitchen__LS - Dried Products__pickles', 'ADAGIO__F&B Kitchen__LS - Dried Products__pineapple', 'ADAGIO__F&B Kitchen__LS - Dried Products__prunes', 'ADAGIO__F&B Kitchen__LS - Dried Products__pumpkin seeds', 'ADAGIO__F&B Kitchen__LS - Dried Products__quinoa seeds', 'ADAGIO__F&B Kitchen__LS - Dried Products__raisins', 'ADAGIO__F&B Kitchen__LS - Dried Products__rice', 'ADAGIO__F&B Kitchen__LS - Dried Products__saffron leaves', 'ADAGIO__F&B Kitchen__LS - Dried Products__salt', 'ADAGIO__F&B Kitchen__LS - Dried Products__semolina', 'ADAGIO__F&B Kitchen__LS - Dried Products__sesame seeds', 'ADAGIO__F&B Kitchen__LS - Dried Products__sugar caster', 'ADAGIO__F&B Kitchen__LS - Dried Products__sugar white', 'ADAGIO__F&B Kitchen__LS - Dried Products__sunflower oil', 'ADAGIO__F&B Kitchen__LS - Dried Products__sunflower seeds', 'ADAGIO__F&B Kitchen__LS - Dried Products__tahina', 'ADAGIO__F&B Kitchen__LS - Dried Products__tart shell', 'ADAGIO__F&B Kitchen__LS - Dried Products__tomato ketchup', 'ADAGIO__F&B Kitchen__LS - Dried Products__tomato peeled', 'ADAGIO__F&B Kitchen__LS - Dried Products__vegetable oil', 'ADAGIO__F&B Kitchen__LS - Dried Products__vinegar', 'ADAGIO__F&B Kitchen__LS - Dried Products__walnut', 'ADAGIO__F&B Kitchen__LS - Fruit Fresh__apple', 'ADAGIO__F&B Kitchen__LS - Fruit Fresh__apple green', 'ADAGIO__F&B Kitchen__LS - Fruit Fresh__avacado', 'ADAGIO__F&B Kitchen__LS - Fruit Fresh__banana', 'ADAGIO__F&B Kitchen__LS - Fruit Fresh__banana leaves', 'ADAGIO__F&B Kitchen__LS - Fruit Fresh__blackberry', 'ADAGIO__F&B Kitchen__LS - Fruit Fresh__blueberry', 'ADAGIO__F&B Kitchen__LS - Fruit Fresh__cherry', 'ADAGIO__F&B Kitchen__LS - Fruit Fresh__coconut whole', 'ADAGIO__F&B Kitchen__LS - Fruit Fresh__dates', 'ADAGIO__F&B Kitchen__LS - Fruit Fresh__dragon fruit', 'ADAGIO__F&B Kitchen__LS - Fruit Fresh__fig', 'ADAGIO__F&B Kitchen__LS - Fruit Fresh__flower', 'ADAGIO__F&B Kitchen__LS - Fruit Fresh__grapes', 'ADAGIO__F&B Kitchen__LS - Fruit Fresh__honeydew melon', 'ADAGIO__F&B Kitchen__LS - Fruit Fresh__kiwi', 'ADAGIO__F&B Kitchen__LS - Fruit Fresh__lemon', 'ADAGIO__F&B Kitchen__LS - Fruit Fresh__lime', 'ADAGIO__F&B Kitchen__LS - Fruit Fresh__mandarin', 'ADAGIO__F&B Kitchen__LS - Fruit Fresh__mango', 'ADAGIO__F&B Kitchen__LS - Fruit Fresh__mangosteen', 'ADAGIO__F&B Kitchen__LS - Fruit Fresh__melon', 'ADAGIO__F&B Kitchen__LS - Fruit Fresh__orange', 'ADAGIO__F&B Kitchen__LS - Fruit Fresh__papaya', 'ADAGIO__F&B Kitchen__LS - Fruit Fresh__passion fruit', 'ADAGIO__F&B Kitchen__LS - Fruit Fresh__pear', 'ADAGIO__F&B Kitchen__LS - Fruit Fresh__physalis', 'ADAGIO__F&B Kitchen__LS - Fruit Fresh__pineapple', 'ADAGIO__F&B Kitchen__LS - Fruit Fresh__pomegranate', 'ADAGIO__F&B Kitchen__LS - Fruit Fresh__rambutan', 'ADAGIO__F&B Kitchen__LS - Fruit Fresh__raspberry', 'ADAGIO__F&B Kitchen__LS - Fruit Fresh__star fruit', 'ADAGIO__F&B Kitchen__LS - Fruit Fresh__strawberry', 'ADAGIO__F&B Kitchen__LS - Fruits Frozen__puree', 'ADAGIO__F&B Kitchen__LS - Fruits Frozen__raspberry', 'ADAGIO__F&B Kitchen__LS - Fruits Frozen__salad', 'ADAGIO__F&B Kitchen__LS - Meat Fresh__beef', 'ADAGIO__F&B Kitchen__LS - Meat Frozen__beef', 'ADAGIO__F&B Kitchen__LS - Meat Frozen__lamb', 'ADAGIO__F&B Kitchen__LS - Meat Frozen__veal', 'ADAGIO__F&B Kitchen__LS - Meat chilled__beef', 'ADAGIO__F&B Kitchen__LS - Meat chilled__lamb', 'ADAGIO__F&B Kitchen__LS - Pasta Products__pasta, fettuccine', 'ADAGIO__F&B Kitchen__LS - Pasta Products__pasta, fusilli', 'ADAGIO__F&B Kitchen__LS - Pasta Products__pasta, macaroni', 'ADAGIO__F&B Kitchen__LS - Pasta Products__pasta, penne', 'ADAGIO__F&B Kitchen__LS - Pasta Products__pasta, spaghetti', 'ADAGIO__F&B Kitchen__LS - Poultry Chilled__chicken', 'ADAGIO__F&B Kitchen__LS - Poultry Frozen__chicken', 'ADAGIO__F&B Kitchen__LS - Poultry Frozen__turkey', 'ADAGIO__F&B Kitchen__LS - Processed Food Items__beef', 'ADAGIO__F&B Kitchen__LS - Processed Food Items__beef mortadella', 'ADAGIO__F&B Kitchen__LS - Processed Food Items__beef sausage', 'ADAGIO__F&B Kitchen__LS - Processed Food Items__chicken mortadella', 'ADAGIO__F&B Kitchen__LS - Processed Food Items__chicken sausage', 'ADAGIO__F&B Kitchen__LS - Processed Food Items__falafel', 'ADAGIO__F&B Kitchen__LS - Processed Food Items__fish', 'ADAGIO__F&B Kitchen__LS - Processed Food Items__turkey ham', 'ADAGIO__F&B Kitchen__LS - Processed Food Items__veal', 'ADAGIO__F&B Kitchen__LS - Sauces and Dressing__bbq sauce', 'ADAGIO__F&B Kitchen__LS - Sauces and Dressing__chilli sauce', 'ADAGIO__F&B Kitchen__LS - Sauces and Dressing__demi glace powder', 'ADAGIO__F&B Kitchen__LS - Sauces and Dressing__guacamole', 'ADAGIO__F&B Kitchen__LS - Sauces and Dressing__mayonnaise', 'ADAGIO__F&B Kitchen__LS - Sauces and Dressing__oyster sauce', 'ADAGIO__F&B Kitchen__LS - Sauces and Dressing__pepper stuffed with cheese', 'ADAGIO__F&B Kitchen__LS - Sauces and Dressing__seaweed', 'ADAGIO__F&B Kitchen__LS - Sauces and Dressing__soya sauce', 'ADAGIO__F&B Kitchen__LS - Sauces and Dressing__syrup', 'ADAGIO__F&B Kitchen__LS - Sauces and Dressing__worcestershire sauce', 'ADAGIO__F&B Kitchen__LS - Seafood Fresh__crab', 'ADAGIO__F&B Kitchen__LS - Seafood Fresh__fish', 'ADAGIO__F&B Kitchen__LS - Seafood Fresh__fish fillet', 'ADAGIO__F&B Kitchen__LS - Vegetables Fresh__asparagus', 'ADAGIO__F&B Kitchen__LS - Vegetables Fresh__baby corn', 'ADAGIO__F&B Kitchen__LS - Vegetables Fresh__basil', 'ADAGIO__F&B Kitchen__LS - Vegetables Fresh__beans', 'ADAGIO__F&B Kitchen__LS - Vegetables Fresh__broccoli', 'ADAGIO__F&B Kitchen__LS - Vegetables Fresh__cabbage', 'ADAGIO__F&B Kitchen__LS - Vegetables Fresh__capsicum green', 'ADAGIO__F&B Kitchen__LS - Vegetables Fresh__capsicum red', 'ADAGIO__F&B Kitchen__LS - Vegetables Fresh__capsicum yellow', 'ADAGIO__F&B Kitchen__LS - Vegetables Fresh__carrot', 'ADAGIO__F&B Kitchen__LS - Vegetables Fresh__cauliflower', 'ADAGIO__F&B Kitchen__LS - Vegetables Fresh__celery', 'ADAGIO__F&B Kitchen__LS - Vegetables Fresh__coriander leaves', 'ADAGIO__F&B Kitchen__LS - Vegetables Fresh__cress leaves sakura', 'ADAGIO__F&B Kitchen__LS - Vegetables Fresh__cucumber', 'ADAGIO__F&B Kitchen__LS - Vegetables Fresh__dill leaves', 'ADAGIO__F&B Kitchen__LS - Vegetables Fresh__eggplant', 'ADAGIO__F&B Kitchen__LS - Vegetables Fresh__flower', 'ADAGIO__F&B Kitchen__LS - Vegetables Fresh__garlic peeled', 'ADAGIO__F&B Kitchen__LS - Vegetables Fresh__ginger', 'ADAGIO__F&B Kitchen__LS - Vegetables Fresh__green chilli', 'ADAGIO__F&B Kitchen__LS - Vegetables Fresh__kale leaf', 'ADAGIO__F&B Kitchen__LS - Vegetables Fresh__leeks', 'ADAGIO__F&B Kitchen__LS - Vegetables Fresh__lemongrass', 'ADAGIO__F&B Kitchen__LS - Vegetables Fresh__lettuce', 'ADAGIO__F&B Kitchen__LS - Vegetables Fresh__marrow', 'ADAGIO__F&B Kitchen__LS - Vegetables Fresh__mint leaves', 'ADAGIO__F&B Kitchen__LS - Vegetables Fresh__onion red', 'ADAGIO__F&B Kitchen__LS - Vegetables Fresh__onion spring', 'ADAGIO__F&B Kitchen__LS - Vegetables Fresh__parsley leaves', 'ADAGIO__F&B Kitchen__LS - Vegetables Fresh__peas', 'ADAGIO__F&B Kitchen__LS - Vegetables Fresh__potato fresh', 'ADAGIO__F&B Kitchen__LS - Vegetables Fresh__potato sweet', 'ADAGIO__F&B Kitchen__LS - Vegetables Fresh__pumpkin red', 'ADAGIO__F&B Kitchen__LS - Vegetables Fresh__radish', 'ADAGIO__F&B Kitchen__LS - Vegetables Fresh__rosemary', 'ADAGIO__F&B Kitchen__LS - Vegetables Fresh__spinach', 'ADAGIO__F&B Kitchen__LS - Vegetables Fresh__thyme', 'ADAGIO__F&B Kitchen__LS - Vegetables Fresh__tomato', 'ADAGIO__F&B Kitchen__LS - Vegetables Fresh__zucchini green', 'ADAGIO__F&B Kitchen__LS - Vegetables Fresh__zucchini yellow', 'ADAGIO__F&B Kitchen__LS - Vegetables Frozen__corn on the cob', 'ADAGIO__F&B Kitchen__LS - Vegetables Frozen__eggplant', 'ADAGIO__F&B Kitchen__LS - Vegetables Frozen__hash browns', 'ADAGIO__F&B Kitchen__LS - Vegetables Frozen__potato french fries', 'ADAGIO__F&B Kitchen__LS - Vegetables Frozen__potato wedges', 'ADAGIO__F&B Kitchen__LS - Vegetables Frozen__soya beans', 'ADAGIO__F&B Kitchen__LS - seafood Frozen__crab sticks', 'ADAGIO__F&B Kitchen__LS - seafood Frozen__fish', 'ADAGIO__F&B Kitchen__LS - seafood Frozen__fish roe', 'ADAGIO__F&B Kitchen__LS - seafood Frozen__lobster', 'ADAGIO__F&B Kitchen__LS - seafood Frozen__mussels', 'ADAGIO__F&B Kitchen__LS - seafood Frozen__octopus', 'ADAGIO__F&B Kitchen__LS - seafood Frozen__shrimp', 'ADAGIO__F&B Kitchen__LS - seafood Frozen__squid rings', 'ADAGIO__F&B Kitchen__LS - seafood Frozen__squid tubes', 'ADAGIO__Fixie CafÃ©__LS - Consumables__cup lid', 'ADAGIO__Fixie CafÃ©__LS - Consumables__lunch box', 'ADAGIO__Fixie CafÃ©__LS - Consumables__napkin', 'ADAGIO__Fixie CafÃ©__LS - Consumables__paper bag', 'ADAGIO__Fixie CafÃ©__LS - Consumables__paper cup', 'ADAGIO__Fixie CafÃ©__LS - Consumables__paper roll', 'ADAGIO__Fixie CafÃ©__LS - Dairy Products Fresh__milk oat', 'ADAGIO__Fixie CafÃ©__LS - Dairy products chilled/frozen__coconut milk', 'ADAGIO__Fixie CafÃ©__LS - Dairy products chilled/frozen__milk', 'ADAGIO__Fixie CafÃ©__LS - Dairy products chilled/frozen__milk almond', 'ADAGIO__Fixie CafÃ©__LS - Dairy products chilled/frozen__milk oat', 'ADAGIO__Fixie CafÃ©__LS - Dairy products chilled/frozen__peanut butter', 'ADAGIO__Fixie CafÃ©__LS - Dried Products__cereal', 'ADAGIO__Fixie CafÃ©__LS - Dried Products__honey', 'ADAGIO__Fixie CafÃ©__LS - Dried Products__salt', 'ADAGIO__Fixie CafÃ©__LS - Dried Products__sugar white', 'ADAGIO__Fixie CafÃ©__LS - Sauces and Dressing__jam strawberry', 'ADAGIO__Fixie CafÃ©__LS - Sauces and Dressing__mayonnaise', 'ADAGIO__Fixie CafÃ©__LS - Sauces and Dressing__tomato ketchup', 'ADAGIO__Housekeeping__LS - Cleaning Products__cleanser', 'ADAGIO__Housekeeping__LS - Cleaning Products__garbage bag', 'ADAGIO__Housekeeping__LS - Cleaning Products__shampoo', 'ADAGIO__Housekeeping__LS - Consumables__paper towel', 'ADAGIO__Housekeeping__LS - Consumables__photocopy paper', 'ADAGIO__Housekeeping__LS - Consumables__toilet paper roll', 'ADAGIO__Maintenance__LS - Consumables__paint', 'ADAGIO__Maintenance__LS - Electrical Supplies__battery', 'ADAGIO__Stewarding__LS - Consumables__charcoal', 'ADAGIO__Stewarding__LS - Consumables__cling film', 'ADAGIO__Stewarding__LS - Consumables__garbage bag', 'DCC__H6482 - DCC Engineering__LS - Consumables__led lamp non dimmable', 'DCC__H6482 - DCC Engineering__LS - Consumables__paint', 'DCC__H6482 - DCC Engineering__LS - Consumables__silicon,antifungus', 'DCC__H6482 - DCC Engineering__LS - Electrical Supplies__ballast', 'DCC__H6482 - DCC Engineering__LS - Electrical Supplies__battery', 'DCC__H6482 - DCC Engineering__LS - Electrical Supplies__connector', 'DCC__H6482 - DCC Engineering__LS - Electrical Supplies__fluorescent tube', 'DCC__H6482 - DCC Engineering__LS - Electrical Supplies__lamp', 'DCC__H6482 - DCC Main Kitchen__LS - Bakery Products Fresh__bread arabic', 'DCC__H6482 - DCC Main Kitchen__LS - Bakery Products Fresh__bread toast', 'DCC__H6482 - DCC Main Kitchen__LS - Bakery Products Frozen__bread buger', 'DCC__H6482 - DCC Main Kitchen__LS - Bakery Products Frozen__bread loaf', 'DCC__H6482 - DCC Main Kitchen__LS - Bakery Products Frozen__bread roll', 'DCC__H6482 - DCC Main Kitchen__LS - Bakery Products Frozen__bread, baguette', 'DCC__H6482 - DCC Main Kitchen__LS - Bakery Products Frozen__cake', 'DCC__H6482 - DCC Main Kitchen__LS - Bakery Products Frozen__croissant', 'DCC__H6482 - DCC Main Kitchen__LS - Bakery Products Frozen__danish', 'DCC__H6482 - DCC Main Kitchen__LS - Bakery Products Frozen__flour', 'DCC__H6482 - DCC Main Kitchen__LS - Bakery Products Frozen__indian bread', 'DCC__H6482 - DCC Main Kitchen__LS - Bakery Products Frozen__naan bread', 'DCC__H6482 - DCC Main Kitchen__LS - Bakery Products Frozen__paratha', 'DCC__H6482 - DCC Main Kitchen__LS - Bakery Products Frozen__pizza base', 'DCC__H6482 - DCC Main Kitchen__LS - Bakery Products Frozen__puree', 'DCC__H6482 - DCC Main Kitchen__LS - Consumables__paper cup', 'DCC__H6482 - DCC Main Kitchen__LS - Dairy Products Fresh__eggs', 'DCC__H6482 - DCC Main Kitchen__LS - Dairy Products Fresh__eggs white', 'DCC__H6482 - DCC Main Kitchen__LS - Dairy Products Fresh__milk', 'DCC__H6482 - DCC Main Kitchen__LS - Dairy Products Fresh__yoghurt', 'DCC__H6482 - DCC Main Kitchen__LS - Dairy products chilled/frozen__burrata cheese', 'DCC__H6482 - DCC Main Kitchen__LS - Dairy products chilled/frozen__butter', 'DCC__H6482 - DCC Main Kitchen__LS - Dairy products chilled/frozen__cheddar cheese', 'DCC__H6482 - DCC Main Kitchen__LS - Dairy products chilled/frozen__cheese', 'DCC__H6482 - DCC Main Kitchen__LS - Dairy products chilled/frozen__cooking cream', 'DCC__H6482 - DCC Main Kitchen__LS - Dairy products chilled/frozen__cream cheese', 'DCC__H6482 - DCC Main Kitchen__LS - Dairy products chilled/frozen__emmental cheese', 'DCC__H6482 - DCC Main Kitchen__LS - Dairy products chilled/frozen__feta cheese', 'DCC__H6482 - DCC Main Kitchen__LS - Dairy products chilled/frozen__goat cheese', 'DCC__H6482 - DCC Main Kitchen__LS - Dairy products chilled/frozen__halloumi cheese', 'DCC__H6482 - DCC Main Kitchen__LS - Dairy products chilled/frozen__ice cream', 'DCC__H6482 - DCC Main Kitchen__LS - Dairy products chilled/frozen__labneh,full fat', 'DCC__H6482 - DCC Main Kitchen__LS - Dairy products chilled/frozen__mascarpone cheese', 'DCC__H6482 - DCC Main Kitchen__LS - Dairy products chilled/frozen__milk', 'DCC__H6482 - DCC Main Kitchen__LS - Dairy products chilled/frozen__mozzarella cheese', 'DCC__H6482 - DCC Main Kitchen__LS - Dairy products chilled/frozen__paneer cheese', 'DCC__H6482 - DCC Main Kitchen__LS - Dairy products chilled/frozen__parmesan cheese', 'DCC__H6482 - DCC Main Kitchen__LS - Dairy products chilled/frozen__peanut butter', 'DCC__H6482 - DCC Main Kitchen__LS - Dairy products chilled/frozen__whipping cream', 'DCC__H6482 - DCC Main Kitchen__LS - Dried Products__bread crumbs', 'DCC__H6482 - DCC Main Kitchen__LS - Dried Products__bread toast', 'DCC__H6482 - DCC Main Kitchen__LS - Dried Products__bread, baguette', 'DCC__H6482 - DCC Main Kitchen__LS - Dried Products__chocolate', 'DCC__H6482 - DCC Main Kitchen__LS - Dried Products__corn_sweet', 'DCC__H6482 - DCC Main Kitchen__LS - Dried Products__dates', 'DCC__H6482 - DCC Main Kitchen__LS - Dried Products__flour', 'DCC__H6482 - DCC Main Kitchen__LS - Dried Products__indian food dosa', 'DCC__H6482 - DCC Main Kitchen__LS - Dried Products__indian food idli', 'DCC__H6482 - DCC Main Kitchen__LS - Dried Products__indian sweet, rasmalai', 'DCC__H6482 - DCC Main Kitchen__LS - Dried Products__muffin mix', 'DCC__H6482 - DCC Main Kitchen__LS - Dried Products__mushroom', 'DCC__H6482 - DCC Main Kitchen__LS - Dried Products__noodles', 'DCC__H6482 - DCC Main Kitchen__LS - Dried Products__pickles', 'DCC__H6482 - DCC Main Kitchen__LS - Dried Products__sugar brown', 'DCC__H6482 - DCC Main Kitchen__LS - Dried Products__thyme leaves', 'DCC__H6482 - DCC Main Kitchen__LS - Fruit Fresh__apple', 'DCC__H6482 - DCC Main Kitchen__LS - Fruit Fresh__apple green', 'DCC__H6482 - DCC Main Kitchen__LS - Fruit Fresh__apple red', 'DCC__H6482 - DCC Main Kitchen__LS - Fruit Fresh__avacado', 'DCC__H6482 - DCC Main Kitchen__LS - Fruit Fresh__banana', 'DCC__H6482 - DCC Main Kitchen__LS - Fruit Fresh__banana leaves', 'DCC__H6482 - DCC Main Kitchen__LS - Fruit Fresh__blackberry', 'DCC__H6482 - DCC Main Kitchen__LS - Fruit Fresh__blueberry', 'DCC__H6482 - DCC Main Kitchen__LS - Fruit Fresh__coconut whole', 'DCC__H6482 - DCC Main Kitchen__LS - Fruit Fresh__dragon fruit', 'DCC__H6482 - DCC Main Kitchen__LS - Fruit Fresh__grapes', 'DCC__H6482 - DCC Main Kitchen__LS - Fruit Fresh__kiwi', 'DCC__H6482 - DCC Main Kitchen__LS - Fruit Fresh__lemon', 'DCC__H6482 - DCC Main Kitchen__LS - Fruit Fresh__lime', 'DCC__H6482 - DCC Main Kitchen__LS - Fruit Fresh__mandarin', 'DCC__H6482 - DCC Main Kitchen__LS - Fruit Fresh__mango', 'DCC__H6482 - DCC Main Kitchen__LS - Fruit Fresh__melon', 'DCC__H6482 - DCC Main Kitchen__LS - Fruit Fresh__orange', 'DCC__H6482 - DCC Main Kitchen__LS - Fruit Fresh__papaya', 'DCC__H6482 - DCC Main Kitchen__LS - Fruit Fresh__pear', 'DCC__H6482 - DCC Main Kitchen__LS - Fruit Fresh__pineapple', 'DCC__H6482 - DCC Main Kitchen__LS - Fruit Fresh__plum', 'DCC__H6482 - DCC Main Kitchen__LS - Fruit Fresh__pomegranate', 'DCC__H6482 - DCC Main Kitchen__LS - Fruit Fresh__pomelo', 'DCC__H6482 - DCC Main Kitchen__LS - Fruit Fresh__raspberry', 'DCC__H6482 - DCC Main Kitchen__LS - Fruit Fresh__strawberry', 'DCC__H6482 - DCC Main Kitchen__LS - Fruit Fresh__sweet melon', 'DCC__H6482 - DCC Main Kitchen__LS - Fruits Frozen__puree', 'DCC__H6482 - DCC Main Kitchen__LS - Meat Frozen__beef', 'DCC__H6482 - DCC Main Kitchen__LS - Meat Frozen__lamb', 'DCC__H6482 - DCC Main Kitchen__LS - Meat Frozen__mutton', 'DCC__H6482 - DCC Main Kitchen__LS - Meat chilled__beef', 'DCC__H6482 - DCC Main Kitchen__LS - Meat chilled__lamb', 'DCC__H6482 - DCC Main Kitchen__LS - Pasta Products__noodles', 'DCC__H6482 - DCC Main Kitchen__LS - Pasta Products__pasta, gnocchi', 'DCC__H6482 - DCC Main Kitchen__LS - Poultry Chilled__chicken', 'DCC__H6482 - DCC Main Kitchen__LS - Poultry Frozen__chicken', 'DCC__H6482 - DCC Main Kitchen__LS - Poultry Frozen__duck', 'DCC__H6482 - DCC Main Kitchen__LS - Poultry Frozen__turkey', 'DCC__H6482 - DCC Main Kitchen__LS - Processed Food Items__beef bacon', 'DCC__H6482 - DCC Main Kitchen__LS - Processed Food Items__beef mortadella', 'DCC__H6482 - DCC Main Kitchen__LS - Processed Food Items__beef pepperoni', 'DCC__H6482 - DCC Main Kitchen__LS - Processed Food Items__beef sausage', 'DCC__H6482 - DCC Main Kitchen__LS - Processed Food Items__chicken mortadella', 'DCC__H6482 - DCC Main Kitchen__LS - Processed Food Items__chicken sausage', 'DCC__H6482 - DCC Main Kitchen__LS - Processed Food Items__falafel', 'DCC__H6482 - DCC Main Kitchen__LS - Processed Food Items__sambousek', 'DCC__H6482 - DCC Main Kitchen__LS - Processed Food Items__samosa chicken', 'DCC__H6482 - DCC Main Kitchen__LS - Processed Food Items__samosa, vegetable', 'DCC__H6482 - DCC Main Kitchen__LS - Processed Food Items__spring roll, chicken', 'DCC__H6482 - DCC Main Kitchen__LS - Processed Food Items__spring roll, vegetable', 'DCC__H6482 - DCC Main Kitchen__LS - Processed Food Items__turkey bacon', 'DCC__H6482 - DCC Main Kitchen__LS - Processed Food Items__turkey roll', 'DCC__H6482 - DCC Main Kitchen__LS - Sauces and Dressing__mayonnaise', 'DCC__H6482 - DCC Main Kitchen__LS - Seafood Fresh__crab', 'DCC__H6482 - DCC Main Kitchen__LS - Seafood Fresh__fish', 'DCC__H6482 - DCC Main Kitchen__LS - Sweet__baklava', 'DCC__H6482 - DCC Main Kitchen__LS - Sweet__balah al sham', 'DCC__H6482 - DCC Main Kitchen__LS - Sweet__basbusa', 'DCC__H6482 - DCC Main Kitchen__LS - Sweet__indian sweet, gulab jamun', 'DCC__H6482 - DCC Main Kitchen__LS - Vegetables Fresh__asparagus', 'DCC__H6482 - DCC Main Kitchen__LS - Vegetables Fresh__basil', 'DCC__H6482 - DCC Main Kitchen__LS - Vegetables Fresh__beans', 'DCC__H6482 - DCC Main Kitchen__LS - Vegetables Fresh__beetroot', 'DCC__H6482 - DCC Main Kitchen__LS - Vegetables Fresh__bitter gourd', 'DCC__H6482 - DCC Main Kitchen__LS - Vegetables Fresh__broccoli', 'DCC__H6482 - DCC Main Kitchen__LS - Vegetables Fresh__brussels sprouts', 'DCC__H6482 - DCC Main Kitchen__LS - Vegetables Fresh__butternut', 'DCC__H6482 - DCC Main Kitchen__LS - Vegetables Fresh__cabbage', 'DCC__H6482 - DCC Main Kitchen__LS - Vegetables Fresh__capsicum green', 'DCC__H6482 - DCC Main Kitchen__LS - Vegetables Fresh__capsicum red', 'DCC__H6482 - DCC Main Kitchen__LS - Vegetables Fresh__capsicum yellow', 'DCC__H6482 - DCC Main Kitchen__LS - Vegetables Fresh__carrot', 'DCC__H6482 - DCC Main Kitchen__LS - Vegetables Fresh__cauliflower', 'DCC__H6482 - DCC Main Kitchen__LS - Vegetables Fresh__celery', 'DCC__H6482 - DCC Main Kitchen__LS - Vegetables Fresh__chives leaves', 'DCC__H6482 - DCC Main Kitchen__LS - Vegetables Fresh__coconut', 'DCC__H6482 - DCC Main Kitchen__LS - Vegetables Fresh__coriander leaves', 'DCC__H6482 - DCC Main Kitchen__LS - Vegetables Fresh__corn on the cob', 'DCC__H6482 - DCC Main Kitchen__LS - Vegetables Fresh__cress leaves affila', 'DCC__H6482 - DCC Main Kitchen__LS - Vegetables Fresh__cress leaves sakura', 'DCC__H6482 - DCC Main Kitchen__LS - Vegetables Fresh__cucumber', 'DCC__H6482 - DCC Main Kitchen__LS - Vegetables Fresh__curry leaves', 'DCC__H6482 - DCC Main Kitchen__LS - Vegetables Fresh__dill leaves', 'DCC__H6482 - DCC Main Kitchen__LS - Vegetables Fresh__drumstick', 'DCC__H6482 - DCC Main Kitchen__LS - Vegetables Fresh__eggplant', 'DCC__H6482 - DCC Main Kitchen__LS - Vegetables Fresh__flower', 'DCC__H6482 - DCC Main Kitchen__LS - Vegetables Fresh__garlic peeled', 'DCC__H6482 - DCC Main Kitchen__LS - Vegetables Fresh__garlic whole', 'DCC__H6482 - DCC Main Kitchen__LS - Vegetables Fresh__ginger', 'DCC__H6482 - DCC Main Kitchen__LS - Vegetables Fresh__green chilli', 'DCC__H6482 - DCC Main Kitchen__LS - Vegetables Fresh__kale leaf', 'DCC__H6482 - DCC Main Kitchen__LS - Vegetables Fresh__leeks', 'DCC__H6482 - DCC Main Kitchen__LS - Vegetables Fresh__lemongrass', 'DCC__H6482 - DCC Main Kitchen__LS - Vegetables Fresh__lettuce', 'DCC__H6482 - DCC Main Kitchen__LS - Vegetables Fresh__marrow', 'DCC__H6482 - DCC Main Kitchen__LS - Vegetables Fresh__mint leaves', 'DCC__H6482 - DCC Main Kitchen__LS - Vegetables Fresh__onion brown', 'DCC__H6482 - DCC Main Kitchen__LS - Vegetables Fresh__onion red', 'DCC__H6482 - DCC Main Kitchen__LS - Vegetables Fresh__onion spring', 'DCC__H6482 - DCC Main Kitchen__LS - Vegetables Fresh__pak choi', 'DCC__H6482 - DCC Main Kitchen__LS - Vegetables Fresh__parsley leaves', 'DCC__H6482 - DCC Main Kitchen__LS - Vegetables Fresh__potato baby', 'DCC__H6482 - DCC Main Kitchen__LS - Vegetables Fresh__potato fresh', 'DCC__H6482 - DCC Main Kitchen__LS - Vegetables Fresh__potato sweet', 'DCC__H6482 - DCC Main Kitchen__LS - Vegetables Fresh__pumpkin red', 'DCC__H6482 - DCC Main Kitchen__LS - Vegetables Fresh__pumpkin yellow', 'DCC__H6482 - DCC Main Kitchen__LS - Vegetables Fresh__radish', 'DCC__H6482 - DCC Main Kitchen__LS - Vegetables Fresh__red chilli', 'DCC__H6482 - DCC Main Kitchen__LS - Vegetables Fresh__rosemary', 'DCC__H6482 - DCC Main Kitchen__LS - Vegetables Fresh__sage', 'DCC__H6482 - DCC Main Kitchen__LS - Vegetables Fresh__spinach', 'DCC__H6482 - DCC Main Kitchen__LS - Vegetables Fresh__tomato', 'DCC__H6482 - DCC Main Kitchen__LS - Vegetables Fresh__zucchini green', 'DCC__H6482 - DCC Main Kitchen__LS - Vegetables Fresh__zucchini yellow', 'DCC__H6482 - DCC Main Kitchen__LS - Vegetables Frozen__green peas', 'DCC__H6482 - DCC Main Kitchen__LS - Vegetables Frozen__hash browns', 'DCC__H6482 - DCC Main Kitchen__LS - Vegetables Frozen__okra', 'DCC__H6482 - DCC Main Kitchen__LS - Vegetables Frozen__potato french fries', 'DCC__H6482 - DCC Main Kitchen__LS - Vegetables Frozen__potato wedges', 'DCC__H6482 - DCC Main Kitchen__LS - Vegetables Frozen__spinach leaf', 'DCC__H6482 - DCC Main Kitchen__LS - Vegetables Frozen__vegetable mix', 'DCC__H6482 - DCC Main Kitchen__LS - seafood Frozen__fish', 'DCC__H6482 - DCC Main Kitchen__LS - seafood Frozen__shrimp', 'DCC__H6482 - DCC Main Kitchen__LS - seafood Frozen__squid tubes', 'DCC__H6482 - Food Store__LS - Dairy products chilled/frozen__milk', 'DCC__H6482 - Food Store__LS - Dried Products__almond flakes', 'DCC__H6482 - Food Store__LS - Dried Products__apricot', 'DCC__H6482 - Food Store__LS - Dried Products__baking powder', 'DCC__H6482 - Food Store__LS - Dried Products__basmati rice', 'DCC__H6482 - Food Store__LS - Dried Products__beans', 'DCC__H6482 - Food Store__LS - Dried Products__bread crumbs', 'DCC__H6482 - Food Store__LS - Dried Products__canola oil', 'DCC__H6482 - Food Store__LS - Dried Products__cashew nut', 'DCC__H6482 - Food Store__LS - Dried Products__chick peas', 'DCC__H6482 - Food Store__LS - Dried Products__chicken stock', 'DCC__H6482 - Food Store__LS - Dried Products__chilli crushed', 'DCC__H6482 - Food Store__LS - Dried Products__chilli powder', 'DCC__H6482 - Food Store__LS - Dried Products__chilli whole', 'DCC__H6482 - Food Store__LS - Dried Products__chips tortilla chips', 'DCC__H6482 - Food Store__LS - Dried Products__chocolate', 'DCC__H6482 - Food Store__LS - Dried Products__cinnamon stick', 'DCC__H6482 - Food Store__LS - Dried Products__cocktail', 'DCC__H6482 - Food Store__LS - Dried Products__coconut', 'DCC__H6482 - Food Store__LS - Dried Products__coffee', 'DCC__H6482 - Food Store__LS - Dried Products__coffee beans', 'DCC__H6482 - Food Store__LS - Dried Products__coriander powder', 'DCC__H6482 - Food Store__LS - Dried Products__corn flake', 'DCC__H6482 - Food Store__LS - Dried Products__corn oil', 'DCC__H6482 - Food Store__LS - Dried Products__cumin powder', 'DCC__H6482 - Food Store__LS - Dried Products__cumin seeds', 'DCC__H6482 - Food Store__LS - Dried Products__curry paste', 'DCC__H6482 - Food Store__LS - Dried Products__dal', 'DCC__H6482 - Food Store__LS - Dried Products__fig', 'DCC__H6482 - Food Store__LS - Dried Products__fish', 'DCC__H6482 - Food Store__LS - Dried Products__flour', 'DCC__H6482 - Food Store__LS - Dried Products__foul mudammas', 'DCC__H6482 - Food Store__LS - Dried Products__frying oil', 'DCC__H6482 - Food Store__LS - Dried Products__garam masala', 'DCC__H6482 - Food Store__LS - Dried Products__ghee', 'DCC__H6482 - Food Store__LS - Dried Products__honey', 'DCC__H6482 - Food Store__LS - Dried Products__lentil', 'DCC__H6482 - Food Store__LS - Dried Products__milk powder', 'DCC__H6482 - Food Store__LS - Dried Products__mixed nuts', 'DCC__H6482 - Food Store__LS - Dried Products__muesli', 'DCC__H6482 - Food Store__LS - Dried Products__mushroom', 'DCC__H6482 - Food Store__LS - Dried Products__mustard dijon', 'DCC__H6482 - Food Store__LS - Dried Products__mustard seeds', 'DCC__H6482 - Food Store__LS - Dried Products__noodles', 'DCC__H6482 - Food Store__LS - Dried Products__oats', 'DCC__H6482 - Food Store__LS - Dried Products__olives black', 'DCC__H6482 - Food Store__LS - Dried Products__olives green', 'DCC__H6482 - Food Store__LS - Dried Products__papad', 'DCC__H6482 - Food Store__LS - Dried Products__pepper black powder', 'DCC__H6482 - Food Store__LS - Dried Products__pickles', 'DCC__H6482 - Food Store__LS - Dried Products__pumpkin seeds', 'DCC__H6482 - Food Store__LS - Dried Products__raisins', 'DCC__H6482 - Food Store__LS - Dried Products__rice', 'DCC__H6482 - Food Store__LS - Dried Products__rice poha', 'DCC__H6482 - Food Store__LS - Dried Products__salt', 'DCC__H6482 - Food Store__LS - Dried Products__seasoning', 'DCC__H6482 - Food Store__LS - Dried Products__semolina', 'DCC__H6482 - Food Store__LS - Dried Products__sugar brown', 'DCC__H6482 - Food Store__LS - Dried Products__sugar sweetener', 'DCC__H6482 - Food Store__LS - Dried Products__sugar white', 'DCC__H6482 - Food Store__LS - Dried Products__sunflower seeds', 'DCC__H6482 - Food Store__LS - Dried Products__tahina', 'DCC__H6482 - Food Store__LS - Dried Products__tea', 'DCC__H6482 - Food Store__LS - Dried Products__tomato ketchup', 'DCC__H6482 - Food Store__LS - Dried Products__tomato paste', 'DCC__H6482 - Food Store__LS - Dried Products__tomato peeled', 'DCC__H6482 - Food Store__LS - Dried Products__turmeric powder', 'DCC__H6482 - Food Store__LS - Dried Products__vine leaves', 'DCC__H6482 - Food Store__LS - Dried Products__vinegar', 'DCC__H6482 - Food Store__LS - Dried Products__walnut', 'DCC__H6482 - Food Store__LS - Pasta Products__pasta, fettuccine', 'DCC__H6482 - Food Store__LS - Pasta Products__pasta, fusilli', 'DCC__H6482 - Food Store__LS - Pasta Products__pasta, macaroni', 'DCC__H6482 - Food Store__LS - Pasta Products__pasta, penne', 'DCC__H6482 - Food Store__LS - Pasta Products__pasta, spaghetti', 'DCC__H6482 - Food Store__LS - Sauces and Dressing__baked beans', 'DCC__H6482 - Food Store__LS - Sauces and Dressing__bbq sauce', 'DCC__H6482 - Food Store__LS - Sauces and Dressing__chilli sauce', 'DCC__H6482 - Food Store__LS - Sauces and Dressing__demi glace powder', 'DCC__H6482 - Food Store__LS - Sauces and Dressing__honey', 'DCC__H6482 - Food Store__LS - Sauces and Dressing__hot sauce', 'DCC__H6482 - Food Store__LS - Sauces and Dressing__jam', 'DCC__H6482 - Food Store__LS - Sauces and Dressing__jam cherry', 'DCC__H6482 - Food Store__LS - Sauces and Dressing__jam orange', 'DCC__H6482 - Food Store__LS - Sauces and Dressing__jam strawberry', 'DCC__H6482 - Food Store__LS - Sauces and Dressing__mayonnaise', 'DCC__H6482 - Food Store__LS - Sauces and Dressing__oyster sauce', 'DCC__H6482 - Food Store__LS - Sauces and Dressing__soya sauce', 'DCC__H6482 - Food Store__LS - Sauces and Dressing__tomato ketchup', 'DCC__H6482 - Food Store__LS - Sauces and Dressing__tomato sundried', 'DCC__H6482 - Food Store__LS - Sauces and Dressing__vinegar', 'DCC__H6482 - General Store__LS - Cleaning Products & Services__clax, osp diversey', 'DCC__H6482 - General Store__LS - Cleaning Products & Services__soft care', 'DCC__H6482 - General Store__LS - Cleaning Products & Services__suma d2', 'DCC__H6482 - General Store__LS - Cleaning Products & Services__suma d4', 'DCC__H6482 - General Store__LS - Cleaning Products & Services__suma d47', 'DCC__H6482 - General Store__LS - Cleaning Products & Services__suma d9', 'DCC__H6482 - General Store__LS - Cleaning Products & Services__suma hand dishwashing liquid', 'DCC__H6482 - General Store__LS - Cleaning Products & Services__suma, nova l6', 'DCC__H6482 - General Store__LS - Cleaning Products & Services__suma, select a7', 'DCC__H6482 - General Store__LS - Cleaning Products__tissue', 'DCC__H6482 - General Store__LS - Consumables__cling film', 'DCC__H6482 - General Store__LS - Consumables__cup', 'DCC__H6482 - General Store__LS - Consumables__garbage bag', 'DCC__H6482 - General Store__LS - Consumables__gloves', 'DCC__H6482 - General Store__LS - Consumables__hat', 'DCC__H6482 - General Store__LS - Consumables__napkin', 'DCC__H6482 - General Store__LS - Consumables__paper bag', 'DCC__H6482 - General Store__LS - Consumables__paper coaster', 'DCC__H6482 - General Store__LS - Consumables__paper cup', 'DCC__H6482 - General Store__LS - Consumables__paper towel', 'DCC__H6482 - General Store__LS - Consumables__photocopy paper', 'DCC__H6482 - General Store__LS - Consumables__sandwich paper', 'DCC__H6482 - General Store__LS - Consumables__scrubbing pad', 'DCC__H6482 - General Store__LS - Consumables__stirrer', 'DCC__H6482 - General Store__LS - Consumables__toilet paper roll', 'DCC__H6482 - NVD Housekeeping__LS - Consumables__leather lace up shoes', 'DCC__H6482 - NVD Housekeeping__LS - Consumables__leather shoes', 'DCC__H6482 - Soft Beverage Store__LS - Dairy products chilled/frozen__milk', 'DCC__H6482 - Soft Beverage Store__LS - Dairy products chilled/frozen__milk almond', 'IRIGGA__H6685 - Food Store__LS - Dairy Products Fresh__milk', 'IRIGGA__H6685 - Food Store__LS - Dairy products chilled/frozen__milk', 'IRIGGA__H6685 - Food Store__LS - Dairy products chilled/frozen__peanut butter', 'IRIGGA__H6685 - Food Store__LS - Dried Products__baked beans', 'IRIGGA__H6685 - Food Store__LS - Dried Products__basmati rice', 'IRIGGA__H6685 - Food Store__LS - Dried Products__biryani masala', 'IRIGGA__H6685 - Food Store__LS - Dried Products__bread crumbs', 'IRIGGA__H6685 - Food Store__LS - Dried Products__canola oil', 'IRIGGA__H6685 - Food Store__LS - Dried Products__cereal', 'IRIGGA__H6685 - Food Store__LS - Dried Products__chick peas', 'IRIGGA__H6685 - Food Store__LS - Dried Products__chicken stock', 'IRIGGA__H6685 - Food Store__LS - Dried Products__chilli powder', 'IRIGGA__H6685 - Food Store__LS - Dried Products__chocolate', 'IRIGGA__H6685 - Food Store__LS - Dried Products__coconut', 'IRIGGA__H6685 - Food Store__LS - Dried Products__coffee beans', 'IRIGGA__H6685 - Food Store__LS - Dried Products__coriander powder', 'IRIGGA__H6685 - Food Store__LS - Dried Products__corn flake', 'IRIGGA__H6685 - Food Store__LS - Dried Products__dal', 'IRIGGA__H6685 - Food Store__LS - Dried Products__essence', 'IRIGGA__H6685 - Food Store__LS - Dried Products__flour', 'IRIGGA__H6685 - Food Store__LS - Dried Products__foul mudammas', 'IRIGGA__H6685 - Food Store__LS - Dried Products__garam masala', 'IRIGGA__H6685 - Food Store__LS - Dried Products__honey', 'IRIGGA__H6685 - Food Store__LS - Dried Products__lentil', 'IRIGGA__H6685 - Food Store__LS - Dried Products__milk powder', 'IRIGGA__H6685 - Food Store__LS - Dried Products__mixed nuts', 'IRIGGA__H6685 - Food Store__LS - Dried Products__muesli', 'IRIGGA__H6685 - Food Store__LS - Dried Products__mushroom', 'IRIGGA__H6685 - Food Store__LS - Dried Products__noodles', 'IRIGGA__H6685 - Food Store__LS - Dried Products__oats', 'IRIGGA__H6685 - Food Store__LS - Dried Products__olive oil', 'IRIGGA__H6685 - Food Store__LS - Dried Products__olives black', 'IRIGGA__H6685 - Food Store__LS - Dried Products__olives green', 'IRIGGA__H6685 - Food Store__LS - Dried Products__pepper black powder', 'IRIGGA__H6685 - Food Store__LS - Dried Products__pickles', 'IRIGGA__H6685 - Food Store__LS - Dried Products__pumpkin seeds', 'IRIGGA__H6685 - Food Store__LS - Dried Products__raisins', 'IRIGGA__H6685 - Food Store__LS - Dried Products__rice', 'IRIGGA__H6685 - Food Store__LS - Dried Products__rice poha', 'IRIGGA__H6685 - Food Store__LS - Dried Products__salt', 'IRIGGA__H6685 - Food Store__LS - Dried Products__seasoning', 'IRIGGA__H6685 - Food Store__LS - Dried Products__sugar brown', 'IRIGGA__H6685 - Food Store__LS - Dried Products__sugar sweetener', 'IRIGGA__H6685 - Food Store__LS - Dried Products__sugar white', 'IRIGGA__H6685 - Food Store__LS - Dried Products__sunflower seeds', 'IRIGGA__H6685 - Food Store__LS - Dried Products__tea', 'IRIGGA__H6685 - Food Store__LS - Dried Products__tomato ketchup', 'IRIGGA__H6685 - Food Store__LS - Dried Products__tomato paste', 'IRIGGA__H6685 - Food Store__LS - Dried Products__tomato peeled', 'IRIGGA__H6685 - Food Store__LS - Dried Products__turmeric powder', 'IRIGGA__H6685 - Food Store__LS - Dried Products__vinegar', 'IRIGGA__H6685 - Food Store__LS - Pasta Products__pasta, macaroni', 'IRIGGA__H6685 - Food Store__LS - Pasta Products__pasta, penne', 'IRIGGA__H6685 - Food Store__LS - Pasta Products__pasta, spaghetti', 'IRIGGA__H6685 - Food Store__LS - Sauces and Dressing__chilli sauce', 'IRIGGA__H6685 - Food Store__LS - Sauces and Dressing__demi glace powder', 'IRIGGA__H6685 - Food Store__LS - Sauces and Dressing__jam orange', 'IRIGGA__H6685 - Food Store__LS - Sauces and Dressing__jam strawberry', 'IRIGGA__H6685 - Food Store__LS - Sauces and Dressing__mayonnaise', 'IRIGGA__H6685 - Food Store__LS - Sauces and Dressing__oyster sauce', 'IRIGGA__H6685 - Food Store__LS - Sauces and Dressing__soya sauce', 'IRIGGA__H6685 - Food Store__LS - Sauces and Dressing__tomato ketchup', 'IRIGGA__H6685 - General Store__LS - Cleaning Products & Services__soft care', 'IRIGGA__H6685 - General Store__LS - Cleaning Products & Services__suma, nova l6', 'IRIGGA__H6685 - General Store__LS - Cleaning Products__tissue', 'IRIGGA__H6685 - General Store__LS - Consumables__cup', 'IRIGGA__H6685 - General Store__LS - Consumables__cup lid', 'IRIGGA__H6685 - General Store__LS - Consumables__garbage bag', 'IRIGGA__H6685 - General Store__LS - Consumables__gloves', 'IRIGGA__H6685 - General Store__LS - Consumables__lunch box', 'IRIGGA__H6685 - General Store__LS - Consumables__napkin', 'IRIGGA__H6685 - General Store__LS - Consumables__paper bag', 'IRIGGA__H6685 - General Store__LS - Consumables__paper roll', 'IRIGGA__H6685 - General Store__LS - Consumables__paper towel', 'IRIGGA__H6685 - General Store__LS - Consumables__stirrer', 'IRIGGA__H6685 - General Store__LS - Consumables__toilet paper roll', 'IRIGGA__H6685 - IBIS Al Rigga Engineering__LS - Consumables__paint', 'IRIGGA__H6685 - IBIS Al Rigga Engineering__LS - Electrical Supplies__battery', 'IRIGGA__H6685 - IBIS Al Rigga Housekeeping__LS - Cleaning Products & Services__clax 3rl1', 'IRIGGA__H6685 - IBIS Al Rigga Housekeeping__LS - Cleaning Products & Services__clax 54b1', 'IRIGGA__H6685 - IBIS Al Rigga Housekeeping__LS - Cleaning Products & Services__soft care', 'IRIGGA__H6685 - IBIS Al Rigga Main Kitchen__LS - Bakery Products Fresh__bread arabic', 'IRIGGA__H6685 - IBIS Al Rigga Main Kitchen__LS - Bakery Products Fresh__bread ciabatta', 'IRIGGA__H6685 - IBIS Al Rigga Main Kitchen__LS - Bakery Products Fresh__bread toast', 'IRIGGA__H6685 - IBIS Al Rigga Main Kitchen__LS - Bakery Products Frozen__bread buger', 'IRIGGA__H6685 - IBIS Al Rigga Main Kitchen__LS - Bakery Products Frozen__bread loaf', 'IRIGGA__H6685 - IBIS Al Rigga Main Kitchen__LS - Bakery Products Frozen__bread roll', 'IRIGGA__H6685 - IBIS Al Rigga Main Kitchen__LS - Bakery Products Frozen__bread, baguette', 'IRIGGA__H6685 - IBIS Al Rigga Main Kitchen__LS - Bakery Products Frozen__croissant', 'IRIGGA__H6685 - IBIS Al Rigga Main Kitchen__LS - Bakery Products Frozen__danish', 'IRIGGA__H6685 - IBIS Al Rigga Main Kitchen__LS - Bakery Products Frozen__paratha', 'IRIGGA__H6685 - IBIS Al Rigga Main Kitchen__LS - Dairy Products Fresh__eggs', 'IRIGGA__H6685 - IBIS Al Rigga Main Kitchen__LS - Dairy Products Fresh__eggs white', 'IRIGGA__H6685 - IBIS Al Rigga Main Kitchen__LS - Dairy Products Fresh__quail eggs', 'IRIGGA__H6685 - IBIS Al Rigga Main Kitchen__LS - Dairy Products Fresh__yoghurt', 'IRIGGA__H6685 - IBIS Al Rigga Main Kitchen__LS - Dairy products chilled/frozen__butter', 'IRIGGA__H6685 - IBIS Al Rigga Main Kitchen__LS - Dairy products chilled/frozen__cheddar cheese', 'IRIGGA__H6685 - IBIS Al Rigga Main Kitchen__LS - Dairy products chilled/frozen__feta cheese', 'IRIGGA__H6685 - IBIS Al Rigga Main Kitchen__LS - Dairy products chilled/frozen__gouda cheese', 'IRIGGA__H6685 - IBIS Al Rigga Main Kitchen__LS - Dairy products chilled/frozen__ice cream', 'IRIGGA__H6685 - IBIS Al Rigga Main Kitchen__LS - Dairy products chilled/frozen__labneh,full fat', 'IRIGGA__H6685 - IBIS Al Rigga Main Kitchen__LS - Dairy products chilled/frozen__mozzarella cheese', 'IRIGGA__H6685 - IBIS Al Rigga Main Kitchen__LS - Dairy products chilled/frozen__paneer cheese', 'IRIGGA__H6685 - IBIS Al Rigga Main Kitchen__LS - Dairy products chilled/frozen__parmesan cheese', 'IRIGGA__H6685 - IBIS Al Rigga Main Kitchen__LS - Dairy products chilled/frozen__whipping cream', 'IRIGGA__H6685 - IBIS Al Rigga Main Kitchen__LS - Dried Products__bread pan', 'IRIGGA__H6685 - IBIS Al Rigga Main Kitchen__LS - Dried Products__indian food idli', 'IRIGGA__H6685 - IBIS Al Rigga Main Kitchen__LS - Dried Products__mushroom', 'IRIGGA__H6685 - IBIS Al Rigga Main Kitchen__LS - Fruit Fresh__apple', 'IRIGGA__H6685 - IBIS Al Rigga Main Kitchen__LS - Fruit Fresh__apple green', 'IRIGGA__H6685 - IBIS Al Rigga Main Kitchen__LS - Fruit Fresh__apple red', 'IRIGGA__H6685 - IBIS Al Rigga Main Kitchen__LS - Fruit Fresh__avacado', 'IRIGGA__H6685 - IBIS Al Rigga Main Kitchen__LS - Fruit Fresh__banana', 'IRIGGA__H6685 - IBIS Al Rigga Main Kitchen__LS - Fruit Fresh__banana leaves', 'IRIGGA__H6685 - IBIS Al Rigga Main Kitchen__LS - Fruit Fresh__dates', 'IRIGGA__H6685 - IBIS Al Rigga Main Kitchen__LS - Fruit Fresh__grapes', 'IRIGGA__H6685 - IBIS Al Rigga Main Kitchen__LS - Fruit Fresh__kiwi', 'IRIGGA__H6685 - IBIS Al Rigga Main Kitchen__LS - Fruit Fresh__lemon', 'IRIGGA__H6685 - IBIS Al Rigga Main Kitchen__LS - Fruit Fresh__mandarin', 'IRIGGA__H6685 - IBIS Al Rigga Main Kitchen__LS - Fruit Fresh__mango', 'IRIGGA__H6685 - IBIS Al Rigga Main Kitchen__LS - Fruit Fresh__melon', 'IRIGGA__H6685 - IBIS Al Rigga Main Kitchen__LS - Fruit Fresh__orange', 'IRIGGA__H6685 - IBIS Al Rigga Main Kitchen__LS - Fruit Fresh__pineapple', 'IRIGGA__H6685 - IBIS Al Rigga Main Kitchen__LS - Fruit Fresh__plum', 'IRIGGA__H6685 - IBIS Al Rigga Main Kitchen__LS - Fruits Frozen__puree', 'IRIGGA__H6685 - IBIS Al Rigga Main Kitchen__LS - Meat Frozen__beef', 'IRIGGA__H6685 - IBIS Al Rigga Main Kitchen__LS - Meat Frozen__mutton', 'IRIGGA__H6685 - IBIS Al Rigga Main Kitchen__LS - Meat chilled__beef', 'IRIGGA__H6685 - IBIS Al Rigga Main Kitchen__LS - Meat chilled__lamb', 'IRIGGA__H6685 - IBIS Al Rigga Main Kitchen__LS - Poultry Frozen__chicken', 'IRIGGA__H6685 - IBIS Al Rigga Main Kitchen__LS - Processed Food Items__beef mortadella', 'IRIGGA__H6685 - IBIS Al Rigga Main Kitchen__LS - Processed Food Items__beef sausage', 'IRIGGA__H6685 - IBIS Al Rigga Main Kitchen__LS - Processed Food Items__chicken mortadella', 'IRIGGA__H6685 - IBIS Al Rigga Main Kitchen__LS - Processed Food Items__chicken sausage', 'IRIGGA__H6685 - IBIS Al Rigga Main Kitchen__LS - Processed Food Items__spring roll, vegetable', 'IRIGGA__H6685 - IBIS Al Rigga Main Kitchen__LS - Processed Food Items__veal', 'IRIGGA__H6685 - IBIS Al Rigga Main Kitchen__LS - Sauces and Dressing__mayonnaise', 'IRIGGA__H6685 - IBIS Al Rigga Main Kitchen__LS - Sweet__arabic sweet', 'IRIGGA__H6685 - IBIS Al Rigga Main Kitchen__LS - Sweet__basbusa', 'IRIGGA__H6685 - IBIS Al Rigga Main Kitchen__LS - Sweet__mamoul', 'IRIGGA__H6685 - IBIS Al Rigga Main Kitchen__LS - Vegetables Fresh__baby corn', 'IRIGGA__H6685 - IBIS Al Rigga Main Kitchen__LS - Vegetables Fresh__basil', 'IRIGGA__H6685 - IBIS Al Rigga Main Kitchen__LS - Vegetables Fresh__beans', 'IRIGGA__H6685 - IBIS Al Rigga Main Kitchen__LS - Vegetables Fresh__bitter gourd', 'IRIGGA__H6685 - IBIS Al Rigga Main Kitchen__LS - Vegetables Fresh__broccoli', 'IRIGGA__H6685 - IBIS Al Rigga Main Kitchen__LS - Vegetables Fresh__cabbage', 'IRIGGA__H6685 - IBIS Al Rigga Main Kitchen__LS - Vegetables Fresh__capsicum green', 'IRIGGA__H6685 - IBIS Al Rigga Main Kitchen__LS - Vegetables Fresh__capsicum red', 'IRIGGA__H6685 - IBIS Al Rigga Main Kitchen__LS - Vegetables Fresh__capsicum yellow', 'IRIGGA__H6685 - IBIS Al Rigga Main Kitchen__LS - Vegetables Fresh__carrot', 'IRIGGA__H6685 - IBIS Al Rigga Main Kitchen__LS - Vegetables Fresh__cauliflower', 'IRIGGA__H6685 - IBIS Al Rigga Main Kitchen__LS - Vegetables Fresh__celery', 'IRIGGA__H6685 - IBIS Al Rigga Main Kitchen__LS - Vegetables Fresh__chayote', 'IRIGGA__H6685 - IBIS Al Rigga Main Kitchen__LS - Vegetables Fresh__coriander leaves', 'IRIGGA__H6685 - IBIS Al Rigga Main Kitchen__LS - Vegetables Fresh__cucumber', 'IRIGGA__H6685 - IBIS Al Rigga Main Kitchen__LS - Vegetables Fresh__curry leaves', 'IRIGGA__H6685 - IBIS Al Rigga Main Kitchen__LS - Vegetables Fresh__eggplant', 'IRIGGA__H6685 - IBIS Al Rigga Main Kitchen__LS - Vegetables Fresh__garlic peeled', 'IRIGGA__H6685 - IBIS Al Rigga Main Kitchen__LS - Vegetables Fresh__ginger', 'IRIGGA__H6685 - IBIS Al Rigga Main Kitchen__LS - Vegetables Fresh__green chilli', 'IRIGGA__H6685 - IBIS Al Rigga Main Kitchen__LS - Vegetables Fresh__lady finger', 'IRIGGA__H6685 - IBIS Al Rigga Main Kitchen__LS - Vegetables Fresh__leeks', 'IRIGGA__H6685 - IBIS Al Rigga Main Kitchen__LS - Vegetables Fresh__lemongrass', 'IRIGGA__H6685 - IBIS Al Rigga Main Kitchen__LS - Vegetables Fresh__lettuce', 'IRIGGA__H6685 - IBIS Al Rigga Main Kitchen__LS - Vegetables Fresh__marrow', 'IRIGGA__H6685 - IBIS Al Rigga Main Kitchen__LS - Vegetables Fresh__mint leaves', 'IRIGGA__H6685 - IBIS Al Rigga Main Kitchen__LS - Vegetables Fresh__onion red', 'IRIGGA__H6685 - IBIS Al Rigga Main Kitchen__LS - Vegetables Fresh__onion spring', 'IRIGGA__H6685 - IBIS Al Rigga Main Kitchen__LS - Vegetables Fresh__pak choi', 'IRIGGA__H6685 - IBIS Al Rigga Main Kitchen__LS - Vegetables Fresh__peas', 'IRIGGA__H6685 - IBIS Al Rigga Main Kitchen__LS - Vegetables Fresh__potato fresh', 'IRIGGA__H6685 - IBIS Al Rigga Main Kitchen__LS - Vegetables Fresh__pumpkin red', 'IRIGGA__H6685 - IBIS Al Rigga Main Kitchen__LS - Vegetables Fresh__radish', 'IRIGGA__H6685 - IBIS Al Rigga Main Kitchen__LS - Vegetables Fresh__red chilli', 'IRIGGA__H6685 - IBIS Al Rigga Main Kitchen__LS - Vegetables Fresh__tomato', 'IRIGGA__H6685 - IBIS Al Rigga Main Kitchen__LS - Vegetables Frozen__corn_sweet', 'IRIGGA__H6685 - IBIS Al Rigga Main Kitchen__LS - Vegetables Frozen__green peas', 'IRIGGA__H6685 - IBIS Al Rigga Main Kitchen__LS - Vegetables Frozen__hash browns', 'IRIGGA__H6685 - IBIS Al Rigga Main Kitchen__LS - Vegetables Frozen__potato french fries', 'IRIGGA__H6685 - IBIS Al Rigga Main Kitchen__LS - Vegetables Frozen__potato wedges', 'IRIGGA__H6685 - IBIS Al Rigga Main Kitchen__LS - Vegetables Frozen__spinach leaf', 'IRIGGA__H6685 - IBIS Al Rigga Main Kitchen__LS - Vegetables Frozen__vegetable mix', 'IRIGGA__H6685 - IBIS Al Rigga Main Kitchen__LS - seafood Frozen__fish', 'IRIGGA__H6685 - IBIS Al Rigga Main Kitchen__LS - seafood Frozen__shrimp', 'MOE__H6493 - Food Store__LS - Dairy products chilled/frozen__chocolate', 'MOE__H6493 - Food Store__LS - Dairy products chilled/frozen__milk', 'MOE__H6493 - Food Store__LS - Dairy products chilled/frozen__peanut butter', 'MOE__H6493 - Food Store__LS - Dried Products__apricot', 'MOE__H6493 - Food Store__LS - Dried Products__baked beans', 'MOE__H6493 - Food Store__LS - Dried Products__basmati rice', 'MOE__H6493 - Food Store__LS - Dried Products__canola oil', 'MOE__H6493 - Food Store__LS - Dried Products__chick peas', 'MOE__H6493 - Food Store__LS - Dried Products__chicken stock', 'MOE__H6493 - Food Store__LS - Dried Products__chilli powder', 'MOE__H6493 - Food Store__LS - Dried Products__chilli whole', 'MOE__H6493 - Food Store__LS - Dried Products__chocolate', 'MOE__H6493 - Food Store__LS - Dried Products__cinnamon stick', 'MOE__H6493 - Food Store__LS - Dried Products__coconut', 'MOE__H6493 - Food Store__LS - Dried Products__coffee', 'MOE__H6493 - Food Store__LS - Dried Products__coffee beans', 'MOE__H6493 - Food Store__LS - Dried Products__coriander powder', 'MOE__H6493 - Food Store__LS - Dried Products__corn flake', 'MOE__H6493 - Food Store__LS - Dried Products__corn oil', 'MOE__H6493 - Food Store__LS - Dried Products__cumin seeds', 'MOE__H6493 - Food Store__LS - Dried Products__dal', 'MOE__H6493 - Food Store__LS - Dried Products__flour', 'MOE__H6493 - Food Store__LS - Dried Products__foul mudammas', 'MOE__H6493 - Food Store__LS - Dried Products__garam masala', 'MOE__H6493 - Food Store__LS - Dried Products__honey', 'MOE__H6493 - Food Store__LS - Dried Products__lentil', 'MOE__H6493 - Food Store__LS - Dried Products__milk powder', 'MOE__H6493 - Food Store__LS - Dried Products__mixed nuts', 'MOE__H6493 - Food Store__LS - Dried Products__muesli', 'MOE__H6493 - Food Store__LS - Dried Products__noodles', 'MOE__H6493 - Food Store__LS - Dried Products__oats', 'MOE__H6493 - Food Store__LS - Dried Products__olive oil', 'MOE__H6493 - Food Store__LS - Dried Products__olives black', 'MOE__H6493 - Food Store__LS - Dried Products__olives green', 'MOE__H6493 - Food Store__LS - Dried Products__papad', 'MOE__H6493 - Food Store__LS - Dried Products__pepper black powder', 'MOE__H6493 - Food Store__LS - Dried Products__pickles', 'MOE__H6493 - Food Store__LS - Dried Products__pumpkin seeds', 'MOE__H6493 - Food Store__LS - Dried Products__raisins', 'MOE__H6493 - Food Store__LS - Dried Products__rice', 'MOE__H6493 - Food Store__LS - Dried Products__rice poha', 'MOE__H6493 - Food Store__LS - Dried Products__salt', 'MOE__H6493 - Food Store__LS - Dried Products__seasoning', 'MOE__H6493 - Food Store__LS - Dried Products__semolina', 'MOE__H6493 - Food Store__LS - Dried Products__sugar brown', 'MOE__H6493 - Food Store__LS - Dried Products__sugar sweetener', 'MOE__H6493 - Food Store__LS - Dried Products__sugar white', 'MOE__H6493 - Food Store__LS - Dried Products__sunflower seeds', 'MOE__H6493 - Food Store__LS - Dried Products__tahina', 'MOE__H6493 - Food Store__LS - Dried Products__tandoori masala powder', 'MOE__H6493 - Food Store__LS - Dried Products__tomato ketchup', 'MOE__H6493 - Food Store__LS - Dried Products__tomato paste', 'MOE__H6493 - Food Store__LS - Dried Products__tomato peeled', 'MOE__H6493 - Food Store__LS - Dried Products__turmeric powder', 'MOE__H6493 - Food Store__LS - Dried Products__vinegar', 'MOE__H6493 - Food Store__LS - Dried Products__walnut', 'MOE__H6493 - Food Store__LS - Pasta Products__pasta, farfalle', 'MOE__H6493 - Food Store__LS - Pasta Products__pasta, fusilli', 'MOE__H6493 - Food Store__LS - Pasta Products__pasta, penne', 'MOE__H6493 - Food Store__LS - Pasta Products__pasta, spaghetti', 'MOE__H6493 - Food Store__LS - Pasta Products__pasta, tagliatelle', 'MOE__H6493 - Food Store__LS - Pasta Products__pasta, vermicelli', 'MOE__H6493 - Food Store__LS - Sauces and Dressing__bbq sauce', 'MOE__H6493 - Food Store__LS - Sauces and Dressing__chilli sauce', 'MOE__H6493 - Food Store__LS - Sauces and Dressing__demi glace powder', 'MOE__H6493 - Food Store__LS - Sauces and Dressing__jam apricot', 'MOE__H6493 - Food Store__LS - Sauces and Dressing__jam orange', 'MOE__H6493 - Food Store__LS - Sauces and Dressing__mayonnaise', 'MOE__H6493 - Food Store__LS - Sauces and Dressing__oyster sauce', 'MOE__H6493 - Food Store__LS - Sauces and Dressing__soya sauce', 'MOE__H6493 - Food Store__LS - Sauces and Dressing__tomato ketchup', 'MOE__H6493 - Food Store__LS - Sauces and Dressing__tomato sundried', 'MOE__H6493 - General Store__LS - Cleaning Products & Services__suma hand dishwashing liquid', 'MOE__H6493 - General Store__LS - Cleaning Products & Services__suma, d 9', 'MOE__H6493 - General Store__LS - Cleaning Products & Services__suma, select a7', 'MOE__H6493 - General Store__LS - Cleaning Products__paper towel', 'MOE__H6493 - General Store__LS - Consumables__cling film', 'MOE__H6493 - General Store__LS - Consumables__cup', 'MOE__H6493 - General Store__LS - Consumables__cutlery set', 'MOE__H6493 - General Store__LS - Consumables__food stickers', 'MOE__H6493 - General Store__LS - Consumables__garbage bag', 'MOE__H6493 - General Store__LS - Consumables__gloves', 'MOE__H6493 - General Store__LS - Consumables__lunch box', 'MOE__H6493 - General Store__LS - Consumables__napkin', 'MOE__H6493 - General Store__LS - Consumables__paper bag', 'MOE__H6493 - General Store__LS - Consumables__paper coaster', 'MOE__H6493 - General Store__LS - Consumables__paper cup', 'MOE__H6493 - General Store__LS - Consumables__photocopy paper', 'MOE__H6493 - General Store__LS - Consumables__pizza box', 'MOE__H6493 - General Store__LS - Consumables__stirrer', 'MOE__H6493 - General Store__LS - Consumables__toilet paper roll', 'MOE__H6493 - MOE Engineering Consumption__LS - Consumables__lamp', 'MOE__H6493 - MOE Engineering Consumption__LS - Consumables__paint', 'MOE__H6493 - MOE Engineering Consumption__LS - Consumables__silicon,antifungus', 'MOE__H6493 - MOE Engineering Consumption__LS - Electrical Supplies__battery', 'MOE__H6493 - MOE Engineering Consumption__LS - Electrical Supplies__fluorescent tube', 'MOE__H6493 - MOE Engineering Consumption__LS - Electrical Supplies__led lamp non dimmable', 'MOE__H6493 - MOE Engineering Consumption__LS - Electrical Supplies__socket', 'MOE__H6493 - MOE Main Kitchen__LS - Bakery Products Fresh__bread arabic', 'MOE__H6493 - MOE Main Kitchen__LS - Bakery Products Fresh__bread buger', 'MOE__H6493 - MOE Main Kitchen__LS - Bakery Products Fresh__bread pan', 'MOE__H6493 - MOE Main Kitchen__LS - Bakery Products Fresh__bread roll', 'MOE__H6493 - MOE Main Kitchen__LS - Bakery Products Fresh__bread toast', 'MOE__H6493 - MOE Main Kitchen__LS - Bakery Products Frozen__bread buger', 'MOE__H6493 - MOE Main Kitchen__LS - Bakery Products Frozen__bread focaccia', 'MOE__H6493 - MOE Main Kitchen__LS - Bakery Products Frozen__bread loaf', 'MOE__H6493 - MOE Main Kitchen__LS - Bakery Products Frozen__bread roll', 'MOE__H6493 - MOE Main Kitchen__LS - Bakery Products Frozen__bread, baguette', 'MOE__H6493 - MOE Main Kitchen__LS - Bakery Products Frozen__cake', 'MOE__H6493 - MOE Main Kitchen__LS - Bakery Products Frozen__cheese cake', 'MOE__H6493 - MOE Main Kitchen__LS - Bakery Products Frozen__cookies', 'MOE__H6493 - MOE Main Kitchen__LS - Bakery Products Frozen__croissant', 'MOE__H6493 - MOE Main Kitchen__LS - Bakery Products Frozen__danish', 'MOE__H6493 - MOE Main Kitchen__LS - Bakery Products Frozen__muffin', 'MOE__H6493 - MOE Main Kitchen__LS - Bakery Products Frozen__paratha', 'MOE__H6493 - MOE Main Kitchen__LS - Bakery Products Frozen__tiramisu cake', 'MOE__H6493 - MOE Main Kitchen__LS - Consumables__chocolate', 'MOE__H6493 - MOE Main Kitchen__LS - Dairy Products Fresh__eggs', 'MOE__H6493 - MOE Main Kitchen__LS - Dairy Products Fresh__eggs white', 'MOE__H6493 - MOE Main Kitchen__LS - Dairy Products Fresh__milk', 'MOE__H6493 - MOE Main Kitchen__LS - Dairy Products Fresh__yoghurt', 'MOE__H6493 - MOE Main Kitchen__LS - Dairy products chilled/frozen__brie cheese', 'MOE__H6493 - MOE Main Kitchen__LS - Dairy products chilled/frozen__burrata cheese', 'MOE__H6493 - MOE Main Kitchen__LS - Dairy products chilled/frozen__butter', 'MOE__H6493 - MOE Main Kitchen__LS - Dairy products chilled/frozen__cheddar cheese', 'MOE__H6493 - MOE Main Kitchen__LS - Dairy products chilled/frozen__cheese', 'MOE__H6493 - MOE Main Kitchen__LS - Dairy products chilled/frozen__cooking cream', 'MOE__H6493 - MOE Main Kitchen__LS - Dairy products chilled/frozen__emmental cheese', 'MOE__H6493 - MOE Main Kitchen__LS - Dairy products chilled/frozen__feta cheese', 'MOE__H6493 - MOE Main Kitchen__LS - Dairy products chilled/frozen__goat cheese', 'MOE__H6493 - MOE Main Kitchen__LS - Dairy products chilled/frozen__ice cream', 'MOE__H6493 - MOE Main Kitchen__LS - Dairy products chilled/frozen__labneh,full fat', 'MOE__H6493 - MOE Main Kitchen__LS - Dairy products chilled/frozen__mascarpone cheese', 'MOE__H6493 - MOE Main Kitchen__LS - Dairy products chilled/frozen__milk', 'MOE__H6493 - MOE Main Kitchen__LS - Dairy products chilled/frozen__mozzarella cheese', 'MOE__H6493 - MOE Main Kitchen__LS - Dairy products chilled/frozen__paneer cheese', 'MOE__H6493 - MOE Main Kitchen__LS - Dairy products chilled/frozen__parmesan cheese', 'MOE__H6493 - MOE Main Kitchen__LS - Dairy products chilled/frozen__ricotta cheese', 'MOE__H6493 - MOE Main Kitchen__LS - Dried Products__bread crumbs', 'MOE__H6493 - MOE Main Kitchen__LS - Dried Products__bread pan', 'MOE__H6493 - MOE Main Kitchen__LS - Dried Products__chocolate', 'MOE__H6493 - MOE Main Kitchen__LS - Dried Products__corn_sweet', 'MOE__H6493 - MOE Main Kitchen__LS - Dried Products__dates', 'MOE__H6493 - MOE Main Kitchen__LS - Dried Products__flour', 'MOE__H6493 - MOE Main Kitchen__LS - Dried Products__indian food dosa', 'MOE__H6493 - MOE Main Kitchen__LS - Dried Products__lentil', 'MOE__H6493 - MOE Main Kitchen__LS - Dried Products__muffin mix', 'MOE__H6493 - MOE Main Kitchen__LS - Dried Products__mushroom', 'MOE__H6493 - MOE Main Kitchen__LS - Dried Products__noodles', 'MOE__H6493 - MOE Main Kitchen__LS - Dried Products__olives black', 'MOE__H6493 - MOE Main Kitchen__LS - Dried Products__pickles', 'MOE__H6493 - MOE Main Kitchen__LS - Dried Products__sago seeds', 'MOE__H6493 - MOE Main Kitchen__LS - Dried Products__thyme leaves', 'MOE__H6493 - MOE Main Kitchen__LS - Dried Products__vinegar', 'MOE__H6493 - MOE Main Kitchen__LS - Fruit Fresh__apple green', 'MOE__H6493 - MOE Main Kitchen__LS - Fruit Fresh__apple red', 'MOE__H6493 - MOE Main Kitchen__LS - Fruit Fresh__avacado', 'MOE__H6493 - MOE Main Kitchen__LS - Fruit Fresh__banana', 'MOE__H6493 - MOE Main Kitchen__LS - Fruit Fresh__banana leaves', 'MOE__H6493 - MOE Main Kitchen__LS - Fruit Fresh__blackberry', 'MOE__H6493 - MOE Main Kitchen__LS - Fruit Fresh__blueberry', 'MOE__H6493 - MOE Main Kitchen__LS - Fruit Fresh__dates', 'MOE__H6493 - MOE Main Kitchen__LS - Fruit Fresh__dragon fruit', 'MOE__H6493 - MOE Main Kitchen__LS - Fruit Fresh__grapes', 'MOE__H6493 - MOE Main Kitchen__LS - Fruit Fresh__honeydew melon', 'MOE__H6493 - MOE Main Kitchen__LS - Fruit Fresh__kiwi', 'MOE__H6493 - MOE Main Kitchen__LS - Fruit Fresh__lemon', 'MOE__H6493 - MOE Main Kitchen__LS - Fruit Fresh__lime', 'MOE__H6493 - MOE Main Kitchen__LS - Fruit Fresh__mandarin', 'MOE__H6493 - MOE Main Kitchen__LS - Fruit Fresh__mango', 'MOE__H6493 - MOE Main Kitchen__LS - Fruit Fresh__melon', 'MOE__H6493 - MOE Main Kitchen__LS - Fruit Fresh__orange', 'MOE__H6493 - MOE Main Kitchen__LS - Fruit Fresh__papaya', 'MOE__H6493 - MOE Main Kitchen__LS - Fruit Fresh__pear nashi', 'MOE__H6493 - MOE Main Kitchen__LS - Fruit Fresh__pineapple', 'MOE__H6493 - MOE Main Kitchen__LS - Fruit Fresh__plum', 'MOE__H6493 - MOE Main Kitchen__LS - Fruit Fresh__pomegranate', 'MOE__H6493 - MOE Main Kitchen__LS - Fruit Fresh__raspberry', 'MOE__H6493 - MOE Main Kitchen__LS - Fruit Fresh__strawberry', 'MOE__H6493 - MOE Main Kitchen__LS - Fruits Frozen__puree', 'MOE__H6493 - MOE Main Kitchen__LS - Meat Frozen__beef', 'MOE__H6493 - MOE Main Kitchen__LS - Meat Frozen__lamb', 'MOE__H6493 - MOE Main Kitchen__LS - Meat Frozen__veal', 'MOE__H6493 - MOE Main Kitchen__LS - Meat chilled__beef', 'MOE__H6493 - MOE Main Kitchen__LS - Meat chilled__lamb', 'MOE__H6493 - MOE Main Kitchen__LS - Poultry Frozen__chicken', 'MOE__H6493 - MOE Main Kitchen__LS - Processed Food Items__beef', 'MOE__H6493 - MOE Main Kitchen__LS - Processed Food Items__beef mortadella', 'MOE__H6493 - MOE Main Kitchen__LS - Processed Food Items__beef sausage', 'MOE__H6493 - MOE Main Kitchen__LS - Processed Food Items__chicken burger', 'MOE__H6493 - MOE Main Kitchen__LS - Processed Food Items__chicken mortadella', 'MOE__H6493 - MOE Main Kitchen__LS - Processed Food Items__chicken sausage', 'MOE__H6493 - MOE Main Kitchen__LS - Processed Food Items__falafel', 'MOE__H6493 - MOE Main Kitchen__LS - Processed Food Items__fatayer', 'MOE__H6493 - MOE Main Kitchen__LS - Processed Food Items__samosa, vegetable', 'MOE__H6493 - MOE Main Kitchen__LS - Processed Food Items__spring roll, chicken', 'MOE__H6493 - MOE Main Kitchen__LS - Processed Food Items__spring roll, vegetable', 'MOE__H6493 - MOE Main Kitchen__LS - Processed Food Items__turkey bacon', 'MOE__H6493 - MOE Main Kitchen__LS - Processed Food Items__turkey roll', 'MOE__H6493 - MOE Main Kitchen__LS - Processed Food Items__veal', 'MOE__H6493 - MOE Main Kitchen__LS - Sauces and Dressing__avacado', 'MOE__H6493 - MOE Main Kitchen__LS - Sauces and Dressing__chilli whole', 'MOE__H6493 - MOE Main Kitchen__LS - Sauces and Dressing__curry paste', 'MOE__H6493 - MOE Main Kitchen__LS - Seafood Fresh__fish', 'MOE__H6493 - MOE Main Kitchen__LS - Sweet__indian sweet, gulab jamun', 'MOE__H6493 - MOE Main Kitchen__LS - Vegetables Fresh__asparagus', 'MOE__H6493 - MOE Main Kitchen__LS - Vegetables Fresh__basil', 'MOE__H6493 - MOE Main Kitchen__LS - Vegetables Fresh__beans', 'MOE__H6493 - MOE Main Kitchen__LS - Vegetables Fresh__bitter gourd', 'MOE__H6493 - MOE Main Kitchen__LS - Vegetables Fresh__broccoli', 'MOE__H6493 - MOE Main Kitchen__LS - Vegetables Fresh__brussels sprouts', 'MOE__H6493 - MOE Main Kitchen__LS - Vegetables Fresh__butternut', 'MOE__H6493 - MOE Main Kitchen__LS - Vegetables Fresh__cabbage', 'MOE__H6493 - MOE Main Kitchen__LS - Vegetables Fresh__capsicum green', 'MOE__H6493 - MOE Main Kitchen__LS - Vegetables Fresh__capsicum red', 'MOE__H6493 - MOE Main Kitchen__LS - Vegetables Fresh__capsicum yellow', 'MOE__H6493 - MOE Main Kitchen__LS - Vegetables Fresh__carrot', 'MOE__H6493 - MOE Main Kitchen__LS - Vegetables Fresh__cauliflower', 'MOE__H6493 - MOE Main Kitchen__LS - Vegetables Fresh__celery', 'MOE__H6493 - MOE Main Kitchen__LS - Vegetables Fresh__coconut', 'MOE__H6493 - MOE Main Kitchen__LS - Vegetables Fresh__coriander leaves', 'MOE__H6493 - MOE Main Kitchen__LS - Vegetables Fresh__cress leaves affila', 'MOE__H6493 - MOE Main Kitchen__LS - Vegetables Fresh__cress leaves sakura', 'MOE__H6493 - MOE Main Kitchen__LS - Vegetables Fresh__cucumber', 'MOE__H6493 - MOE Main Kitchen__LS - Vegetables Fresh__drumstick', 'MOE__H6493 - MOE Main Kitchen__LS - Vegetables Fresh__eggplant', 'MOE__H6493 - MOE Main Kitchen__LS - Vegetables Fresh__fennel root', 'MOE__H6493 - MOE Main Kitchen__LS - Vegetables Fresh__flower', 'MOE__H6493 - MOE Main Kitchen__LS - Vegetables Fresh__garlic peeled', 'MOE__H6493 - MOE Main Kitchen__LS - Vegetables Fresh__garlic whole', 'MOE__H6493 - MOE Main Kitchen__LS - Vegetables Fresh__ginger', 'MOE__H6493 - MOE Main Kitchen__LS - Vegetables Fresh__green chilli', 'MOE__H6493 - MOE Main Kitchen__LS - Vegetables Fresh__kale leaf', 'MOE__H6493 - MOE Main Kitchen__LS - Vegetables Fresh__lady finger', 'MOE__H6493 - MOE Main Kitchen__LS - Vegetables Fresh__leeks', 'MOE__H6493 - MOE Main Kitchen__LS - Vegetables Fresh__lemongrass', 'MOE__H6493 - MOE Main Kitchen__LS - Vegetables Fresh__lettuce', 'MOE__H6493 - MOE Main Kitchen__LS - Vegetables Fresh__marrow', 'MOE__H6493 - MOE Main Kitchen__LS - Vegetables Fresh__mint leaves', 'MOE__H6493 - MOE Main Kitchen__LS - Vegetables Fresh__onion red', 'MOE__H6493 - MOE Main Kitchen__LS - Vegetables Fresh__onion spring', 'MOE__H6493 - MOE Main Kitchen__LS - Vegetables Fresh__parsley leaves', 'MOE__H6493 - MOE Main Kitchen__LS - Vegetables Fresh__potato fresh', 'MOE__H6493 - MOE Main Kitchen__LS - Vegetables Fresh__potato sweet', 'MOE__H6493 - MOE Main Kitchen__LS - Vegetables Fresh__pumpkin red', 'MOE__H6493 - MOE Main Kitchen__LS - Vegetables Fresh__radish', 'MOE__H6493 - MOE Main Kitchen__LS - Vegetables Fresh__red chilli', 'MOE__H6493 - MOE Main Kitchen__LS - Vegetables Fresh__rosemary', 'MOE__H6493 - MOE Main Kitchen__LS - Vegetables Fresh__sage', 'MOE__H6493 - MOE Main Kitchen__LS - Vegetables Fresh__spinach', 'MOE__H6493 - MOE Main Kitchen__LS - Vegetables Fresh__tomato', 'MOE__H6493 - MOE Main Kitchen__LS - Vegetables Fresh__zucchini green', 'MOE__H6493 - MOE Main Kitchen__LS - Vegetables Fresh__zucchini yellow', 'MOE__H6493 - MOE Main Kitchen__LS - Vegetables Frozen__green peas', 'MOE__H6493 - MOE Main Kitchen__LS - Vegetables Frozen__hash browns', 'MOE__H6493 - MOE Main Kitchen__LS - Vegetables Frozen__mushroom', 'MOE__H6493 - MOE Main Kitchen__LS - Vegetables Frozen__potato french fries', 'MOE__H6493 - MOE Main Kitchen__LS - Vegetables Frozen__potato wedges', 'MOE__H6493 - MOE Main Kitchen__LS - Vegetables Frozen__spinach leaf', 'MOE__H6493 - MOE Main Kitchen__LS - Vegetables Frozen__vegetable mix', 'MOE__H6493 - MOE Main Kitchen__LS - seafood Frozen__clams', 'MOE__H6493 - MOE Main Kitchen__LS - seafood Frozen__fish', 'MOE__H6493 - MOE Main Kitchen__LS - seafood Frozen__shrimp', 'MOE__H6493 - MOE Main Kitchen__LS - seafood Frozen__squid tubes', 'PDCC__H2022 - Food Store__LS - Bakery Products Chilled__vinegar', 'PDCC__H2022 - Food Store__LS - Bakery Products Frozen__biscuit', 'PDCC__H2022 - Food Store__LS - Consumables__filter paper', 'PDCC__H2022 - Food Store__LS - Dairy Products Fresh__milk', 'PDCC__H2022 - Food Store__LS - Dairy products chilled/frozen__almond flakes', 'PDCC__H2022 - Food Store__LS - Dairy products chilled/frozen__chocolate', 'PDCC__H2022 - Food Store__LS - Dairy products chilled/frozen__ice cream', 'PDCC__H2022 - Food Store__LS - Dairy products chilled/frozen__milk', 'PDCC__H2022 - Food Store__LS - Dairy products chilled/frozen__pie filling', 'PDCC__H2022 - Food Store__LS - Dried Products__almond flakes', 'PDCC__H2022 - Food Store__LS - Dried Products__almond powder', 'PDCC__H2022 - Food Store__LS - Dried Products__almond smoked', 'PDCC__H2022 - Food Store__LS - Dried Products__almond whole', 'PDCC__H2022 - Food Store__LS - Dried Products__apricot', 'PDCC__H2022 - Food Store__LS - Dried Products__baked beans', 'PDCC__H2022 - Food Store__LS - Dried Products__basmati rice', 'PDCC__H2022 - Food Store__LS - Dried Products__beans', 'PDCC__H2022 - Food Store__LS - Dried Products__bread crumbs', 'PDCC__H2022 - Food Store__LS - Dried Products__burghul', 'PDCC__H2022 - Food Store__LS - Dried Products__cake mix', 'PDCC__H2022 - Food Store__LS - Dried Products__canola oil', 'PDCC__H2022 - Food Store__LS - Dried Products__capers', 'PDCC__H2022 - Food Store__LS - Dried Products__cardamom whole', 'PDCC__H2022 - Food Store__LS - Dried Products__cashew nut', 'PDCC__H2022 - Food Store__LS - Dried Products__cereal', 'PDCC__H2022 - Food Store__LS - Dried Products__cheddar cheese', 'PDCC__H2022 - Food Store__LS - Dried Products__chick peas', 'PDCC__H2022 - Food Store__LS - Dried Products__chicken stock', 'PDCC__H2022 - Food Store__LS - Dried Products__chilli crushed', 'PDCC__H2022 - Food Store__LS - Dried Products__chilli powder', 'PDCC__H2022 - Food Store__LS - Dried Products__chilli whole', 'PDCC__H2022 - Food Store__LS - Dried Products__chips, potato chips', 'PDCC__H2022 - Food Store__LS - Dried Products__chocolate', 'PDCC__H2022 - Food Store__LS - Dried Products__chocolate, milk', 'PDCC__H2022 - Food Store__LS - Dried Products__cinnamon stick', 'PDCC__H2022 - Food Store__LS - Dried Products__coconut', 'PDCC__H2022 - Food Store__LS - Dried Products__coffee', 'PDCC__H2022 - Food Store__LS - Dried Products__coffee beans', 'PDCC__H2022 - Food Store__LS - Dried Products__coriander powder', 'PDCC__H2022 - Food Store__LS - Dried Products__corn flake', 'PDCC__H2022 - Food Store__LS - Dried Products__corn_sweet', 'PDCC__H2022 - Food Store__LS - Dried Products__cumin powder', 'PDCC__H2022 - Food Store__LS - Dried Products__cumin seeds', 'PDCC__H2022 - Food Store__LS - Dried Products__dal', 'PDCC__H2022 - Food Store__LS - Dried Products__dates', 'PDCC__H2022 - Food Store__LS - Dried Products__decaffeinato', 'PDCC__H2022 - Food Store__LS - Dried Products__fig', 'PDCC__H2022 - Food Store__LS - Dried Products__fish', 'PDCC__H2022 - Food Store__LS - Dried Products__flour', 'PDCC__H2022 - Food Store__LS - Dried Products__foul mudammas', 'PDCC__H2022 - Food Store__LS - Dried Products__gelatin powder', 'PDCC__H2022 - Food Store__LS - Dried Products__gelatin sheet', 'PDCC__H2022 - Food Store__LS - Dried Products__hazelnut', 'PDCC__H2022 - Food Store__LS - Dried Products__honey', 'PDCC__H2022 - Food Store__LS - Dried Products__ispirazione ristretto', 'PDCC__H2022 - Food Store__LS - Dried Products__jalapeno pepper', 'PDCC__H2022 - Food Store__LS - Dried Products__lentil', 'PDCC__H2022 - Food Store__LS - Dried Products__mixed nuts', 'PDCC__H2022 - Food Store__LS - Dried Products__muesli', 'PDCC__H2022 - Food Store__LS - Dried Products__mushroom', 'PDCC__H2022 - Food Store__LS - Dried Products__mustard dijon', 'PDCC__H2022 - Food Store__LS - Dried Products__noodles', 'PDCC__H2022 - Food Store__LS - Dried Products__oats', 'PDCC__H2022 - Food Store__LS - Dried Products__olive oil', 'PDCC__H2022 - Food Store__LS - Dried Products__olives black', 'PDCC__H2022 - Food Store__LS - Dried Products__olives green', 'PDCC__H2022 - Food Store__LS - Dried Products__pancake', 'PDCC__H2022 - Food Store__LS - Dried Products__papad', 'PDCC__H2022 - Food Store__LS - Dried Products__paprika powder', 'PDCC__H2022 - Food Store__LS - Dried Products__pepper black powder', 'PDCC__H2022 - Food Store__LS - Dried Products__pepper black whole', 'PDCC__H2022 - Food Store__LS - Dried Products__pepper white powder', 'PDCC__H2022 - Food Store__LS - Dried Products__pickles', 'PDCC__H2022 - Food Store__LS - Dried Products__pumpkin seeds', 'PDCC__H2022 - Food Store__LS - Dried Products__quinoa seeds', 'PDCC__H2022 - Food Store__LS - Dried Products__raisins', 'PDCC__H2022 - Food Store__LS - Dried Products__rice', 'PDCC__H2022 - Food Store__LS - Dried Products__rice poha', 'PDCC__H2022 - Food Store__LS - Dried Products__saffron leaves', 'PDCC__H2022 - Food Store__LS - Dried Products__salt', 'PDCC__H2022 - Food Store__LS - Dried Products__sesame oil', 'PDCC__H2022 - Food Store__LS - Dried Products__sesame seeds', 'PDCC__H2022 - Food Store__LS - Dried Products__spices', 'PDCC__H2022 - Food Store__LS - Dried Products__sugar brown', 'PDCC__H2022 - Food Store__LS - Dried Products__sugar sweetener', 'PDCC__H2022 - Food Store__LS - Dried Products__sugar white', 'PDCC__H2022 - Food Store__LS - Dried Products__sunflower oil', 'PDCC__H2022 - Food Store__LS - Dried Products__sunflower seeds', 'PDCC__H2022 - Food Store__LS - Dried Products__syrup', 'PDCC__H2022 - Food Store__LS - Dried Products__tahina', 'PDCC__H2022 - Food Store__LS - Dried Products__tea', 'PDCC__H2022 - Food Store__LS - Dried Products__tomato ketchup', 'PDCC__H2022 - Food Store__LS - Dried Products__tomato paste', 'PDCC__H2022 - Food Store__LS - Dried Products__tomato peeled', 'PDCC__H2022 - Food Store__LS - Dried Products__tomato sundried', 'PDCC__H2022 - Food Store__LS - Dried Products__turmeric powder', 'PDCC__H2022 - Food Store__LS - Dried Products__vegetable stock', 'PDCC__H2022 - Food Store__LS - Dried Products__vinegar', 'PDCC__H2022 - Food Store__LS - Dried Products__walnut', 'PDCC__H2022 - Food Store__LS - Dried Products__wasabi powder', 'PDCC__H2022 - Food Store__LS - Dried Products__zatar', 'PDCC__H2022 - Food Store__LS - Pasta Products__pasta, elbow', 'PDCC__H2022 - Food Store__LS - Pasta Products__pasta, penne', 'PDCC__H2022 - Food Store__LS - Pasta Products__pasta, spaghetti', 'PDCC__H2022 - Food Store__LS - Sauces and Dressing__bbq sauce', 'PDCC__H2022 - Food Store__LS - Sauces and Dressing__chilli sauce', 'PDCC__H2022 - Food Store__LS - Sauces and Dressing__curry paste', 'PDCC__H2022 - Food Store__LS - Sauces and Dressing__demi glace powder', 'PDCC__H2022 - Food Store__LS - Sauces and Dressing__honey', 'PDCC__H2022 - Food Store__LS - Sauces and Dressing__hot sauce', 'PDCC__H2022 - Food Store__LS - Sauces and Dressing__jam apricot', 'PDCC__H2022 - Food Store__LS - Sauces and Dressing__jam cherry', 'PDCC__H2022 - Food Store__LS - Sauces and Dressing__jam orange', 'PDCC__H2022 - Food Store__LS - Sauces and Dressing__jam strawberry', 'PDCC__H2022 - Food Store__LS - Sauces and Dressing__mayonnaise', 'PDCC__H2022 - Food Store__LS - Sauces and Dressing__olives black', 'PDCC__H2022 - Food Store__LS - Sauces and Dressing__oyster sauce', 'PDCC__H2022 - Food Store__LS - Sauces and Dressing__pickles', 'PDCC__H2022 - Food Store__LS - Sauces and Dressing__salsa', 'PDCC__H2022 - Food Store__LS - Sauces and Dressing__soya sauce', 'PDCC__H2022 - Food Store__LS - Sauces and Dressing__syrup', 'PDCC__H2022 - Food Store__LS - Sauces and Dressing__tomato ketchup', 'PDCC__H2022 - General Store__LS - Cleaning Products & Services__air freshener', 'PDCC__H2022 - General Store__LS - Cleaning Products & Services__carpet cleaning liquid', 'PDCC__H2022 - General Store__LS - Cleaning Products & Services__clax 12a1', 'PDCC__H2022 - General Store__LS - Cleaning Products & Services__clax 24b1', 'PDCC__H2022 - General Store__LS - Cleaning Products & Services__clax 4al1', 'PDCC__H2022 - General Store__LS - Cleaning Products & Services__clax 54b1', 'PDCC__H2022 - General Store__LS - Cleaning Products & Services__r7 cleaner', 'PDCC__H2022 - General Store__LS - Cleaning Products & Services__room care r1', 'PDCC__H2022 - General Store__LS - Cleaning Products & Services__room care r2', 'PDCC__H2022 - General Store__LS - Cleaning Products & Services__room care r3', 'PDCC__H2022 - General Store__LS - Cleaning Products & Services__soft care', 'PDCC__H2022 - General Store__LS - Cleaning Products & Services__suma a17', 'PDCC__H2022 - General Store__LS - Cleaning Products & Services__suma d16', 'PDCC__H2022 - General Store__LS - Cleaning Products & Services__suma d2', 'PDCC__H2022 - General Store__LS - Cleaning Products & Services__suma d9', 'PDCC__H2022 - General Store__LS - Cleaning Products & Services__suma k2', 'PDCC__H2022 - General Store__LS - Cleaning Products & Services__suma revoflow', 'PDCC__H2022 - General Store__LS - Cleaning Products & Services__taski sani mouldout', 'PDCC__H2022 - General Store__LS - Cleaning Products & Services__taski_products', 'PDCC__H2022 - General Store__LS - Consumables__cake baord', 'PDCC__H2022 - General Store__LS - Consumables__cling film', 'PDCC__H2022 - General Store__LS - Consumables__garbage bag', 'PDCC__H2022 - General Store__LS - Consumables__gloves', 'PDCC__H2022 - General Store__LS - Consumables__lunch box', 'PDCC__H2022 - General Store__LS - Consumables__napkin', 'PDCC__H2022 - General Store__LS - Consumables__paper cup', 'PDCC__H2022 - General Store__LS - Consumables__paper towel', 'PDCC__H2022 - General Store__LS - Consumables__straw', 'PDCC__H2022 - General Store__LS - Consumables__vacuum bag', 'PDCC__H2022 - Hotel Engineering__LS - Cleaning Products & Services__cleaner', 'PDCC__H2022 - Hotel Engineering__LS - Consumables__paint', 'PDCC__H2022 - Hotel Engineering__LS - Consumables__silicon,antifungus', 'PDCC__H2022 - Hotel Engineering__LS - Consumables__tape teflon', 'PDCC__H2022 - Hotel Engineering__LS - Electrical Supplies__battery', 'PDCC__H2022 - Hotel Engineering__LS - Electrical Supplies__fluorescent tube', 'PDCC__H2022 - Hotel Engineering__LS - Electrical Supplies__lamp', 'PDCC__H2022 - Hotel Engineering__LS - Electrical Supplies__led lamp', 'PDCC__H2022 - Hotel Engineering__LS - Electrical Supplies__socket', 'PDCC__H2022 - Hotel Engineering__LS - Electrical Supplies__switch', 'PDCC__H2022 - Human Resources__LS - Fruit Fresh__apple green', 'PDCC__H2022 - Human Resources__LS - Fruit Fresh__coconut whole', 'PDCC__H2022 - Main Kitchen__LS - Bakery Products Chilled__glaze', 'PDCC__H2022 - Main Kitchen__LS - Bakery Products Fresh__bread arabic', 'PDCC__H2022 - Main Kitchen__LS - Bakery Products Fresh__bread pan', 'PDCC__H2022 - Main Kitchen__LS - Bakery Products Fresh__bread toast', 'PDCC__H2022 - Main Kitchen__LS - Bakery Products Frozen__bread', 'PDCC__H2022 - Main Kitchen__LS - Bakery Products Frozen__bread buger', 'PDCC__H2022 - Main Kitchen__LS - Bakery Products Frozen__bread panini', 'PDCC__H2022 - Main Kitchen__LS - Bakery Products Frozen__bread roll', 'PDCC__H2022 - Main Kitchen__LS - Bakery Products Frozen__cocoa butter', 'PDCC__H2022 - Main Kitchen__LS - Bakery Products Frozen__croissant', 'PDCC__H2022 - Main Kitchen__LS - Bakery Products Frozen__danish', 'PDCC__H2022 - Main Kitchen__LS - Bakery Products Frozen__doughnut', 'PDCC__H2022 - Main Kitchen__LS - Bakery Products Frozen__filling', 'PDCC__H2022 - Main Kitchen__LS - Bakery Products Frozen__flour', 'PDCC__H2022 - Main Kitchen__LS - Bakery Products Frozen__glaze', 'PDCC__H2022 - Main Kitchen__LS - Bakery Products Frozen__indian bread', 'PDCC__H2022 - Main Kitchen__LS - Bakery Products Frozen__naan bread', 'PDCC__H2022 - Main Kitchen__LS - Bakery Products Frozen__pizza base', 'PDCC__H2022 - Main Kitchen__LS - Bakery Products Frozen__puff pastry', 'PDCC__H2022 - Main Kitchen__LS - Bakery Products Frozen__puree', 'PDCC__H2022 - Main Kitchen__LS - Bakery Products Frozen__tartlet', 'PDCC__H2022 - Main Kitchen__LS - Consumables__paper cup', 'PDCC__H2022 - Main Kitchen__LS - Dairy Products Fresh__eggs', 'PDCC__H2022 - Main Kitchen__LS - Dairy Products Fresh__eggs white', 'PDCC__H2022 - Main Kitchen__LS - Dairy Products Fresh__labneh balls', 'PDCC__H2022 - Main Kitchen__LS - Dairy Products Fresh__yoghurt', 'PDCC__H2022 - Main Kitchen__LS - Dairy products chilled/frozen__brie cheese', 'PDCC__H2022 - Main Kitchen__LS - Dairy products chilled/frozen__butter', 'PDCC__H2022 - Main Kitchen__LS - Dairy products chilled/frozen__camembert cheese', 'PDCC__H2022 - Main Kitchen__LS - Dairy products chilled/frozen__cheddar cheese', 'PDCC__H2022 - Main Kitchen__LS - Dairy products chilled/frozen__cheese', 'PDCC__H2022 - Main Kitchen__LS - Dairy products chilled/frozen__cream cheese', 'PDCC__H2022 - Main Kitchen__LS - Dairy products chilled/frozen__eggs white liquid', 'PDCC__H2022 - Main Kitchen__LS - Dairy products chilled/frozen__emmental cheese', 'PDCC__H2022 - Main Kitchen__LS - Dairy products chilled/frozen__fatayer', 'PDCC__H2022 - Main Kitchen__LS - Dairy products chilled/frozen__feta cheese', 'PDCC__H2022 - Main Kitchen__LS - Dairy products chilled/frozen__goat cheese', 'PDCC__H2022 - Main Kitchen__LS - Dairy products chilled/frozen__halloumi cheese', 'PDCC__H2022 - Main Kitchen__LS - Dairy products chilled/frozen__ice cream', 'PDCC__H2022 - Main Kitchen__LS - Dairy products chilled/frozen__labneh balls', 'PDCC__H2022 - Main Kitchen__LS - Dairy products chilled/frozen__labneh,full fat', 'PDCC__H2022 - Main Kitchen__LS - Dairy products chilled/frozen__mascarpone cheese', 'PDCC__H2022 - Main Kitchen__LS - Dairy products chilled/frozen__milk powder', 'PDCC__H2022 - Main Kitchen__LS - Dairy products chilled/frozen__mozzarella cheese', 'PDCC__H2022 - Main Kitchen__LS - Dairy products chilled/frozen__pan coating spray', 'PDCC__H2022 - Main Kitchen__LS - Dairy products chilled/frozen__paneer cheese', 'PDCC__H2022 - Main Kitchen__LS - Dairy products chilled/frozen__parmesan cheese', 'PDCC__H2022 - Main Kitchen__LS - Dairy products chilled/frozen__samosa cheese', 'PDCC__H2022 - Main Kitchen__LS - Dairy products chilled/frozen__sour cream', 'PDCC__H2022 - Main Kitchen__LS - Dairy products chilled/frozen__whipping cream', 'PDCC__H2022 - Main Kitchen__LS - Dried Products__cake mix', 'PDCC__H2022 - Main Kitchen__LS - Dried Products__caviar', 'PDCC__H2022 - Main Kitchen__LS - Dried Products__cherry', 'PDCC__H2022 - Main Kitchen__LS - Dried Products__chips tortilla chips', 'PDCC__H2022 - Main Kitchen__LS - Dried Products__chocolate', 'PDCC__H2022 - Main Kitchen__LS - Dried Products__chocolate, milk', 'PDCC__H2022 - Main Kitchen__LS - Dried Products__cocoa butter', 'PDCC__H2022 - Main Kitchen__LS - Dried Products__cocoa powder', 'PDCC__H2022 - Main Kitchen__LS - Dried Products__custard powder', 'PDCC__H2022 - Main Kitchen__LS - Dried Products__deco gel', 'PDCC__H2022 - Main Kitchen__LS - Dried Products__dim sum', 'PDCC__H2022 - Main Kitchen__LS - Dried Products__flour', 'PDCC__H2022 - Main Kitchen__LS - Dried Products__flour bread mix', 'PDCC__H2022 - Main Kitchen__LS - Dried Products__food color', 'PDCC__H2022 - Main Kitchen__LS - Dried Products__gelling agent', 'PDCC__H2022 - Main Kitchen__LS - Dried Products__indian food idli', 'PDCC__H2022 - Main Kitchen__LS - Dried Products__isomalt sugar', 'PDCC__H2022 - Main Kitchen__LS - Dried Products__macaron', 'PDCC__H2022 - Main Kitchen__LS - Dried Products__mashed potato', 'PDCC__H2022 - Main Kitchen__LS - Dried Products__muffin mix', 'PDCC__H2022 - Main Kitchen__LS - Dried Products__mushroom', 'PDCC__H2022 - Main Kitchen__LS - Dried Products__pan coating spray', 'PDCC__H2022 - Main Kitchen__LS - Dried Products__pickles', 'PDCC__H2022 - Main Kitchen__LS - Dried Products__puff pastry', 'PDCC__H2022 - Main Kitchen__LS - Dried Products__thyme leaves', 'PDCC__H2022 - Main Kitchen__LS - Dried Products__yeast', 'PDCC__H2022 - Main Kitchen__LS - Fruit Fresh__apple green', 'PDCC__H2022 - Main Kitchen__LS - Fruit Fresh__apple red', 'PDCC__H2022 - Main Kitchen__LS - Fruit Fresh__avacado', 'PDCC__H2022 - Main Kitchen__LS - Fruit Fresh__banana', 'PDCC__H2022 - Main Kitchen__LS - Fruit Fresh__banana leaves', 'PDCC__H2022 - Main Kitchen__LS - Fruit Fresh__blackberry', 'PDCC__H2022 - Main Kitchen__LS - Fruit Fresh__blueberry', 'PDCC__H2022 - Main Kitchen__LS - Fruit Fresh__cherry', 'PDCC__H2022 - Main Kitchen__LS - Fruit Fresh__coconut whole', 'PDCC__H2022 - Main Kitchen__LS - Fruit Fresh__dragon fruit', 'PDCC__H2022 - Main Kitchen__LS - Fruit Fresh__fig', 'PDCC__H2022 - Main Kitchen__LS - Fruit Fresh__grapes', 'PDCC__H2022 - Main Kitchen__LS - Fruit Fresh__kiwi', 'PDCC__H2022 - Main Kitchen__LS - Fruit Fresh__lemon', 'PDCC__H2022 - Main Kitchen__LS - Fruit Fresh__lime', 'PDCC__H2022 - Main Kitchen__LS - Fruit Fresh__mandarin', 'PDCC__H2022 - Main Kitchen__LS - Fruit Fresh__mango', 'PDCC__H2022 - Main Kitchen__LS - Fruit Fresh__mangosteen', 'PDCC__H2022 - Main Kitchen__LS - Fruit Fresh__melon', 'PDCC__H2022 - Main Kitchen__LS - Fruit Fresh__orange', 'PDCC__H2022 - Main Kitchen__LS - Fruit Fresh__papaya', 'PDCC__H2022 - Main Kitchen__LS - Fruit Fresh__pear', 'PDCC__H2022 - Main Kitchen__LS - Fruit Fresh__pear baby', 'PDCC__H2022 - Main Kitchen__LS - Fruit Fresh__pineapple', 'PDCC__H2022 - Main Kitchen__LS - Fruit Fresh__plum', 'PDCC__H2022 - Main Kitchen__LS - Fruit Fresh__pomegranate', 'PDCC__H2022 - Main Kitchen__LS - Fruit Fresh__rambutan', 'PDCC__H2022 - Main Kitchen__LS - Fruit Fresh__raspberry', 'PDCC__H2022 - Main Kitchen__LS - Fruit Fresh__strawberry', 'PDCC__H2022 - Main Kitchen__LS - Fruits Frozen__puree', 'PDCC__H2022 - Main Kitchen__LS - Fruits Frozen__raspberry', 'PDCC__H2022 - Main Kitchen__LS - Fruits Frozen__salad', 'PDCC__H2022 - Main Kitchen__LS - Meat Frozen__beef', 'PDCC__H2022 - Main Kitchen__LS - Meat Frozen__lamb', 'PDCC__H2022 - Main Kitchen__LS - Meat Frozen__mutton', 'PDCC__H2022 - Main Kitchen__LS - Meat chilled__beef', 'PDCC__H2022 - Main Kitchen__LS - Meat chilled__lamb', 'PDCC__H2022 - Main Kitchen__LS - Pasta Products__pasta, tortelloni', 'PDCC__H2022 - Main Kitchen__LS - Poultry Chilled__chicken', 'PDCC__H2022 - Main Kitchen__LS - Poultry Chilled__eggs yolk', 'PDCC__H2022 - Main Kitchen__LS - Poultry Frozen__chicken', 'PDCC__H2022 - Main Kitchen__LS - Poultry Frozen__duck', 'PDCC__H2022 - Main Kitchen__LS - Processed Food Items__beef bacon', 'PDCC__H2022 - Main Kitchen__LS - Processed Food Items__beef mortadella', 'PDCC__H2022 - Main Kitchen__LS - Processed Food Items__beef pepperoni', 'PDCC__H2022 - Main Kitchen__LS - Processed Food Items__beef sausage', 'PDCC__H2022 - Main Kitchen__LS - Processed Food Items__chicken mortadella', 'PDCC__H2022 - Main Kitchen__LS - Processed Food Items__chicken nuggets', 'PDCC__H2022 - Main Kitchen__LS - Processed Food Items__chicken sausage', 'PDCC__H2022 - Main Kitchen__LS - Processed Food Items__dim sum', 'PDCC__H2022 - Main Kitchen__LS - Processed Food Items__falafel', 'PDCC__H2022 - Main Kitchen__LS - Processed Food Items__fatayer', 'PDCC__H2022 - Main Kitchen__LS - Processed Food Items__kebbeh', 'PDCC__H2022 - Main Kitchen__LS - Processed Food Items__paratha', 'PDCC__H2022 - Main Kitchen__LS - Processed Food Items__sambousek', 'PDCC__H2022 - Main Kitchen__LS - Processed Food Items__samosa, vegetable', 'PDCC__H2022 - Main Kitchen__LS - Processed Food Items__spring roll, chicken', 'PDCC__H2022 - Main Kitchen__LS - Processed Food Items__spring roll, vegetable', 'PDCC__H2022 - Main Kitchen__LS - Sauces and Dressing__cheddar cheese', 'PDCC__H2022 - Main Kitchen__LS - Sauces and Dressing__guacamole', 'PDCC__H2022 - Main Kitchen__LS - Sauces and Dressing__mayonnaise', 'PDCC__H2022 - Main Kitchen__LS - Sauces and Dressing__seaweed', 'PDCC__H2022 - Main Kitchen__LS - Seafood Fresh__crab', 'PDCC__H2022 - Main Kitchen__LS - Seafood Fresh__fish', 'PDCC__H2022 - Main Kitchen__LS - Sweet__arabic sweet', 'PDCC__H2022 - Main Kitchen__LS - Sweet__baklava', 'PDCC__H2022 - Main Kitchen__LS - Sweet__halwa', 'PDCC__H2022 - Main Kitchen__LS - Sweet__indian sweet, gulab jamun', 'PDCC__H2022 - Main Kitchen__LS - Vegetables Fresh__asparagus', 'PDCC__H2022 - Main Kitchen__LS - Vegetables Fresh__baby corn', 'PDCC__H2022 - Main Kitchen__LS - Vegetables Fresh__basil', 'PDCC__H2022 - Main Kitchen__LS - Vegetables Fresh__beans', 'PDCC__H2022 - Main Kitchen__LS - Vegetables Fresh__beetroot', 'PDCC__H2022 - Main Kitchen__LS - Vegetables Fresh__bitter gourd', 'PDCC__H2022 - Main Kitchen__LS - Vegetables Fresh__broccoli', 'PDCC__H2022 - Main Kitchen__LS - Vegetables Fresh__brussels sprouts', 'PDCC__H2022 - Main Kitchen__LS - Vegetables Fresh__butternut', 'PDCC__H2022 - Main Kitchen__LS - Vegetables Fresh__cabbage', 'PDCC__H2022 - Main Kitchen__LS - Vegetables Fresh__capsicum green', 'PDCC__H2022 - Main Kitchen__LS - Vegetables Fresh__capsicum red', 'PDCC__H2022 - Main Kitchen__LS - Vegetables Fresh__capsicum yellow', 'PDCC__H2022 - Main Kitchen__LS - Vegetables Fresh__carrot', 'PDCC__H2022 - Main Kitchen__LS - Vegetables Fresh__carrot yellow', 'PDCC__H2022 - Main Kitchen__LS - Vegetables Fresh__cauliflower', 'PDCC__H2022 - Main Kitchen__LS - Vegetables Fresh__celery', 'PDCC__H2022 - Main Kitchen__LS - Vegetables Fresh__chives leaves', 'PDCC__H2022 - Main Kitchen__LS - Vegetables Fresh__coconut', 'PDCC__H2022 - Main Kitchen__LS - Vegetables Fresh__coriander leaves', 'PDCC__H2022 - Main Kitchen__LS - Vegetables Fresh__cress leaves affila', 'PDCC__H2022 - Main Kitchen__LS - Vegetables Fresh__cress leaves nasturtium', 'PDCC__H2022 - Main Kitchen__LS - Vegetables Fresh__cress leaves sakura', 'PDCC__H2022 - Main Kitchen__LS - Vegetables Fresh__cress leaves shiso', 'PDCC__H2022 - Main Kitchen__LS - Vegetables Fresh__cress leaves sorrel', 'PDCC__H2022 - Main Kitchen__LS - Vegetables Fresh__cucumber', 'PDCC__H2022 - Main Kitchen__LS - Vegetables Fresh__curry leaves', 'PDCC__H2022 - Main Kitchen__LS - Vegetables Fresh__dill leaves', 'PDCC__H2022 - Main Kitchen__LS - Vegetables Fresh__eggplant', 'PDCC__H2022 - Main Kitchen__LS - Vegetables Fresh__endives', 'PDCC__H2022 - Main Kitchen__LS - Vegetables Fresh__fennel root', 'PDCC__H2022 - Main Kitchen__LS - Vegetables Fresh__flower', 'PDCC__H2022 - Main Kitchen__LS - Vegetables Fresh__garlic peeled', 'PDCC__H2022 - Main Kitchen__LS - Vegetables Fresh__ginger', 'PDCC__H2022 - Main Kitchen__LS - Vegetables Fresh__green chilli', 'PDCC__H2022 - Main Kitchen__LS - Vegetables Fresh__kale leaf', 'PDCC__H2022 - Main Kitchen__LS - Vegetables Fresh__lady finger', 'PDCC__H2022 - Main Kitchen__LS - Vegetables Fresh__leeks', 'PDCC__H2022 - Main Kitchen__LS - Vegetables Fresh__lemongrass', 'PDCC__H2022 - Main Kitchen__LS - Vegetables Fresh__lettuce', 'PDCC__H2022 - Main Kitchen__LS - Vegetables Fresh__lime leaves', 'PDCC__H2022 - Main Kitchen__LS - Vegetables Fresh__marrow', 'PDCC__H2022 - Main Kitchen__LS - Vegetables Fresh__mint leaves', 'PDCC__H2022 - Main Kitchen__LS - Vegetables Fresh__onion', 'PDCC__H2022 - Main Kitchen__LS - Vegetables Fresh__onion red', 'PDCC__H2022 - Main Kitchen__LS - Vegetables Fresh__onion spring', 'PDCC__H2022 - Main Kitchen__LS - Vegetables Fresh__pak choi', 'PDCC__H2022 - Main Kitchen__LS - Vegetables Fresh__pandan leaves', 'PDCC__H2022 - Main Kitchen__LS - Vegetables Fresh__parsley leaves', 'PDCC__H2022 - Main Kitchen__LS - Vegetables Fresh__potato baby', 'PDCC__H2022 - Main Kitchen__LS - Vegetables Fresh__potato fresh', 'PDCC__H2022 - Main Kitchen__LS - Vegetables Fresh__potato sweet', 'PDCC__H2022 - Main Kitchen__LS - Vegetables Fresh__radish', 'PDCC__H2022 - Main Kitchen__LS - Vegetables Fresh__red chilli', 'PDCC__H2022 - Main Kitchen__LS - Vegetables Fresh__rosemary', 'PDCC__H2022 - Main Kitchen__LS - Vegetables Fresh__spinach', 'PDCC__H2022 - Main Kitchen__LS - Vegetables Fresh__tomato', 'PDCC__H2022 - Main Kitchen__LS - Vegetables Fresh__truffle', 'PDCC__H2022 - Main Kitchen__LS - Vegetables Fresh__zucchini green', 'PDCC__H2022 - Main Kitchen__LS - Vegetables Fresh__zucchini yellow', 'PDCC__H2022 - Main Kitchen__LS - Vegetables Frozen__eggplant', 'PDCC__H2022 - Main Kitchen__LS - Vegetables Frozen__green peas', 'PDCC__H2022 - Main Kitchen__LS - Vegetables Frozen__hash browns', 'PDCC__H2022 - Main Kitchen__LS - Vegetables Frozen__okra', 'PDCC__H2022 - Main Kitchen__LS - Vegetables Frozen__potato french fries', 'PDCC__H2022 - Main Kitchen__LS - Vegetables Frozen__spinach leaf', 'PDCC__H2022 - Main Kitchen__LS - Vegetables Frozen__vegetable mix', 'PDCC__H2022 - Main Kitchen__LS - Vegetables Frozen__vine leaves', 'PDCC__H2022 - Main Kitchen__LS - seafood Frozen__clams', 'PDCC__H2022 - Main Kitchen__LS - seafood Frozen__crab sticks', 'PDCC__H2022 - Main Kitchen__LS - seafood Frozen__fish', 'PDCC__H2022 - Main Kitchen__LS - seafood Frozen__fish roe', 'PDCC__H2022 - Main Kitchen__LS - seafood Frozen__lobster', 'PDCC__H2022 - Main Kitchen__LS - seafood Frozen__mussels', 'PDCC__H2022 - Main Kitchen__LS - seafood Frozen__prawn', 'PDCC__H2022 - Main Kitchen__LS - seafood Frozen__scallop', 'PDCC__H2022 - Main Kitchen__LS - seafood Frozen__shrimp', 'PDCC__H2022 - Main Kitchen__LS - seafood Frozen__squid tubes', 'PDCC__H2022 - Main Kitchen__LS - seafood Frozen__sushi shrimp', 'PDCC__H2022 - Soma Spa__LS - Cleaning Products__massage oil', 'PDCC__H2022 - Soma Spa__LS - Fruit Fresh__apple green']\n",
      "Unselected Unique IDs count:  3790\n",
      "Unselected Unique IDs:  ['ADAGIO__Catering__LS - Dried Products__basmati rice', 'ADAGIO__Catering__LS - Dried Products__jalebi', 'ADAGIO__Catering__LS - Dried Products__onion', 'ADAGIO__Catering__LS - Meat Frozen__beef', 'ADAGIO__Catering__LS - Meat Frozen__mutton', 'ADAGIO__Catering__LS - Poultry Frozen__chicken drumstick', 'ADAGIO__Catering__LS - Sweet__indian sweet', 'ADAGIO__Catering__LS - Sweet__indian sweet, gulab jamun', 'ADAGIO__F&B General__LS - Consumables__cup,plastic', 'ADAGIO__F&B General__LS - Consumables__liner base', 'ADAGIO__F&B General__LS - Consumables__lunch box', 'ADAGIO__F&B General__LS - Consumables__napkin', 'ADAGIO__F&B General__LS - Consumables__paper bag', 'ADAGIO__F&B General__LS - Consumables__paper roll', 'ADAGIO__F&B General__LS - Consumables__ribbon cartridge', 'ADAGIO__F&B General__LS - Consumables__stirrer', 'ADAGIO__F&B General__LS - Dairy Products Fresh__milk oat', 'ADAGIO__F&B General__LS - Dairy products chilled/frozen__milk', 'ADAGIO__F&B General__LS - Dairy products chilled/frozen__milk almond', 'ADAGIO__F&B General__LS - Dried Products__cereal', 'ADAGIO__F&B General__LS - Dried Products__honey', 'ADAGIO__F&B General__LS - Dried Products__sugar sweetener', 'ADAGIO__F&B General__LS - Fruits Frozen__strawberry', 'ADAGIO__F&B General__LS - Sauces and Dressing__hot sauce', 'ADAGIO__F&B General__LS - Sauces and Dressing__jam', 'ADAGIO__F&B General__LS - Sauces and Dressing__jam orange', 'ADAGIO__F&B General__LS - Sauces and Dressing__jam strawberry', 'ADAGIO__F&B General__LS - Sauces and Dressing__mayonnaise', 'ADAGIO__F&B Kitchen__LS - Bakery Products Chilled__glaze', 'ADAGIO__F&B Kitchen__LS - Bakery Products Chilled__pie filling', 'ADAGIO__F&B Kitchen__LS - Bakery Products Chilled__vinegar', 'ADAGIO__F&B Kitchen__LS - Bakery Products Fresh__bread', 'ADAGIO__F&B Kitchen__LS - Bakery Products Fresh__bread buger', 'ADAGIO__F&B Kitchen__LS - Bakery Products Fresh__bread ciabatta', 'ADAGIO__F&B Kitchen__LS - Bakery Products Fresh__bread grissini', 'ADAGIO__F&B Kitchen__LS - Bakery Products Fresh__bread roll', 'ADAGIO__F&B Kitchen__LS - Bakery Products Fresh__cooking oil', 'ADAGIO__F&B Kitchen__LS - Bakery Products Fresh__croissant', 'ADAGIO__F&B Kitchen__LS - Bakery Products Fresh__ginger bread', 'ADAGIO__F&B Kitchen__LS - Bakery Products Fresh__muffin mix', 'ADAGIO__F&B Kitchen__LS - Bakery Products Fresh__puff pastry', 'ADAGIO__F&B Kitchen__LS - Bakery Products Frozen__biscuit', 'ADAGIO__F&B Kitchen__LS - Bakery Products Frozen__bread ciabatta', 'ADAGIO__F&B Kitchen__LS - Bakery Products Frozen__bread focaccia', 'ADAGIO__F&B Kitchen__LS - Bakery Products Frozen__bread grissini', 'ADAGIO__F&B Kitchen__LS - Bakery Products Frozen__bread rice', 'ADAGIO__F&B Kitchen__LS - Bakery Products Frozen__bread toast', 'ADAGIO__F&B Kitchen__LS - Bakery Products Frozen__bread, bagel', 'ADAGIO__F&B Kitchen__LS - Bakery Products Frozen__bread, focaccia', 'ADAGIO__F&B Kitchen__LS - Bakery Products Frozen__bread, kraftkorn', 'ADAGIO__F&B Kitchen__LS - Bakery Products Frozen__cake', 'ADAGIO__F&B Kitchen__LS - Bakery Products Frozen__cheese cake', 'ADAGIO__F&B Kitchen__LS - Bakery Products Frozen__cinnamon swirl', 'ADAGIO__F&B Kitchen__LS - Bakery Products Frozen__cocoa butter', 'ADAGIO__F&B Kitchen__LS - Bakery Products Frozen__cookies', 'ADAGIO__F&B Kitchen__LS - Bakery Products Frozen__corn tortilla', 'ADAGIO__F&B Kitchen__LS - Bakery Products Frozen__cranberry sauce', 'ADAGIO__F&B Kitchen__LS - Bakery Products Frozen__demi glace powder', 'ADAGIO__F&B Kitchen__LS - Bakery Products Frozen__dim sum', 'ADAGIO__F&B Kitchen__LS - Bakery Products Frozen__dough', 'ADAGIO__F&B Kitchen__LS - Bakery Products Frozen__doughnut', 'ADAGIO__F&B Kitchen__LS - Bakery Products Frozen__eclair', 'ADAGIO__F&B Kitchen__LS - Bakery Products Frozen__filling', 'ADAGIO__F&B Kitchen__LS - Bakery Products Frozen__ginger bread', 'ADAGIO__F&B Kitchen__LS - Bakery Products Frozen__hotdog', 'ADAGIO__F&B Kitchen__LS - Bakery Products Frozen__kebbeh', 'ADAGIO__F&B Kitchen__LS - Bakery Products Frozen__macaroon', 'ADAGIO__F&B Kitchen__LS - Bakery Products Frozen__naan bread', 'ADAGIO__F&B Kitchen__LS - Bakery Products Frozen__paratha', 'ADAGIO__F&B Kitchen__LS - Bakery Products Frozen__pie filling', 'ADAGIO__F&B Kitchen__LS - Bakery Products Frozen__pizza base', 'ADAGIO__F&B Kitchen__LS - Bakery Products Frozen__puff pastry', 'ADAGIO__F&B Kitchen__LS - Bakery Products Frozen__puree', 'ADAGIO__F&B Kitchen__LS - Bakery Products Frozen__spring roll, vegetable', 'ADAGIO__F&B Kitchen__LS - Bakery Products Frozen__tart shell', 'ADAGIO__F&B Kitchen__LS - Bakery Products Frozen__tiramisu cake', 'ADAGIO__F&B Kitchen__LS - Cleaning Products & Services__cleaning tablet rational', 'ADAGIO__F&B Kitchen__LS - Cleaning Products & Services__dust pan with brush', 'ADAGIO__F&B Kitchen__LS - Cleaning Products & Services__floor wiper', 'ADAGIO__F&B Kitchen__LS - Cleaning Products & Services__paper towel', 'ADAGIO__F&B Kitchen__LS - Cleaning Products & Services__scouring pad part no 2020', 'ADAGIO__F&B Kitchen__LS - Cleaning Products & Services__soap sun', 'ADAGIO__F&B Kitchen__LS - Cleaning Products & Services__suma a5', 'ADAGIO__F&B Kitchen__LS - Cleaning Products & Services__suma d16', 'ADAGIO__F&B Kitchen__LS - Cleaning Products & Services__suma d2', 'ADAGIO__F&B Kitchen__LS - Cleaning Products & Services__suma d4', 'ADAGIO__F&B Kitchen__LS - Cleaning Products & Services__suma d5.2', 'ADAGIO__F&B Kitchen__LS - Cleaning Products & Services__suma d9', 'ADAGIO__F&B Kitchen__LS - Cleaning Products & Services__suma k2', 'ADAGIO__F&B Kitchen__LS - Cleaning Products & Services__suma l4', 'ADAGIO__F&B Kitchen__LS - Cleaning Products & Services__suma ma1', 'ADAGIO__F&B Kitchen__LS - Cleaning Products & Services__suma nova l6', 'ADAGIO__F&B Kitchen__LS - Consumables__aluminum foil', 'ADAGIO__F&B Kitchen__LS - Consumables__bamboo pick', 'ADAGIO__F&B Kitchen__LS - Consumables__bamboo skewer', 'ADAGIO__F&B Kitchen__LS - Consumables__cake', 'ADAGIO__F&B Kitchen__LS - Consumables__cake baord', 'ADAGIO__F&B Kitchen__LS - Consumables__cake box', 'ADAGIO__F&B Kitchen__LS - Consumables__charcoal', 'ADAGIO__F&B Kitchen__LS - Consumables__cling film', 'ADAGIO__F&B Kitchen__LS - Consumables__clip board', 'ADAGIO__F&B Kitchen__LS - Consumables__cone', 'ADAGIO__F&B Kitchen__LS - Consumables__cup', 'ADAGIO__F&B Kitchen__LS - Consumables__face mask', 'ADAGIO__F&B Kitchen__LS - Consumables__flower', 'ADAGIO__F&B Kitchen__LS - Consumables__garbage bag', 'ADAGIO__F&B Kitchen__LS - Consumables__gloves', 'ADAGIO__F&B Kitchen__LS - Consumables__hair net', 'ADAGIO__F&B Kitchen__LS - Consumables__hand fuel', 'ADAGIO__F&B Kitchen__LS - Consumables__hydrion test strips', 'ADAGIO__F&B Kitchen__LS - Consumables__lighter gel', 'ADAGIO__F&B Kitchen__LS - Consumables__paper', 'ADAGIO__F&B Kitchen__LS - Consumables__paper cup', 'ADAGIO__F&B Kitchen__LS - Consumables__paper roll', 'ADAGIO__F&B Kitchen__LS - Consumables__paper towel', 'ADAGIO__F&B Kitchen__LS - Consumables__piping bag', 'ADAGIO__F&B Kitchen__LS - Consumables__propane gas', 'ADAGIO__F&B Kitchen__LS - Consumables__scotch tape', 'ADAGIO__F&B Kitchen__LS - Consumables__scrubbing pad', 'ADAGIO__F&B Kitchen__LS - Consumables__toilet paper roll', 'ADAGIO__F&B Kitchen__LS - Consumables__toner', 'ADAGIO__F&B Kitchen__LS - Consumables__vacuum bag', 'ADAGIO__F&B Kitchen__LS - Consumables__wall hanger', 'ADAGIO__F&B Kitchen__LS - Dairy Products Fresh__coconut cream', 'ADAGIO__F&B Kitchen__LS - Dairy Products Fresh__eggs', 'ADAGIO__F&B Kitchen__LS - Dairy Products Fresh__eggs shell', 'ADAGIO__F&B Kitchen__LS - Dairy Products Fresh__labneh balls', 'ADAGIO__F&B Kitchen__LS - Dairy Products Fresh__labneh,full fat', 'ADAGIO__F&B Kitchen__LS - Dairy Products Fresh__milk', 'ADAGIO__F&B Kitchen__LS - Dairy Products Fresh__quail eggs', 'ADAGIO__F&B Kitchen__LS - Dairy Products Fresh__sour cream', 'ADAGIO__F&B Kitchen__LS - Dairy Products Fresh__whipping cream', 'ADAGIO__F&B Kitchen__LS - Dairy products chilled/frozen__almond flakes', 'ADAGIO__F&B Kitchen__LS - Dairy products chilled/frozen__asiago cheese', 'ADAGIO__F&B Kitchen__LS - Dairy products chilled/frozen__bean curd', 'ADAGIO__F&B Kitchen__LS - Dairy products chilled/frozen__bread loaf', 'ADAGIO__F&B Kitchen__LS - Dairy products chilled/frozen__bread roll', 'ADAGIO__F&B Kitchen__LS - Dairy products chilled/frozen__burrata cheese', 'ADAGIO__F&B Kitchen__LS - Dairy products chilled/frozen__camembert bites', 'ADAGIO__F&B Kitchen__LS - Dairy products chilled/frozen__camembert cheese', 'ADAGIO__F&B Kitchen__LS - Dairy products chilled/frozen__cheese', 'ADAGIO__F&B Kitchen__LS - Dairy products chilled/frozen__cheese lancashire', 'ADAGIO__F&B Kitchen__LS - Dairy products chilled/frozen__cheese platter', 'ADAGIO__F&B Kitchen__LS - Dairy products chilled/frozen__chocolate', 'ADAGIO__F&B Kitchen__LS - Dairy products chilled/frozen__clotted cream', 'ADAGIO__F&B Kitchen__LS - Dairy products chilled/frozen__coconut milk', 'ADAGIO__F&B Kitchen__LS - Dairy products chilled/frozen__edam cheese', 'ADAGIO__F&B Kitchen__LS - Dairy products chilled/frozen__ghee', 'ADAGIO__F&B Kitchen__LS - Dairy products chilled/frozen__goat cheese', 'ADAGIO__F&B Kitchen__LS - Dairy products chilled/frozen__gouda cheese', 'ADAGIO__F&B Kitchen__LS - Dairy products chilled/frozen__labneh balls', 'ADAGIO__F&B Kitchen__LS - Dairy products chilled/frozen__machego cheese', 'ADAGIO__F&B Kitchen__LS - Dairy products chilled/frozen__mascarpone cheese', 'ADAGIO__F&B Kitchen__LS - Dairy products chilled/frozen__milk almond', 'ADAGIO__F&B Kitchen__LS - Dairy products chilled/frozen__milk powder', 'ADAGIO__F&B Kitchen__LS - Dairy products chilled/frozen__mimolette cheese', 'ADAGIO__F&B Kitchen__LS - Dairy products chilled/frozen__multi cream', 'ADAGIO__F&B Kitchen__LS - Dairy products chilled/frozen__pan coating spray', 'ADAGIO__F&B Kitchen__LS - Dairy products chilled/frozen__paneer cheese', 'ADAGIO__F&B Kitchen__LS - Dairy products chilled/frozen__peanut butter', 'ADAGIO__F&B Kitchen__LS - Dairy products chilled/frozen__pie filling', 'ADAGIO__F&B Kitchen__LS - Dairy products chilled/frozen__provolone cheese', 'ADAGIO__F&B Kitchen__LS - Dairy products chilled/frozen__raspberry', 'ADAGIO__F&B Kitchen__LS - Dairy products chilled/frozen__ricotta cheese', 'ADAGIO__F&B Kitchen__LS - Dairy products chilled/frozen__scamorza cheese', 'ADAGIO__F&B Kitchen__LS - Dairy products chilled/frozen__sour cream', 'ADAGIO__F&B Kitchen__LS - Dried Products__ajwain seeds', 'ADAGIO__F&B Kitchen__LS - Dried Products__almond powder', 'ADAGIO__F&B Kitchen__LS - Dried Products__anise star', 'ADAGIO__F&B Kitchen__LS - Dried Products__arabic sweet', 'ADAGIO__F&B Kitchen__LS - Dried Products__artichoke', 'ADAGIO__F&B Kitchen__LS - Dried Products__awamat', 'ADAGIO__F&B Kitchen__LS - Dried Products__baking powder', 'ADAGIO__F&B Kitchen__LS - Dried Products__basbusa', 'ADAGIO__F&B Kitchen__LS - Dried Products__bay leave', 'ADAGIO__F&B Kitchen__LS - Dried Products__bean curd', 'ADAGIO__F&B Kitchen__LS - Dried Products__beans', 'ADAGIO__F&B Kitchen__LS - Dried Products__berries', 'ADAGIO__F&B Kitchen__LS - Dried Products__bicarbonate soda', 'ADAGIO__F&B Kitchen__LS - Dried Products__biryani masala', 'ADAGIO__F&B Kitchen__LS - Dried Products__bread', 'ADAGIO__F&B Kitchen__LS - Dried Products__bread buger', 'ADAGIO__F&B Kitchen__LS - Dried Products__bread ciabatta', 'ADAGIO__F&B Kitchen__LS - Dried Products__bread crumbs', 'ADAGIO__F&B Kitchen__LS - Dried Products__bread pan', 'ADAGIO__F&B Kitchen__LS - Dried Products__bread roll', 'ADAGIO__F&B Kitchen__LS - Dried Products__bread toast', 'ADAGIO__F&B Kitchen__LS - Dried Products__burghul', 'ADAGIO__F&B Kitchen__LS - Dried Products__cake decoration', 'ADAGIO__F&B Kitchen__LS - Dried Products__cake mix', 'ADAGIO__F&B Kitchen__LS - Dried Products__candy', 'ADAGIO__F&B Kitchen__LS - Dried Products__canola oil', 'ADAGIO__F&B Kitchen__LS - Dried Products__capers', 'ADAGIO__F&B Kitchen__LS - Dried Products__cardamom powder', 'ADAGIO__F&B Kitchen__LS - Dried Products__cardamom whole', 'ADAGIO__F&B Kitchen__LS - Dried Products__caviar', 'ADAGIO__F&B Kitchen__LS - Dried Products__cereal', 'ADAGIO__F&B Kitchen__LS - Dried Products__chat masala', 'ADAGIO__F&B Kitchen__LS - Dried Products__chili oil', 'ADAGIO__F&B Kitchen__LS - Dried Products__chilli crushed', 'ADAGIO__F&B Kitchen__LS - Dried Products__chilli dried', 'ADAGIO__F&B Kitchen__LS - Dried Products__chilli paste', 'ADAGIO__F&B Kitchen__LS - Dried Products__chilli whole', 'ADAGIO__F&B Kitchen__LS - Dried Products__chips hamburger', 'ADAGIO__F&B Kitchen__LS - Dried Products__chips, potato chips', 'ADAGIO__F&B Kitchen__LS - Dried Products__chocolate, milk', 'ADAGIO__F&B Kitchen__LS - Dried Products__cinnamon powder', 'ADAGIO__F&B Kitchen__LS - Dried Products__cinnamon stick', 'ADAGIO__F&B Kitchen__LS - Dried Products__cloves', 'ADAGIO__F&B Kitchen__LS - Dried Products__cocktail', 'ADAGIO__F&B Kitchen__LS - Dried Products__cocoa powder', 'ADAGIO__F&B Kitchen__LS - Dried Products__cone', 'ADAGIO__F&B Kitchen__LS - Dried Products__coriander powder', 'ADAGIO__F&B Kitchen__LS - Dried Products__coriander seeds', 'ADAGIO__F&B Kitchen__LS - Dried Products__corn flake', 'ADAGIO__F&B Kitchen__LS - Dried Products__corn flour', 'ADAGIO__F&B Kitchen__LS - Dried Products__corn tortilla', 'ADAGIO__F&B Kitchen__LS - Dried Products__corn_sweet', 'ADAGIO__F&B Kitchen__LS - Dried Products__couscous', 'ADAGIO__F&B Kitchen__LS - Dried Products__crab sticks', 'ADAGIO__F&B Kitchen__LS - Dried Products__cumin powder', 'ADAGIO__F&B Kitchen__LS - Dried Products__cumin seeds', 'ADAGIO__F&B Kitchen__LS - Dried Products__curry paste', 'ADAGIO__F&B Kitchen__LS - Dried Products__curry powder', 'ADAGIO__F&B Kitchen__LS - Dried Products__custard powder', 'ADAGIO__F&B Kitchen__LS - Dried Products__dates', 'ADAGIO__F&B Kitchen__LS - Dried Products__fennel seeds', 'ADAGIO__F&B Kitchen__LS - Dried Products__fenugreek seeds', 'ADAGIO__F&B Kitchen__LS - Dried Products__fig', 'ADAGIO__F&B Kitchen__LS - Dried Products__filling blueberry', 'ADAGIO__F&B Kitchen__LS - Dried Products__filling pie', 'ADAGIO__F&B Kitchen__LS - Dried Products__fish cake', 'ADAGIO__F&B Kitchen__LS - Dried Products__fish fillet', 'ADAGIO__F&B Kitchen__LS - Dried Products__flax seeds', 'ADAGIO__F&B Kitchen__LS - Dried Products__flour bread mix', 'ADAGIO__F&B Kitchen__LS - Dried Products__food color', 'ADAGIO__F&B Kitchen__LS - Dried Products__frying oil', 'ADAGIO__F&B Kitchen__LS - Dried Products__garam masala', 'ADAGIO__F&B Kitchen__LS - Dried Products__garlic powder', 'ADAGIO__F&B Kitchen__LS - Dried Products__gelatin leaf', 'ADAGIO__F&B Kitchen__LS - Dried Products__ghee', 'ADAGIO__F&B Kitchen__LS - Dried Products__gherkin', 'ADAGIO__F&B Kitchen__LS - Dried Products__ginger bread', 'ADAGIO__F&B Kitchen__LS - Dried Products__ginger powder', 'ADAGIO__F&B Kitchen__LS - Dried Products__glaze', 'ADAGIO__F&B Kitchen__LS - Dried Products__halawet al jeben', 'ADAGIO__F&B Kitchen__LS - Dried Products__halwa', 'ADAGIO__F&B Kitchen__LS - Dried Products__horseradish sauce', 'ADAGIO__F&B Kitchen__LS - Dried Products__indian food idli', 'ADAGIO__F&B Kitchen__LS - Dried Products__indian snacks', 'ADAGIO__F&B Kitchen__LS - Dried Products__indian spice', 'ADAGIO__F&B Kitchen__LS - Dried Products__jaggery', 'ADAGIO__F&B Kitchen__LS - Dried Products__jalapeno pepper', 'ADAGIO__F&B Kitchen__LS - Dried Products__jalebi', 'ADAGIO__F&B Kitchen__LS - Dried Products__jam blueberry', 'ADAGIO__F&B Kitchen__LS - Dried Products__kare kare', 'ADAGIO__F&B Kitchen__LS - Dried Products__kasuri methi', 'ADAGIO__F&B Kitchen__LS - Dried Products__kiwi', 'ADAGIO__F&B Kitchen__LS - Dried Products__kunafa', 'ADAGIO__F&B Kitchen__LS - Dried Products__lemon', 'ADAGIO__F&B Kitchen__LS - Dried Products__mango', 'ADAGIO__F&B Kitchen__LS - Dried Products__masala', 'ADAGIO__F&B Kitchen__LS - Dried Products__milk', 'ADAGIO__F&B Kitchen__LS - Dried Products__mince pie', 'ADAGIO__F&B Kitchen__LS - Dried Products__mixed fruit', 'ADAGIO__F&B Kitchen__LS - Dried Products__mograbiah', 'ADAGIO__F&B Kitchen__LS - Dried Products__muesli', 'ADAGIO__F&B Kitchen__LS - Dried Products__mustard', 'ADAGIO__F&B Kitchen__LS - Dried Products__mustard oil', 'ADAGIO__F&B Kitchen__LS - Dried Products__mustard seeds', 'ADAGIO__F&B Kitchen__LS - Dried Products__nutella', 'ADAGIO__F&B Kitchen__LS - Dried Products__nutmeg', 'ADAGIO__F&B Kitchen__LS - Dried Products__olives green', 'ADAGIO__F&B Kitchen__LS - Dried Products__onion', 'ADAGIO__F&B Kitchen__LS - Dried Products__oregano leave', 'ADAGIO__F&B Kitchen__LS - Dried Products__oregano leaves', 'ADAGIO__F&B Kitchen__LS - Dried Products__pancake', 'ADAGIO__F&B Kitchen__LS - Dried Products__papad', 'ADAGIO__F&B Kitchen__LS - Dried Products__paprika powder', 'ADAGIO__F&B Kitchen__LS - Dried Products__peanuts', 'ADAGIO__F&B Kitchen__LS - Dried Products__pear halves', 'ADAGIO__F&B Kitchen__LS - Dried Products__pearl', 'ADAGIO__F&B Kitchen__LS - Dried Products__pecan nuts', 'ADAGIO__F&B Kitchen__LS - Dried Products__pepper black powder', 'ADAGIO__F&B Kitchen__LS - Dried Products__pepper black whole', 'ADAGIO__F&B Kitchen__LS - Dried Products__pepper white powder', 'ADAGIO__F&B Kitchen__LS - Dried Products__pine seeds', 'ADAGIO__F&B Kitchen__LS - Dried Products__pineapple', 'ADAGIO__F&B Kitchen__LS - Dried Products__pistachio', 'ADAGIO__F&B Kitchen__LS - Dried Products__popcorn', 'ADAGIO__F&B Kitchen__LS - Dried Products__puff pastry', 'ADAGIO__F&B Kitchen__LS - Dried Products__raspberry', 'ADAGIO__F&B Kitchen__LS - Dried Products__rice paper', 'ADAGIO__F&B Kitchen__LS - Dried Products__rice poha', 'ADAGIO__F&B Kitchen__LS - Dried Products__rose petals', 'ADAGIO__F&B Kitchen__LS - Dried Products__saffron leaves', 'ADAGIO__F&B Kitchen__LS - Dried Products__sago seeds', 'ADAGIO__F&B Kitchen__LS - Dried Products__salsa', 'ADAGIO__F&B Kitchen__LS - Dried Products__sambar masala', 'ADAGIO__F&B Kitchen__LS - Dried Products__seasoning', 'ADAGIO__F&B Kitchen__LS - Dried Products__seaweed sheets', 'ADAGIO__F&B Kitchen__LS - Dried Products__semolina', 'ADAGIO__F&B Kitchen__LS - Dried Products__sesame oil', 'ADAGIO__F&B Kitchen__LS - Dried Products__sesame seeds', 'ADAGIO__F&B Kitchen__LS - Dried Products__shortening oil', 'ADAGIO__F&B Kitchen__LS - Dried Products__shrimp paste', 'ADAGIO__F&B Kitchen__LS - Dried Products__snail', 'ADAGIO__F&B Kitchen__LS - Dried Products__soya beans', 'ADAGIO__F&B Kitchen__LS - Dried Products__soya lecithin', 'ADAGIO__F&B Kitchen__LS - Dried Products__soyabean oil', 'ADAGIO__F&B Kitchen__LS - Dried Products__spices', 'ADAGIO__F&B Kitchen__LS - Dried Products__strawberry', 'ADAGIO__F&B Kitchen__LS - Dried Products__sugar brown', 'ADAGIO__F&B Kitchen__LS - Dried Products__sugar caster', 'ADAGIO__F&B Kitchen__LS - Dried Products__sugar paste', 'ADAGIO__F&B Kitchen__LS - Dried Products__sumac powder', 'ADAGIO__F&B Kitchen__LS - Dried Products__syrup', 'ADAGIO__F&B Kitchen__LS - Dried Products__syrup,peach', 'ADAGIO__F&B Kitchen__LS - Dried Products__syrup,pear', 'ADAGIO__F&B Kitchen__LS - Dried Products__taco shell', 'ADAGIO__F&B Kitchen__LS - Dried Products__tamarind', 'ADAGIO__F&B Kitchen__LS - Dried Products__tart shell', 'ADAGIO__F&B Kitchen__LS - Dried Products__thyme leaves', 'ADAGIO__F&B Kitchen__LS - Dried Products__tom yum', 'ADAGIO__F&B Kitchen__LS - Dried Products__tomato chopped', 'ADAGIO__F&B Kitchen__LS - Dried Products__tomato paste', 'ADAGIO__F&B Kitchen__LS - Dried Products__tomato sundried', 'ADAGIO__F&B Kitchen__LS - Dried Products__truffle oil', 'ADAGIO__F&B Kitchen__LS - Dried Products__turmeric powder', 'ADAGIO__F&B Kitchen__LS - Dried Products__vegetable stock', 'ADAGIO__F&B Kitchen__LS - Dried Products__vine leaves', 'ADAGIO__F&B Kitchen__LS - Dried Products__wasabi powder', 'ADAGIO__F&B Kitchen__LS - Dried Products__wheat', 'ADAGIO__F&B Kitchen__LS - Dried Products__yeast', 'ADAGIO__F&B Kitchen__LS - Fruit Fresh__apple golden', 'ADAGIO__F&B Kitchen__LS - Fruit Fresh__apple red', 'ADAGIO__F&B Kitchen__LS - Fruit Fresh__apricot', 'ADAGIO__F&B Kitchen__LS - Fruit Fresh__cherry', 'ADAGIO__F&B Kitchen__LS - Fruit Fresh__clementine', 'ADAGIO__F&B Kitchen__LS - Fruit Fresh__cranberry', 'ADAGIO__F&B Kitchen__LS - Fruit Fresh__dates', 'ADAGIO__F&B Kitchen__LS - Fruit Fresh__fig', 'ADAGIO__F&B Kitchen__LS - Fruit Fresh__flower', 'ADAGIO__F&B Kitchen__LS - Fruit Fresh__gooseberry', 'ADAGIO__F&B Kitchen__LS - Fruit Fresh__kumquat orange', 'ADAGIO__F&B Kitchen__LS - Fruit Fresh__longan', 'ADAGIO__F&B Kitchen__LS - Fruit Fresh__lychee', 'ADAGIO__F&B Kitchen__LS - Fruit Fresh__nectarine', 'ADAGIO__F&B Kitchen__LS - Fruit Fresh__peach', 'ADAGIO__F&B Kitchen__LS - Fruit Fresh__pear baby', 'ADAGIO__F&B Kitchen__LS - Fruit Fresh__pear coscia', 'ADAGIO__F&B Kitchen__LS - Fruit Fresh__pear nashi', 'ADAGIO__F&B Kitchen__LS - Fruit Fresh__persimmon', 'ADAGIO__F&B Kitchen__LS - Fruit Fresh__physalis', 'ADAGIO__F&B Kitchen__LS - Fruit Fresh__plum', 'ADAGIO__F&B Kitchen__LS - Fruit Fresh__pomelo', 'ADAGIO__F&B Kitchen__LS - Fruit Fresh__red currant', 'ADAGIO__F&B Kitchen__LS - Fruit Fresh__redcurrant', 'ADAGIO__F&B Kitchen__LS - Fruit Fresh__turmeric', 'ADAGIO__F&B Kitchen__LS - Fruits Frozen__avacado', 'ADAGIO__F&B Kitchen__LS - Fruits Frozen__blueberry', 'ADAGIO__F&B Kitchen__LS - Fruits Frozen__cherry', 'ADAGIO__F&B Kitchen__LS - Fruits Frozen__chestnut peeled', 'ADAGIO__F&B Kitchen__LS - Fruits Frozen__coconut water', 'ADAGIO__F&B Kitchen__LS - Fruits Frozen__mixed berries', 'ADAGIO__F&B Kitchen__LS - Fruits Frozen__mixed berry', 'ADAGIO__F&B Kitchen__LS - Fruits Frozen__pineapple', 'ADAGIO__F&B Kitchen__LS - Fruits Frozen__strawberry', 'ADAGIO__F&B Kitchen__LS - Meat Fresh__beef', 'ADAGIO__F&B Kitchen__LS - Meat Fresh__lamb', 'ADAGIO__F&B Kitchen__LS - Meat Fresh__mutton', 'ADAGIO__F&B Kitchen__LS - Meat Frozen__mutton', 'ADAGIO__F&B Kitchen__LS - Meat Frozen__turkey', 'ADAGIO__F&B Kitchen__LS - Meat Frozen__veal', 'ADAGIO__F&B Kitchen__LS - Meat chilled__chicken', 'ADAGIO__F&B Kitchen__LS - Meat chilled__mutton', 'ADAGIO__F&B Kitchen__LS - Pasta Products__pasta, cannelloni', 'ADAGIO__F&B Kitchen__LS - Pasta Products__pasta, fusilli', 'ADAGIO__F&B Kitchen__LS - Pasta Products__pasta, gnocchi', 'ADAGIO__F&B Kitchen__LS - Pasta Products__pasta, lasagne', 'ADAGIO__F&B Kitchen__LS - Pasta Products__pasta, linguine', 'ADAGIO__F&B Kitchen__LS - Pasta Products__pasta, macaroni', 'ADAGIO__F&B Kitchen__LS - Pasta Products__pasta, ravioli', 'ADAGIO__F&B Kitchen__LS - Pasta Products__pasta, tagliatelle', 'ADAGIO__F&B Kitchen__LS - Pasta Products__pasta, tortelloni', 'ADAGIO__F&B Kitchen__LS - Pasta Products__pasta, vermicelli', 'ADAGIO__F&B Kitchen__LS - Poultry Chilled__chicken', 'ADAGIO__F&B Kitchen__LS - Poultry Chilled__duck', 'ADAGIO__F&B Kitchen__LS - Poultry Chilled__turkey', 'ADAGIO__F&B Kitchen__LS - Poultry Fresh__chicken', 'ADAGIO__F&B Kitchen__LS - Poultry Fresh__eggs white', 'ADAGIO__F&B Kitchen__LS - Poultry Frozen__chicken drumstick', 'ADAGIO__F&B Kitchen__LS - Poultry Frozen__chicken nuggets', 'ADAGIO__F&B Kitchen__LS - Poultry Frozen__chicken shawarma', 'ADAGIO__F&B Kitchen__LS - Poultry Frozen__duck', 'ADAGIO__F&B Kitchen__LS - Poultry Frozen__turkey bacon', 'ADAGIO__F&B Kitchen__LS - Processed Food Items__beef bacon', 'ADAGIO__F&B Kitchen__LS - Processed Food Items__beef burger', 'ADAGIO__F&B Kitchen__LS - Processed Food Items__beef pepperoni', 'ADAGIO__F&B Kitchen__LS - Processed Food Items__bread, baguette', 'ADAGIO__F&B Kitchen__LS - Processed Food Items__chicken', 'ADAGIO__F&B Kitchen__LS - Processed Food Items__dim sum', 'ADAGIO__F&B Kitchen__LS - Processed Food Items__fatayer', 'ADAGIO__F&B Kitchen__LS - Processed Food Items__fish', 'ADAGIO__F&B Kitchen__LS - Processed Food Items__pizza', 'ADAGIO__F&B Kitchen__LS - Processed Food Items__potato chaat', 'ADAGIO__F&B Kitchen__LS - Processed Food Items__sambousek', 'ADAGIO__F&B Kitchen__LS - Processed Food Items__samosa chicken', 'ADAGIO__F&B Kitchen__LS - Processed Food Items__samosa punjabi', 'ADAGIO__F&B Kitchen__LS - Processed Food Items__samosa, vegetable', 'ADAGIO__F&B Kitchen__LS - Processed Food Items__sausage', 'ADAGIO__F&B Kitchen__LS - Processed Food Items__spring roll, cheese', 'ADAGIO__F&B Kitchen__LS - Processed Food Items__spring roll, chicken', 'ADAGIO__F&B Kitchen__LS - Processed Food Items__spring roll, vegetable', 'ADAGIO__F&B Kitchen__LS - Processed Food Items__turkey bacon', 'ADAGIO__F&B Kitchen__LS - Processed Food Items__turkey roll', 'ADAGIO__F&B Kitchen__LS - Processed Food Items__veal', 'ADAGIO__F&B Kitchen__LS - Processed Food Items__veal sausage', 'ADAGIO__F&B Kitchen__LS - Sauces and Dressing__artichoke', 'ADAGIO__F&B Kitchen__LS - Sauces and Dressing__avacado', 'ADAGIO__F&B Kitchen__LS - Sauces and Dressing__baked beans', 'ADAGIO__F&B Kitchen__LS - Sauces and Dressing__bbq sauce', 'ADAGIO__F&B Kitchen__LS - Sauces and Dressing__biscuit spread', 'ADAGIO__F&B Kitchen__LS - Sauces and Dressing__bottle gourd', 'ADAGIO__F&B Kitchen__LS - Sauces and Dressing__chilli paste', 'ADAGIO__F&B Kitchen__LS - Sauces and Dressing__chilli whole', 'ADAGIO__F&B Kitchen__LS - Sauces and Dressing__chocolate', 'ADAGIO__F&B Kitchen__LS - Sauces and Dressing__cooking sauce', 'ADAGIO__F&B Kitchen__LS - Sauces and Dressing__curry paste', 'ADAGIO__F&B Kitchen__LS - Sauces and Dressing__fish sauce', 'ADAGIO__F&B Kitchen__LS - Sauces and Dressing__hot sauce', 'ADAGIO__F&B Kitchen__LS - Sauces and Dressing__indian savouries', 'ADAGIO__F&B Kitchen__LS - Sauces and Dressing__jam', 'ADAGIO__F&B Kitchen__LS - Sauces and Dressing__jam apricot', 'ADAGIO__F&B Kitchen__LS - Sauces and Dressing__jam blueberry', 'ADAGIO__F&B Kitchen__LS - Sauces and Dressing__jam mixed fruit', 'ADAGIO__F&B Kitchen__LS - Sauces and Dressing__jam orange', 'ADAGIO__F&B Kitchen__LS - Sauces and Dressing__jam raspberry', 'ADAGIO__F&B Kitchen__LS - Sauces and Dressing__jam strawberry', 'ADAGIO__F&B Kitchen__LS - Sauces and Dressing__mustard', 'ADAGIO__F&B Kitchen__LS - Sauces and Dressing__olives black', 'ADAGIO__F&B Kitchen__LS - Sauces and Dressing__oyster sauce', 'ADAGIO__F&B Kitchen__LS - Sauces and Dressing__pepper stuffed with cheese', 'ADAGIO__F&B Kitchen__LS - Sauces and Dressing__salsa', 'ADAGIO__F&B Kitchen__LS - Sauces and Dressing__seasoning', 'ADAGIO__F&B Kitchen__LS - Sauces and Dressing__seaweed', 'ADAGIO__F&B Kitchen__LS - Sauces and Dressing__soya beans', 'ADAGIO__F&B Kitchen__LS - Sauces and Dressing__soya sauce', 'ADAGIO__F&B Kitchen__LS - Sauces and Dressing__syrub,strawberry', 'ADAGIO__F&B Kitchen__LS - Sauces and Dressing__syrup', 'ADAGIO__F&B Kitchen__LS - Sauces and Dressing__tahina', 'ADAGIO__F&B Kitchen__LS - Sauces and Dressing__tomato', 'ADAGIO__F&B Kitchen__LS - Sauces and Dressing__tomato sundried', 'ADAGIO__F&B Kitchen__LS - Sauces and Dressing__tonkatsu sauce', 'ADAGIO__F&B Kitchen__LS - Sauces and Dressing__topping', 'ADAGIO__F&B Kitchen__LS - Sauces and Dressing__truffle oil', 'ADAGIO__F&B Kitchen__LS - Sauces and Dressing__vegetable oil', 'ADAGIO__F&B Kitchen__LS - Sauces and Dressing__vinegar', 'ADAGIO__F&B Kitchen__LS - Seafood Fresh__clams', 'ADAGIO__F&B Kitchen__LS - Seafood Fresh__fish fillet', 'ADAGIO__F&B Kitchen__LS - Seafood Fresh__oyster', 'ADAGIO__F&B Kitchen__LS - Seafood Fresh__shrimp', 'ADAGIO__F&B Kitchen__LS - Sweet__arabic sweet', 'ADAGIO__F&B Kitchen__LS - Sweet__baklava', 'ADAGIO__F&B Kitchen__LS - Sweet__balah al sham', 'ADAGIO__F&B Kitchen__LS - Sweet__chaibeyat', 'ADAGIO__F&B Kitchen__LS - Sweet__dates', 'ADAGIO__F&B Kitchen__LS - Sweet__halwa', 'ADAGIO__F&B Kitchen__LS - Sweet__indian sweet', 'ADAGIO__F&B Kitchen__LS - Sweet__indian sweet, gulab jamun', 'ADAGIO__F&B Kitchen__LS - Sweet__katayef', 'ADAGIO__F&B Kitchen__LS - Sweet__kunafa', 'ADAGIO__F&B Kitchen__LS - Sweet__makaroon', 'ADAGIO__F&B Kitchen__LS - Sweet__znoud al set', 'ADAGIO__F&B Kitchen__LS - Vegetables Fresh__alfalfa sprouts', 'ADAGIO__F&B Kitchen__LS - Vegetables Fresh__banana shallot', 'ADAGIO__F&B Kitchen__LS - Vegetables Fresh__beetroot', 'ADAGIO__F&B Kitchen__LS - Vegetables Fresh__bitter gourd', 'ADAGIO__F&B Kitchen__LS - Vegetables Fresh__brussels sprouts', 'ADAGIO__F&B Kitchen__LS - Vegetables Fresh__butternut', 'ADAGIO__F&B Kitchen__LS - Vegetables Fresh__carrot baby', 'ADAGIO__F&B Kitchen__LS - Vegetables Fresh__celeriac', 'ADAGIO__F&B Kitchen__LS - Vegetables Fresh__chikoo', 'ADAGIO__F&B Kitchen__LS - Vegetables Fresh__chives', 'ADAGIO__F&B Kitchen__LS - Vegetables Fresh__chives leaves', 'ADAGIO__F&B Kitchen__LS - Vegetables Fresh__coconut', 'ADAGIO__F&B Kitchen__LS - Vegetables Fresh__corn on the cob', 'ADAGIO__F&B Kitchen__LS - Vegetables Fresh__cress leaves affila', 'ADAGIO__F&B Kitchen__LS - Vegetables Fresh__cress leaves jumeirah mix', 'ADAGIO__F&B Kitchen__LS - Vegetables Fresh__cress leaves mustard', 'ADAGIO__F&B Kitchen__LS - Vegetables Fresh__cress leaves pea tendril affila', 'ADAGIO__F&B Kitchen__LS - Vegetables Fresh__cress leaves sorrel', 'ADAGIO__F&B Kitchen__LS - Vegetables Fresh__cress leaves water', 'ADAGIO__F&B Kitchen__LS - Vegetables Fresh__cress mix', 'ADAGIO__F&B Kitchen__LS - Vegetables Fresh__curry leaves', 'ADAGIO__F&B Kitchen__LS - Vegetables Fresh__drumstick', 'ADAGIO__F&B Kitchen__LS - Vegetables Fresh__endives', 'ADAGIO__F&B Kitchen__LS - Vegetables Fresh__fennel root', 'ADAGIO__F&B Kitchen__LS - Vegetables Fresh__fenugreek', 'ADAGIO__F&B Kitchen__LS - Vegetables Fresh__garlic whole', 'ADAGIO__F&B Kitchen__LS - Vegetables Fresh__lady finger', 'ADAGIO__F&B Kitchen__LS - Vegetables Fresh__lemon', 'ADAGIO__F&B Kitchen__LS - Vegetables Fresh__lemongrass', 'ADAGIO__F&B Kitchen__LS - Vegetables Fresh__lime leaves', 'ADAGIO__F&B Kitchen__LS - Vegetables Fresh__mango', 'ADAGIO__F&B Kitchen__LS - Vegetables Fresh__onion', 'ADAGIO__F&B Kitchen__LS - Vegetables Fresh__onion white', 'ADAGIO__F&B Kitchen__LS - Vegetables Fresh__oregano leaves', 'ADAGIO__F&B Kitchen__LS - Vegetables Fresh__pak choi', 'ADAGIO__F&B Kitchen__LS - Vegetables Fresh__pandan leaves', 'ADAGIO__F&B Kitchen__LS - Vegetables Fresh__parsnip', 'ADAGIO__F&B Kitchen__LS - Vegetables Fresh__potato baby', 'ADAGIO__F&B Kitchen__LS - Vegetables Fresh__potato idhaho', 'ADAGIO__F&B Kitchen__LS - Vegetables Fresh__potato purple', 'ADAGIO__F&B Kitchen__LS - Vegetables Fresh__potato red', 'ADAGIO__F&B Kitchen__LS - Vegetables Fresh__pumpkin butterneut', 'ADAGIO__F&B Kitchen__LS - Vegetables Fresh__pumpkin halloween', 'ADAGIO__F&B Kitchen__LS - Vegetables Fresh__pumpkin red', 'ADAGIO__F&B Kitchen__LS - Vegetables Fresh__red chilli', 'ADAGIO__F&B Kitchen__LS - Vegetables Fresh__ridged gourd', 'ADAGIO__F&B Kitchen__LS - Vegetables Fresh__sage', 'ADAGIO__F&B Kitchen__LS - Vegetables Fresh__tamarillo', 'ADAGIO__F&B Kitchen__LS - Vegetables Fresh__tarragon', 'ADAGIO__F&B Kitchen__LS - Vegetables Fresh__thyme leaves', 'ADAGIO__F&B Kitchen__LS - Vegetables Fresh__turnip', 'ADAGIO__F&B Kitchen__LS - Vegetables Fresh__wheatgrass', 'ADAGIO__F&B Kitchen__LS - Vegetables Frozen__artichoke', 'ADAGIO__F&B Kitchen__LS - Vegetables Frozen__corn_sweet', 'ADAGIO__F&B Kitchen__LS - Vegetables Frozen__green peas', 'ADAGIO__F&B Kitchen__LS - Vegetables Frozen__molokhia', 'ADAGIO__F&B Kitchen__LS - Vegetables Frozen__mushroom', 'ADAGIO__F&B Kitchen__LS - Vegetables Frozen__onion ring', 'ADAGIO__F&B Kitchen__LS - Vegetables Frozen__patties', 'ADAGIO__F&B Kitchen__LS - Vegetables Frozen__potato croquettes', 'ADAGIO__F&B Kitchen__LS - Vegetables Frozen__raspberry', 'ADAGIO__F&B Kitchen__LS - Vegetables Frozen__spinach leaf', 'ADAGIO__F&B Kitchen__LS - Vegetables Frozen__spinach minced', 'ADAGIO__F&B Kitchen__LS - Vegetables Frozen__spring roll, vegetable', 'ADAGIO__F&B Kitchen__LS - Vegetables Frozen__vegetable mix', 'ADAGIO__F&B Kitchen__LS - Vegetables Frozen__veggie burger', 'ADAGIO__F&B Kitchen__LS - seafood Frozen__clams', 'ADAGIO__F&B Kitchen__LS - seafood Frozen__crab', 'ADAGIO__F&B Kitchen__LS - seafood Frozen__crab sticks', 'ADAGIO__F&B Kitchen__LS - seafood Frozen__fish fillet', 'ADAGIO__F&B Kitchen__LS - seafood Frozen__fish finger', 'ADAGIO__F&B Kitchen__LS - seafood Frozen__fish nuggets', 'ADAGIO__F&B Kitchen__LS - seafood Frozen__fish roe', 'ADAGIO__F&B Kitchen__LS - seafood Frozen__mix seafood', 'ADAGIO__F&B Kitchen__LS - seafood Frozen__mussels', 'ADAGIO__F&B Kitchen__LS - seafood Frozen__prawn', 'ADAGIO__F&B Kitchen__LS - seafood Frozen__scallop', 'ADAGIO__F&B Kitchen__LS - seafood Frozen__shrimp tempura', 'ADAGIO__F&B Kitchen__LS - seafood Frozen__snail', 'ADAGIO__Finance__LS - Consumables__book', 'ADAGIO__Finance__LS - Consumables__file folder', 'ADAGIO__Finance__LS - Consumables__glue stick', 'ADAGIO__Finance__LS - Consumables__office tray', 'ADAGIO__Finance__LS - Consumables__organizer', 'ADAGIO__Finance__LS - Consumables__pen', 'ADAGIO__Finance__LS - Consumables__pen holder', 'ADAGIO__Finance__LS - Consumables__photocopy paper', 'ADAGIO__Finance__LS - Consumables__post it pad', 'ADAGIO__Finance__LS - Consumables__puncher', 'ADAGIO__Finance__LS - Consumables__rubber band', 'ADAGIO__Finance__LS - Consumables__scotch tape', 'ADAGIO__Finance__LS - Consumables__stamp pad', 'ADAGIO__Finance__LS - Consumables__staple pin', 'ADAGIO__Finance__LS - Consumables__staple remover', 'ADAGIO__Finance__LS - Consumables__stapler', 'ADAGIO__Finance__LS - Electrical Supplies__battery', 'ADAGIO__Fixie CafÃ©__LS - Bakery Products Frozen__biscuit', 'ADAGIO__Fixie CafÃ©__LS - Bakery Products Frozen__cookies', 'ADAGIO__Fixie CafÃ©__LS - Cleaning Products & Services__cleaning powder machine cleaner', 'ADAGIO__Fixie CafÃ©__LS - Consumables__bowl', 'ADAGIO__Fixie CafÃ©__LS - Consumables__bulb', 'ADAGIO__Fixie CafÃ©__LS - Consumables__cake baord', 'ADAGIO__Fixie CafÃ©__LS - Consumables__cake box', 'ADAGIO__Fixie CafÃ©__LS - Consumables__candle', 'ADAGIO__Fixie CafÃ©__LS - Consumables__cellophane roll', 'ADAGIO__Fixie CafÃ©__LS - Consumables__cling film', 'ADAGIO__Fixie CafÃ©__LS - Consumables__coffee filter', 'ADAGIO__Fixie CafÃ©__LS - Consumables__cup', 'ADAGIO__Fixie CafÃ©__LS - Consumables__cup holder', 'ADAGIO__Fixie CafÃ©__LS - Consumables__cup lid', 'ADAGIO__Fixie CafÃ©__LS - Consumables__cup,plastic', 'ADAGIO__Fixie CafÃ©__LS - Consumables__cup,sauce', 'ADAGIO__Fixie CafÃ©__LS - Consumables__face mask', 'ADAGIO__Fixie CafÃ©__LS - Consumables__glass cover', 'ADAGIO__Fixie CafÃ©__LS - Consumables__label_neutral_pro cooker', 'ADAGIO__Fixie CafÃ©__LS - Consumables__lamination pouch', 'ADAGIO__Fixie CafÃ©__LS - Consumables__lid,plastic', 'ADAGIO__Fixie CafÃ©__LS - Consumables__liner base', 'ADAGIO__Fixie CafÃ©__LS - Consumables__marker pen', 'ADAGIO__Fixie CafÃ©__LS - Consumables__match box', 'ADAGIO__Fixie CafÃ©__LS - Consumables__olive oil', 'ADAGIO__Fixie CafÃ©__LS - Consumables__paper bag', 'ADAGIO__Fixie CafÃ©__LS - Consumables__paper roll', 'ADAGIO__Fixie CafÃ©__LS - Consumables__paper towel', 'ADAGIO__Fixie CafÃ©__LS - Consumables__photocopy paper', 'ADAGIO__Fixie CafÃ©__LS - Consumables__pvc tape', 'ADAGIO__Fixie CafÃ©__LS - Consumables__ribbon cartridge', 'ADAGIO__Fixie CafÃ©__LS - Consumables__salad tub', 'ADAGIO__Fixie CafÃ©__LS - Consumables__soup tub', 'ADAGIO__Fixie CafÃ©__LS - Consumables__stirrer', 'ADAGIO__Fixie CafÃ©__LS - Consumables__straw', 'ADAGIO__Fixie CafÃ©__LS - Consumables__toothpick', 'ADAGIO__Fixie CafÃ©__LS - Dairy Products Fresh__milk', 'ADAGIO__Fixie CafÃ©__LS - Dairy products chilled/frozen__butter', 'ADAGIO__Fixie CafÃ©__LS - Dairy products chilled/frozen__ice cream', 'ADAGIO__Fixie CafÃ©__LS - Dairy products chilled/frozen__peanut butter', 'ADAGIO__Fixie CafÃ©__LS - Dairy products chilled/frozen__whipping cream', 'ADAGIO__Fixie CafÃ©__LS - Dried Products__almond essence', 'ADAGIO__Fixie CafÃ©__LS - Dried Products__banana chips', 'ADAGIO__Fixie CafÃ©__LS - Dried Products__brown sugar', 'ADAGIO__Fixie CafÃ©__LS - Dried Products__chia seeds', 'ADAGIO__Fixie CafÃ©__LS - Dried Products__cinnamon powder', 'ADAGIO__Fixie CafÃ©__LS - Dried Products__corn flake', 'ADAGIO__Fixie CafÃ©__LS - Dried Products__dates', 'ADAGIO__Fixie CafÃ©__LS - Dried Products__essence', 'ADAGIO__Fixie CafÃ©__LS - Dried Products__food color', 'ADAGIO__Fixie CafÃ©__LS - Dried Products__hamper box', 'ADAGIO__Fixie CafÃ©__LS - Dried Products__milk', 'ADAGIO__Fixie CafÃ©__LS - Dried Products__milk oat', 'ADAGIO__Fixie CafÃ©__LS - Dried Products__nutella', 'ADAGIO__Fixie CafÃ©__LS - Dried Products__pearl', 'ADAGIO__Fixie CafÃ©__LS - Dried Products__pepper black powder', 'ADAGIO__Fixie CafÃ©__LS - Dried Products__pepper black whole', 'ADAGIO__Fixie CafÃ©__LS - Dried Products__red pepper sauce', 'ADAGIO__Fixie CafÃ©__LS - Dried Products__salt', 'ADAGIO__Fixie CafÃ©__LS - Dried Products__sugar brown', 'ADAGIO__Fixie CafÃ©__LS - Dried Products__sugar sweetener', 'ADAGIO__Fixie CafÃ©__LS - Dried Products__sugar white', 'ADAGIO__Fixie CafÃ©__LS - Dried Products__tamarind', 'ADAGIO__Fixie CafÃ©__LS - Fruit Fresh__avacado', 'ADAGIO__Fixie CafÃ©__LS - Fruit Fresh__banana', 'ADAGIO__Fixie CafÃ©__LS - Fruit Fresh__coconut whole', 'ADAGIO__Fixie CafÃ©__LS - Fruit Fresh__lime', 'ADAGIO__Fixie CafÃ©__LS - Fruit Fresh__mango', 'ADAGIO__Fixie CafÃ©__LS - Fruits Frozen__strawberry', 'ADAGIO__Fixie CafÃ©__LS - Sauces and Dressing__avacado', 'ADAGIO__Fixie CafÃ©__LS - Sauces and Dressing__hot sauce', 'ADAGIO__Fixie CafÃ©__LS - Sauces and Dressing__jam', 'ADAGIO__Fixie CafÃ©__LS - Sauces and Dressing__jam cherry', 'ADAGIO__Fixie CafÃ©__LS - Sauces and Dressing__jam orange', 'ADAGIO__Fixie CafÃ©__LS - Sauces and Dressing__milk', 'ADAGIO__Fixie CafÃ©__LS - Sauces and Dressing__topping', 'ADAGIO__Fixie CafÃ©__LS - Vegetables Fresh__broccoli', 'ADAGIO__Fixie CafÃ©__LS - Vegetables Fresh__garlic peeled', 'ADAGIO__Fixie CafÃ©__LS - Vegetables Fresh__ginger', 'ADAGIO__Fixie CafÃ©__LS - Vegetables Fresh__mint leaves', 'ADAGIO__Fixie CafÃ©__LS - Vegetables Fresh__parsley leaves', 'ADAGIO__Front Office__LS - Cleaning Products & Services__dishwashing liquid lemon', 'ADAGIO__Front Office__LS - Consumables__cup', 'ADAGIO__Front Office__LS - Consumables__envelope', 'ADAGIO__Front Office__LS - Consumables__face mask', 'ADAGIO__Front Office__LS - Consumables__highlighter', 'ADAGIO__Front Office__LS - Consumables__notice board', 'ADAGIO__Front Office__LS - Consumables__office tray', 'ADAGIO__Front Office__LS - Consumables__pen', 'ADAGIO__Front Office__LS - Consumables__photocopy paper', 'ADAGIO__Front Office__LS - Consumables__scissor', 'ADAGIO__Front Office__LS - Consumables__toner', 'ADAGIO__Front Office__LS - Consumables__wet wipes', 'ADAGIO__Front Office__LS - Electrical Supplies__battery', 'ADAGIO__Housekeeping__LS - Cleaning Products & Services__brush, steel wire', 'ADAGIO__Housekeeping__LS - Cleaning Products & Services__dishwashing liquid lemon', 'ADAGIO__Housekeeping__LS - Cleaning Products & Services__gloves, rubber java', 'ADAGIO__Housekeeping__LS - Cleaning Products & Services__paper towel', 'ADAGIO__Housekeeping__LS - Cleaning Products & Services__soap, dishwashing clean', 'ADAGIO__Housekeeping__LS - Cleaning Products & Services__soft care', 'ADAGIO__Housekeeping__LS - Cleaning Products & Services__sponge cloth 16x18cm', 'ADAGIO__Housekeeping__LS - Cleaning Products & Services__sponge, small yellow', 'ADAGIO__Housekeeping__LS - Cleaning Products & Services__urinal java', 'ADAGIO__Housekeeping__LS - Cleaning Products & Services__urinal screen 60days', 'ADAGIO__Housekeeping__LS - Cleaning Products & Services__washing powder', 'ADAGIO__Housekeeping__LS - Cleaning Products__body balm', 'ADAGIO__Housekeeping__LS - Cleaning Products__cleanser', 'ADAGIO__Housekeeping__LS - Cleaning Products__conditioner', 'ADAGIO__Housekeeping__LS - Cleaning Products__garbage bag', 'ADAGIO__Housekeeping__LS - Cleaning Products__shampoo', 'ADAGIO__Housekeeping__LS - Consumables__air freshener', 'ADAGIO__Housekeeping__LS - Consumables__air freshener dispenser', 'ADAGIO__Housekeeping__LS - Consumables__book', 'ADAGIO__Housekeeping__LS - Consumables__cleaner,brush', 'ADAGIO__Housekeeping__LS - Consumables__cling film', 'ADAGIO__Housekeeping__LS - Consumables__coffee cup', 'ADAGIO__Housekeeping__LS - Consumables__double sided tape', 'ADAGIO__Housekeeping__LS - Consumables__face mask', 'ADAGIO__Housekeeping__LS - Consumables__garbage bag', 'ADAGIO__Housekeeping__LS - Consumables__lamination film', 'ADAGIO__Housekeeping__LS - Consumables__masking tape', 'ADAGIO__Housekeeping__LS - Consumables__paper', 'ADAGIO__Housekeeping__LS - Consumables__photocopy paper', 'ADAGIO__Housekeeping__LS - Consumables__pvc tape', 'ADAGIO__Housekeeping__LS - Consumables__rubber band', 'ADAGIO__Housekeeping__LS - Consumables__sanitary bag', 'ADAGIO__Housekeeping__LS - Consumables__scotch tape', 'ADAGIO__Housekeeping__LS - Consumables__sewing kit', 'ADAGIO__Housekeeping__LS - Consumables__slippers', 'ADAGIO__Housekeeping__LS - Consumables__stapler', 'ADAGIO__Housekeeping__LS - Consumables__toilet tissue', 'ADAGIO__Housekeeping__LS - Consumables__toner', 'ADAGIO__Housekeeping__LS - Consumables__tooth brush', 'ADAGIO__Housekeeping__LS - Consumables__wet wipes', 'ADAGIO__Housekeeping__LS - Dried Products__sugar brown', 'ADAGIO__Housekeeping__LS - Dried Products__sugar sweetener', 'ADAGIO__Housekeeping__LS - Dried Products__sugar white', 'ADAGIO__Housekeeping__LS - Electrical Supplies__adapter', 'ADAGIO__Housekeeping__LS - Electrical Supplies__battery', 'ADAGIO__Human Resources__LS - Consumables__calculator', 'ADAGIO__Human Resources__LS - Consumables__cling film', 'ADAGIO__Human Resources__LS - Consumables__correction tape/fluid', 'ADAGIO__Human Resources__LS - Consumables__cup', 'ADAGIO__Human Resources__LS - Consumables__face mask', 'ADAGIO__Human Resources__LS - Consumables__file folder', 'ADAGIO__Human Resources__LS - Consumables__hat', 'ADAGIO__Human Resources__LS - Consumables__labelling machine', 'ADAGIO__Human Resources__LS - Consumables__lamination film', 'ADAGIO__Human Resources__LS - Consumables__office tray', 'ADAGIO__Human Resources__LS - Consumables__paper cup', 'ADAGIO__Human Resources__LS - Consumables__pen', 'ADAGIO__Human Resources__LS - Consumables__photocopy paper', 'ADAGIO__Human Resources__LS - Consumables__post it pad', 'ADAGIO__Human Resources__LS - Consumables__scissor', 'ADAGIO__Human Resources__LS - Consumables__scotch tape', 'ADAGIO__Human Resources__LS - Consumables__stamp pad', 'ADAGIO__Human Resources__LS - Consumables__staple pin', 'ADAGIO__Human Resources__LS - Consumables__staple remover', 'ADAGIO__Human Resources__LS - Consumables__stapler', 'ADAGIO__Human Resources__LS - Dried Products__cereal', 'ADAGIO__Human Resources__LS - Dried Products__chocloate poweder', 'ADAGIO__Human Resources__LS - Dried Products__coffee beans', 'ADAGIO__Human Resources__LS - Dried Products__milk powder', 'ADAGIO__Human Resources__LS - Dried Products__tea', 'ADAGIO__Human Resources__LS - Meat Fresh__lamb', 'ADAGIO__Human Resources__LS - Meat Frozen__lamb', 'ADAGIO__Human Resources__LS - Poultry Chilled__chicken', 'ADAGIO__Human Resources__LS - Poultry Frozen__chicken', 'ADAGIO__Human Resources__LS - seafood Frozen__shrimp', 'ADAGIO__Maintenance__LS - Cleaning Products & Services__cleaning chemical acid for tile', 'ADAGIO__Maintenance__LS - Cleaning Products & Services__cleaning powder', 'ADAGIO__Maintenance__LS - Cleaning Products & Services__condensor coil cleaner', 'ADAGIO__Maintenance__LS - Cleaning Products & Services__contact cleaner spray', 'ADAGIO__Maintenance__LS - Cleaning Products & Services__drain cleaner liquid', 'ADAGIO__Maintenance__LS - Cleaning Products & Services__gloves, rubber java', 'ADAGIO__Maintenance__LS - Cleaning Products & Services__wd-40', 'ADAGIO__Maintenance__LS - Consumables__air filter bag', 'ADAGIO__Maintenance__LS - Consumables__aluminum duct', 'ADAGIO__Maintenance__LS - Consumables__aluminum foil', 'ADAGIO__Maintenance__LS - Consumables__broom', 'ADAGIO__Maintenance__LS - Consumables__cable tie', 'ADAGIO__Maintenance__LS - Consumables__calculator', 'ADAGIO__Maintenance__LS - Consumables__cleaner', 'ADAGIO__Maintenance__LS - Consumables__divider', 'ADAGIO__Maintenance__LS - Consumables__double sided tape', 'ADAGIO__Maintenance__LS - Consumables__duct tape', 'ADAGIO__Maintenance__LS - Consumables__garbage bag', 'ADAGIO__Maintenance__LS - Consumables__gasket sealant', 'ADAGIO__Maintenance__LS - Consumables__gloves', 'ADAGIO__Maintenance__LS - Consumables__glue fevicol', 'ADAGIO__Maintenance__LS - Consumables__glue marble', 'ADAGIO__Maintenance__LS - Consumables__grease', 'ADAGIO__Maintenance__LS - Consumables__insect killer', 'ADAGIO__Maintenance__LS - Consumables__insulation tape', 'ADAGIO__Maintenance__LS - Consumables__lamp', 'ADAGIO__Maintenance__LS - Consumables__note pad', 'ADAGIO__Maintenance__LS - Consumables__paint', 'ADAGIO__Maintenance__LS - Consumables__paint brush', 'ADAGIO__Maintenance__LS - Consumables__pen', 'ADAGIO__Maintenance__LS - Consumables__plywood', 'ADAGIO__Maintenance__LS - Consumables__polythene', 'ADAGIO__Maintenance__LS - Consumables__post it pad', 'ADAGIO__Maintenance__LS - Consumables__pvc tape', 'ADAGIO__Maintenance__LS - Consumables__sand paper', 'ADAGIO__Maintenance__LS - Consumables__scotch tape', 'ADAGIO__Maintenance__LS - Consumables__silicon,antifungus', 'ADAGIO__Maintenance__LS - Consumables__staple pin', 'ADAGIO__Maintenance__LS - Consumables__stapler', 'ADAGIO__Maintenance__LS - Consumables__tape teflon', 'ADAGIO__Maintenance__LS - Electrical Supplies__adapter', 'ADAGIO__Maintenance__LS - Electrical Supplies__battery', 'ADAGIO__Maintenance__LS - Electrical Supplies__cable rr', 'ADAGIO__Maintenance__LS - Electrical Supplies__cable tie', 'ADAGIO__Maintenance__LS - Electrical Supplies__connector', 'ADAGIO__Maintenance__LS - Electrical Supplies__connector pin', 'ADAGIO__Maintenance__LS - Electrical Supplies__contactor', 'ADAGIO__Maintenance__LS - Electrical Supplies__cooling fan', 'ADAGIO__Maintenance__LS - Electrical Supplies__fishr', 'ADAGIO__Maintenance__LS - Electrical Supplies__hdmi cable', 'ADAGIO__Maintenance__LS - Electrical Supplies__inground light', 'ADAGIO__Maintenance__LS - Electrical Supplies__lamp holder', 'ADAGIO__Maintenance__LS - Electrical Supplies__led driver', 'ADAGIO__Maintenance__LS - Electrical Supplies__led lamp non dimmable', 'ADAGIO__Maintenance__LS - Electrical Supplies__plug top', 'ADAGIO__Maintenance__LS - Electrical Supplies__remote control', 'ADAGIO__Maintenance__LS - Electrical Supplies__sensor', 'ADAGIO__Maintenance__LS - Electrical Supplies__socket', 'ADAGIO__Maintenance__LS - Electrical Supplies__timer', 'ADAGIO__Maintenance__LS - Electrical Supplies__transformer', 'ADAGIO__Maintenance__LS - Electrical Supplies__trunk_pvc', 'ADAGIO__Marketing & Advertising__LS - Consumables__paper bag', 'ADAGIO__Procurement__LS - Bakery Products Frozen__bread sourdough', 'ADAGIO__Reservations__LS - Electrical Supplies__adapter', 'ADAGIO__Revenue Management__LS - Consumables__file folder', 'ADAGIO__Revenue Management__LS - Consumables__office tray', 'ADAGIO__Revenue Management__LS - Consumables__pen', 'ADAGIO__Revenue Management__LS - Consumables__pin board', 'ADAGIO__Revenue Management__LS - Consumables__puncher', 'ADAGIO__Security__LS - Consumables__book', 'ADAGIO__Stewarding__LS - Cleaning Products & Services__cleaning powder', 'ADAGIO__Stewarding__LS - Cleaning Products & Services__cleaning tablet rational', 'ADAGIO__Stewarding__LS - Cleaning Products & Services__dust pan with brush', 'ADAGIO__Stewarding__LS - Cleaning Products & Services__gloves, rubber java', 'ADAGIO__Stewarding__LS - Cleaning Products & Services__paper towel', 'ADAGIO__Stewarding__LS - Cleaning Products & Services__scouring sponge scotchbrite', 'ADAGIO__Stewarding__LS - Cleaning Products & Services__scrubbing pad', 'ADAGIO__Stewarding__LS - Cleaning Products & Services__soap sun', 'ADAGIO__Stewarding__LS - Cleaning Products & Services__soft care', 'ADAGIO__Stewarding__LS - Cleaning Products & Services__suma a8.8', 'ADAGIO__Stewarding__LS - Cleaning Products & Services__suma d16', 'ADAGIO__Stewarding__LS - Cleaning Products & Services__suma d2', 'ADAGIO__Stewarding__LS - Cleaning Products & Services__suma d4', 'ADAGIO__Stewarding__LS - Cleaning Products & Services__suma d4.5', 'ADAGIO__Stewarding__LS - Cleaning Products & Services__suma d47', 'ADAGIO__Stewarding__LS - Cleaning Products & Services__suma d52', 'ADAGIO__Stewarding__LS - Cleaning Products & Services__suma ma8', 'ADAGIO__Stewarding__LS - Cleaning Products & Services__suma nova l6', 'ADAGIO__Stewarding__LS - Cleaning Products & Services__suma, d 8', 'ADAGIO__Stewarding__LS - Cleaning Products & Services__suma, k21+', 'ADAGIO__Stewarding__LS - Cleaning Products__gloves', 'ADAGIO__Stewarding__LS - Consumables__aluminum foil', 'ADAGIO__Stewarding__LS - Consumables__bamboo skewer', 'ADAGIO__Stewarding__LS - Consumables__cake baord', 'ADAGIO__Stewarding__LS - Consumables__charcoal', 'ADAGIO__Stewarding__LS - Consumables__cling film', 'ADAGIO__Stewarding__LS - Consumables__cup', 'ADAGIO__Stewarding__LS - Consumables__face mask', 'ADAGIO__Stewarding__LS - Consumables__gloves', 'ADAGIO__Stewarding__LS - Consumables__hat', 'ADAGIO__Stewarding__LS - Consumables__lighter gel', 'ADAGIO__Stewarding__LS - Consumables__paper cup', 'ADAGIO__Stewarding__LS - Consumables__paper towel', 'ADAGIO__Stewarding__LS - Consumables__piping bag', 'ADAGIO__Stewarding__LS - Consumables__scrubbing pad', 'ADAGIO__Stewarding__LS - Consumables__vacuum bag', 'DCC__H6481 - IBD Domino Bistro__LS - Consumables__candle', 'DCC__H6481 - IBD Domino Bistro__LS - Consumables__clip board', 'DCC__H6481 - IBD Domino Bistro__LS - Consumables__flip chart', 'DCC__H6481 - IBD Domino Bistro__LS - Consumables__hat', 'DCC__H6481 - IBD Domino Bistro__LS - Dried Products__chocolate', 'DCC__H6481 - IBD Engineering__LS - Consumables__valve', 'DCC__H6481 - IBD Housekeeping__LS - Cleaning Products__soft care', 'DCC__H6481 - IBD Housekeeping__LS - Consumables__hat', 'DCC__H6481 - IBD Housekeeping__LS - Consumables__iron board', 'DCC__H6481 - IBD Housekeeping__LS - Consumables__kettle', 'DCC__H6481 - IBD Housekeeping__LS - Consumables__other', 'DCC__H6481 - IBD Housekeeping__LS - Consumables__paper cup', 'DCC__H6481 - IBD Human Resource__LS - Dried Products__pickles', 'DCC__H6481 - IBD Tempo Restaurant__LS - Dried Products__pepper black whole', 'DCC__H6482 - DCC Banquet__LS - Consumables__coffee cup', 'DCC__H6482 - DCC Banquet__LS - Consumables__flip chart', 'DCC__H6482 - DCC Banquet__LS - Electrical Supplies__warming plate', 'DCC__H6482 - DCC Engineering__LS - Cleaning Products & Services__other', 'DCC__H6482 - DCC Engineering__LS - Consumables__aluminum tape', 'DCC__H6482 - DCC Engineering__LS - Consumables__brass nipple', 'DCC__H6482 - DCC Engineering__LS - Consumables__cleaner', 'DCC__H6482 - DCC Engineering__LS - Consumables__cloth', 'DCC__H6482 - DCC Engineering__LS - Consumables__door closer', 'DCC__H6482 - DCC Engineering__LS - Consumables__double sided tape', 'DCC__H6482 - DCC Engineering__LS - Consumables__duct tape', 'DCC__H6482 - DCC Engineering__LS - Consumables__elbow, pex', 'DCC__H6482 - DCC Engineering__LS - Consumables__fluorescent tube', 'DCC__H6482 - DCC Engineering__LS - Consumables__glue fevicol', 'DCC__H6482 - DCC Engineering__LS - Consumables__glue marble', 'DCC__H6482 - DCC Engineering__LS - Consumables__holder', 'DCC__H6482 - DCC Engineering__LS - Consumables__insect killer', 'DCC__H6482 - DCC Engineering__LS - Consumables__insulation tape', 'DCC__H6482 - DCC Engineering__LS - Consumables__lamp', 'DCC__H6482 - DCC Engineering__LS - Consumables__lamp holder', 'DCC__H6482 - DCC Engineering__LS - Consumables__led lamp', 'DCC__H6482 - DCC Engineering__LS - Consumables__led lamp non dimmable', 'DCC__H6482 - DCC Engineering__LS - Consumables__photometer tablet', 'DCC__H6482 - DCC Engineering__LS - Consumables__plywood', 'DCC__H6482 - DCC Engineering__LS - Consumables__repair and service', 'DCC__H6482 - DCC Engineering__LS - Consumables__sand', 'DCC__H6482 - DCC Engineering__LS - Consumables__sand paper', 'DCC__H6482 - DCC Engineering__LS - Consumables__silicon,antifungus', 'DCC__H6482 - DCC Engineering__LS - Consumables__swimming pool pump', 'DCC__H6482 - DCC Engineering__LS - Consumables__thinner', 'DCC__H6482 - DCC Engineering__LS - Consumables__wall filler', 'DCC__H6482 - DCC Engineering__LS - Consumables__wash basin stopper', 'DCC__H6482 - DCC Engineering__LS - Consumables__water filter', 'DCC__H6482 - DCC Engineering__LS - Electrical Supplies__adapter', 'DCC__H6482 - DCC Engineering__LS - Electrical Supplies__bedsheet', 'DCC__H6482 - DCC Engineering__LS - Electrical Supplies__blender', 'DCC__H6482 - DCC Engineering__LS - Electrical Supplies__box', 'DCC__H6482 - DCC Engineering__LS - Electrical Supplies__bulb', 'DCC__H6482 - DCC Engineering__LS - Electrical Supplies__cable rr', 'DCC__H6482 - DCC Engineering__LS - Electrical Supplies__cable tie', 'DCC__H6482 - DCC Engineering__LS - Electrical Supplies__cable trunking', 'DCC__H6482 - DCC Engineering__LS - Electrical Supplies__capacitor', 'DCC__H6482 - DCC Engineering__LS - Electrical Supplies__compressor', 'DCC__H6482 - DCC Engineering__LS - Electrical Supplies__condesning fan motor', 'DCC__H6482 - DCC Engineering__LS - Electrical Supplies__connector', 'DCC__H6482 - DCC Engineering__LS - Electrical Supplies__connector pin', 'DCC__H6482 - DCC Engineering__LS - Electrical Supplies__contactor', 'DCC__H6482 - DCC Engineering__LS - Electrical Supplies__cooling fan', 'DCC__H6482 - DCC Engineering__LS - Electrical Supplies__door gasket', 'DCC__H6482 - DCC Engineering__LS - Electrical Supplies__flex cable', 'DCC__H6482 - DCC Engineering__LS - Electrical Supplies__fluorescent tube', 'DCC__H6482 - DCC Engineering__LS - Electrical Supplies__fuse', 'DCC__H6482 - DCC Engineering__LS - Electrical Supplies__gear motor', 'DCC__H6482 - DCC Engineering__LS - Electrical Supplies__gland cable', 'DCC__H6482 - DCC Engineering__LS - Electrical Supplies__insulation tape', 'DCC__H6482 - DCC Engineering__LS - Electrical Supplies__isolator', 'DCC__H6482 - DCC Engineering__LS - Electrical Supplies__lamp', 'DCC__H6482 - DCC Engineering__LS - Electrical Supplies__lamp holder', 'DCC__H6482 - DCC Engineering__LS - Electrical Supplies__led driver', 'DCC__H6482 - DCC Engineering__LS - Electrical Supplies__led lamp', 'DCC__H6482 - DCC Engineering__LS - Electrical Supplies__led lamp dimmable', 'DCC__H6482 - DCC Engineering__LS - Electrical Supplies__led lamp non dimmable', 'DCC__H6482 - DCC Engineering__LS - Electrical Supplies__led light', 'DCC__H6482 - DCC Engineering__LS - Electrical Supplies__light', 'DCC__H6482 - DCC Engineering__LS - Electrical Supplies__masking tape', 'DCC__H6482 - DCC Engineering__LS - Electrical Supplies__pipe', 'DCC__H6482 - DCC Engineering__LS - Electrical Supplies__plug top', 'DCC__H6482 - DCC Engineering__LS - Electrical Supplies__potentiometer', 'DCC__H6482 - DCC Engineering__LS - Electrical Supplies__screw', 'DCC__H6482 - DCC Engineering__LS - Electrical Supplies__socket', 'DCC__H6482 - DCC Engineering__LS - Electrical Supplies__starter', 'DCC__H6482 - DCC Engineering__LS - Electrical Supplies__strip light', 'DCC__H6482 - DCC Engineering__LS - Electrical Supplies__switch', 'DCC__H6482 - DCC Engineering__LS - Electrical Supplies__telephone cord', 'DCC__H6482 - DCC Engineering__LS - Electrical Supplies__temperature regulator', 'DCC__H6482 - DCC Engineering__LS - Electrical Supplies__thermocouple', 'DCC__H6482 - DCC Engineering__LS - Electrical Supplies__thermostat', 'DCC__H6482 - DCC Engineering__LS - Electrical Supplies__trunk_pvc', 'DCC__H6482 - DCC Engineering__LS - Electrical Supplies__valve', 'DCC__H6482 - DCC Finance__LS - Consumables__file folder', 'DCC__H6482 - DCC Finance__LS - Consumables__post it pad', 'DCC__H6482 - DCC Finance__LS - Electrical Supplies__scale', 'DCC__H6482 - DCC IT__LS - Dried Products__mushroom', 'DCC__H6482 - DCC IT__LS - Electrical Supplies__office standard', 'DCC__H6482 - DCC IT__LS - Fruit Fresh__blackberry', 'DCC__H6482 - DCC IT__LS - Fruit Fresh__blueberry', 'DCC__H6482 - DCC IT__LS - Fruit Fresh__cherry', 'DCC__H6482 - DCC IT__LS - Fruit Fresh__papaya', 'DCC__H6482 - DCC IT__LS - Fruit Fresh__strawberry', 'DCC__H6482 - DCC Main Kitchen__LS - Bakery Products Chilled__glaze', 'DCC__H6482 - DCC Main Kitchen__LS - Bakery Products Chilled__muffin', 'DCC__H6482 - DCC Main Kitchen__LS - Bakery Products Chilled__vinegar', 'DCC__H6482 - DCC Main Kitchen__LS - Bakery Products Fresh__biscuit', 'DCC__H6482 - DCC Main Kitchen__LS - Bakery Products Fresh__bread', 'DCC__H6482 - DCC Main Kitchen__LS - Bakery Products Fresh__bread buger', 'DCC__H6482 - DCC Main Kitchen__LS - Bakery Products Fresh__bread grissini', 'DCC__H6482 - DCC Main Kitchen__LS - Bakery Products Fresh__bread pan', 'DCC__H6482 - DCC Main Kitchen__LS - Bakery Products Fresh__bread roll', 'DCC__H6482 - DCC Main Kitchen__LS - Bakery Products Fresh__cooking oil', 'DCC__H6482 - DCC Main Kitchen__LS - Bakery Products Fresh__kunafa', 'DCC__H6482 - DCC Main Kitchen__LS - Bakery Products Fresh__muffin mix', 'DCC__H6482 - DCC Main Kitchen__LS - Bakery Products Fresh__naan bread', 'DCC__H6482 - DCC Main Kitchen__LS - Bakery Products Frozen__biscuit', 'DCC__H6482 - DCC Main Kitchen__LS - Bakery Products Frozen__bread', 'DCC__H6482 - DCC Main Kitchen__LS - Bakery Products Frozen__bread ciabatta', 'DCC__H6482 - DCC Main Kitchen__LS - Bakery Products Frozen__bread flat', 'DCC__H6482 - DCC Main Kitchen__LS - Bakery Products Frozen__bread focaccia', 'DCC__H6482 - DCC Main Kitchen__LS - Bakery Products Frozen__bread grissini', 'DCC__H6482 - DCC Main Kitchen__LS - Bakery Products Frozen__bread panini', 'DCC__H6482 - DCC Main Kitchen__LS - Bakery Products Frozen__bread rice', 'DCC__H6482 - DCC Main Kitchen__LS - Bakery Products Frozen__bread toast', 'DCC__H6482 - DCC Main Kitchen__LS - Bakery Products Frozen__cake', 'DCC__H6482 - DCC Main Kitchen__LS - Bakery Products Frozen__cheese cake', 'DCC__H6482 - DCC Main Kitchen__LS - Bakery Products Frozen__cinnamon swirl', 'DCC__H6482 - DCC Main Kitchen__LS - Bakery Products Frozen__cookies', 'DCC__H6482 - DCC Main Kitchen__LS - Bakery Products Frozen__cranberry sauce', 'DCC__H6482 - DCC Main Kitchen__LS - Bakery Products Frozen__doughnut', 'DCC__H6482 - DCC Main Kitchen__LS - Bakery Products Frozen__filling', 'DCC__H6482 - DCC Main Kitchen__LS - Bakery Products Frozen__flour', 'DCC__H6482 - DCC Main Kitchen__LS - Bakery Products Frozen__hotdog', 'DCC__H6482 - DCC Main Kitchen__LS - Bakery Products Frozen__indian bread', 'DCC__H6482 - DCC Main Kitchen__LS - Bakery Products Frozen__macaroon', 'DCC__H6482 - DCC Main Kitchen__LS - Bakery Products Frozen__muffin', 'DCC__H6482 - DCC Main Kitchen__LS - Bakery Products Frozen__pie filling', 'DCC__H6482 - DCC Main Kitchen__LS - Bakery Products Frozen__puff pastry', 'DCC__H6482 - DCC Main Kitchen__LS - Bakery Products Frozen__puree', 'DCC__H6482 - DCC Main Kitchen__LS - Bakery Products Frozen__samosa, vegetable', 'DCC__H6482 - DCC Main Kitchen__LS - Bakery Products Frozen__spring roll, cheese', 'DCC__H6482 - DCC Main Kitchen__LS - Bakery Products Frozen__tart shell', 'DCC__H6482 - DCC Main Kitchen__LS - Bakery Products Frozen__tartlet', 'DCC__H6482 - DCC Main Kitchen__LS - Bakery Products Frozen__tiramisu cake', 'DCC__H6482 - DCC Main Kitchen__LS - Bakery Products Frozen__waffle', 'DCC__H6482 - DCC Main Kitchen__LS - Cleaning Products & Services__dust pan with brush', 'DCC__H6482 - DCC Main Kitchen__LS - Cleaning Products & Services__scouring sponge euro', 'DCC__H6482 - DCC Main Kitchen__LS - Cleaning Products & Services__suma, d 1', 'DCC__H6482 - DCC Main Kitchen__LS - Cleaning Products__ph indicator strip', 'DCC__H6482 - DCC Main Kitchen__LS - Consumables__apron', 'DCC__H6482 - DCC Main Kitchen__LS - Consumables__apron plasic', 'DCC__H6482 - DCC Main Kitchen__LS - Consumables__bamboo skewer', 'DCC__H6482 - DCC Main Kitchen__LS - Consumables__bowl', 'DCC__H6482 - DCC Main Kitchen__LS - Consumables__cake baord', 'DCC__H6482 - DCC Main Kitchen__LS - Consumables__charcoal', 'DCC__H6482 - DCC Main Kitchen__LS - Consumables__chocolate', 'DCC__H6482 - DCC Main Kitchen__LS - Consumables__container', 'DCC__H6482 - DCC Main Kitchen__LS - Consumables__container lid', 'DCC__H6482 - DCC Main Kitchen__LS - Consumables__cup,sauce', 'DCC__H6482 - DCC Main Kitchen__LS - Consumables__dry ice', 'DCC__H6482 - DCC Main Kitchen__LS - Consumables__flower', 'DCC__H6482 - DCC Main Kitchen__LS - Consumables__food stickers', 'DCC__H6482 - DCC Main Kitchen__LS - Consumables__gloves', 'DCC__H6482 - DCC Main Kitchen__LS - Consumables__hat', 'DCC__H6482 - DCC Main Kitchen__LS - Consumables__meal box', 'DCC__H6482 - DCC Main Kitchen__LS - Consumables__olive oil', 'DCC__H6482 - DCC Main Kitchen__LS - Consumables__paper cup', 'DCC__H6482 - DCC Main Kitchen__LS - Consumables__paper towel', 'DCC__H6482 - DCC Main Kitchen__LS - Consumables__polycarbonate container', 'DCC__H6482 - DCC Main Kitchen__LS - Consumables__propane gas', 'DCC__H6482 - DCC Main Kitchen__LS - Dairy Products Fresh__eggs shell', 'DCC__H6482 - DCC Main Kitchen__LS - Dairy Products Fresh__labneh balls', 'DCC__H6482 - DCC Main Kitchen__LS - Dairy Products Fresh__labneh,full fat', 'DCC__H6482 - DCC Main Kitchen__LS - Dairy Products Fresh__quail eggs', 'DCC__H6482 - DCC Main Kitchen__LS - Dairy Products Fresh__sour cream', 'DCC__H6482 - DCC Main Kitchen__LS - Dairy Products Fresh__whipping cream', 'DCC__H6482 - DCC Main Kitchen__LS - Dairy products chilled/frozen__bean curd', 'DCC__H6482 - DCC Main Kitchen__LS - Dairy products chilled/frozen__beignet', 'DCC__H6482 - DCC Main Kitchen__LS - Dairy products chilled/frozen__brie cheese', 'DCC__H6482 - DCC Main Kitchen__LS - Dairy products chilled/frozen__burrata cheese', 'DCC__H6482 - DCC Main Kitchen__LS - Dairy products chilled/frozen__camembert cheese', 'DCC__H6482 - DCC Main Kitchen__LS - Dairy products chilled/frozen__cheese', 'DCC__H6482 - DCC Main Kitchen__LS - Dairy products chilled/frozen__cheese selection', 'DCC__H6482 - DCC Main Kitchen__LS - Dairy products chilled/frozen__chicken sausage', 'DCC__H6482 - DCC Main Kitchen__LS - Dairy products chilled/frozen__cream brulee', 'DCC__H6482 - DCC Main Kitchen__LS - Dairy products chilled/frozen__dough', 'DCC__H6482 - DCC Main Kitchen__LS - Dairy products chilled/frozen__edam cheese', 'DCC__H6482 - DCC Main Kitchen__LS - Dairy products chilled/frozen__eggs white liquid', 'DCC__H6482 - DCC Main Kitchen__LS - Dairy products chilled/frozen__emmental cheese', 'DCC__H6482 - DCC Main Kitchen__LS - Dairy products chilled/frozen__ghee', 'DCC__H6482 - DCC Main Kitchen__LS - Dairy products chilled/frozen__gorgonzola cheese', 'DCC__H6482 - DCC Main Kitchen__LS - Dairy products chilled/frozen__gouda cheese', 'DCC__H6482 - DCC Main Kitchen__LS - Dairy products chilled/frozen__halloumi cheese', 'DCC__H6482 - DCC Main Kitchen__LS - Dairy products chilled/frozen__labneh balls', 'DCC__H6482 - DCC Main Kitchen__LS - Dairy products chilled/frozen__lamb', 'DCC__H6482 - DCC Main Kitchen__LS - Dairy products chilled/frozen__margarine', 'DCC__H6482 - DCC Main Kitchen__LS - Dairy products chilled/frozen__mascarpone cheese', 'DCC__H6482 - DCC Main Kitchen__LS - Dairy products chilled/frozen__milk almond', 'DCC__H6482 - DCC Main Kitchen__LS - Dairy products chilled/frozen__peanut butter', 'DCC__H6482 - DCC Main Kitchen__LS - Dairy products chilled/frozen__pie filling', 'DCC__H6482 - DCC Main Kitchen__LS - Dairy products chilled/frozen__pizza base', 'DCC__H6482 - DCC Main Kitchen__LS - Dairy products chilled/frozen__ricotta cheese', 'DCC__H6482 - DCC Main Kitchen__LS - Dairy products chilled/frozen__samosa cheese', 'DCC__H6482 - DCC Main Kitchen__LS - Dairy products chilled/frozen__sour cream', 'DCC__H6482 - DCC Main Kitchen__LS - Dried Products__almond powder', 'DCC__H6482 - DCC Main Kitchen__LS - Dried Products__almond whole', 'DCC__H6482 - DCC Main Kitchen__LS - Dried Products__anise star', 'DCC__H6482 - DCC Main Kitchen__LS - Dried Products__baby corn', 'DCC__H6482 - DCC Main Kitchen__LS - Dried Products__bean curd', 'DCC__H6482 - DCC Main Kitchen__LS - Dried Products__beans', 'DCC__H6482 - DCC Main Kitchen__LS - Dried Products__bread pan', 'DCC__H6482 - DCC Main Kitchen__LS - Dried Products__burghul', 'DCC__H6482 - DCC Main Kitchen__LS - Dried Products__burgol', 'DCC__H6482 - DCC Main Kitchen__LS - Dried Products__butter', 'DCC__H6482 - DCC Main Kitchen__LS - Dried Products__cake mix', 'DCC__H6482 - DCC Main Kitchen__LS - Dried Products__canola oil', 'DCC__H6482 - DCC Main Kitchen__LS - Dried Products__cardamom', 'DCC__H6482 - DCC Main Kitchen__LS - Dried Products__cardamom whole', 'DCC__H6482 - DCC Main Kitchen__LS - Dried Products__cashew nut', 'DCC__H6482 - DCC Main Kitchen__LS - Dried Products__caviar', 'DCC__H6482 - DCC Main Kitchen__LS - Dried Products__chia seeds', 'DCC__H6482 - DCC Main Kitchen__LS - Dried Products__chick peas', 'DCC__H6482 - DCC Main Kitchen__LS - Dried Products__chili oil', 'DCC__H6482 - DCC Main Kitchen__LS - Dried Products__chilli powder', 'DCC__H6482 - DCC Main Kitchen__LS - Dried Products__chilli whole', 'DCC__H6482 - DCC Main Kitchen__LS - Dried Products__chocolate, milk', 'DCC__H6482 - DCC Main Kitchen__LS - Dried Products__christmas decoration', 'DCC__H6482 - DCC Main Kitchen__LS - Dried Products__chutney', 'DCC__H6482 - DCC Main Kitchen__LS - Dried Products__cocktail', 'DCC__H6482 - DCC Main Kitchen__LS - Dried Products__cocoa powder', 'DCC__H6482 - DCC Main Kitchen__LS - Dried Products__coconut oil', 'DCC__H6482 - DCC Main Kitchen__LS - Dried Products__corn flake', 'DCC__H6482 - DCC Main Kitchen__LS - Dried Products__crackers', 'DCC__H6482 - DCC Main Kitchen__LS - Dried Products__crackers table water', 'DCC__H6482 - DCC Main Kitchen__LS - Dried Products__dal', 'DCC__H6482 - DCC Main Kitchen__LS - Dried Products__dates', 'DCC__H6482 - DCC Main Kitchen__LS - Dried Products__dim sum', 'DCC__H6482 - DCC Main Kitchen__LS - Dried Products__dough', 'DCC__H6482 - DCC Main Kitchen__LS - Dried Products__doughnut', 'DCC__H6482 - DCC Main Kitchen__LS - Dried Products__eggplant', 'DCC__H6482 - DCC Main Kitchen__LS - Dried Products__essence', 'DCC__H6482 - DCC Main Kitchen__LS - Dried Products__fennel seeds', 'DCC__H6482 - DCC Main Kitchen__LS - Dried Products__fenugreek seeds', 'DCC__H6482 - DCC Main Kitchen__LS - Dried Products__filling', 'DCC__H6482 - DCC Main Kitchen__LS - Dried Products__fish', 'DCC__H6482 - DCC Main Kitchen__LS - Dried Products__fish fillet', 'DCC__H6482 - DCC Main Kitchen__LS - Dried Products__flour', 'DCC__H6482 - DCC Main Kitchen__LS - Dried Products__flower', 'DCC__H6482 - DCC Main Kitchen__LS - Dried Products__food color', 'DCC__H6482 - DCC Main Kitchen__LS - Dried Products__gelatin powder', 'DCC__H6482 - DCC Main Kitchen__LS - Dried Products__gelatin sheet', 'DCC__H6482 - DCC Main Kitchen__LS - Dried Products__ginger powder', 'DCC__H6482 - DCC Main Kitchen__LS - Dried Products__halwa', 'DCC__H6482 - DCC Main Kitchen__LS - Dried Products__honey', 'DCC__H6482 - DCC Main Kitchen__LS - Dried Products__indian food dosa', 'DCC__H6482 - DCC Main Kitchen__LS - Dried Products__indian snacks', 'DCC__H6482 - DCC Main Kitchen__LS - Dried Products__indian spice', 'DCC__H6482 - DCC Main Kitchen__LS - Dried Products__indian sweet', 'DCC__H6482 - DCC Main Kitchen__LS - Dried Products__indian sweet, rasmalai', 'DCC__H6482 - DCC Main Kitchen__LS - Dried Products__jaggery', 'DCC__H6482 - DCC Main Kitchen__LS - Dried Products__jalebi', 'DCC__H6482 - DCC Main Kitchen__LS - Dried Products__jelly mango', 'DCC__H6482 - DCC Main Kitchen__LS - Dried Products__kabsah mix', 'DCC__H6482 - DCC Main Kitchen__LS - Dried Products__lentil', 'DCC__H6482 - DCC Main Kitchen__LS - Dried Products__macaron', 'DCC__H6482 - DCC Main Kitchen__LS - Dried Products__mango', 'DCC__H6482 - DCC Main Kitchen__LS - Dried Products__mawa', 'DCC__H6482 - DCC Main Kitchen__LS - Dried Products__mixed fruit', 'DCC__H6482 - DCC Main Kitchen__LS - Dried Products__muesli', 'DCC__H6482 - DCC Main Kitchen__LS - Dried Products__mustard oil', 'DCC__H6482 - DCC Main Kitchen__LS - Dried Products__noodles', 'DCC__H6482 - DCC Main Kitchen__LS - Dried Products__nutmeg', 'DCC__H6482 - DCC Main Kitchen__LS - Dried Products__olive oil', 'DCC__H6482 - DCC Main Kitchen__LS - Dried Products__olives black', 'DCC__H6482 - DCC Main Kitchen__LS - Dried Products__olives green', 'DCC__H6482 - DCC Main Kitchen__LS - Dried Products__onion', 'DCC__H6482 - DCC Main Kitchen__LS - Dried Products__oregano leave', 'DCC__H6482 - DCC Main Kitchen__LS - Dried Products__other', 'DCC__H6482 - DCC Main Kitchen__LS - Dried Products__palappam podi', 'DCC__H6482 - DCC Main Kitchen__LS - Dried Products__papad', 'DCC__H6482 - DCC Main Kitchen__LS - Dried Products__peanuts', 'DCC__H6482 - DCC Main Kitchen__LS - Dried Products__pearl', 'DCC__H6482 - DCC Main Kitchen__LS - Dried Products__pecan nuts', 'DCC__H6482 - DCC Main Kitchen__LS - Dried Products__pepper', 'DCC__H6482 - DCC Main Kitchen__LS - Dried Products__pine seeds', 'DCC__H6482 - DCC Main Kitchen__LS - Dried Products__pistachio', 'DCC__H6482 - DCC Main Kitchen__LS - Dried Products__pizza base', 'DCC__H6482 - DCC Main Kitchen__LS - Dried Products__puff pastry', 'DCC__H6482 - DCC Main Kitchen__LS - Dried Products__quinoa seeds', 'DCC__H6482 - DCC Main Kitchen__LS - Dried Products__raisins', 'DCC__H6482 - DCC Main Kitchen__LS - Dried Products__rice', 'DCC__H6482 - DCC Main Kitchen__LS - Dried Products__saffron leaves', 'DCC__H6482 - DCC Main Kitchen__LS - Dried Products__sago seeds', 'DCC__H6482 - DCC Main Kitchen__LS - Dried Products__salt', 'DCC__H6482 - DCC Main Kitchen__LS - Dried Products__samosa, cheese', 'DCC__H6482 - DCC Main Kitchen__LS - Dried Products__samosa, chicken', 'DCC__H6482 - DCC Main Kitchen__LS - Dried Products__seasoning', 'DCC__H6482 - DCC Main Kitchen__LS - Dried Products__seaweed sheets', 'DCC__H6482 - DCC Main Kitchen__LS - Dried Products__semolina', 'DCC__H6482 - DCC Main Kitchen__LS - Dried Products__smoke flavor powder', 'DCC__H6482 - DCC Main Kitchen__LS - Dried Products__soya beans', 'DCC__H6482 - DCC Main Kitchen__LS - Dried Products__spices', 'DCC__H6482 - DCC Main Kitchen__LS - Dried Products__sugar brown', 'DCC__H6482 - DCC Main Kitchen__LS - Dried Products__sugar white', 'DCC__H6482 - DCC Main Kitchen__LS - Dried Products__syrup,peach', 'DCC__H6482 - DCC Main Kitchen__LS - Dried Products__tamarind', 'DCC__H6482 - DCC Main Kitchen__LS - Dried Products__tart shell', 'DCC__H6482 - DCC Main Kitchen__LS - Dried Products__thyme leave', 'DCC__H6482 - DCC Main Kitchen__LS - Dried Products__tobiko orange', 'DCC__H6482 - DCC Main Kitchen__LS - Dried Products__tom yum', 'DCC__H6482 - DCC Main Kitchen__LS - Dried Products__truffle oil', 'DCC__H6482 - DCC Main Kitchen__LS - Dried Products__vinegar', 'DCC__H6482 - DCC Main Kitchen__LS - Dried Products__wasabi powder', 'DCC__H6482 - DCC Main Kitchen__LS - Dried Products__water chestnut', 'DCC__H6482 - DCC Main Kitchen__LS - Dried Products__yeast', 'DCC__H6482 - DCC Main Kitchen__LS - Fruit Fresh__apple golden', 'DCC__H6482 - DCC Main Kitchen__LS - Fruit Fresh__apricot', 'DCC__H6482 - DCC Main Kitchen__LS - Fruit Fresh__cherry', 'DCC__H6482 - DCC Main Kitchen__LS - Fruit Fresh__clementine', 'DCC__H6482 - DCC Main Kitchen__LS - Fruit Fresh__coconut', 'DCC__H6482 - DCC Main Kitchen__LS - Fruit Fresh__cranberry', 'DCC__H6482 - DCC Main Kitchen__LS - Fruit Fresh__dates', 'DCC__H6482 - DCC Main Kitchen__LS - Fruit Fresh__fig', 'DCC__H6482 - DCC Main Kitchen__LS - Fruit Fresh__flower', 'DCC__H6482 - DCC Main Kitchen__LS - Fruit Fresh__gooseberry', 'DCC__H6482 - DCC Main Kitchen__LS - Fruit Fresh__guava', 'DCC__H6482 - DCC Main Kitchen__LS - Fruit Fresh__honeydew melon', 'DCC__H6482 - DCC Main Kitchen__LS - Fruit Fresh__kiwano', 'DCC__H6482 - DCC Main Kitchen__LS - Fruit Fresh__lychee', 'DCC__H6482 - DCC Main Kitchen__LS - Fruit Fresh__mangosteen', 'DCC__H6482 - DCC Main Kitchen__LS - Fruit Fresh__passion fruit', 'DCC__H6482 - DCC Main Kitchen__LS - Fruit Fresh__peach', 'DCC__H6482 - DCC Main Kitchen__LS - Fruit Fresh__pear baby', 'DCC__H6482 - DCC Main Kitchen__LS - Fruit Fresh__pear conference', 'DCC__H6482 - DCC Main Kitchen__LS - Fruit Fresh__pear coscia', 'DCC__H6482 - DCC Main Kitchen__LS - Fruit Fresh__pear nashi', 'DCC__H6482 - DCC Main Kitchen__LS - Fruit Fresh__pear rosemary', 'DCC__H6482 - DCC Main Kitchen__LS - Fruit Fresh__pear yali', 'DCC__H6482 - DCC Main Kitchen__LS - Fruit Fresh__physalis', 'DCC__H6482 - DCC Main Kitchen__LS - Fruit Fresh__pomelo', 'DCC__H6482 - DCC Main Kitchen__LS - Fruit Fresh__rambutan', 'DCC__H6482 - DCC Main Kitchen__LS - Fruit Fresh__red currant', 'DCC__H6482 - DCC Main Kitchen__LS - Fruit Fresh__redcurrant', 'DCC__H6482 - DCC Main Kitchen__LS - Fruit Fresh__star fruit', 'DCC__H6482 - DCC Main Kitchen__LS - Fruit Fresh__sugar cane', 'DCC__H6482 - DCC Main Kitchen__LS - Fruits Frozen__cherry', 'DCC__H6482 - DCC Main Kitchen__LS - Fruits Frozen__chestnut peeled', 'DCC__H6482 - DCC Main Kitchen__LS - Fruits Frozen__cranberry', 'DCC__H6482 - DCC Main Kitchen__LS - Fruits Frozen__guacamole', 'DCC__H6482 - DCC Main Kitchen__LS - Fruits Frozen__mixed berry', 'DCC__H6482 - DCC Main Kitchen__LS - Fruits Frozen__salad', 'DCC__H6482 - DCC Main Kitchen__LS - Meat Fresh__beef', 'DCC__H6482 - DCC Main Kitchen__LS - Meat Fresh__camel', 'DCC__H6482 - DCC Main Kitchen__LS - Meat Fresh__lamb', 'DCC__H6482 - DCC Main Kitchen__LS - Meat Frozen__sausage', 'DCC__H6482 - DCC Main Kitchen__LS - Meat Frozen__veal', 'DCC__H6482 - DCC Main Kitchen__LS - Meat chilled__mutton', 'DCC__H6482 - DCC Main Kitchen__LS - Pasta Products__noodles', 'DCC__H6482 - DCC Main Kitchen__LS - Pasta Products__pasta, farfalle', 'DCC__H6482 - DCC Main Kitchen__LS - Pasta Products__pasta, fettuccine', 'DCC__H6482 - DCC Main Kitchen__LS - Pasta Products__pasta, gnocchi', 'DCC__H6482 - DCC Main Kitchen__LS - Pasta Products__pasta, lasagne', 'DCC__H6482 - DCC Main Kitchen__LS - Pasta Products__pasta, spaghetti', 'DCC__H6482 - DCC Main Kitchen__LS - Pasta Products__pasta, tortelloni', 'DCC__H6482 - DCC Main Kitchen__LS - Poultry Chilled__chicken', 'DCC__H6482 - DCC Main Kitchen__LS - Poultry Chilled__chicken nuggets', 'DCC__H6482 - DCC Main Kitchen__LS - Poultry Chilled__duck', 'DCC__H6482 - DCC Main Kitchen__LS - Poultry Chilled__samosa, chicken', 'DCC__H6482 - DCC Main Kitchen__LS - Poultry Fresh__eggs white', 'DCC__H6482 - DCC Main Kitchen__LS - Poultry Frozen__chicken drumstick', 'DCC__H6482 - DCC Main Kitchen__LS - Poultry Frozen__chicken nuggets', 'DCC__H6482 - DCC Main Kitchen__LS - Poultry Frozen__chicken satay', 'DCC__H6482 - DCC Main Kitchen__LS - Poultry Frozen__chicken shawarma', 'DCC__H6482 - DCC Main Kitchen__LS - Poultry Frozen__duck', 'DCC__H6482 - DCC Main Kitchen__LS - Poultry Frozen__turkey', 'DCC__H6482 - DCC Main Kitchen__LS - Processed Food Items__beef', 'DCC__H6482 - DCC Main Kitchen__LS - Processed Food Items__beef bacon', 'DCC__H6482 - DCC Main Kitchen__LS - Processed Food Items__beef burger', 'DCC__H6482 - DCC Main Kitchen__LS - Processed Food Items__beef croquettes', 'DCC__H6482 - DCC Main Kitchen__LS - Processed Food Items__beef pepperoni', 'DCC__H6482 - DCC Main Kitchen__LS - Processed Food Items__chicken', 'DCC__H6482 - DCC Main Kitchen__LS - Processed Food Items__chicken burger', 'DCC__H6482 - DCC Main Kitchen__LS - Processed Food Items__chicken nuggets', 'DCC__H6482 - DCC Main Kitchen__LS - Processed Food Items__dim sum', 'DCC__H6482 - DCC Main Kitchen__LS - Processed Food Items__fatayer', 'DCC__H6482 - DCC Main Kitchen__LS - Processed Food Items__kebbeh', 'DCC__H6482 - DCC Main Kitchen__LS - Processed Food Items__paratha', 'DCC__H6482 - DCC Main Kitchen__LS - Processed Food Items__potato chaat', 'DCC__H6482 - DCC Main Kitchen__LS - Processed Food Items__sambousek', 'DCC__H6482 - DCC Main Kitchen__LS - Processed Food Items__samosa mutton', 'DCC__H6482 - DCC Main Kitchen__LS - Processed Food Items__samosa punjabi', 'DCC__H6482 - DCC Main Kitchen__LS - Processed Food Items__sausage', 'DCC__H6482 - DCC Main Kitchen__LS - Processed Food Items__shish barak', 'DCC__H6482 - DCC Main Kitchen__LS - Processed Food Items__spring roll, cheese', 'DCC__H6482 - DCC Main Kitchen__LS - Processed Food Items__turkey bacon', 'DCC__H6482 - DCC Main Kitchen__LS - Processed Food Items__turkey ham', 'DCC__H6482 - DCC Main Kitchen__LS - Processed Food Items__veal', 'DCC__H6482 - DCC Main Kitchen__LS - Processed Food Items__veal bacon', 'DCC__H6482 - DCC Main Kitchen__LS - Sauces and Dressing__bbq sauce', 'DCC__H6482 - DCC Main Kitchen__LS - Sauces and Dressing__bean paste', 'DCC__H6482 - DCC Main Kitchen__LS - Sauces and Dressing__cheddar cheese', 'DCC__H6482 - DCC Main Kitchen__LS - Sauces and Dressing__chilli sauce', 'DCC__H6482 - DCC Main Kitchen__LS - Sauces and Dressing__chilli whole', 'DCC__H6482 - DCC Main Kitchen__LS - Sauces and Dressing__cooking sauce', 'DCC__H6482 - DCC Main Kitchen__LS - Sauces and Dressing__gelling agent', 'DCC__H6482 - DCC Main Kitchen__LS - Sauces and Dressing__guacamole', 'DCC__H6482 - DCC Main Kitchen__LS - Sauces and Dressing__hot sauce', 'DCC__H6482 - DCC Main Kitchen__LS - Sauces and Dressing__indian food wada', 'DCC__H6482 - DCC Main Kitchen__LS - Sauces and Dressing__indian savouries', 'DCC__H6482 - DCC Main Kitchen__LS - Sauces and Dressing__jam mixed fruit', 'DCC__H6482 - DCC Main Kitchen__LS - Sauces and Dressing__jam orange', 'DCC__H6482 - DCC Main Kitchen__LS - Sauces and Dressing__jam strawberry', 'DCC__H6482 - DCC Main Kitchen__LS - Sauces and Dressing__jelly strawberry', 'DCC__H6482 - DCC Main Kitchen__LS - Sauces and Dressing__oyster sauce', 'DCC__H6482 - DCC Main Kitchen__LS - Sauces and Dressing__pepper stuffed with cheese', 'DCC__H6482 - DCC Main Kitchen__LS - Sauces and Dressing__seaweed', 'DCC__H6482 - DCC Main Kitchen__LS - Sauces and Dressing__soya beans', 'DCC__H6482 - DCC Main Kitchen__LS - Sauces and Dressing__steak sauce', 'DCC__H6482 - DCC Main Kitchen__LS - Sauces and Dressing__vinegar', 'DCC__H6482 - DCC Main Kitchen__LS - Seafood Fresh__crab', 'DCC__H6482 - DCC Main Kitchen__LS - Seafood Fresh__mussels', 'DCC__H6482 - DCC Main Kitchen__LS - Seafood Fresh__oyster', 'DCC__H6482 - DCC Main Kitchen__LS - Sweet__arabic sweet', 'DCC__H6482 - DCC Main Kitchen__LS - Sweet__awamat', 'DCC__H6482 - DCC Main Kitchen__LS - Sweet__baklava', 'DCC__H6482 - DCC Main Kitchen__LS - Sweet__balah al sham', 'DCC__H6482 - DCC Main Kitchen__LS - Sweet__barazeq', 'DCC__H6482 - DCC Main Kitchen__LS - Sweet__basbusa', 'DCC__H6482 - DCC Main Kitchen__LS - Sweet__halwa', 'DCC__H6482 - DCC Main Kitchen__LS - Sweet__indian sweet', 'DCC__H6482 - DCC Main Kitchen__LS - Sweet__kunafa', 'DCC__H6482 - DCC Main Kitchen__LS - Sweet__maakaroun', 'DCC__H6482 - DCC Main Kitchen__LS - Sweet__madlouka', 'DCC__H6482 - DCC Main Kitchen__LS - Sweet__mamoul', 'DCC__H6482 - DCC Main Kitchen__LS - Sweet__mawa', 'DCC__H6482 - DCC Main Kitchen__LS - Sweet__qatayef', 'DCC__H6482 - DCC Main Kitchen__LS - Sweet__znoud al set', 'DCC__H6482 - DCC Main Kitchen__LS - Vegetables Fresh__artichoke', 'DCC__H6482 - DCC Main Kitchen__LS - Vegetables Fresh__baby corn', 'DCC__H6482 - DCC Main Kitchen__LS - Vegetables Fresh__bamboo leaf', 'DCC__H6482 - DCC Main Kitchen__LS - Vegetables Fresh__bitter gourd', 'DCC__H6482 - DCC Main Kitchen__LS - Vegetables Fresh__capsicum orange', 'DCC__H6482 - DCC Main Kitchen__LS - Vegetables Fresh__carrot baby', 'DCC__H6482 - DCC Main Kitchen__LS - Vegetables Fresh__carrot purple', 'DCC__H6482 - DCC Main Kitchen__LS - Vegetables Fresh__celeriac', 'DCC__H6482 - DCC Main Kitchen__LS - Vegetables Fresh__chervil', 'DCC__H6482 - DCC Main Kitchen__LS - Vegetables Fresh__chives leaves', 'DCC__H6482 - DCC Main Kitchen__LS - Vegetables Fresh__coconut', 'DCC__H6482 - DCC Main Kitchen__LS - Vegetables Fresh__corn on the cob', 'DCC__H6482 - DCC Main Kitchen__LS - Vegetables Fresh__corn_sweet', 'DCC__H6482 - DCC Main Kitchen__LS - Vegetables Fresh__cress leaves amaranth', 'DCC__H6482 - DCC Main Kitchen__LS - Vegetables Fresh__cress leaves basil', 'DCC__H6482 - DCC Main Kitchen__LS - Vegetables Fresh__cress leaves nasturtum', 'DCC__H6482 - DCC Main Kitchen__LS - Vegetables Fresh__cress leaves popcorn', 'DCC__H6482 - DCC Main Kitchen__LS - Vegetables Fresh__cress leaves red veined', 'DCC__H6482 - DCC Main Kitchen__LS - Vegetables Fresh__cress leaves shiso', 'DCC__H6482 - DCC Main Kitchen__LS - Vegetables Fresh__cress leaves sorrel', 'DCC__H6482 - DCC Main Kitchen__LS - Vegetables Fresh__cress leaves tahoon', 'DCC__H6482 - DCC Main Kitchen__LS - Vegetables Fresh__cress leaves water', 'DCC__H6482 - DCC Main Kitchen__LS - Vegetables Fresh__cress mix', 'DCC__H6482 - DCC Main Kitchen__LS - Vegetables Fresh__endives', 'DCC__H6482 - DCC Main Kitchen__LS - Vegetables Fresh__fennel root', 'DCC__H6482 - DCC Main Kitchen__LS - Vegetables Fresh__flower', 'DCC__H6482 - DCC Main Kitchen__LS - Vegetables Fresh__green chilly', 'DCC__H6482 - DCC Main Kitchen__LS - Vegetables Fresh__lady finger', 'DCC__H6482 - DCC Main Kitchen__LS - Vegetables Fresh__lime leaves', 'DCC__H6482 - DCC Main Kitchen__LS - Vegetables Fresh__lotus root', 'DCC__H6482 - DCC Main Kitchen__LS - Vegetables Fresh__mango', 'DCC__H6482 - DCC Main Kitchen__LS - Vegetables Fresh__onion', 'DCC__H6482 - DCC Main Kitchen__LS - Vegetables Fresh__onion brown', 'DCC__H6482 - DCC Main Kitchen__LS - Vegetables Fresh__onion white', 'DCC__H6482 - DCC Main Kitchen__LS - Vegetables Fresh__oregano leaves', 'DCC__H6482 - DCC Main Kitchen__LS - Vegetables Fresh__pandan leaves', 'DCC__H6482 - DCC Main Kitchen__LS - Vegetables Fresh__parsley', 'DCC__H6482 - DCC Main Kitchen__LS - Vegetables Fresh__parsley leaves', 'DCC__H6482 - DCC Main Kitchen__LS - Vegetables Fresh__parsnip', 'DCC__H6482 - DCC Main Kitchen__LS - Vegetables Fresh__peas', 'DCC__H6482 - DCC Main Kitchen__LS - Vegetables Fresh__potato baby', 'DCC__H6482 - DCC Main Kitchen__LS - Vegetables Fresh__potato purple', 'DCC__H6482 - DCC Main Kitchen__LS - Vegetables Fresh__potato red', 'DCC__H6482 - DCC Main Kitchen__LS - Vegetables Fresh__pumpkin butterneut', 'DCC__H6482 - DCC Main Kitchen__LS - Vegetables Fresh__pumpkin fresh', 'DCC__H6482 - DCC Main Kitchen__LS - Vegetables Fresh__pumpkin halloween', 'DCC__H6482 - DCC Main Kitchen__LS - Vegetables Fresh__sage', 'DCC__H6482 - DCC Main Kitchen__LS - Vegetables Fresh__tapioca', 'DCC__H6482 - DCC Main Kitchen__LS - Vegetables Fresh__taro root', 'DCC__H6482 - DCC Main Kitchen__LS - Vegetables Fresh__tarragon', 'DCC__H6482 - DCC Main Kitchen__LS - Vegetables Fresh__thyme', 'DCC__H6482 - DCC Main Kitchen__LS - Vegetables Fresh__thyme leaves', 'DCC__H6482 - DCC Main Kitchen__LS - Vegetables Fresh__turnip', 'DCC__H6482 - DCC Main Kitchen__LS - Vegetables Fresh__yam', 'DCC__H6482 - DCC Main Kitchen__LS - Vegetables Fresh__zucchini flower', 'DCC__H6482 - DCC Main Kitchen__LS - Vegetables Frozen__beans', 'DCC__H6482 - DCC Main Kitchen__LS - Vegetables Frozen__cabbage roll', 'DCC__H6482 - DCC Main Kitchen__LS - Vegetables Frozen__corn_sweet', 'DCC__H6482 - DCC Main Kitchen__LS - Vegetables Frozen__eggplant', 'DCC__H6482 - DCC Main Kitchen__LS - Vegetables Frozen__lotus root', 'DCC__H6482 - DCC Main Kitchen__LS - Vegetables Frozen__molokhia', 'DCC__H6482 - DCC Main Kitchen__LS - Vegetables Frozen__okra', 'DCC__H6482 - DCC Main Kitchen__LS - Vegetables Frozen__paratha', 'DCC__H6482 - DCC Main Kitchen__LS - Vegetables Frozen__potato croquettes', 'DCC__H6482 - DCC Main Kitchen__LS - Vegetables Frozen__potato wedges', 'DCC__H6482 - DCC Main Kitchen__LS - Vegetables Frozen__soya beans', 'DCC__H6482 - DCC Main Kitchen__LS - Vegetables Frozen__spinach minced', 'DCC__H6482 - DCC Main Kitchen__LS - Vegetables Frozen__spring roll, vegetable', 'DCC__H6482 - DCC Main Kitchen__LS - seafood Frozen__calamari', 'DCC__H6482 - DCC Main Kitchen__LS - seafood Frozen__clams', 'DCC__H6482 - DCC Main Kitchen__LS - seafood Frozen__crab', 'DCC__H6482 - DCC Main Kitchen__LS - seafood Frozen__crab sticks', 'DCC__H6482 - DCC Main Kitchen__LS - seafood Frozen__fish fillet', 'DCC__H6482 - DCC Main Kitchen__LS - seafood Frozen__fish finger', 'DCC__H6482 - DCC Main Kitchen__LS - seafood Frozen__fish roe', 'DCC__H6482 - DCC Main Kitchen__LS - seafood Frozen__lobster', 'DCC__H6482 - DCC Main Kitchen__LS - seafood Frozen__mix seafood', 'DCC__H6482 - DCC Main Kitchen__LS - seafood Frozen__mussels', 'DCC__H6482 - DCC Main Kitchen__LS - seafood Frozen__octopus', 'DCC__H6482 - DCC Main Kitchen__LS - seafood Frozen__scallop', 'DCC__H6482 - DCC Main Kitchen__LS - seafood Frozen__squid', 'DCC__H6482 - DCC Main Kitchen__LS - seafood Frozen__squid rings', 'DCC__H6482 - DCC Main Kitchen__LS - seafood Frozen__sushi shrimp', 'DCC__H6482 - DCC Security__LS - Consumables__display stand', 'DCC__H6482 - DCC Security__LS - Consumables__master keycard', 'DCC__H6482 - DCC Security__LS - Consumables__rfid keycard', 'DCC__H6482 - Engineering Store__LS - Consumables__gas', 'DCC__H6482 - Engineering Store__LS - Consumables__insect killer', 'DCC__H6482 - Engineering Store__LS - Consumables__paint', 'DCC__H6482 - Engineering Store__LS - Consumables__thinner', 'DCC__H6482 - Engineering Store__LS - Electrical Supplies__adhesive', 'DCC__H6482 - Engineering Store__LS - Electrical Supplies__ballast', 'DCC__H6482 - Engineering Store__LS - Electrical Supplies__battery', 'DCC__H6482 - Engineering Store__LS - Electrical Supplies__cable rr', 'DCC__H6482 - Engineering Store__LS - Electrical Supplies__cloth liner', 'DCC__H6482 - Engineering Store__LS - Electrical Supplies__flex cable', 'DCC__H6482 - Engineering Store__LS - Electrical Supplies__lamp', 'DCC__H6482 - Engineering Store__LS - Electrical Supplies__led lamp dimmable', 'DCC__H6482 - Engineering Store__LS - Electrical Supplies__led lamp non dimmable', 'DCC__H6482 - Engineering Store__LS - Electrical Supplies__trunk_pvc', 'DCC__H6482 - Food Store__LS - Bakery Products Chilled__vinegar', 'DCC__H6482 - Food Store__LS - Bakery Products Frozen__filling', 'DCC__H6482 - Food Store__LS - Consumables__chocolate', 'DCC__H6482 - Food Store__LS - Dairy products chilled/frozen__chocolate', 'DCC__H6482 - Food Store__LS - Dairy products chilled/frozen__coffee cream', 'DCC__H6482 - Food Store__LS - Dairy products chilled/frozen__milk', 'DCC__H6482 - Food Store__LS - Dairy products chilled/frozen__milk almond', 'DCC__H6482 - Food Store__LS - Dairy products chilled/frozen__milk powder', 'DCC__H6482 - Food Store__LS - Dried Products__almond bar', 'DCC__H6482 - Food Store__LS - Dried Products__almond powder', 'DCC__H6482 - Food Store__LS - Dried Products__almond whole', 'DCC__H6482 - Food Store__LS - Dried Products__anise star', 'DCC__H6482 - Food Store__LS - Dried Products__artichoke', 'DCC__H6482 - Food Store__LS - Dried Products__baked beans', 'DCC__H6482 - Food Store__LS - Dried Products__baking powder', 'DCC__H6482 - Food Store__LS - Dried Products__bay leave', 'DCC__H6482 - Food Store__LS - Dried Products__bicarbonate soda', 'DCC__H6482 - Food Store__LS - Dried Products__bread crumbs', 'DCC__H6482 - Food Store__LS - Dried Products__brown sugar', 'DCC__H6482 - Food Store__LS - Dried Products__burghul', 'DCC__H6482 - Food Store__LS - Dried Products__candies', 'DCC__H6482 - Food Store__LS - Dried Products__capers', 'DCC__H6482 - Food Store__LS - Dried Products__cardamom', 'DCC__H6482 - Food Store__LS - Dried Products__cardamom whole', 'DCC__H6482 - Food Store__LS - Dried Products__cereal', 'DCC__H6482 - Food Store__LS - Dried Products__cereal bar', 'DCC__H6482 - Food Store__LS - Dried Products__chat masala', 'DCC__H6482 - Food Store__LS - Dried Products__cheddar cheese', 'DCC__H6482 - Food Store__LS - Dried Products__chilli crushed', 'DCC__H6482 - Food Store__LS - Dried Products__chilli dried', 'DCC__H6482 - Food Store__LS - Dried Products__chips tortilla chips', 'DCC__H6482 - Food Store__LS - Dried Products__chips, potato chips', 'DCC__H6482 - Food Store__LS - Dried Products__chocloate poweder', 'DCC__H6482 - Food Store__LS - Dried Products__cinnamon powder', 'DCC__H6482 - Food Store__LS - Dried Products__cloves', 'DCC__H6482 - Food Store__LS - Dried Products__cocoa powder', 'DCC__H6482 - Food Store__LS - Dried Products__coconut water', 'DCC__H6482 - Food Store__LS - Dried Products__coffee', 'DCC__H6482 - Food Store__LS - Dried Products__coriander seeds', 'DCC__H6482 - Food Store__LS - Dried Products__couscous', 'DCC__H6482 - Food Store__LS - Dried Products__crackers', 'DCC__H6482 - Food Store__LS - Dried Products__cumin powder', 'DCC__H6482 - Food Store__LS - Dried Products__cumin seeds', 'DCC__H6482 - Food Store__LS - Dried Products__curry paste', 'DCC__H6482 - Food Store__LS - Dried Products__curry powder', 'DCC__H6482 - Food Store__LS - Dried Products__freekeh', 'DCC__H6482 - Food Store__LS - Dried Products__garam masala', 'DCC__H6482 - Food Store__LS - Dried Products__gelatin powder', 'DCC__H6482 - Food Store__LS - Dried Products__ginger powder', 'DCC__H6482 - Food Store__LS - Dried Products__jalapeno pepper', 'DCC__H6482 - Food Store__LS - Dried Products__karkade', 'DCC__H6482 - Food Store__LS - Dried Products__kasuri methi', 'DCC__H6482 - Food Store__LS - Dried Products__lemon', 'DCC__H6482 - Food Store__LS - Dried Products__mustard', 'DCC__H6482 - Food Store__LS - Dried Products__mustard seeds', 'DCC__H6482 - Food Store__LS - Dried Products__nescafe', 'DCC__H6482 - Food Store__LS - Dried Products__olive oil', 'DCC__H6482 - Food Store__LS - Dried Products__oregano leave', 'DCC__H6482 - Food Store__LS - Dried Products__oregano leaves', 'DCC__H6482 - Food Store__LS - Dried Products__palm heart', 'DCC__H6482 - Food Store__LS - Dried Products__pancake', 'DCC__H6482 - Food Store__LS - Dried Products__papad', 'DCC__H6482 - Food Store__LS - Dried Products__papaya', 'DCC__H6482 - Food Store__LS - Dried Products__paprika powder', 'DCC__H6482 - Food Store__LS - Dried Products__peanuts', 'DCC__H6482 - Food Store__LS - Dried Products__pepper black whole', 'DCC__H6482 - Food Store__LS - Dried Products__pepper white powder', 'DCC__H6482 - Food Store__LS - Dried Products__pine seeds', 'DCC__H6482 - Food Store__LS - Dried Products__pistachio', 'DCC__H6482 - Food Store__LS - Dried Products__protein bar', 'DCC__H6482 - Food Store__LS - Dried Products__prunes', 'DCC__H6482 - Food Store__LS - Dried Products__quinoa seeds', 'DCC__H6482 - Food Store__LS - Dried Products__saffron leaves', 'DCC__H6482 - Food Store__LS - Dried Products__sago seeds', 'DCC__H6482 - Food Store__LS - Dried Products__sambar masala', 'DCC__H6482 - Food Store__LS - Dried Products__seaweed sheets', 'DCC__H6482 - Food Store__LS - Dried Products__sesame oil', 'DCC__H6482 - Food Store__LS - Dried Products__sesame seeds', 'DCC__H6482 - Food Store__LS - Dried Products__shortening oil', 'DCC__H6482 - Food Store__LS - Dried Products__soyabean oil', 'DCC__H6482 - Food Store__LS - Dried Products__spices', 'DCC__H6482 - Food Store__LS - Dried Products__sweetener', 'DCC__H6482 - Food Store__LS - Dried Products__syrup,peach', 'DCC__H6482 - Food Store__LS - Dried Products__thyme leaves', 'DCC__H6482 - Food Store__LS - Dried Products__tomato', 'DCC__H6482 - Food Store__LS - Dried Products__tomato powder', 'DCC__H6482 - Food Store__LS - Dried Products__vegetable oil', 'DCC__H6482 - Food Store__LS - Dried Products__zatar', 'DCC__H6482 - Food Store__LS - Fruits Frozen__puree', 'DCC__H6482 - Food Store__LS - Pasta Products__pasta, farfalle', 'DCC__H6482 - Food Store__LS - Pasta Products__pasta, fettuccine', 'DCC__H6482 - Food Store__LS - Pasta Products__pasta, lasagne', 'DCC__H6482 - Food Store__LS - Pasta Products__pasta, linguine', 'DCC__H6482 - Food Store__LS - Pasta Products__pasta, tagliatelle', 'DCC__H6482 - Food Store__LS - Pasta Products__pasta, vermicelli', 'DCC__H6482 - Food Store__LS - Processed Food Items__beef bacon', 'DCC__H6482 - Food Store__LS - Sauces and Dressing__chilli paste', 'DCC__H6482 - Food Store__LS - Sauces and Dressing__demi glace sauce', 'DCC__H6482 - Food Store__LS - Sauces and Dressing__fish sauce', 'DCC__H6482 - Food Store__LS - Sauces and Dressing__honey', 'DCC__H6482 - Food Store__LS - Sauces and Dressing__horseradish sauce', 'DCC__H6482 - Food Store__LS - Sauces and Dressing__hot sauce', 'DCC__H6482 - Food Store__LS - Sauces and Dressing__jam apricot', 'DCC__H6482 - Food Store__LS - Sauces and Dressing__jam mixed fruit', 'DCC__H6482 - Food Store__LS - Sauces and Dressing__olives black', 'DCC__H6482 - Food Store__LS - Sauces and Dressing__peri peri sauce', 'DCC__H6482 - Food Store__LS - Sauces and Dressing__pickles', 'DCC__H6482 - Food Store__LS - Sauces and Dressing__teriyaki sauce', 'DCC__H6482 - Food Store__LS - Sauces and Dressing__tomato sundried', 'DCC__H6482 - Food Store__LS - Sauces and Dressing__truffle oil', 'DCC__H6482 - Food Store__LS - Sauces and Dressing__vinegar', 'DCC__H6482 - Food Store__LS - Sauces and Dressing__worcestershire sauce', 'DCC__H6482 - Food Store__LS - Sweet__indian sweet, gulab jamun', 'DCC__H6482 - General Store__LS - Cleaning Products & Services__clax, osp diversey', 'DCC__H6482 - General Store__LS - Cleaning Products & Services__disinfectant', 'DCC__H6482 - General Store__LS - Cleaning Products & Services__divosan vt3', 'DCC__H6482 - General Store__LS - Cleaning Products & Services__lape coll.o.l.t_hand care', 'DCC__H6482 - General Store__LS - Cleaning Products & Services__paper towel', 'DCC__H6482 - General Store__LS - Cleaning Products & Services__sponge cloth 16x18cm', 'DCC__H6482 - General Store__LS - Cleaning Products & Services__suma d2', 'DCC__H6482 - General Store__LS - Cleaning Products & Services__suma d4', 'DCC__H6482 - General Store__LS - Cleaning Products & Services__suma d4.5', 'DCC__H6482 - General Store__LS - Cleaning Products & Services__suma d47', 'DCC__H6482 - General Store__LS - Cleaning Products & Services__suma k2', 'DCC__H6482 - General Store__LS - Cleaning Products & Services__suma, d 1', 'DCC__H6482 - General Store__LS - Cleaning Products & Services__suma, d 5', 'DCC__H6482 - General Store__LS - Cleaning Products & Services__suma, l pur', 'DCC__H6482 - General Store__LS - Cleaning Products & Services__suma, select a7', 'DCC__H6482 - General Store__LS - Cleaning Products & Services__trolley mop trolley', 'DCC__H6482 - General Store__LS - Cleaning Products & Services__urinal blocks', 'DCC__H6482 - General Store__LS - Cleaning Products__cleaner', 'DCC__H6482 - General Store__LS - Cleaning Products__excel wipes', 'DCC__H6482 - General Store__LS - Cleaning Products__filter paper', 'DCC__H6482 - General Store__LS - Cleaning Products__gloves', 'DCC__H6482 - General Store__LS - Cleaning Products__handwash', 'DCC__H6482 - General Store__LS - Cleaning Products__paper towel', 'DCC__H6482 - General Store__LS - Cleaning Products__soft care', 'DCC__H6482 - General Store__LS - Cleaning Products__suma', 'DCC__H6482 - General Store__LS - Cleaning Products__suma d1', 'DCC__H6482 - General Store__LS - Cleaning Products__suma d2', 'DCC__H6482 - General Store__LS - Cleaning Products__suma d7', 'DCC__H6482 - General Store__LS - Cleaning Products__suma d7.1', 'DCC__H6482 - General Store__LS - Cleaning Products__suma d9', 'DCC__H6482 - General Store__LS - Consumables__aluminum foil', 'DCC__H6482 - General Store__LS - Consumables__apron', 'DCC__H6482 - General Store__LS - Consumables__bamboo skewer', 'DCC__H6482 - General Store__LS - Consumables__blanket bag', 'DCC__H6482 - General Store__LS - Consumables__body lotion', 'DCC__H6482 - General Store__LS - Consumables__book', 'DCC__H6482 - General Store__LS - Consumables__bowl', 'DCC__H6482 - General Store__LS - Consumables__box', 'DCC__H6482 - General Store__LS - Consumables__conditioner', 'DCC__H6482 - General Store__LS - Consumables__container', 'DCC__H6482 - General Store__LS - Consumables__cup', 'DCC__H6482 - General Store__LS - Consumables__cup lid', 'DCC__H6482 - General Store__LS - Consumables__cutlery set', 'DCC__H6482 - General Store__LS - Consumables__dental kit', 'DCC__H6482 - General Store__LS - Consumables__face mask', 'DCC__H6482 - General Store__LS - Consumables__file folder', 'DCC__H6482 - General Store__LS - Consumables__flip chart', 'DCC__H6482 - General Store__LS - Consumables__food stickers', 'DCC__H6482 - General Store__LS - Consumables__hair net', 'DCC__H6482 - General Store__LS - Consumables__handwash', 'DCC__H6482 - General Store__LS - Consumables__hat', 'DCC__H6482 - General Store__LS - Consumables__highlighter', 'DCC__H6482 - General Store__LS - Consumables__lamination film', 'DCC__H6482 - General Store__LS - Consumables__lunch box', 'DCC__H6482 - General Store__LS - Consumables__marker pen', 'DCC__H6482 - General Store__LS - Consumables__masking tape', 'DCC__H6482 - General Store__LS - Consumables__meal box', 'DCC__H6482 - General Store__LS - Consumables__olive oil', 'DCC__H6482 - General Store__LS - Consumables__paper bag', 'DCC__H6482 - General Store__LS - Consumables__paper roll', 'DCC__H6482 - General Store__LS - Consumables__pencil', 'DCC__H6482 - General Store__LS - Consumables__pencil sharpener', 'DCC__H6482 - General Store__LS - Consumables__piping bag', 'DCC__H6482 - General Store__LS - Consumables__post it pad', 'DCC__H6482 - General Store__LS - Consumables__rubber band', 'DCC__H6482 - General Store__LS - Consumables__sandwich paper', 'DCC__H6482 - General Store__LS - Consumables__sanitary bag', 'DCC__H6482 - General Store__LS - Consumables__scissor', 'DCC__H6482 - General Store__LS - Consumables__scotch tape', 'DCC__H6482 - General Store__LS - Consumables__scrubbing pad', 'DCC__H6482 - General Store__LS - Consumables__shampoo', 'DCC__H6482 - General Store__LS - Consumables__shaving kit', 'DCC__H6482 - General Store__LS - Consumables__shoe mitt', 'DCC__H6482 - General Store__LS - Consumables__shower cap', 'DCC__H6482 - General Store__LS - Consumables__shower gel', 'DCC__H6482 - General Store__LS - Consumables__soft care', 'DCC__H6482 - General Store__LS - Consumables__soup tub', 'DCC__H6482 - General Store__LS - Consumables__sponge', 'DCC__H6482 - General Store__LS - Consumables__stamp pad', 'DCC__H6482 - General Store__LS - Consumables__staple pin', 'DCC__H6482 - General Store__LS - Consumables__stapler', 'DCC__H6482 - General Store__LS - Consumables__stirrer', 'DCC__H6482 - General Store__LS - Consumables__straw', 'DCC__H6482 - General Store__LS - Consumables__tissue', 'DCC__H6482 - General Store__LS - Consumables__toner', 'DCC__H6482 - General Store__LS - Consumables__vacuum bag', 'DCC__H6482 - General Store__LS - Consumables__vanity set', 'DCC__H6482 - General Store__LS - Consumables__wet wipes', 'DCC__H6482 - General Store__LS - Electrical Supplies__adapter', 'DCC__H6482 - NVD Food & Beverage__LS - Bakery Products Frozen__bread flat', 'DCC__H6482 - NVD Food & Beverage__LS - Consumables__candle', 'DCC__H6482 - NVD Food & Beverage__LS - Consumables__coffee cup', 'DCC__H6482 - NVD Food & Beverage__LS - Consumables__divider', 'DCC__H6482 - NVD Food & Beverage__LS - Consumables__flip chart', 'DCC__H6482 - NVD Food & Beverage__LS - Consumables__lunch box', 'DCC__H6482 - NVD Food & Beverage__LS - Consumables__paper bag', 'DCC__H6482 - NVD Food & Beverage__LS - Consumables__soup tub', 'DCC__H6482 - NVD Food & Beverage__LS - Consumables__wet wipes', 'DCC__H6482 - NVD Food & Beverage__LS - Dried Products__honey', 'DCC__H6482 - NVD Front Office__LS - Consumables__foil', 'DCC__H6482 - NVD Front Office__LS - Electrical Supplies__adapter', 'DCC__H6482 - NVD Housekeeping__LS - Cleaning Products & Services__40 ltr dust dust', 'DCC__H6482 - NVD Housekeeping__LS - Cleaning Products & Services__clax, osp diversey', 'DCC__H6482 - NVD Housekeeping__LS - Cleaning Products & Services__iron cleaner', 'DCC__H6482 - NVD Housekeeping__LS - Cleaning Products & Services__other', 'DCC__H6482 - NVD Housekeeping__LS - Cleaning Products & Services__stainless steel waste', 'DCC__H6482 - NVD Housekeeping__LS - Cleaning Products__soft care', 'DCC__H6482 - NVD Housekeeping__LS - Consumables__leather lace up shoes', 'DCC__H6482 - NVD Housekeeping__LS - Consumables__leather shoes', 'DCC__H6482 - NVD Housekeeping__LS - Consumables__table runner', 'DCC__H6482 - NVD Housekeeping__LS - Consumables__toner', 'DCC__H6482 - NVD Housekeeping__LS - Electrical Supplies__kettle', 'DCC__H6482 - NVD Human Resource__LS - Consumables__face mask', 'DCC__H6482 - NVD Human Resource__LS - Consumables__leather lace up shoes', 'DCC__H6482 - NVD Human Resource__LS - Dairy Products Fresh__yoghurt', 'DCC__H6482 - NVD Human Resource__LS - Dairy products chilled/frozen__ice cream', 'DCC__H6482 - NVD Human Resource__LS - Dried Products__pickles', 'DCC__H6482 - NVD Human Resource__LS - Dried Products__tea', 'DCC__H6482 - NVD Human Resource__LS - Fruit Fresh__apple', 'DCC__H6482 - NVD Human Resource__LS - Fruit Fresh__apple golden', 'DCC__H6482 - NVD Human Resource__LS - Fruit Fresh__apple green', 'DCC__H6482 - NVD Human Resource__LS - Fruit Fresh__apple red', 'DCC__H6482 - NVD Human Resource__LS - Fruit Fresh__banana', 'DCC__H6482 - NVD Human Resource__LS - Fruit Fresh__lemon', 'DCC__H6482 - NVD Tala Restaurant__LS - Consumables__coffee cup', 'DCC__H6482 - NVD Tala Restaurant__LS - Consumables__cup', 'DCC__H6482 - NVD Tala Restaurant__LS - Consumables__flower', 'DCC__H6482 - NVD Tala Restaurant__LS - Dried Products__honey', 'DCC__H6482 - NVD Tala Restaurant__LS - Electrical Supplies__other', 'DCC__H6482 - NVD Tala Restaurant__LS - Electrical Supplies__warming plate', 'DCC__H6482 - NVD Tala Restaurant__LS - Sauces and Dressing__jam cherry', 'DCC__H6482 - NVD Tala Restaurant__LS - Sauces and Dressing__jam orange', 'DCC__H6482 - NVD Tala Restaurant__LS - Sauces and Dressing__jam strawberry', 'DCC__H6482 - NVD Vertigo Bar__LS - Dried Products__mixed nuts', 'DCC__H6482 - Soft Beverage Store__LS - Dairy products chilled/frozen__milk', 'DCC__H6482 - Soft Beverage Store__LS - Dairy products chilled/frozen__milk almond', 'DCC__H6482 - Soft Beverage Store__LS - Sauces and Dressing__syrup', 'IRIGGA__H6685 - Food Store__LS - Dairy products chilled/frozen__almond flakes', 'IRIGGA__H6685 - Food Store__LS - Dairy products chilled/frozen__cheddar cheese', 'IRIGGA__H6685 - Food Store__LS - Dairy products chilled/frozen__coffee cream', 'IRIGGA__H6685 - Food Store__LS - Dairy products chilled/frozen__peanut butter', 'IRIGGA__H6685 - Food Store__LS - Dried Products__almond whole', 'IRIGGA__H6685 - Food Store__LS - Dried Products__anise seeds', 'IRIGGA__H6685 - Food Store__LS - Dried Products__anise star', 'IRIGGA__H6685 - Food Store__LS - Dried Products__apricot', 'IRIGGA__H6685 - Food Store__LS - Dried Products__baking powder', 'IRIGGA__H6685 - Food Store__LS - Dried Products__bay leave', 'IRIGGA__H6685 - Food Store__LS - Dried Products__beans', 'IRIGGA__H6685 - Food Store__LS - Dried Products__biryani masala', 'IRIGGA__H6685 - Food Store__LS - Dried Products__burghul', 'IRIGGA__H6685 - Food Store__LS - Dried Products__cardamom whole', 'IRIGGA__H6685 - Food Store__LS - Dried Products__cashew nut', 'IRIGGA__H6685 - Food Store__LS - Dried Products__cereal', 'IRIGGA__H6685 - Food Store__LS - Dried Products__cheddar cheese', 'IRIGGA__H6685 - Food Store__LS - Dried Products__chicken stock', 'IRIGGA__H6685 - Food Store__LS - Dried Products__chilli crushed', 'IRIGGA__H6685 - Food Store__LS - Dried Products__chilli whole', 'IRIGGA__H6685 - Food Store__LS - Dried Products__chocloate poweder', 'IRIGGA__H6685 - Food Store__LS - Dried Products__cinnamon powder', 'IRIGGA__H6685 - Food Store__LS - Dried Products__cinnamon stick', 'IRIGGA__H6685 - Food Store__LS - Dried Products__cloves', 'IRIGGA__H6685 - Food Store__LS - Dried Products__cocktail', 'IRIGGA__H6685 - Food Store__LS - Dried Products__coconut', 'IRIGGA__H6685 - Food Store__LS - Dried Products__coconut syrub', 'IRIGGA__H6685 - Food Store__LS - Dried Products__coffee', 'IRIGGA__H6685 - Food Store__LS - Dried Products__coriander seeds', 'IRIGGA__H6685 - Food Store__LS - Dried Products__corn_sweet', 'IRIGGA__H6685 - Food Store__LS - Dried Products__couscous', 'IRIGGA__H6685 - Food Store__LS - Dried Products__crackers', 'IRIGGA__H6685 - Food Store__LS - Dried Products__cumin powder', 'IRIGGA__H6685 - Food Store__LS - Dried Products__cumin seeds', 'IRIGGA__H6685 - Food Store__LS - Dried Products__curry paste', 'IRIGGA__H6685 - Food Store__LS - Dried Products__dates', 'IRIGGA__H6685 - Food Store__LS - Dried Products__essence', 'IRIGGA__H6685 - Food Store__LS - Dried Products__fig', 'IRIGGA__H6685 - Food Store__LS - Dried Products__fish', 'IRIGGA__H6685 - Food Store__LS - Dried Products__freekeh', 'IRIGGA__H6685 - Food Store__LS - Dried Products__frying oil', 'IRIGGA__H6685 - Food Store__LS - Dried Products__garam masala', 'IRIGGA__H6685 - Food Store__LS - Dried Products__hazelnut', 'IRIGGA__H6685 - Food Store__LS - Dried Products__jalapeno pepper', 'IRIGGA__H6685 - Food Store__LS - Dried Products__jelly bananas', 'IRIGGA__H6685 - Food Store__LS - Dried Products__jelly lemon', 'IRIGGA__H6685 - Food Store__LS - Dried Products__jelly orange powder', 'IRIGGA__H6685 - Food Store__LS - Dried Products__jelly pineapple', 'IRIGGA__H6685 - Food Store__LS - Dried Products__jelly strawberry', 'IRIGGA__H6685 - Food Store__LS - Dried Products__kare kare', 'IRIGGA__H6685 - Food Store__LS - Dried Products__karkade', 'IRIGGA__H6685 - Food Store__LS - Dried Products__kasuri methi', 'IRIGGA__H6685 - Food Store__LS - Dried Products__kiwi', 'IRIGGA__H6685 - Food Store__LS - Dried Products__lemon', 'IRIGGA__H6685 - Food Store__LS - Dried Products__mango', 'IRIGGA__H6685 - Food Store__LS - Dried Products__mustard dijon', 'IRIGGA__H6685 - Food Store__LS - Dried Products__mustard seeds', 'IRIGGA__H6685 - Food Store__LS - Dried Products__oats', 'IRIGGA__H6685 - Food Store__LS - Dried Products__olive oil', 'IRIGGA__H6685 - Food Store__LS - Dried Products__oregano leave', 'IRIGGA__H6685 - Food Store__LS - Dried Products__papad', 'IRIGGA__H6685 - Food Store__LS - Dried Products__papaya', 'IRIGGA__H6685 - Food Store__LS - Dried Products__paprika powder', 'IRIGGA__H6685 - Food Store__LS - Dried Products__pepper black whole', 'IRIGGA__H6685 - Food Store__LS - Dried Products__pickles', 'IRIGGA__H6685 - Food Store__LS - Dried Products__pine seeds', 'IRIGGA__H6685 - Food Store__LS - Dried Products__pineapple', 'IRIGGA__H6685 - Food Store__LS - Dried Products__pistachio', 'IRIGGA__H6685 - Food Store__LS - Dried Products__popcorn', 'IRIGGA__H6685 - Food Store__LS - Dried Products__prunes', 'IRIGGA__H6685 - Food Store__LS - Dried Products__quinoa seeds', 'IRIGGA__H6685 - Food Store__LS - Dried Products__rice poha', 'IRIGGA__H6685 - Food Store__LS - Dried Products__saffron leaves', 'IRIGGA__H6685 - Food Store__LS - Dried Products__sambar masala', 'IRIGGA__H6685 - Food Store__LS - Dried Products__seasoning', 'IRIGGA__H6685 - Food Store__LS - Dried Products__semolina', 'IRIGGA__H6685 - Food Store__LS - Dried Products__sesame seeds', 'IRIGGA__H6685 - Food Store__LS - Dried Products__shrimp paste', 'IRIGGA__H6685 - Food Store__LS - Dried Products__soyabean oil', 'IRIGGA__H6685 - Food Store__LS - Dried Products__sumac powder', 'IRIGGA__H6685 - Food Store__LS - Dried Products__sunflower seeds', 'IRIGGA__H6685 - Food Store__LS - Dried Products__tahina', 'IRIGGA__H6685 - Food Store__LS - Dried Products__tamarind', 'IRIGGA__H6685 - Food Store__LS - Dried Products__tandoori masala powder', 'IRIGGA__H6685 - Food Store__LS - Dried Products__tomato ketchup', 'IRIGGA__H6685 - Food Store__LS - Dried Products__vine leaves', 'IRIGGA__H6685 - Food Store__LS - Dried Products__vinegar', 'IRIGGA__H6685 - Food Store__LS - Dried Products__walnut', 'IRIGGA__H6685 - Food Store__LS - Dried Products__yeast', 'IRIGGA__H6685 - Food Store__LS - Pasta Products__pasta, elbow', 'IRIGGA__H6685 - Food Store__LS - Pasta Products__pasta, farfalle', 'IRIGGA__H6685 - Food Store__LS - Pasta Products__pasta, fettuccine', 'IRIGGA__H6685 - Food Store__LS - Pasta Products__pasta, macaroni', 'IRIGGA__H6685 - Food Store__LS - Pasta Products__pasta, penne', 'IRIGGA__H6685 - Food Store__LS - Pasta Products__pasta, rigatoni', 'IRIGGA__H6685 - Food Store__LS - Pasta Products__pasta, shell', 'IRIGGA__H6685 - Food Store__LS - Pasta Products__pasta, spaghetti', 'IRIGGA__H6685 - Food Store__LS - Pasta Products__pasta, vermicelli', 'IRIGGA__H6685 - Food Store__LS - Sauces and Dressing__baked beans', 'IRIGGA__H6685 - Food Store__LS - Sauces and Dressing__bbq sauce', 'IRIGGA__H6685 - Food Store__LS - Sauces and Dressing__chilli paste', 'IRIGGA__H6685 - Food Store__LS - Sauces and Dressing__demi glace powder', 'IRIGGA__H6685 - Food Store__LS - Sauces and Dressing__fish sauce', 'IRIGGA__H6685 - Food Store__LS - Sauces and Dressing__honey', 'IRIGGA__H6685 - Food Store__LS - Sauces and Dressing__hot sauce', 'IRIGGA__H6685 - Food Store__LS - Sauces and Dressing__jam apricot', 'IRIGGA__H6685 - Food Store__LS - Sauces and Dressing__jam orange', 'IRIGGA__H6685 - Food Store__LS - Sauces and Dressing__jam strawberry', 'IRIGGA__H6685 - Food Store__LS - Sauces and Dressing__mint sauce', 'IRIGGA__H6685 - Food Store__LS - Sauces and Dressing__salsa', 'IRIGGA__H6685 - Food Store__LS - Sauces and Dressing__vinegar', 'IRIGGA__H6685 - General Store__LS - Cleaning Products & Services__clax 3rl1', 'IRIGGA__H6685 - General Store__LS - Cleaning Products & Services__clax 54b1', 'IRIGGA__H6685 - General Store__LS - Cleaning Products & Services__disinfectant', 'IRIGGA__H6685 - General Store__LS - Cleaning Products & Services__divosan vt3', 'IRIGGA__H6685 - General Store__LS - Cleaning Products & Services__lape coll.o.l.t_hand care', 'IRIGGA__H6685 - General Store__LS - Cleaning Products & Services__scrubbing pad', 'IRIGGA__H6685 - General Store__LS - Cleaning Products & Services__soap sun', 'IRIGGA__H6685 - General Store__LS - Cleaning Products & Services__soft care', 'IRIGGA__H6685 - General Store__LS - Cleaning Products & Services__suma d2', 'IRIGGA__H6685 - General Store__LS - Cleaning Products & Services__suma d4', 'IRIGGA__H6685 - General Store__LS - Cleaning Products & Services__suma d4.5', 'IRIGGA__H6685 - General Store__LS - Cleaning Products & Services__suma d47', 'IRIGGA__H6685 - General Store__LS - Cleaning Products & Services__suma d5', 'IRIGGA__H6685 - General Store__LS - Cleaning Products & Services__suma d7', 'IRIGGA__H6685 - General Store__LS - Cleaning Products & Services__suma hand dishwashing liquid', 'IRIGGA__H6685 - General Store__LS - Cleaning Products & Services__suma k2', 'IRIGGA__H6685 - General Store__LS - Cleaning Products & Services__suma, d 8', 'IRIGGA__H6685 - General Store__LS - Cleaning Products & Services__suma, d 9', 'IRIGGA__H6685 - General Store__LS - Cleaning Products & Services__suma, nova l6', 'IRIGGA__H6685 - General Store__LS - Cleaning Products & Services__suma, select a7', 'IRIGGA__H6685 - General Store__LS - Cleaning Products__cleaner', 'IRIGGA__H6685 - General Store__LS - Cleaning Products__handwash', 'IRIGGA__H6685 - General Store__LS - Cleaning Products__oxivir wipes', 'IRIGGA__H6685 - General Store__LS - Cleaning Products__soft care', 'IRIGGA__H6685 - General Store__LS - Cleaning Products__suma', 'IRIGGA__H6685 - General Store__LS - Cleaning Products__suma d2', 'IRIGGA__H6685 - General Store__LS - Consumables__aluminum foil', 'IRIGGA__H6685 - General Store__LS - Consumables__apron', 'IRIGGA__H6685 - General Store__LS - Consumables__book', 'IRIGGA__H6685 - General Store__LS - Consumables__box file', 'IRIGGA__H6685 - General Store__LS - Consumables__cling film', 'IRIGGA__H6685 - General Store__LS - Consumables__cup', 'IRIGGA__H6685 - General Store__LS - Consumables__cup lid', 'IRIGGA__H6685 - General Store__LS - Consumables__cutlery set', 'IRIGGA__H6685 - General Store__LS - Consumables__face mask', 'IRIGGA__H6685 - General Store__LS - Consumables__file folder', 'IRIGGA__H6685 - General Store__LS - Consumables__flip chart', 'IRIGGA__H6685 - General Store__LS - Consumables__foil', 'IRIGGA__H6685 - General Store__LS - Consumables__food stickers', 'IRIGGA__H6685 - General Store__LS - Consumables__gloves', 'IRIGGA__H6685 - General Store__LS - Consumables__hair net', 'IRIGGA__H6685 - General Store__LS - Consumables__hat', 'IRIGGA__H6685 - General Store__LS - Consumables__highlighter', 'IRIGGA__H6685 - General Store__LS - Consumables__lamination film', 'IRIGGA__H6685 - General Store__LS - Consumables__lunch box', 'IRIGGA__H6685 - General Store__LS - Consumables__marker pen', 'IRIGGA__H6685 - General Store__LS - Consumables__olive oil', 'IRIGGA__H6685 - General Store__LS - Consumables__paper bag', 'IRIGGA__H6685 - General Store__LS - Consumables__paper coaster', 'IRIGGA__H6685 - General Store__LS - Consumables__paper cup', 'IRIGGA__H6685 - General Store__LS - Consumables__paper roll', 'IRIGGA__H6685 - General Store__LS - Consumables__pen', 'IRIGGA__H6685 - General Store__LS - Consumables__photocopy paper', 'IRIGGA__H6685 - General Store__LS - Consumables__pizza box', 'IRIGGA__H6685 - General Store__LS - Consumables__post it pad', 'IRIGGA__H6685 - General Store__LS - Consumables__sandwich paper', 'IRIGGA__H6685 - General Store__LS - Consumables__scotch tape', 'IRIGGA__H6685 - General Store__LS - Consumables__scrubbing pad', 'IRIGGA__H6685 - General Store__LS - Consumables__soft care', 'IRIGGA__H6685 - General Store__LS - Consumables__soup tub', 'IRIGGA__H6685 - General Store__LS - Consumables__stamp pad', 'IRIGGA__H6685 - General Store__LS - Consumables__stapler', 'IRIGGA__H6685 - General Store__LS - Consumables__stirrer', 'IRIGGA__H6685 - General Store__LS - Consumables__straw', 'IRIGGA__H6685 - General Store__LS - Consumables__toner', 'IRIGGA__H6685 - General Store__LS - Consumables__wet wipes', 'IRIGGA__H6685 - General Store__LS - Electrical Supplies__adapter', 'IRIGGA__H6685 - IBIS Al Rigga CafÃ© Lounge__LS - Consumables__olive oil', 'IRIGGA__H6685 - IBIS Al Rigga CafÃ© Lounge__LS - Consumables__soup tub', 'IRIGGA__H6685 - IBIS Al Rigga Engineering__LS - Cleaning Products & Services__cleaner', 'IRIGGA__H6685 - IBIS Al Rigga Engineering__LS - Cleaning Products & Services__condensor coil cleaner', 'IRIGGA__H6685 - IBIS Al Rigga Engineering__LS - Cleaning Products & Services__contact cleaner spray', 'IRIGGA__H6685 - IBIS Al Rigga Engineering__LS - Cleaning Products & Services__wd-40', 'IRIGGA__H6685 - IBIS Al Rigga Engineering__LS - Cleaning Products__photometer tablet', 'IRIGGA__H6685 - IBIS Al Rigga Engineering__LS - Consumables__aluminum tape', 'IRIGGA__H6685 - IBIS Al Rigga Engineering__LS - Consumables__double sided tape', 'IRIGGA__H6685 - IBIS Al Rigga Engineering__LS - Consumables__glue fevicol', 'IRIGGA__H6685 - IBIS Al Rigga Engineering__LS - Consumables__glue loctite', 'IRIGGA__H6685 - IBIS Al Rigga Engineering__LS - Consumables__insect killer', 'IRIGGA__H6685 - IBIS Al Rigga Engineering__LS - Consumables__led lamp non dimmable', 'IRIGGA__H6685 - IBIS Al Rigga Engineering__LS - Consumables__masking tape', 'IRIGGA__H6685 - IBIS Al Rigga Engineering__LS - Consumables__polythene', 'IRIGGA__H6685 - IBIS Al Rigga Engineering__LS - Consumables__silicon,antifungus', 'IRIGGA__H6685 - IBIS Al Rigga Engineering__LS - Consumables__tape teflon', 'IRIGGA__H6685 - IBIS Al Rigga Engineering__LS - Consumables__thinner', 'IRIGGA__H6685 - IBIS Al Rigga Engineering__LS - Electrical Supplies__ballast', 'IRIGGA__H6685 - IBIS Al Rigga Engineering__LS - Electrical Supplies__battery', 'IRIGGA__H6685 - IBIS Al Rigga Engineering__LS - Electrical Supplies__box', 'IRIGGA__H6685 - IBIS Al Rigga Engineering__LS - Electrical Supplies__cable tie', 'IRIGGA__H6685 - IBIS Al Rigga Engineering__LS - Electrical Supplies__capacitor', 'IRIGGA__H6685 - IBIS Al Rigga Engineering__LS - Electrical Supplies__card holder', 'IRIGGA__H6685 - IBIS Al Rigga Engineering__LS - Electrical Supplies__compressor', 'IRIGGA__H6685 - IBIS Al Rigga Engineering__LS - Electrical Supplies__door stopper', 'IRIGGA__H6685 - IBIS Al Rigga Engineering__LS - Electrical Supplies__fluorescent tube', 'IRIGGA__H6685 - IBIS Al Rigga Engineering__LS - Electrical Supplies__insulation tape', 'IRIGGA__H6685 - IBIS Al Rigga Engineering__LS - Electrical Supplies__lamp', 'IRIGGA__H6685 - IBIS Al Rigga Engineering__LS - Electrical Supplies__lamp holder', 'IRIGGA__H6685 - IBIS Al Rigga Engineering__LS - Electrical Supplies__led lamp', 'IRIGGA__H6685 - IBIS Al Rigga Engineering__LS - Electrical Supplies__led lamp non dimmable', 'IRIGGA__H6685 - IBIS Al Rigga Engineering__LS - Electrical Supplies__light', 'IRIGGA__H6685 - IBIS Al Rigga Engineering__LS - Electrical Supplies__masking tape', 'IRIGGA__H6685 - IBIS Al Rigga Engineering__LS - Electrical Supplies__socket', 'IRIGGA__H6685 - IBIS Al Rigga Engineering__LS - Electrical Supplies__starter', 'IRIGGA__H6685 - IBIS Al Rigga Engineering__LS - Electrical Supplies__window beads chain', 'IRIGGA__H6685 - IBIS Al Rigga F&B Department__LS - Consumables__olive oil', 'IRIGGA__H6685 - IBIS Al Rigga F&B Department__LS - Consumables__ribbon cartridge', 'IRIGGA__H6685 - IBIS Al Rigga F&B Department__LS - Consumables__soup tub', 'IRIGGA__H6685 - IBIS Al Rigga F&B Department__LS - Consumables__toothpick', 'IRIGGA__H6685 - IBIS Al Rigga F&B Department__LS - Electrical Supplies__other', 'IRIGGA__H6685 - IBIS Al Rigga Finance__LS - Consumables__calculator', 'IRIGGA__H6685 - IBIS Al Rigga Finance__LS - Consumables__toner', 'IRIGGA__H6685 - IBIS Al Rigga Finance__LS - Electrical Supplies__bulb', 'IRIGGA__H6685 - IBIS Al Rigga Front Office__LS - Consumables__foil', 'IRIGGA__H6685 - IBIS Al Rigga Front Office__LS - Consumables__tissue', 'IRIGGA__H6685 - IBIS Al Rigga Front Office__LS - Electrical Supplies__mobile phone', 'IRIGGA__H6685 - IBIS Al Rigga Housekeeping__LS - Cleaning Products & Services__clax 54b1', 'IRIGGA__H6685 - IBIS Al Rigga Housekeeping__LS - Cleaning Products & Services__lape coll.o.l.t_hand care', 'IRIGGA__H6685 - IBIS Al Rigga Housekeeping__LS - Cleaning Products & Services__soft care', 'IRIGGA__H6685 - IBIS Al Rigga Housekeeping__LS - Cleaning Products__soft care', 'IRIGGA__H6685 - IBIS Al Rigga Housekeeping__LS - Consumables__garbage bag', 'IRIGGA__H6685 - IBIS Al Rigga Housekeeping__LS - Consumables__gloves', 'IRIGGA__H6685 - IBIS Al Rigga Housekeeping__LS - Consumables__laundry bag', 'IRIGGA__H6685 - IBIS Al Rigga Housekeeping__LS - Consumables__paper coaster', 'IRIGGA__H6685 - IBIS Al Rigga Housekeeping__LS - Consumables__paper cup', 'IRIGGA__H6685 - IBIS Al Rigga Housekeeping__LS - Consumables__soft care', 'IRIGGA__H6685 - IBIS Al Rigga Housekeeping__LS - Consumables__toilet paper roll', 'IRIGGA__H6685 - IBIS Al Rigga Laundry__LS - Cleaning Products & Services__clax 3rl1', 'IRIGGA__H6685 - IBIS Al Rigga Laundry__LS - Cleaning Products & Services__clax 54b1', 'IRIGGA__H6685 - IBIS Al Rigga Main Kitchen__LS - Bakery Products Fresh__bread', 'IRIGGA__H6685 - IBIS Al Rigga Main Kitchen__LS - Bakery Products Fresh__bread buger', 'IRIGGA__H6685 - IBIS Al Rigga Main Kitchen__LS - Bakery Products Fresh__bread roll', 'IRIGGA__H6685 - IBIS Al Rigga Main Kitchen__LS - Bakery Products Frozen__bread buger', 'IRIGGA__H6685 - IBIS Al Rigga Main Kitchen__LS - Bakery Products Frozen__bread grissini', 'IRIGGA__H6685 - IBIS Al Rigga Main Kitchen__LS - Bakery Products Frozen__bread loaf', 'IRIGGA__H6685 - IBIS Al Rigga Main Kitchen__LS - Bakery Products Frozen__cookies', 'IRIGGA__H6685 - IBIS Al Rigga Main Kitchen__LS - Bakery Products Frozen__cranberry sauce', 'IRIGGA__H6685 - IBIS Al Rigga Main Kitchen__LS - Bakery Products Frozen__dim sum', 'IRIGGA__H6685 - IBIS Al Rigga Main Kitchen__LS - Bakery Products Frozen__flour', 'IRIGGA__H6685 - IBIS Al Rigga Main Kitchen__LS - Bakery Products Frozen__indian bread', 'IRIGGA__H6685 - IBIS Al Rigga Main Kitchen__LS - Bakery Products Frozen__puff pastry', 'IRIGGA__H6685 - IBIS Al Rigga Main Kitchen__LS - Cleaning Products & Services__handle', 'IRIGGA__H6685 - IBIS Al Rigga Main Kitchen__LS - Cleaning Products__cleaner', 'IRIGGA__H6685 - IBIS Al Rigga Main Kitchen__LS - Cleaning Products__suma', 'IRIGGA__H6685 - IBIS Al Rigga Main Kitchen__LS - Cleaning Products__suma d2', 'IRIGGA__H6685 - IBIS Al Rigga Main Kitchen__LS - Consumables__apron', 'IRIGGA__H6685 - IBIS Al Rigga Main Kitchen__LS - Consumables__box', 'IRIGGA__H6685 - IBIS Al Rigga Main Kitchen__LS - Consumables__hair net', 'IRIGGA__H6685 - IBIS Al Rigga Main Kitchen__LS - Consumables__hat', 'IRIGGA__H6685 - IBIS Al Rigga Main Kitchen__LS - Consumables__pizza box', 'IRIGGA__H6685 - IBIS Al Rigga Main Kitchen__LS - Consumables__soup tub', 'IRIGGA__H6685 - IBIS Al Rigga Main Kitchen__LS - Dairy Products Fresh__labneh balls', 'IRIGGA__H6685 - IBIS Al Rigga Main Kitchen__LS - Dairy Products Fresh__labneh,full fat', 'IRIGGA__H6685 - IBIS Al Rigga Main Kitchen__LS - Dairy Products Fresh__quail eggs', 'IRIGGA__H6685 - IBIS Al Rigga Main Kitchen__LS - Dairy products chilled/frozen__almond flakes', 'IRIGGA__H6685 - IBIS Al Rigga Main Kitchen__LS - Dairy products chilled/frozen__bean curd', 'IRIGGA__H6685 - IBIS Al Rigga Main Kitchen__LS - Dairy products chilled/frozen__cheese', 'IRIGGA__H6685 - IBIS Al Rigga Main Kitchen__LS - Dairy products chilled/frozen__cooking cream', 'IRIGGA__H6685 - IBIS Al Rigga Main Kitchen__LS - Dairy products chilled/frozen__cream cheese', 'IRIGGA__H6685 - IBIS Al Rigga Main Kitchen__LS - Dairy products chilled/frozen__eggs white liquid', 'IRIGGA__H6685 - IBIS Al Rigga Main Kitchen__LS - Dairy products chilled/frozen__goat cheese', 'IRIGGA__H6685 - IBIS Al Rigga Main Kitchen__LS - Dairy products chilled/frozen__ice cream', 'IRIGGA__H6685 - IBIS Al Rigga Main Kitchen__LS - Dairy products chilled/frozen__milk', 'IRIGGA__H6685 - IBIS Al Rigga Main Kitchen__LS - Dairy products chilled/frozen__parmesan cheese', 'IRIGGA__H6685 - IBIS Al Rigga Main Kitchen__LS - Dairy products chilled/frozen__samosa cheese', 'IRIGGA__H6685 - IBIS Al Rigga Main Kitchen__LS - Dried Products__almond flakes', 'IRIGGA__H6685 - IBIS Al Rigga Main Kitchen__LS - Dried Products__anardana powder', 'IRIGGA__H6685 - IBIS Al Rigga Main Kitchen__LS - Dried Products__awamat', 'IRIGGA__H6685 - IBIS Al Rigga Main Kitchen__LS - Dried Products__basbusa', 'IRIGGA__H6685 - IBIS Al Rigga Main Kitchen__LS - Dried Products__basmati rice', 'IRIGGA__H6685 - IBIS Al Rigga Main Kitchen__LS - Dried Products__bean curd', 'IRIGGA__H6685 - IBIS Al Rigga Main Kitchen__LS - Dried Products__beans', 'IRIGGA__H6685 - IBIS Al Rigga Main Kitchen__LS - Dried Products__bread crumbs', 'IRIGGA__H6685 - IBIS Al Rigga Main Kitchen__LS - Dried Products__caraway seeds', 'IRIGGA__H6685 - IBIS Al Rigga Main Kitchen__LS - Dried Products__chips tortilla chips', 'IRIGGA__H6685 - IBIS Al Rigga Main Kitchen__LS - Dried Products__chocolate', 'IRIGGA__H6685 - IBIS Al Rigga Main Kitchen__LS - Dried Products__cinnamon stick', 'IRIGGA__H6685 - IBIS Al Rigga Main Kitchen__LS - Dried Products__cocktail', 'IRIGGA__H6685 - IBIS Al Rigga Main Kitchen__LS - Dried Products__coconut', 'IRIGGA__H6685 - IBIS Al Rigga Main Kitchen__LS - Dried Products__coriander seeds', 'IRIGGA__H6685 - IBIS Al Rigga Main Kitchen__LS - Dried Products__couscous', 'IRIGGA__H6685 - IBIS Al Rigga Main Kitchen__LS - Dried Products__dal', 'IRIGGA__H6685 - IBIS Al Rigga Main Kitchen__LS - Dried Products__dates', 'IRIGGA__H6685 - IBIS Al Rigga Main Kitchen__LS - Dried Products__dim sum', 'IRIGGA__H6685 - IBIS Al Rigga Main Kitchen__LS - Dried Products__eggplant', 'IRIGGA__H6685 - IBIS Al Rigga Main Kitchen__LS - Dried Products__fish', 'IRIGGA__H6685 - IBIS Al Rigga Main Kitchen__LS - Dried Products__flour', 'IRIGGA__H6685 - IBIS Al Rigga Main Kitchen__LS - Dried Products__freekeh', 'IRIGGA__H6685 - IBIS Al Rigga Main Kitchen__LS - Dried Products__halwa', 'IRIGGA__H6685 - IBIS Al Rigga Main Kitchen__LS - Dried Products__indian sweet, rasmalai', 'IRIGGA__H6685 - IBIS Al Rigga Main Kitchen__LS - Dried Products__jalapeno pepper', 'IRIGGA__H6685 - IBIS Al Rigga Main Kitchen__LS - Dried Products__karkade', 'IRIGGA__H6685 - IBIS Al Rigga Main Kitchen__LS - Dried Products__kunafa', 'IRIGGA__H6685 - IBIS Al Rigga Main Kitchen__LS - Dried Products__lemon', 'IRIGGA__H6685 - IBIS Al Rigga Main Kitchen__LS - Dried Products__mamoul', 'IRIGGA__H6685 - IBIS Al Rigga Main Kitchen__LS - Dried Products__nutmeg', 'IRIGGA__H6685 - IBIS Al Rigga Main Kitchen__LS - Dried Products__pastry', 'IRIGGA__H6685 - IBIS Al Rigga Main Kitchen__LS - Dried Products__peanuts', 'IRIGGA__H6685 - IBIS Al Rigga Main Kitchen__LS - Dried Products__pickles', 'IRIGGA__H6685 - IBIS Al Rigga Main Kitchen__LS - Dried Products__puff pastry', 'IRIGGA__H6685 - IBIS Al Rigga Main Kitchen__LS - Dried Products__pumpkin seeds', 'IRIGGA__H6685 - IBIS Al Rigga Main Kitchen__LS - Dried Products__quinoa seeds', 'IRIGGA__H6685 - IBIS Al Rigga Main Kitchen__LS - Dried Products__rice', 'IRIGGA__H6685 - IBIS Al Rigga Main Kitchen__LS - Dried Products__sago seeds', 'IRIGGA__H6685 - IBIS Al Rigga Main Kitchen__LS - Dried Products__salsa', 'IRIGGA__H6685 - IBIS Al Rigga Main Kitchen__LS - Dried Products__salt', 'IRIGGA__H6685 - IBIS Al Rigga Main Kitchen__LS - Dried Products__seaweed sheets', 'IRIGGA__H6685 - IBIS Al Rigga Main Kitchen__LS - Dried Products__sunflower seeds', 'IRIGGA__H6685 - IBIS Al Rigga Main Kitchen__LS - Dried Products__tahina', 'IRIGGA__H6685 - IBIS Al Rigga Main Kitchen__LS - Dried Products__thyme leaves', 'IRIGGA__H6685 - IBIS Al Rigga Main Kitchen__LS - Dried Products__tom yum', 'IRIGGA__H6685 - IBIS Al Rigga Main Kitchen__LS - Dried Products__walnut', 'IRIGGA__H6685 - IBIS Al Rigga Main Kitchen__LS - Dried Products__wasabi powder', 'IRIGGA__H6685 - IBIS Al Rigga Main Kitchen__LS - Fruit Fresh__apple golden', 'IRIGGA__H6685 - IBIS Al Rigga Main Kitchen__LS - Fruit Fresh__avacado', 'IRIGGA__H6685 - IBIS Al Rigga Main Kitchen__LS - Fruit Fresh__blackberry', 'IRIGGA__H6685 - IBIS Al Rigga Main Kitchen__LS - Fruit Fresh__blueberry', 'IRIGGA__H6685 - IBIS Al Rigga Main Kitchen__LS - Fruit Fresh__cherry', 'IRIGGA__H6685 - IBIS Al Rigga Main Kitchen__LS - Fruit Fresh__coconut whole', 'IRIGGA__H6685 - IBIS Al Rigga Main Kitchen__LS - Fruit Fresh__dragon fruit', 'IRIGGA__H6685 - IBIS Al Rigga Main Kitchen__LS - Fruit Fresh__fruit basket', 'IRIGGA__H6685 - IBIS Al Rigga Main Kitchen__LS - Fruit Fresh__honeydew melon', 'IRIGGA__H6685 - IBIS Al Rigga Main Kitchen__LS - Fruit Fresh__kiwi', 'IRIGGA__H6685 - IBIS Al Rigga Main Kitchen__LS - Fruit Fresh__lime', 'IRIGGA__H6685 - IBIS Al Rigga Main Kitchen__LS - Fruit Fresh__papaya', 'IRIGGA__H6685 - IBIS Al Rigga Main Kitchen__LS - Fruit Fresh__passion fruit', 'IRIGGA__H6685 - IBIS Al Rigga Main Kitchen__LS - Fruit Fresh__pear', 'IRIGGA__H6685 - IBIS Al Rigga Main Kitchen__LS - Fruit Fresh__pear coscia', 'IRIGGA__H6685 - IBIS Al Rigga Main Kitchen__LS - Fruit Fresh__pear yali', 'IRIGGA__H6685 - IBIS Al Rigga Main Kitchen__LS - Fruit Fresh__pomegranate', 'IRIGGA__H6685 - IBIS Al Rigga Main Kitchen__LS - Fruit Fresh__pomelo', 'IRIGGA__H6685 - IBIS Al Rigga Main Kitchen__LS - Fruit Fresh__puree', 'IRIGGA__H6685 - IBIS Al Rigga Main Kitchen__LS - Fruit Fresh__strawberry', 'IRIGGA__H6685 - IBIS Al Rigga Main Kitchen__LS - Fruit Fresh__sweet melon', 'IRIGGA__H6685 - IBIS Al Rigga Main Kitchen__LS - Fruits Frozen__avacado', 'IRIGGA__H6685 - IBIS Al Rigga Main Kitchen__LS - Fruits Frozen__chestnut peeled', 'IRIGGA__H6685 - IBIS Al Rigga Main Kitchen__LS - Fruits Frozen__guacamole', 'IRIGGA__H6685 - IBIS Al Rigga Main Kitchen__LS - Meat Fresh__beef', 'IRIGGA__H6685 - IBIS Al Rigga Main Kitchen__LS - Meat Frozen__lamb', 'IRIGGA__H6685 - IBIS Al Rigga Main Kitchen__LS - Poultry Chilled__chicken', 'IRIGGA__H6685 - IBIS Al Rigga Main Kitchen__LS - Poultry Fresh__eggs white', 'IRIGGA__H6685 - IBIS Al Rigga Main Kitchen__LS - Poultry Frozen__chicken drumstick', 'IRIGGA__H6685 - IBIS Al Rigga Main Kitchen__LS - Poultry Frozen__chicken nuggets', 'IRIGGA__H6685 - IBIS Al Rigga Main Kitchen__LS - Poultry Frozen__duck', 'IRIGGA__H6685 - IBIS Al Rigga Main Kitchen__LS - Poultry Frozen__turkey', 'IRIGGA__H6685 - IBIS Al Rigga Main Kitchen__LS - Processed Food Items__beef', 'IRIGGA__H6685 - IBIS Al Rigga Main Kitchen__LS - Processed Food Items__chicken burger', 'IRIGGA__H6685 - IBIS Al Rigga Main Kitchen__LS - Processed Food Items__dim sum', 'IRIGGA__H6685 - IBIS Al Rigga Main Kitchen__LS - Processed Food Items__falafel', 'IRIGGA__H6685 - IBIS Al Rigga Main Kitchen__LS - Processed Food Items__fatayer', 'IRIGGA__H6685 - IBIS Al Rigga Main Kitchen__LS - Processed Food Items__kebbeh', 'IRIGGA__H6685 - IBIS Al Rigga Main Kitchen__LS - Processed Food Items__sambousek', 'IRIGGA__H6685 - IBIS Al Rigga Main Kitchen__LS - Processed Food Items__samosa chicken', 'IRIGGA__H6685 - IBIS Al Rigga Main Kitchen__LS - Processed Food Items__samosa, spinach', 'IRIGGA__H6685 - IBIS Al Rigga Main Kitchen__LS - Processed Food Items__samosa, vegetable', 'IRIGGA__H6685 - IBIS Al Rigga Main Kitchen__LS - Processed Food Items__spring roll, chicken', 'IRIGGA__H6685 - IBIS Al Rigga Main Kitchen__LS - Processed Food Items__spring roll, vegetable', 'IRIGGA__H6685 - IBIS Al Rigga Main Kitchen__LS - Sauces and Dressing__cheddar cheese', 'IRIGGA__H6685 - IBIS Al Rigga Main Kitchen__LS - Sauces and Dressing__guacamole', 'IRIGGA__H6685 - IBIS Al Rigga Main Kitchen__LS - Sauces and Dressing__hot sauce', 'IRIGGA__H6685 - IBIS Al Rigga Main Kitchen__LS - Sauces and Dressing__seaweed', 'IRIGGA__H6685 - IBIS Al Rigga Main Kitchen__LS - Seafood Fresh__clams', 'IRIGGA__H6685 - IBIS Al Rigga Main Kitchen__LS - Seafood Fresh__crab', 'IRIGGA__H6685 - IBIS Al Rigga Main Kitchen__LS - Seafood Fresh__fish', 'IRIGGA__H6685 - IBIS Al Rigga Main Kitchen__LS - Sweet__arabic sweet', 'IRIGGA__H6685 - IBIS Al Rigga Main Kitchen__LS - Sweet__awamat', 'IRIGGA__H6685 - IBIS Al Rigga Main Kitchen__LS - Sweet__baklava', 'IRIGGA__H6685 - IBIS Al Rigga Main Kitchen__LS - Sweet__balah al sham', 'IRIGGA__H6685 - IBIS Al Rigga Main Kitchen__LS - Sweet__barazeq', 'IRIGGA__H6685 - IBIS Al Rigga Main Kitchen__LS - Sweet__basbusa', 'IRIGGA__H6685 - IBIS Al Rigga Main Kitchen__LS - Sweet__chaibeyat', 'IRIGGA__H6685 - IBIS Al Rigga Main Kitchen__LS - Sweet__dates', 'IRIGGA__H6685 - IBIS Al Rigga Main Kitchen__LS - Sweet__katayef', 'IRIGGA__H6685 - IBIS Al Rigga Main Kitchen__LS - Sweet__kunafa', 'IRIGGA__H6685 - IBIS Al Rigga Main Kitchen__LS - Sweet__maakaroun', 'IRIGGA__H6685 - IBIS Al Rigga Main Kitchen__LS - Sweet__madlouka', 'IRIGGA__H6685 - IBIS Al Rigga Main Kitchen__LS - Sweet__mamoul', 'IRIGGA__H6685 - IBIS Al Rigga Main Kitchen__LS - Sweet__moshabak', 'IRIGGA__H6685 - IBIS Al Rigga Main Kitchen__LS - Sweet__nammourah', 'IRIGGA__H6685 - IBIS Al Rigga Main Kitchen__LS - Sweet__qatayef', 'IRIGGA__H6685 - IBIS Al Rigga Main Kitchen__LS - Sweet__znoud al set', 'IRIGGA__H6685 - IBIS Al Rigga Main Kitchen__LS - Vegetables Fresh__asparagus', 'IRIGGA__H6685 - IBIS Al Rigga Main Kitchen__LS - Vegetables Fresh__basil', 'IRIGGA__H6685 - IBIS Al Rigga Main Kitchen__LS - Vegetables Fresh__brussels sprouts', 'IRIGGA__H6685 - IBIS Al Rigga Main Kitchen__LS - Vegetables Fresh__capsicum orange', 'IRIGGA__H6685 - IBIS Al Rigga Main Kitchen__LS - Vegetables Fresh__curry leaves', 'IRIGGA__H6685 - IBIS Al Rigga Main Kitchen__LS - Vegetables Fresh__dill leaves', 'IRIGGA__H6685 - IBIS Al Rigga Main Kitchen__LS - Vegetables Fresh__drumstick', 'IRIGGA__H6685 - IBIS Al Rigga Main Kitchen__LS - Vegetables Fresh__fennel root', 'IRIGGA__H6685 - IBIS Al Rigga Main Kitchen__LS - Vegetables Fresh__garlic whole', 'IRIGGA__H6685 - IBIS Al Rigga Main Kitchen__LS - Vegetables Fresh__kale leaf', 'IRIGGA__H6685 - IBIS Al Rigga Main Kitchen__LS - Vegetables Fresh__lemon', 'IRIGGA__H6685 - IBIS Al Rigga Main Kitchen__LS - Vegetables Fresh__lime leaves', 'IRIGGA__H6685 - IBIS Al Rigga Main Kitchen__LS - Vegetables Fresh__mango', 'IRIGGA__H6685 - IBIS Al Rigga Main Kitchen__LS - Vegetables Fresh__onion white', 'IRIGGA__H6685 - IBIS Al Rigga Main Kitchen__LS - Vegetables Fresh__pandan leaves', 'IRIGGA__H6685 - IBIS Al Rigga Main Kitchen__LS - Vegetables Fresh__potato baby', 'IRIGGA__H6685 - IBIS Al Rigga Main Kitchen__LS - Vegetables Fresh__potato sweet', 'IRIGGA__H6685 - IBIS Al Rigga Main Kitchen__LS - Vegetables Fresh__pumpkin butterneut', 'IRIGGA__H6685 - IBIS Al Rigga Main Kitchen__LS - Vegetables Fresh__rosemary', 'IRIGGA__H6685 - IBIS Al Rigga Main Kitchen__LS - Vegetables Fresh__spinach', 'IRIGGA__H6685 - IBIS Al Rigga Main Kitchen__LS - Vegetables Fresh__zucchini green', 'IRIGGA__H6685 - IBIS Al Rigga Main Kitchen__LS - Vegetables Fresh__zucchini yellow', 'IRIGGA__H6685 - IBIS Al Rigga Main Kitchen__LS - Vegetables Frozen__artichoke', 'IRIGGA__H6685 - IBIS Al Rigga Main Kitchen__LS - Vegetables Frozen__beans', 'IRIGGA__H6685 - IBIS Al Rigga Main Kitchen__LS - Vegetables Frozen__corn on the cob', 'IRIGGA__H6685 - IBIS Al Rigga Main Kitchen__LS - Vegetables Frozen__molokhia', 'IRIGGA__H6685 - IBIS Al Rigga Main Kitchen__LS - Vegetables Frozen__okra', 'IRIGGA__H6685 - IBIS Al Rigga Main Kitchen__LS - Vegetables Frozen__potato croquettes', 'IRIGGA__H6685 - IBIS Al Rigga Main Kitchen__LS - Vegetables Frozen__potato hash brown', 'IRIGGA__H6685 - IBIS Al Rigga Main Kitchen__LS - Vegetables Frozen__spinach leaf', 'IRIGGA__H6685 - IBIS Al Rigga Main Kitchen__LS - seafood Frozen__crab sticks', 'IRIGGA__H6685 - IBIS Al Rigga Main Kitchen__LS - seafood Frozen__fish roe', 'IRIGGA__H6685 - IBIS Al Rigga Main Kitchen__LS - seafood Frozen__mussels', 'IRIGGA__H6685 - IBIS Al Rigga Main Kitchen__LS - seafood Frozen__shrimp tempura', 'IRIGGA__H6685 - IBIS Al Rigga Main Kitchen__LS - seafood Frozen__squid rings', 'IRIGGA__H6685 - IBIS Al Rigga Main Kitchen__LS - seafood Frozen__squid tubes', 'IRIGGA__H6685 - IBIS Al Rigga Security__LS - Consumables__book', 'MOE__H6493 - Food Store__LS - Dairy products chilled/frozen__coffee cream', 'MOE__H6493 - Food Store__LS - Dairy products chilled/frozen__peanut butter', 'MOE__H6493 - Food Store__LS - Dried Products__almond bar', 'MOE__H6493 - Food Store__LS - Dried Products__almond flakes', 'MOE__H6493 - Food Store__LS - Dried Products__almond whole', 'MOE__H6493 - Food Store__LS - Dried Products__baking powder', 'MOE__H6493 - Food Store__LS - Dried Products__bay leave', 'MOE__H6493 - Food Store__LS - Dried Products__beans', 'MOE__H6493 - Food Store__LS - Dried Products__bicarbonate soda', 'MOE__H6493 - Food Store__LS - Dried Products__burghul', 'MOE__H6493 - Food Store__LS - Dried Products__capers', 'MOE__H6493 - Food Store__LS - Dried Products__cardamom powder', 'MOE__H6493 - Food Store__LS - Dried Products__cardamom whole', 'MOE__H6493 - Food Store__LS - Dried Products__cashew nut', 'MOE__H6493 - Food Store__LS - Dried Products__cereal', 'MOE__H6493 - Food Store__LS - Dried Products__cereal bar', 'MOE__H6493 - Food Store__LS - Dried Products__chilli crushed', 'MOE__H6493 - Food Store__LS - Dried Products__chilli powder', 'MOE__H6493 - Food Store__LS - Dried Products__chilli whole', 'MOE__H6493 - Food Store__LS - Dried Products__cinnamon powder', 'MOE__H6493 - Food Store__LS - Dried Products__cinnamon stick', 'MOE__H6493 - Food Store__LS - Dried Products__cloves', 'MOE__H6493 - Food Store__LS - Dried Products__coconut', 'MOE__H6493 - Food Store__LS - Dried Products__coriander seeds', 'MOE__H6493 - Food Store__LS - Dried Products__corn_sweet', 'MOE__H6493 - Food Store__LS - Dried Products__couscous', 'MOE__H6493 - Food Store__LS - Dried Products__crackers', 'MOE__H6493 - Food Store__LS - Dried Products__cranberry', 'MOE__H6493 - Food Store__LS - Dried Products__cumin powder', 'MOE__H6493 - Food Store__LS - Dried Products__cumin seeds', 'MOE__H6493 - Food Store__LS - Dried Products__essence', 'MOE__H6493 - Food Store__LS - Dried Products__fenugreek seeds', 'MOE__H6493 - Food Store__LS - Dried Products__fig', 'MOE__H6493 - Food Store__LS - Dried Products__fish', 'MOE__H6493 - Food Store__LS - Dried Products__frying oil', 'MOE__H6493 - Food Store__LS - Dried Products__garam masala', 'MOE__H6493 - Food Store__LS - Dried Products__ginger powder', 'MOE__H6493 - Food Store__LS - Dried Products__hazelnut', 'MOE__H6493 - Food Store__LS - Dried Products__indian spice', 'MOE__H6493 - Food Store__LS - Dried Products__jam strawberry', 'MOE__H6493 - Food Store__LS - Dried Products__kasuri methi', 'MOE__H6493 - Food Store__LS - Dried Products__lemon', 'MOE__H6493 - Food Store__LS - Dried Products__mushroom', 'MOE__H6493 - Food Store__LS - Dried Products__mustard', 'MOE__H6493 - Food Store__LS - Dried Products__mustard oil', 'MOE__H6493 - Food Store__LS - Dried Products__mustard seeds', 'MOE__H6493 - Food Store__LS - Dried Products__nescafe', 'MOE__H6493 - Food Store__LS - Dried Products__nutella', 'MOE__H6493 - Food Store__LS - Dried Products__nutmeg', 'MOE__H6493 - Food Store__LS - Dried Products__oregano leave', 'MOE__H6493 - Food Store__LS - Dried Products__papad', 'MOE__H6493 - Food Store__LS - Dried Products__pepper black powder', 'MOE__H6493 - Food Store__LS - Dried Products__pepper black whole', 'MOE__H6493 - Food Store__LS - Dried Products__pine seeds', 'MOE__H6493 - Food Store__LS - Dried Products__pistachio', 'MOE__H6493 - Food Store__LS - Dried Products__popcorn', 'MOE__H6493 - Food Store__LS - Dried Products__protein bar', 'MOE__H6493 - Food Store__LS - Dried Products__rice', 'MOE__H6493 - Food Store__LS - Dried Products__sesame oil', 'MOE__H6493 - Food Store__LS - Dried Products__sesame seeds', 'MOE__H6493 - Food Store__LS - Dried Products__sugar sweetener', 'MOE__H6493 - Food Store__LS - Dried Products__sumac powder', 'MOE__H6493 - Food Store__LS - Dried Products__sunflower oil', 'MOE__H6493 - Food Store__LS - Dried Products__sunflower seeds', 'MOE__H6493 - Food Store__LS - Dried Products__tandoori masala powder', 'MOE__H6493 - Food Store__LS - Dried Products__tea', 'MOE__H6493 - Food Store__LS - Dried Products__tomato ketchup', 'MOE__H6493 - Food Store__LS - Dried Products__tomato paste', 'MOE__H6493 - Food Store__LS - Dried Products__vine leaves', 'MOE__H6493 - Food Store__LS - Dried Products__vinegar', 'MOE__H6493 - Food Store__LS - Pasta Products__pasta, farfalle', 'MOE__H6493 - Food Store__LS - Pasta Products__pasta, fettuccine', 'MOE__H6493 - Food Store__LS - Pasta Products__pasta, spaghetti', 'MOE__H6493 - Food Store__LS - Pasta Products__pasta, tagliatelle', 'MOE__H6493 - Food Store__LS - Sauces and Dressing__bbq sauce', 'MOE__H6493 - Food Store__LS - Sauces and Dressing__demi glace powder', 'MOE__H6493 - Food Store__LS - Sauces and Dressing__fish sauce', 'MOE__H6493 - Food Store__LS - Sauces and Dressing__honey', 'MOE__H6493 - Food Store__LS - Sauces and Dressing__hot sauce', 'MOE__H6493 - Food Store__LS - Sauces and Dressing__jam', 'MOE__H6493 - Food Store__LS - Sauces and Dressing__jam cherry', 'MOE__H6493 - Food Store__LS - Sauces and Dressing__jam mixed fruit', 'MOE__H6493 - Food Store__LS - Sauces and Dressing__jam orange', 'MOE__H6493 - Food Store__LS - Sauces and Dressing__jam strawberry', 'MOE__H6493 - Food Store__LS - Sauces and Dressing__olives black', 'MOE__H6493 - Food Store__LS - Sauces and Dressing__olives green', 'MOE__H6493 - Food Store__LS - Sauces and Dressing__soya sauce', 'MOE__H6493 - Food Store__LS - Sauces and Dressing__syrup', 'MOE__H6493 - Food Store__LS - Sauces and Dressing__vinegar', 'MOE__H6493 - Food Store__LS - Vegetables Fresh__green peas', 'MOE__H6493 - General Store__LS - Cleaning Products & Services__air freshener', 'MOE__H6493 - General Store__LS - Cleaning Products & Services__clax, osp diversey', 'MOE__H6493 - General Store__LS - Cleaning Products & Services__cleaner,copper', 'MOE__H6493 - General Store__LS - Cleaning Products & Services__divosan vt3', 'MOE__H6493 - General Store__LS - Cleaning Products & Services__floor wiper', 'MOE__H6493 - General Store__LS - Cleaning Products & Services__paper towel', 'MOE__H6493 - General Store__LS - Cleaning Products & Services__scrubbing pad', 'MOE__H6493 - General Store__LS - Cleaning Products & Services__soft care', 'MOE__H6493 - General Store__LS - Cleaning Products & Services__suma d2', 'MOE__H6493 - General Store__LS - Cleaning Products & Services__suma d4', 'MOE__H6493 - General Store__LS - Cleaning Products & Services__suma d4.5', 'MOE__H6493 - General Store__LS - Cleaning Products & Services__suma d47', 'MOE__H6493 - General Store__LS - Cleaning Products & Services__suma d5.2', 'MOE__H6493 - General Store__LS - Cleaning Products & Services__suma hand dishwashing liquid', 'MOE__H6493 - General Store__LS - Cleaning Products & Services__suma k2', 'MOE__H6493 - General Store__LS - Cleaning Products & Services__suma, d 1', 'MOE__H6493 - General Store__LS - Cleaning Products & Services__suma, d 5', 'MOE__H6493 - General Store__LS - Cleaning Products & Services__suma, d 8', 'MOE__H6493 - General Store__LS - Cleaning Products & Services__suma, d 9', 'MOE__H6493 - General Store__LS - Cleaning Products & Services__suma, nova l6', 'MOE__H6493 - General Store__LS - Cleaning Products & Services__suma, select a7', 'MOE__H6493 - General Store__LS - Cleaning Products__cleaner', 'MOE__H6493 - General Store__LS - Cleaning Products__disinfectant', 'MOE__H6493 - General Store__LS - Cleaning Products__garbage bag', 'MOE__H6493 - General Store__LS - Cleaning Products__oxivir wipes', 'MOE__H6493 - General Store__LS - Cleaning Products__soft care', 'MOE__H6493 - General Store__LS - Cleaning Products__suma d2', 'MOE__H6493 - General Store__LS - Cleaning Products__suma d4.5', 'MOE__H6493 - General Store__LS - Cleaning Products__suma d7.1', 'MOE__H6493 - General Store__LS - Consumables__aluminum foil', 'MOE__H6493 - General Store__LS - Consumables__apron', 'MOE__H6493 - General Store__LS - Consumables__bag,silicon', 'MOE__H6493 - General Store__LS - Consumables__book', 'MOE__H6493 - General Store__LS - Consumables__bowl', 'MOE__H6493 - General Store__LS - Consumables__box', 'MOE__H6493 - General Store__LS - Consumables__burger wrap', 'MOE__H6493 - General Store__LS - Consumables__cake', 'MOE__H6493 - General Store__LS - Consumables__charcoal', 'MOE__H6493 - General Store__LS - Consumables__conditioner', 'MOE__H6493 - General Store__LS - Consumables__container, aluminium', 'MOE__H6493 - General Store__LS - Consumables__container, plastic', 'MOE__H6493 - General Store__LS - Consumables__cup', 'MOE__H6493 - General Store__LS - Consumables__cup lid', 'MOE__H6493 - General Store__LS - Consumables__cup,plastic', 'MOE__H6493 - General Store__LS - Consumables__divider', 'MOE__H6493 - General Store__LS - Consumables__eraser', 'MOE__H6493 - General Store__LS - Consumables__face mask', 'MOE__H6493 - General Store__LS - Consumables__file folder', 'MOE__H6493 - General Store__LS - Consumables__file hanging', 'MOE__H6493 - General Store__LS - Consumables__flip chart', 'MOE__H6493 - General Store__LS - Consumables__food stickers', 'MOE__H6493 - General Store__LS - Consumables__freezer zipper', 'MOE__H6493 - General Store__LS - Consumables__glue stick', 'MOE__H6493 - General Store__LS - Consumables__hair net', 'MOE__H6493 - General Store__LS - Consumables__hand fuel', 'MOE__H6493 - General Store__LS - Consumables__hat', 'MOE__H6493 - General Store__LS - Consumables__lamination film', 'MOE__H6493 - General Store__LS - Consumables__lid,plastic', 'MOE__H6493 - General Store__LS - Consumables__liner base', 'MOE__H6493 - General Store__LS - Consumables__marker pen', 'MOE__H6493 - General Store__LS - Consumables__match box', 'MOE__H6493 - General Store__LS - Consumables__meal box', 'MOE__H6493 - General Store__LS - Consumables__olive oil', 'MOE__H6493 - General Store__LS - Consumables__other', 'MOE__H6493 - General Store__LS - Consumables__paper', 'MOE__H6493 - General Store__LS - Consumables__paper cup', 'MOE__H6493 - General Store__LS - Consumables__paper roll', 'MOE__H6493 - General Store__LS - Consumables__paper towel', 'MOE__H6493 - General Store__LS - Consumables__pencil sharpener', 'MOE__H6493 - General Store__LS - Consumables__pizza box', 'MOE__H6493 - General Store__LS - Consumables__post it pad', 'MOE__H6493 - General Store__LS - Consumables__rubber band', 'MOE__H6493 - General Store__LS - Consumables__salad tub', 'MOE__H6493 - General Store__LS - Consumables__scotch tape', 'MOE__H6493 - General Store__LS - Consumables__scrubbing pad', 'MOE__H6493 - General Store__LS - Consumables__semi gloss', 'MOE__H6493 - General Store__LS - Consumables__slippers', 'MOE__H6493 - General Store__LS - Consumables__soft care', 'MOE__H6493 - General Store__LS - Consumables__soup tub', 'MOE__H6493 - General Store__LS - Consumables__staple pin', 'MOE__H6493 - General Store__LS - Consumables__staple remover', 'MOE__H6493 - General Store__LS - Consumables__stapler', 'MOE__H6493 - General Store__LS - Consumables__stirrer', 'MOE__H6493 - General Store__LS - Consumables__straw', 'MOE__H6493 - General Store__LS - Consumables__tissue', 'MOE__H6493 - General Store__LS - Consumables__vacuum bag', 'MOE__H6493 - General Store__LS - Consumables__wet wipes', 'MOE__H6493 - General Store__LS - Electrical Supplies__adapter', 'MOE__H6493 - MOE Engineering Consumption__LS - Cleaning Products & Services__christmas decoration', 'MOE__H6493 - MOE Engineering Consumption__LS - Cleaning Products & Services__cleaning powder', 'MOE__H6493 - MOE Engineering Consumption__LS - Cleaning Products & Services__other', 'MOE__H6493 - MOE Engineering Consumption__LS - Cleaning Products & Services__stain remover', 'MOE__H6493 - MOE Engineering Consumption__LS - Cleaning Products & Services__wd-40', 'MOE__H6493 - MOE Engineering Consumption__LS - Consumables__aluminum tape', 'MOE__H6493 - MOE Engineering Consumption__LS - Consumables__basin mixer', 'MOE__H6493 - MOE Engineering Consumption__LS - Consumables__book', 'MOE__H6493 - MOE Engineering Consumption__LS - Consumables__chlorine sensor electrolyte', 'MOE__H6493 - MOE Engineering Consumption__LS - Consumables__chlorine sensor membrane cap', 'MOE__H6493 - MOE Engineering Consumption__LS - Consumables__cleaner', 'MOE__H6493 - MOE Engineering Consumption__LS - Consumables__door gasket', 'MOE__H6493 - MOE Engineering Consumption__LS - Consumables__door handle', 'MOE__H6493 - MOE Engineering Consumption__LS - Consumables__double sided tape', 'MOE__H6493 - MOE Engineering Consumption__LS - Consumables__drawer', 'MOE__H6493 - MOE Engineering Consumption__LS - Consumables__duster', 'MOE__H6493 - MOE Engineering Consumption__LS - Consumables__fluorescent tube', 'MOE__H6493 - MOE Engineering Consumption__LS - Consumables__grease', 'MOE__H6493 - MOE Engineering Consumption__LS - Consumables__insect killer', 'MOE__H6493 - MOE Engineering Consumption__LS - Consumables__insulation tape', 'MOE__H6493 - MOE Engineering Consumption__LS - Consumables__kitchen supplies', 'MOE__H6493 - MOE Engineering Consumption__LS - Consumables__lamp', 'MOE__H6493 - MOE Engineering Consumption__LS - Consumables__led lamp', 'MOE__H6493 - MOE Engineering Consumption__LS - Consumables__led lamp dimmable', 'MOE__H6493 - MOE Engineering Consumption__LS - Consumables__led lamp non dimmable', 'MOE__H6493 - MOE Engineering Consumption__LS - Consumables__other', 'MOE__H6493 - MOE Engineering Consumption__LS - Consumables__pen', 'MOE__H6493 - MOE Engineering Consumption__LS - Consumables__plywood', 'MOE__H6493 - MOE Engineering Consumption__LS - Consumables__safety goggles', 'MOE__H6493 - MOE Engineering Consumption__LS - Consumables__sand paper', 'MOE__H6493 - MOE Engineering Consumption__LS - Consumables__shear lock', 'MOE__H6493 - MOE Engineering Consumption__LS - Consumables__shower washer regulator', 'MOE__H6493 - MOE Engineering Consumption__LS - Consumables__silicon,antifungus', 'MOE__H6493 - MOE Engineering Consumption__LS - Consumables__socket', 'MOE__H6493 - MOE Engineering Consumption__LS - Consumables__stapler', 'MOE__H6493 - MOE Engineering Consumption__LS - Consumables__tape teflon', 'MOE__H6493 - MOE Engineering Consumption__LS - Consumables__thinner', 'MOE__H6493 - MOE Engineering Consumption__LS - Consumables__valve', 'MOE__H6493 - MOE Engineering Consumption__LS - Consumables__warning tape', 'MOE__H6493 - MOE Engineering Consumption__LS - Consumables__wash basin stopper', 'MOE__H6493 - MOE Engineering Consumption__LS - Consumables__water filter', 'MOE__H6493 - MOE Engineering Consumption__LS - Electrical Supplies__box', 'MOE__H6493 - MOE Engineering Consumption__LS - Electrical Supplies__bulb', 'MOE__H6493 - MOE Engineering Consumption__LS - Electrical Supplies__cable rr', 'MOE__H6493 - MOE Engineering Consumption__LS - Electrical Supplies__capacitor', 'MOE__H6493 - MOE Engineering Consumption__LS - Electrical Supplies__card holder', 'MOE__H6493 - MOE Engineering Consumption__LS - Electrical Supplies__compressor', 'MOE__H6493 - MOE Engineering Consumption__LS - Electrical Supplies__condesning fan motor', 'MOE__H6493 - MOE Engineering Consumption__LS - Electrical Supplies__connector', 'MOE__H6493 - MOE Engineering Consumption__LS - Electrical Supplies__contactor', 'MOE__H6493 - MOE Engineering Consumption__LS - Electrical Supplies__control relay', 'MOE__H6493 - MOE Engineering Consumption__LS - Electrical Supplies__door handle', 'MOE__H6493 - MOE Engineering Consumption__LS - Electrical Supplies__electrofusion', 'MOE__H6493 - MOE Engineering Consumption__LS - Electrical Supplies__insulation tape', 'MOE__H6493 - MOE Engineering Consumption__LS - Electrical Supplies__isolator', 'MOE__H6493 - MOE Engineering Consumption__LS - Electrical Supplies__kitchen supplies', 'MOE__H6493 - MOE Engineering Consumption__LS - Electrical Supplies__lamp', 'MOE__H6493 - MOE Engineering Consumption__LS - Electrical Supplies__lamp holder', 'MOE__H6493 - MOE Engineering Consumption__LS - Electrical Supplies__led driver', 'MOE__H6493 - MOE Engineering Consumption__LS - Electrical Supplies__led lamp', 'MOE__H6493 - MOE Engineering Consumption__LS - Electrical Supplies__led lamp dimmable', 'MOE__H6493 - MOE Engineering Consumption__LS - Electrical Supplies__led lamp non dimmable', 'MOE__H6493 - MOE Engineering Consumption__LS - Electrical Supplies__led light', 'MOE__H6493 - MOE Engineering Consumption__LS - Electrical Supplies__plug top', 'MOE__H6493 - MOE Engineering Consumption__LS - Electrical Supplies__screw', 'MOE__H6493 - MOE Engineering Consumption__LS - Electrical Supplies__socket', 'MOE__H6493 - MOE Engineering Consumption__LS - Electrical Supplies__switch', 'MOE__H6493 - MOE Engineering Consumption__LS - Electrical Supplies__thermometer', 'MOE__H6493 - MOE Engineering Consumption__LS - Electrical Supplies__transformer', 'MOE__H6493 - MOE Engineering__LS - Consumables__paint', 'MOE__H6493 - MOE Engineering__LS - Electrical Supplies__led lamp non dimmable', 'MOE__H6493 - MOE Engineering__LS - Electrical Supplies__plug top', 'MOE__H6493 - MOE Engineering__LS - Electrical Supplies__socket', 'MOE__H6493 - MOE F&B Department__LS - Bakery Products Fresh__bread arabic', 'MOE__H6493 - MOE F&B Department__LS - Bakery Products Fresh__bread pan', 'MOE__H6493 - MOE F&B Department__LS - Bakery Products Fresh__bread toast', 'MOE__H6493 - MOE F&B Department__LS - Bakery Products Frozen__croissant', 'MOE__H6493 - MOE F&B Department__LS - Consumables__card', 'MOE__H6493 - MOE F&B Department__LS - Consumables__christmas decoration', 'MOE__H6493 - MOE F&B Department__LS - Consumables__cup', 'MOE__H6493 - MOE F&B Department__LS - Consumables__fire crackers', 'MOE__H6493 - MOE F&B Department__LS - Consumables__napkin', 'MOE__H6493 - MOE F&B Department__LS - Consumables__other', 'MOE__H6493 - MOE F&B Department__LS - Consumables__photocopy paper', 'MOE__H6493 - MOE F&B Department__LS - Dairy Products Fresh__eggs', 'MOE__H6493 - MOE F&B Department__LS - Dairy Products Fresh__eggs white', 'MOE__H6493 - MOE F&B Department__LS - Dairy products chilled/frozen__cheddar cheese', 'MOE__H6493 - MOE F&B Department__LS - Dairy products chilled/frozen__emmental cheese', 'MOE__H6493 - MOE F&B Department__LS - Dairy products chilled/frozen__mascarpone cheese', 'MOE__H6493 - MOE F&B Department__LS - Dairy products chilled/frozen__mozzarella cheese', 'MOE__H6493 - MOE F&B Department__LS - Dried Products__coffee', 'MOE__H6493 - MOE F&B Department__LS - Dried Products__coffee beans', 'MOE__H6493 - MOE F&B Department__LS - Fruit Fresh__apple green', 'MOE__H6493 - MOE F&B Department__LS - Fruit Fresh__apple red', 'MOE__H6493 - MOE F&B Department__LS - Fruit Fresh__blackberry', 'MOE__H6493 - MOE F&B Department__LS - Fruit Fresh__grapes', 'MOE__H6493 - MOE F&B Department__LS - Fruit Fresh__lime', 'MOE__H6493 - MOE F&B Department__LS - Fruit Fresh__pear nashi', 'MOE__H6493 - MOE F&B Department__LS - Fruit Fresh__raspberry', 'MOE__H6493 - MOE F&B Department__LS - Poultry Fresh__eggs white', 'MOE__H6493 - MOE F&B Department__LS - Poultry Frozen__chicken', 'MOE__H6493 - MOE F&B Department__LS - Vegetables Fresh__beans', 'MOE__H6493 - MOE F&B Department__LS - Vegetables Fresh__brussels sprouts', 'MOE__H6493 - MOE F&B Department__LS - Vegetables Fresh__capsicum red', 'MOE__H6493 - MOE F&B Department__LS - Vegetables Fresh__garlic peeled', 'MOE__H6493 - MOE F&B Department__LS - Vegetables Fresh__garlic whole', 'MOE__H6493 - MOE F&B Department__LS - Vegetables Fresh__green chilli', 'MOE__H6493 - MOE F&B Department__LS - Vegetables Fresh__kale leaf', 'MOE__H6493 - MOE F&B Department__LS - Vegetables Fresh__lettuce', 'MOE__H6493 - MOE F&B Department__LS - Vegetables Fresh__pumpkin red', 'MOE__H6493 - MOE F&B Department__LS - Vegetables Frozen__potato french fries', 'MOE__H6493 - MOE F&B Department__LS - Vegetables Frozen__soya beans', 'MOE__H6493 - MOE Finance__LS - Consumables__scotch tape', 'MOE__H6493 - MOE Finance__LS - Consumables__stamp pad', 'MOE__H6493 - MOE Finance__LS - Electrical Supplies__bulb', 'MOE__H6493 - MOE IBIS Housekeeping__LS - Consumables__garbage bag', 'MOE__H6493 - MOE IBIS Housekeeping__LS - Consumables__kettle', 'MOE__H6493 - MOE IBIS Housekeeping__LS - Dried Products__sugar white', 'MOE__H6493 - MOE IBIS Housekeeping__LS - Electrical Supplies__iron', 'MOE__H6493 - MOE IT__LS - Electrical Supplies__mobile phone', 'MOE__H6493 - MOE Main Kitchen__LS - Bakery Products Fresh__balah al sham', 'MOE__H6493 - MOE Main Kitchen__LS - Bakery Products Fresh__bread', 'MOE__H6493 - MOE Main Kitchen__LS - Bakery Products Fresh__bread grissini', 'MOE__H6493 - MOE Main Kitchen__LS - Bakery Products Fresh__chocolate', 'MOE__H6493 - MOE Main Kitchen__LS - Bakery Products Fresh__muffin mix', 'MOE__H6493 - MOE Main Kitchen__LS - Bakery Products Frozen__bagels', 'MOE__H6493 - MOE Main Kitchen__LS - Bakery Products Frozen__biscuit', 'MOE__H6493 - MOE Main Kitchen__LS - Bakery Products Frozen__bread', 'MOE__H6493 - MOE Main Kitchen__LS - Bakery Products Frozen__bread ciabatta', 'MOE__H6493 - MOE Main Kitchen__LS - Bakery Products Frozen__bread focaccia', 'MOE__H6493 - MOE Main Kitchen__LS - Bakery Products Frozen__bread grissini', 'MOE__H6493 - MOE Main Kitchen__LS - Bakery Products Frozen__bread panini', 'MOE__H6493 - MOE Main Kitchen__LS - Bakery Products Frozen__bread rice', 'MOE__H6493 - MOE Main Kitchen__LS - Bakery Products Frozen__bread toast', 'MOE__H6493 - MOE Main Kitchen__LS - Bakery Products Frozen__bread, focaccia', 'MOE__H6493 - MOE Main Kitchen__LS - Bakery Products Frozen__chappathi', 'MOE__H6493 - MOE Main Kitchen__LS - Bakery Products Frozen__corn tortilla', 'MOE__H6493 - MOE Main Kitchen__LS - Bakery Products Frozen__cranberry sauce', 'MOE__H6493 - MOE Main Kitchen__LS - Bakery Products Frozen__demi glace powder', 'MOE__H6493 - MOE Main Kitchen__LS - Bakery Products Frozen__doughnut', 'MOE__H6493 - MOE Main Kitchen__LS - Bakery Products Frozen__flour', 'MOE__H6493 - MOE Main Kitchen__LS - Bakery Products Frozen__indian bread', 'MOE__H6493 - MOE Main Kitchen__LS - Bakery Products Frozen__kebbeh', 'MOE__H6493 - MOE Main Kitchen__LS - Bakery Products Frozen__macaron', 'MOE__H6493 - MOE Main Kitchen__LS - Bakery Products Frozen__macaroon', 'MOE__H6493 - MOE Main Kitchen__LS - Bakery Products Frozen__muffin', 'MOE__H6493 - MOE Main Kitchen__LS - Bakery Products Frozen__naan bread', 'MOE__H6493 - MOE Main Kitchen__LS - Bakery Products Frozen__pizza base', 'MOE__H6493 - MOE Main Kitchen__LS - Bakery Products Frozen__puff pastry', 'MOE__H6493 - MOE Main Kitchen__LS - Bakery Products Frozen__puree', 'MOE__H6493 - MOE Main Kitchen__LS - Bakery Products Frozen__samosa, cheese', 'MOE__H6493 - MOE Main Kitchen__LS - Bakery Products Frozen__tartlet', 'MOE__H6493 - MOE Main Kitchen__LS - Consumables__aluminum foil', 'MOE__H6493 - MOE Main Kitchen__LS - Consumables__container lid', 'MOE__H6493 - MOE Main Kitchen__LS - Consumables__polycarbonate container', 'MOE__H6493 - MOE Main Kitchen__LS - Dairy Products Fresh__cream cheese', 'MOE__H6493 - MOE Main Kitchen__LS - Dairy Products Fresh__eggs shell', 'MOE__H6493 - MOE Main Kitchen__LS - Dairy Products Fresh__labneh balls', 'MOE__H6493 - MOE Main Kitchen__LS - Dairy Products Fresh__labneh,full fat', 'MOE__H6493 - MOE Main Kitchen__LS - Dairy Products Fresh__parmesan cheese', 'MOE__H6493 - MOE Main Kitchen__LS - Dairy Products Fresh__quail eggs', 'MOE__H6493 - MOE Main Kitchen__LS - Dairy products chilled/frozen__bean curd', 'MOE__H6493 - MOE Main Kitchen__LS - Dairy products chilled/frozen__camembert cheese', 'MOE__H6493 - MOE Main Kitchen__LS - Dairy products chilled/frozen__cheese', 'MOE__H6493 - MOE Main Kitchen__LS - Dairy products chilled/frozen__cheese selection', 'MOE__H6493 - MOE Main Kitchen__LS - Dairy products chilled/frozen__chocolate', 'MOE__H6493 - MOE Main Kitchen__LS - Dairy products chilled/frozen__coffee cream', 'MOE__H6493 - MOE Main Kitchen__LS - Dairy products chilled/frozen__cream cheese', 'MOE__H6493 - MOE Main Kitchen__LS - Dairy products chilled/frozen__dough', 'MOE__H6493 - MOE Main Kitchen__LS - Dairy products chilled/frozen__edam cheese', 'MOE__H6493 - MOE Main Kitchen__LS - Dairy products chilled/frozen__eggs', 'MOE__H6493 - MOE Main Kitchen__LS - Dairy products chilled/frozen__eggs white liquid', 'MOE__H6493 - MOE Main Kitchen__LS - Dairy products chilled/frozen__fatayer', 'MOE__H6493 - MOE Main Kitchen__LS - Dairy products chilled/frozen__goat cheese', 'MOE__H6493 - MOE Main Kitchen__LS - Dairy products chilled/frozen__gorgonzola cheese', 'MOE__H6493 - MOE Main Kitchen__LS - Dairy products chilled/frozen__gouda cheese', 'MOE__H6493 - MOE Main Kitchen__LS - Dairy products chilled/frozen__lamb', 'MOE__H6493 - MOE Main Kitchen__LS - Dairy products chilled/frozen__margarine', 'MOE__H6493 - MOE Main Kitchen__LS - Dairy products chilled/frozen__milk almond', 'MOE__H6493 - MOE Main Kitchen__LS - Dairy products chilled/frozen__paneer cheese', 'MOE__H6493 - MOE Main Kitchen__LS - Dairy products chilled/frozen__peanut butter', 'MOE__H6493 - MOE Main Kitchen__LS - Dairy products chilled/frozen__raspberry', 'MOE__H6493 - MOE Main Kitchen__LS - Dairy products chilled/frozen__ricotta cheese', 'MOE__H6493 - MOE Main Kitchen__LS - Dairy products chilled/frozen__sambousek', 'MOE__H6493 - MOE Main Kitchen__LS - Dairy products chilled/frozen__samosa cheese', 'MOE__H6493 - MOE Main Kitchen__LS - Dairy products chilled/frozen__tomato', 'MOE__H6493 - MOE Main Kitchen__LS - Dairy products chilled/frozen__whipping cream', 'MOE__H6493 - MOE Main Kitchen__LS - Dairy products chilled/frozen__yoghurt', 'MOE__H6493 - MOE Main Kitchen__LS - Dried Products__almond flakes', 'MOE__H6493 - MOE Main Kitchen__LS - Dried Products__almond paste', 'MOE__H6493 - MOE Main Kitchen__LS - Dried Products__almond whole', 'MOE__H6493 - MOE Main Kitchen__LS - Dried Products__anise star', 'MOE__H6493 - MOE Main Kitchen__LS - Dried Products__apricot', 'MOE__H6493 - MOE Main Kitchen__LS - Dried Products__artichoke', 'MOE__H6493 - MOE Main Kitchen__LS - Dried Products__awamat', 'MOE__H6493 - MOE Main Kitchen__LS - Dried Products__baked beans', 'MOE__H6493 - MOE Main Kitchen__LS - Dried Products__baking powder', 'MOE__H6493 - MOE Main Kitchen__LS - Dried Products__banana chips', 'MOE__H6493 - MOE Main Kitchen__LS - Dried Products__basbusa', 'MOE__H6493 - MOE Main Kitchen__LS - Dried Products__basmati rice', 'MOE__H6493 - MOE Main Kitchen__LS - Dried Products__bay leave', 'MOE__H6493 - MOE Main Kitchen__LS - Dried Products__bean curd', 'MOE__H6493 - MOE Main Kitchen__LS - Dried Products__beans', 'MOE__H6493 - MOE Main Kitchen__LS - Dried Products__bicarbonate soda', 'MOE__H6493 - MOE Main Kitchen__LS - Dried Products__bread buger', 'MOE__H6493 - MOE Main Kitchen__LS - Dried Products__bread crumbs', 'MOE__H6493 - MOE Main Kitchen__LS - Dried Products__bread improver', 'MOE__H6493 - MOE Main Kitchen__LS - Dried Products__bread toast', 'MOE__H6493 - MOE Main Kitchen__LS - Dried Products__burghul', 'MOE__H6493 - MOE Main Kitchen__LS - Dried Products__cake mix', 'MOE__H6493 - MOE Main Kitchen__LS - Dried Products__capers', 'MOE__H6493 - MOE Main Kitchen__LS - Dried Products__cardamom powder', 'MOE__H6493 - MOE Main Kitchen__LS - Dried Products__cardamom whole', 'MOE__H6493 - MOE Main Kitchen__LS - Dried Products__cashew nut', 'MOE__H6493 - MOE Main Kitchen__LS - Dried Products__cereal', 'MOE__H6493 - MOE Main Kitchen__LS - Dried Products__cereal bar', 'MOE__H6493 - MOE Main Kitchen__LS - Dried Products__chat masala', 'MOE__H6493 - MOE Main Kitchen__LS - Dried Products__cheddar cheese', 'MOE__H6493 - MOE Main Kitchen__LS - Dried Products__chick peas', 'MOE__H6493 - MOE Main Kitchen__LS - Dried Products__chicken stock', 'MOE__H6493 - MOE Main Kitchen__LS - Dried Products__chilli crushed', 'MOE__H6493 - MOE Main Kitchen__LS - Dried Products__chilli powder', 'MOE__H6493 - MOE Main Kitchen__LS - Dried Products__chilli whole', 'MOE__H6493 - MOE Main Kitchen__LS - Dried Products__chocolate, milk', 'MOE__H6493 - MOE Main Kitchen__LS - Dried Products__cinnamon powder', 'MOE__H6493 - MOE Main Kitchen__LS - Dried Products__cinnamon stick', 'MOE__H6493 - MOE Main Kitchen__LS - Dried Products__cloves', 'MOE__H6493 - MOE Main Kitchen__LS - Dried Products__cocoa powder', 'MOE__H6493 - MOE Main Kitchen__LS - Dried Products__coconut', 'MOE__H6493 - MOE Main Kitchen__LS - Dried Products__coffee', 'MOE__H6493 - MOE Main Kitchen__LS - Dried Products__coffee beans', 'MOE__H6493 - MOE Main Kitchen__LS - Dried Products__cone', 'MOE__H6493 - MOE Main Kitchen__LS - Dried Products__coriander powder', 'MOE__H6493 - MOE Main Kitchen__LS - Dried Products__coriander seeds', 'MOE__H6493 - MOE Main Kitchen__LS - Dried Products__corn flake', 'MOE__H6493 - MOE Main Kitchen__LS - Dried Products__corn oil', 'MOE__H6493 - MOE Main Kitchen__LS - Dried Products__couscous', 'MOE__H6493 - MOE Main Kitchen__LS - Dried Products__crackers', 'MOE__H6493 - MOE Main Kitchen__LS - Dried Products__cranberry', 'MOE__H6493 - MOE Main Kitchen__LS - Dried Products__cream cheese', 'MOE__H6493 - MOE Main Kitchen__LS - Dried Products__cumin powder', 'MOE__H6493 - MOE Main Kitchen__LS - Dried Products__cumin seeds', 'MOE__H6493 - MOE Main Kitchen__LS - Dried Products__curry powder', 'MOE__H6493 - MOE Main Kitchen__LS - Dried Products__dal', 'MOE__H6493 - MOE Main Kitchen__LS - Dried Products__dates', 'MOE__H6493 - MOE Main Kitchen__LS - Dried Products__dim sum', 'MOE__H6493 - MOE Main Kitchen__LS - Dried Products__doughnut', 'MOE__H6493 - MOE Main Kitchen__LS - Dried Products__eggplant', 'MOE__H6493 - MOE Main Kitchen__LS - Dried Products__essence', 'MOE__H6493 - MOE Main Kitchen__LS - Dried Products__fennel seeds', 'MOE__H6493 - MOE Main Kitchen__LS - Dried Products__fenugreek seeds', 'MOE__H6493 - MOE Main Kitchen__LS - Dried Products__fish', 'MOE__H6493 - MOE Main Kitchen__LS - Dried Products__foul mudammas', 'MOE__H6493 - MOE Main Kitchen__LS - Dried Products__frying oil', 'MOE__H6493 - MOE Main Kitchen__LS - Dried Products__garam masala', 'MOE__H6493 - MOE Main Kitchen__LS - Dried Products__garlic powder', 'MOE__H6493 - MOE Main Kitchen__LS - Dried Products__gelatin sheet', 'MOE__H6493 - MOE Main Kitchen__LS - Dried Products__ghee', 'MOE__H6493 - MOE Main Kitchen__LS - Dried Products__ginger powder', 'MOE__H6493 - MOE Main Kitchen__LS - Dried Products__gourmandises box', 'MOE__H6493 - MOE Main Kitchen__LS - Dried Products__halawet al jeben', 'MOE__H6493 - MOE Main Kitchen__LS - Dried Products__halwa', 'MOE__H6493 - MOE Main Kitchen__LS - Dried Products__honey', 'MOE__H6493 - MOE Main Kitchen__LS - Dried Products__indian food idli', 'MOE__H6493 - MOE Main Kitchen__LS - Dried Products__indian snacks', 'MOE__H6493 - MOE Main Kitchen__LS - Dried Products__indian spice', 'MOE__H6493 - MOE Main Kitchen__LS - Dried Products__indian sweet', 'MOE__H6493 - MOE Main Kitchen__LS - Dried Products__indian sweet, rasmalai', 'MOE__H6493 - MOE Main Kitchen__LS - Dried Products__jalapeno pepper', 'MOE__H6493 - MOE Main Kitchen__LS - Dried Products__jalebi', 'MOE__H6493 - MOE Main Kitchen__LS - Dried Products__karkade', 'MOE__H6493 - MOE Main Kitchen__LS - Dried Products__kasuri methi', 'MOE__H6493 - MOE Main Kitchen__LS - Dried Products__kunafa', 'MOE__H6493 - MOE Main Kitchen__LS - Dried Products__lemon', 'MOE__H6493 - MOE Main Kitchen__LS - Dried Products__macaron', 'MOE__H6493 - MOE Main Kitchen__LS - Dried Products__madlouka', 'MOE__H6493 - MOE Main Kitchen__LS - Dried Products__mamoul', 'MOE__H6493 - MOE Main Kitchen__LS - Dried Products__mango', 'MOE__H6493 - MOE Main Kitchen__LS - Dried Products__milk powder', 'MOE__H6493 - MOE Main Kitchen__LS - Dried Products__mixed fruit', 'MOE__H6493 - MOE Main Kitchen__LS - Dried Products__mixed nuts', 'MOE__H6493 - MOE Main Kitchen__LS - Dried Products__muesli', 'MOE__H6493 - MOE Main Kitchen__LS - Dried Products__muffin mix', 'MOE__H6493 - MOE Main Kitchen__LS - Dried Products__mustard', 'MOE__H6493 - MOE Main Kitchen__LS - Dried Products__mustard dijon', 'MOE__H6493 - MOE Main Kitchen__LS - Dried Products__mustard oil', 'MOE__H6493 - MOE Main Kitchen__LS - Dried Products__mustard seeds', 'MOE__H6493 - MOE Main Kitchen__LS - Dried Products__naan bread', 'MOE__H6493 - MOE Main Kitchen__LS - Dried Products__nescafe', 'MOE__H6493 - MOE Main Kitchen__LS - Dried Products__noodles', 'MOE__H6493 - MOE Main Kitchen__LS - Dried Products__nutella', 'MOE__H6493 - MOE Main Kitchen__LS - Dried Products__nutmeg', 'MOE__H6493 - MOE Main Kitchen__LS - Dried Products__oats', 'MOE__H6493 - MOE Main Kitchen__LS - Dried Products__olive oil', 'MOE__H6493 - MOE Main Kitchen__LS - Dried Products__olives black', 'MOE__H6493 - MOE Main Kitchen__LS - Dried Products__olives green', 'MOE__H6493 - MOE Main Kitchen__LS - Dried Products__oregano leave', 'MOE__H6493 - MOE Main Kitchen__LS - Dried Products__palm heart', 'MOE__H6493 - MOE Main Kitchen__LS - Dried Products__papad', 'MOE__H6493 - MOE Main Kitchen__LS - Dried Products__papaya', 'MOE__H6493 - MOE Main Kitchen__LS - Dried Products__paprika powder', 'MOE__H6493 - MOE Main Kitchen__LS - Dried Products__peanuts', 'MOE__H6493 - MOE Main Kitchen__LS - Dried Products__pearl', 'MOE__H6493 - MOE Main Kitchen__LS - Dried Products__pecan nuts', 'MOE__H6493 - MOE Main Kitchen__LS - Dried Products__pepper black powder', 'MOE__H6493 - MOE Main Kitchen__LS - Dried Products__pepper white powder', 'MOE__H6493 - MOE Main Kitchen__LS - Dried Products__pine seeds', 'MOE__H6493 - MOE Main Kitchen__LS - Dried Products__pistachio', 'MOE__H6493 - MOE Main Kitchen__LS - Dried Products__pizza base', 'MOE__H6493 - MOE Main Kitchen__LS - Dried Products__popcorn', 'MOE__H6493 - MOE Main Kitchen__LS - Dried Products__puff pastry', 'MOE__H6493 - MOE Main Kitchen__LS - Dried Products__pumpkin seeds', 'MOE__H6493 - MOE Main Kitchen__LS - Dried Products__quail eggs', 'MOE__H6493 - MOE Main Kitchen__LS - Dried Products__quinoa seeds', 'MOE__H6493 - MOE Main Kitchen__LS - Dried Products__raisins', 'MOE__H6493 - MOE Main Kitchen__LS - Dried Products__rice', 'MOE__H6493 - MOE Main Kitchen__LS - Dried Products__rice poha', 'MOE__H6493 - MOE Main Kitchen__LS - Dried Products__rosemary', 'MOE__H6493 - MOE Main Kitchen__LS - Dried Products__saffron leaves', 'MOE__H6493 - MOE Main Kitchen__LS - Dried Products__sago seeds', 'MOE__H6493 - MOE Main Kitchen__LS - Dried Products__salt', 'MOE__H6493 - MOE Main Kitchen__LS - Dried Products__seasoning', 'MOE__H6493 - MOE Main Kitchen__LS - Dried Products__seaweed sheets', 'MOE__H6493 - MOE Main Kitchen__LS - Dried Products__semolina', 'MOE__H6493 - MOE Main Kitchen__LS - Dried Products__sesame seeds', 'MOE__H6493 - MOE Main Kitchen__LS - Dried Products__shrimp paste', 'MOE__H6493 - MOE Main Kitchen__LS - Dried Products__soya lecithin', 'MOE__H6493 - MOE Main Kitchen__LS - Dried Products__soyabean oil', 'MOE__H6493 - MOE Main Kitchen__LS - Dried Products__spices', 'MOE__H6493 - MOE Main Kitchen__LS - Dried Products__sugar brown', 'MOE__H6493 - MOE Main Kitchen__LS - Dried Products__sugar sweetener', 'MOE__H6493 - MOE Main Kitchen__LS - Dried Products__sugar white', 'MOE__H6493 - MOE Main Kitchen__LS - Dried Products__sumac powder', 'MOE__H6493 - MOE Main Kitchen__LS - Dried Products__sunflower seeds', 'MOE__H6493 - MOE Main Kitchen__LS - Dried Products__sweet', 'MOE__H6493 - MOE Main Kitchen__LS - Dried Products__syrup', 'MOE__H6493 - MOE Main Kitchen__LS - Dried Products__syrup,jackfruit', 'MOE__H6493 - MOE Main Kitchen__LS - Dried Products__tahina', 'MOE__H6493 - MOE Main Kitchen__LS - Dried Products__tandoori masala powder', 'MOE__H6493 - MOE Main Kitchen__LS - Dried Products__tea', 'MOE__H6493 - MOE Main Kitchen__LS - Dried Products__thyme leave', 'MOE__H6493 - MOE Main Kitchen__LS - Dried Products__tomato ketchup', 'MOE__H6493 - MOE Main Kitchen__LS - Dried Products__tomato paste', 'MOE__H6493 - MOE Main Kitchen__LS - Dried Products__tomato peeled', 'MOE__H6493 - MOE Main Kitchen__LS - Dried Products__tomato sundried', 'MOE__H6493 - MOE Main Kitchen__LS - Dried Products__truffle oil', 'MOE__H6493 - MOE Main Kitchen__LS - Dried Products__turmeric powder', 'MOE__H6493 - MOE Main Kitchen__LS - Dried Products__vanilla_pods', 'MOE__H6493 - MOE Main Kitchen__LS - Dried Products__vegetable oil', 'MOE__H6493 - MOE Main Kitchen__LS - Dried Products__vine leaves', 'MOE__H6493 - MOE Main Kitchen__LS - Dried Products__walnut', 'MOE__H6493 - MOE Main Kitchen__LS - Dried Products__wasabi powder', 'MOE__H6493 - MOE Main Kitchen__LS - Dried Products__yeast', 'MOE__H6493 - MOE Main Kitchen__LS - Fruit Fresh__apple', 'MOE__H6493 - MOE Main Kitchen__LS - Fruit Fresh__apple golden', 'MOE__H6493 - MOE Main Kitchen__LS - Fruit Fresh__cranberry', 'MOE__H6493 - MOE Main Kitchen__LS - Fruit Fresh__fig', 'MOE__H6493 - MOE Main Kitchen__LS - Fruit Fresh__granadilla', 'MOE__H6493 - MOE Main Kitchen__LS - Fruit Fresh__mangosteen', 'MOE__H6493 - MOE Main Kitchen__LS - Fruit Fresh__passion fruit', 'MOE__H6493 - MOE Main Kitchen__LS - Fruit Fresh__pear', 'MOE__H6493 - MOE Main Kitchen__LS - Fruit Fresh__pear coscia', 'MOE__H6493 - MOE Main Kitchen__LS - Fruit Fresh__pear rosemary', 'MOE__H6493 - MOE Main Kitchen__LS - Fruit Fresh__pear yali', 'MOE__H6493 - MOE Main Kitchen__LS - Fruit Fresh__pomelo', 'MOE__H6493 - MOE Main Kitchen__LS - Fruit Fresh__rambutan', 'MOE__H6493 - MOE Main Kitchen__LS - Fruit Fresh__sugar cane', 'MOE__H6493 - MOE Main Kitchen__LS - Fruit Fresh__sweet melon', 'MOE__H6493 - MOE Main Kitchen__LS - Fruits Frozen__chestnut peeled', 'MOE__H6493 - MOE Main Kitchen__LS - Fruits Frozen__cranberry', 'MOE__H6493 - MOE Main Kitchen__LS - Fruits Frozen__guacamole', 'MOE__H6493 - MOE Main Kitchen__LS - Fruits Frozen__mixed berries', 'MOE__H6493 - MOE Main Kitchen__LS - Fruits Frozen__mixed berry', 'MOE__H6493 - MOE Main Kitchen__LS - Fruits Frozen__salad', 'MOE__H6493 - MOE Main Kitchen__LS - Meat Fresh__beef', 'MOE__H6493 - MOE Main Kitchen__LS - Meat Fresh__lamb', 'MOE__H6493 - MOE Main Kitchen__LS - Meat Frozen__beef pepperoni', 'MOE__H6493 - MOE Main Kitchen__LS - Meat Frozen__mutton', 'MOE__H6493 - MOE Main Kitchen__LS - Meat Frozen__veal', 'MOE__H6493 - MOE Main Kitchen__LS - Meat chilled__mutton', 'MOE__H6493 - MOE Main Kitchen__LS - Pasta Products__pasta, farfalle', 'MOE__H6493 - MOE Main Kitchen__LS - Pasta Products__pasta, fettuccine', 'MOE__H6493 - MOE Main Kitchen__LS - Pasta Products__pasta, fusilli', 'MOE__H6493 - MOE Main Kitchen__LS - Pasta Products__pasta, lasagne', 'MOE__H6493 - MOE Main Kitchen__LS - Pasta Products__pasta, macaroni', 'MOE__H6493 - MOE Main Kitchen__LS - Pasta Products__pasta, orzo', 'MOE__H6493 - MOE Main Kitchen__LS - Pasta Products__pasta, penne', 'MOE__H6493 - MOE Main Kitchen__LS - Pasta Products__pasta, spaghetti', 'MOE__H6493 - MOE Main Kitchen__LS - Pasta Products__pasta, tagliatelle', 'MOE__H6493 - MOE Main Kitchen__LS - Pasta Products__pasta, tortelloni', 'MOE__H6493 - MOE Main Kitchen__LS - Pasta Products__pasta, vermicelli', 'MOE__H6493 - MOE Main Kitchen__LS - Poultry Chilled__chicken', 'MOE__H6493 - MOE Main Kitchen__LS - Poultry Chilled__duck', 'MOE__H6493 - MOE Main Kitchen__LS - Poultry Chilled__eggs yolk', 'MOE__H6493 - MOE Main Kitchen__LS - Poultry Fresh__chicken', 'MOE__H6493 - MOE Main Kitchen__LS - Poultry Fresh__eggs white', 'MOE__H6493 - MOE Main Kitchen__LS - Poultry Frozen__chicken nuggets', 'MOE__H6493 - MOE Main Kitchen__LS - Poultry Frozen__chicken shawarma', 'MOE__H6493 - MOE Main Kitchen__LS - Poultry Frozen__duck', 'MOE__H6493 - MOE Main Kitchen__LS - Poultry Frozen__turkey', 'MOE__H6493 - MOE Main Kitchen__LS - Processed Food Items__beef bacon', 'MOE__H6493 - MOE Main Kitchen__LS - Processed Food Items__beef burger', 'MOE__H6493 - MOE Main Kitchen__LS - Processed Food Items__beef pepperoni', 'MOE__H6493 - MOE Main Kitchen__LS - Processed Food Items__chicken', 'MOE__H6493 - MOE Main Kitchen__LS - Processed Food Items__chicken burger', 'MOE__H6493 - MOE Main Kitchen__LS - Processed Food Items__chicken nuggets', 'MOE__H6493 - MOE Main Kitchen__LS - Processed Food Items__dates', 'MOE__H6493 - MOE Main Kitchen__LS - Processed Food Items__dim sum', 'MOE__H6493 - MOE Main Kitchen__LS - Processed Food Items__empanadas', 'MOE__H6493 - MOE Main Kitchen__LS - Processed Food Items__falafel', 'MOE__H6493 - MOE Main Kitchen__LS - Processed Food Items__fatayer', 'MOE__H6493 - MOE Main Kitchen__LS - Processed Food Items__kebbeh', 'MOE__H6493 - MOE Main Kitchen__LS - Processed Food Items__meat balls', 'MOE__H6493 - MOE Main Kitchen__LS - Processed Food Items__paratha', 'MOE__H6493 - MOE Main Kitchen__LS - Processed Food Items__sambousek', 'MOE__H6493 - MOE Main Kitchen__LS - Processed Food Items__samosa cheese', 'MOE__H6493 - MOE Main Kitchen__LS - Processed Food Items__samosa chicken', 'MOE__H6493 - MOE Main Kitchen__LS - Processed Food Items__samosa mutton', 'MOE__H6493 - MOE Main Kitchen__LS - Processed Food Items__samosa punjabi', 'MOE__H6493 - MOE Main Kitchen__LS - Processed Food Items__sausage', 'MOE__H6493 - MOE Main Kitchen__LS - Processed Food Items__spring roll, cheese', 'MOE__H6493 - MOE Main Kitchen__LS - Processed Food Items__spring roll, chicken', 'MOE__H6493 - MOE Main Kitchen__LS - Processed Food Items__turkey bacon', 'MOE__H6493 - MOE Main Kitchen__LS - Processed Food Items__turkey ham', 'MOE__H6493 - MOE Main Kitchen__LS - Processed Food Items__veal bacon', 'MOE__H6493 - MOE Main Kitchen__LS - Sauces and Dressing__avacado', 'MOE__H6493 - MOE Main Kitchen__LS - Sauces and Dressing__baked beans', 'MOE__H6493 - MOE Main Kitchen__LS - Sauces and Dressing__bbq sauce', 'MOE__H6493 - MOE Main Kitchen__LS - Sauces and Dressing__chilli sauce', 'MOE__H6493 - MOE Main Kitchen__LS - Sauces and Dressing__cranberry sauce', 'MOE__H6493 - MOE Main Kitchen__LS - Sauces and Dressing__demi glace powder', 'MOE__H6493 - MOE Main Kitchen__LS - Sauces and Dressing__fish sauce', 'MOE__H6493 - MOE Main Kitchen__LS - Sauces and Dressing__gelling agent', 'MOE__H6493 - MOE Main Kitchen__LS - Sauces and Dressing__guacamole', 'MOE__H6493 - MOE Main Kitchen__LS - Sauces and Dressing__honey', 'MOE__H6493 - MOE Main Kitchen__LS - Sauces and Dressing__hot sauce', 'MOE__H6493 - MOE Main Kitchen__LS - Sauces and Dressing__jam apricot', 'MOE__H6493 - MOE Main Kitchen__LS - Sauces and Dressing__jam cherry', 'MOE__H6493 - MOE Main Kitchen__LS - Sauces and Dressing__jam mixed fruit', 'MOE__H6493 - MOE Main Kitchen__LS - Sauces and Dressing__jam orange', 'MOE__H6493 - MOE Main Kitchen__LS - Sauces and Dressing__jam strawberry', 'MOE__H6493 - MOE Main Kitchen__LS - Sauces and Dressing__mayonnaise', 'MOE__H6493 - MOE Main Kitchen__LS - Sauces and Dressing__olives black', 'MOE__H6493 - MOE Main Kitchen__LS - Sauces and Dressing__oyster sauce', 'MOE__H6493 - MOE Main Kitchen__LS - Sauces and Dressing__pepper stuffed with cheese', 'MOE__H6493 - MOE Main Kitchen__LS - Sauces and Dressing__pesto sauce', 'MOE__H6493 - MOE Main Kitchen__LS - Sauces and Dressing__pizza sauce', 'MOE__H6493 - MOE Main Kitchen__LS - Sauces and Dressing__soya sauce', 'MOE__H6493 - MOE Main Kitchen__LS - Sauces and Dressing__steak sauce', 'MOE__H6493 - MOE Main Kitchen__LS - Sauces and Dressing__tomato ketchup', 'MOE__H6493 - MOE Main Kitchen__LS - Sauces and Dressing__tomato sauce', 'MOE__H6493 - MOE Main Kitchen__LS - Sauces and Dressing__tomato sundried', 'MOE__H6493 - MOE Main Kitchen__LS - Sauces and Dressing__truffle oil', 'MOE__H6493 - MOE Main Kitchen__LS - Sauces and Dressing__vinegar', 'MOE__H6493 - MOE Main Kitchen__LS - Sauces and Dressing__worcestershire sauce', 'MOE__H6493 - MOE Main Kitchen__LS - Seafood Fresh__crab', 'MOE__H6493 - MOE Main Kitchen__LS - Seafood Fresh__oyster', 'MOE__H6493 - MOE Main Kitchen__LS - Seafood Fresh__squid ink', 'MOE__H6493 - MOE Main Kitchen__LS - Seafood Fresh__squid tubes', 'MOE__H6493 - MOE Main Kitchen__LS - Sweet__arabic sweet', 'MOE__H6493 - MOE Main Kitchen__LS - Sweet__awamat', 'MOE__H6493 - MOE Main Kitchen__LS - Sweet__baklava', 'MOE__H6493 - MOE Main Kitchen__LS - Sweet__balah al sham', 'MOE__H6493 - MOE Main Kitchen__LS - Sweet__barazeq', 'MOE__H6493 - MOE Main Kitchen__LS - Sweet__basbusa', 'MOE__H6493 - MOE Main Kitchen__LS - Sweet__halwa', 'MOE__H6493 - MOE Main Kitchen__LS - Sweet__indian sweet, gulab jamun', 'MOE__H6493 - MOE Main Kitchen__LS - Sweet__kunafa', 'MOE__H6493 - MOE Main Kitchen__LS - Sweet__maakaroun', 'MOE__H6493 - MOE Main Kitchen__LS - Sweet__makaroon', 'MOE__H6493 - MOE Main Kitchen__LS - Sweet__mamoul', 'MOE__H6493 - MOE Main Kitchen__LS - Sweet__moshabak', 'MOE__H6493 - MOE Main Kitchen__LS - Sweet__nammourah', 'MOE__H6493 - MOE Main Kitchen__LS - Sweet__pistachio', 'MOE__H6493 - MOE Main Kitchen__LS - Sweet__qatayef', 'MOE__H6493 - MOE Main Kitchen__LS - Vegetables Fresh__alfalfa sprouts', 'MOE__H6493 - MOE Main Kitchen__LS - Vegetables Fresh__banana shallot', 'MOE__H6493 - MOE Main Kitchen__LS - Vegetables Fresh__beetroot', 'MOE__H6493 - MOE Main Kitchen__LS - Vegetables Fresh__bitter gourd', 'MOE__H6493 - MOE Main Kitchen__LS - Vegetables Fresh__brussels sprouts', 'MOE__H6493 - MOE Main Kitchen__LS - Vegetables Fresh__carrot  peeled', 'MOE__H6493 - MOE Main Kitchen__LS - Vegetables Fresh__carrot baby', 'MOE__H6493 - MOE Main Kitchen__LS - Vegetables Fresh__celeriac', 'MOE__H6493 - MOE Main Kitchen__LS - Vegetables Fresh__chives leaves', 'MOE__H6493 - MOE Main Kitchen__LS - Vegetables Fresh__corn on the cob', 'MOE__H6493 - MOE Main Kitchen__LS - Vegetables Fresh__cress leaves shiso', 'MOE__H6493 - MOE Main Kitchen__LS - Vegetables Fresh__cress leaves water', 'MOE__H6493 - MOE Main Kitchen__LS - Vegetables Fresh__curry leaves', 'MOE__H6493 - MOE Main Kitchen__LS - Vegetables Fresh__dill leaves', 'MOE__H6493 - MOE Main Kitchen__LS - Vegetables Fresh__fenugreek', 'MOE__H6493 - MOE Main Kitchen__LS - Vegetables Fresh__leeks', 'MOE__H6493 - MOE Main Kitchen__LS - Vegetables Fresh__lime leaves', 'MOE__H6493 - MOE Main Kitchen__LS - Vegetables Fresh__onion', 'MOE__H6493 - MOE Main Kitchen__LS - Vegetables Fresh__onion white', 'MOE__H6493 - MOE Main Kitchen__LS - Vegetables Fresh__pak choi', 'MOE__H6493 - MOE Main Kitchen__LS - Vegetables Fresh__pandan leaves', 'MOE__H6493 - MOE Main Kitchen__LS - Vegetables Fresh__parsnip', 'MOE__H6493 - MOE Main Kitchen__LS - Vegetables Fresh__potato baby', 'MOE__H6493 - MOE Main Kitchen__LS - Vegetables Fresh__potato red', 'MOE__H6493 - MOE Main Kitchen__LS - Vegetables Fresh__tapioca', 'MOE__H6493 - MOE Main Kitchen__LS - Vegetables Fresh__tarragon', 'MOE__H6493 - MOE Main Kitchen__LS - Vegetables Fresh__thyme', 'MOE__H6493 - MOE Main Kitchen__LS - Vegetables Fresh__thyme leaves', 'MOE__H6493 - MOE Main Kitchen__LS - Vegetables Fresh__truffle', 'MOE__H6493 - MOE Main Kitchen__LS - Vegetables Fresh__turnip', 'MOE__H6493 - MOE Main Kitchen__LS - Vegetables Fresh__wheatgrass', 'MOE__H6493 - MOE Main Kitchen__LS - Vegetables Frozen__corn on the cob', 'MOE__H6493 - MOE Main Kitchen__LS - Vegetables Frozen__corn_sweet', 'MOE__H6493 - MOE Main Kitchen__LS - Vegetables Frozen__eggplant', 'MOE__H6493 - MOE Main Kitchen__LS - Vegetables Frozen__lamb', 'MOE__H6493 - MOE Main Kitchen__LS - Vegetables Frozen__okra', 'MOE__H6493 - MOE Main Kitchen__LS - Vegetables Frozen__onion ring', 'MOE__H6493 - MOE Main Kitchen__LS - Vegetables Frozen__potato croquettes', 'MOE__H6493 - MOE Main Kitchen__LS - Vegetables Frozen__samosa, chicken', 'MOE__H6493 - MOE Main Kitchen__LS - Vegetables Frozen__samosa, vegetable', 'MOE__H6493 - MOE Main Kitchen__LS - Vegetables Frozen__soya beans', 'MOE__H6493 - MOE Main Kitchen__LS - Vegetables Frozen__vine leaves', 'MOE__H6493 - MOE Main Kitchen__LS - seafood Frozen__calamari', 'MOE__H6493 - MOE Main Kitchen__LS - seafood Frozen__clams', 'MOE__H6493 - MOE Main Kitchen__LS - seafood Frozen__crab sticks', 'MOE__H6493 - MOE Main Kitchen__LS - seafood Frozen__fish burger', 'MOE__H6493 - MOE Main Kitchen__LS - seafood Frozen__fish fillet', 'MOE__H6493 - MOE Main Kitchen__LS - seafood Frozen__fish roe', 'MOE__H6493 - MOE Main Kitchen__LS - seafood Frozen__lobster', 'MOE__H6493 - MOE Main Kitchen__LS - seafood Frozen__mix seafood', 'MOE__H6493 - MOE Main Kitchen__LS - seafood Frozen__mussels', 'MOE__H6493 - MOE Main Kitchen__LS - seafood Frozen__octopus', 'MOE__H6493 - MOE Main Kitchen__LS - seafood Frozen__scallop', 'MOE__H6493 - MOE Main Kitchen__LS - seafood Frozen__shrimp tempura', 'MOE__H6493 - MOE Main Kitchen__LS - seafood Frozen__squid rings', 'MOE__H6493 - MOE Mini Bar__LS - Bakery Products Frozen__danish', 'MOE__H6493 - MOE Security__LS - Consumables__freezer zipper', 'MOE__H6493 - MOE Security__LS - Consumables__repair and service', 'MOE__H6493 - MOE Stewarding__LS - Cleaning Products & Services__cleaner,copper', 'MOE__H6493 - MOE Stewarding__LS - Cleaning Products & Services__floor wiper', 'MOE__H6493 - MOE Stewarding__LS - Cleaning Products & Services__hand pad green', 'MOE__H6493 - MOE Stewarding__LS - Consumables__apron plasic', 'MOE__H6493 - MOE Stewarding__LS - Consumables__bamboo pick', 'MOE__H6493 - MOE Stewarding__LS - Consumables__burger wrap', 'MOE__H6493 - MOE Stewarding__LS - Consumables__cling film', 'MOE__H6493 - MOE Stewarding__LS - Consumables__cup', 'MOE__H6493 - Soft Beverage Store__LS - Dried Products__coconut water', 'MOE__H6670 - MOE Deli Boutique__LS - Dairy products chilled/frozen__ice pop', 'MOE__H6670 - MOE Deli Boutique__LS - Dried Products__chocolate', 'MOE__H6670 - MOE Deli Boutique__LS - Dried Products__coffee beans', 'MOE__H6670 - MOE Deli Boutique__LS - Dried Products__milk powder', 'MOE__H6670 - MOE Deli Boutique__LS - Dried Products__sugar brown', 'MOE__H6670 - MOE Deli Boutique__LS - Dried Products__sugar white', 'MOE__H6670 - MOE Suites Front Office__LS - Electrical Supplies__adapter', 'MOE__H6670 - MOE Suites Front Office__LS - Electrical Supplies__ps5', 'MOE__H6670 - MOE Suites Housekeeping__LS - Cleaning Products & Services__air freshener', 'MOE__H6670 - MOE Suites Housekeeping__LS - Cleaning Products & Services__paper towel', 'MOE__H6670 - MOE Suites Housekeeping__LS - Cleaning Products__disinfectant', 'MOE__H6670 - MOE Suites Housekeeping__LS - Consumables__bin', 'MOE__H6670 - MOE Suites Housekeeping__LS - Consumables__conditioner', 'MOE__H6670 - MOE Suites Housekeeping__LS - Consumables__display stand', 'MOE__H6670 - MOE Suites Housekeeping__LS - Consumables__garbage bag', 'MOE__H6670 - MOE Suites Housekeeping__LS - Consumables__pencil sharpener', 'MOE__H6670 - MOE Suites Housekeeping__LS - Consumables__table runner', 'MOE__H6670 - MOE Suites Housekeeping__LS - Consumables__toilet paper roll', 'MOE__H6670 - MOE Suites Housekeeping__LS - Dried Products__sugar brown', 'MOE__H6670 - MOE Suites Housekeeping__LS - Electrical Supplies__iron', 'MOE__H6670 - MOE Suites Housekeeping__LS - Electrical Supplies__scale', 'PDCC__AStore Shop__LS - Vegetables Fresh__onion red', 'PDCC__H2022 - Azure__LS - Dairy products chilled/frozen__ice cream', 'PDCC__H2022 - Azure__LS - Dairy products chilled/frozen__tiramisu cake', 'PDCC__H2022 - Banquet__LS - Consumables__candle', 'PDCC__H2022 - Banquet__LS - Consumables__napkin', 'PDCC__H2022 - Banquet__LS - Dried Products__chocolate', 'PDCC__H2022 - Banquet__LS - Dried Products__hamper box', 'PDCC__H2022 - Executive Office__LS - Dried Products__chocolate', 'PDCC__H2022 - F&B Administration__LS - Cleaning Products & Services__other', 'PDCC__H2022 - F&B Administration__LS - Dried Products__cookies', 'PDCC__H2022 - Food Store__LS - Bakery Products Chilled__vinegar', 'PDCC__H2022 - Food Store__LS - Bakery Products Fresh__chocolate, milk', 'PDCC__H2022 - Food Store__LS - Bakery Products Frozen__biscuit', 'PDCC__H2022 - Food Store__LS - Bakery Products Frozen__cookies', 'PDCC__H2022 - Food Store__LS - Bakery Products Frozen__cranberry sauce', 'PDCC__H2022 - Food Store__LS - Bakery Products Frozen__papad', 'PDCC__H2022 - Food Store__LS - Consumables__filter paper', 'PDCC__H2022 - Food Store__LS - Dairy Products Fresh__yoghurt', 'PDCC__H2022 - Food Store__LS - Dairy products chilled/frozen__almond flakes', 'PDCC__H2022 - Food Store__LS - Dairy products chilled/frozen__cheddar cheese', 'PDCC__H2022 - Food Store__LS - Dairy products chilled/frozen__coffee cream', 'PDCC__H2022 - Food Store__LS - Dairy products chilled/frozen__peanut butter', 'PDCC__H2022 - Food Store__LS - Dairy products chilled/frozen__sorbet mango', 'PDCC__H2022 - Food Store__LS - Dairy products chilled/frozen__sour cream', 'PDCC__H2022 - Food Store__LS - Dairy products chilled/frozen__tiramisu cake', 'PDCC__H2022 - Food Store__LS - Dairy products chilled/frozen__whipping cream', 'PDCC__H2022 - Food Store__LS - Dried Products__almond smoked', 'PDCC__H2022 - Food Store__LS - Dried Products__artichoke', 'PDCC__H2022 - Food Store__LS - Dried Products__bay leave', 'PDCC__H2022 - Food Store__LS - Dried Products__beans', 'PDCC__H2022 - Food Store__LS - Dried Products__beef', 'PDCC__H2022 - Food Store__LS - Dried Products__burghul', 'PDCC__H2022 - Food Store__LS - Dried Products__cake mix', 'PDCC__H2022 - Food Store__LS - Dried Products__candies', 'PDCC__H2022 - Food Store__LS - Dried Products__capers', 'PDCC__H2022 - Food Store__LS - Dried Products__cardamom powder', 'PDCC__H2022 - Food Store__LS - Dried Products__cereal bar', 'PDCC__H2022 - Food Store__LS - Dried Products__chana dhal', 'PDCC__H2022 - Food Store__LS - Dried Products__chat masala', 'PDCC__H2022 - Food Store__LS - Dried Products__cheddar cheese', 'PDCC__H2022 - Food Store__LS - Dried Products__cherry', 'PDCC__H2022 - Food Store__LS - Dried Products__chilli crushed', 'PDCC__H2022 - Food Store__LS - Dried Products__chilli sauce', 'PDCC__H2022 - Food Store__LS - Dried Products__chocloate poweder', 'PDCC__H2022 - Food Store__LS - Dried Products__chutney', 'PDCC__H2022 - Food Store__LS - Dried Products__cinnamon powder', 'PDCC__H2022 - Food Store__LS - Dried Products__cloves', 'PDCC__H2022 - Food Store__LS - Dried Products__cocktail', 'PDCC__H2022 - Food Store__LS - Dried Products__coconut concentrate', 'PDCC__H2022 - Food Store__LS - Dried Products__coconut milk', 'PDCC__H2022 - Food Store__LS - Dried Products__cookies', 'PDCC__H2022 - Food Store__LS - Dried Products__cooking oil', 'PDCC__H2022 - Food Store__LS - Dried Products__coriander seeds', 'PDCC__H2022 - Food Store__LS - Dried Products__corn flour', 'PDCC__H2022 - Food Store__LS - Dried Products__corriander', 'PDCC__H2022 - Food Store__LS - Dried Products__corriander powder', 'PDCC__H2022 - Food Store__LS - Dried Products__couscous', 'PDCC__H2022 - Food Store__LS - Dried Products__crackers', 'PDCC__H2022 - Food Store__LS - Dried Products__crisps', 'PDCC__H2022 - Food Store__LS - Dried Products__cumin seeds', 'PDCC__H2022 - Food Store__LS - Dried Products__curry powder', 'PDCC__H2022 - Food Store__LS - Dried Products__essence', 'PDCC__H2022 - Food Store__LS - Dried Products__fennel seeds', 'PDCC__H2022 - Food Store__LS - Dried Products__fish', 'PDCC__H2022 - Food Store__LS - Dried Products__fish fillet', 'PDCC__H2022 - Food Store__LS - Dried Products__flour bread mix', 'PDCC__H2022 - Food Store__LS - Dried Products__foil', 'PDCC__H2022 - Food Store__LS - Dried Products__freekeh', 'PDCC__H2022 - Food Store__LS - Dried Products__frying oil', 'PDCC__H2022 - Food Store__LS - Dried Products__garam masala', 'PDCC__H2022 - Food Store__LS - Dried Products__gelatin leaf', 'PDCC__H2022 - Food Store__LS - Dried Products__gelatin sheet', 'PDCC__H2022 - Food Store__LS - Dried Products__ghee', 'PDCC__H2022 - Food Store__LS - Dried Products__ginger powder', 'PDCC__H2022 - Food Store__LS - Dried Products__hamper box', 'PDCC__H2022 - Food Store__LS - Dried Products__jalapeno pepper', 'PDCC__H2022 - Food Store__LS - Dried Products__jelly bear', 'PDCC__H2022 - Food Store__LS - Dried Products__karkade', 'PDCC__H2022 - Food Store__LS - Dried Products__kasuri methi', 'PDCC__H2022 - Food Store__LS - Dried Products__kiwi', 'PDCC__H2022 - Food Store__LS - Dried Products__lungo', 'PDCC__H2022 - Food Store__LS - Dried Products__mango', 'PDCC__H2022 - Food Store__LS - Dried Products__mayonnaise', 'PDCC__H2022 - Food Store__LS - Dried Products__milk', 'PDCC__H2022 - Food Store__LS - Dried Products__milk powder', 'PDCC__H2022 - Food Store__LS - Dried Products__mixed fruit', 'PDCC__H2022 - Food Store__LS - Dried Products__mustard', 'PDCC__H2022 - Food Store__LS - Dried Products__mustard oil', 'PDCC__H2022 - Food Store__LS - Dried Products__mustard seeds', 'PDCC__H2022 - Food Store__LS - Dried Products__nescafe', 'PDCC__H2022 - Food Store__LS - Dried Products__nutella', 'PDCC__H2022 - Food Store__LS - Dried Products__olives black', 'PDCC__H2022 - Food Store__LS - Dried Products__olives green', 'PDCC__H2022 - Food Store__LS - Dried Products__orangette box', 'PDCC__H2022 - Food Store__LS - Dried Products__oregano leave', 'PDCC__H2022 - Food Store__LS - Dried Products__palm heart', 'PDCC__H2022 - Food Store__LS - Dried Products__papaya', 'PDCC__H2022 - Food Store__LS - Dried Products__paprika powder', 'PDCC__H2022 - Food Store__LS - Dried Products__peanuts', 'PDCC__H2022 - Food Store__LS - Dried Products__pear halves', 'PDCC__H2022 - Food Store__LS - Dried Products__pepper black whole', 'PDCC__H2022 - Food Store__LS - Dried Products__pepper white powder', 'PDCC__H2022 - Food Store__LS - Dried Products__pine seeds', 'PDCC__H2022 - Food Store__LS - Dried Products__pineapple', 'PDCC__H2022 - Food Store__LS - Dried Products__pistachio', 'PDCC__H2022 - Food Store__LS - Dried Products__pomagranate molasses', 'PDCC__H2022 - Food Store__LS - Dried Products__prunes', 'PDCC__H2022 - Food Store__LS - Dried Products__quinoa seeds', 'PDCC__H2022 - Food Store__LS - Dried Products__rice poha', 'PDCC__H2022 - Food Store__LS - Dried Products__ristretto', 'PDCC__H2022 - Food Store__LS - Dried Products__sago seeds', 'PDCC__H2022 - Food Store__LS - Dried Products__salsa', 'PDCC__H2022 - Food Store__LS - Dried Products__sauerkraut', 'PDCC__H2022 - Food Store__LS - Dried Products__seaweed sheets', 'PDCC__H2022 - Food Store__LS - Dried Products__semolina', 'PDCC__H2022 - Food Store__LS - Dried Products__sesame oil', 'PDCC__H2022 - Food Store__LS - Dried Products__sesame seeds', 'PDCC__H2022 - Food Store__LS - Dried Products__shortening oil', 'PDCC__H2022 - Food Store__LS - Dried Products__soya lecithin', 'PDCC__H2022 - Food Store__LS - Dried Products__soyabean oil', 'PDCC__H2022 - Food Store__LS - Dried Products__spices', 'PDCC__H2022 - Food Store__LS - Dried Products__sumac powder', 'PDCC__H2022 - Food Store__LS - Dried Products__syrup', 'PDCC__H2022 - Food Store__LS - Dried Products__syrup,peach', 'PDCC__H2022 - Food Store__LS - Dried Products__tandoori masala powder', 'PDCC__H2022 - Food Store__LS - Dried Products__tea chamomile', 'PDCC__H2022 - Food Store__LS - Dried Products__tea earl grey', 'PDCC__H2022 - Food Store__LS - Dried Products__tea green', 'PDCC__H2022 - Food Store__LS - Dried Products__tom yum', 'PDCC__H2022 - Food Store__LS - Dried Products__tomato pulp', 'PDCC__H2022 - Food Store__LS - Dried Products__tomato sundried', 'PDCC__H2022 - Food Store__LS - Dried Products__vegetable oil', 'PDCC__H2022 - Food Store__LS - Dried Products__wasabi powder', 'PDCC__H2022 - Food Store__LS - Dried Products__whole corn', 'PDCC__H2022 - Food Store__LS - Dried Products__yeast', 'PDCC__H2022 - Food Store__LS - Dried Products__zatar', 'PDCC__H2022 - Food Store__LS - Fruit Fresh__dates', 'PDCC__H2022 - Food Store__LS - Pasta Products__pasta, cannelloni', 'PDCC__H2022 - Food Store__LS - Pasta Products__pasta, elbow', 'PDCC__H2022 - Food Store__LS - Pasta Products__pasta, farfalle', 'PDCC__H2022 - Food Store__LS - Pasta Products__pasta, fettuccine', 'PDCC__H2022 - Food Store__LS - Pasta Products__pasta, fusilli', 'PDCC__H2022 - Food Store__LS - Pasta Products__pasta, lasagne', 'PDCC__H2022 - Food Store__LS - Pasta Products__pasta, linguine', 'PDCC__H2022 - Food Store__LS - Pasta Products__pasta, rigatoni', 'PDCC__H2022 - Food Store__LS - Pasta Products__pasta, tagliatelle', 'PDCC__H2022 - Food Store__LS - Pasta Products__pasta, vermicelli', 'PDCC__H2022 - Food Store__LS - Processed Food Items__chocolate', 'PDCC__H2022 - Food Store__LS - Processed Food Items__syrup', 'PDCC__H2022 - Food Store__LS - Sauces and Dressing__baked beans', 'PDCC__H2022 - Food Store__LS - Sauces and Dressing__chutney', 'PDCC__H2022 - Food Store__LS - Sauces and Dressing__curry paste', 'PDCC__H2022 - Food Store__LS - Sauces and Dressing__fish sauce', 'PDCC__H2022 - Food Store__LS - Sauces and Dressing__jam cherry', 'PDCC__H2022 - Food Store__LS - Sauces and Dressing__jam mixed fruit', 'PDCC__H2022 - Food Store__LS - Sauces and Dressing__mustard', 'PDCC__H2022 - Food Store__LS - Sauces and Dressing__mustard dijon', 'PDCC__H2022 - Food Store__LS - Sauces and Dressing__olives black', 'PDCC__H2022 - Food Store__LS - Sauces and Dressing__olives green', 'PDCC__H2022 - Food Store__LS - Sauces and Dressing__satay sauce', 'PDCC__H2022 - Food Store__LS - Sauces and Dressing__tomato sundried', 'PDCC__H2022 - Food Store__LS - Sauces and Dressing__vinegar', 'PDCC__H2022 - Front Office__LS - Consumables__file hanging', 'PDCC__H2022 - Front Office__LS - Consumables__foil', 'PDCC__H2022 - Front Office__LS - Consumables__self inking', 'PDCC__H2022 - Front Office__LS - Consumables__toner', 'PDCC__H2022 - General Store__LS - Cleaning Products & Services__body lotion', 'PDCC__H2022 - General Store__LS - Cleaning Products & Services__carpet cleaning liquid', 'PDCC__H2022 - General Store__LS - Cleaning Products & Services__clax 12a1', 'PDCC__H2022 - General Store__LS - Cleaning Products & Services__clax 24b1', 'PDCC__H2022 - General Store__LS - Cleaning Products & Services__clax 36c1', 'PDCC__H2022 - General Store__LS - Cleaning Products & Services__clax 40a1', 'PDCC__H2022 - General Store__LS - Cleaning Products & Services__clax 4al1', 'PDCC__H2022 - General Store__LS - Cleaning Products & Services__clax 54b1', 'PDCC__H2022 - General Store__LS - Cleaning Products & Services__clax 6gl1', 'PDCC__H2022 - General Store__LS - Cleaning Products & Services__cleaner,copper', 'PDCC__H2022 - General Store__LS - Cleaning Products & Services__conditioner', 'PDCC__H2022 - General Store__LS - Cleaning Products & Services__disinfectant', 'PDCC__H2022 - General Store__LS - Cleaning Products & Services__divobrite', 'PDCC__H2022 - General Store__LS - Cleaning Products & Services__divosan vt3', 'PDCC__H2022 - General Store__LS - Cleaning Products & Services__hand cream', 'PDCC__H2022 - General Store__LS - Cleaning Products & Services__ink remover', 'PDCC__H2022 - General Store__LS - Cleaning Products & Services__lape coll.o.l.t_hand care', 'PDCC__H2022 - General Store__LS - Cleaning Products & Services__r7 cleaner', 'PDCC__H2022 - General Store__LS - Cleaning Products & Services__room care', 'PDCC__H2022 - General Store__LS - Cleaning Products & Services__room care r1', 'PDCC__H2022 - General Store__LS - Cleaning Products & Services__room care r2', 'PDCC__H2022 - General Store__LS - Cleaning Products & Services__room care r3', 'PDCC__H2022 - General Store__LS - Cleaning Products & Services__room care r4', 'PDCC__H2022 - General Store__LS - Cleaning Products & Services__room care r5', 'PDCC__H2022 - General Store__LS - Cleaning Products & Services__room care r7', 'PDCC__H2022 - General Store__LS - Cleaning Products & Services__scrubbing pad', 'PDCC__H2022 - General Store__LS - Cleaning Products & Services__shampoo', 'PDCC__H2022 - General Store__LS - Cleaning Products & Services__shower gel', 'PDCC__H2022 - General Store__LS - Cleaning Products & Services__soft care', 'PDCC__H2022 - General Store__LS - Cleaning Products & Services__stain remover', 'PDCC__H2022 - General Store__LS - Cleaning Products & Services__suma a17', 'PDCC__H2022 - General Store__LS - Cleaning Products & Services__suma d10', 'PDCC__H2022 - General Store__LS - Cleaning Products & Services__suma d16', 'PDCC__H2022 - General Store__LS - Cleaning Products & Services__suma d2', 'PDCC__H2022 - General Store__LS - Cleaning Products & Services__suma d4', 'PDCC__H2022 - General Store__LS - Cleaning Products & Services__suma d4.5', 'PDCC__H2022 - General Store__LS - Cleaning Products & Services__suma d47', 'PDCC__H2022 - General Store__LS - Cleaning Products & Services__suma d5', 'PDCC__H2022 - General Store__LS - Cleaning Products & Services__suma d5.2', 'PDCC__H2022 - General Store__LS - Cleaning Products & Services__suma d7', 'PDCC__H2022 - General Store__LS - Cleaning Products & Services__suma d9', 'PDCC__H2022 - General Store__LS - Cleaning Products & Services__suma k2', 'PDCC__H2022 - General Store__LS - Cleaning Products & Services__suma ma1', 'PDCC__H2022 - General Store__LS - Cleaning Products & Services__suma nova l6', 'PDCC__H2022 - General Store__LS - Cleaning Products & Services__suma revoflow', 'PDCC__H2022 - General Store__LS - Cleaning Products & Services__suma, k21+', 'PDCC__H2022 - General Store__LS - Cleaning Products & Services__suma, nova l6', 'PDCC__H2022 - General Store__LS - Cleaning Products & Services__suma, select a7', 'PDCC__H2022 - General Store__LS - Cleaning Products & Services__taski sani mouldout', 'PDCC__H2022 - General Store__LS - Cleaning Products & Services__taski, sprint flower', 'PDCC__H2022 - General Store__LS - Cleaning Products & Services__taski_products', 'PDCC__H2022 - General Store__LS - Cleaning Products & Services__urinal blocks', 'PDCC__H2022 - General Store__LS - Cleaning Products__bag plastic', 'PDCC__H2022 - General Store__LS - Cleaning Products__body lotion', 'PDCC__H2022 - General Store__LS - Cleaning Products__clax', 'PDCC__H2022 - General Store__LS - Cleaning Products__clax 60c1', 'PDCC__H2022 - General Store__LS - Cleaning Products__clax 70d2', 'PDCC__H2022 - General Store__LS - Cleaning Products__cleaner', 'PDCC__H2022 - General Store__LS - Cleaning Products__conditioner', 'PDCC__H2022 - General Store__LS - Cleaning Products__dust bags', 'PDCC__H2022 - General Store__LS - Cleaning Products__face mask', 'PDCC__H2022 - General Store__LS - Cleaning Products__garbage bag', 'PDCC__H2022 - General Store__LS - Cleaning Products__lape coll.o.l.t_hand care', 'PDCC__H2022 - General Store__LS - Cleaning Products__lape hand lotion', 'PDCC__H2022 - General Store__LS - Cleaning Products__massage oil', 'PDCC__H2022 - General Store__LS - Cleaning Products__oxivir wipes', 'PDCC__H2022 - General Store__LS - Cleaning Products__paper towel', 'PDCC__H2022 - General Store__LS - Cleaning Products__r7 cleaner', 'PDCC__H2022 - General Store__LS - Cleaning Products__room care', 'PDCC__H2022 - General Store__LS - Cleaning Products__sanitary bag', 'PDCC__H2022 - General Store__LS - Cleaning Products__scrubbing pad', 'PDCC__H2022 - General Store__LS - Cleaning Products__shampoo', 'PDCC__H2022 - General Store__LS - Cleaning Products__shower gel', 'PDCC__H2022 - General Store__LS - Cleaning Products__soap', 'PDCC__H2022 - General Store__LS - Cleaning Products__soft care', 'PDCC__H2022 - General Store__LS - Cleaning Products__sponge', 'PDCC__H2022 - General Store__LS - Cleaning Products__suma a17', 'PDCC__H2022 - General Store__LS - Cleaning Products__suma d2', 'PDCC__H2022 - General Store__LS - Cleaning Products__suma d22', 'PDCC__H2022 - General Store__LS - Cleaning Products__suma d4.5', 'PDCC__H2022 - General Store__LS - Cleaning Products__suma d7', 'PDCC__H2022 - General Store__LS - Cleaning Products__suma d7.1', 'PDCC__H2022 - General Store__LS - Cleaning Products__suma d9', 'PDCC__H2022 - General Store__LS - Cleaning Products__suma dify ma1', 'PDCC__H2022 - General Store__LS - Cleaning Products__suma wipes', 'PDCC__H2022 - General Store__LS - Cleaning Products__taski_products', 'PDCC__H2022 - General Store__LS - Cleaning Products__toilet tissue', 'PDCC__H2022 - General Store__LS - Consumables__air freshener', 'PDCC__H2022 - General Store__LS - Consumables__aluminum foil', 'PDCC__H2022 - General Store__LS - Consumables__bamboo skewer', 'PDCC__H2022 - General Store__LS - Consumables__binder clips', 'PDCC__H2022 - General Store__LS - Consumables__body wash', 'PDCC__H2022 - General Store__LS - Consumables__book', 'PDCC__H2022 - General Store__LS - Consumables__bowl', 'PDCC__H2022 - General Store__LS - Consumables__burger wrap', 'PDCC__H2022 - General Store__LS - Consumables__cake baord', 'PDCC__H2022 - General Store__LS - Consumables__cake box', 'PDCC__H2022 - General Store__LS - Consumables__candle', 'PDCC__H2022 - General Store__LS - Consumables__coffee filter', 'PDCC__H2022 - General Store__LS - Consumables__comb', 'PDCC__H2022 - General Store__LS - Consumables__correction tape/fluid', 'PDCC__H2022 - General Store__LS - Consumables__cup', 'PDCC__H2022 - General Store__LS - Consumables__cutlery set', 'PDCC__H2022 - General Store__LS - Consumables__dental kit', 'PDCC__H2022 - General Store__LS - Consumables__double sided tape', 'PDCC__H2022 - General Store__LS - Consumables__face mask', 'PDCC__H2022 - General Store__LS - Consumables__file folder', 'PDCC__H2022 - General Store__LS - Consumables__flip chart', 'PDCC__H2022 - General Store__LS - Consumables__food stickers', 'PDCC__H2022 - General Store__LS - Consumables__fork', 'PDCC__H2022 - General Store__LS - Consumables__glass cover', 'PDCC__H2022 - General Store__LS - Consumables__hair net', 'PDCC__H2022 - General Store__LS - Consumables__hat', 'PDCC__H2022 - General Store__LS - Consumables__highlighter', 'PDCC__H2022 - General Store__LS - Consumables__ice cream', 'PDCC__H2022 - General Store__LS - Consumables__labelling tape', 'PDCC__H2022 - General Store__LS - Consumables__lamination film', 'PDCC__H2022 - General Store__LS - Consumables__laundry bag', 'PDCC__H2022 - General Store__LS - Consumables__lunch box', 'PDCC__H2022 - General Store__LS - Consumables__marker pen', 'PDCC__H2022 - General Store__LS - Consumables__masking tape', 'PDCC__H2022 - General Store__LS - Consumables__match box', 'PDCC__H2022 - General Store__LS - Consumables__nail file', 'PDCC__H2022 - General Store__LS - Consumables__paper roll', 'PDCC__H2022 - General Store__LS - Consumables__pen', 'PDCC__H2022 - General Store__LS - Consumables__photocopy paper', 'PDCC__H2022 - General Store__LS - Consumables__pins thumb', 'PDCC__H2022 - General Store__LS - Consumables__piping bag', 'PDCC__H2022 - General Store__LS - Consumables__pizza box', 'PDCC__H2022 - General Store__LS - Consumables__post it pad', 'PDCC__H2022 - General Store__LS - Consumables__propane gas', 'PDCC__H2022 - General Store__LS - Consumables__pvc tape', 'PDCC__H2022 - General Store__LS - Consumables__ribbon cartridge', 'PDCC__H2022 - General Store__LS - Consumables__rubber band', 'PDCC__H2022 - General Store__LS - Consumables__salad tub', 'PDCC__H2022 - General Store__LS - Consumables__sanitary bag', 'PDCC__H2022 - General Store__LS - Consumables__scissor', 'PDCC__H2022 - General Store__LS - Consumables__scotch tape', 'PDCC__H2022 - General Store__LS - Consumables__scrubbing pad', 'PDCC__H2022 - General Store__LS - Consumables__slippers', 'PDCC__H2022 - General Store__LS - Consumables__sponge', 'PDCC__H2022 - General Store__LS - Consumables__stamp pad', 'PDCC__H2022 - General Store__LS - Consumables__staple remover', 'PDCC__H2022 - General Store__LS - Consumables__stapler', 'PDCC__H2022 - General Store__LS - Consumables__stirrer', 'PDCC__H2022 - General Store__LS - Consumables__straw', 'PDCC__H2022 - General Store__LS - Consumables__thermopatch tape', 'PDCC__H2022 - General Store__LS - Consumables__toner', 'PDCC__H2022 - General Store__LS - Consumables__vacuum bag', 'PDCC__H2022 - General Store__LS - Consumables__wet wipes', 'PDCC__H2022 - General Store__LS - Dairy products chilled/frozen__ice cream', 'PDCC__H2022 - General Store__LS - Electrical Supplies__adapter', 'PDCC__H2022 - General Store__LS - Electrical Supplies__battery', 'PDCC__H2022 - General Store__LS - Electrical Supplies__sleeve cable', 'PDCC__H2022 - Hotel Accounts__LS - Consumables__puncher', 'PDCC__H2022 - Hotel Engineering__LS - Cleaning Products & Services__cleaner', 'PDCC__H2022 - Hotel Engineering__LS - Cleaning Products & Services__cleaning chemical acid for tile', 'PDCC__H2022 - Hotel Engineering__LS - Cleaning Products & Services__condensor coil cleaner', 'PDCC__H2022 - Hotel Engineering__LS - Cleaning Products & Services__disinfectant', 'PDCC__H2022 - Hotel Engineering__LS - Cleaning Products & Services__wd-40', 'PDCC__H2022 - Hotel Engineering__LS - Consumables__adapter', 'PDCC__H2022 - Hotel Engineering__LS - Consumables__bamboo stick', 'PDCC__H2022 - Hotel Engineering__LS - Consumables__brass nipple', 'PDCC__H2022 - Hotel Engineering__LS - Consumables__cotton waste', 'PDCC__H2022 - Hotel Engineering__LS - Consumables__door handle', 'PDCC__H2022 - Hotel Engineering__LS - Consumables__double sided tape', 'PDCC__H2022 - Hotel Engineering__LS - Consumables__elbow upvc', 'PDCC__H2022 - Hotel Engineering__LS - Consumables__elbow, pex', 'PDCC__H2022 - Hotel Engineering__LS - Consumables__fluorescent tube', 'PDCC__H2022 - Hotel Engineering__LS - Consumables__glue adhesive', 'PDCC__H2022 - Hotel Engineering__LS - Consumables__glue fevicol', 'PDCC__H2022 - Hotel Engineering__LS - Consumables__insect killer', 'PDCC__H2022 - Hotel Engineering__LS - Consumables__insulation tape', 'PDCC__H2022 - Hotel Engineering__LS - Consumables__lamp', 'PDCC__H2022 - Hotel Engineering__LS - Consumables__led lamp dimmable', 'PDCC__H2022 - Hotel Engineering__LS - Consumables__led lamp non dimmable', 'PDCC__H2022 - Hotel Engineering__LS - Consumables__pipe', 'PDCC__H2022 - Hotel Engineering__LS - Consumables__plug top', 'PDCC__H2022 - Hotel Engineering__LS - Consumables__plywood', 'PDCC__H2022 - Hotel Engineering__LS - Consumables__polythene', 'PDCC__H2022 - Hotel Engineering__LS - Consumables__protective coverall', 'PDCC__H2022 - Hotel Engineering__LS - Consumables__silicon,antifungus', 'PDCC__H2022 - Hotel Engineering__LS - Consumables__socket', 'PDCC__H2022 - Hotel Engineering__LS - Consumables__spare part', 'PDCC__H2022 - Hotel Engineering__LS - Consumables__tape teflon', 'PDCC__H2022 - Hotel Engineering__LS - Consumables__thermocol cutting wire blade', 'PDCC__H2022 - Hotel Engineering__LS - Consumables__thermocol sheet', 'PDCC__H2022 - Hotel Engineering__LS - Consumables__thinner', 'PDCC__H2022 - Hotel Engineering__LS - Consumables__y joint upvc', 'PDCC__H2022 - Hotel Engineering__LS - Electrical Supplies__ballast', 'PDCC__H2022 - Hotel Engineering__LS - Electrical Supplies__bompani hob', 'PDCC__H2022 - Hotel Engineering__LS - Electrical Supplies__cable rr', 'PDCC__H2022 - Hotel Engineering__LS - Electrical Supplies__cable tie', 'PDCC__H2022 - Hotel Engineering__LS - Electrical Supplies__capacitor', 'PDCC__H2022 - Hotel Engineering__LS - Electrical Supplies__circuit breaker', 'PDCC__H2022 - Hotel Engineering__LS - Electrical Supplies__compressor', 'PDCC__H2022 - Hotel Engineering__LS - Electrical Supplies__connector', 'PDCC__H2022 - Hotel Engineering__LS - Electrical Supplies__contactor', 'PDCC__H2022 - Hotel Engineering__LS - Electrical Supplies__door closer', 'PDCC__H2022 - Hotel Engineering__LS - Electrical Supplies__flex cable', 'PDCC__H2022 - Hotel Engineering__LS - Electrical Supplies__fuse', 'PDCC__H2022 - Hotel Engineering__LS - Electrical Supplies__holder', 'PDCC__H2022 - Hotel Engineering__LS - Electrical Supplies__iron', 'PDCC__H2022 - Hotel Engineering__LS - Electrical Supplies__isolator', 'PDCC__H2022 - Hotel Engineering__LS - Electrical Supplies__lamp', 'PDCC__H2022 - Hotel Engineering__LS - Electrical Supplies__lamp holder', 'PDCC__H2022 - Hotel Engineering__LS - Electrical Supplies__lamp shade', 'PDCC__H2022 - Hotel Engineering__LS - Electrical Supplies__led driver', 'PDCC__H2022 - Hotel Engineering__LS - Electrical Supplies__led lamp', 'PDCC__H2022 - Hotel Engineering__LS - Electrical Supplies__led lamp dimmable', 'PDCC__H2022 - Hotel Engineering__LS - Electrical Supplies__led lamp non dimmable', 'PDCC__H2022 - Hotel Engineering__LS - Electrical Supplies__led light', 'PDCC__H2022 - Hotel Engineering__LS - Electrical Supplies__light', 'PDCC__H2022 - Hotel Engineering__LS - Electrical Supplies__paint', 'PDCC__H2022 - Hotel Engineering__LS - Electrical Supplies__pcb', 'PDCC__H2022 - Hotel Engineering__LS - Electrical Supplies__plug top', 'PDCC__H2022 - Hotel Engineering__LS - Electrical Supplies__sensor tap', 'PDCC__H2022 - Hotel Engineering__LS - Electrical Supplies__spare part', 'PDCC__H2022 - Hotel Engineering__LS - Electrical Supplies__starter', 'PDCC__H2022 - Hotel Engineering__LS - Electrical Supplies__switch', 'PDCC__H2022 - Hotel Engineering__LS - Electrical Supplies__switch breaker', 'PDCC__H2022 - Hotel Engineering__LS - Electrical Supplies__transformer', 'PDCC__H2022 - Hotel Engineering__LS - Electrical Supplies__washing machine', 'PDCC__H2022 - Housekeeping__LS - Cleaning Products & Services__air freshener', 'PDCC__H2022 - Housekeeping__LS - Cleaning Products & Services__carpet cleaner', 'PDCC__H2022 - Housekeeping__LS - Cleaning Products & Services__clax 12a1', 'PDCC__H2022 - Housekeeping__LS - Cleaning Products & Services__clax 200 24a1', 'PDCC__H2022 - Housekeeping__LS - Cleaning Products & Services__clax 36c1', 'PDCC__H2022 - Housekeeping__LS - Cleaning Products & Services__clax 4al1', 'PDCC__H2022 - Housekeeping__LS - Cleaning Products & Services__clax 54b1', 'PDCC__H2022 - Housekeeping__LS - Cleaning Products & Services__dust pan', 'PDCC__H2022 - Housekeeping__LS - Cleaning Products & Services__fabric perfume', 'PDCC__H2022 - Housekeeping__LS - Cleaning Products & Services__handle', 'PDCC__H2022 - Housekeeping__LS - Cleaning Products & Services__lape coll.o.l.t_hand care', 'PDCC__H2022 - Housekeeping__LS - Cleaning Products & Services__mop sleeve', 'PDCC__H2022 - Housekeeping__LS - Cleaning Products & Services__paper towel', 'PDCC__H2022 - Housekeeping__LS - Cleaning Products & Services__soft care', 'PDCC__H2022 - Housekeeping__LS - Cleaning Products & Services__solvent', 'PDCC__H2022 - Housekeeping__LS - Cleaning Products & Services__solvent dowper', 'PDCC__H2022 - Housekeeping__LS - Cleaning Products & Services__taski sani mouldout', 'PDCC__H2022 - Housekeeping__LS - Cleaning Products & Services__taski_products', 'PDCC__H2022 - Housekeeping__LS - Cleaning Products & Services__wiper', 'PDCC__H2022 - Housekeeping__LS - Cleaning Products__lape handwash', 'PDCC__H2022 - Housekeeping__LS - Cleaning Products__r7 cleaner', 'PDCC__H2022 - Housekeeping__LS - Cleaning Products__spot remover', 'PDCC__H2022 - Housekeeping__LS - Cleaning Products__taski_products', 'PDCC__H2022 - Housekeeping__LS - Consumables__faceplate', 'PDCC__H2022 - Housekeeping__LS - Consumables__multi cream', 'PDCC__H2022 - Housekeeping__LS - Consumables__soluble bag', 'PDCC__H2022 - Housekeeping__LS - Consumables__toilet brush', 'PDCC__H2022 - Housekeeping__LS - Consumables__vacuum bag', 'PDCC__H2022 - Housekeeping__LS - Consumables__wet wipes', 'PDCC__H2022 - Housekeeping__LS - Consumables__window washer', 'PDCC__H2022 - Housekeeping__LS - Electrical Supplies__extension cable', 'PDCC__H2022 - Housekeeping__LS - Electrical Supplies__scale', 'PDCC__H2022 - Human Resources__LS - Dairy products chilled/frozen__ice cream', 'PDCC__H2022 - Human Resources__LS - Fruit Fresh__apple', 'PDCC__H2022 - Human Resources__LS - Fruit Fresh__apple green', 'PDCC__H2022 - Human Resources__LS - Fruit Fresh__apple red', 'PDCC__H2022 - Human Resources__LS - Fruit Fresh__banana', 'PDCC__H2022 - Human Resources__LS - Fruit Fresh__coconut whole', 'PDCC__H2022 - Human Resources__LS - Fruit Fresh__orange', 'PDCC__H2022 - IT__LS - Electrical Supplies__adapter', 'PDCC__H2022 - IT__LS - Electrical Supplies__battery', 'PDCC__H2022 - IT__LS - Electrical Supplies__duct tape', 'PDCC__H2022 - La Cafe__LS - Dried Products__chocolate', 'PDCC__H2022 - La Cafe__LS - Dried Products__cookies', 'PDCC__H2022 - La Fabrique__LS - Cleaning Products & Services__air freshener', 'PDCC__H2022 - La Fabrique__LS - Consumables__air freshener', 'PDCC__H2022 - Main Kitchen__LS - Bakery Products Chilled__pie filling', 'PDCC__H2022 - Main Kitchen__LS - Bakery Products Chilled__syrup', 'PDCC__H2022 - Main Kitchen__LS - Bakery Products Fresh__biscuit', 'PDCC__H2022 - Main Kitchen__LS - Bakery Products Fresh__bread', 'PDCC__H2022 - Main Kitchen__LS - Bakery Products Fresh__bread buger', 'PDCC__H2022 - Main Kitchen__LS - Bakery Products Fresh__bread grissini', 'PDCC__H2022 - Main Kitchen__LS - Bakery Products Fresh__bread roll', 'PDCC__H2022 - Main Kitchen__LS - Bakery Products Fresh__cake mix', 'PDCC__H2022 - Main Kitchen__LS - Bakery Products Fresh__candies', 'PDCC__H2022 - Main Kitchen__LS - Bakery Products Fresh__chocolate', 'PDCC__H2022 - Main Kitchen__LS - Bakery Products Fresh__chocolate, milk', 'PDCC__H2022 - Main Kitchen__LS - Bakery Products Fresh__flour bread mix', 'PDCC__H2022 - Main Kitchen__LS - Bakery Products Fresh__kunafa', 'PDCC__H2022 - Main Kitchen__LS - Bakery Products Fresh__macaroon', 'PDCC__H2022 - Main Kitchen__LS - Bakery Products Fresh__mince pie', 'PDCC__H2022 - Main Kitchen__LS - Bakery Products Fresh__muffin mix', 'PDCC__H2022 - Main Kitchen__LS - Bakery Products Fresh__naan bread', 'PDCC__H2022 - Main Kitchen__LS - Bakery Products Fresh__nougat', 'PDCC__H2022 - Main Kitchen__LS - Bakery Products Fresh__pistachio', 'PDCC__H2022 - Main Kitchen__LS - Bakery Products Fresh__puff pastry', 'PDCC__H2022 - Main Kitchen__LS - Bakery Products Frozen__biscuit', 'PDCC__H2022 - Main Kitchen__LS - Bakery Products Frozen__bread ciabatta', 'PDCC__H2022 - Main Kitchen__LS - Bakery Products Frozen__bread crumbs', 'PDCC__H2022 - Main Kitchen__LS - Bakery Products Frozen__bread focaccia', 'PDCC__H2022 - Main Kitchen__LS - Bakery Products Frozen__bread rice', 'PDCC__H2022 - Main Kitchen__LS - Bakery Products Frozen__bread toast', 'PDCC__H2022 - Main Kitchen__LS - Bakery Products Frozen__bread, bagel', 'PDCC__H2022 - Main Kitchen__LS - Bakery Products Frozen__bread, baguette', 'PDCC__H2022 - Main Kitchen__LS - Bakery Products Frozen__cake', 'PDCC__H2022 - Main Kitchen__LS - Bakery Products Frozen__cake mix', 'PDCC__H2022 - Main Kitchen__LS - Bakery Products Frozen__chocolate, milk', 'PDCC__H2022 - Main Kitchen__LS - Bakery Products Frozen__christmas spice', 'PDCC__H2022 - Main Kitchen__LS - Bakery Products Frozen__cinnamon swirl', 'PDCC__H2022 - Main Kitchen__LS - Bakery Products Frozen__cocoa butter', 'PDCC__H2022 - Main Kitchen__LS - Bakery Products Frozen__cookies', 'PDCC__H2022 - Main Kitchen__LS - Bakery Products Frozen__corn tortilla', 'PDCC__H2022 - Main Kitchen__LS - Bakery Products Frozen__deco gel', 'PDCC__H2022 - Main Kitchen__LS - Bakery Products Frozen__dough', 'PDCC__H2022 - Main Kitchen__LS - Bakery Products Frozen__glaze', 'PDCC__H2022 - Main Kitchen__LS - Bakery Products Frozen__kebbeh', 'PDCC__H2022 - Main Kitchen__LS - Bakery Products Frozen__macaron', 'PDCC__H2022 - Main Kitchen__LS - Bakery Products Frozen__macaroon', 'PDCC__H2022 - Main Kitchen__LS - Bakery Products Frozen__muffin', 'PDCC__H2022 - Main Kitchen__LS - Bakery Products Frozen__pandoro cake', 'PDCC__H2022 - Main Kitchen__LS - Bakery Products Frozen__paratha', 'PDCC__H2022 - Main Kitchen__LS - Bakery Products Frozen__pastry', 'PDCC__H2022 - Main Kitchen__LS - Bakery Products Frozen__pie filling', 'PDCC__H2022 - Main Kitchen__LS - Bakery Products Frozen__puff pastry', 'PDCC__H2022 - Main Kitchen__LS - Bakery Products Frozen__raspberry powder', 'PDCC__H2022 - Main Kitchen__LS - Bakery Products Frozen__samosa, vegetable', 'PDCC__H2022 - Main Kitchen__LS - Bakery Products Frozen__sugar paste', 'PDCC__H2022 - Main Kitchen__LS - Bakery Products Frozen__tart shell', 'PDCC__H2022 - Main Kitchen__LS - Bakery Products Frozen__tartlet', 'PDCC__H2022 - Main Kitchen__LS - Consumables__box', 'PDCC__H2022 - Main Kitchen__LS - Consumables__flower', 'PDCC__H2022 - Main Kitchen__LS - Consumables__lid,plastic', 'PDCC__H2022 - Main Kitchen__LS - Consumables__mould', 'PDCC__H2022 - Main Kitchen__LS - Consumables__muffin tray', 'PDCC__H2022 - Main Kitchen__LS - Dairy Products Fresh__chocolate, milk', 'PDCC__H2022 - Main Kitchen__LS - Dairy Products Fresh__cream cheese', 'PDCC__H2022 - Main Kitchen__LS - Dairy Products Fresh__eggs shell', 'PDCC__H2022 - Main Kitchen__LS - Dairy Products Fresh__eggs white liquid', 'PDCC__H2022 - Main Kitchen__LS - Dairy Products Fresh__eggs yolk', 'PDCC__H2022 - Main Kitchen__LS - Dairy Products Fresh__labneh,full fat', 'PDCC__H2022 - Main Kitchen__LS - Dairy Products Fresh__sour cream', 'PDCC__H2022 - Main Kitchen__LS - Dairy Products Fresh__whipping cream', 'PDCC__H2022 - Main Kitchen__LS - Dairy products chilled/frozen__bean curd', 'PDCC__H2022 - Main Kitchen__LS - Dairy products chilled/frozen__burrata cheese', 'PDCC__H2022 - Main Kitchen__LS - Dairy products chilled/frozen__cheese selection', 'PDCC__H2022 - Main Kitchen__LS - Dairy products chilled/frozen__clotted cream', 'PDCC__H2022 - Main Kitchen__LS - Dairy products chilled/frozen__cooking cream', 'PDCC__H2022 - Main Kitchen__LS - Dairy products chilled/frozen__ghee', 'PDCC__H2022 - Main Kitchen__LS - Dairy products chilled/frozen__gorgonzola cheese', 'PDCC__H2022 - Main Kitchen__LS - Dairy products chilled/frozen__gouda cheese', 'PDCC__H2022 - Main Kitchen__LS - Dairy products chilled/frozen__lamb', 'PDCC__H2022 - Main Kitchen__LS - Dairy products chilled/frozen__milk almond', 'PDCC__H2022 - Main Kitchen__LS - Dairy products chilled/frozen__monterey jack cheese', 'PDCC__H2022 - Main Kitchen__LS - Dairy products chilled/frozen__pan coating spray', 'PDCC__H2022 - Main Kitchen__LS - Dairy products chilled/frozen__pie filling', 'PDCC__H2022 - Main Kitchen__LS - Dairy products chilled/frozen__pizza base', 'PDCC__H2022 - Main Kitchen__LS - Dairy products chilled/frozen__raspberry', 'PDCC__H2022 - Main Kitchen__LS - Dairy products chilled/frozen__raspberry stick', 'PDCC__H2022 - Main Kitchen__LS - Dairy products chilled/frozen__ricotta cheese', 'PDCC__H2022 - Main Kitchen__LS - Dairy products chilled/frozen__sambousek', 'PDCC__H2022 - Main Kitchen__LS - Dairy products chilled/frozen__samosa cheese', 'PDCC__H2022 - Main Kitchen__LS - Dairy products chilled/frozen__sorbet mango', 'PDCC__H2022 - Main Kitchen__LS - Dairy products chilled/frozen__sour cream', 'PDCC__H2022 - Main Kitchen__LS - Dairy products chilled/frozen__tea green', 'PDCC__H2022 - Main Kitchen__LS - Dairy products chilled/frozen__yoghurt', 'PDCC__H2022 - Main Kitchen__LS - Dried Products__agar agar', 'PDCC__H2022 - Main Kitchen__LS - Dried Products__ajwain seeds', 'PDCC__H2022 - Main Kitchen__LS - Dried Products__almond essence', 'PDCC__H2022 - Main Kitchen__LS - Dried Products__almond paste', 'PDCC__H2022 - Main Kitchen__LS - Dried Products__almond& hazel nut paste', 'PDCC__H2022 - Main Kitchen__LS - Dried Products__baking powder', 'PDCC__H2022 - Main Kitchen__LS - Dried Products__banana chips', 'PDCC__H2022 - Main Kitchen__LS - Dried Products__bean curd', 'PDCC__H2022 - Main Kitchen__LS - Dried Products__bean sticks', 'PDCC__H2022 - Main Kitchen__LS - Dried Products__beans', 'PDCC__H2022 - Main Kitchen__LS - Dried Products__beetroot', 'PDCC__H2022 - Main Kitchen__LS - Dried Products__bicarbonate soda', 'PDCC__H2022 - Main Kitchen__LS - Dried Products__bread crumbs', 'PDCC__H2022 - Main Kitchen__LS - Dried Products__bread improver', 'PDCC__H2022 - Main Kitchen__LS - Dried Products__butter', 'PDCC__H2022 - Main Kitchen__LS - Dried Products__cake', 'PDCC__H2022 - Main Kitchen__LS - Dried Products__cake mix', 'PDCC__H2022 - Main Kitchen__LS - Dried Products__candied fruits', 'PDCC__H2022 - Main Kitchen__LS - Dried Products__candies', 'PDCC__H2022 - Main Kitchen__LS - Dried Products__candy', 'PDCC__H2022 - Main Kitchen__LS - Dried Products__canola oil', 'PDCC__H2022 - Main Kitchen__LS - Dried Products__cashew nut', 'PDCC__H2022 - Main Kitchen__LS - Dried Products__caviar', 'PDCC__H2022 - Main Kitchen__LS - Dried Products__cereal', 'PDCC__H2022 - Main Kitchen__LS - Dried Products__cheddar cheese', 'PDCC__H2022 - Main Kitchen__LS - Dried Products__cherry', 'PDCC__H2022 - Main Kitchen__LS - Dried Products__chilli whole', 'PDCC__H2022 - Main Kitchen__LS - Dried Products__chocolate, milk', 'PDCC__H2022 - Main Kitchen__LS - Dried Products__christmas decoration', 'PDCC__H2022 - Main Kitchen__LS - Dried Products__cinnamon powder', 'PDCC__H2022 - Main Kitchen__LS - Dried Products__cocktail', 'PDCC__H2022 - Main Kitchen__LS - Dried Products__cocoa', 'PDCC__H2022 - Main Kitchen__LS - Dried Products__coconut oil', 'PDCC__H2022 - Main Kitchen__LS - Dried Products__colla enzima', 'PDCC__H2022 - Main Kitchen__LS - Dried Products__cone', 'PDCC__H2022 - Main Kitchen__LS - Dried Products__crab', 'PDCC__H2022 - Main Kitchen__LS - Dried Products__cranberry', 'PDCC__H2022 - Main Kitchen__LS - Dried Products__croquant flakes', 'PDCC__H2022 - Main Kitchen__LS - Dried Products__curry roux', 'PDCC__H2022 - Main Kitchen__LS - Dried Products__deco gel', 'PDCC__H2022 - Main Kitchen__LS - Dried Products__dim sum', 'PDCC__H2022 - Main Kitchen__LS - Dried Products__doughnut', 'PDCC__H2022 - Main Kitchen__LS - Dried Products__eggplant', 'PDCC__H2022 - Main Kitchen__LS - Dried Products__emulsifier texturizer', 'PDCC__H2022 - Main Kitchen__LS - Dried Products__essence', 'PDCC__H2022 - Main Kitchen__LS - Dried Products__feuilletine', 'PDCC__H2022 - Main Kitchen__LS - Dried Products__filling', 'PDCC__H2022 - Main Kitchen__LS - Dried Products__fish', 'PDCC__H2022 - Main Kitchen__LS - Dried Products__flax seeds', 'PDCC__H2022 - Main Kitchen__LS - Dried Products__flower', 'PDCC__H2022 - Main Kitchen__LS - Dried Products__freekeh', 'PDCC__H2022 - Main Kitchen__LS - Dried Products__garlic powder', 'PDCC__H2022 - Main Kitchen__LS - Dried Products__gelling agent', 'PDCC__H2022 - Main Kitchen__LS - Dried Products__ginger bread', 'PDCC__H2022 - Main Kitchen__LS - Dried Products__ginger powder', 'PDCC__H2022 - Main Kitchen__LS - Dried Products__glaze', 'PDCC__H2022 - Main Kitchen__LS - Dried Products__gold powder', 'PDCC__H2022 - Main Kitchen__LS - Dried Products__halwa', 'PDCC__H2022 - Main Kitchen__LS - Dried Products__hazelnut', 'PDCC__H2022 - Main Kitchen__LS - Dried Products__indian savouries', 'PDCC__H2022 - Main Kitchen__LS - Dried Products__indian sweet, rasmalai', 'PDCC__H2022 - Main Kitchen__LS - Dried Products__jaggery', 'PDCC__H2022 - Main Kitchen__LS - Dried Products__jalapeno pepper', 'PDCC__H2022 - Main Kitchen__LS - Dried Products__jalebi', 'PDCC__H2022 - Main Kitchen__LS - Dried Products__jelly', 'PDCC__H2022 - Main Kitchen__LS - Dried Products__jelly air parade', 'PDCC__H2022 - Main Kitchen__LS - Dried Products__jelly bananas', 'PDCC__H2022 - Main Kitchen__LS - Dried Products__jelly beans', 'PDCC__H2022 - Main Kitchen__LS - Dried Products__jelly carpet', 'PDCC__H2022 - Main Kitchen__LS - Dried Products__jelly cola', 'PDCC__H2022 - Main Kitchen__LS - Dried Products__jelly crocodile', 'PDCC__H2022 - Main Kitchen__LS - Dried Products__jelly dragon', 'PDCC__H2022 - Main Kitchen__LS - Dried Products__jelly fish', 'PDCC__H2022 - Main Kitchen__LS - Dried Products__jelly gold bears', 'PDCC__H2022 - Main Kitchen__LS - Dried Products__jelly lemon', 'PDCC__H2022 - Main Kitchen__LS - Dried Products__jelly orange', 'PDCC__H2022 - Main Kitchen__LS - Dried Products__jelly orange powder', 'PDCC__H2022 - Main Kitchen__LS - Dried Products__jelly peach', 'PDCC__H2022 - Main Kitchen__LS - Dried Products__jelly pineapple', 'PDCC__H2022 - Main Kitchen__LS - Dried Products__jelly raspberry&black cherry', 'PDCC__H2022 - Main Kitchen__LS - Dried Products__jelly shark', 'PDCC__H2022 - Main Kitchen__LS - Dried Products__jelly snakes', 'PDCC__H2022 - Main Kitchen__LS - Dried Products__jelly strawberry', 'PDCC__H2022 - Main Kitchen__LS - Dried Products__jelly sugary balls', 'PDCC__H2022 - Main Kitchen__LS - Dried Products__jelly sweet', 'PDCC__H2022 - Main Kitchen__LS - Dried Products__jelly teddy bears', 'PDCC__H2022 - Main Kitchen__LS - Dried Products__jelly tropimix', 'PDCC__H2022 - Main Kitchen__LS - Dried Products__jelly watermelon', 'PDCC__H2022 - Main Kitchen__LS - Dried Products__kunafa', 'PDCC__H2022 - Main Kitchen__LS - Dried Products__lemon', 'PDCC__H2022 - Main Kitchen__LS - Dried Products__linseed', 'PDCC__H2022 - Main Kitchen__LS - Dried Products__liquid lecithin', 'PDCC__H2022 - Main Kitchen__LS - Dried Products__maltodextrin', 'PDCC__H2022 - Main Kitchen__LS - Dried Products__mamoul', 'PDCC__H2022 - Main Kitchen__LS - Dried Products__mandarin segments', 'PDCC__H2022 - Main Kitchen__LS - Dried Products__mango pulp', 'PDCC__H2022 - Main Kitchen__LS - Dried Products__mashed potato', 'PDCC__H2022 - Main Kitchen__LS - Dried Products__mawa', 'PDCC__H2022 - Main Kitchen__LS - Dried Products__mince pie', 'PDCC__H2022 - Main Kitchen__LS - Dried Products__mixed fruit', 'PDCC__H2022 - Main Kitchen__LS - Dried Products__moghrabieh', 'PDCC__H2022 - Main Kitchen__LS - Dried Products__molokhia', 'PDCC__H2022 - Main Kitchen__LS - Dried Products__muesli', 'PDCC__H2022 - Main Kitchen__LS - Dried Products__mustard oil', 'PDCC__H2022 - Main Kitchen__LS - Dried Products__noodles', 'PDCC__H2022 - Main Kitchen__LS - Dried Products__nutmeg', 'PDCC__H2022 - Main Kitchen__LS - Dried Products__oregano leave', 'PDCC__H2022 - Main Kitchen__LS - Dried Products__other', 'PDCC__H2022 - Main Kitchen__LS - Dried Products__pactine', 'PDCC__H2022 - Main Kitchen__LS - Dried Products__papad', 'PDCC__H2022 - Main Kitchen__LS - Dried Products__pastry', 'PDCC__H2022 - Main Kitchen__LS - Dried Products__pearl', 'PDCC__H2022 - Main Kitchen__LS - Dried Products__pecan nuts', 'PDCC__H2022 - Main Kitchen__LS - Dried Products__pectine nappage', 'PDCC__H2022 - Main Kitchen__LS - Dried Products__pineapple', 'PDCC__H2022 - Main Kitchen__LS - Dried Products__pistachio', 'PDCC__H2022 - Main Kitchen__LS - Dried Products__pistachio paste', 'PDCC__H2022 - Main Kitchen__LS - Dried Products__poor powder', 'PDCC__H2022 - Main Kitchen__LS - Dried Products__popcorn', 'PDCC__H2022 - Main Kitchen__LS - Dried Products__praline paste', 'PDCC__H2022 - Main Kitchen__LS - Dried Products__pudding', 'PDCC__H2022 - Main Kitchen__LS - Dried Products__puff pastry', 'PDCC__H2022 - Main Kitchen__LS - Dried Products__pumpkin seeds', 'PDCC__H2022 - Main Kitchen__LS - Dried Products__quinoa seeds', 'PDCC__H2022 - Main Kitchen__LS - Dried Products__raisins', 'PDCC__H2022 - Main Kitchen__LS - Dried Products__raspberry', 'PDCC__H2022 - Main Kitchen__LS - Dried Products__rose petals', 'PDCC__H2022 - Main Kitchen__LS - Dried Products__rye flakes', 'PDCC__H2022 - Main Kitchen__LS - Dried Products__sacher mix', 'PDCC__H2022 - Main Kitchen__LS - Dried Products__salt', 'PDCC__H2022 - Main Kitchen__LS - Dried Products__sambar masala', 'PDCC__H2022 - Main Kitchen__LS - Dried Products__samosa, chicken', 'PDCC__H2022 - Main Kitchen__LS - Dried Products__seasoning', 'PDCC__H2022 - Main Kitchen__LS - Dried Products__seed mix', 'PDCC__H2022 - Main Kitchen__LS - Dried Products__soya lecithin', 'PDCC__H2022 - Main Kitchen__LS - Dried Products__spices', 'PDCC__H2022 - Main Kitchen__LS - Dried Products__stabilizer powder', 'PDCC__H2022 - Main Kitchen__LS - Dried Products__sugar paste', 'PDCC__H2022 - Main Kitchen__LS - Dried Products__sugar white', 'PDCC__H2022 - Main Kitchen__LS - Dried Products__sunflower oil', 'PDCC__H2022 - Main Kitchen__LS - Dried Products__sunflower seeds', 'PDCC__H2022 - Main Kitchen__LS - Dried Products__syrup', 'PDCC__H2022 - Main Kitchen__LS - Dried Products__syrup,apple', 'PDCC__H2022 - Main Kitchen__LS - Dried Products__syrup,pear', 'PDCC__H2022 - Main Kitchen__LS - Dried Products__tamarind', 'PDCC__H2022 - Main Kitchen__LS - Dried Products__tart shell', 'PDCC__H2022 - Main Kitchen__LS - Dried Products__tartaric acid', 'PDCC__H2022 - Main Kitchen__LS - Dried Products__texturizer', 'PDCC__H2022 - Main Kitchen__LS - Dried Products__tomato peeled', 'PDCC__H2022 - Main Kitchen__LS - Dried Products__tomato pulp', 'PDCC__H2022 - Main Kitchen__LS - Dried Products__truffle', 'PDCC__H2022 - Main Kitchen__LS - Dried Products__vanilla_extract', 'PDCC__H2022 - Main Kitchen__LS - Dried Products__vanilla_pods', 'PDCC__H2022 - Main Kitchen__LS - Dried Products__vinegar', 'PDCC__H2022 - Main Kitchen__LS - Dried Products__walnut', 'PDCC__H2022 - Main Kitchen__LS - Fruit Fresh__apple', 'PDCC__H2022 - Main Kitchen__LS - Fruit Fresh__apricot', 'PDCC__H2022 - Main Kitchen__LS - Fruit Fresh__cherry', 'PDCC__H2022 - Main Kitchen__LS - Fruit Fresh__coconut', 'PDCC__H2022 - Main Kitchen__LS - Fruit Fresh__flower', 'PDCC__H2022 - Main Kitchen__LS - Fruit Fresh__gooseberry', 'PDCC__H2022 - Main Kitchen__LS - Fruit Fresh__guava', 'PDCC__H2022 - Main Kitchen__LS - Fruit Fresh__honeydew melon', 'PDCC__H2022 - Main Kitchen__LS - Fruit Fresh__jackfruit', 'PDCC__H2022 - Main Kitchen__LS - Fruit Fresh__longan', 'PDCC__H2022 - Main Kitchen__LS - Fruit Fresh__mandarin', 'PDCC__H2022 - Main Kitchen__LS - Fruit Fresh__mangosteen', 'PDCC__H2022 - Main Kitchen__LS - Fruit Fresh__nectarine', 'PDCC__H2022 - Main Kitchen__LS - Fruit Fresh__papaya', 'PDCC__H2022 - Main Kitchen__LS - Fruit Fresh__passion fruit', 'PDCC__H2022 - Main Kitchen__LS - Fruit Fresh__peach', 'PDCC__H2022 - Main Kitchen__LS - Fruit Fresh__pear', 'PDCC__H2022 - Main Kitchen__LS - Fruit Fresh__pear conference', 'PDCC__H2022 - Main Kitchen__LS - Fruit Fresh__pear coscia', 'PDCC__H2022 - Main Kitchen__LS - Fruit Fresh__pear yali', 'PDCC__H2022 - Main Kitchen__LS - Fruit Fresh__pomelo', 'PDCC__H2022 - Main Kitchen__LS - Fruit Fresh__rambutan', 'PDCC__H2022 - Main Kitchen__LS - Fruit Fresh__red currant', 'PDCC__H2022 - Main Kitchen__LS - Fruit Fresh__redcurrant', 'PDCC__H2022 - Main Kitchen__LS - Fruit Fresh__sri lankan fruits', 'PDCC__H2022 - Main Kitchen__LS - Fruit Fresh__star fruit', 'PDCC__H2022 - Main Kitchen__LS - Fruit Fresh__sugar cane', 'PDCC__H2022 - Main Kitchen__LS - Fruit Fresh__turmeric', 'PDCC__H2022 - Main Kitchen__LS - Fruits Frozen__avacado', 'PDCC__H2022 - Main Kitchen__LS - Fruits Frozen__black currant', 'PDCC__H2022 - Main Kitchen__LS - Fruits Frozen__blueberry', 'PDCC__H2022 - Main Kitchen__LS - Fruits Frozen__cherry', 'PDCC__H2022 - Main Kitchen__LS - Fruits Frozen__chestnut peeled', 'PDCC__H2022 - Main Kitchen__LS - Fruits Frozen__cranberry', 'PDCC__H2022 - Main Kitchen__LS - Fruits Frozen__guacamole', 'PDCC__H2022 - Main Kitchen__LS - Fruits Frozen__lemon', 'PDCC__H2022 - Main Kitchen__LS - Fruits Frozen__mango', 'PDCC__H2022 - Main Kitchen__LS - Fruits Frozen__mixed berries', 'PDCC__H2022 - Main Kitchen__LS - Fruits Frozen__mixed berry', 'PDCC__H2022 - Main Kitchen__LS - Fruits Frozen__orange', 'PDCC__H2022 - Main Kitchen__LS - Fruits Frozen__red currant', 'PDCC__H2022 - Main Kitchen__LS - Fruits Frozen__rhubarb', 'PDCC__H2022 - Main Kitchen__LS - Fruits Frozen__starwberry', 'PDCC__H2022 - Main Kitchen__LS - Fruits Frozen__strawberry', 'PDCC__H2022 - Main Kitchen__LS - Meat Fresh__beef', 'PDCC__H2022 - Main Kitchen__LS - Meat Fresh__lamb', 'PDCC__H2022 - Main Kitchen__LS - Meat Frozen__rabbit', 'PDCC__H2022 - Main Kitchen__LS - Meat Frozen__veal', 'PDCC__H2022 - Main Kitchen__LS - Meat Frozen__venison tenderloin', 'PDCC__H2022 - Main Kitchen__LS - Meat chilled__crab', 'PDCC__H2022 - Main Kitchen__LS - Meat chilled__mutton', 'PDCC__H2022 - Main Kitchen__LS - Pasta Products__pasta, gnocchi', 'PDCC__H2022 - Main Kitchen__LS - Poultry Chilled__chicken', 'PDCC__H2022 - Main Kitchen__LS - Poultry Chilled__duck', 'PDCC__H2022 - Main Kitchen__LS - Poultry Chilled__eggs', 'PDCC__H2022 - Main Kitchen__LS - Poultry Chilled__samosa, chicken', 'PDCC__H2022 - Main Kitchen__LS - Poultry Fresh__eggs white', 'PDCC__H2022 - Main Kitchen__LS - Poultry Frozen__chicken drumstick', 'PDCC__H2022 - Main Kitchen__LS - Poultry Frozen__chicken nuggets', 'PDCC__H2022 - Main Kitchen__LS - Poultry Frozen__chicken satay', 'PDCC__H2022 - Main Kitchen__LS - Poultry Frozen__chicken shawarma', 'PDCC__H2022 - Main Kitchen__LS - Poultry Frozen__duck', 'PDCC__H2022 - Main Kitchen__LS - Poultry Frozen__turkey', 'PDCC__H2022 - Main Kitchen__LS - Processed Food Items__beef', 'PDCC__H2022 - Main Kitchen__LS - Processed Food Items__bun', 'PDCC__H2022 - Main Kitchen__LS - Processed Food Items__chicken', 'PDCC__H2022 - Main Kitchen__LS - Processed Food Items__chicken nuggets', 'PDCC__H2022 - Main Kitchen__LS - Processed Food Items__chicken satay', 'PDCC__H2022 - Main Kitchen__LS - Processed Food Items__fish roe', 'PDCC__H2022 - Main Kitchen__LS - Processed Food Items__guacamole', 'PDCC__H2022 - Main Kitchen__LS - Processed Food Items__lamb', 'PDCC__H2022 - Main Kitchen__LS - Processed Food Items__lamb sausage', 'PDCC__H2022 - Main Kitchen__LS - Processed Food Items__nuggets', 'PDCC__H2022 - Main Kitchen__LS - Processed Food Items__onion ring', 'PDCC__H2022 - Main Kitchen__LS - Processed Food Items__pickles', 'PDCC__H2022 - Main Kitchen__LS - Processed Food Items__potato chaat', 'PDCC__H2022 - Main Kitchen__LS - Processed Food Items__sambousek', 'PDCC__H2022 - Main Kitchen__LS - Processed Food Items__samosa cheese', 'PDCC__H2022 - Main Kitchen__LS - Processed Food Items__samosa chicken', 'PDCC__H2022 - Main Kitchen__LS - Processed Food Items__samosa meat', 'PDCC__H2022 - Main Kitchen__LS - Processed Food Items__samosa mutton', 'PDCC__H2022 - Main Kitchen__LS - Processed Food Items__samosa, spinach', 'PDCC__H2022 - Main Kitchen__LS - Processed Food Items__sausage', 'PDCC__H2022 - Main Kitchen__LS - Processed Food Items__spinach', 'PDCC__H2022 - Main Kitchen__LS - Processed Food Items__spring roll', 'PDCC__H2022 - Main Kitchen__LS - Processed Food Items__spring roll, cheese', 'PDCC__H2022 - Main Kitchen__LS - Processed Food Items__turkey', 'PDCC__H2022 - Main Kitchen__LS - Processed Food Items__turkey ham', 'PDCC__H2022 - Main Kitchen__LS - Processed Food Items__veal', 'PDCC__H2022 - Main Kitchen__LS - Processed Food Items__veal bacon', 'PDCC__H2022 - Main Kitchen__LS - Processed Food Items__veal sausage', 'PDCC__H2022 - Main Kitchen__LS - Processed Food Items__vine leaves', 'PDCC__H2022 - Main Kitchen__LS - Sauces and Dressing__almond paste', 'PDCC__H2022 - Main Kitchen__LS - Sauces and Dressing__binex-florentine mix', 'PDCC__H2022 - Main Kitchen__LS - Sauces and Dressing__cheddar cheese', 'PDCC__H2022 - Main Kitchen__LS - Sauces and Dressing__chilli sauce', 'PDCC__H2022 - Main Kitchen__LS - Sauces and Dressing__chilli whole', 'PDCC__H2022 - Main Kitchen__LS - Sauces and Dressing__cooking sauce', 'PDCC__H2022 - Main Kitchen__LS - Sauces and Dressing__custard powder', 'PDCC__H2022 - Main Kitchen__LS - Sauces and Dressing__gelling agent', 'PDCC__H2022 - Main Kitchen__LS - Sauces and Dressing__indian savouries', 'PDCC__H2022 - Main Kitchen__LS - Sauces and Dressing__jam', 'PDCC__H2022 - Main Kitchen__LS - Sauces and Dressing__jam rose', 'PDCC__H2022 - Main Kitchen__LS - Sauces and Dressing__jam strawberry', 'PDCC__H2022 - Main Kitchen__LS - Sauces and Dressing__mayonnaise', 'PDCC__H2022 - Main Kitchen__LS - Sauces and Dressing__praline paste', 'PDCC__H2022 - Main Kitchen__LS - Sauces and Dressing__puff pastry', 'PDCC__H2022 - Main Kitchen__LS - Sauces and Dressing__soya sauce', 'PDCC__H2022 - Main Kitchen__LS - Sauces and Dressing__tart shell', 'PDCC__H2022 - Main Kitchen__LS - Sauces and Dressing__topping', 'PDCC__H2022 - Main Kitchen__LS - Sauces and Dressing__worcestershire sauce', 'PDCC__H2022 - Main Kitchen__LS - Seafood Fresh__caviar', 'PDCC__H2022 - Main Kitchen__LS - Seafood Fresh__mussels', 'PDCC__H2022 - Main Kitchen__LS - Seafood Fresh__oyster', 'PDCC__H2022 - Main Kitchen__LS - Sweet__awamat', 'PDCC__H2022 - Main Kitchen__LS - Sweet__balah al sham', 'PDCC__H2022 - Main Kitchen__LS - Sweet__barazeq', 'PDCC__H2022 - Main Kitchen__LS - Sweet__indian sweet, rasmalai', 'PDCC__H2022 - Main Kitchen__LS - Sweet__kunafa', 'PDCC__H2022 - Main Kitchen__LS - Sweet__maakaroun', 'PDCC__H2022 - Main Kitchen__LS - Sweet__mamoul', 'PDCC__H2022 - Main Kitchen__LS - Sweet__qatayef', 'PDCC__H2022 - Main Kitchen__LS - Sweet__ward al sham', 'PDCC__H2022 - Main Kitchen__LS - Sweet__znoud al set', 'PDCC__H2022 - Main Kitchen__LS - Vegetables Fresh__alfalfa sprouts', 'PDCC__H2022 - Main Kitchen__LS - Vegetables Fresh__apple green', 'PDCC__H2022 - Main Kitchen__LS - Vegetables Fresh__artichoke', 'PDCC__H2022 - Main Kitchen__LS - Vegetables Fresh__banana shallot', 'PDCC__H2022 - Main Kitchen__LS - Vegetables Fresh__beetroot', 'PDCC__H2022 - Main Kitchen__LS - Vegetables Fresh__bitter gourd', 'PDCC__H2022 - Main Kitchen__LS - Vegetables Fresh__brocolli', 'PDCC__H2022 - Main Kitchen__LS - Vegetables Fresh__capsicum orange', 'PDCC__H2022 - Main Kitchen__LS - Vegetables Fresh__carrot baby', 'PDCC__H2022 - Main Kitchen__LS - Vegetables Fresh__carrot purple', 'PDCC__H2022 - Main Kitchen__LS - Vegetables Fresh__carrot yellow', 'PDCC__H2022 - Main Kitchen__LS - Vegetables Fresh__celeriac', 'PDCC__H2022 - Main Kitchen__LS - Vegetables Fresh__chervil', 'PDCC__H2022 - Main Kitchen__LS - Vegetables Fresh__chilly pakoda', 'PDCC__H2022 - Main Kitchen__LS - Vegetables Fresh__chives', 'PDCC__H2022 - Main Kitchen__LS - Vegetables Fresh__corn on the cob', 'PDCC__H2022 - Main Kitchen__LS - Vegetables Fresh__cress leaves  beetroot bulls', 'PDCC__H2022 - Main Kitchen__LS - Vegetables Fresh__cress leaves affila', 'PDCC__H2022 - Main Kitchen__LS - Vegetables Fresh__cress leaves amaranth', 'PDCC__H2022 - Main Kitchen__LS - Vegetables Fresh__cress leaves arugula wild', 'PDCC__H2022 - Main Kitchen__LS - Vegetables Fresh__cress leaves basil', 'PDCC__H2022 - Main Kitchen__LS - Vegetables Fresh__cress leaves borage', 'PDCC__H2022 - Main Kitchen__LS - Vegetables Fresh__cress leaves broccoli', 'PDCC__H2022 - Main Kitchen__LS - Vegetables Fresh__cress leaves cabbage', 'PDCC__H2022 - Main Kitchen__LS - Vegetables Fresh__cress leaves carrot', 'PDCC__H2022 - Main Kitchen__LS - Vegetables Fresh__cress leaves chard flamingo', 'PDCC__H2022 - Main Kitchen__LS - Vegetables Fresh__cress leaves coriander', 'PDCC__H2022 - Main Kitchen__LS - Vegetables Fresh__cress leaves daikon', 'PDCC__H2022 - Main Kitchen__LS - Vegetables Fresh__cress leaves garden', 'PDCC__H2022 - Main Kitchen__LS - Vegetables Fresh__cress leaves garlic chives', 'PDCC__H2022 - Main Kitchen__LS - Vegetables Fresh__cress leaves kale', 'PDCC__H2022 - Main Kitchen__LS - Vegetables Fresh__cress leaves lemon balm', 'PDCC__H2022 - Main Kitchen__LS - Vegetables Fresh__cress leaves marjoram', 'PDCC__H2022 - Main Kitchen__LS - Vegetables Fresh__cress leaves mustard', 'PDCC__H2022 - Main Kitchen__LS - Vegetables Fresh__cress leaves nasturtium', 'PDCC__H2022 - Main Kitchen__LS - Vegetables Fresh__cress leaves nasturtum', 'PDCC__H2022 - Main Kitchen__LS - Vegetables Fresh__cress leaves oxail', 'PDCC__H2022 - Main Kitchen__LS - Vegetables Fresh__cress leaves popcorn', 'PDCC__H2022 - Main Kitchen__LS - Vegetables Fresh__cress leaves red radish', 'PDCC__H2022 - Main Kitchen__LS - Vegetables Fresh__cress leaves red veined', 'PDCC__H2022 - Main Kitchen__LS - Vegetables Fresh__cress leaves sorrel', 'PDCC__H2022 - Main Kitchen__LS - Vegetables Fresh__cress leaves tendril pea', 'PDCC__H2022 - Main Kitchen__LS - Vegetables Fresh__cress leaves thom pea', 'PDCC__H2022 - Main Kitchen__LS - Vegetables Fresh__cress mix', 'PDCC__H2022 - Main Kitchen__LS - Vegetables Fresh__drumstick', 'PDCC__H2022 - Main Kitchen__LS - Vegetables Fresh__endives', 'PDCC__H2022 - Main Kitchen__LS - Vegetables Fresh__fenugreek', 'PDCC__H2022 - Main Kitchen__LS - Vegetables Fresh__garlic whole', 'PDCC__H2022 - Main Kitchen__LS - Vegetables Fresh__green chilly', 'PDCC__H2022 - Main Kitchen__LS - Vegetables Fresh__kang kung', 'PDCC__H2022 - Main Kitchen__LS - Vegetables Fresh__kohlrabi', 'PDCC__H2022 - Main Kitchen__LS - Vegetables Fresh__leafy vegetables', 'PDCC__H2022 - Main Kitchen__LS - Vegetables Fresh__lemon', 'PDCC__H2022 - Main Kitchen__LS - Vegetables Fresh__lime leaves', 'PDCC__H2022 - Main Kitchen__LS - Vegetables Fresh__lotus root', 'PDCC__H2022 - Main Kitchen__LS - Vegetables Fresh__mango', 'PDCC__H2022 - Main Kitchen__LS - Vegetables Fresh__mint fresh', 'PDCC__H2022 - Main Kitchen__LS - Vegetables Fresh__onion brown', 'PDCC__H2022 - Main Kitchen__LS - Vegetables Fresh__onion white', 'PDCC__H2022 - Main Kitchen__LS - Vegetables Fresh__oregano leaves', 'PDCC__H2022 - Main Kitchen__LS - Vegetables Fresh__pakshoy', 'PDCC__H2022 - Main Kitchen__LS - Vegetables Fresh__parsnip', 'PDCC__H2022 - Main Kitchen__LS - Vegetables Fresh__peas', 'PDCC__H2022 - Main Kitchen__LS - Vegetables Fresh__pineapple', 'PDCC__H2022 - Main Kitchen__LS - Vegetables Fresh__potato agria', 'PDCC__H2022 - Main Kitchen__LS - Vegetables Fresh__potato idhaho', 'PDCC__H2022 - Main Kitchen__LS - Vegetables Fresh__potato purple', 'PDCC__H2022 - Main Kitchen__LS - Vegetables Fresh__potato ratte', 'PDCC__H2022 - Main Kitchen__LS - Vegetables Fresh__potato red', 'PDCC__H2022 - Main Kitchen__LS - Vegetables Fresh__potato russet', 'PDCC__H2022 - Main Kitchen__LS - Vegetables Fresh__pumpkin butterneut', 'PDCC__H2022 - Main Kitchen__LS - Vegetables Fresh__pumpkin fresh', 'PDCC__H2022 - Main Kitchen__LS - Vegetables Fresh__pumpkin red', 'PDCC__H2022 - Main Kitchen__LS - Vegetables Fresh__pumpkin yellow', 'PDCC__H2022 - Main Kitchen__LS - Vegetables Fresh__purple oxalis leaves', 'PDCC__H2022 - Main Kitchen__LS - Vegetables Fresh__radish', 'PDCC__H2022 - Main Kitchen__LS - Vegetables Fresh__ridged gourd', 'PDCC__H2022 - Main Kitchen__LS - Vegetables Fresh__sage', 'PDCC__H2022 - Main Kitchen__LS - Vegetables Fresh__shisho', 'PDCC__H2022 - Main Kitchen__LS - Vegetables Fresh__sisho leaves', 'PDCC__H2022 - Main Kitchen__LS - Vegetables Fresh__snake gourd', 'PDCC__H2022 - Main Kitchen__LS - Vegetables Fresh__spring mix', 'PDCC__H2022 - Main Kitchen__LS - Vegetables Fresh__sri lankan vegetables', 'PDCC__H2022 - Main Kitchen__LS - Vegetables Fresh__tangerine gems leaves', 'PDCC__H2022 - Main Kitchen__LS - Vegetables Fresh__tapioca', 'PDCC__H2022 - Main Kitchen__LS - Vegetables Fresh__taragon', 'PDCC__H2022 - Main Kitchen__LS - Vegetables Fresh__taro root', 'PDCC__H2022 - Main Kitchen__LS - Vegetables Fresh__tarragon', 'PDCC__H2022 - Main Kitchen__LS - Vegetables Fresh__thyme', 'PDCC__H2022 - Main Kitchen__LS - Vegetables Fresh__thyme leaves', 'PDCC__H2022 - Main Kitchen__LS - Vegetables Fresh__truffle', 'PDCC__H2022 - Main Kitchen__LS - Vegetables Fresh__turnip', 'PDCC__H2022 - Main Kitchen__LS - Vegetables Fresh__zucchini flower', 'PDCC__H2022 - Main Kitchen__LS - Vegetables Frozen__carrot baby', 'PDCC__H2022 - Main Kitchen__LS - Vegetables Frozen__chips, potato chips', 'PDCC__H2022 - Main Kitchen__LS - Vegetables Frozen__corn on the cob', 'PDCC__H2022 - Main Kitchen__LS - Vegetables Frozen__flour', 'PDCC__H2022 - Main Kitchen__LS - Vegetables Frozen__molokhia', 'PDCC__H2022 - Main Kitchen__LS - Vegetables Frozen__okra', 'PDCC__H2022 - Main Kitchen__LS - Vegetables Frozen__onion', 'PDCC__H2022 - Main Kitchen__LS - Vegetables Frozen__onion ring', 'PDCC__H2022 - Main Kitchen__LS - Vegetables Frozen__potato croquettes', 'PDCC__H2022 - Main Kitchen__LS - Vegetables Frozen__potato hash brown', 'PDCC__H2022 - Main Kitchen__LS - Vegetables Frozen__potato wedges', 'PDCC__H2022 - Main Kitchen__LS - Vegetables Frozen__raspberry', 'PDCC__H2022 - Main Kitchen__LS - Vegetables Frozen__samosa, vegetable', 'PDCC__H2022 - Main Kitchen__LS - Vegetables Frozen__soya beans', 'PDCC__H2022 - Main Kitchen__LS - Vegetables Frozen__spinach minced', 'PDCC__H2022 - Main Kitchen__LS - Vegetables Frozen__spring roll, vegetable', 'PDCC__H2022 - Main Kitchen__LS - seafood Frozen__fish fillet', 'PDCC__H2022 - Main Kitchen__LS - seafood Frozen__fish finger', 'PDCC__H2022 - Main Kitchen__LS - seafood Frozen__octopus', 'PDCC__H2022 - Main Kitchen__LS - seafood Frozen__shrimp tempura', 'PDCC__H2022 - Marketing__LS - Consumables__spice box', 'PDCC__H2022 - Marketing__LS - Dried Products__hamper box', 'PDCC__H2022 - Medley__LS - Consumables__bamboo stick', 'PDCC__H2022 - Medley__LS - Consumables__fork', 'PDCC__H2022 - Medley__LS - Consumables__glue adhesive', 'PDCC__H2022 - Medley__LS - Consumables__glue fevicol', 'PDCC__H2022 - Medley__LS - Dried Products__cake', 'PDCC__H2022 - Medley__LS - Dried Products__chocolate', 'PDCC__H2022 - Medley__LS - Dried Products__coffee', 'PDCC__H2022 - Medley__LS - Dried Products__hamper box', 'PDCC__H2022 - Medley__LS - Electrical Supplies__cable rr', 'PDCC__H2022 - Medley__LS - Electrical Supplies__socket', 'PDCC__H2022 - Security__LS - Consumables__service cable', 'PDCC__H2022 - Security__LS - Electrical Supplies__flex cable', 'PDCC__H2022 - Security__LS - Electrical Supplies__pcb', 'PDCC__H2022 - Soft Beverage Store__LS - Sauces and Dressing__syrup', 'PDCC__H2022 - Soma Spa__LS - Cleaning Products & Services__mop sleeve', 'PDCC__H2022 - Soma Spa__LS - Cleaning Products__massage oil', 'PDCC__H2022 - Soma Spa__LS - Consumables__aroma oil', 'PDCC__H2022 - Soma Spa__LS - Consumables__face cleanser', 'PDCC__H2022 - Soma Spa__LS - Consumables__face mask', 'PDCC__H2022 - Soma Spa__LS - Consumables__face peel', 'PDCC__H2022 - Soma Spa__LS - Consumables__face serum', 'PDCC__H2022 - Soma Spa__LS - Consumables__make up remover', 'PDCC__H2022 - Soma Spa__LS - Consumables__massage cream', 'PDCC__H2022 - Soma Spa__LS - Consumables__massage oil', 'PDCC__H2022 - Soma Spa__LS - Consumables__skin care', 'PDCC__H2022 - Soma Spa__LS - Fruit Fresh__apple green', 'PDCC__H2022 - Soma Spa__LS - Fruit Fresh__coconut whole', 'PDCC__H2022 - Stewarding__LS - Cleaning Products & Services__broom', 'PDCC__H2022 - Stewarding__LS - Cleaning Products & Services__divobrite', 'PDCC__H2022 - Stewarding__LS - Cleaning Products & Services__divosan vt3', 'PDCC__H2022 - Stewarding__LS - Cleaning Products & Services__dust pan', 'PDCC__H2022 - Stewarding__LS - Cleaning Products & Services__floor wiper', 'PDCC__H2022 - Stewarding__LS - Cleaning Products & Services__garbage bin', 'PDCC__H2022 - Stewarding__LS - Cleaning Products & Services__handle', 'PDCC__H2022 - Stewarding__LS - Cleaning Products & Services__scrubber', 'PDCC__H2022 - Stewarding__LS - Cleaning Products & Services__suma a17', 'PDCC__H2022 - Stewarding__LS - Cleaning Products & Services__suma d16', 'PDCC__H2022 - Stewarding__LS - Cleaning Products & Services__suma d2', 'PDCC__H2022 - Stewarding__LS - Cleaning Products & Services__suma d9', 'PDCC__H2022 - Stewarding__LS - Cleaning Products & Services__suma revoflow', 'PDCC__H2022 - Stewarding__LS - Cleaning Products__suma a17', 'PDCC__H2022 - Stewarding__LS - Cleaning Products__suma dify ma1', 'PDCC__H2022 - Stewarding__LS - Consumables__coffee cup', 'PDCC__H2022 - Stewarding__LS - Consumables__container lid', 'PDCC__H2022 - Stewarding__LS - Consumables__fork', 'PDCC__H2022 - Stewarding__LS - Consumables__ice cream', 'PDCC__H2022 - Stewarding__LS - Consumables__mug', 'PDCC__H2022 - Stewarding__LS - Consumables__paper bag', 'PDCC__H2022 - Stewarding__LS - Consumables__paper kraft', 'PDCC__H2022 - Stewarding__LS - Consumables__polycarbonate container', 'PDCC__H2022 - Stewarding__LS - Consumables__wall hanger', 'PDCC__H2022 - Stewarding__LS - Electrical Supplies__warming plate', 'PDCC__H3537 - Grab & Go__LS - Dairy products chilled/frozen__ice cream', 'PDCC__H3537 - Housekeeping Residence__LS - Cleaning Products & Services__wiper', 'PDCC__H3537 - Housekeeping Residence__LS - Consumables__cup', 'PDCC__H3537 - Housekeeping Residence__LS - Consumables__mug', 'PDCC__H3537 - IT__LS - Electrical Supplies__battery', 'PDCC__H3537 - IT__LS - Electrical Supplies__extension cable', 'PDCC__H3537 - IT__LS - Electrical Supplies__mobile phone', 'PDCC__H3537 - Residence Engineering__LS - Consumables__paint', 'PDCC__H3537 - Residence Engineering__LS - Consumables__silicon,antifungus', 'PDCC__H3537 - Residence Engineering__LS - Electrical Supplies__battery', 'PDCC__H3537 - Residence Engineering__LS - Electrical Supplies__compressor', 'PDCC__H3537 - Residence Engineering__LS - Electrical Supplies__flex cable', 'PDCC__H3537 - Residence Engineering__LS - Electrical Supplies__fluorescent tube', 'PDCC__H3537 - Residence Engineering__LS - Electrical Supplies__led lamp', 'PDCC__H3537 - Residence Engineering__LS - Electrical Supplies__pcb', 'PDCC__H3537 - Residence Engineering__LS - Electrical Supplies__socket', 'PDCC__H3537 - Residence Engineering__LS - Electrical Supplies__switch', 'PDCC__H3537 - Security__LS - Consumables__first aid kit']\n",
      "Selected final uniqueIDs to perform forecast:  1411\n",
      "Unselected uniqueIDs counts:  3790\n"
     ]
    },
    {
     "name": "stderr",
     "output_type": "stream",
     "text": [
      "19:51:16 - cmdstanpy - INFO - Chain [1] start processing\n"
     ]
    },
    {
     "name": "stdout",
     "output_type": "stream",
     "text": [
      "2024-02-25 00:00:00\n"
     ]
    },
    {
     "name": "stderr",
     "output_type": "stream",
     "text": [
      "19:51:16 - cmdstanpy - INFO - Chain [1] done processing\n",
      "19:51:16 - cmdstanpy - INFO - Chain [1] start processing\n"
     ]
    },
    {
     "name": "stdout",
     "output_type": "stream",
     "text": [
      "2024-02-25 00:00:00\n"
     ]
    },
    {
     "name": "stderr",
     "output_type": "stream",
     "text": [
      "19:51:16 - cmdstanpy - INFO - Chain [1] done processing\n",
      "19:51:17 - cmdstanpy - INFO - Chain [1] start processing\n"
     ]
    },
    {
     "name": "stdout",
     "output_type": "stream",
     "text": [
      "2024-02-25 00:00:00\n"
     ]
    },
    {
     "name": "stderr",
     "output_type": "stream",
     "text": [
      "19:51:17 - cmdstanpy - INFO - Chain [1] done processing\n",
      "19:51:17 - cmdstanpy - INFO - Chain [1] start processing\n"
     ]
    },
    {
     "name": "stdout",
     "output_type": "stream",
     "text": [
      "2024-02-25 00:00:00\n"
     ]
    },
    {
     "name": "stderr",
     "output_type": "stream",
     "text": [
      "19:51:17 - cmdstanpy - INFO - Chain [1] done processing\n",
      "19:51:17 - cmdstanpy - INFO - Chain [1] start processing\n"
     ]
    },
    {
     "name": "stdout",
     "output_type": "stream",
     "text": [
      "2024-02-25 00:00:00\n"
     ]
    },
    {
     "name": "stderr",
     "output_type": "stream",
     "text": [
      "19:51:17 - cmdstanpy - INFO - Chain [1] done processing\n",
      "19:51:18 - cmdstanpy - INFO - Chain [1] start processing\n"
     ]
    },
    {
     "name": "stdout",
     "output_type": "stream",
     "text": [
      "2024-02-25 00:00:00\n"
     ]
    },
    {
     "name": "stderr",
     "output_type": "stream",
     "text": [
      "19:51:18 - cmdstanpy - INFO - Chain [1] done processing\n",
      "19:51:18 - cmdstanpy - INFO - Chain [1] start processing\n"
     ]
    },
    {
     "name": "stdout",
     "output_type": "stream",
     "text": [
      "2024-02-25 00:00:00\n"
     ]
    },
    {
     "name": "stderr",
     "output_type": "stream",
     "text": [
      "19:51:18 - cmdstanpy - INFO - Chain [1] done processing\n",
      "19:51:18 - cmdstanpy - INFO - Chain [1] start processing\n"
     ]
    },
    {
     "name": "stdout",
     "output_type": "stream",
     "text": [
      "2024-02-25 00:00:00\n"
     ]
    },
    {
     "name": "stderr",
     "output_type": "stream",
     "text": [
      "19:51:18 - cmdstanpy - INFO - Chain [1] done processing\n",
      "19:51:19 - cmdstanpy - INFO - Chain [1] start processing\n",
      "19:51:19 - cmdstanpy - INFO - Chain [1] done processing\n"
     ]
    },
    {
     "name": "stdout",
     "output_type": "stream",
     "text": [
      "2024-02-25 00:00:00\n"
     ]
    },
    {
     "name": "stderr",
     "output_type": "stream",
     "text": [
      "19:51:19 - cmdstanpy - INFO - Chain [1] start processing\n"
     ]
    },
    {
     "name": "stdout",
     "output_type": "stream",
     "text": [
      "2024-02-25 00:00:00\n"
     ]
    },
    {
     "name": "stderr",
     "output_type": "stream",
     "text": [
      "19:51:19 - cmdstanpy - INFO - Chain [1] done processing\n",
      "19:51:20 - cmdstanpy - INFO - Chain [1] start processing\n"
     ]
    },
    {
     "name": "stdout",
     "output_type": "stream",
     "text": [
      "2024-02-25 00:00:00\n"
     ]
    },
    {
     "name": "stderr",
     "output_type": "stream",
     "text": [
      "19:51:20 - cmdstanpy - INFO - Chain [1] done processing\n",
      "19:51:20 - cmdstanpy - INFO - Chain [1] start processing\n",
      "19:51:20 - cmdstanpy - INFO - Chain [1] done processing\n"
     ]
    },
    {
     "name": "stdout",
     "output_type": "stream",
     "text": [
      "2024-02-25 00:00:00\n"
     ]
    },
    {
     "name": "stderr",
     "output_type": "stream",
     "text": [
      "19:51:20 - cmdstanpy - INFO - Chain [1] start processing\n"
     ]
    },
    {
     "name": "stdout",
     "output_type": "stream",
     "text": [
      "2024-02-25 00:00:00\n"
     ]
    },
    {
     "name": "stderr",
     "output_type": "stream",
     "text": [
      "19:51:20 - cmdstanpy - INFO - Chain [1] done processing\n",
      "19:51:21 - cmdstanpy - INFO - Chain [1] start processing\n",
      "19:51:21 - cmdstanpy - INFO - Chain [1] done processing\n"
     ]
    },
    {
     "name": "stdout",
     "output_type": "stream",
     "text": [
      "2024-02-25 00:00:00\n"
     ]
    },
    {
     "name": "stderr",
     "output_type": "stream",
     "text": [
      "19:51:21 - cmdstanpy - INFO - Chain [1] start processing\n"
     ]
    },
    {
     "name": "stdout",
     "output_type": "stream",
     "text": [
      "2024-02-25 00:00:00\n"
     ]
    },
    {
     "name": "stderr",
     "output_type": "stream",
     "text": [
      "19:51:21 - cmdstanpy - INFO - Chain [1] done processing\n",
      "19:51:21 - cmdstanpy - INFO - Chain [1] start processing\n"
     ]
    },
    {
     "name": "stdout",
     "output_type": "stream",
     "text": [
      "2024-02-25 00:00:00\n"
     ]
    },
    {
     "name": "stderr",
     "output_type": "stream",
     "text": [
      "19:51:21 - cmdstanpy - INFO - Chain [1] done processing\n",
      "19:51:22 - cmdstanpy - INFO - Chain [1] start processing\n",
      "19:51:22 - cmdstanpy - INFO - Chain [1] done processing\n"
     ]
    },
    {
     "name": "stdout",
     "output_type": "stream",
     "text": [
      "2024-02-25 00:00:00\n"
     ]
    },
    {
     "name": "stderr",
     "output_type": "stream",
     "text": [
      "19:51:22 - cmdstanpy - INFO - Chain [1] start processing\n"
     ]
    },
    {
     "name": "stdout",
     "output_type": "stream",
     "text": [
      "2024-02-25 00:00:00\n"
     ]
    },
    {
     "name": "stderr",
     "output_type": "stream",
     "text": [
      "19:51:22 - cmdstanpy - INFO - Chain [1] done processing\n",
      "19:51:23 - cmdstanpy - INFO - Chain [1] start processing\n",
      "19:51:23 - cmdstanpy - INFO - Chain [1] done processing\n"
     ]
    },
    {
     "name": "stdout",
     "output_type": "stream",
     "text": [
      "2024-02-25 00:00:00\n"
     ]
    },
    {
     "name": "stderr",
     "output_type": "stream",
     "text": [
      "19:51:23 - cmdstanpy - INFO - Chain [1] start processing\n"
     ]
    },
    {
     "name": "stdout",
     "output_type": "stream",
     "text": [
      "2024-02-25 00:00:00\n"
     ]
    },
    {
     "name": "stderr",
     "output_type": "stream",
     "text": [
      "19:51:23 - cmdstanpy - INFO - Chain [1] done processing\n",
      "19:51:23 - cmdstanpy - INFO - Chain [1] start processing\n"
     ]
    },
    {
     "name": "stdout",
     "output_type": "stream",
     "text": [
      "2024-02-25 00:00:00\n"
     ]
    },
    {
     "name": "stderr",
     "output_type": "stream",
     "text": [
      "19:51:24 - cmdstanpy - INFO - Chain [1] done processing\n",
      "19:51:24 - cmdstanpy - INFO - Chain [1] start processing\n"
     ]
    },
    {
     "name": "stdout",
     "output_type": "stream",
     "text": [
      "2024-02-25 00:00:00\n"
     ]
    },
    {
     "name": "stderr",
     "output_type": "stream",
     "text": [
      "19:51:24 - cmdstanpy - INFO - Chain [1] done processing\n",
      "19:51:25 - cmdstanpy - INFO - Chain [1] start processing\n",
      "19:51:25 - cmdstanpy - INFO - Chain [1] done processing\n"
     ]
    },
    {
     "name": "stdout",
     "output_type": "stream",
     "text": [
      "2024-02-25 00:00:00\n"
     ]
    },
    {
     "name": "stderr",
     "output_type": "stream",
     "text": [
      "19:51:25 - cmdstanpy - INFO - Chain [1] start processing\n"
     ]
    },
    {
     "name": "stdout",
     "output_type": "stream",
     "text": [
      "2024-02-25 00:00:00\n"
     ]
    },
    {
     "name": "stderr",
     "output_type": "stream",
     "text": [
      "19:51:25 - cmdstanpy - INFO - Chain [1] done processing\n",
      "19:51:25 - cmdstanpy - INFO - Chain [1] start processing\n",
      "19:51:25 - cmdstanpy - INFO - Chain [1] done processing\n"
     ]
    },
    {
     "name": "stdout",
     "output_type": "stream",
     "text": [
      "2024-02-25 00:00:00\n"
     ]
    },
    {
     "name": "stderr",
     "output_type": "stream",
     "text": [
      "19:51:26 - cmdstanpy - INFO - Chain [1] start processing\n"
     ]
    },
    {
     "name": "stdout",
     "output_type": "stream",
     "text": [
      "2024-02-25 00:00:00\n"
     ]
    },
    {
     "name": "stderr",
     "output_type": "stream",
     "text": [
      "19:51:26 - cmdstanpy - INFO - Chain [1] done processing\n",
      "19:51:26 - cmdstanpy - INFO - Chain [1] start processing\n",
      "19:51:26 - cmdstanpy - INFO - Chain [1] done processing\n"
     ]
    },
    {
     "name": "stdout",
     "output_type": "stream",
     "text": [
      "2024-02-25 00:00:00\n"
     ]
    },
    {
     "name": "stderr",
     "output_type": "stream",
     "text": [
      "19:51:27 - cmdstanpy - INFO - Chain [1] start processing\n"
     ]
    },
    {
     "name": "stdout",
     "output_type": "stream",
     "text": [
      "2024-02-25 00:00:00\n"
     ]
    },
    {
     "name": "stderr",
     "output_type": "stream",
     "text": [
      "19:51:27 - cmdstanpy - INFO - Chain [1] done processing\n",
      "19:51:27 - cmdstanpy - INFO - Chain [1] start processing\n",
      "19:51:27 - cmdstanpy - INFO - Chain [1] done processing\n"
     ]
    },
    {
     "name": "stdout",
     "output_type": "stream",
     "text": [
      "2024-02-25 00:00:00\n"
     ]
    },
    {
     "name": "stderr",
     "output_type": "stream",
     "text": [
      "19:51:27 - cmdstanpy - INFO - Chain [1] start processing\n"
     ]
    },
    {
     "name": "stdout",
     "output_type": "stream",
     "text": [
      "2024-02-25 00:00:00\n"
     ]
    },
    {
     "name": "stderr",
     "output_type": "stream",
     "text": [
      "19:51:27 - cmdstanpy - INFO - Chain [1] done processing\n",
      "19:51:28 - cmdstanpy - INFO - Chain [1] start processing\n"
     ]
    },
    {
     "name": "stdout",
     "output_type": "stream",
     "text": [
      "2024-02-25 00:00:00\n"
     ]
    },
    {
     "name": "stderr",
     "output_type": "stream",
     "text": [
      "19:51:28 - cmdstanpy - INFO - Chain [1] done processing\n",
      "19:51:28 - cmdstanpy - INFO - Chain [1] start processing\n"
     ]
    },
    {
     "name": "stdout",
     "output_type": "stream",
     "text": [
      "2024-02-25 00:00:00\n"
     ]
    },
    {
     "name": "stderr",
     "output_type": "stream",
     "text": [
      "19:51:28 - cmdstanpy - INFO - Chain [1] done processing\n",
      "19:51:29 - cmdstanpy - INFO - Chain [1] start processing\n",
      "19:51:29 - cmdstanpy - INFO - Chain [1] done processing\n"
     ]
    },
    {
     "name": "stdout",
     "output_type": "stream",
     "text": [
      "2024-02-25 00:00:00\n"
     ]
    },
    {
     "name": "stderr",
     "output_type": "stream",
     "text": [
      "19:51:29 - cmdstanpy - INFO - Chain [1] start processing\n"
     ]
    },
    {
     "name": "stdout",
     "output_type": "stream",
     "text": [
      "2024-02-25 00:00:00\n"
     ]
    },
    {
     "name": "stderr",
     "output_type": "stream",
     "text": [
      "19:51:29 - cmdstanpy - INFO - Chain [1] done processing\n",
      "19:51:29 - cmdstanpy - INFO - Chain [1] start processing\n",
      "19:51:29 - cmdstanpy - INFO - Chain [1] done processing\n"
     ]
    },
    {
     "name": "stdout",
     "output_type": "stream",
     "text": [
      "2024-02-25 00:00:00\n"
     ]
    },
    {
     "name": "stderr",
     "output_type": "stream",
     "text": [
      "19:51:30 - cmdstanpy - INFO - Chain [1] start processing\n"
     ]
    },
    {
     "name": "stdout",
     "output_type": "stream",
     "text": [
      "2024-02-25 00:00:00\n"
     ]
    },
    {
     "name": "stderr",
     "output_type": "stream",
     "text": [
      "19:51:30 - cmdstanpy - INFO - Chain [1] done processing\n",
      "19:51:30 - cmdstanpy - INFO - Chain [1] start processing\n"
     ]
    },
    {
     "name": "stdout",
     "output_type": "stream",
     "text": [
      "2024-02-25 00:00:00\n"
     ]
    },
    {
     "name": "stderr",
     "output_type": "stream",
     "text": [
      "19:51:30 - cmdstanpy - INFO - Chain [1] done processing\n",
      "19:51:31 - cmdstanpy - INFO - Chain [1] start processing\n"
     ]
    },
    {
     "name": "stdout",
     "output_type": "stream",
     "text": [
      "2024-02-25 00:00:00\n"
     ]
    },
    {
     "name": "stderr",
     "output_type": "stream",
     "text": [
      "19:51:31 - cmdstanpy - INFO - Chain [1] done processing\n",
      "19:51:31 - cmdstanpy - INFO - Chain [1] start processing\n"
     ]
    },
    {
     "name": "stdout",
     "output_type": "stream",
     "text": [
      "2024-02-25 00:00:00\n"
     ]
    },
    {
     "name": "stderr",
     "output_type": "stream",
     "text": [
      "19:51:31 - cmdstanpy - INFO - Chain [1] done processing\n",
      "19:51:31 - cmdstanpy - INFO - Chain [1] start processing\n",
      "19:51:31 - cmdstanpy - INFO - Chain [1] done processing\n"
     ]
    },
    {
     "name": "stdout",
     "output_type": "stream",
     "text": [
      "2024-02-25 00:00:00\n"
     ]
    },
    {
     "name": "stderr",
     "output_type": "stream",
     "text": [
      "19:51:32 - cmdstanpy - INFO - Chain [1] start processing\n"
     ]
    },
    {
     "name": "stdout",
     "output_type": "stream",
     "text": [
      "2024-02-25 00:00:00\n"
     ]
    },
    {
     "name": "stderr",
     "output_type": "stream",
     "text": [
      "19:51:32 - cmdstanpy - INFO - Chain [1] done processing\n",
      "19:51:32 - cmdstanpy - INFO - Chain [1] start processing\n",
      "19:51:32 - cmdstanpy - INFO - Chain [1] done processing\n"
     ]
    },
    {
     "name": "stdout",
     "output_type": "stream",
     "text": [
      "2024-02-25 00:00:00\n"
     ]
    },
    {
     "name": "stderr",
     "output_type": "stream",
     "text": [
      "19:51:32 - cmdstanpy - INFO - Chain [1] start processing\n"
     ]
    },
    {
     "name": "stdout",
     "output_type": "stream",
     "text": [
      "2024-02-25 00:00:00\n"
     ]
    },
    {
     "name": "stderr",
     "output_type": "stream",
     "text": [
      "19:51:33 - cmdstanpy - INFO - Chain [1] done processing\n",
      "19:51:33 - cmdstanpy - INFO - Chain [1] start processing\n"
     ]
    },
    {
     "name": "stdout",
     "output_type": "stream",
     "text": [
      "2024-02-25 00:00:00\n"
     ]
    },
    {
     "name": "stderr",
     "output_type": "stream",
     "text": [
      "19:51:33 - cmdstanpy - INFO - Chain [1] done processing\n",
      "19:51:33 - cmdstanpy - INFO - Chain [1] start processing\n"
     ]
    },
    {
     "name": "stdout",
     "output_type": "stream",
     "text": [
      "2024-02-25 00:00:00\n"
     ]
    },
    {
     "name": "stderr",
     "output_type": "stream",
     "text": [
      "19:51:34 - cmdstanpy - INFO - Chain [1] done processing\n",
      "19:51:34 - cmdstanpy - INFO - Chain [1] start processing\n",
      "19:51:34 - cmdstanpy - INFO - Chain [1] done processing\n"
     ]
    },
    {
     "name": "stdout",
     "output_type": "stream",
     "text": [
      "2024-02-25 00:00:00\n"
     ]
    },
    {
     "name": "stderr",
     "output_type": "stream",
     "text": [
      "19:51:34 - cmdstanpy - INFO - Chain [1] start processing\n",
      "19:51:34 - cmdstanpy - INFO - Chain [1] done processing\n"
     ]
    },
    {
     "name": "stdout",
     "output_type": "stream",
     "text": [
      "2024-02-25 00:00:00\n"
     ]
    },
    {
     "name": "stderr",
     "output_type": "stream",
     "text": [
      "19:51:35 - cmdstanpy - INFO - Chain [1] start processing\n"
     ]
    },
    {
     "name": "stdout",
     "output_type": "stream",
     "text": [
      "2024-02-25 00:00:00\n"
     ]
    },
    {
     "name": "stderr",
     "output_type": "stream",
     "text": [
      "19:51:35 - cmdstanpy - INFO - Chain [1] done processing\n",
      "19:51:35 - cmdstanpy - INFO - Chain [1] start processing\n",
      "19:51:35 - cmdstanpy - INFO - Chain [1] done processing\n"
     ]
    },
    {
     "name": "stdout",
     "output_type": "stream",
     "text": [
      "2024-02-25 00:00:00\n"
     ]
    },
    {
     "name": "stderr",
     "output_type": "stream",
     "text": [
      "19:51:35 - cmdstanpy - INFO - Chain [1] start processing\n"
     ]
    },
    {
     "name": "stdout",
     "output_type": "stream",
     "text": [
      "2024-02-25 00:00:00\n"
     ]
    },
    {
     "name": "stderr",
     "output_type": "stream",
     "text": [
      "19:51:35 - cmdstanpy - INFO - Chain [1] done processing\n",
      "19:51:36 - cmdstanpy - INFO - Chain [1] start processing\n"
     ]
    },
    {
     "name": "stdout",
     "output_type": "stream",
     "text": [
      "2024-02-25 00:00:00\n"
     ]
    },
    {
     "name": "stderr",
     "output_type": "stream",
     "text": [
      "19:51:36 - cmdstanpy - INFO - Chain [1] done processing\n",
      "19:51:36 - cmdstanpy - INFO - Chain [1] start processing\n"
     ]
    },
    {
     "name": "stdout",
     "output_type": "stream",
     "text": [
      "2024-02-25 00:00:00\n"
     ]
    },
    {
     "name": "stderr",
     "output_type": "stream",
     "text": [
      "19:51:36 - cmdstanpy - INFO - Chain [1] done processing\n",
      "19:51:37 - cmdstanpy - INFO - Chain [1] start processing\n",
      "19:51:37 - cmdstanpy - INFO - Chain [1] done processing\n"
     ]
    },
    {
     "name": "stdout",
     "output_type": "stream",
     "text": [
      "2024-02-25 00:00:00\n"
     ]
    },
    {
     "name": "stderr",
     "output_type": "stream",
     "text": [
      "19:51:37 - cmdstanpy - INFO - Chain [1] start processing\n"
     ]
    },
    {
     "name": "stdout",
     "output_type": "stream",
     "text": [
      "2024-02-25 00:00:00\n"
     ]
    },
    {
     "name": "stderr",
     "output_type": "stream",
     "text": [
      "19:51:37 - cmdstanpy - INFO - Chain [1] done processing\n",
      "19:51:37 - cmdstanpy - INFO - Chain [1] start processing\n"
     ]
    },
    {
     "name": "stdout",
     "output_type": "stream",
     "text": [
      "2024-02-25 00:00:00\n"
     ]
    },
    {
     "name": "stderr",
     "output_type": "stream",
     "text": [
      "19:51:37 - cmdstanpy - INFO - Chain [1] done processing\n",
      "19:51:38 - cmdstanpy - INFO - Chain [1] start processing\n",
      "19:51:38 - cmdstanpy - INFO - Chain [1] done processing\n"
     ]
    },
    {
     "name": "stdout",
     "output_type": "stream",
     "text": [
      "2024-02-25 00:00:00\n"
     ]
    },
    {
     "name": "stderr",
     "output_type": "stream",
     "text": [
      "19:51:38 - cmdstanpy - INFO - Chain [1] start processing\n"
     ]
    },
    {
     "name": "stdout",
     "output_type": "stream",
     "text": [
      "2024-02-25 00:00:00\n"
     ]
    },
    {
     "name": "stderr",
     "output_type": "stream",
     "text": [
      "19:51:38 - cmdstanpy - INFO - Chain [1] done processing\n",
      "19:51:38 - cmdstanpy - INFO - Chain [1] start processing\n"
     ]
    },
    {
     "name": "stdout",
     "output_type": "stream",
     "text": [
      "2024-02-25 00:00:00\n"
     ]
    },
    {
     "name": "stderr",
     "output_type": "stream",
     "text": [
      "19:51:38 - cmdstanpy - INFO - Chain [1] done processing\n",
      "19:51:39 - cmdstanpy - INFO - Chain [1] start processing\n"
     ]
    },
    {
     "name": "stdout",
     "output_type": "stream",
     "text": [
      "2024-02-25 00:00:00\n"
     ]
    },
    {
     "name": "stderr",
     "output_type": "stream",
     "text": [
      "19:51:39 - cmdstanpy - INFO - Chain [1] done processing\n",
      "19:51:39 - cmdstanpy - INFO - Chain [1] start processing\n"
     ]
    },
    {
     "name": "stdout",
     "output_type": "stream",
     "text": [
      "2024-02-25 00:00:00\n"
     ]
    },
    {
     "name": "stderr",
     "output_type": "stream",
     "text": [
      "19:51:39 - cmdstanpy - INFO - Chain [1] done processing\n",
      "19:51:40 - cmdstanpy - INFO - Chain [1] start processing\n",
      "19:51:40 - cmdstanpy - INFO - Chain [1] done processing\n"
     ]
    },
    {
     "name": "stdout",
     "output_type": "stream",
     "text": [
      "2024-02-25 00:00:00\n"
     ]
    },
    {
     "name": "stderr",
     "output_type": "stream",
     "text": [
      "19:51:40 - cmdstanpy - INFO - Chain [1] start processing\n"
     ]
    },
    {
     "name": "stdout",
     "output_type": "stream",
     "text": [
      "2024-02-25 00:00:00\n"
     ]
    },
    {
     "name": "stderr",
     "output_type": "stream",
     "text": [
      "19:51:40 - cmdstanpy - INFO - Chain [1] done processing\n",
      "19:51:40 - cmdstanpy - INFO - Chain [1] start processing\n"
     ]
    },
    {
     "name": "stdout",
     "output_type": "stream",
     "text": [
      "2024-02-25 00:00:00\n"
     ]
    },
    {
     "name": "stderr",
     "output_type": "stream",
     "text": [
      "19:51:40 - cmdstanpy - INFO - Chain [1] done processing\n",
      "19:51:41 - cmdstanpy - INFO - Chain [1] start processing\n",
      "19:51:41 - cmdstanpy - INFO - Chain [1] done processing\n"
     ]
    },
    {
     "name": "stdout",
     "output_type": "stream",
     "text": [
      "2024-02-25 00:00:00\n"
     ]
    },
    {
     "name": "stderr",
     "output_type": "stream",
     "text": [
      "19:51:41 - cmdstanpy - INFO - Chain [1] start processing\n"
     ]
    },
    {
     "name": "stdout",
     "output_type": "stream",
     "text": [
      "2024-02-25 00:00:00\n"
     ]
    },
    {
     "name": "stderr",
     "output_type": "stream",
     "text": [
      "19:51:41 - cmdstanpy - INFO - Chain [1] done processing\n",
      "19:51:42 - cmdstanpy - INFO - Chain [1] start processing\n",
      "19:51:42 - cmdstanpy - INFO - Chain [1] done processing\n"
     ]
    },
    {
     "name": "stdout",
     "output_type": "stream",
     "text": [
      "2024-02-25 00:00:00\n"
     ]
    },
    {
     "name": "stderr",
     "output_type": "stream",
     "text": [
      "19:51:42 - cmdstanpy - INFO - Chain [1] start processing\n"
     ]
    },
    {
     "name": "stdout",
     "output_type": "stream",
     "text": [
      "2024-02-25 00:00:00\n"
     ]
    },
    {
     "name": "stderr",
     "output_type": "stream",
     "text": [
      "19:51:42 - cmdstanpy - INFO - Chain [1] done processing\n",
      "19:51:42 - cmdstanpy - INFO - Chain [1] start processing\n",
      "19:51:42 - cmdstanpy - INFO - Chain [1] done processing\n"
     ]
    },
    {
     "name": "stdout",
     "output_type": "stream",
     "text": [
      "2024-02-25 00:00:00\n"
     ]
    },
    {
     "name": "stderr",
     "output_type": "stream",
     "text": [
      "19:51:43 - cmdstanpy - INFO - Chain [1] start processing\n"
     ]
    },
    {
     "name": "stdout",
     "output_type": "stream",
     "text": [
      "2024-02-25 00:00:00\n"
     ]
    },
    {
     "name": "stderr",
     "output_type": "stream",
     "text": [
      "19:51:43 - cmdstanpy - INFO - Chain [1] done processing\n",
      "19:51:43 - cmdstanpy - INFO - Chain [1] start processing\n"
     ]
    },
    {
     "name": "stdout",
     "output_type": "stream",
     "text": [
      "2024-02-25 00:00:00\n"
     ]
    },
    {
     "name": "stderr",
     "output_type": "stream",
     "text": [
      "19:51:43 - cmdstanpy - INFO - Chain [1] done processing\n",
      "19:51:44 - cmdstanpy - INFO - Chain [1] start processing\n",
      "19:51:44 - cmdstanpy - INFO - Chain [1] done processing\n"
     ]
    },
    {
     "name": "stdout",
     "output_type": "stream",
     "text": [
      "2024-02-25 00:00:00\n"
     ]
    },
    {
     "name": "stderr",
     "output_type": "stream",
     "text": [
      "19:51:44 - cmdstanpy - INFO - Chain [1] start processing\n"
     ]
    },
    {
     "name": "stdout",
     "output_type": "stream",
     "text": [
      "2024-02-25 00:00:00\n"
     ]
    },
    {
     "name": "stderr",
     "output_type": "stream",
     "text": [
      "19:51:44 - cmdstanpy - INFO - Chain [1] done processing\n",
      "19:51:45 - cmdstanpy - INFO - Chain [1] start processing\n"
     ]
    },
    {
     "name": "stdout",
     "output_type": "stream",
     "text": [
      "2024-02-25 00:00:00\n"
     ]
    },
    {
     "name": "stderr",
     "output_type": "stream",
     "text": [
      "19:51:45 - cmdstanpy - INFO - Chain [1] done processing\n",
      "19:51:45 - cmdstanpy - INFO - Chain [1] start processing\n"
     ]
    },
    {
     "name": "stdout",
     "output_type": "stream",
     "text": [
      "2024-02-25 00:00:00\n"
     ]
    },
    {
     "name": "stderr",
     "output_type": "stream",
     "text": [
      "19:51:45 - cmdstanpy - INFO - Chain [1] done processing\n",
      "19:51:45 - cmdstanpy - INFO - Chain [1] start processing\n"
     ]
    },
    {
     "name": "stdout",
     "output_type": "stream",
     "text": [
      "2024-02-25 00:00:00\n"
     ]
    },
    {
     "name": "stderr",
     "output_type": "stream",
     "text": [
      "19:51:45 - cmdstanpy - INFO - Chain [1] done processing\n",
      "19:51:46 - cmdstanpy - INFO - Chain [1] start processing\n",
      "19:51:46 - cmdstanpy - INFO - Chain [1] done processing\n"
     ]
    },
    {
     "name": "stdout",
     "output_type": "stream",
     "text": [
      "2024-02-25 00:00:00\n"
     ]
    },
    {
     "name": "stderr",
     "output_type": "stream",
     "text": [
      "19:51:46 - cmdstanpy - INFO - Chain [1] start processing\n"
     ]
    },
    {
     "name": "stdout",
     "output_type": "stream",
     "text": [
      "2024-02-25 00:00:00\n"
     ]
    },
    {
     "name": "stderr",
     "output_type": "stream",
     "text": [
      "19:51:46 - cmdstanpy - INFO - Chain [1] done processing\n",
      "19:51:47 - cmdstanpy - INFO - Chain [1] start processing\n"
     ]
    },
    {
     "name": "stdout",
     "output_type": "stream",
     "text": [
      "2024-02-25 00:00:00\n"
     ]
    },
    {
     "name": "stderr",
     "output_type": "stream",
     "text": [
      "19:51:47 - cmdstanpy - INFO - Chain [1] done processing\n",
      "19:51:47 - cmdstanpy - INFO - Chain [1] start processing\n"
     ]
    },
    {
     "name": "stdout",
     "output_type": "stream",
     "text": [
      "2024-02-25 00:00:00\n"
     ]
    },
    {
     "name": "stderr",
     "output_type": "stream",
     "text": [
      "19:51:47 - cmdstanpy - INFO - Chain [1] done processing\n",
      "19:51:47 - cmdstanpy - INFO - Chain [1] start processing\n",
      "19:51:47 - cmdstanpy - INFO - Chain [1] done processing\n"
     ]
    },
    {
     "name": "stdout",
     "output_type": "stream",
     "text": [
      "2024-02-25 00:00:00\n"
     ]
    },
    {
     "name": "stderr",
     "output_type": "stream",
     "text": [
      "19:51:48 - cmdstanpy - INFO - Chain [1] start processing\n"
     ]
    },
    {
     "name": "stdout",
     "output_type": "stream",
     "text": [
      "2024-02-25 00:00:00\n"
     ]
    },
    {
     "name": "stderr",
     "output_type": "stream",
     "text": [
      "19:51:48 - cmdstanpy - INFO - Chain [1] done processing\n",
      "19:51:48 - cmdstanpy - INFO - Chain [1] start processing\n",
      "19:51:48 - cmdstanpy - INFO - Chain [1] done processing\n"
     ]
    },
    {
     "name": "stdout",
     "output_type": "stream",
     "text": [
      "2024-02-25 00:00:00\n"
     ]
    },
    {
     "name": "stderr",
     "output_type": "stream",
     "text": [
      "19:51:49 - cmdstanpy - INFO - Chain [1] start processing\n"
     ]
    },
    {
     "name": "stdout",
     "output_type": "stream",
     "text": [
      "2024-02-25 00:00:00\n"
     ]
    },
    {
     "name": "stderr",
     "output_type": "stream",
     "text": [
      "19:51:49 - cmdstanpy - INFO - Chain [1] done processing\n",
      "19:51:49 - cmdstanpy - INFO - Chain [1] start processing\n",
      "19:51:49 - cmdstanpy - INFO - Chain [1] done processing\n"
     ]
    },
    {
     "name": "stdout",
     "output_type": "stream",
     "text": [
      "2024-02-25 00:00:00\n"
     ]
    },
    {
     "name": "stderr",
     "output_type": "stream",
     "text": [
      "19:51:49 - cmdstanpy - INFO - Chain [1] start processing\n"
     ]
    },
    {
     "name": "stdout",
     "output_type": "stream",
     "text": [
      "2024-02-25 00:00:00\n"
     ]
    },
    {
     "name": "stderr",
     "output_type": "stream",
     "text": [
      "19:51:50 - cmdstanpy - INFO - Chain [1] done processing\n",
      "19:51:50 - cmdstanpy - INFO - Chain [1] start processing\n",
      "19:51:50 - cmdstanpy - INFO - Chain [1] done processing\n"
     ]
    },
    {
     "name": "stdout",
     "output_type": "stream",
     "text": [
      "2024-02-25 00:00:00\n"
     ]
    },
    {
     "name": "stderr",
     "output_type": "stream",
     "text": [
      "19:51:50 - cmdstanpy - INFO - Chain [1] start processing\n"
     ]
    },
    {
     "name": "stdout",
     "output_type": "stream",
     "text": [
      "2024-02-25 00:00:00\n"
     ]
    },
    {
     "name": "stderr",
     "output_type": "stream",
     "text": [
      "19:51:50 - cmdstanpy - INFO - Chain [1] done processing\n",
      "19:51:51 - cmdstanpy - INFO - Chain [1] start processing\n",
      "19:51:51 - cmdstanpy - INFO - Chain [1] done processing\n"
     ]
    },
    {
     "name": "stdout",
     "output_type": "stream",
     "text": [
      "2024-02-25 00:00:00\n"
     ]
    },
    {
     "name": "stderr",
     "output_type": "stream",
     "text": [
      "19:51:51 - cmdstanpy - INFO - Chain [1] start processing\n"
     ]
    },
    {
     "name": "stdout",
     "output_type": "stream",
     "text": [
      "2024-02-25 00:00:00\n"
     ]
    },
    {
     "name": "stderr",
     "output_type": "stream",
     "text": [
      "19:51:51 - cmdstanpy - INFO - Chain [1] done processing\n",
      "19:51:52 - cmdstanpy - INFO - Chain [1] start processing\n"
     ]
    },
    {
     "name": "stdout",
     "output_type": "stream",
     "text": [
      "2024-02-25 00:00:00\n"
     ]
    },
    {
     "name": "stderr",
     "output_type": "stream",
     "text": [
      "19:51:52 - cmdstanpy - INFO - Chain [1] done processing\n",
      "19:51:52 - cmdstanpy - INFO - Chain [1] start processing\n",
      "19:51:52 - cmdstanpy - INFO - Chain [1] done processing\n"
     ]
    },
    {
     "name": "stdout",
     "output_type": "stream",
     "text": [
      "2024-02-25 00:00:00\n"
     ]
    },
    {
     "name": "stderr",
     "output_type": "stream",
     "text": [
      "19:51:52 - cmdstanpy - INFO - Chain [1] start processing\n"
     ]
    },
    {
     "name": "stdout",
     "output_type": "stream",
     "text": [
      "2024-02-25 00:00:00\n"
     ]
    },
    {
     "name": "stderr",
     "output_type": "stream",
     "text": [
      "19:51:52 - cmdstanpy - INFO - Chain [1] done processing\n",
      "19:51:53 - cmdstanpy - INFO - Chain [1] start processing\n",
      "19:51:53 - cmdstanpy - INFO - Chain [1] done processing\n"
     ]
    },
    {
     "name": "stdout",
     "output_type": "stream",
     "text": [
      "2024-02-25 00:00:00\n"
     ]
    },
    {
     "name": "stderr",
     "output_type": "stream",
     "text": [
      "19:51:53 - cmdstanpy - INFO - Chain [1] start processing\n"
     ]
    },
    {
     "name": "stdout",
     "output_type": "stream",
     "text": [
      "2024-02-25 00:00:00\n"
     ]
    },
    {
     "name": "stderr",
     "output_type": "stream",
     "text": [
      "19:51:53 - cmdstanpy - INFO - Chain [1] done processing\n",
      "19:51:54 - cmdstanpy - INFO - Chain [1] start processing\n",
      "19:51:54 - cmdstanpy - INFO - Chain [1] done processing\n"
     ]
    },
    {
     "name": "stdout",
     "output_type": "stream",
     "text": [
      "2024-02-25 00:00:00\n"
     ]
    },
    {
     "name": "stderr",
     "output_type": "stream",
     "text": [
      "19:51:54 - cmdstanpy - INFO - Chain [1] start processing\n"
     ]
    },
    {
     "name": "stdout",
     "output_type": "stream",
     "text": [
      "2024-02-25 00:00:00\n"
     ]
    },
    {
     "name": "stderr",
     "output_type": "stream",
     "text": [
      "19:51:54 - cmdstanpy - INFO - Chain [1] done processing\n",
      "19:51:54 - cmdstanpy - INFO - Chain [1] start processing\n"
     ]
    },
    {
     "name": "stdout",
     "output_type": "stream",
     "text": [
      "2024-02-25 00:00:00\n"
     ]
    },
    {
     "name": "stderr",
     "output_type": "stream",
     "text": [
      "19:51:54 - cmdstanpy - INFO - Chain [1] done processing\n",
      "19:51:55 - cmdstanpy - INFO - Chain [1] start processing\n",
      "19:51:55 - cmdstanpy - INFO - Chain [1] done processing\n"
     ]
    },
    {
     "name": "stdout",
     "output_type": "stream",
     "text": [
      "2024-02-25 00:00:00\n"
     ]
    },
    {
     "name": "stderr",
     "output_type": "stream",
     "text": [
      "19:51:55 - cmdstanpy - INFO - Chain [1] start processing\n"
     ]
    },
    {
     "name": "stdout",
     "output_type": "stream",
     "text": [
      "2024-02-25 00:00:00\n"
     ]
    },
    {
     "name": "stderr",
     "output_type": "stream",
     "text": [
      "19:51:55 - cmdstanpy - INFO - Chain [1] done processing\n",
      "19:51:56 - cmdstanpy - INFO - Chain [1] start processing\n"
     ]
    },
    {
     "name": "stdout",
     "output_type": "stream",
     "text": [
      "2024-02-25 00:00:00\n"
     ]
    },
    {
     "name": "stderr",
     "output_type": "stream",
     "text": [
      "19:51:56 - cmdstanpy - INFO - Chain [1] done processing\n",
      "19:51:56 - cmdstanpy - INFO - Chain [1] start processing\n",
      "19:51:56 - cmdstanpy - INFO - Chain [1] done processing\n"
     ]
    },
    {
     "name": "stdout",
     "output_type": "stream",
     "text": [
      "2024-02-25 00:00:00\n"
     ]
    },
    {
     "name": "stderr",
     "output_type": "stream",
     "text": [
      "19:51:56 - cmdstanpy - INFO - Chain [1] start processing\n"
     ]
    },
    {
     "name": "stdout",
     "output_type": "stream",
     "text": [
      "2024-02-25 00:00:00\n"
     ]
    },
    {
     "name": "stderr",
     "output_type": "stream",
     "text": [
      "19:51:56 - cmdstanpy - INFO - Chain [1] done processing\n",
      "19:51:57 - cmdstanpy - INFO - Chain [1] start processing\n",
      "19:51:57 - cmdstanpy - INFO - Chain [1] done processing\n"
     ]
    },
    {
     "name": "stdout",
     "output_type": "stream",
     "text": [
      "2024-02-25 00:00:00\n"
     ]
    },
    {
     "name": "stderr",
     "output_type": "stream",
     "text": [
      "19:51:57 - cmdstanpy - INFO - Chain [1] start processing\n"
     ]
    },
    {
     "name": "stdout",
     "output_type": "stream",
     "text": [
      "2024-02-25 00:00:00\n"
     ]
    },
    {
     "name": "stderr",
     "output_type": "stream",
     "text": [
      "19:51:57 - cmdstanpy - INFO - Chain [1] done processing\n",
      "19:51:58 - cmdstanpy - INFO - Chain [1] start processing\n"
     ]
    },
    {
     "name": "stdout",
     "output_type": "stream",
     "text": [
      "2024-02-25 00:00:00\n"
     ]
    },
    {
     "name": "stderr",
     "output_type": "stream",
     "text": [
      "19:51:58 - cmdstanpy - INFO - Chain [1] done processing\n",
      "19:51:58 - cmdstanpy - INFO - Chain [1] start processing\n"
     ]
    },
    {
     "name": "stdout",
     "output_type": "stream",
     "text": [
      "2024-02-25 00:00:00\n"
     ]
    },
    {
     "name": "stderr",
     "output_type": "stream",
     "text": [
      "19:51:58 - cmdstanpy - INFO - Chain [1] done processing\n",
      "19:51:59 - cmdstanpy - INFO - Chain [1] start processing\n"
     ]
    },
    {
     "name": "stdout",
     "output_type": "stream",
     "text": [
      "2024-02-25 00:00:00\n"
     ]
    },
    {
     "name": "stderr",
     "output_type": "stream",
     "text": [
      "19:51:59 - cmdstanpy - INFO - Chain [1] done processing\n",
      "19:51:59 - cmdstanpy - INFO - Chain [1] start processing\n"
     ]
    },
    {
     "name": "stdout",
     "output_type": "stream",
     "text": [
      "2024-02-25 00:00:00\n"
     ]
    },
    {
     "name": "stderr",
     "output_type": "stream",
     "text": [
      "19:51:59 - cmdstanpy - INFO - Chain [1] done processing\n",
      "19:51:59 - cmdstanpy - INFO - Chain [1] start processing\n"
     ]
    },
    {
     "name": "stdout",
     "output_type": "stream",
     "text": [
      "2024-02-25 00:00:00\n"
     ]
    },
    {
     "name": "stderr",
     "output_type": "stream",
     "text": [
      "19:51:59 - cmdstanpy - INFO - Chain [1] done processing\n",
      "19:52:00 - cmdstanpy - INFO - Chain [1] start processing\n"
     ]
    },
    {
     "name": "stdout",
     "output_type": "stream",
     "text": [
      "2024-02-25 00:00:00\n"
     ]
    },
    {
     "name": "stderr",
     "output_type": "stream",
     "text": [
      "19:52:00 - cmdstanpy - INFO - Chain [1] done processing\n",
      "19:52:00 - cmdstanpy - INFO - Chain [1] start processing\n"
     ]
    },
    {
     "name": "stdout",
     "output_type": "stream",
     "text": [
      "2024-02-25 00:00:00\n"
     ]
    },
    {
     "name": "stderr",
     "output_type": "stream",
     "text": [
      "19:52:00 - cmdstanpy - INFO - Chain [1] done processing\n",
      "19:52:01 - cmdstanpy - INFO - Chain [1] start processing\n"
     ]
    },
    {
     "name": "stdout",
     "output_type": "stream",
     "text": [
      "2024-02-25 00:00:00\n"
     ]
    },
    {
     "name": "stderr",
     "output_type": "stream",
     "text": [
      "19:52:01 - cmdstanpy - INFO - Chain [1] done processing\n",
      "19:52:01 - cmdstanpy - INFO - Chain [1] start processing\n"
     ]
    },
    {
     "name": "stdout",
     "output_type": "stream",
     "text": [
      "2024-02-25 00:00:00\n"
     ]
    },
    {
     "name": "stderr",
     "output_type": "stream",
     "text": [
      "19:52:01 - cmdstanpy - INFO - Chain [1] done processing\n",
      "19:52:02 - cmdstanpy - INFO - Chain [1] start processing\n"
     ]
    },
    {
     "name": "stdout",
     "output_type": "stream",
     "text": [
      "2024-02-25 00:00:00\n"
     ]
    },
    {
     "name": "stderr",
     "output_type": "stream",
     "text": [
      "19:52:02 - cmdstanpy - INFO - Chain [1] done processing\n",
      "19:52:02 - cmdstanpy - INFO - Chain [1] start processing\n"
     ]
    },
    {
     "name": "stdout",
     "output_type": "stream",
     "text": [
      "2024-02-25 00:00:00\n"
     ]
    },
    {
     "name": "stderr",
     "output_type": "stream",
     "text": [
      "19:52:02 - cmdstanpy - INFO - Chain [1] done processing\n",
      "19:52:03 - cmdstanpy - INFO - Chain [1] start processing\n"
     ]
    },
    {
     "name": "stdout",
     "output_type": "stream",
     "text": [
      "2024-02-25 00:00:00\n"
     ]
    },
    {
     "name": "stderr",
     "output_type": "stream",
     "text": [
      "19:52:03 - cmdstanpy - INFO - Chain [1] done processing\n",
      "19:52:03 - cmdstanpy - INFO - Chain [1] start processing\n"
     ]
    },
    {
     "name": "stdout",
     "output_type": "stream",
     "text": [
      "2024-02-25 00:00:00\n"
     ]
    },
    {
     "name": "stderr",
     "output_type": "stream",
     "text": [
      "19:52:04 - cmdstanpy - INFO - Chain [1] done processing\n",
      "19:52:04 - cmdstanpy - INFO - Chain [1] start processing\n"
     ]
    },
    {
     "name": "stdout",
     "output_type": "stream",
     "text": [
      "2024-02-25 00:00:00\n"
     ]
    },
    {
     "name": "stderr",
     "output_type": "stream",
     "text": [
      "19:52:04 - cmdstanpy - INFO - Chain [1] done processing\n",
      "19:52:04 - cmdstanpy - INFO - Chain [1] start processing\n"
     ]
    },
    {
     "name": "stdout",
     "output_type": "stream",
     "text": [
      "2024-02-25 00:00:00\n"
     ]
    },
    {
     "name": "stderr",
     "output_type": "stream",
     "text": [
      "19:52:05 - cmdstanpy - INFO - Chain [1] done processing\n",
      "19:52:05 - cmdstanpy - INFO - Chain [1] start processing\n"
     ]
    },
    {
     "name": "stdout",
     "output_type": "stream",
     "text": [
      "2024-02-25 00:00:00\n"
     ]
    },
    {
     "name": "stderr",
     "output_type": "stream",
     "text": [
      "19:52:05 - cmdstanpy - INFO - Chain [1] done processing\n",
      "19:52:05 - cmdstanpy - INFO - Chain [1] start processing\n"
     ]
    },
    {
     "name": "stdout",
     "output_type": "stream",
     "text": [
      "2024-02-25 00:00:00\n"
     ]
    },
    {
     "name": "stderr",
     "output_type": "stream",
     "text": [
      "19:52:06 - cmdstanpy - INFO - Chain [1] done processing\n",
      "19:52:06 - cmdstanpy - INFO - Chain [1] start processing\n",
      "19:52:06 - cmdstanpy - INFO - Chain [1] done processing\n"
     ]
    },
    {
     "name": "stdout",
     "output_type": "stream",
     "text": [
      "2024-02-25 00:00:00\n"
     ]
    },
    {
     "name": "stderr",
     "output_type": "stream",
     "text": [
      "19:52:06 - cmdstanpy - INFO - Chain [1] start processing\n"
     ]
    },
    {
     "name": "stdout",
     "output_type": "stream",
     "text": [
      "2024-02-25 00:00:00\n"
     ]
    },
    {
     "name": "stderr",
     "output_type": "stream",
     "text": [
      "19:52:07 - cmdstanpy - INFO - Chain [1] done processing\n",
      "19:52:07 - cmdstanpy - INFO - Chain [1] start processing\n"
     ]
    },
    {
     "name": "stdout",
     "output_type": "stream",
     "text": [
      "2024-02-25 00:00:00\n"
     ]
    },
    {
     "name": "stderr",
     "output_type": "stream",
     "text": [
      "19:52:07 - cmdstanpy - INFO - Chain [1] done processing\n",
      "19:52:07 - cmdstanpy - INFO - Chain [1] start processing\n"
     ]
    },
    {
     "name": "stdout",
     "output_type": "stream",
     "text": [
      "2024-02-25 00:00:00\n"
     ]
    },
    {
     "name": "stderr",
     "output_type": "stream",
     "text": [
      "19:52:08 - cmdstanpy - INFO - Chain [1] done processing\n",
      "19:52:08 - cmdstanpy - INFO - Chain [1] start processing\n"
     ]
    },
    {
     "name": "stdout",
     "output_type": "stream",
     "text": [
      "2024-02-25 00:00:00\n"
     ]
    },
    {
     "name": "stderr",
     "output_type": "stream",
     "text": [
      "19:52:08 - cmdstanpy - INFO - Chain [1] done processing\n",
      "19:52:08 - cmdstanpy - INFO - Chain [1] start processing\n"
     ]
    },
    {
     "name": "stdout",
     "output_type": "stream",
     "text": [
      "2024-02-25 00:00:00\n"
     ]
    },
    {
     "name": "stderr",
     "output_type": "stream",
     "text": [
      "19:52:08 - cmdstanpy - INFO - Chain [1] done processing\n",
      "19:52:09 - cmdstanpy - INFO - Chain [1] start processing\n",
      "19:52:09 - cmdstanpy - INFO - Chain [1] done processing\n"
     ]
    },
    {
     "name": "stdout",
     "output_type": "stream",
     "text": [
      "2024-02-25 00:00:00\n"
     ]
    },
    {
     "name": "stderr",
     "output_type": "stream",
     "text": [
      "19:52:09 - cmdstanpy - INFO - Chain [1] start processing\n"
     ]
    },
    {
     "name": "stdout",
     "output_type": "stream",
     "text": [
      "2024-02-25 00:00:00\n"
     ]
    },
    {
     "name": "stderr",
     "output_type": "stream",
     "text": [
      "19:52:09 - cmdstanpy - INFO - Chain [1] done processing\n",
      "19:52:10 - cmdstanpy - INFO - Chain [1] start processing\n"
     ]
    },
    {
     "name": "stdout",
     "output_type": "stream",
     "text": [
      "2024-02-25 00:00:00\n"
     ]
    },
    {
     "name": "stderr",
     "output_type": "stream",
     "text": [
      "19:52:10 - cmdstanpy - INFO - Chain [1] done processing\n",
      "19:52:10 - cmdstanpy - INFO - Chain [1] start processing\n"
     ]
    },
    {
     "name": "stdout",
     "output_type": "stream",
     "text": [
      "2024-02-25 00:00:00\n"
     ]
    },
    {
     "name": "stderr",
     "output_type": "stream",
     "text": [
      "19:52:11 - cmdstanpy - INFO - Chain [1] done processing\n",
      "19:52:11 - cmdstanpy - INFO - Chain [1] start processing\n"
     ]
    },
    {
     "name": "stdout",
     "output_type": "stream",
     "text": [
      "2024-02-25 00:00:00\n"
     ]
    },
    {
     "name": "stderr",
     "output_type": "stream",
     "text": [
      "19:52:11 - cmdstanpy - INFO - Chain [1] done processing\n",
      "19:52:11 - cmdstanpy - INFO - Chain [1] start processing\n"
     ]
    },
    {
     "name": "stdout",
     "output_type": "stream",
     "text": [
      "2024-02-25 00:00:00\n"
     ]
    },
    {
     "name": "stderr",
     "output_type": "stream",
     "text": [
      "19:52:11 - cmdstanpy - INFO - Chain [1] done processing\n",
      "19:52:12 - cmdstanpy - INFO - Chain [1] start processing\n"
     ]
    },
    {
     "name": "stdout",
     "output_type": "stream",
     "text": [
      "2024-02-25 00:00:00\n"
     ]
    },
    {
     "name": "stderr",
     "output_type": "stream",
     "text": [
      "19:52:12 - cmdstanpy - INFO - Chain [1] done processing\n",
      "19:52:13 - cmdstanpy - INFO - Chain [1] start processing\n"
     ]
    },
    {
     "name": "stdout",
     "output_type": "stream",
     "text": [
      "2024-02-25 00:00:00\n"
     ]
    },
    {
     "name": "stderr",
     "output_type": "stream",
     "text": [
      "19:52:13 - cmdstanpy - INFO - Chain [1] done processing\n"
     ]
    },
    {
     "name": "stdout",
     "output_type": "stream",
     "text": [
      "2024-02-25 00:00:00\n"
     ]
    },
    {
     "name": "stderr",
     "output_type": "stream",
     "text": [
      "19:52:13 - cmdstanpy - INFO - Chain [1] start processing\n",
      "19:52:13 - cmdstanpy - INFO - Chain [1] done processing\n",
      "19:52:14 - cmdstanpy - INFO - Chain [1] start processing\n"
     ]
    },
    {
     "name": "stdout",
     "output_type": "stream",
     "text": [
      "2024-02-25 00:00:00\n"
     ]
    },
    {
     "name": "stderr",
     "output_type": "stream",
     "text": [
      "19:52:14 - cmdstanpy - INFO - Chain [1] done processing\n",
      "19:52:14 - cmdstanpy - INFO - Chain [1] start processing\n"
     ]
    },
    {
     "name": "stdout",
     "output_type": "stream",
     "text": [
      "2024-02-25 00:00:00\n"
     ]
    },
    {
     "name": "stderr",
     "output_type": "stream",
     "text": [
      "19:52:15 - cmdstanpy - INFO - Chain [1] done processing\n",
      "19:52:15 - cmdstanpy - INFO - Chain [1] start processing\n"
     ]
    },
    {
     "name": "stdout",
     "output_type": "stream",
     "text": [
      "2024-02-25 00:00:00\n"
     ]
    },
    {
     "name": "stderr",
     "output_type": "stream",
     "text": [
      "19:52:15 - cmdstanpy - INFO - Chain [1] done processing\n",
      "19:52:15 - cmdstanpy - INFO - Chain [1] start processing\n",
      "19:52:15 - cmdstanpy - INFO - Chain [1] done processing\n"
     ]
    },
    {
     "name": "stdout",
     "output_type": "stream",
     "text": [
      "2024-02-25 00:00:00\n"
     ]
    },
    {
     "name": "stderr",
     "output_type": "stream",
     "text": [
      "19:52:16 - cmdstanpy - INFO - Chain [1] start processing\n"
     ]
    },
    {
     "name": "stdout",
     "output_type": "stream",
     "text": [
      "2024-02-25 00:00:00\n"
     ]
    },
    {
     "name": "stderr",
     "output_type": "stream",
     "text": [
      "19:52:16 - cmdstanpy - INFO - Chain [1] done processing\n",
      "19:52:16 - cmdstanpy - INFO - Chain [1] start processing\n"
     ]
    },
    {
     "name": "stdout",
     "output_type": "stream",
     "text": [
      "2024-02-25 00:00:00\n"
     ]
    },
    {
     "name": "stderr",
     "output_type": "stream",
     "text": [
      "19:52:16 - cmdstanpy - INFO - Chain [1] done processing\n",
      "19:52:17 - cmdstanpy - INFO - Chain [1] start processing\n"
     ]
    },
    {
     "name": "stdout",
     "output_type": "stream",
     "text": [
      "2024-02-25 00:00:00\n"
     ]
    },
    {
     "name": "stderr",
     "output_type": "stream",
     "text": [
      "19:52:17 - cmdstanpy - INFO - Chain [1] done processing\n",
      "19:52:17 - cmdstanpy - INFO - Chain [1] start processing\n"
     ]
    },
    {
     "name": "stdout",
     "output_type": "stream",
     "text": [
      "2024-02-25 00:00:00\n"
     ]
    },
    {
     "name": "stderr",
     "output_type": "stream",
     "text": [
      "19:52:17 - cmdstanpy - INFO - Chain [1] done processing\n",
      "19:52:18 - cmdstanpy - INFO - Chain [1] start processing\n"
     ]
    },
    {
     "name": "stdout",
     "output_type": "stream",
     "text": [
      "2024-02-25 00:00:00\n"
     ]
    },
    {
     "name": "stderr",
     "output_type": "stream",
     "text": [
      "19:52:18 - cmdstanpy - INFO - Chain [1] done processing\n",
      "19:52:18 - cmdstanpy - INFO - Chain [1] start processing\n",
      "19:52:18 - cmdstanpy - INFO - Chain [1] done processing\n"
     ]
    },
    {
     "name": "stdout",
     "output_type": "stream",
     "text": [
      "2024-02-25 00:00:00\n"
     ]
    },
    {
     "name": "stderr",
     "output_type": "stream",
     "text": [
      "19:52:19 - cmdstanpy - INFO - Chain [1] start processing\n"
     ]
    },
    {
     "name": "stdout",
     "output_type": "stream",
     "text": [
      "2024-02-25 00:00:00\n"
     ]
    },
    {
     "name": "stderr",
     "output_type": "stream",
     "text": [
      "19:52:19 - cmdstanpy - INFO - Chain [1] done processing\n",
      "19:52:19 - cmdstanpy - INFO - Chain [1] start processing\n"
     ]
    },
    {
     "name": "stdout",
     "output_type": "stream",
     "text": [
      "2024-02-25 00:00:00\n"
     ]
    },
    {
     "name": "stderr",
     "output_type": "stream",
     "text": [
      "19:52:19 - cmdstanpy - INFO - Chain [1] done processing\n",
      "19:52:20 - cmdstanpy - INFO - Chain [1] start processing\n"
     ]
    },
    {
     "name": "stdout",
     "output_type": "stream",
     "text": [
      "2024-02-25 00:00:00\n"
     ]
    },
    {
     "name": "stderr",
     "output_type": "stream",
     "text": [
      "19:52:20 - cmdstanpy - INFO - Chain [1] done processing\n",
      "19:52:20 - cmdstanpy - INFO - Chain [1] start processing\n"
     ]
    },
    {
     "name": "stdout",
     "output_type": "stream",
     "text": [
      "2024-02-25 00:00:00\n"
     ]
    },
    {
     "name": "stderr",
     "output_type": "stream",
     "text": [
      "19:52:20 - cmdstanpy - INFO - Chain [1] done processing\n",
      "19:52:20 - cmdstanpy - INFO - Chain [1] start processing\n",
      "19:52:20 - cmdstanpy - INFO - Chain [1] done processing\n"
     ]
    },
    {
     "name": "stdout",
     "output_type": "stream",
     "text": [
      "2024-02-25 00:00:00\n"
     ]
    },
    {
     "name": "stderr",
     "output_type": "stream",
     "text": [
      "19:52:21 - cmdstanpy - INFO - Chain [1] start processing\n"
     ]
    },
    {
     "name": "stdout",
     "output_type": "stream",
     "text": [
      "2024-02-25 00:00:00\n"
     ]
    },
    {
     "name": "stderr",
     "output_type": "stream",
     "text": [
      "19:52:21 - cmdstanpy - INFO - Chain [1] done processing\n",
      "19:52:21 - cmdstanpy - INFO - Chain [1] start processing\n"
     ]
    },
    {
     "name": "stdout",
     "output_type": "stream",
     "text": [
      "2024-02-25 00:00:00\n"
     ]
    },
    {
     "name": "stderr",
     "output_type": "stream",
     "text": [
      "19:52:22 - cmdstanpy - INFO - Chain [1] done processing\n",
      "19:52:22 - cmdstanpy - INFO - Chain [1] start processing\n"
     ]
    },
    {
     "name": "stdout",
     "output_type": "stream",
     "text": [
      "2024-02-25 00:00:00\n"
     ]
    },
    {
     "name": "stderr",
     "output_type": "stream",
     "text": [
      "19:52:22 - cmdstanpy - INFO - Chain [1] done processing\n",
      "19:52:22 - cmdstanpy - INFO - Chain [1] start processing\n"
     ]
    },
    {
     "name": "stdout",
     "output_type": "stream",
     "text": [
      "2024-02-25 00:00:00\n"
     ]
    },
    {
     "name": "stderr",
     "output_type": "stream",
     "text": [
      "19:52:22 - cmdstanpy - INFO - Chain [1] done processing\n",
      "19:52:23 - cmdstanpy - INFO - Chain [1] start processing\n"
     ]
    },
    {
     "name": "stdout",
     "output_type": "stream",
     "text": [
      "2024-02-25 00:00:00\n"
     ]
    },
    {
     "name": "stderr",
     "output_type": "stream",
     "text": [
      "19:52:23 - cmdstanpy - INFO - Chain [1] done processing\n",
      "19:52:23 - cmdstanpy - INFO - Chain [1] start processing\n"
     ]
    },
    {
     "name": "stdout",
     "output_type": "stream",
     "text": [
      "2024-02-25 00:00:00\n"
     ]
    },
    {
     "name": "stderr",
     "output_type": "stream",
     "text": [
      "19:52:23 - cmdstanpy - INFO - Chain [1] done processing\n",
      "19:52:24 - cmdstanpy - INFO - Chain [1] start processing\n"
     ]
    },
    {
     "name": "stdout",
     "output_type": "stream",
     "text": [
      "2024-02-25 00:00:00\n"
     ]
    },
    {
     "name": "stderr",
     "output_type": "stream",
     "text": [
      "19:52:24 - cmdstanpy - INFO - Chain [1] done processing\n",
      "19:52:24 - cmdstanpy - INFO - Chain [1] start processing\n"
     ]
    },
    {
     "name": "stdout",
     "output_type": "stream",
     "text": [
      "2024-02-25 00:00:00\n"
     ]
    },
    {
     "name": "stderr",
     "output_type": "stream",
     "text": [
      "19:52:24 - cmdstanpy - INFO - Chain [1] done processing\n",
      "19:52:24 - cmdstanpy - INFO - Chain [1] start processing\n"
     ]
    },
    {
     "name": "stdout",
     "output_type": "stream",
     "text": [
      "2024-02-25 00:00:00\n"
     ]
    },
    {
     "name": "stderr",
     "output_type": "stream",
     "text": [
      "19:52:24 - cmdstanpy - INFO - Chain [1] done processing\n",
      "19:52:25 - cmdstanpy - INFO - Chain [1] start processing\n"
     ]
    },
    {
     "name": "stdout",
     "output_type": "stream",
     "text": [
      "2024-02-25 00:00:00\n"
     ]
    },
    {
     "name": "stderr",
     "output_type": "stream",
     "text": [
      "19:52:25 - cmdstanpy - INFO - Chain [1] done processing\n",
      "19:52:25 - cmdstanpy - INFO - Chain [1] start processing\n"
     ]
    },
    {
     "name": "stdout",
     "output_type": "stream",
     "text": [
      "2024-02-25 00:00:00\n"
     ]
    },
    {
     "name": "stderr",
     "output_type": "stream",
     "text": [
      "19:52:25 - cmdstanpy - INFO - Chain [1] done processing\n",
      "19:52:26 - cmdstanpy - INFO - Chain [1] start processing\n",
      "19:52:26 - cmdstanpy - INFO - Chain [1] done processing\n"
     ]
    },
    {
     "name": "stdout",
     "output_type": "stream",
     "text": [
      "2024-02-25 00:00:00\n"
     ]
    },
    {
     "name": "stderr",
     "output_type": "stream",
     "text": [
      "19:52:26 - cmdstanpy - INFO - Chain [1] start processing\n"
     ]
    },
    {
     "name": "stdout",
     "output_type": "stream",
     "text": [
      "2024-02-25 00:00:00\n"
     ]
    },
    {
     "name": "stderr",
     "output_type": "stream",
     "text": [
      "19:52:26 - cmdstanpy - INFO - Chain [1] done processing\n",
      "19:52:27 - cmdstanpy - INFO - Chain [1] start processing\n"
     ]
    },
    {
     "name": "stdout",
     "output_type": "stream",
     "text": [
      "2024-02-25 00:00:00\n"
     ]
    },
    {
     "name": "stderr",
     "output_type": "stream",
     "text": [
      "19:52:27 - cmdstanpy - INFO - Chain [1] done processing\n",
      "19:52:27 - cmdstanpy - INFO - Chain [1] start processing\n"
     ]
    },
    {
     "name": "stdout",
     "output_type": "stream",
     "text": [
      "2024-02-25 00:00:00\n"
     ]
    },
    {
     "name": "stderr",
     "output_type": "stream",
     "text": [
      "19:52:27 - cmdstanpy - INFO - Chain [1] done processing\n",
      "19:52:28 - cmdstanpy - INFO - Chain [1] start processing\n"
     ]
    },
    {
     "name": "stdout",
     "output_type": "stream",
     "text": [
      "2024-02-25 00:00:00\n"
     ]
    },
    {
     "name": "stderr",
     "output_type": "stream",
     "text": [
      "19:52:28 - cmdstanpy - INFO - Chain [1] done processing\n",
      "19:52:28 - cmdstanpy - INFO - Chain [1] start processing\n"
     ]
    },
    {
     "name": "stdout",
     "output_type": "stream",
     "text": [
      "2024-02-25 00:00:00\n"
     ]
    },
    {
     "name": "stderr",
     "output_type": "stream",
     "text": [
      "19:52:28 - cmdstanpy - INFO - Chain [1] done processing\n",
      "19:52:28 - cmdstanpy - INFO - Chain [1] start processing\n",
      "19:52:28 - cmdstanpy - INFO - Chain [1] done processing\n"
     ]
    },
    {
     "name": "stdout",
     "output_type": "stream",
     "text": [
      "2024-02-25 00:00:00\n"
     ]
    },
    {
     "name": "stderr",
     "output_type": "stream",
     "text": [
      "19:52:29 - cmdstanpy - INFO - Chain [1] start processing\n"
     ]
    },
    {
     "name": "stdout",
     "output_type": "stream",
     "text": [
      "2024-02-25 00:00:00\n"
     ]
    },
    {
     "name": "stderr",
     "output_type": "stream",
     "text": [
      "19:52:29 - cmdstanpy - INFO - Chain [1] done processing\n",
      "19:52:29 - cmdstanpy - INFO - Chain [1] start processing\n"
     ]
    },
    {
     "name": "stdout",
     "output_type": "stream",
     "text": [
      "2024-02-25 00:00:00\n"
     ]
    },
    {
     "name": "stderr",
     "output_type": "stream",
     "text": [
      "19:52:29 - cmdstanpy - INFO - Chain [1] done processing\n",
      "19:52:30 - cmdstanpy - INFO - Chain [1] start processing\n",
      "19:52:30 - cmdstanpy - INFO - Chain [1] done processing\n"
     ]
    },
    {
     "name": "stdout",
     "output_type": "stream",
     "text": [
      "2024-02-25 00:00:00\n"
     ]
    },
    {
     "name": "stderr",
     "output_type": "stream",
     "text": [
      "19:52:30 - cmdstanpy - INFO - Chain [1] start processing\n"
     ]
    },
    {
     "name": "stdout",
     "output_type": "stream",
     "text": [
      "2024-02-25 00:00:00\n"
     ]
    },
    {
     "name": "stderr",
     "output_type": "stream",
     "text": [
      "19:52:30 - cmdstanpy - INFO - Chain [1] done processing\n",
      "19:52:30 - cmdstanpy - INFO - Chain [1] start processing\n",
      "19:52:31 - cmdstanpy - INFO - Chain [1] done processing\n"
     ]
    },
    {
     "name": "stdout",
     "output_type": "stream",
     "text": [
      "2024-02-25 00:00:00\n"
     ]
    },
    {
     "name": "stderr",
     "output_type": "stream",
     "text": [
      "19:52:31 - cmdstanpy - INFO - Chain [1] start processing\n"
     ]
    },
    {
     "name": "stdout",
     "output_type": "stream",
     "text": [
      "2024-02-25 00:00:00\n"
     ]
    },
    {
     "name": "stderr",
     "output_type": "stream",
     "text": [
      "19:52:31 - cmdstanpy - INFO - Chain [1] done processing\n",
      "19:52:31 - cmdstanpy - INFO - Chain [1] start processing\n"
     ]
    },
    {
     "name": "stdout",
     "output_type": "stream",
     "text": [
      "2024-02-25 00:00:00\n"
     ]
    },
    {
     "name": "stderr",
     "output_type": "stream",
     "text": [
      "19:52:32 - cmdstanpy - INFO - Chain [1] done processing\n",
      "19:52:32 - cmdstanpy - INFO - Chain [1] start processing\n"
     ]
    },
    {
     "name": "stdout",
     "output_type": "stream",
     "text": [
      "2024-02-25 00:00:00\n"
     ]
    },
    {
     "name": "stderr",
     "output_type": "stream",
     "text": [
      "19:52:32 - cmdstanpy - INFO - Chain [1] done processing\n",
      "19:52:32 - cmdstanpy - INFO - Chain [1] start processing\n",
      "19:52:32 - cmdstanpy - INFO - Chain [1] done processing\n"
     ]
    },
    {
     "name": "stdout",
     "output_type": "stream",
     "text": [
      "2024-02-25 00:00:00\n"
     ]
    },
    {
     "name": "stderr",
     "output_type": "stream",
     "text": [
      "19:52:33 - cmdstanpy - INFO - Chain [1] start processing\n"
     ]
    },
    {
     "name": "stdout",
     "output_type": "stream",
     "text": [
      "2024-02-25 00:00:00\n"
     ]
    },
    {
     "name": "stderr",
     "output_type": "stream",
     "text": [
      "19:52:33 - cmdstanpy - INFO - Chain [1] done processing\n",
      "19:52:33 - cmdstanpy - INFO - Chain [1] start processing\n"
     ]
    },
    {
     "name": "stdout",
     "output_type": "stream",
     "text": [
      "2024-02-25 00:00:00\n"
     ]
    },
    {
     "name": "stderr",
     "output_type": "stream",
     "text": [
      "19:52:33 - cmdstanpy - INFO - Chain [1] done processing\n",
      "19:52:34 - cmdstanpy - INFO - Chain [1] start processing\n"
     ]
    },
    {
     "name": "stdout",
     "output_type": "stream",
     "text": [
      "2024-02-25 00:00:00\n"
     ]
    },
    {
     "name": "stderr",
     "output_type": "stream",
     "text": [
      "19:52:34 - cmdstanpy - INFO - Chain [1] done processing\n",
      "19:52:34 - cmdstanpy - INFO - Chain [1] start processing\n"
     ]
    },
    {
     "name": "stdout",
     "output_type": "stream",
     "text": [
      "2024-02-25 00:00:00\n"
     ]
    },
    {
     "name": "stderr",
     "output_type": "stream",
     "text": [
      "19:52:34 - cmdstanpy - INFO - Chain [1] done processing\n",
      "19:52:34 - cmdstanpy - INFO - Chain [1] start processing\n"
     ]
    },
    {
     "name": "stdout",
     "output_type": "stream",
     "text": [
      "2024-02-25 00:00:00\n"
     ]
    },
    {
     "name": "stderr",
     "output_type": "stream",
     "text": [
      "19:52:35 - cmdstanpy - INFO - Chain [1] done processing\n",
      "19:52:35 - cmdstanpy - INFO - Chain [1] start processing\n"
     ]
    },
    {
     "name": "stdout",
     "output_type": "stream",
     "text": [
      "2024-02-25 00:00:00\n"
     ]
    },
    {
     "name": "stderr",
     "output_type": "stream",
     "text": [
      "19:52:35 - cmdstanpy - INFO - Chain [1] done processing\n",
      "19:52:36 - cmdstanpy - INFO - Chain [1] start processing\n",
      "19:52:36 - cmdstanpy - INFO - Chain [1] done processing\n"
     ]
    },
    {
     "name": "stdout",
     "output_type": "stream",
     "text": [
      "2024-02-25 00:00:00\n"
     ]
    },
    {
     "name": "stderr",
     "output_type": "stream",
     "text": [
      "19:52:36 - cmdstanpy - INFO - Chain [1] start processing\n"
     ]
    },
    {
     "name": "stdout",
     "output_type": "stream",
     "text": [
      "2024-02-25 00:00:00\n"
     ]
    },
    {
     "name": "stderr",
     "output_type": "stream",
     "text": [
      "19:52:36 - cmdstanpy - INFO - Chain [1] done processing\n",
      "19:52:36 - cmdstanpy - INFO - Chain [1] start processing\n"
     ]
    },
    {
     "name": "stdout",
     "output_type": "stream",
     "text": [
      "2024-02-25 00:00:00\n"
     ]
    },
    {
     "name": "stderr",
     "output_type": "stream",
     "text": [
      "19:52:36 - cmdstanpy - INFO - Chain [1] done processing\n",
      "19:52:37 - cmdstanpy - INFO - Chain [1] start processing\n"
     ]
    },
    {
     "name": "stdout",
     "output_type": "stream",
     "text": [
      "2024-02-25 00:00:00\n"
     ]
    },
    {
     "name": "stderr",
     "output_type": "stream",
     "text": [
      "19:52:37 - cmdstanpy - INFO - Chain [1] done processing\n",
      "19:52:37 - cmdstanpy - INFO - Chain [1] start processing\n",
      "19:52:37 - cmdstanpy - INFO - Chain [1] done processing\n"
     ]
    },
    {
     "name": "stdout",
     "output_type": "stream",
     "text": [
      "2024-02-25 00:00:00\n"
     ]
    },
    {
     "name": "stderr",
     "output_type": "stream",
     "text": [
      "19:52:37 - cmdstanpy - INFO - Chain [1] start processing\n"
     ]
    },
    {
     "name": "stdout",
     "output_type": "stream",
     "text": [
      "2024-02-25 00:00:00\n"
     ]
    },
    {
     "name": "stderr",
     "output_type": "stream",
     "text": [
      "19:52:38 - cmdstanpy - INFO - Chain [1] done processing\n",
      "19:52:38 - cmdstanpy - INFO - Chain [1] start processing\n"
     ]
    },
    {
     "name": "stdout",
     "output_type": "stream",
     "text": [
      "2024-02-25 00:00:00\n"
     ]
    },
    {
     "name": "stderr",
     "output_type": "stream",
     "text": [
      "19:52:38 - cmdstanpy - INFO - Chain [1] done processing\n",
      "19:52:38 - cmdstanpy - INFO - Chain [1] start processing\n"
     ]
    },
    {
     "name": "stdout",
     "output_type": "stream",
     "text": [
      "2024-02-25 00:00:00\n"
     ]
    },
    {
     "name": "stderr",
     "output_type": "stream",
     "text": [
      "19:52:39 - cmdstanpy - INFO - Chain [1] done processing\n",
      "19:52:39 - cmdstanpy - INFO - Chain [1] start processing\n"
     ]
    },
    {
     "name": "stdout",
     "output_type": "stream",
     "text": [
      "2024-02-25 00:00:00\n"
     ]
    },
    {
     "name": "stderr",
     "output_type": "stream",
     "text": [
      "19:52:39 - cmdstanpy - INFO - Chain [1] done processing\n",
      "19:52:39 - cmdstanpy - INFO - Chain [1] start processing\n"
     ]
    },
    {
     "name": "stdout",
     "output_type": "stream",
     "text": [
      "2024-02-25 00:00:00\n"
     ]
    },
    {
     "name": "stderr",
     "output_type": "stream",
     "text": [
      "19:52:39 - cmdstanpy - INFO - Chain [1] done processing\n",
      "19:52:40 - cmdstanpy - INFO - Chain [1] start processing\n"
     ]
    },
    {
     "name": "stdout",
     "output_type": "stream",
     "text": [
      "2024-02-25 00:00:00\n"
     ]
    },
    {
     "name": "stderr",
     "output_type": "stream",
     "text": [
      "19:52:40 - cmdstanpy - INFO - Chain [1] done processing\n",
      "19:52:40 - cmdstanpy - INFO - Chain [1] start processing\n"
     ]
    },
    {
     "name": "stdout",
     "output_type": "stream",
     "text": [
      "2024-02-25 00:00:00\n"
     ]
    },
    {
     "name": "stderr",
     "output_type": "stream",
     "text": [
      "19:52:40 - cmdstanpy - INFO - Chain [1] done processing\n",
      "19:52:41 - cmdstanpy - INFO - Chain [1] start processing\n"
     ]
    },
    {
     "name": "stdout",
     "output_type": "stream",
     "text": [
      "2024-02-25 00:00:00\n"
     ]
    },
    {
     "name": "stderr",
     "output_type": "stream",
     "text": [
      "19:52:41 - cmdstanpy - INFO - Chain [1] done processing\n",
      "19:52:41 - cmdstanpy - INFO - Chain [1] start processing\n"
     ]
    },
    {
     "name": "stdout",
     "output_type": "stream",
     "text": [
      "2024-02-25 00:00:00\n"
     ]
    },
    {
     "name": "stderr",
     "output_type": "stream",
     "text": [
      "19:52:41 - cmdstanpy - INFO - Chain [1] done processing\n",
      "19:52:41 - cmdstanpy - INFO - Chain [1] start processing\n"
     ]
    },
    {
     "name": "stdout",
     "output_type": "stream",
     "text": [
      "2024-02-25 00:00:00\n"
     ]
    },
    {
     "name": "stderr",
     "output_type": "stream",
     "text": [
      "19:52:42 - cmdstanpy - INFO - Chain [1] done processing\n",
      "19:52:42 - cmdstanpy - INFO - Chain [1] start processing\n"
     ]
    },
    {
     "name": "stdout",
     "output_type": "stream",
     "text": [
      "2024-02-25 00:00:00\n"
     ]
    },
    {
     "name": "stderr",
     "output_type": "stream",
     "text": [
      "19:52:42 - cmdstanpy - INFO - Chain [1] done processing\n",
      "19:52:43 - cmdstanpy - INFO - Chain [1] start processing\n",
      "19:52:43 - cmdstanpy - INFO - Chain [1] done processing\n"
     ]
    },
    {
     "name": "stdout",
     "output_type": "stream",
     "text": [
      "2024-02-25 00:00:00\n"
     ]
    },
    {
     "name": "stderr",
     "output_type": "stream",
     "text": [
      "19:52:43 - cmdstanpy - INFO - Chain [1] start processing\n"
     ]
    },
    {
     "name": "stdout",
     "output_type": "stream",
     "text": [
      "2024-02-25 00:00:00\n"
     ]
    },
    {
     "name": "stderr",
     "output_type": "stream",
     "text": [
      "19:52:43 - cmdstanpy - INFO - Chain [1] done processing\n",
      "19:52:44 - cmdstanpy - INFO - Chain [1] start processing\n"
     ]
    },
    {
     "name": "stdout",
     "output_type": "stream",
     "text": [
      "2024-02-25 00:00:00\n"
     ]
    },
    {
     "name": "stderr",
     "output_type": "stream",
     "text": [
      "19:52:44 - cmdstanpy - INFO - Chain [1] done processing\n",
      "19:52:44 - cmdstanpy - INFO - Chain [1] start processing\n",
      "19:52:44 - cmdstanpy - INFO - Chain [1] done processing\n"
     ]
    },
    {
     "name": "stdout",
     "output_type": "stream",
     "text": [
      "2024-02-25 00:00:00\n"
     ]
    },
    {
     "name": "stderr",
     "output_type": "stream",
     "text": [
      "19:52:44 - cmdstanpy - INFO - Chain [1] start processing\n"
     ]
    },
    {
     "name": "stdout",
     "output_type": "stream",
     "text": [
      "2024-02-25 00:00:00\n"
     ]
    },
    {
     "name": "stderr",
     "output_type": "stream",
     "text": [
      "19:52:45 - cmdstanpy - INFO - Chain [1] done processing\n",
      "19:52:45 - cmdstanpy - INFO - Chain [1] start processing\n"
     ]
    },
    {
     "name": "stdout",
     "output_type": "stream",
     "text": [
      "2024-02-25 00:00:00\n"
     ]
    },
    {
     "name": "stderr",
     "output_type": "stream",
     "text": [
      "19:52:45 - cmdstanpy - INFO - Chain [1] done processing\n",
      "19:52:45 - cmdstanpy - INFO - Chain [1] start processing\n"
     ]
    },
    {
     "name": "stdout",
     "output_type": "stream",
     "text": [
      "2024-02-25 00:00:00\n"
     ]
    },
    {
     "name": "stderr",
     "output_type": "stream",
     "text": [
      "19:52:46 - cmdstanpy - INFO - Chain [1] done processing\n",
      "19:52:46 - cmdstanpy - INFO - Chain [1] start processing\n"
     ]
    },
    {
     "name": "stdout",
     "output_type": "stream",
     "text": [
      "2024-02-25 00:00:00\n"
     ]
    },
    {
     "name": "stderr",
     "output_type": "stream",
     "text": [
      "19:52:46 - cmdstanpy - INFO - Chain [1] done processing\n",
      "19:52:46 - cmdstanpy - INFO - Chain [1] start processing\n"
     ]
    },
    {
     "name": "stdout",
     "output_type": "stream",
     "text": [
      "2024-02-25 00:00:00\n"
     ]
    },
    {
     "name": "stderr",
     "output_type": "stream",
     "text": [
      "19:52:46 - cmdstanpy - INFO - Chain [1] done processing\n",
      "19:52:47 - cmdstanpy - INFO - Chain [1] start processing\n"
     ]
    },
    {
     "name": "stdout",
     "output_type": "stream",
     "text": [
      "2024-02-25 00:00:00\n"
     ]
    },
    {
     "name": "stderr",
     "output_type": "stream",
     "text": [
      "19:52:47 - cmdstanpy - INFO - Chain [1] done processing\n",
      "19:52:47 - cmdstanpy - INFO - Chain [1] start processing\n"
     ]
    },
    {
     "name": "stdout",
     "output_type": "stream",
     "text": [
      "2024-02-25 00:00:00\n"
     ]
    },
    {
     "name": "stderr",
     "output_type": "stream",
     "text": [
      "19:52:48 - cmdstanpy - INFO - Chain [1] done processing\n",
      "19:52:48 - cmdstanpy - INFO - Chain [1] start processing\n"
     ]
    },
    {
     "name": "stdout",
     "output_type": "stream",
     "text": [
      "2024-02-25 00:00:00\n"
     ]
    },
    {
     "name": "stderr",
     "output_type": "stream",
     "text": [
      "19:52:48 - cmdstanpy - INFO - Chain [1] done processing\n",
      "19:52:48 - cmdstanpy - INFO - Chain [1] start processing\n"
     ]
    },
    {
     "name": "stdout",
     "output_type": "stream",
     "text": [
      "2024-02-25 00:00:00\n"
     ]
    },
    {
     "name": "stderr",
     "output_type": "stream",
     "text": [
      "19:52:49 - cmdstanpy - INFO - Chain [1] done processing\n",
      "19:52:49 - cmdstanpy - INFO - Chain [1] start processing\n"
     ]
    },
    {
     "name": "stdout",
     "output_type": "stream",
     "text": [
      "2024-02-25 00:00:00\n"
     ]
    },
    {
     "name": "stderr",
     "output_type": "stream",
     "text": [
      "19:52:49 - cmdstanpy - INFO - Chain [1] done processing\n",
      "19:52:49 - cmdstanpy - INFO - Chain [1] start processing\n"
     ]
    },
    {
     "name": "stdout",
     "output_type": "stream",
     "text": [
      "2024-02-25 00:00:00\n"
     ]
    },
    {
     "name": "stderr",
     "output_type": "stream",
     "text": [
      "19:52:49 - cmdstanpy - INFO - Chain [1] done processing\n",
      "19:52:50 - cmdstanpy - INFO - Chain [1] start processing\n"
     ]
    },
    {
     "name": "stdout",
     "output_type": "stream",
     "text": [
      "2024-02-25 00:00:00\n"
     ]
    },
    {
     "name": "stderr",
     "output_type": "stream",
     "text": [
      "19:52:50 - cmdstanpy - INFO - Chain [1] done processing\n",
      "19:52:50 - cmdstanpy - INFO - Chain [1] start processing\n"
     ]
    },
    {
     "name": "stdout",
     "output_type": "stream",
     "text": [
      "2024-02-25 00:00:00\n"
     ]
    },
    {
     "name": "stderr",
     "output_type": "stream",
     "text": [
      "19:52:50 - cmdstanpy - INFO - Chain [1] done processing\n",
      "19:52:51 - cmdstanpy - INFO - Chain [1] start processing\n",
      "19:52:51 - cmdstanpy - INFO - Chain [1] done processing\n"
     ]
    },
    {
     "name": "stdout",
     "output_type": "stream",
     "text": [
      "2024-02-25 00:00:00\n"
     ]
    },
    {
     "name": "stderr",
     "output_type": "stream",
     "text": [
      "19:52:51 - cmdstanpy - INFO - Chain [1] start processing\n"
     ]
    },
    {
     "name": "stdout",
     "output_type": "stream",
     "text": [
      "2024-02-25 00:00:00\n"
     ]
    },
    {
     "name": "stderr",
     "output_type": "stream",
     "text": [
      "19:52:51 - cmdstanpy - INFO - Chain [1] done processing\n",
      "19:52:51 - cmdstanpy - INFO - Chain [1] start processing\n"
     ]
    },
    {
     "name": "stdout",
     "output_type": "stream",
     "text": [
      "2024-02-25 00:00:00\n"
     ]
    },
    {
     "name": "stderr",
     "output_type": "stream",
     "text": [
      "19:52:52 - cmdstanpy - INFO - Chain [1] done processing\n",
      "19:52:52 - cmdstanpy - INFO - Chain [1] start processing\n",
      "19:52:52 - cmdstanpy - INFO - Chain [1] done processing\n"
     ]
    },
    {
     "name": "stdout",
     "output_type": "stream",
     "text": [
      "2024-02-25 00:00:00\n"
     ]
    },
    {
     "name": "stderr",
     "output_type": "stream",
     "text": [
      "19:52:52 - cmdstanpy - INFO - Chain [1] start processing\n"
     ]
    },
    {
     "name": "stdout",
     "output_type": "stream",
     "text": [
      "2024-02-25 00:00:00\n"
     ]
    },
    {
     "name": "stderr",
     "output_type": "stream",
     "text": [
      "19:52:52 - cmdstanpy - INFO - Chain [1] done processing\n",
      "19:52:53 - cmdstanpy - INFO - Chain [1] start processing\n"
     ]
    },
    {
     "name": "stdout",
     "output_type": "stream",
     "text": [
      "2024-02-25 00:00:00\n"
     ]
    },
    {
     "name": "stderr",
     "output_type": "stream",
     "text": [
      "19:52:53 - cmdstanpy - INFO - Chain [1] done processing\n",
      "19:52:53 - cmdstanpy - INFO - Chain [1] start processing\n"
     ]
    },
    {
     "name": "stdout",
     "output_type": "stream",
     "text": [
      "2024-02-25 00:00:00\n"
     ]
    },
    {
     "name": "stderr",
     "output_type": "stream",
     "text": [
      "19:52:53 - cmdstanpy - INFO - Chain [1] done processing\n",
      "19:52:54 - cmdstanpy - INFO - Chain [1] start processing\n",
      "19:52:54 - cmdstanpy - INFO - Chain [1] done processing\n"
     ]
    },
    {
     "name": "stdout",
     "output_type": "stream",
     "text": [
      "2024-02-25 00:00:00\n"
     ]
    },
    {
     "name": "stderr",
     "output_type": "stream",
     "text": [
      "19:52:54 - cmdstanpy - INFO - Chain [1] start processing\n"
     ]
    },
    {
     "name": "stdout",
     "output_type": "stream",
     "text": [
      "2024-02-25 00:00:00\n"
     ]
    },
    {
     "name": "stderr",
     "output_type": "stream",
     "text": [
      "19:52:54 - cmdstanpy - INFO - Chain [1] done processing\n",
      "19:52:55 - cmdstanpy - INFO - Chain [1] start processing\n"
     ]
    },
    {
     "name": "stdout",
     "output_type": "stream",
     "text": [
      "2024-02-25 00:00:00\n"
     ]
    },
    {
     "name": "stderr",
     "output_type": "stream",
     "text": [
      "19:52:55 - cmdstanpy - INFO - Chain [1] done processing\n",
      "19:52:55 - cmdstanpy - INFO - Chain [1] start processing\n"
     ]
    },
    {
     "name": "stdout",
     "output_type": "stream",
     "text": [
      "2024-02-25 00:00:00\n"
     ]
    },
    {
     "name": "stderr",
     "output_type": "stream",
     "text": [
      "19:52:55 - cmdstanpy - INFO - Chain [1] done processing\n",
      "19:52:56 - cmdstanpy - INFO - Chain [1] start processing\n"
     ]
    },
    {
     "name": "stdout",
     "output_type": "stream",
     "text": [
      "2024-02-25 00:00:00\n"
     ]
    },
    {
     "name": "stderr",
     "output_type": "stream",
     "text": [
      "19:52:56 - cmdstanpy - INFO - Chain [1] done processing\n",
      "19:52:56 - cmdstanpy - INFO - Chain [1] start processing\n"
     ]
    },
    {
     "name": "stdout",
     "output_type": "stream",
     "text": [
      "2024-02-25 00:00:00\n"
     ]
    },
    {
     "name": "stderr",
     "output_type": "stream",
     "text": [
      "19:52:56 - cmdstanpy - INFO - Chain [1] done processing\n",
      "19:52:57 - cmdstanpy - INFO - Chain [1] start processing\n"
     ]
    },
    {
     "name": "stdout",
     "output_type": "stream",
     "text": [
      "2024-02-25 00:00:00\n"
     ]
    },
    {
     "name": "stderr",
     "output_type": "stream",
     "text": [
      "19:52:57 - cmdstanpy - INFO - Chain [1] done processing\n",
      "19:52:57 - cmdstanpy - INFO - Chain [1] start processing\n"
     ]
    },
    {
     "name": "stdout",
     "output_type": "stream",
     "text": [
      "2024-02-25 00:00:00\n"
     ]
    },
    {
     "name": "stderr",
     "output_type": "stream",
     "text": [
      "19:52:57 - cmdstanpy - INFO - Chain [1] done processing\n",
      "19:52:58 - cmdstanpy - INFO - Chain [1] start processing\n"
     ]
    },
    {
     "name": "stdout",
     "output_type": "stream",
     "text": [
      "2024-02-25 00:00:00\n"
     ]
    },
    {
     "name": "stderr",
     "output_type": "stream",
     "text": [
      "19:52:58 - cmdstanpy - INFO - Chain [1] done processing\n",
      "19:52:58 - cmdstanpy - INFO - Chain [1] start processing\n"
     ]
    },
    {
     "name": "stdout",
     "output_type": "stream",
     "text": [
      "2024-02-25 00:00:00\n"
     ]
    },
    {
     "name": "stderr",
     "output_type": "stream",
     "text": [
      "19:52:58 - cmdstanpy - INFO - Chain [1] done processing\n",
      "19:52:59 - cmdstanpy - INFO - Chain [1] start processing\n"
     ]
    },
    {
     "name": "stdout",
     "output_type": "stream",
     "text": [
      "2024-02-25 00:00:00\n"
     ]
    },
    {
     "name": "stderr",
     "output_type": "stream",
     "text": [
      "19:52:59 - cmdstanpy - INFO - Chain [1] done processing\n",
      "19:52:59 - cmdstanpy - INFO - Chain [1] start processing\n"
     ]
    },
    {
     "name": "stdout",
     "output_type": "stream",
     "text": [
      "2024-02-25 00:00:00\n"
     ]
    },
    {
     "name": "stderr",
     "output_type": "stream",
     "text": [
      "19:52:59 - cmdstanpy - INFO - Chain [1] done processing\n",
      "19:53:00 - cmdstanpy - INFO - Chain [1] start processing\n"
     ]
    },
    {
     "name": "stdout",
     "output_type": "stream",
     "text": [
      "2024-02-25 00:00:00\n"
     ]
    },
    {
     "name": "stderr",
     "output_type": "stream",
     "text": [
      "19:53:00 - cmdstanpy - INFO - Chain [1] done processing\n",
      "19:53:00 - cmdstanpy - INFO - Chain [1] start processing\n"
     ]
    },
    {
     "name": "stdout",
     "output_type": "stream",
     "text": [
      "2024-02-25 00:00:00\n"
     ]
    },
    {
     "name": "stderr",
     "output_type": "stream",
     "text": [
      "19:53:00 - cmdstanpy - INFO - Chain [1] done processing\n",
      "19:53:01 - cmdstanpy - INFO - Chain [1] start processing\n"
     ]
    },
    {
     "name": "stdout",
     "output_type": "stream",
     "text": [
      "2024-02-25 00:00:00\n"
     ]
    },
    {
     "name": "stderr",
     "output_type": "stream",
     "text": [
      "19:53:01 - cmdstanpy - INFO - Chain [1] done processing\n",
      "19:53:01 - cmdstanpy - INFO - Chain [1] start processing\n"
     ]
    },
    {
     "name": "stdout",
     "output_type": "stream",
     "text": [
      "2024-02-25 00:00:00\n"
     ]
    },
    {
     "name": "stderr",
     "output_type": "stream",
     "text": [
      "19:53:01 - cmdstanpy - INFO - Chain [1] done processing\n",
      "19:53:02 - cmdstanpy - INFO - Chain [1] start processing\n"
     ]
    },
    {
     "name": "stdout",
     "output_type": "stream",
     "text": [
      "2024-02-25 00:00:00\n"
     ]
    },
    {
     "name": "stderr",
     "output_type": "stream",
     "text": [
      "19:53:02 - cmdstanpy - INFO - Chain [1] done processing\n",
      "19:53:02 - cmdstanpy - INFO - Chain [1] start processing\n"
     ]
    },
    {
     "name": "stdout",
     "output_type": "stream",
     "text": [
      "2024-02-25 00:00:00\n"
     ]
    },
    {
     "name": "stderr",
     "output_type": "stream",
     "text": [
      "19:53:02 - cmdstanpy - INFO - Chain [1] done processing\n",
      "19:53:03 - cmdstanpy - INFO - Chain [1] start processing\n",
      "19:53:03 - cmdstanpy - INFO - Chain [1] done processing\n"
     ]
    },
    {
     "name": "stdout",
     "output_type": "stream",
     "text": [
      "2024-02-25 00:00:00\n"
     ]
    },
    {
     "name": "stderr",
     "output_type": "stream",
     "text": [
      "19:53:03 - cmdstanpy - INFO - Chain [1] start processing\n"
     ]
    },
    {
     "name": "stdout",
     "output_type": "stream",
     "text": [
      "2024-02-25 00:00:00\n"
     ]
    },
    {
     "name": "stderr",
     "output_type": "stream",
     "text": [
      "19:53:04 - cmdstanpy - INFO - Chain [1] done processing\n",
      "19:53:04 - cmdstanpy - INFO - Chain [1] start processing\n"
     ]
    },
    {
     "name": "stdout",
     "output_type": "stream",
     "text": [
      "2024-02-25 00:00:00\n"
     ]
    },
    {
     "name": "stderr",
     "output_type": "stream",
     "text": [
      "19:53:04 - cmdstanpy - INFO - Chain [1] done processing\n",
      "19:53:05 - cmdstanpy - INFO - Chain [1] start processing\n"
     ]
    },
    {
     "name": "stdout",
     "output_type": "stream",
     "text": [
      "2024-02-25 00:00:00\n"
     ]
    },
    {
     "name": "stderr",
     "output_type": "stream",
     "text": [
      "19:53:05 - cmdstanpy - INFO - Chain [1] done processing\n",
      "19:53:05 - cmdstanpy - INFO - Chain [1] start processing\n"
     ]
    },
    {
     "name": "stdout",
     "output_type": "stream",
     "text": [
      "2024-02-25 00:00:00\n"
     ]
    },
    {
     "name": "stderr",
     "output_type": "stream",
     "text": [
      "19:53:05 - cmdstanpy - INFO - Chain [1] done processing\n",
      "19:53:05 - cmdstanpy - INFO - Chain [1] start processing\n"
     ]
    },
    {
     "name": "stdout",
     "output_type": "stream",
     "text": [
      "2024-02-25 00:00:00\n"
     ]
    },
    {
     "name": "stderr",
     "output_type": "stream",
     "text": [
      "19:53:05 - cmdstanpy - INFO - Chain [1] done processing\n",
      "19:53:06 - cmdstanpy - INFO - Chain [1] start processing\n",
      "19:53:06 - cmdstanpy - INFO - Chain [1] done processing\n"
     ]
    },
    {
     "name": "stdout",
     "output_type": "stream",
     "text": [
      "2024-02-25 00:00:00\n"
     ]
    },
    {
     "name": "stderr",
     "output_type": "stream",
     "text": [
      "19:53:06 - cmdstanpy - INFO - Chain [1] start processing\n"
     ]
    },
    {
     "name": "stdout",
     "output_type": "stream",
     "text": [
      "2024-02-25 00:00:00\n"
     ]
    },
    {
     "name": "stderr",
     "output_type": "stream",
     "text": [
      "19:53:06 - cmdstanpy - INFO - Chain [1] done processing\n",
      "19:53:07 - cmdstanpy - INFO - Chain [1] start processing\n",
      "19:53:07 - cmdstanpy - INFO - Chain [1] done processing\n"
     ]
    },
    {
     "name": "stdout",
     "output_type": "stream",
     "text": [
      "2024-02-25 00:00:00\n"
     ]
    },
    {
     "name": "stderr",
     "output_type": "stream",
     "text": [
      "19:53:07 - cmdstanpy - INFO - Chain [1] start processing\n"
     ]
    },
    {
     "name": "stdout",
     "output_type": "stream",
     "text": [
      "2024-02-25 00:00:00\n"
     ]
    },
    {
     "name": "stderr",
     "output_type": "stream",
     "text": [
      "19:53:07 - cmdstanpy - INFO - Chain [1] done processing\n",
      "19:53:07 - cmdstanpy - INFO - Chain [1] start processing\n",
      "19:53:07 - cmdstanpy - INFO - Chain [1] done processing\n"
     ]
    },
    {
     "name": "stdout",
     "output_type": "stream",
     "text": [
      "2024-02-25 00:00:00\n"
     ]
    },
    {
     "name": "stderr",
     "output_type": "stream",
     "text": [
      "19:53:08 - cmdstanpy - INFO - Chain [1] start processing\n"
     ]
    },
    {
     "name": "stdout",
     "output_type": "stream",
     "text": [
      "2024-02-25 00:00:00\n"
     ]
    },
    {
     "name": "stderr",
     "output_type": "stream",
     "text": [
      "19:53:08 - cmdstanpy - INFO - Chain [1] done processing\n",
      "19:53:08 - cmdstanpy - INFO - Chain [1] start processing\n"
     ]
    },
    {
     "name": "stdout",
     "output_type": "stream",
     "text": [
      "2024-02-25 00:00:00\n"
     ]
    },
    {
     "name": "stderr",
     "output_type": "stream",
     "text": [
      "19:53:08 - cmdstanpy - INFO - Chain [1] done processing\n",
      "19:53:09 - cmdstanpy - INFO - Chain [1] start processing\n",
      "19:53:09 - cmdstanpy - INFO - Chain [1] done processing\n"
     ]
    },
    {
     "name": "stdout",
     "output_type": "stream",
     "text": [
      "2024-02-25 00:00:00\n"
     ]
    },
    {
     "name": "stderr",
     "output_type": "stream",
     "text": [
      "19:53:09 - cmdstanpy - INFO - Chain [1] start processing\n"
     ]
    },
    {
     "name": "stdout",
     "output_type": "stream",
     "text": [
      "2024-02-25 00:00:00\n"
     ]
    },
    {
     "name": "stderr",
     "output_type": "stream",
     "text": [
      "19:53:09 - cmdstanpy - INFO - Chain [1] done processing\n",
      "19:53:09 - cmdstanpy - INFO - Chain [1] start processing\n"
     ]
    },
    {
     "name": "stdout",
     "output_type": "stream",
     "text": [
      "2024-02-25 00:00:00\n"
     ]
    },
    {
     "name": "stderr",
     "output_type": "stream",
     "text": [
      "19:53:09 - cmdstanpy - INFO - Chain [1] done processing\n",
      "19:53:10 - cmdstanpy - INFO - Chain [1] start processing\n",
      "19:53:10 - cmdstanpy - INFO - Chain [1] done processing\n"
     ]
    },
    {
     "name": "stdout",
     "output_type": "stream",
     "text": [
      "2024-02-25 00:00:00\n"
     ]
    },
    {
     "name": "stderr",
     "output_type": "stream",
     "text": [
      "19:53:10 - cmdstanpy - INFO - Chain [1] start processing\n"
     ]
    },
    {
     "name": "stdout",
     "output_type": "stream",
     "text": [
      "2024-02-25 00:00:00\n"
     ]
    },
    {
     "name": "stderr",
     "output_type": "stream",
     "text": [
      "19:53:10 - cmdstanpy - INFO - Chain [1] done processing\n",
      "19:53:10 - cmdstanpy - INFO - Chain [1] start processing\n",
      "19:53:10 - cmdstanpy - INFO - Chain [1] done processing\n"
     ]
    },
    {
     "name": "stdout",
     "output_type": "stream",
     "text": [
      "2024-02-25 00:00:00\n"
     ]
    },
    {
     "name": "stderr",
     "output_type": "stream",
     "text": [
      "19:53:11 - cmdstanpy - INFO - Chain [1] start processing\n"
     ]
    },
    {
     "name": "stdout",
     "output_type": "stream",
     "text": [
      "2024-02-25 00:00:00\n"
     ]
    },
    {
     "name": "stderr",
     "output_type": "stream",
     "text": [
      "19:53:11 - cmdstanpy - INFO - Chain [1] done processing\n",
      "19:53:11 - cmdstanpy - INFO - Chain [1] start processing\n",
      "19:53:11 - cmdstanpy - INFO - Chain [1] done processing\n"
     ]
    },
    {
     "name": "stdout",
     "output_type": "stream",
     "text": [
      "2024-02-25 00:00:00\n"
     ]
    },
    {
     "name": "stderr",
     "output_type": "stream",
     "text": [
      "19:53:11 - cmdstanpy - INFO - Chain [1] start processing\n",
      "19:53:12 - cmdstanpy - INFO - Chain [1] done processing\n"
     ]
    },
    {
     "name": "stdout",
     "output_type": "stream",
     "text": [
      "2024-02-25 00:00:00\n"
     ]
    },
    {
     "name": "stderr",
     "output_type": "stream",
     "text": [
      "19:53:12 - cmdstanpy - INFO - Chain [1] start processing\n"
     ]
    },
    {
     "name": "stdout",
     "output_type": "stream",
     "text": [
      "2024-02-25 00:00:00\n"
     ]
    },
    {
     "name": "stderr",
     "output_type": "stream",
     "text": [
      "19:53:12 - cmdstanpy - INFO - Chain [1] done processing\n",
      "19:53:12 - cmdstanpy - INFO - Chain [1] start processing\n"
     ]
    },
    {
     "name": "stdout",
     "output_type": "stream",
     "text": [
      "2024-02-25 00:00:00\n"
     ]
    },
    {
     "name": "stderr",
     "output_type": "stream",
     "text": [
      "19:53:12 - cmdstanpy - INFO - Chain [1] done processing\n",
      "19:53:13 - cmdstanpy - INFO - Chain [1] start processing\n",
      "19:53:13 - cmdstanpy - INFO - Chain [1] done processing\n"
     ]
    },
    {
     "name": "stdout",
     "output_type": "stream",
     "text": [
      "2024-02-25 00:00:00\n"
     ]
    },
    {
     "name": "stderr",
     "output_type": "stream",
     "text": [
      "19:53:13 - cmdstanpy - INFO - Chain [1] start processing\n"
     ]
    },
    {
     "name": "stdout",
     "output_type": "stream",
     "text": [
      "2024-02-25 00:00:00\n"
     ]
    },
    {
     "name": "stderr",
     "output_type": "stream",
     "text": [
      "19:53:13 - cmdstanpy - INFO - Chain [1] done processing\n",
      "19:53:14 - cmdstanpy - INFO - Chain [1] start processing\n",
      "19:53:14 - cmdstanpy - INFO - Chain [1] done processing\n"
     ]
    },
    {
     "name": "stdout",
     "output_type": "stream",
     "text": [
      "2024-02-25 00:00:00\n"
     ]
    },
    {
     "name": "stderr",
     "output_type": "stream",
     "text": [
      "19:53:14 - cmdstanpy - INFO - Chain [1] start processing\n"
     ]
    },
    {
     "name": "stdout",
     "output_type": "stream",
     "text": [
      "2024-02-25 00:00:00\n"
     ]
    },
    {
     "name": "stderr",
     "output_type": "stream",
     "text": [
      "19:53:14 - cmdstanpy - INFO - Chain [1] done processing\n",
      "19:53:14 - cmdstanpy - INFO - Chain [1] start processing\n"
     ]
    },
    {
     "name": "stdout",
     "output_type": "stream",
     "text": [
      "2024-02-25 00:00:00\n"
     ]
    },
    {
     "name": "stderr",
     "output_type": "stream",
     "text": [
      "19:53:14 - cmdstanpy - INFO - Chain [1] done processing\n",
      "19:53:15 - cmdstanpy - INFO - Chain [1] start processing\n",
      "19:53:15 - cmdstanpy - INFO - Chain [1] done processing\n"
     ]
    },
    {
     "name": "stdout",
     "output_type": "stream",
     "text": [
      "2024-02-25 00:00:00\n"
     ]
    },
    {
     "name": "stderr",
     "output_type": "stream",
     "text": [
      "19:53:15 - cmdstanpy - INFO - Chain [1] start processing\n"
     ]
    },
    {
     "name": "stdout",
     "output_type": "stream",
     "text": [
      "2024-02-25 00:00:00\n"
     ]
    },
    {
     "name": "stderr",
     "output_type": "stream",
     "text": [
      "19:53:15 - cmdstanpy - INFO - Chain [1] done processing\n",
      "19:53:15 - cmdstanpy - INFO - Chain [1] start processing\n"
     ]
    },
    {
     "name": "stdout",
     "output_type": "stream",
     "text": [
      "2024-02-25 00:00:00\n"
     ]
    },
    {
     "name": "stderr",
     "output_type": "stream",
     "text": [
      "19:53:16 - cmdstanpy - INFO - Chain [1] done processing\n",
      "19:53:16 - cmdstanpy - INFO - Chain [1] start processing\n",
      "19:53:16 - cmdstanpy - INFO - Chain [1] done processing\n"
     ]
    },
    {
     "name": "stdout",
     "output_type": "stream",
     "text": [
      "2024-02-25 00:00:00\n"
     ]
    },
    {
     "name": "stderr",
     "output_type": "stream",
     "text": [
      "19:53:16 - cmdstanpy - INFO - Chain [1] start processing\n"
     ]
    },
    {
     "name": "stdout",
     "output_type": "stream",
     "text": [
      "2024-02-25 00:00:00\n"
     ]
    },
    {
     "name": "stderr",
     "output_type": "stream",
     "text": [
      "19:53:16 - cmdstanpy - INFO - Chain [1] done processing\n",
      "19:53:17 - cmdstanpy - INFO - Chain [1] start processing\n"
     ]
    },
    {
     "name": "stdout",
     "output_type": "stream",
     "text": [
      "2024-02-25 00:00:00\n"
     ]
    },
    {
     "name": "stderr",
     "output_type": "stream",
     "text": [
      "19:53:17 - cmdstanpy - INFO - Chain [1] done processing\n",
      "19:53:17 - cmdstanpy - INFO - Chain [1] start processing\n"
     ]
    },
    {
     "name": "stdout",
     "output_type": "stream",
     "text": [
      "2024-02-25 00:00:00\n"
     ]
    },
    {
     "name": "stderr",
     "output_type": "stream",
     "text": [
      "19:53:17 - cmdstanpy - INFO - Chain [1] done processing\n",
      "19:53:17 - cmdstanpy - INFO - Chain [1] start processing\n"
     ]
    },
    {
     "name": "stdout",
     "output_type": "stream",
     "text": [
      "2024-02-25 00:00:00\n"
     ]
    },
    {
     "name": "stderr",
     "output_type": "stream",
     "text": [
      "19:53:17 - cmdstanpy - INFO - Chain [1] done processing\n",
      "19:53:18 - cmdstanpy - INFO - Chain [1] start processing\n"
     ]
    },
    {
     "name": "stdout",
     "output_type": "stream",
     "text": [
      "2024-02-25 00:00:00\n"
     ]
    },
    {
     "name": "stderr",
     "output_type": "stream",
     "text": [
      "19:53:18 - cmdstanpy - INFO - Chain [1] done processing\n"
     ]
    },
    {
     "name": "stdout",
     "output_type": "stream",
     "text": [
      "2024-02-25 00:00:00\n"
     ]
    },
    {
     "name": "stderr",
     "output_type": "stream",
     "text": [
      "19:53:18 - cmdstanpy - INFO - Chain [1] start processing\n",
      "19:53:18 - cmdstanpy - INFO - Chain [1] done processing\n",
      "19:53:18 - cmdstanpy - INFO - Chain [1] start processing\n",
      "19:53:19 - cmdstanpy - INFO - Chain [1] done processing\n"
     ]
    },
    {
     "name": "stdout",
     "output_type": "stream",
     "text": [
      "2024-02-25 00:00:00\n"
     ]
    },
    {
     "name": "stderr",
     "output_type": "stream",
     "text": [
      "19:53:19 - cmdstanpy - INFO - Chain [1] start processing\n",
      "19:53:19 - cmdstanpy - INFO - Chain [1] done processing\n"
     ]
    },
    {
     "name": "stdout",
     "output_type": "stream",
     "text": [
      "2024-02-25 00:00:00\n"
     ]
    },
    {
     "name": "stderr",
     "output_type": "stream",
     "text": [
      "19:53:19 - cmdstanpy - INFO - Chain [1] start processing\n"
     ]
    },
    {
     "name": "stdout",
     "output_type": "stream",
     "text": [
      "2024-02-25 00:00:00\n"
     ]
    },
    {
     "name": "stderr",
     "output_type": "stream",
     "text": [
      "19:53:19 - cmdstanpy - INFO - Chain [1] done processing\n",
      "19:53:20 - cmdstanpy - INFO - Chain [1] start processing\n",
      "19:53:20 - cmdstanpy - INFO - Chain [1] done processing\n"
     ]
    },
    {
     "name": "stdout",
     "output_type": "stream",
     "text": [
      "2024-02-25 00:00:00\n",
      "2024-02-25 00:00:00\n"
     ]
    },
    {
     "name": "stderr",
     "output_type": "stream",
     "text": [
      "19:53:20 - cmdstanpy - INFO - Chain [1] start processing\n",
      "19:53:20 - cmdstanpy - INFO - Chain [1] done processing\n",
      "19:53:21 - cmdstanpy - INFO - Chain [1] start processing\n"
     ]
    },
    {
     "name": "stdout",
     "output_type": "stream",
     "text": [
      "2024-02-25 00:00:00\n"
     ]
    },
    {
     "name": "stderr",
     "output_type": "stream",
     "text": [
      "19:53:21 - cmdstanpy - INFO - Chain [1] done processing\n"
     ]
    },
    {
     "name": "stdout",
     "output_type": "stream",
     "text": [
      "2024-02-25 00:00:00\n"
     ]
    },
    {
     "name": "stderr",
     "output_type": "stream",
     "text": [
      "19:53:21 - cmdstanpy - INFO - Chain [1] start processing\n",
      "19:53:21 - cmdstanpy - INFO - Chain [1] done processing\n",
      "19:53:22 - cmdstanpy - INFO - Chain [1] start processing\n"
     ]
    },
    {
     "name": "stdout",
     "output_type": "stream",
     "text": [
      "2024-02-25 00:00:00\n"
     ]
    },
    {
     "name": "stderr",
     "output_type": "stream",
     "text": [
      "19:53:22 - cmdstanpy - INFO - Chain [1] done processing\n"
     ]
    },
    {
     "name": "stdout",
     "output_type": "stream",
     "text": [
      "2024-02-25 00:00:00\n"
     ]
    },
    {
     "name": "stderr",
     "output_type": "stream",
     "text": [
      "19:53:22 - cmdstanpy - INFO - Chain [1] start processing\n",
      "19:53:22 - cmdstanpy - INFO - Chain [1] done processing\n",
      "19:53:23 - cmdstanpy - INFO - Chain [1] start processing\n"
     ]
    },
    {
     "name": "stdout",
     "output_type": "stream",
     "text": [
      "2024-02-25 00:00:00\n"
     ]
    },
    {
     "name": "stderr",
     "output_type": "stream",
     "text": [
      "19:53:23 - cmdstanpy - INFO - Chain [1] done processing\n"
     ]
    },
    {
     "name": "stdout",
     "output_type": "stream",
     "text": [
      "2024-02-25 00:00:00\n"
     ]
    },
    {
     "name": "stderr",
     "output_type": "stream",
     "text": [
      "19:53:23 - cmdstanpy - INFO - Chain [1] start processing\n",
      "19:53:24 - cmdstanpy - INFO - Chain [1] done processing\n",
      "19:53:24 - cmdstanpy - INFO - Chain [1] start processing\n"
     ]
    },
    {
     "name": "stdout",
     "output_type": "stream",
     "text": [
      "2024-02-25 00:00:00\n"
     ]
    },
    {
     "name": "stderr",
     "output_type": "stream",
     "text": [
      "19:53:24 - cmdstanpy - INFO - Chain [1] done processing\n",
      "19:53:24 - cmdstanpy - INFO - Chain [1] start processing\n"
     ]
    },
    {
     "name": "stdout",
     "output_type": "stream",
     "text": [
      "2024-02-25 00:00:00\n"
     ]
    },
    {
     "name": "stderr",
     "output_type": "stream",
     "text": [
      "19:53:24 - cmdstanpy - INFO - Chain [1] done processing\n",
      "19:53:25 - cmdstanpy - INFO - Chain [1] start processing\n",
      "19:53:25 - cmdstanpy - INFO - Chain [1] done processing\n"
     ]
    },
    {
     "name": "stdout",
     "output_type": "stream",
     "text": [
      "2024-02-25 00:00:00\n"
     ]
    },
    {
     "name": "stderr",
     "output_type": "stream",
     "text": [
      "19:53:25 - cmdstanpy - INFO - Chain [1] start processing\n"
     ]
    },
    {
     "name": "stdout",
     "output_type": "stream",
     "text": [
      "2024-02-25 00:00:00\n"
     ]
    },
    {
     "name": "stderr",
     "output_type": "stream",
     "text": [
      "19:53:25 - cmdstanpy - INFO - Chain [1] done processing\n",
      "19:53:26 - cmdstanpy - INFO - Chain [1] start processing\n"
     ]
    },
    {
     "name": "stdout",
     "output_type": "stream",
     "text": [
      "2024-02-25 00:00:00\n"
     ]
    },
    {
     "name": "stderr",
     "output_type": "stream",
     "text": [
      "19:53:26 - cmdstanpy - INFO - Chain [1] done processing\n",
      "19:53:26 - cmdstanpy - INFO - Chain [1] start processing\n"
     ]
    },
    {
     "name": "stdout",
     "output_type": "stream",
     "text": [
      "2024-02-25 00:00:00\n"
     ]
    },
    {
     "name": "stderr",
     "output_type": "stream",
     "text": [
      "19:53:26 - cmdstanpy - INFO - Chain [1] done processing\n",
      "19:53:26 - cmdstanpy - INFO - Chain [1] start processing\n"
     ]
    },
    {
     "name": "stdout",
     "output_type": "stream",
     "text": [
      "2024-02-25 00:00:00\n"
     ]
    },
    {
     "name": "stderr",
     "output_type": "stream",
     "text": [
      "19:53:26 - cmdstanpy - INFO - Chain [1] done processing\n",
      "19:53:27 - cmdstanpy - INFO - Chain [1] start processing\n"
     ]
    },
    {
     "name": "stdout",
     "output_type": "stream",
     "text": [
      "2024-02-25 00:00:00\n"
     ]
    },
    {
     "name": "stderr",
     "output_type": "stream",
     "text": [
      "19:53:27 - cmdstanpy - INFO - Chain [1] done processing\n",
      "19:53:27 - cmdstanpy - INFO - Chain [1] start processing\n"
     ]
    },
    {
     "name": "stdout",
     "output_type": "stream",
     "text": [
      "2024-02-25 00:00:00\n"
     ]
    },
    {
     "name": "stderr",
     "output_type": "stream",
     "text": [
      "19:53:27 - cmdstanpy - INFO - Chain [1] done processing\n",
      "19:53:27 - cmdstanpy - INFO - Chain [1] start processing\n"
     ]
    },
    {
     "name": "stdout",
     "output_type": "stream",
     "text": [
      "2024-02-25 00:00:00\n"
     ]
    },
    {
     "name": "stderr",
     "output_type": "stream",
     "text": [
      "19:53:27 - cmdstanpy - INFO - Chain [1] done processing\n",
      "19:53:28 - cmdstanpy - INFO - Chain [1] start processing\n"
     ]
    },
    {
     "name": "stdout",
     "output_type": "stream",
     "text": [
      "2024-02-25 00:00:00\n"
     ]
    },
    {
     "name": "stderr",
     "output_type": "stream",
     "text": [
      "19:53:28 - cmdstanpy - INFO - Chain [1] done processing\n",
      "19:53:28 - cmdstanpy - INFO - Chain [1] start processing\n",
      "19:53:28 - cmdstanpy - INFO - Chain [1] done processing\n"
     ]
    },
    {
     "name": "stdout",
     "output_type": "stream",
     "text": [
      "2024-02-25 00:00:00\n"
     ]
    },
    {
     "name": "stderr",
     "output_type": "stream",
     "text": [
      "19:53:28 - cmdstanpy - INFO - Chain [1] start processing\n"
     ]
    },
    {
     "name": "stdout",
     "output_type": "stream",
     "text": [
      "2024-02-25 00:00:00\n"
     ]
    },
    {
     "name": "stderr",
     "output_type": "stream",
     "text": [
      "19:53:29 - cmdstanpy - INFO - Chain [1] done processing\n",
      "19:53:29 - cmdstanpy - INFO - Chain [1] start processing\n"
     ]
    },
    {
     "name": "stdout",
     "output_type": "stream",
     "text": [
      "2024-02-25 00:00:00\n"
     ]
    },
    {
     "name": "stderr",
     "output_type": "stream",
     "text": [
      "19:53:29 - cmdstanpy - INFO - Chain [1] done processing\n",
      "19:53:29 - cmdstanpy - INFO - Chain [1] start processing\n",
      "19:53:29 - cmdstanpy - INFO - Chain [1] done processing\n"
     ]
    },
    {
     "name": "stdout",
     "output_type": "stream",
     "text": [
      "2024-02-25 00:00:00\n"
     ]
    },
    {
     "name": "stderr",
     "output_type": "stream",
     "text": [
      "19:53:30 - cmdstanpy - INFO - Chain [1] start processing\n"
     ]
    },
    {
     "name": "stdout",
     "output_type": "stream",
     "text": [
      "2024-02-25 00:00:00\n"
     ]
    },
    {
     "name": "stderr",
     "output_type": "stream",
     "text": [
      "19:53:30 - cmdstanpy - INFO - Chain [1] done processing\n",
      "19:53:30 - cmdstanpy - INFO - Chain [1] start processing\n"
     ]
    },
    {
     "name": "stdout",
     "output_type": "stream",
     "text": [
      "2024-02-25 00:00:00\n"
     ]
    },
    {
     "name": "stderr",
     "output_type": "stream",
     "text": [
      "19:53:30 - cmdstanpy - INFO - Chain [1] done processing\n",
      "19:53:30 - cmdstanpy - INFO - Chain [1] start processing\n"
     ]
    },
    {
     "name": "stdout",
     "output_type": "stream",
     "text": [
      "2024-02-25 00:00:00\n"
     ]
    },
    {
     "name": "stderr",
     "output_type": "stream",
     "text": [
      "19:53:30 - cmdstanpy - INFO - Chain [1] done processing\n",
      "19:53:31 - cmdstanpy - INFO - Chain [1] start processing\n"
     ]
    },
    {
     "name": "stdout",
     "output_type": "stream",
     "text": [
      "2024-02-25 00:00:00\n"
     ]
    },
    {
     "name": "stderr",
     "output_type": "stream",
     "text": [
      "19:53:31 - cmdstanpy - INFO - Chain [1] done processing\n",
      "19:53:31 - cmdstanpy - INFO - Chain [1] start processing\n",
      "19:53:31 - cmdstanpy - INFO - Chain [1] done processing\n"
     ]
    },
    {
     "name": "stdout",
     "output_type": "stream",
     "text": [
      "2024-02-25 00:00:00\n"
     ]
    },
    {
     "name": "stderr",
     "output_type": "stream",
     "text": [
      "19:53:32 - cmdstanpy - INFO - Chain [1] start processing\n"
     ]
    },
    {
     "name": "stdout",
     "output_type": "stream",
     "text": [
      "2024-02-25 00:00:00\n"
     ]
    },
    {
     "name": "stderr",
     "output_type": "stream",
     "text": [
      "19:53:32 - cmdstanpy - INFO - Chain [1] done processing\n",
      "19:53:32 - cmdstanpy - INFO - Chain [1] start processing\n"
     ]
    },
    {
     "name": "stdout",
     "output_type": "stream",
     "text": [
      "2024-02-25 00:00:00\n"
     ]
    },
    {
     "name": "stderr",
     "output_type": "stream",
     "text": [
      "19:53:32 - cmdstanpy - INFO - Chain [1] done processing\n",
      "19:53:32 - cmdstanpy - INFO - Chain [1] start processing\n",
      "19:53:32 - cmdstanpy - INFO - Chain [1] done processing\n"
     ]
    },
    {
     "name": "stdout",
     "output_type": "stream",
     "text": [
      "2024-02-25 00:00:00\n"
     ]
    },
    {
     "name": "stderr",
     "output_type": "stream",
     "text": [
      "19:53:33 - cmdstanpy - INFO - Chain [1] start processing\n"
     ]
    },
    {
     "name": "stdout",
     "output_type": "stream",
     "text": [
      "2024-02-25 00:00:00\n"
     ]
    },
    {
     "name": "stderr",
     "output_type": "stream",
     "text": [
      "19:53:33 - cmdstanpy - INFO - Chain [1] done processing\n",
      "19:53:33 - cmdstanpy - INFO - Chain [1] start processing\n"
     ]
    },
    {
     "name": "stdout",
     "output_type": "stream",
     "text": [
      "2024-02-25 00:00:00\n"
     ]
    },
    {
     "name": "stderr",
     "output_type": "stream",
     "text": [
      "19:53:33 - cmdstanpy - INFO - Chain [1] done processing\n",
      "19:53:34 - cmdstanpy - INFO - Chain [1] start processing\n"
     ]
    },
    {
     "name": "stdout",
     "output_type": "stream",
     "text": [
      "2024-02-25 00:00:00\n"
     ]
    },
    {
     "name": "stderr",
     "output_type": "stream",
     "text": [
      "19:53:34 - cmdstanpy - INFO - Chain [1] done processing\n",
      "19:53:34 - cmdstanpy - INFO - Chain [1] start processing\n"
     ]
    },
    {
     "name": "stdout",
     "output_type": "stream",
     "text": [
      "2024-02-25 00:00:00\n"
     ]
    },
    {
     "name": "stderr",
     "output_type": "stream",
     "text": [
      "19:53:34 - cmdstanpy - INFO - Chain [1] done processing\n"
     ]
    },
    {
     "name": "stdout",
     "output_type": "stream",
     "text": [
      "2024-02-25 00:00:00\n"
     ]
    },
    {
     "name": "stderr",
     "output_type": "stream",
     "text": [
      "19:53:35 - cmdstanpy - INFO - Chain [1] start processing\n",
      "19:53:35 - cmdstanpy - INFO - Chain [1] done processing\n",
      "19:53:35 - cmdstanpy - INFO - Chain [1] start processing\n"
     ]
    },
    {
     "name": "stdout",
     "output_type": "stream",
     "text": [
      "2024-02-25 00:00:00\n"
     ]
    },
    {
     "name": "stderr",
     "output_type": "stream",
     "text": [
      "19:53:35 - cmdstanpy - INFO - Chain [1] done processing\n",
      "19:53:35 - cmdstanpy - INFO - Chain [1] start processing\n"
     ]
    },
    {
     "name": "stdout",
     "output_type": "stream",
     "text": [
      "2024-02-25 00:00:00\n"
     ]
    },
    {
     "name": "stderr",
     "output_type": "stream",
     "text": [
      "19:53:36 - cmdstanpy - INFO - Chain [1] done processing\n",
      "19:53:36 - cmdstanpy - INFO - Chain [1] start processing\n",
      "19:53:36 - cmdstanpy - INFO - Chain [1] done processing\n"
     ]
    },
    {
     "name": "stdout",
     "output_type": "stream",
     "text": [
      "2024-02-25 00:00:00\n"
     ]
    },
    {
     "name": "stderr",
     "output_type": "stream",
     "text": [
      "19:53:36 - cmdstanpy - INFO - Chain [1] start processing\n"
     ]
    },
    {
     "name": "stdout",
     "output_type": "stream",
     "text": [
      "2024-02-25 00:00:00\n"
     ]
    },
    {
     "name": "stderr",
     "output_type": "stream",
     "text": [
      "19:53:36 - cmdstanpy - INFO - Chain [1] done processing\n",
      "19:53:37 - cmdstanpy - INFO - Chain [1] start processing\n"
     ]
    },
    {
     "name": "stdout",
     "output_type": "stream",
     "text": [
      "2024-02-25 00:00:00\n"
     ]
    },
    {
     "name": "stderr",
     "output_type": "stream",
     "text": [
      "19:53:37 - cmdstanpy - INFO - Chain [1] done processing\n",
      "19:53:37 - cmdstanpy - INFO - Chain [1] start processing\n"
     ]
    },
    {
     "name": "stdout",
     "output_type": "stream",
     "text": [
      "2024-02-25 00:00:00\n"
     ]
    },
    {
     "name": "stderr",
     "output_type": "stream",
     "text": [
      "19:53:37 - cmdstanpy - INFO - Chain [1] done processing\n",
      "19:53:37 - cmdstanpy - INFO - Chain [1] start processing\n",
      "19:53:38 - cmdstanpy - INFO - Chain [1] done processing\n"
     ]
    },
    {
     "name": "stdout",
     "output_type": "stream",
     "text": [
      "2024-02-25 00:00:00\n"
     ]
    },
    {
     "name": "stderr",
     "output_type": "stream",
     "text": [
      "19:53:38 - cmdstanpy - INFO - Chain [1] start processing\n"
     ]
    },
    {
     "name": "stdout",
     "output_type": "stream",
     "text": [
      "2024-02-25 00:00:00\n"
     ]
    },
    {
     "name": "stderr",
     "output_type": "stream",
     "text": [
      "19:53:38 - cmdstanpy - INFO - Chain [1] done processing\n",
      "19:53:38 - cmdstanpy - INFO - Chain [1] start processing\n"
     ]
    },
    {
     "name": "stdout",
     "output_type": "stream",
     "text": [
      "2024-02-25 00:00:00\n"
     ]
    },
    {
     "name": "stderr",
     "output_type": "stream",
     "text": [
      "19:53:38 - cmdstanpy - INFO - Chain [1] done processing\n",
      "19:53:39 - cmdstanpy - INFO - Chain [1] start processing\n"
     ]
    },
    {
     "name": "stdout",
     "output_type": "stream",
     "text": [
      "2024-02-25 00:00:00\n"
     ]
    },
    {
     "name": "stderr",
     "output_type": "stream",
     "text": [
      "19:53:39 - cmdstanpy - INFO - Chain [1] done processing\n",
      "19:53:39 - cmdstanpy - INFO - Chain [1] start processing\n"
     ]
    },
    {
     "name": "stdout",
     "output_type": "stream",
     "text": [
      "2024-02-25 00:00:00\n"
     ]
    },
    {
     "name": "stderr",
     "output_type": "stream",
     "text": [
      "19:53:40 - cmdstanpy - INFO - Chain [1] done processing\n",
      "19:53:40 - cmdstanpy - INFO - Chain [1] start processing\n",
      "19:53:40 - cmdstanpy - INFO - Chain [1] done processing\n"
     ]
    },
    {
     "name": "stdout",
     "output_type": "stream",
     "text": [
      "2024-02-25 00:00:00\n"
     ]
    },
    {
     "name": "stderr",
     "output_type": "stream",
     "text": [
      "19:53:40 - cmdstanpy - INFO - Chain [1] start processing\n"
     ]
    },
    {
     "name": "stdout",
     "output_type": "stream",
     "text": [
      "2024-02-25 00:00:00\n"
     ]
    },
    {
     "name": "stderr",
     "output_type": "stream",
     "text": [
      "19:53:40 - cmdstanpy - INFO - Chain [1] done processing\n",
      "19:53:41 - cmdstanpy - INFO - Chain [1] start processing\n"
     ]
    },
    {
     "name": "stdout",
     "output_type": "stream",
     "text": [
      "2024-02-25 00:00:00\n"
     ]
    },
    {
     "name": "stderr",
     "output_type": "stream",
     "text": [
      "19:53:41 - cmdstanpy - INFO - Chain [1] done processing\n",
      "19:53:41 - cmdstanpy - INFO - Chain [1] start processing\n",
      "19:53:41 - cmdstanpy - INFO - Chain [1] done processing\n"
     ]
    },
    {
     "name": "stdout",
     "output_type": "stream",
     "text": [
      "2024-02-25 00:00:00\n"
     ]
    },
    {
     "name": "stderr",
     "output_type": "stream",
     "text": [
      "19:53:41 - cmdstanpy - INFO - Chain [1] start processing\n"
     ]
    },
    {
     "name": "stdout",
     "output_type": "stream",
     "text": [
      "2024-02-25 00:00:00\n"
     ]
    },
    {
     "name": "stderr",
     "output_type": "stream",
     "text": [
      "19:53:41 - cmdstanpy - INFO - Chain [1] done processing\n",
      "19:53:42 - cmdstanpy - INFO - Chain [1] start processing\n"
     ]
    },
    {
     "name": "stdout",
     "output_type": "stream",
     "text": [
      "2024-02-25 00:00:00\n"
     ]
    },
    {
     "name": "stderr",
     "output_type": "stream",
     "text": [
      "19:53:42 - cmdstanpy - INFO - Chain [1] done processing\n",
      "19:53:42 - cmdstanpy - INFO - Chain [1] start processing\n",
      "19:53:42 - cmdstanpy - INFO - Chain [1] done processing\n"
     ]
    },
    {
     "name": "stdout",
     "output_type": "stream",
     "text": [
      "2024-02-25 00:00:00\n"
     ]
    },
    {
     "name": "stderr",
     "output_type": "stream",
     "text": [
      "19:53:42 - cmdstanpy - INFO - Chain [1] start processing\n"
     ]
    },
    {
     "name": "stdout",
     "output_type": "stream",
     "text": [
      "2024-02-25 00:00:00\n"
     ]
    },
    {
     "name": "stderr",
     "output_type": "stream",
     "text": [
      "19:53:43 - cmdstanpy - INFO - Chain [1] done processing\n",
      "19:53:43 - cmdstanpy - INFO - Chain [1] start processing\n"
     ]
    },
    {
     "name": "stdout",
     "output_type": "stream",
     "text": [
      "2024-02-25 00:00:00\n"
     ]
    },
    {
     "name": "stderr",
     "output_type": "stream",
     "text": [
      "19:53:43 - cmdstanpy - INFO - Chain [1] done processing\n",
      "19:53:43 - cmdstanpy - INFO - Chain [1] start processing\n",
      "19:53:43 - cmdstanpy - INFO - Chain [1] done processing\n"
     ]
    },
    {
     "name": "stdout",
     "output_type": "stream",
     "text": [
      "2024-02-25 00:00:00\n"
     ]
    },
    {
     "name": "stderr",
     "output_type": "stream",
     "text": [
      "19:53:44 - cmdstanpy - INFO - Chain [1] start processing\n"
     ]
    },
    {
     "name": "stdout",
     "output_type": "stream",
     "text": [
      "2024-02-25 00:00:00\n"
     ]
    },
    {
     "name": "stderr",
     "output_type": "stream",
     "text": [
      "19:53:44 - cmdstanpy - INFO - Chain [1] done processing\n",
      "19:53:44 - cmdstanpy - INFO - Chain [1] start processing\n",
      "19:53:44 - cmdstanpy - INFO - Chain [1] done processing\n"
     ]
    },
    {
     "name": "stdout",
     "output_type": "stream",
     "text": [
      "2024-02-25 00:00:00\n"
     ]
    },
    {
     "name": "stderr",
     "output_type": "stream",
     "text": [
      "19:53:45 - cmdstanpy - INFO - Chain [1] start processing\n"
     ]
    },
    {
     "name": "stdout",
     "output_type": "stream",
     "text": [
      "2024-02-25 00:00:00\n"
     ]
    },
    {
     "name": "stderr",
     "output_type": "stream",
     "text": [
      "19:53:45 - cmdstanpy - INFO - Chain [1] done processing\n",
      "19:53:45 - cmdstanpy - INFO - Chain [1] start processing\n"
     ]
    },
    {
     "name": "stdout",
     "output_type": "stream",
     "text": [
      "2024-02-25 00:00:00\n"
     ]
    },
    {
     "name": "stderr",
     "output_type": "stream",
     "text": [
      "19:53:45 - cmdstanpy - INFO - Chain [1] done processing\n",
      "19:53:45 - cmdstanpy - INFO - Chain [1] start processing\n"
     ]
    },
    {
     "name": "stdout",
     "output_type": "stream",
     "text": [
      "2024-02-25 00:00:00\n"
     ]
    },
    {
     "name": "stderr",
     "output_type": "stream",
     "text": [
      "19:53:45 - cmdstanpy - INFO - Chain [1] done processing\n",
      "19:53:46 - cmdstanpy - INFO - Chain [1] start processing\n"
     ]
    },
    {
     "name": "stdout",
     "output_type": "stream",
     "text": [
      "2024-02-25 00:00:00\n"
     ]
    },
    {
     "name": "stderr",
     "output_type": "stream",
     "text": [
      "19:53:46 - cmdstanpy - INFO - Chain [1] done processing\n",
      "19:53:46 - cmdstanpy - INFO - Chain [1] start processing\n"
     ]
    },
    {
     "name": "stdout",
     "output_type": "stream",
     "text": [
      "2024-02-25 00:00:00\n"
     ]
    },
    {
     "name": "stderr",
     "output_type": "stream",
     "text": [
      "19:53:46 - cmdstanpy - INFO - Chain [1] done processing\n",
      "19:53:47 - cmdstanpy - INFO - Chain [1] start processing\n",
      "19:53:47 - cmdstanpy - INFO - Chain [1] done processing\n"
     ]
    },
    {
     "name": "stdout",
     "output_type": "stream",
     "text": [
      "2024-02-25 00:00:00\n"
     ]
    },
    {
     "name": "stderr",
     "output_type": "stream",
     "text": [
      "19:53:47 - cmdstanpy - INFO - Chain [1] start processing\n"
     ]
    },
    {
     "name": "stdout",
     "output_type": "stream",
     "text": [
      "2024-02-25 00:00:00\n"
     ]
    },
    {
     "name": "stderr",
     "output_type": "stream",
     "text": [
      "19:53:48 - cmdstanpy - INFO - Chain [1] done processing\n",
      "19:53:48 - cmdstanpy - INFO - Chain [1] start processing\n"
     ]
    },
    {
     "name": "stdout",
     "output_type": "stream",
     "text": [
      "2024-02-25 00:00:00\n"
     ]
    },
    {
     "name": "stderr",
     "output_type": "stream",
     "text": [
      "19:53:48 - cmdstanpy - INFO - Chain [1] done processing\n",
      "19:53:48 - cmdstanpy - INFO - Chain [1] start processing\n"
     ]
    },
    {
     "name": "stdout",
     "output_type": "stream",
     "text": [
      "2024-02-25 00:00:00\n"
     ]
    },
    {
     "name": "stderr",
     "output_type": "stream",
     "text": [
      "19:53:49 - cmdstanpy - INFO - Chain [1] done processing\n",
      "19:53:49 - cmdstanpy - INFO - Chain [1] start processing\n"
     ]
    },
    {
     "name": "stdout",
     "output_type": "stream",
     "text": [
      "2024-02-25 00:00:00\n"
     ]
    },
    {
     "name": "stderr",
     "output_type": "stream",
     "text": [
      "19:53:49 - cmdstanpy - INFO - Chain [1] done processing\n",
      "19:53:49 - cmdstanpy - INFO - Chain [1] start processing\n",
      "19:53:49 - cmdstanpy - INFO - Chain [1] done processing\n"
     ]
    },
    {
     "name": "stdout",
     "output_type": "stream",
     "text": [
      "2024-02-25 00:00:00\n"
     ]
    },
    {
     "name": "stderr",
     "output_type": "stream",
     "text": [
      "19:53:50 - cmdstanpy - INFO - Chain [1] start processing\n"
     ]
    },
    {
     "name": "stdout",
     "output_type": "stream",
     "text": [
      "2024-02-25 00:00:00\n"
     ]
    },
    {
     "name": "stderr",
     "output_type": "stream",
     "text": [
      "19:53:50 - cmdstanpy - INFO - Chain [1] done processing\n",
      "19:53:50 - cmdstanpy - INFO - Chain [1] start processing\n",
      "19:53:50 - cmdstanpy - INFO - Chain [1] done processing\n"
     ]
    },
    {
     "name": "stdout",
     "output_type": "stream",
     "text": [
      "2024-02-25 00:00:00\n"
     ]
    },
    {
     "name": "stderr",
     "output_type": "stream",
     "text": [
      "19:53:50 - cmdstanpy - INFO - Chain [1] start processing\n"
     ]
    },
    {
     "name": "stdout",
     "output_type": "stream",
     "text": [
      "2024-02-25 00:00:00\n"
     ]
    },
    {
     "name": "stderr",
     "output_type": "stream",
     "text": [
      "19:53:50 - cmdstanpy - INFO - Chain [1] done processing\n",
      "19:53:51 - cmdstanpy - INFO - Chain [1] start processing\n"
     ]
    },
    {
     "name": "stdout",
     "output_type": "stream",
     "text": [
      "2024-02-25 00:00:00\n"
     ]
    },
    {
     "name": "stderr",
     "output_type": "stream",
     "text": [
      "19:53:51 - cmdstanpy - INFO - Chain [1] done processing\n",
      "19:53:51 - cmdstanpy - INFO - Chain [1] start processing\n"
     ]
    },
    {
     "name": "stdout",
     "output_type": "stream",
     "text": [
      "2024-02-25 00:00:00\n"
     ]
    },
    {
     "name": "stderr",
     "output_type": "stream",
     "text": [
      "19:53:51 - cmdstanpy - INFO - Chain [1] done processing\n",
      "19:53:52 - cmdstanpy - INFO - Chain [1] start processing\n",
      "19:53:52 - cmdstanpy - INFO - Chain [1] done processing\n"
     ]
    },
    {
     "name": "stdout",
     "output_type": "stream",
     "text": [
      "2024-02-25 00:00:00\n"
     ]
    },
    {
     "name": "stderr",
     "output_type": "stream",
     "text": [
      "19:53:52 - cmdstanpy - INFO - Chain [1] start processing\n"
     ]
    },
    {
     "name": "stdout",
     "output_type": "stream",
     "text": [
      "2024-02-25 00:00:00\n"
     ]
    },
    {
     "name": "stderr",
     "output_type": "stream",
     "text": [
      "19:53:52 - cmdstanpy - INFO - Chain [1] done processing\n",
      "19:53:52 - cmdstanpy - INFO - Chain [1] start processing\n"
     ]
    },
    {
     "name": "stdout",
     "output_type": "stream",
     "text": [
      "2024-02-25 00:00:00\n"
     ]
    },
    {
     "name": "stderr",
     "output_type": "stream",
     "text": [
      "19:53:52 - cmdstanpy - INFO - Chain [1] done processing\n",
      "19:53:53 - cmdstanpy - INFO - Chain [1] start processing\n"
     ]
    },
    {
     "name": "stdout",
     "output_type": "stream",
     "text": [
      "2024-02-25 00:00:00\n"
     ]
    },
    {
     "name": "stderr",
     "output_type": "stream",
     "text": [
      "19:53:53 - cmdstanpy - INFO - Chain [1] done processing\n",
      "19:53:53 - cmdstanpy - INFO - Chain [1] start processing\n"
     ]
    },
    {
     "name": "stdout",
     "output_type": "stream",
     "text": [
      "2024-02-25 00:00:00\n"
     ]
    },
    {
     "name": "stderr",
     "output_type": "stream",
     "text": [
      "19:53:53 - cmdstanpy - INFO - Chain [1] done processing\n",
      "19:53:54 - cmdstanpy - INFO - Chain [1] start processing\n"
     ]
    },
    {
     "name": "stdout",
     "output_type": "stream",
     "text": [
      "2024-02-25 00:00:00\n"
     ]
    },
    {
     "name": "stderr",
     "output_type": "stream",
     "text": [
      "19:53:54 - cmdstanpy - INFO - Chain [1] done processing\n",
      "19:53:54 - cmdstanpy - INFO - Chain [1] start processing\n"
     ]
    },
    {
     "name": "stdout",
     "output_type": "stream",
     "text": [
      "2024-02-25 00:00:00\n"
     ]
    },
    {
     "name": "stderr",
     "output_type": "stream",
     "text": [
      "19:53:54 - cmdstanpy - INFO - Chain [1] done processing\n",
      "19:53:55 - cmdstanpy - INFO - Chain [1] start processing\n"
     ]
    },
    {
     "name": "stdout",
     "output_type": "stream",
     "text": [
      "2024-02-25 00:00:00\n"
     ]
    },
    {
     "name": "stderr",
     "output_type": "stream",
     "text": [
      "19:53:55 - cmdstanpy - INFO - Chain [1] done processing\n",
      "19:53:55 - cmdstanpy - INFO - Chain [1] start processing\n"
     ]
    },
    {
     "name": "stdout",
     "output_type": "stream",
     "text": [
      "2024-02-25 00:00:00\n"
     ]
    },
    {
     "name": "stderr",
     "output_type": "stream",
     "text": [
      "19:53:55 - cmdstanpy - INFO - Chain [1] done processing\n",
      "19:53:55 - cmdstanpy - INFO - Chain [1] start processing\n"
     ]
    },
    {
     "name": "stdout",
     "output_type": "stream",
     "text": [
      "2024-02-25 00:00:00\n"
     ]
    },
    {
     "name": "stderr",
     "output_type": "stream",
     "text": [
      "19:53:56 - cmdstanpy - INFO - Chain [1] done processing\n",
      "19:53:56 - cmdstanpy - INFO - Chain [1] start processing\n"
     ]
    },
    {
     "name": "stdout",
     "output_type": "stream",
     "text": [
      "2024-02-25 00:00:00\n"
     ]
    },
    {
     "name": "stderr",
     "output_type": "stream",
     "text": [
      "19:53:56 - cmdstanpy - INFO - Chain [1] done processing\n",
      "19:53:56 - cmdstanpy - INFO - Chain [1] start processing\n"
     ]
    },
    {
     "name": "stdout",
     "output_type": "stream",
     "text": [
      "2024-02-25 00:00:00\n"
     ]
    },
    {
     "name": "stderr",
     "output_type": "stream",
     "text": [
      "19:53:56 - cmdstanpy - INFO - Chain [1] done processing\n",
      "19:53:57 - cmdstanpy - INFO - Chain [1] start processing\n"
     ]
    },
    {
     "name": "stdout",
     "output_type": "stream",
     "text": [
      "2024-02-25 00:00:00\n"
     ]
    },
    {
     "name": "stderr",
     "output_type": "stream",
     "text": [
      "19:53:57 - cmdstanpy - INFO - Chain [1] done processing\n"
     ]
    },
    {
     "name": "stdout",
     "output_type": "stream",
     "text": [
      "2024-02-25 00:00:00\n"
     ]
    },
    {
     "name": "stderr",
     "output_type": "stream",
     "text": [
      "19:53:57 - cmdstanpy - INFO - Chain [1] start processing\n",
      "19:53:57 - cmdstanpy - INFO - Chain [1] done processing\n",
      "19:53:57 - cmdstanpy - INFO - Chain [1] start processing\n"
     ]
    },
    {
     "name": "stdout",
     "output_type": "stream",
     "text": [
      "2024-02-25 00:00:00\n"
     ]
    },
    {
     "name": "stderr",
     "output_type": "stream",
     "text": [
      "19:53:58 - cmdstanpy - INFO - Chain [1] done processing\n",
      "19:53:58 - cmdstanpy - INFO - Chain [1] start processing\n",
      "19:53:58 - cmdstanpy - INFO - Chain [1] done processing\n"
     ]
    },
    {
     "name": "stdout",
     "output_type": "stream",
     "text": [
      "2024-02-25 00:00:00\n"
     ]
    },
    {
     "name": "stderr",
     "output_type": "stream",
     "text": [
      "19:53:58 - cmdstanpy - INFO - Chain [1] start processing\n"
     ]
    },
    {
     "name": "stdout",
     "output_type": "stream",
     "text": [
      "2024-02-25 00:00:00\n"
     ]
    },
    {
     "name": "stderr",
     "output_type": "stream",
     "text": [
      "19:53:58 - cmdstanpy - INFO - Chain [1] done processing\n",
      "19:53:59 - cmdstanpy - INFO - Chain [1] start processing\n"
     ]
    },
    {
     "name": "stdout",
     "output_type": "stream",
     "text": [
      "2024-02-25 00:00:00\n"
     ]
    },
    {
     "name": "stderr",
     "output_type": "stream",
     "text": [
      "19:53:59 - cmdstanpy - INFO - Chain [1] done processing\n",
      "19:53:59 - cmdstanpy - INFO - Chain [1] start processing\n"
     ]
    },
    {
     "name": "stdout",
     "output_type": "stream",
     "text": [
      "2024-02-25 00:00:00\n"
     ]
    },
    {
     "name": "stderr",
     "output_type": "stream",
     "text": [
      "19:53:59 - cmdstanpy - INFO - Chain [1] done processing\n",
      "19:54:00 - cmdstanpy - INFO - Chain [1] start processing\n"
     ]
    },
    {
     "name": "stdout",
     "output_type": "stream",
     "text": [
      "2024-02-25 00:00:00\n"
     ]
    },
    {
     "name": "stderr",
     "output_type": "stream",
     "text": [
      "19:54:00 - cmdstanpy - INFO - Chain [1] done processing\n",
      "19:54:00 - cmdstanpy - INFO - Chain [1] start processing\n",
      "19:54:00 - cmdstanpy - INFO - Chain [1] done processing\n"
     ]
    },
    {
     "name": "stdout",
     "output_type": "stream",
     "text": [
      "2024-02-25 00:00:00\n"
     ]
    },
    {
     "name": "stderr",
     "output_type": "stream",
     "text": [
      "19:54:00 - cmdstanpy - INFO - Chain [1] start processing\n",
      "19:54:00 - cmdstanpy - INFO - Chain [1] done processing\n"
     ]
    },
    {
     "name": "stdout",
     "output_type": "stream",
     "text": [
      "2024-02-25 00:00:00\n"
     ]
    },
    {
     "name": "stderr",
     "output_type": "stream",
     "text": [
      "19:54:01 - cmdstanpy - INFO - Chain [1] start processing\n"
     ]
    },
    {
     "name": "stdout",
     "output_type": "stream",
     "text": [
      "2024-02-25 00:00:00\n"
     ]
    },
    {
     "name": "stderr",
     "output_type": "stream",
     "text": [
      "19:54:01 - cmdstanpy - INFO - Chain [1] done processing\n",
      "19:54:01 - cmdstanpy - INFO - Chain [1] start processing\n"
     ]
    },
    {
     "name": "stdout",
     "output_type": "stream",
     "text": [
      "2024-02-25 00:00:00\n"
     ]
    },
    {
     "name": "stderr",
     "output_type": "stream",
     "text": [
      "19:54:01 - cmdstanpy - INFO - Chain [1] done processing\n",
      "19:54:02 - cmdstanpy - INFO - Chain [1] start processing\n",
      "19:54:02 - cmdstanpy - INFO - Chain [1] done processing\n"
     ]
    },
    {
     "name": "stdout",
     "output_type": "stream",
     "text": [
      "2024-02-25 00:00:00\n"
     ]
    },
    {
     "name": "stderr",
     "output_type": "stream",
     "text": [
      "19:54:02 - cmdstanpy - INFO - Chain [1] start processing\n",
      "19:54:02 - cmdstanpy - INFO - Chain [1] done processing\n"
     ]
    },
    {
     "name": "stdout",
     "output_type": "stream",
     "text": [
      "2024-02-25 00:00:00\n"
     ]
    },
    {
     "name": "stderr",
     "output_type": "stream",
     "text": [
      "19:54:02 - cmdstanpy - INFO - Chain [1] start processing\n"
     ]
    },
    {
     "name": "stdout",
     "output_type": "stream",
     "text": [
      "2024-02-25 00:00:00\n"
     ]
    },
    {
     "name": "stderr",
     "output_type": "stream",
     "text": [
      "19:54:03 - cmdstanpy - INFO - Chain [1] done processing\n",
      "19:54:03 - cmdstanpy - INFO - Chain [1] start processing\n"
     ]
    },
    {
     "name": "stdout",
     "output_type": "stream",
     "text": [
      "2024-02-25 00:00:00\n"
     ]
    },
    {
     "name": "stderr",
     "output_type": "stream",
     "text": [
      "19:54:03 - cmdstanpy - INFO - Chain [1] done processing\n",
      "19:54:03 - cmdstanpy - INFO - Chain [1] start processing\n"
     ]
    },
    {
     "name": "stdout",
     "output_type": "stream",
     "text": [
      "2024-02-25 00:00:00\n"
     ]
    },
    {
     "name": "stderr",
     "output_type": "stream",
     "text": [
      "19:54:03 - cmdstanpy - INFO - Chain [1] done processing\n",
      "19:54:04 - cmdstanpy - INFO - Chain [1] start processing\n"
     ]
    },
    {
     "name": "stdout",
     "output_type": "stream",
     "text": [
      "2024-02-25 00:00:00\n"
     ]
    },
    {
     "name": "stderr",
     "output_type": "stream",
     "text": [
      "19:54:04 - cmdstanpy - INFO - Chain [1] done processing\n",
      "19:54:04 - cmdstanpy - INFO - Chain [1] start processing\n",
      "19:54:04 - cmdstanpy - INFO - Chain [1] done processing\n"
     ]
    },
    {
     "name": "stdout",
     "output_type": "stream",
     "text": [
      "2024-02-25 00:00:00\n"
     ]
    },
    {
     "name": "stderr",
     "output_type": "stream",
     "text": [
      "19:54:04 - cmdstanpy - INFO - Chain [1] start processing\n"
     ]
    },
    {
     "name": "stdout",
     "output_type": "stream",
     "text": [
      "2024-02-25 00:00:00\n"
     ]
    },
    {
     "name": "stderr",
     "output_type": "stream",
     "text": [
      "19:54:04 - cmdstanpy - INFO - Chain [1] done processing\n",
      "19:54:05 - cmdstanpy - INFO - Chain [1] start processing\n"
     ]
    },
    {
     "name": "stdout",
     "output_type": "stream",
     "text": [
      "2024-02-25 00:00:00\n"
     ]
    },
    {
     "name": "stderr",
     "output_type": "stream",
     "text": [
      "19:54:05 - cmdstanpy - INFO - Chain [1] done processing\n",
      "19:54:05 - cmdstanpy - INFO - Chain [1] start processing\n",
      "19:54:05 - cmdstanpy - INFO - Chain [1] done processing\n"
     ]
    },
    {
     "name": "stdout",
     "output_type": "stream",
     "text": [
      "2024-02-25 00:00:00\n"
     ]
    },
    {
     "name": "stderr",
     "output_type": "stream",
     "text": [
      "19:54:05 - cmdstanpy - INFO - Chain [1] start processing\n"
     ]
    },
    {
     "name": "stdout",
     "output_type": "stream",
     "text": [
      "2024-02-25 00:00:00\n"
     ]
    },
    {
     "name": "stderr",
     "output_type": "stream",
     "text": [
      "19:54:06 - cmdstanpy - INFO - Chain [1] done processing\n",
      "19:54:06 - cmdstanpy - INFO - Chain [1] start processing\n"
     ]
    },
    {
     "name": "stdout",
     "output_type": "stream",
     "text": [
      "2024-02-25 00:00:00\n"
     ]
    },
    {
     "name": "stderr",
     "output_type": "stream",
     "text": [
      "19:54:06 - cmdstanpy - INFO - Chain [1] done processing\n",
      "19:54:07 - cmdstanpy - INFO - Chain [1] start processing\n",
      "19:54:07 - cmdstanpy - INFO - Chain [1] done processing\n"
     ]
    },
    {
     "name": "stdout",
     "output_type": "stream",
     "text": [
      "2024-02-25 00:00:00\n"
     ]
    },
    {
     "name": "stderr",
     "output_type": "stream",
     "text": [
      "19:54:07 - cmdstanpy - INFO - Chain [1] start processing\n"
     ]
    },
    {
     "name": "stdout",
     "output_type": "stream",
     "text": [
      "2024-02-25 00:00:00\n"
     ]
    },
    {
     "name": "stderr",
     "output_type": "stream",
     "text": [
      "19:54:07 - cmdstanpy - INFO - Chain [1] done processing\n",
      "19:54:07 - cmdstanpy - INFO - Chain [1] start processing\n"
     ]
    },
    {
     "name": "stdout",
     "output_type": "stream",
     "text": [
      "2024-02-25 00:00:00\n"
     ]
    },
    {
     "name": "stderr",
     "output_type": "stream",
     "text": [
      "19:54:08 - cmdstanpy - INFO - Chain [1] done processing\n",
      "19:54:08 - cmdstanpy - INFO - Chain [1] start processing\n",
      "19:54:08 - cmdstanpy - INFO - Chain [1] done processing\n"
     ]
    },
    {
     "name": "stdout",
     "output_type": "stream",
     "text": [
      "2024-02-25 00:00:00\n"
     ]
    },
    {
     "name": "stderr",
     "output_type": "stream",
     "text": [
      "19:54:08 - cmdstanpy - INFO - Chain [1] start processing\n"
     ]
    },
    {
     "name": "stdout",
     "output_type": "stream",
     "text": [
      "2024-02-25 00:00:00\n"
     ]
    },
    {
     "name": "stderr",
     "output_type": "stream",
     "text": [
      "19:54:08 - cmdstanpy - INFO - Chain [1] done processing\n",
      "19:54:09 - cmdstanpy - INFO - Chain [1] start processing\n",
      "19:54:09 - cmdstanpy - INFO - Chain [1] done processing\n"
     ]
    },
    {
     "name": "stdout",
     "output_type": "stream",
     "text": [
      "2024-02-25 00:00:00\n"
     ]
    },
    {
     "name": "stderr",
     "output_type": "stream",
     "text": [
      "19:54:09 - cmdstanpy - INFO - Chain [1] start processing\n"
     ]
    },
    {
     "name": "stdout",
     "output_type": "stream",
     "text": [
      "2024-02-25 00:00:00\n"
     ]
    },
    {
     "name": "stderr",
     "output_type": "stream",
     "text": [
      "19:54:09 - cmdstanpy - INFO - Chain [1] done processing\n",
      "19:54:09 - cmdstanpy - INFO - Chain [1] start processing\n",
      "19:54:09 - cmdstanpy - INFO - Chain [1] done processing\n"
     ]
    },
    {
     "name": "stdout",
     "output_type": "stream",
     "text": [
      "2024-02-25 00:00:00\n"
     ]
    },
    {
     "name": "stderr",
     "output_type": "stream",
     "text": [
      "19:54:10 - cmdstanpy - INFO - Chain [1] start processing\n"
     ]
    },
    {
     "name": "stdout",
     "output_type": "stream",
     "text": [
      "2024-02-25 00:00:00\n"
     ]
    },
    {
     "name": "stderr",
     "output_type": "stream",
     "text": [
      "19:54:10 - cmdstanpy - INFO - Chain [1] done processing\n",
      "19:54:10 - cmdstanpy - INFO - Chain [1] start processing\n"
     ]
    },
    {
     "name": "stdout",
     "output_type": "stream",
     "text": [
      "2024-02-25 00:00:00\n"
     ]
    },
    {
     "name": "stderr",
     "output_type": "stream",
     "text": [
      "19:54:10 - cmdstanpy - INFO - Chain [1] done processing\n",
      "19:54:11 - cmdstanpy - INFO - Chain [1] start processing\n"
     ]
    },
    {
     "name": "stdout",
     "output_type": "stream",
     "text": [
      "2024-02-25 00:00:00\n"
     ]
    },
    {
     "name": "stderr",
     "output_type": "stream",
     "text": [
      "19:54:11 - cmdstanpy - INFO - Chain [1] done processing\n",
      "19:54:11 - cmdstanpy - INFO - Chain [1] start processing\n"
     ]
    },
    {
     "name": "stdout",
     "output_type": "stream",
     "text": [
      "2024-02-25 00:00:00\n"
     ]
    },
    {
     "name": "stderr",
     "output_type": "stream",
     "text": [
      "19:54:11 - cmdstanpy - INFO - Chain [1] done processing\n",
      "19:54:11 - cmdstanpy - INFO - Chain [1] start processing\n"
     ]
    },
    {
     "name": "stdout",
     "output_type": "stream",
     "text": [
      "2024-02-25 00:00:00\n"
     ]
    },
    {
     "name": "stderr",
     "output_type": "stream",
     "text": [
      "19:54:11 - cmdstanpy - INFO - Chain [1] done processing\n",
      "19:54:12 - cmdstanpy - INFO - Chain [1] start processing\n"
     ]
    },
    {
     "name": "stdout",
     "output_type": "stream",
     "text": [
      "2024-02-25 00:00:00\n"
     ]
    },
    {
     "name": "stderr",
     "output_type": "stream",
     "text": [
      "19:54:12 - cmdstanpy - INFO - Chain [1] done processing\n",
      "19:54:12 - cmdstanpy - INFO - Chain [1] start processing\n"
     ]
    },
    {
     "name": "stdout",
     "output_type": "stream",
     "text": [
      "2024-02-25 00:00:00\n"
     ]
    },
    {
     "name": "stderr",
     "output_type": "stream",
     "text": [
      "19:54:13 - cmdstanpy - INFO - Chain [1] done processing\n",
      "19:54:13 - cmdstanpy - INFO - Chain [1] start processing\n",
      "19:54:13 - cmdstanpy - INFO - Chain [1] done processing\n"
     ]
    },
    {
     "name": "stdout",
     "output_type": "stream",
     "text": [
      "2024-02-25 00:00:00\n"
     ]
    },
    {
     "name": "stderr",
     "output_type": "stream",
     "text": [
      "19:54:13 - cmdstanpy - INFO - Chain [1] start processing\n"
     ]
    },
    {
     "name": "stdout",
     "output_type": "stream",
     "text": [
      "2024-02-25 00:00:00\n"
     ]
    },
    {
     "name": "stderr",
     "output_type": "stream",
     "text": [
      "19:54:13 - cmdstanpy - INFO - Chain [1] done processing\n",
      "19:54:14 - cmdstanpy - INFO - Chain [1] start processing\n",
      "19:54:14 - cmdstanpy - INFO - Chain [1] done processing\n"
     ]
    },
    {
     "name": "stdout",
     "output_type": "stream",
     "text": [
      "2024-02-25 00:00:00\n"
     ]
    },
    {
     "name": "stderr",
     "output_type": "stream",
     "text": [
      "19:54:14 - cmdstanpy - INFO - Chain [1] start processing\n"
     ]
    },
    {
     "name": "stdout",
     "output_type": "stream",
     "text": [
      "2024-02-25 00:00:00\n"
     ]
    },
    {
     "name": "stderr",
     "output_type": "stream",
     "text": [
      "19:54:14 - cmdstanpy - INFO - Chain [1] done processing\n"
     ]
    },
    {
     "name": "stdout",
     "output_type": "stream",
     "text": [
      "2024-02-25 00:00:00\n"
     ]
    },
    {
     "name": "stderr",
     "output_type": "stream",
     "text": [
      "19:54:15 - cmdstanpy - INFO - Chain [1] start processing\n",
      "19:54:15 - cmdstanpy - INFO - Chain [1] done processing\n",
      "19:54:15 - cmdstanpy - INFO - Chain [1] start processing\n",
      "19:54:15 - cmdstanpy - INFO - Chain [1] done processing\n"
     ]
    },
    {
     "name": "stdout",
     "output_type": "stream",
     "text": [
      "2024-02-25 00:00:00\n"
     ]
    },
    {
     "name": "stderr",
     "output_type": "stream",
     "text": [
      "19:54:15 - cmdstanpy - INFO - Chain [1] start processing\n"
     ]
    },
    {
     "name": "stdout",
     "output_type": "stream",
     "text": [
      "2024-02-25 00:00:00\n"
     ]
    },
    {
     "name": "stderr",
     "output_type": "stream",
     "text": [
      "19:54:16 - cmdstanpy - INFO - Chain [1] done processing\n",
      "19:54:16 - cmdstanpy - INFO - Chain [1] start processing\n",
      "19:54:16 - cmdstanpy - INFO - Chain [1] done processing\n"
     ]
    },
    {
     "name": "stdout",
     "output_type": "stream",
     "text": [
      "2024-02-25 00:00:00\n"
     ]
    },
    {
     "name": "stderr",
     "output_type": "stream",
     "text": [
      "19:54:16 - cmdstanpy - INFO - Chain [1] start processing\n"
     ]
    },
    {
     "name": "stdout",
     "output_type": "stream",
     "text": [
      "2024-02-25 00:00:00\n"
     ]
    },
    {
     "name": "stderr",
     "output_type": "stream",
     "text": [
      "19:54:16 - cmdstanpy - INFO - Chain [1] done processing\n",
      "19:54:17 - cmdstanpy - INFO - Chain [1] start processing\n"
     ]
    },
    {
     "name": "stdout",
     "output_type": "stream",
     "text": [
      "2024-02-25 00:00:00\n"
     ]
    },
    {
     "name": "stderr",
     "output_type": "stream",
     "text": [
      "19:54:17 - cmdstanpy - INFO - Chain [1] done processing\n",
      "19:54:17 - cmdstanpy - INFO - Chain [1] start processing\n"
     ]
    },
    {
     "name": "stdout",
     "output_type": "stream",
     "text": [
      "2024-02-25 00:00:00\n"
     ]
    },
    {
     "name": "stderr",
     "output_type": "stream",
     "text": [
      "19:54:17 - cmdstanpy - INFO - Chain [1] done processing\n",
      "19:54:18 - cmdstanpy - INFO - Chain [1] start processing\n",
      "19:54:18 - cmdstanpy - INFO - Chain [1] done processing\n"
     ]
    },
    {
     "name": "stdout",
     "output_type": "stream",
     "text": [
      "2024-02-25 00:00:00\n"
     ]
    },
    {
     "name": "stderr",
     "output_type": "stream",
     "text": [
      "19:54:18 - cmdstanpy - INFO - Chain [1] start processing\n"
     ]
    },
    {
     "name": "stdout",
     "output_type": "stream",
     "text": [
      "2024-02-25 00:00:00\n"
     ]
    },
    {
     "name": "stderr",
     "output_type": "stream",
     "text": [
      "19:54:18 - cmdstanpy - INFO - Chain [1] done processing\n",
      "19:54:18 - cmdstanpy - INFO - Chain [1] start processing\n"
     ]
    },
    {
     "name": "stdout",
     "output_type": "stream",
     "text": [
      "2024-02-25 00:00:00\n"
     ]
    },
    {
     "name": "stderr",
     "output_type": "stream",
     "text": [
      "19:54:18 - cmdstanpy - INFO - Chain [1] done processing\n",
      "19:54:19 - cmdstanpy - INFO - Chain [1] start processing\n"
     ]
    },
    {
     "name": "stdout",
     "output_type": "stream",
     "text": [
      "2024-02-25 00:00:00\n"
     ]
    },
    {
     "name": "stderr",
     "output_type": "stream",
     "text": [
      "19:54:19 - cmdstanpy - INFO - Chain [1] done processing\n",
      "19:54:19 - cmdstanpy - INFO - Chain [1] start processing\n"
     ]
    },
    {
     "name": "stdout",
     "output_type": "stream",
     "text": [
      "2024-02-25 00:00:00\n"
     ]
    },
    {
     "name": "stderr",
     "output_type": "stream",
     "text": [
      "19:54:19 - cmdstanpy - INFO - Chain [1] done processing\n",
      "19:54:20 - cmdstanpy - INFO - Chain [1] start processing\n"
     ]
    },
    {
     "name": "stdout",
     "output_type": "stream",
     "text": [
      "2024-02-25 00:00:00\n"
     ]
    },
    {
     "name": "stderr",
     "output_type": "stream",
     "text": [
      "19:54:20 - cmdstanpy - INFO - Chain [1] done processing\n",
      "19:54:20 - cmdstanpy - INFO - Chain [1] start processing\n",
      "19:54:20 - cmdstanpy - INFO - Chain [1] done processing\n"
     ]
    },
    {
     "name": "stdout",
     "output_type": "stream",
     "text": [
      "2024-02-25 00:00:00\n"
     ]
    },
    {
     "name": "stderr",
     "output_type": "stream",
     "text": [
      "19:54:20 - cmdstanpy - INFO - Chain [1] start processing\n"
     ]
    },
    {
     "name": "stdout",
     "output_type": "stream",
     "text": [
      "2024-02-25 00:00:00\n"
     ]
    },
    {
     "name": "stderr",
     "output_type": "stream",
     "text": [
      "19:54:20 - cmdstanpy - INFO - Chain [1] done processing\n",
      "19:54:21 - cmdstanpy - INFO - Chain [1] start processing\n"
     ]
    },
    {
     "name": "stdout",
     "output_type": "stream",
     "text": [
      "2024-02-25 00:00:00\n"
     ]
    },
    {
     "name": "stderr",
     "output_type": "stream",
     "text": [
      "19:54:21 - cmdstanpy - INFO - Chain [1] done processing\n",
      "19:54:21 - cmdstanpy - INFO - Chain [1] start processing\n"
     ]
    },
    {
     "name": "stdout",
     "output_type": "stream",
     "text": [
      "2024-02-25 00:00:00\n"
     ]
    },
    {
     "name": "stderr",
     "output_type": "stream",
     "text": [
      "19:54:21 - cmdstanpy - INFO - Chain [1] done processing\n",
      "19:54:22 - cmdstanpy - INFO - Chain [1] start processing\n"
     ]
    },
    {
     "name": "stdout",
     "output_type": "stream",
     "text": [
      "2024-02-25 00:00:00\n"
     ]
    },
    {
     "name": "stderr",
     "output_type": "stream",
     "text": [
      "19:54:22 - cmdstanpy - INFO - Chain [1] done processing\n",
      "19:54:22 - cmdstanpy - INFO - Chain [1] start processing\n"
     ]
    },
    {
     "name": "stdout",
     "output_type": "stream",
     "text": [
      "2024-02-25 00:00:00\n"
     ]
    },
    {
     "name": "stderr",
     "output_type": "stream",
     "text": [
      "19:54:22 - cmdstanpy - INFO - Chain [1] done processing\n",
      "19:54:22 - cmdstanpy - INFO - Chain [1] start processing\n",
      "19:54:22 - cmdstanpy - INFO - Chain [1] done processing\n"
     ]
    },
    {
     "name": "stdout",
     "output_type": "stream",
     "text": [
      "2024-02-25 00:00:00\n"
     ]
    },
    {
     "name": "stderr",
     "output_type": "stream",
     "text": [
      "19:54:23 - cmdstanpy - INFO - Chain [1] start processing\n"
     ]
    },
    {
     "name": "stdout",
     "output_type": "stream",
     "text": [
      "2024-02-25 00:00:00\n"
     ]
    },
    {
     "name": "stderr",
     "output_type": "stream",
     "text": [
      "19:54:23 - cmdstanpy - INFO - Chain [1] done processing\n",
      "19:54:23 - cmdstanpy - INFO - Chain [1] start processing\n",
      "19:54:23 - cmdstanpy - INFO - Chain [1] done processing\n"
     ]
    },
    {
     "name": "stdout",
     "output_type": "stream",
     "text": [
      "2024-02-25 00:00:00\n"
     ]
    },
    {
     "name": "stderr",
     "output_type": "stream",
     "text": [
      "19:54:23 - cmdstanpy - INFO - Chain [1] start processing\n"
     ]
    },
    {
     "name": "stdout",
     "output_type": "stream",
     "text": [
      "2024-02-25 00:00:00\n"
     ]
    },
    {
     "name": "stderr",
     "output_type": "stream",
     "text": [
      "19:54:24 - cmdstanpy - INFO - Chain [1] done processing\n",
      "19:54:24 - cmdstanpy - INFO - Chain [1] start processing\n"
     ]
    },
    {
     "name": "stdout",
     "output_type": "stream",
     "text": [
      "2024-02-25 00:00:00\n"
     ]
    },
    {
     "name": "stderr",
     "output_type": "stream",
     "text": [
      "19:54:24 - cmdstanpy - INFO - Chain [1] done processing\n",
      "19:54:24 - cmdstanpy - INFO - Chain [1] start processing\n",
      "19:54:25 - cmdstanpy - INFO - Chain [1] done processing\n"
     ]
    },
    {
     "name": "stdout",
     "output_type": "stream",
     "text": [
      "2024-02-25 00:00:00\n"
     ]
    },
    {
     "name": "stderr",
     "output_type": "stream",
     "text": [
      "19:54:25 - cmdstanpy - INFO - Chain [1] start processing\n"
     ]
    },
    {
     "name": "stdout",
     "output_type": "stream",
     "text": [
      "2024-02-25 00:00:00\n"
     ]
    },
    {
     "name": "stderr",
     "output_type": "stream",
     "text": [
      "19:54:25 - cmdstanpy - INFO - Chain [1] done processing\n",
      "19:54:25 - cmdstanpy - INFO - Chain [1] start processing\n"
     ]
    },
    {
     "name": "stdout",
     "output_type": "stream",
     "text": [
      "2024-02-25 00:00:00\n"
     ]
    },
    {
     "name": "stderr",
     "output_type": "stream",
     "text": [
      "19:54:25 - cmdstanpy - INFO - Chain [1] done processing\n",
      "19:54:26 - cmdstanpy - INFO - Chain [1] start processing\n"
     ]
    },
    {
     "name": "stdout",
     "output_type": "stream",
     "text": [
      "2024-02-25 00:00:00\n"
     ]
    },
    {
     "name": "stderr",
     "output_type": "stream",
     "text": [
      "19:54:26 - cmdstanpy - INFO - Chain [1] done processing\n",
      "19:54:26 - cmdstanpy - INFO - Chain [1] start processing\n"
     ]
    },
    {
     "name": "stdout",
     "output_type": "stream",
     "text": [
      "2024-02-25 00:00:00\n"
     ]
    },
    {
     "name": "stderr",
     "output_type": "stream",
     "text": [
      "19:54:26 - cmdstanpy - INFO - Chain [1] done processing\n",
      "19:54:27 - cmdstanpy - INFO - Chain [1] start processing\n"
     ]
    },
    {
     "name": "stdout",
     "output_type": "stream",
     "text": [
      "2024-02-25 00:00:00\n"
     ]
    },
    {
     "name": "stderr",
     "output_type": "stream",
     "text": [
      "19:54:27 - cmdstanpy - INFO - Chain [1] done processing\n",
      "19:54:27 - cmdstanpy - INFO - Chain [1] start processing\n"
     ]
    },
    {
     "name": "stdout",
     "output_type": "stream",
     "text": [
      "2024-02-25 00:00:00\n"
     ]
    },
    {
     "name": "stderr",
     "output_type": "stream",
     "text": [
      "19:54:27 - cmdstanpy - INFO - Chain [1] done processing\n",
      "19:54:27 - cmdstanpy - INFO - Chain [1] start processing\n"
     ]
    },
    {
     "name": "stdout",
     "output_type": "stream",
     "text": [
      "2024-02-25 00:00:00\n"
     ]
    },
    {
     "name": "stderr",
     "output_type": "stream",
     "text": [
      "19:54:27 - cmdstanpy - INFO - Chain [1] done processing\n",
      "19:54:28 - cmdstanpy - INFO - Chain [1] start processing\n"
     ]
    },
    {
     "name": "stdout",
     "output_type": "stream",
     "text": [
      "2024-02-25 00:00:00\n"
     ]
    },
    {
     "name": "stderr",
     "output_type": "stream",
     "text": [
      "19:54:28 - cmdstanpy - INFO - Chain [1] done processing\n",
      "19:54:28 - cmdstanpy - INFO - Chain [1] start processing\n"
     ]
    },
    {
     "name": "stdout",
     "output_type": "stream",
     "text": [
      "2024-02-25 00:00:00\n"
     ]
    },
    {
     "name": "stderr",
     "output_type": "stream",
     "text": [
      "19:54:28 - cmdstanpy - INFO - Chain [1] done processing\n"
     ]
    },
    {
     "name": "stdout",
     "output_type": "stream",
     "text": [
      "2024-02-25 00:00:00\n"
     ]
    },
    {
     "name": "stderr",
     "output_type": "stream",
     "text": [
      "19:54:29 - cmdstanpy - INFO - Chain [1] start processing\n",
      "19:54:29 - cmdstanpy - INFO - Chain [1] done processing\n",
      "19:54:29 - cmdstanpy - INFO - Chain [1] start processing\n"
     ]
    },
    {
     "name": "stdout",
     "output_type": "stream",
     "text": [
      "2024-02-25 00:00:00\n"
     ]
    },
    {
     "name": "stderr",
     "output_type": "stream",
     "text": [
      "19:54:29 - cmdstanpy - INFO - Chain [1] done processing\n",
      "19:54:29 - cmdstanpy - INFO - Chain [1] start processing\n"
     ]
    },
    {
     "name": "stdout",
     "output_type": "stream",
     "text": [
      "2024-02-25 00:00:00\n"
     ]
    },
    {
     "name": "stderr",
     "output_type": "stream",
     "text": [
      "19:54:29 - cmdstanpy - INFO - Chain [1] done processing\n",
      "19:54:30 - cmdstanpy - INFO - Chain [1] start processing\n"
     ]
    },
    {
     "name": "stdout",
     "output_type": "stream",
     "text": [
      "2024-02-25 00:00:00\n"
     ]
    },
    {
     "name": "stderr",
     "output_type": "stream",
     "text": [
      "19:54:30 - cmdstanpy - INFO - Chain [1] done processing\n",
      "19:54:30 - cmdstanpy - INFO - Chain [1] start processing\n"
     ]
    },
    {
     "name": "stdout",
     "output_type": "stream",
     "text": [
      "2024-02-25 00:00:00\n"
     ]
    },
    {
     "name": "stderr",
     "output_type": "stream",
     "text": [
      "19:54:30 - cmdstanpy - INFO - Chain [1] done processing\n",
      "19:54:30 - cmdstanpy - INFO - Chain [1] start processing\n"
     ]
    },
    {
     "name": "stdout",
     "output_type": "stream",
     "text": [
      "2024-02-25 00:00:00\n"
     ]
    },
    {
     "name": "stderr",
     "output_type": "stream",
     "text": [
      "19:54:30 - cmdstanpy - INFO - Chain [1] done processing\n",
      "19:54:31 - cmdstanpy - INFO - Chain [1] start processing\n"
     ]
    },
    {
     "name": "stdout",
     "output_type": "stream",
     "text": [
      "2024-02-25 00:00:00\n"
     ]
    },
    {
     "name": "stderr",
     "output_type": "stream",
     "text": [
      "19:54:31 - cmdstanpy - INFO - Chain [1] done processing\n",
      "19:54:31 - cmdstanpy - INFO - Chain [1] start processing\n"
     ]
    },
    {
     "name": "stdout",
     "output_type": "stream",
     "text": [
      "2024-02-25 00:00:00\n"
     ]
    },
    {
     "name": "stderr",
     "output_type": "stream",
     "text": [
      "19:54:31 - cmdstanpy - INFO - Chain [1] done processing\n",
      "19:54:32 - cmdstanpy - INFO - Chain [1] start processing\n"
     ]
    },
    {
     "name": "stdout",
     "output_type": "stream",
     "text": [
      "2024-02-25 00:00:00\n"
     ]
    },
    {
     "name": "stderr",
     "output_type": "stream",
     "text": [
      "19:54:32 - cmdstanpy - INFO - Chain [1] done processing\n",
      "19:54:32 - cmdstanpy - INFO - Chain [1] start processing\n"
     ]
    },
    {
     "name": "stdout",
     "output_type": "stream",
     "text": [
      "2024-02-25 00:00:00\n"
     ]
    },
    {
     "name": "stderr",
     "output_type": "stream",
     "text": [
      "19:54:32 - cmdstanpy - INFO - Chain [1] done processing\n",
      "19:54:32 - cmdstanpy - INFO - Chain [1] start processing\n",
      "19:54:33 - cmdstanpy - INFO - Chain [1] done processing\n"
     ]
    },
    {
     "name": "stdout",
     "output_type": "stream",
     "text": [
      "2024-02-25 00:00:00\n"
     ]
    },
    {
     "name": "stderr",
     "output_type": "stream",
     "text": [
      "19:54:33 - cmdstanpy - INFO - Chain [1] start processing\n"
     ]
    },
    {
     "name": "stdout",
     "output_type": "stream",
     "text": [
      "2024-02-25 00:00:00\n"
     ]
    },
    {
     "name": "stderr",
     "output_type": "stream",
     "text": [
      "19:54:33 - cmdstanpy - INFO - Chain [1] done processing\n",
      "19:54:33 - cmdstanpy - INFO - Chain [1] start processing\n"
     ]
    },
    {
     "name": "stdout",
     "output_type": "stream",
     "text": [
      "2024-02-25 00:00:00\n"
     ]
    },
    {
     "name": "stderr",
     "output_type": "stream",
     "text": [
      "19:54:33 - cmdstanpy - INFO - Chain [1] done processing\n",
      "19:54:34 - cmdstanpy - INFO - Chain [1] start processing\n",
      "19:54:34 - cmdstanpy - INFO - Chain [1] done processing\n"
     ]
    },
    {
     "name": "stdout",
     "output_type": "stream",
     "text": [
      "2024-02-25 00:00:00\n"
     ]
    },
    {
     "name": "stderr",
     "output_type": "stream",
     "text": [
      "19:54:34 - cmdstanpy - INFO - Chain [1] start processing\n"
     ]
    },
    {
     "name": "stdout",
     "output_type": "stream",
     "text": [
      "2024-02-25 00:00:00\n"
     ]
    },
    {
     "name": "stderr",
     "output_type": "stream",
     "text": [
      "19:54:34 - cmdstanpy - INFO - Chain [1] done processing\n",
      "19:54:34 - cmdstanpy - INFO - Chain [1] start processing\n",
      "19:54:35 - cmdstanpy - INFO - Chain [1] done processing\n"
     ]
    },
    {
     "name": "stdout",
     "output_type": "stream",
     "text": [
      "2024-02-25 00:00:00\n"
     ]
    },
    {
     "name": "stderr",
     "output_type": "stream",
     "text": [
      "19:54:35 - cmdstanpy - INFO - Chain [1] start processing\n"
     ]
    },
    {
     "name": "stdout",
     "output_type": "stream",
     "text": [
      "2024-02-25 00:00:00\n"
     ]
    },
    {
     "name": "stderr",
     "output_type": "stream",
     "text": [
      "19:54:35 - cmdstanpy - INFO - Chain [1] done processing\n",
      "19:54:35 - cmdstanpy - INFO - Chain [1] start processing\n"
     ]
    },
    {
     "name": "stdout",
     "output_type": "stream",
     "text": [
      "2024-02-25 00:00:00\n"
     ]
    },
    {
     "name": "stderr",
     "output_type": "stream",
     "text": [
      "19:54:35 - cmdstanpy - INFO - Chain [1] done processing\n",
      "19:54:36 - cmdstanpy - INFO - Chain [1] start processing\n",
      "19:54:36 - cmdstanpy - INFO - Chain [1] done processing\n"
     ]
    },
    {
     "name": "stdout",
     "output_type": "stream",
     "text": [
      "2024-02-25 00:00:00\n"
     ]
    },
    {
     "name": "stderr",
     "output_type": "stream",
     "text": [
      "19:54:36 - cmdstanpy - INFO - Chain [1] start processing\n"
     ]
    },
    {
     "name": "stdout",
     "output_type": "stream",
     "text": [
      "2024-02-25 00:00:00\n"
     ]
    },
    {
     "name": "stderr",
     "output_type": "stream",
     "text": [
      "19:54:36 - cmdstanpy - INFO - Chain [1] done processing\n",
      "19:54:36 - cmdstanpy - INFO - Chain [1] start processing\n"
     ]
    },
    {
     "name": "stdout",
     "output_type": "stream",
     "text": [
      "2024-02-25 00:00:00\n"
     ]
    },
    {
     "name": "stderr",
     "output_type": "stream",
     "text": [
      "19:54:36 - cmdstanpy - INFO - Chain [1] done processing\n",
      "19:54:37 - cmdstanpy - INFO - Chain [1] start processing\n"
     ]
    },
    {
     "name": "stdout",
     "output_type": "stream",
     "text": [
      "2024-02-25 00:00:00\n"
     ]
    },
    {
     "name": "stderr",
     "output_type": "stream",
     "text": [
      "19:54:37 - cmdstanpy - INFO - Chain [1] done processing\n",
      "19:54:37 - cmdstanpy - INFO - Chain [1] start processing\n"
     ]
    },
    {
     "name": "stdout",
     "output_type": "stream",
     "text": [
      "2024-02-25 00:00:00\n"
     ]
    },
    {
     "name": "stderr",
     "output_type": "stream",
     "text": [
      "19:54:37 - cmdstanpy - INFO - Chain [1] done processing\n",
      "19:54:37 - cmdstanpy - INFO - Chain [1] start processing\n",
      "19:54:38 - cmdstanpy - INFO - Chain [1] done processing\n"
     ]
    },
    {
     "name": "stdout",
     "output_type": "stream",
     "text": [
      "2024-02-25 00:00:00\n"
     ]
    },
    {
     "name": "stderr",
     "output_type": "stream",
     "text": [
      "19:54:38 - cmdstanpy - INFO - Chain [1] start processing\n"
     ]
    },
    {
     "name": "stdout",
     "output_type": "stream",
     "text": [
      "2024-02-25 00:00:00\n"
     ]
    },
    {
     "name": "stderr",
     "output_type": "stream",
     "text": [
      "19:54:38 - cmdstanpy - INFO - Chain [1] done processing\n",
      "19:54:38 - cmdstanpy - INFO - Chain [1] start processing\n"
     ]
    },
    {
     "name": "stdout",
     "output_type": "stream",
     "text": [
      "2024-02-25 00:00:00\n"
     ]
    },
    {
     "name": "stderr",
     "output_type": "stream",
     "text": [
      "19:54:38 - cmdstanpy - INFO - Chain [1] done processing\n",
      "19:54:39 - cmdstanpy - INFO - Chain [1] start processing\n"
     ]
    },
    {
     "name": "stdout",
     "output_type": "stream",
     "text": [
      "2024-02-25 00:00:00\n"
     ]
    },
    {
     "name": "stderr",
     "output_type": "stream",
     "text": [
      "19:54:39 - cmdstanpy - INFO - Chain [1] done processing\n",
      "19:54:39 - cmdstanpy - INFO - Chain [1] start processing\n"
     ]
    },
    {
     "name": "stdout",
     "output_type": "stream",
     "text": [
      "2024-02-25 00:00:00\n"
     ]
    },
    {
     "name": "stderr",
     "output_type": "stream",
     "text": [
      "19:54:39 - cmdstanpy - INFO - Chain [1] done processing\n",
      "19:54:39 - cmdstanpy - INFO - Chain [1] start processing\n"
     ]
    },
    {
     "name": "stdout",
     "output_type": "stream",
     "text": [
      "2024-02-25 00:00:00\n"
     ]
    },
    {
     "name": "stderr",
     "output_type": "stream",
     "text": [
      "19:54:39 - cmdstanpy - INFO - Chain [1] done processing\n",
      "19:54:40 - cmdstanpy - INFO - Chain [1] start processing\n",
      "19:54:40 - cmdstanpy - INFO - Chain [1] done processing\n"
     ]
    },
    {
     "name": "stdout",
     "output_type": "stream",
     "text": [
      "2024-02-25 00:00:00\n"
     ]
    },
    {
     "name": "stderr",
     "output_type": "stream",
     "text": [
      "19:54:40 - cmdstanpy - INFO - Chain [1] start processing\n"
     ]
    },
    {
     "name": "stdout",
     "output_type": "stream",
     "text": [
      "2024-02-25 00:00:00\n"
     ]
    },
    {
     "name": "stderr",
     "output_type": "stream",
     "text": [
      "19:54:40 - cmdstanpy - INFO - Chain [1] done processing\n",
      "19:54:40 - cmdstanpy - INFO - Chain [1] start processing\n"
     ]
    },
    {
     "name": "stdout",
     "output_type": "stream",
     "text": [
      "2024-02-25 00:00:00\n"
     ]
    },
    {
     "name": "stderr",
     "output_type": "stream",
     "text": [
      "19:54:41 - cmdstanpy - INFO - Chain [1] done processing\n",
      "19:54:41 - cmdstanpy - INFO - Chain [1] start processing\n",
      "19:54:41 - cmdstanpy - INFO - Chain [1] done processing\n"
     ]
    },
    {
     "name": "stdout",
     "output_type": "stream",
     "text": [
      "2024-02-25 00:00:00\n"
     ]
    },
    {
     "name": "stderr",
     "output_type": "stream",
     "text": [
      "19:54:41 - cmdstanpy - INFO - Chain [1] start processing\n"
     ]
    },
    {
     "name": "stdout",
     "output_type": "stream",
     "text": [
      "2024-02-25 00:00:00\n"
     ]
    },
    {
     "name": "stderr",
     "output_type": "stream",
     "text": [
      "19:54:41 - cmdstanpy - INFO - Chain [1] done processing\n",
      "19:54:42 - cmdstanpy - INFO - Chain [1] start processing\n"
     ]
    },
    {
     "name": "stdout",
     "output_type": "stream",
     "text": [
      "2024-02-25 00:00:00\n"
     ]
    },
    {
     "name": "stderr",
     "output_type": "stream",
     "text": [
      "19:54:42 - cmdstanpy - INFO - Chain [1] done processing\n",
      "19:54:42 - cmdstanpy - INFO - Chain [1] start processing\n"
     ]
    },
    {
     "name": "stdout",
     "output_type": "stream",
     "text": [
      "2024-02-25 00:00:00\n"
     ]
    },
    {
     "name": "stderr",
     "output_type": "stream",
     "text": [
      "19:54:42 - cmdstanpy - INFO - Chain [1] done processing\n",
      "19:54:42 - cmdstanpy - INFO - Chain [1] start processing\n"
     ]
    },
    {
     "name": "stdout",
     "output_type": "stream",
     "text": [
      "2024-02-25 00:00:00\n"
     ]
    },
    {
     "name": "stderr",
     "output_type": "stream",
     "text": [
      "19:54:42 - cmdstanpy - INFO - Chain [1] done processing\n",
      "19:54:43 - cmdstanpy - INFO - Chain [1] start processing\n"
     ]
    },
    {
     "name": "stdout",
     "output_type": "stream",
     "text": [
      "2024-02-25 00:00:00\n"
     ]
    },
    {
     "name": "stderr",
     "output_type": "stream",
     "text": [
      "19:54:43 - cmdstanpy - INFO - Chain [1] done processing\n",
      "19:54:43 - cmdstanpy - INFO - Chain [1] start processing\n"
     ]
    },
    {
     "name": "stdout",
     "output_type": "stream",
     "text": [
      "2024-02-25 00:00:00\n"
     ]
    },
    {
     "name": "stderr",
     "output_type": "stream",
     "text": [
      "19:54:43 - cmdstanpy - INFO - Chain [1] done processing\n",
      "19:54:44 - cmdstanpy - INFO - Chain [1] start processing\n"
     ]
    },
    {
     "name": "stdout",
     "output_type": "stream",
     "text": [
      "2024-02-25 00:00:00\n"
     ]
    },
    {
     "name": "stderr",
     "output_type": "stream",
     "text": [
      "19:54:44 - cmdstanpy - INFO - Chain [1] done processing\n",
      "19:54:44 - cmdstanpy - INFO - Chain [1] start processing\n"
     ]
    },
    {
     "name": "stdout",
     "output_type": "stream",
     "text": [
      "2024-02-25 00:00:00\n"
     ]
    },
    {
     "name": "stderr",
     "output_type": "stream",
     "text": [
      "19:54:44 - cmdstanpy - INFO - Chain [1] done processing\n",
      "19:54:45 - cmdstanpy - INFO - Chain [1] start processing\n",
      "19:54:45 - cmdstanpy - INFO - Chain [1] done processing\n"
     ]
    },
    {
     "name": "stdout",
     "output_type": "stream",
     "text": [
      "2024-02-25 00:00:00\n"
     ]
    },
    {
     "name": "stderr",
     "output_type": "stream",
     "text": [
      "19:54:45 - cmdstanpy - INFO - Chain [1] start processing\n"
     ]
    },
    {
     "name": "stdout",
     "output_type": "stream",
     "text": [
      "2024-02-25 00:00:00\n"
     ]
    },
    {
     "name": "stderr",
     "output_type": "stream",
     "text": [
      "19:54:45 - cmdstanpy - INFO - Chain [1] done processing\n",
      "19:54:45 - cmdstanpy - INFO - Chain [1] start processing\n"
     ]
    },
    {
     "name": "stdout",
     "output_type": "stream",
     "text": [
      "2024-02-25 00:00:00\n"
     ]
    },
    {
     "name": "stderr",
     "output_type": "stream",
     "text": [
      "19:54:46 - cmdstanpy - INFO - Chain [1] done processing\n",
      "19:54:46 - cmdstanpy - INFO - Chain [1] start processing\n",
      "19:54:46 - cmdstanpy - INFO - Chain [1] done processing\n"
     ]
    },
    {
     "name": "stdout",
     "output_type": "stream",
     "text": [
      "2024-02-25 00:00:00\n"
     ]
    },
    {
     "name": "stderr",
     "output_type": "stream",
     "text": [
      "19:54:46 - cmdstanpy - INFO - Chain [1] start processing\n"
     ]
    },
    {
     "name": "stdout",
     "output_type": "stream",
     "text": [
      "2024-02-25 00:00:00\n"
     ]
    },
    {
     "name": "stderr",
     "output_type": "stream",
     "text": [
      "19:54:46 - cmdstanpy - INFO - Chain [1] done processing\n",
      "19:54:47 - cmdstanpy - INFO - Chain [1] start processing\n",
      "19:54:47 - cmdstanpy - INFO - Chain [1] done processing\n"
     ]
    },
    {
     "name": "stdout",
     "output_type": "stream",
     "text": [
      "2024-02-25 00:00:00\n"
     ]
    },
    {
     "name": "stderr",
     "output_type": "stream",
     "text": [
      "19:54:47 - cmdstanpy - INFO - Chain [1] start processing\n"
     ]
    },
    {
     "name": "stdout",
     "output_type": "stream",
     "text": [
      "2024-02-25 00:00:00\n"
     ]
    },
    {
     "name": "stderr",
     "output_type": "stream",
     "text": [
      "19:54:47 - cmdstanpy - INFO - Chain [1] done processing\n",
      "19:54:47 - cmdstanpy - INFO - Chain [1] start processing\n"
     ]
    },
    {
     "name": "stdout",
     "output_type": "stream",
     "text": [
      "2024-02-25 00:00:00\n"
     ]
    },
    {
     "name": "stderr",
     "output_type": "stream",
     "text": [
      "19:54:47 - cmdstanpy - INFO - Chain [1] done processing\n",
      "19:54:48 - cmdstanpy - INFO - Chain [1] start processing\n",
      "19:54:48 - cmdstanpy - INFO - Chain [1] done processing\n"
     ]
    },
    {
     "name": "stdout",
     "output_type": "stream",
     "text": [
      "2024-02-25 00:00:00\n"
     ]
    },
    {
     "name": "stderr",
     "output_type": "stream",
     "text": [
      "19:54:48 - cmdstanpy - INFO - Chain [1] start processing\n"
     ]
    },
    {
     "name": "stdout",
     "output_type": "stream",
     "text": [
      "2024-02-25 00:00:00\n"
     ]
    },
    {
     "name": "stderr",
     "output_type": "stream",
     "text": [
      "19:54:48 - cmdstanpy - INFO - Chain [1] done processing\n",
      "19:54:49 - cmdstanpy - INFO - Chain [1] start processing\n"
     ]
    },
    {
     "name": "stdout",
     "output_type": "stream",
     "text": [
      "2024-02-25 00:00:00\n"
     ]
    },
    {
     "name": "stderr",
     "output_type": "stream",
     "text": [
      "19:54:49 - cmdstanpy - INFO - Chain [1] done processing\n",
      "19:54:49 - cmdstanpy - INFO - Chain [1] start processing\n",
      "19:54:49 - cmdstanpy - INFO - Chain [1] done processing\n"
     ]
    },
    {
     "name": "stdout",
     "output_type": "stream",
     "text": [
      "2024-02-25 00:00:00\n"
     ]
    },
    {
     "name": "stderr",
     "output_type": "stream",
     "text": [
      "19:54:49 - cmdstanpy - INFO - Chain [1] start processing\n"
     ]
    },
    {
     "name": "stdout",
     "output_type": "stream",
     "text": [
      "2024-02-25 00:00:00\n"
     ]
    },
    {
     "name": "stderr",
     "output_type": "stream",
     "text": [
      "19:54:49 - cmdstanpy - INFO - Chain [1] done processing\n",
      "19:54:50 - cmdstanpy - INFO - Chain [1] start processing\n"
     ]
    },
    {
     "name": "stdout",
     "output_type": "stream",
     "text": [
      "2024-02-25 00:00:00\n"
     ]
    },
    {
     "name": "stderr",
     "output_type": "stream",
     "text": [
      "19:54:50 - cmdstanpy - INFO - Chain [1] done processing\n",
      "19:54:50 - cmdstanpy - INFO - Chain [1] start processing\n"
     ]
    },
    {
     "name": "stdout",
     "output_type": "stream",
     "text": [
      "2024-02-25 00:00:00\n"
     ]
    },
    {
     "name": "stderr",
     "output_type": "stream",
     "text": [
      "19:54:50 - cmdstanpy - INFO - Chain [1] done processing\n",
      "19:54:50 - cmdstanpy - INFO - Chain [1] start processing\n"
     ]
    },
    {
     "name": "stdout",
     "output_type": "stream",
     "text": [
      "2024-02-25 00:00:00\n"
     ]
    },
    {
     "name": "stderr",
     "output_type": "stream",
     "text": [
      "19:54:51 - cmdstanpy - INFO - Chain [1] done processing\n",
      "19:54:51 - cmdstanpy - INFO - Chain [1] start processing\n",
      "19:54:51 - cmdstanpy - INFO - Chain [1] done processing\n"
     ]
    },
    {
     "name": "stdout",
     "output_type": "stream",
     "text": [
      "2024-02-25 00:00:00\n"
     ]
    },
    {
     "name": "stderr",
     "output_type": "stream",
     "text": [
      "19:54:51 - cmdstanpy - INFO - Chain [1] start processing\n"
     ]
    },
    {
     "name": "stdout",
     "output_type": "stream",
     "text": [
      "2024-02-25 00:00:00\n"
     ]
    },
    {
     "name": "stderr",
     "output_type": "stream",
     "text": [
      "19:54:51 - cmdstanpy - INFO - Chain [1] done processing\n"
     ]
    },
    {
     "name": "stdout",
     "output_type": "stream",
     "text": [
      "2024-02-25 00:00:00\n"
     ]
    },
    {
     "name": "stderr",
     "output_type": "stream",
     "text": [
      "19:54:52 - cmdstanpy - INFO - Chain [1] start processing\n",
      "19:54:52 - cmdstanpy - INFO - Chain [1] done processing\n",
      "19:54:52 - cmdstanpy - INFO - Chain [1] start processing\n"
     ]
    },
    {
     "name": "stdout",
     "output_type": "stream",
     "text": [
      "2024-02-25 00:00:00\n"
     ]
    },
    {
     "name": "stderr",
     "output_type": "stream",
     "text": [
      "19:54:52 - cmdstanpy - INFO - Chain [1] done processing\n",
      "19:54:52 - cmdstanpy - INFO - Chain [1] start processing\n",
      "19:54:52 - cmdstanpy - INFO - Chain [1] done processing\n"
     ]
    },
    {
     "name": "stdout",
     "output_type": "stream",
     "text": [
      "2024-02-25 00:00:00\n"
     ]
    },
    {
     "name": "stderr",
     "output_type": "stream",
     "text": [
      "19:54:53 - cmdstanpy - INFO - Chain [1] start processing\n"
     ]
    },
    {
     "name": "stdout",
     "output_type": "stream",
     "text": [
      "2024-02-25 00:00:00\n"
     ]
    },
    {
     "name": "stderr",
     "output_type": "stream",
     "text": [
      "19:54:53 - cmdstanpy - INFO - Chain [1] done processing\n",
      "19:54:53 - cmdstanpy - INFO - Chain [1] start processing\n"
     ]
    },
    {
     "name": "stdout",
     "output_type": "stream",
     "text": [
      "2024-02-25 00:00:00\n"
     ]
    },
    {
     "name": "stderr",
     "output_type": "stream",
     "text": [
      "19:54:53 - cmdstanpy - INFO - Chain [1] done processing\n",
      "19:54:54 - cmdstanpy - INFO - Chain [1] start processing\n"
     ]
    },
    {
     "name": "stdout",
     "output_type": "stream",
     "text": [
      "2024-02-25 00:00:00\n"
     ]
    },
    {
     "name": "stderr",
     "output_type": "stream",
     "text": [
      "19:54:54 - cmdstanpy - INFO - Chain [1] done processing\n",
      "19:54:54 - cmdstanpy - INFO - Chain [1] start processing\n"
     ]
    },
    {
     "name": "stdout",
     "output_type": "stream",
     "text": [
      "2024-02-25 00:00:00\n"
     ]
    },
    {
     "name": "stderr",
     "output_type": "stream",
     "text": [
      "19:54:54 - cmdstanpy - INFO - Chain [1] done processing\n",
      "19:54:54 - cmdstanpy - INFO - Chain [1] start processing\n",
      "19:54:54 - cmdstanpy - INFO - Chain [1] done processing\n"
     ]
    },
    {
     "name": "stdout",
     "output_type": "stream",
     "text": [
      "2024-02-25 00:00:00\n"
     ]
    },
    {
     "name": "stderr",
     "output_type": "stream",
     "text": [
      "19:54:55 - cmdstanpy - INFO - Chain [1] start processing\n"
     ]
    },
    {
     "name": "stdout",
     "output_type": "stream",
     "text": [
      "2024-02-25 00:00:00\n"
     ]
    },
    {
     "name": "stderr",
     "output_type": "stream",
     "text": [
      "19:54:55 - cmdstanpy - INFO - Chain [1] done processing\n",
      "19:54:55 - cmdstanpy - INFO - Chain [1] start processing\n"
     ]
    },
    {
     "name": "stdout",
     "output_type": "stream",
     "text": [
      "2024-02-25 00:00:00\n"
     ]
    },
    {
     "name": "stderr",
     "output_type": "stream",
     "text": [
      "19:54:55 - cmdstanpy - INFO - Chain [1] done processing\n",
      "19:54:56 - cmdstanpy - INFO - Chain [1] start processing\n"
     ]
    },
    {
     "name": "stdout",
     "output_type": "stream",
     "text": [
      "2024-02-25 00:00:00\n"
     ]
    },
    {
     "name": "stderr",
     "output_type": "stream",
     "text": [
      "19:54:56 - cmdstanpy - INFO - Chain [1] done processing\n",
      "19:54:56 - cmdstanpy - INFO - Chain [1] start processing\n"
     ]
    },
    {
     "name": "stdout",
     "output_type": "stream",
     "text": [
      "2024-02-25 00:00:00\n"
     ]
    },
    {
     "name": "stderr",
     "output_type": "stream",
     "text": [
      "19:54:56 - cmdstanpy - INFO - Chain [1] done processing\n",
      "19:54:56 - cmdstanpy - INFO - Chain [1] start processing\n"
     ]
    },
    {
     "name": "stdout",
     "output_type": "stream",
     "text": [
      "2024-02-25 00:00:00\n"
     ]
    },
    {
     "name": "stderr",
     "output_type": "stream",
     "text": [
      "19:54:56 - cmdstanpy - INFO - Chain [1] done processing\n",
      "19:54:57 - cmdstanpy - INFO - Chain [1] start processing\n",
      "19:54:57 - cmdstanpy - INFO - Chain [1] done processing\n"
     ]
    },
    {
     "name": "stdout",
     "output_type": "stream",
     "text": [
      "2024-02-25 00:00:00\n"
     ]
    },
    {
     "name": "stderr",
     "output_type": "stream",
     "text": [
      "19:54:57 - cmdstanpy - INFO - Chain [1] start processing\n"
     ]
    },
    {
     "name": "stdout",
     "output_type": "stream",
     "text": [
      "2024-02-25 00:00:00\n"
     ]
    },
    {
     "name": "stderr",
     "output_type": "stream",
     "text": [
      "19:54:57 - cmdstanpy - INFO - Chain [1] done processing\n",
      "19:54:58 - cmdstanpy - INFO - Chain [1] start processing\n"
     ]
    },
    {
     "name": "stdout",
     "output_type": "stream",
     "text": [
      "2024-02-25 00:00:00\n"
     ]
    },
    {
     "name": "stderr",
     "output_type": "stream",
     "text": [
      "19:54:58 - cmdstanpy - INFO - Chain [1] done processing\n"
     ]
    },
    {
     "name": "stdout",
     "output_type": "stream",
     "text": [
      "2024-02-25 00:00:00\n"
     ]
    },
    {
     "name": "stderr",
     "output_type": "stream",
     "text": [
      "19:54:58 - cmdstanpy - INFO - Chain [1] start processing\n",
      "19:54:58 - cmdstanpy - INFO - Chain [1] done processing\n",
      "19:54:58 - cmdstanpy - INFO - Chain [1] start processing\n"
     ]
    },
    {
     "name": "stdout",
     "output_type": "stream",
     "text": [
      "2024-02-25 00:00:00\n"
     ]
    },
    {
     "name": "stderr",
     "output_type": "stream",
     "text": [
      "19:54:58 - cmdstanpy - INFO - Chain [1] done processing\n",
      "19:54:59 - cmdstanpy - INFO - Chain [1] start processing\n"
     ]
    },
    {
     "name": "stdout",
     "output_type": "stream",
     "text": [
      "2024-02-25 00:00:00\n"
     ]
    },
    {
     "name": "stderr",
     "output_type": "stream",
     "text": [
      "19:54:59 - cmdstanpy - INFO - Chain [1] done processing\n"
     ]
    },
    {
     "name": "stdout",
     "output_type": "stream",
     "text": [
      "2024-02-25 00:00:00\n"
     ]
    },
    {
     "name": "stderr",
     "output_type": "stream",
     "text": [
      "19:54:59 - cmdstanpy - INFO - Chain [1] start processing\n",
      "19:55:00 - cmdstanpy - INFO - Chain [1] done processing\n",
      "19:55:00 - cmdstanpy - INFO - Chain [1] start processing\n",
      "19:55:00 - cmdstanpy - INFO - Chain [1] done processing\n"
     ]
    },
    {
     "name": "stdout",
     "output_type": "stream",
     "text": [
      "2024-02-25 00:00:00\n"
     ]
    },
    {
     "name": "stderr",
     "output_type": "stream",
     "text": [
      "19:55:00 - cmdstanpy - INFO - Chain [1] start processing\n"
     ]
    },
    {
     "name": "stdout",
     "output_type": "stream",
     "text": [
      "2024-02-25 00:00:00\n"
     ]
    },
    {
     "name": "stderr",
     "output_type": "stream",
     "text": [
      "19:55:00 - cmdstanpy - INFO - Chain [1] done processing\n",
      "19:55:01 - cmdstanpy - INFO - Chain [1] start processing\n",
      "19:55:01 - cmdstanpy - INFO - Chain [1] done processing\n"
     ]
    },
    {
     "name": "stdout",
     "output_type": "stream",
     "text": [
      "2024-02-25 00:00:00\n"
     ]
    },
    {
     "name": "stderr",
     "output_type": "stream",
     "text": [
      "19:55:01 - cmdstanpy - INFO - Chain [1] start processing\n"
     ]
    },
    {
     "name": "stdout",
     "output_type": "stream",
     "text": [
      "2024-02-25 00:00:00\n"
     ]
    },
    {
     "name": "stderr",
     "output_type": "stream",
     "text": [
      "19:55:01 - cmdstanpy - INFO - Chain [1] done processing\n",
      "19:55:01 - cmdstanpy - INFO - Chain [1] start processing\n"
     ]
    },
    {
     "name": "stdout",
     "output_type": "stream",
     "text": [
      "2024-02-25 00:00:00\n"
     ]
    },
    {
     "name": "stderr",
     "output_type": "stream",
     "text": [
      "19:55:01 - cmdstanpy - INFO - Chain [1] done processing\n",
      "19:55:02 - cmdstanpy - INFO - Chain [1] start processing\n",
      "19:55:02 - cmdstanpy - INFO - Chain [1] done processing\n"
     ]
    },
    {
     "name": "stdout",
     "output_type": "stream",
     "text": [
      "2024-02-25 00:00:00\n"
     ]
    },
    {
     "name": "stderr",
     "output_type": "stream",
     "text": [
      "19:55:02 - cmdstanpy - INFO - Chain [1] start processing\n"
     ]
    },
    {
     "name": "stdout",
     "output_type": "stream",
     "text": [
      "2024-02-25 00:00:00\n"
     ]
    },
    {
     "name": "stderr",
     "output_type": "stream",
     "text": [
      "19:55:02 - cmdstanpy - INFO - Chain [1] done processing\n",
      "19:55:02 - cmdstanpy - INFO - Chain [1] start processing\n",
      "19:55:02 - cmdstanpy - INFO - Chain [1] done processing\n"
     ]
    },
    {
     "name": "stdout",
     "output_type": "stream",
     "text": [
      "2024-02-25 00:00:00\n"
     ]
    },
    {
     "name": "stderr",
     "output_type": "stream",
     "text": [
      "19:55:03 - cmdstanpy - INFO - Chain [1] start processing\n"
     ]
    },
    {
     "name": "stdout",
     "output_type": "stream",
     "text": [
      "2024-02-25 00:00:00\n"
     ]
    },
    {
     "name": "stderr",
     "output_type": "stream",
     "text": [
      "19:55:03 - cmdstanpy - INFO - Chain [1] done processing\n",
      "19:55:03 - cmdstanpy - INFO - Chain [1] start processing\n"
     ]
    },
    {
     "name": "stdout",
     "output_type": "stream",
     "text": [
      "2024-02-25 00:00:00\n"
     ]
    },
    {
     "name": "stderr",
     "output_type": "stream",
     "text": [
      "19:55:04 - cmdstanpy - INFO - Chain [1] done processing\n",
      "19:55:04 - cmdstanpy - INFO - Chain [1] start processing\n"
     ]
    },
    {
     "name": "stdout",
     "output_type": "stream",
     "text": [
      "2024-02-25 00:00:00\n"
     ]
    },
    {
     "name": "stderr",
     "output_type": "stream",
     "text": [
      "19:55:04 - cmdstanpy - INFO - Chain [1] done processing\n",
      "19:55:04 - cmdstanpy - INFO - Chain [1] start processing\n",
      "19:55:04 - cmdstanpy - INFO - Chain [1] done processing\n"
     ]
    },
    {
     "name": "stdout",
     "output_type": "stream",
     "text": [
      "2024-02-25 00:00:00\n"
     ]
    },
    {
     "name": "stderr",
     "output_type": "stream",
     "text": [
      "19:55:05 - cmdstanpy - INFO - Chain [1] start processing\n"
     ]
    },
    {
     "name": "stdout",
     "output_type": "stream",
     "text": [
      "2024-02-25 00:00:00\n"
     ]
    },
    {
     "name": "stderr",
     "output_type": "stream",
     "text": [
      "19:55:05 - cmdstanpy - INFO - Chain [1] done processing\n",
      "19:55:05 - cmdstanpy - INFO - Chain [1] start processing\n"
     ]
    },
    {
     "name": "stdout",
     "output_type": "stream",
     "text": [
      "2024-02-25 00:00:00\n"
     ]
    },
    {
     "name": "stderr",
     "output_type": "stream",
     "text": [
      "19:55:05 - cmdstanpy - INFO - Chain [1] done processing\n",
      "19:55:06 - cmdstanpy - INFO - Chain [1] start processing\n",
      "19:55:06 - cmdstanpy - INFO - Chain [1] done processing\n"
     ]
    },
    {
     "name": "stdout",
     "output_type": "stream",
     "text": [
      "2024-02-25 00:00:00\n"
     ]
    },
    {
     "name": "stderr",
     "output_type": "stream",
     "text": [
      "19:55:06 - cmdstanpy - INFO - Chain [1] start processing\n"
     ]
    },
    {
     "name": "stdout",
     "output_type": "stream",
     "text": [
      "2024-02-25 00:00:00\n"
     ]
    },
    {
     "name": "stderr",
     "output_type": "stream",
     "text": [
      "19:55:06 - cmdstanpy - INFO - Chain [1] done processing\n",
      "19:55:06 - cmdstanpy - INFO - Chain [1] start processing\n",
      "19:55:07 - cmdstanpy - INFO - Chain [1] done processing\n"
     ]
    },
    {
     "name": "stdout",
     "output_type": "stream",
     "text": [
      "2024-02-25 00:00:00\n"
     ]
    },
    {
     "name": "stderr",
     "output_type": "stream",
     "text": [
      "19:55:07 - cmdstanpy - INFO - Chain [1] start processing\n"
     ]
    },
    {
     "name": "stdout",
     "output_type": "stream",
     "text": [
      "2024-02-25 00:00:00\n"
     ]
    },
    {
     "name": "stderr",
     "output_type": "stream",
     "text": [
      "19:55:07 - cmdstanpy - INFO - Chain [1] done processing\n",
      "19:55:07 - cmdstanpy - INFO - Chain [1] start processing\n",
      "19:55:07 - cmdstanpy - INFO - Chain [1] done processing\n"
     ]
    },
    {
     "name": "stdout",
     "output_type": "stream",
     "text": [
      "2024-02-25 00:00:00\n"
     ]
    },
    {
     "name": "stderr",
     "output_type": "stream",
     "text": [
      "19:55:08 - cmdstanpy - INFO - Chain [1] start processing\n"
     ]
    },
    {
     "name": "stdout",
     "output_type": "stream",
     "text": [
      "2024-02-25 00:00:00\n"
     ]
    },
    {
     "name": "stderr",
     "output_type": "stream",
     "text": [
      "19:55:08 - cmdstanpy - INFO - Chain [1] done processing\n",
      "19:55:08 - cmdstanpy - INFO - Chain [1] start processing\n"
     ]
    },
    {
     "name": "stdout",
     "output_type": "stream",
     "text": [
      "2024-02-25 00:00:00\n"
     ]
    },
    {
     "name": "stderr",
     "output_type": "stream",
     "text": [
      "19:55:08 - cmdstanpy - INFO - Chain [1] done processing\n",
      "19:55:08 - cmdstanpy - INFO - Chain [1] start processing\n"
     ]
    },
    {
     "name": "stdout",
     "output_type": "stream",
     "text": [
      "2024-02-25 00:00:00\n"
     ]
    },
    {
     "name": "stderr",
     "output_type": "stream",
     "text": [
      "19:55:09 - cmdstanpy - INFO - Chain [1] done processing\n"
     ]
    },
    {
     "name": "stdout",
     "output_type": "stream",
     "text": [
      "2024-02-25 00:00:00\n"
     ]
    },
    {
     "name": "stderr",
     "output_type": "stream",
     "text": [
      "19:55:09 - cmdstanpy - INFO - Chain [1] start processing\n",
      "19:55:09 - cmdstanpy - INFO - Chain [1] done processing\n",
      "19:55:10 - cmdstanpy - INFO - Chain [1] start processing\n"
     ]
    },
    {
     "name": "stdout",
     "output_type": "stream",
     "text": [
      "2024-02-25 00:00:00\n"
     ]
    },
    {
     "name": "stderr",
     "output_type": "stream",
     "text": [
      "19:55:10 - cmdstanpy - INFO - Chain [1] done processing\n",
      "19:55:10 - cmdstanpy - INFO - Chain [1] start processing\n"
     ]
    },
    {
     "name": "stdout",
     "output_type": "stream",
     "text": [
      "2024-02-25 00:00:00\n"
     ]
    },
    {
     "name": "stderr",
     "output_type": "stream",
     "text": [
      "19:55:10 - cmdstanpy - INFO - Chain [1] done processing\n",
      "19:55:11 - cmdstanpy - INFO - Chain [1] start processing\n"
     ]
    },
    {
     "name": "stdout",
     "output_type": "stream",
     "text": [
      "2024-02-25 00:00:00\n"
     ]
    },
    {
     "name": "stderr",
     "output_type": "stream",
     "text": [
      "19:55:11 - cmdstanpy - INFO - Chain [1] done processing\n"
     ]
    },
    {
     "name": "stdout",
     "output_type": "stream",
     "text": [
      "2024-02-25 00:00:00\n"
     ]
    },
    {
     "name": "stderr",
     "output_type": "stream",
     "text": [
      "19:55:11 - cmdstanpy - INFO - Chain [1] start processing\n",
      "19:55:11 - cmdstanpy - INFO - Chain [1] done processing\n",
      "19:55:12 - cmdstanpy - INFO - Chain [1] start processing\n"
     ]
    },
    {
     "name": "stdout",
     "output_type": "stream",
     "text": [
      "2024-02-25 00:00:00\n"
     ]
    },
    {
     "name": "stderr",
     "output_type": "stream",
     "text": [
      "19:55:12 - cmdstanpy - INFO - Chain [1] done processing\n",
      "19:55:12 - cmdstanpy - INFO - Chain [1] start processing\n",
      "19:55:12 - cmdstanpy - INFO - Chain [1] done processing\n"
     ]
    },
    {
     "name": "stdout",
     "output_type": "stream",
     "text": [
      "2024-02-25 00:00:00\n"
     ]
    },
    {
     "name": "stderr",
     "output_type": "stream",
     "text": [
      "19:55:12 - cmdstanpy - INFO - Chain [1] start processing\n"
     ]
    },
    {
     "name": "stdout",
     "output_type": "stream",
     "text": [
      "2024-02-25 00:00:00\n"
     ]
    },
    {
     "name": "stderr",
     "output_type": "stream",
     "text": [
      "19:55:12 - cmdstanpy - INFO - Chain [1] done processing\n"
     ]
    },
    {
     "name": "stdout",
     "output_type": "stream",
     "text": [
      "2024-02-25 00:00:00\n"
     ]
    },
    {
     "name": "stderr",
     "output_type": "stream",
     "text": [
      "19:55:13 - cmdstanpy - INFO - Chain [1] start processing\n",
      "19:55:13 - cmdstanpy - INFO - Chain [1] done processing\n",
      "19:55:13 - cmdstanpy - INFO - Chain [1] start processing\n"
     ]
    },
    {
     "name": "stdout",
     "output_type": "stream",
     "text": [
      "2024-02-25 00:00:00\n"
     ]
    },
    {
     "name": "stderr",
     "output_type": "stream",
     "text": [
      "19:55:13 - cmdstanpy - INFO - Chain [1] done processing\n",
      "19:55:14 - cmdstanpy - INFO - Chain [1] start processing\n",
      "19:55:14 - cmdstanpy - INFO - Chain [1] done processing\n"
     ]
    },
    {
     "name": "stdout",
     "output_type": "stream",
     "text": [
      "2024-02-25 00:00:00\n"
     ]
    },
    {
     "name": "stderr",
     "output_type": "stream",
     "text": [
      "19:55:14 - cmdstanpy - INFO - Chain [1] start processing\n"
     ]
    },
    {
     "name": "stdout",
     "output_type": "stream",
     "text": [
      "2024-02-25 00:00:00\n"
     ]
    },
    {
     "name": "stderr",
     "output_type": "stream",
     "text": [
      "19:55:14 - cmdstanpy - INFO - Chain [1] done processing\n",
      "19:55:14 - cmdstanpy - INFO - Chain [1] start processing\n",
      "19:55:14 - cmdstanpy - INFO - Chain [1] done processing\n"
     ]
    },
    {
     "name": "stdout",
     "output_type": "stream",
     "text": [
      "2024-02-25 00:00:00\n",
      "2024-02-25 00:00:00\n"
     ]
    },
    {
     "name": "stderr",
     "output_type": "stream",
     "text": [
      "19:55:15 - cmdstanpy - INFO - Chain [1] start processing\n",
      "19:55:15 - cmdstanpy - INFO - Chain [1] done processing\n",
      "19:55:15 - cmdstanpy - INFO - Chain [1] start processing\n",
      "19:55:15 - cmdstanpy - INFO - Chain [1] done processing\n"
     ]
    },
    {
     "name": "stdout",
     "output_type": "stream",
     "text": [
      "2024-02-25 00:00:00\n"
     ]
    },
    {
     "name": "stderr",
     "output_type": "stream",
     "text": [
      "19:55:15 - cmdstanpy - INFO - Chain [1] start processing\n"
     ]
    },
    {
     "name": "stdout",
     "output_type": "stream",
     "text": [
      "2024-02-25 00:00:00\n"
     ]
    },
    {
     "name": "stderr",
     "output_type": "stream",
     "text": [
      "19:55:15 - cmdstanpy - INFO - Chain [1] done processing\n",
      "19:55:16 - cmdstanpy - INFO - Chain [1] start processing\n",
      "19:55:16 - cmdstanpy - INFO - Chain [1] done processing\n"
     ]
    },
    {
     "name": "stdout",
     "output_type": "stream",
     "text": [
      "2024-02-25 00:00:00\n"
     ]
    },
    {
     "name": "stderr",
     "output_type": "stream",
     "text": [
      "19:55:16 - cmdstanpy - INFO - Chain [1] start processing\n"
     ]
    },
    {
     "name": "stdout",
     "output_type": "stream",
     "text": [
      "2024-02-25 00:00:00\n"
     ]
    },
    {
     "name": "stderr",
     "output_type": "stream",
     "text": [
      "19:55:16 - cmdstanpy - INFO - Chain [1] done processing\n"
     ]
    },
    {
     "name": "stdout",
     "output_type": "stream",
     "text": [
      "2024-02-25 00:00:00\n"
     ]
    },
    {
     "name": "stderr",
     "output_type": "stream",
     "text": [
      "19:55:17 - cmdstanpy - INFO - Chain [1] start processing\n",
      "19:55:17 - cmdstanpy - INFO - Chain [1] done processing\n",
      "19:55:17 - cmdstanpy - INFO - Chain [1] start processing\n"
     ]
    },
    {
     "name": "stdout",
     "output_type": "stream",
     "text": [
      "2024-02-25 00:00:00\n"
     ]
    },
    {
     "name": "stderr",
     "output_type": "stream",
     "text": [
      "19:55:17 - cmdstanpy - INFO - Chain [1] done processing\n",
      "19:55:18 - cmdstanpy - INFO - Chain [1] start processing\n"
     ]
    },
    {
     "name": "stdout",
     "output_type": "stream",
     "text": [
      "2024-02-25 00:00:00\n"
     ]
    },
    {
     "name": "stderr",
     "output_type": "stream",
     "text": [
      "19:55:18 - cmdstanpy - INFO - Chain [1] done processing\n",
      "19:55:18 - cmdstanpy - INFO - Chain [1] start processing\n"
     ]
    },
    {
     "name": "stdout",
     "output_type": "stream",
     "text": [
      "2024-02-25 00:00:00\n"
     ]
    },
    {
     "name": "stderr",
     "output_type": "stream",
     "text": [
      "19:55:18 - cmdstanpy - INFO - Chain [1] done processing\n",
      "19:55:18 - cmdstanpy - INFO - Chain [1] start processing\n"
     ]
    },
    {
     "name": "stdout",
     "output_type": "stream",
     "text": [
      "2024-02-25 00:00:00\n"
     ]
    },
    {
     "name": "stderr",
     "output_type": "stream",
     "text": [
      "19:55:19 - cmdstanpy - INFO - Chain [1] done processing\n",
      "19:55:19 - cmdstanpy - INFO - Chain [1] start processing\n"
     ]
    },
    {
     "name": "stdout",
     "output_type": "stream",
     "text": [
      "2024-02-25 00:00:00\n"
     ]
    },
    {
     "name": "stderr",
     "output_type": "stream",
     "text": [
      "19:55:19 - cmdstanpy - INFO - Chain [1] done processing\n",
      "19:55:19 - cmdstanpy - INFO - Chain [1] start processing\n"
     ]
    },
    {
     "name": "stdout",
     "output_type": "stream",
     "text": [
      "2024-02-25 00:00:00\n"
     ]
    },
    {
     "name": "stderr",
     "output_type": "stream",
     "text": [
      "19:55:19 - cmdstanpy - INFO - Chain [1] done processing\n",
      "19:55:20 - cmdstanpy - INFO - Chain [1] start processing\n"
     ]
    },
    {
     "name": "stdout",
     "output_type": "stream",
     "text": [
      "2024-02-25 00:00:00\n"
     ]
    },
    {
     "name": "stderr",
     "output_type": "stream",
     "text": [
      "19:55:20 - cmdstanpy - INFO - Chain [1] done processing\n",
      "19:55:20 - cmdstanpy - INFO - Chain [1] start processing\n"
     ]
    },
    {
     "name": "stdout",
     "output_type": "stream",
     "text": [
      "2024-02-25 00:00:00\n"
     ]
    },
    {
     "name": "stderr",
     "output_type": "stream",
     "text": [
      "19:55:20 - cmdstanpy - INFO - Chain [1] done processing\n",
      "19:55:21 - cmdstanpy - INFO - Chain [1] start processing\n"
     ]
    },
    {
     "name": "stdout",
     "output_type": "stream",
     "text": [
      "2024-02-25 00:00:00\n"
     ]
    },
    {
     "name": "stderr",
     "output_type": "stream",
     "text": [
      "19:55:21 - cmdstanpy - INFO - Chain [1] done processing\n",
      "19:55:21 - cmdstanpy - INFO - Chain [1] start processing\n"
     ]
    },
    {
     "name": "stdout",
     "output_type": "stream",
     "text": [
      "2024-02-25 00:00:00\n"
     ]
    },
    {
     "name": "stderr",
     "output_type": "stream",
     "text": [
      "19:55:21 - cmdstanpy - INFO - Chain [1] done processing\n",
      "19:55:21 - cmdstanpy - INFO - Chain [1] start processing\n",
      "19:55:21 - cmdstanpy - INFO - Chain [1] done processing\n"
     ]
    },
    {
     "name": "stdout",
     "output_type": "stream",
     "text": [
      "2024-02-25 00:00:00\n"
     ]
    },
    {
     "name": "stderr",
     "output_type": "stream",
     "text": [
      "19:55:22 - cmdstanpy - INFO - Chain [1] start processing\n"
     ]
    },
    {
     "name": "stdout",
     "output_type": "stream",
     "text": [
      "2024-02-25 00:00:00\n"
     ]
    },
    {
     "name": "stderr",
     "output_type": "stream",
     "text": [
      "19:55:22 - cmdstanpy - INFO - Chain [1] done processing\n",
      "19:55:22 - cmdstanpy - INFO - Chain [1] start processing\n"
     ]
    },
    {
     "name": "stdout",
     "output_type": "stream",
     "text": [
      "2024-02-25 00:00:00\n"
     ]
    },
    {
     "name": "stderr",
     "output_type": "stream",
     "text": [
      "19:55:22 - cmdstanpy - INFO - Chain [1] done processing\n",
      "19:55:23 - cmdstanpy - INFO - Chain [1] start processing\n"
     ]
    },
    {
     "name": "stdout",
     "output_type": "stream",
     "text": [
      "2024-02-25 00:00:00\n"
     ]
    },
    {
     "name": "stderr",
     "output_type": "stream",
     "text": [
      "19:55:23 - cmdstanpy - INFO - Chain [1] done processing\n",
      "19:55:23 - cmdstanpy - INFO - Chain [1] start processing\n"
     ]
    },
    {
     "name": "stdout",
     "output_type": "stream",
     "text": [
      "2024-02-25 00:00:00\n"
     ]
    },
    {
     "name": "stderr",
     "output_type": "stream",
     "text": [
      "19:55:23 - cmdstanpy - INFO - Chain [1] done processing\n",
      "19:55:24 - cmdstanpy - INFO - Chain [1] start processing\n"
     ]
    },
    {
     "name": "stdout",
     "output_type": "stream",
     "text": [
      "2024-02-25 00:00:00\n"
     ]
    },
    {
     "name": "stderr",
     "output_type": "stream",
     "text": [
      "19:55:24 - cmdstanpy - INFO - Chain [1] done processing\n",
      "19:55:24 - cmdstanpy - INFO - Chain [1] start processing\n"
     ]
    },
    {
     "name": "stdout",
     "output_type": "stream",
     "text": [
      "2024-02-25 00:00:00\n"
     ]
    },
    {
     "name": "stderr",
     "output_type": "stream",
     "text": [
      "19:55:24 - cmdstanpy - INFO - Chain [1] done processing\n",
      "19:55:24 - cmdstanpy - INFO - Chain [1] start processing\n",
      "19:55:24 - cmdstanpy - INFO - Chain [1] done processing\n"
     ]
    },
    {
     "name": "stdout",
     "output_type": "stream",
     "text": [
      "2024-02-25 00:00:00\n",
      "2024-02-25 00:00:00\n"
     ]
    },
    {
     "name": "stderr",
     "output_type": "stream",
     "text": [
      "19:55:25 - cmdstanpy - INFO - Chain [1] start processing\n",
      "19:55:25 - cmdstanpy - INFO - Chain [1] done processing\n",
      "19:55:25 - cmdstanpy - INFO - Chain [1] start processing\n"
     ]
    },
    {
     "name": "stdout",
     "output_type": "stream",
     "text": [
      "2024-02-25 00:00:00\n"
     ]
    },
    {
     "name": "stderr",
     "output_type": "stream",
     "text": [
      "19:55:25 - cmdstanpy - INFO - Chain [1] done processing\n",
      "19:55:26 - cmdstanpy - INFO - Chain [1] start processing\n",
      "19:55:26 - cmdstanpy - INFO - Chain [1] done processing\n"
     ]
    },
    {
     "name": "stdout",
     "output_type": "stream",
     "text": [
      "2024-02-25 00:00:00\n"
     ]
    },
    {
     "name": "stderr",
     "output_type": "stream",
     "text": [
      "19:55:26 - cmdstanpy - INFO - Chain [1] start processing\n"
     ]
    },
    {
     "name": "stdout",
     "output_type": "stream",
     "text": [
      "2024-02-25 00:00:00\n"
     ]
    },
    {
     "name": "stderr",
     "output_type": "stream",
     "text": [
      "19:55:26 - cmdstanpy - INFO - Chain [1] done processing\n",
      "19:55:26 - cmdstanpy - INFO - Chain [1] start processing\n"
     ]
    },
    {
     "name": "stdout",
     "output_type": "stream",
     "text": [
      "2024-02-25 00:00:00\n"
     ]
    },
    {
     "name": "stderr",
     "output_type": "stream",
     "text": [
      "19:55:26 - cmdstanpy - INFO - Chain [1] done processing\n"
     ]
    },
    {
     "name": "stdout",
     "output_type": "stream",
     "text": [
      "2024-02-25 00:00:00\n"
     ]
    },
    {
     "name": "stderr",
     "output_type": "stream",
     "text": [
      "19:55:27 - cmdstanpy - INFO - Chain [1] start processing\n",
      "19:55:27 - cmdstanpy - INFO - Chain [1] done processing\n",
      "19:55:27 - cmdstanpy - INFO - Chain [1] start processing\n"
     ]
    },
    {
     "name": "stdout",
     "output_type": "stream",
     "text": [
      "2024-02-25 00:00:00\n"
     ]
    },
    {
     "name": "stderr",
     "output_type": "stream",
     "text": [
      "19:55:27 - cmdstanpy - INFO - Chain [1] done processing\n",
      "19:55:27 - cmdstanpy - INFO - Chain [1] start processing\n",
      "19:55:27 - cmdstanpy - INFO - Chain [1] done processing\n"
     ]
    },
    {
     "name": "stdout",
     "output_type": "stream",
     "text": [
      "2024-02-25 00:00:00\n"
     ]
    },
    {
     "name": "stderr",
     "output_type": "stream",
     "text": [
      "19:55:28 - cmdstanpy - INFO - Chain [1] start processing\n"
     ]
    },
    {
     "name": "stdout",
     "output_type": "stream",
     "text": [
      "2024-02-25 00:00:00\n"
     ]
    },
    {
     "name": "stderr",
     "output_type": "stream",
     "text": [
      "19:55:28 - cmdstanpy - INFO - Chain [1] done processing\n",
      "19:55:28 - cmdstanpy - INFO - Chain [1] start processing\n"
     ]
    },
    {
     "name": "stdout",
     "output_type": "stream",
     "text": [
      "2024-02-25 00:00:00\n"
     ]
    },
    {
     "name": "stderr",
     "output_type": "stream",
     "text": [
      "19:55:28 - cmdstanpy - INFO - Chain [1] done processing\n",
      "19:55:29 - cmdstanpy - INFO - Chain [1] start processing\n",
      "19:55:29 - cmdstanpy - INFO - Chain [1] done processing\n"
     ]
    },
    {
     "name": "stdout",
     "output_type": "stream",
     "text": [
      "2024-02-25 00:00:00\n"
     ]
    },
    {
     "name": "stderr",
     "output_type": "stream",
     "text": [
      "19:55:29 - cmdstanpy - INFO - Chain [1] start processing\n",
      "19:55:29 - cmdstanpy - INFO - Chain [1] done processing\n"
     ]
    },
    {
     "name": "stdout",
     "output_type": "stream",
     "text": [
      "2024-02-25 00:00:00\n"
     ]
    },
    {
     "name": "stderr",
     "output_type": "stream",
     "text": [
      "19:55:29 - cmdstanpy - INFO - Chain [1] start processing\n"
     ]
    },
    {
     "name": "stdout",
     "output_type": "stream",
     "text": [
      "2024-02-25 00:00:00\n"
     ]
    },
    {
     "name": "stderr",
     "output_type": "stream",
     "text": [
      "19:55:29 - cmdstanpy - INFO - Chain [1] done processing\n",
      "19:55:30 - cmdstanpy - INFO - Chain [1] start processing\n",
      "19:55:30 - cmdstanpy - INFO - Chain [1] done processing\n"
     ]
    },
    {
     "name": "stdout",
     "output_type": "stream",
     "text": [
      "2024-02-25 00:00:00\n"
     ]
    },
    {
     "name": "stderr",
     "output_type": "stream",
     "text": [
      "19:55:30 - cmdstanpy - INFO - Chain [1] start processing\n"
     ]
    },
    {
     "name": "stdout",
     "output_type": "stream",
     "text": [
      "2024-02-25 00:00:00\n"
     ]
    },
    {
     "name": "stderr",
     "output_type": "stream",
     "text": [
      "19:55:30 - cmdstanpy - INFO - Chain [1] done processing\n",
      "19:55:30 - cmdstanpy - INFO - Chain [1] start processing\n",
      "19:55:30 - cmdstanpy - INFO - Chain [1] done processing\n"
     ]
    },
    {
     "name": "stdout",
     "output_type": "stream",
     "text": [
      "2024-02-25 00:00:00\n"
     ]
    },
    {
     "name": "stderr",
     "output_type": "stream",
     "text": [
      "19:55:31 - cmdstanpy - INFO - Chain [1] start processing\n"
     ]
    },
    {
     "name": "stdout",
     "output_type": "stream",
     "text": [
      "2024-02-25 00:00:00\n"
     ]
    },
    {
     "name": "stderr",
     "output_type": "stream",
     "text": [
      "19:55:31 - cmdstanpy - INFO - Chain [1] done processing\n",
      "19:55:31 - cmdstanpy - INFO - Chain [1] start processing\n"
     ]
    },
    {
     "name": "stdout",
     "output_type": "stream",
     "text": [
      "2024-02-25 00:00:00\n"
     ]
    },
    {
     "name": "stderr",
     "output_type": "stream",
     "text": [
      "19:55:31 - cmdstanpy - INFO - Chain [1] done processing\n",
      "19:55:32 - cmdstanpy - INFO - Chain [1] start processing\n",
      "19:55:32 - cmdstanpy - INFO - Chain [1] done processing\n"
     ]
    },
    {
     "name": "stdout",
     "output_type": "stream",
     "text": [
      "2024-02-25 00:00:00\n"
     ]
    },
    {
     "name": "stderr",
     "output_type": "stream",
     "text": [
      "19:55:32 - cmdstanpy - INFO - Chain [1] start processing\n"
     ]
    },
    {
     "name": "stdout",
     "output_type": "stream",
     "text": [
      "2024-02-25 00:00:00\n"
     ]
    },
    {
     "name": "stderr",
     "output_type": "stream",
     "text": [
      "19:55:32 - cmdstanpy - INFO - Chain [1] done processing\n",
      "19:55:33 - cmdstanpy - INFO - Chain [1] start processing\n",
      "19:55:33 - cmdstanpy - INFO - Chain [1] done processing\n"
     ]
    },
    {
     "name": "stdout",
     "output_type": "stream",
     "text": [
      "2024-02-25 00:00:00\n"
     ]
    },
    {
     "name": "stderr",
     "output_type": "stream",
     "text": [
      "19:55:33 - cmdstanpy - INFO - Chain [1] start processing\n"
     ]
    },
    {
     "name": "stdout",
     "output_type": "stream",
     "text": [
      "2024-02-25 00:00:00\n"
     ]
    },
    {
     "name": "stderr",
     "output_type": "stream",
     "text": [
      "19:55:33 - cmdstanpy - INFO - Chain [1] done processing\n",
      "19:55:33 - cmdstanpy - INFO - Chain [1] start processing\n"
     ]
    },
    {
     "name": "stdout",
     "output_type": "stream",
     "text": [
      "2024-02-25 00:00:00\n"
     ]
    },
    {
     "name": "stderr",
     "output_type": "stream",
     "text": [
      "19:55:33 - cmdstanpy - INFO - Chain [1] done processing\n",
      "19:55:34 - cmdstanpy - INFO - Chain [1] start processing\n"
     ]
    },
    {
     "name": "stdout",
     "output_type": "stream",
     "text": [
      "2024-02-25 00:00:00\n"
     ]
    },
    {
     "name": "stderr",
     "output_type": "stream",
     "text": [
      "19:55:34 - cmdstanpy - INFO - Chain [1] done processing\n",
      "19:55:34 - cmdstanpy - INFO - Chain [1] start processing\n"
     ]
    },
    {
     "name": "stdout",
     "output_type": "stream",
     "text": [
      "2024-02-25 00:00:00\n"
     ]
    },
    {
     "name": "stderr",
     "output_type": "stream",
     "text": [
      "19:55:34 - cmdstanpy - INFO - Chain [1] done processing\n",
      "19:55:34 - cmdstanpy - INFO - Chain [1] start processing\n"
     ]
    },
    {
     "name": "stdout",
     "output_type": "stream",
     "text": [
      "2024-02-25 00:00:00\n"
     ]
    },
    {
     "name": "stderr",
     "output_type": "stream",
     "text": [
      "19:55:35 - cmdstanpy - INFO - Chain [1] done processing\n",
      "19:55:35 - cmdstanpy - INFO - Chain [1] start processing\n",
      "19:55:35 - cmdstanpy - INFO - Chain [1] done processing\n"
     ]
    },
    {
     "name": "stdout",
     "output_type": "stream",
     "text": [
      "2024-02-25 00:00:00\n"
     ]
    },
    {
     "name": "stderr",
     "output_type": "stream",
     "text": [
      "19:55:35 - cmdstanpy - INFO - Chain [1] start processing\n"
     ]
    },
    {
     "name": "stdout",
     "output_type": "stream",
     "text": [
      "2024-02-25 00:00:00\n"
     ]
    },
    {
     "name": "stderr",
     "output_type": "stream",
     "text": [
      "19:55:35 - cmdstanpy - INFO - Chain [1] done processing\n",
      "19:55:36 - cmdstanpy - INFO - Chain [1] start processing\n"
     ]
    },
    {
     "name": "stdout",
     "output_type": "stream",
     "text": [
      "2024-02-25 00:00:00\n"
     ]
    },
    {
     "name": "stderr",
     "output_type": "stream",
     "text": [
      "19:55:36 - cmdstanpy - INFO - Chain [1] done processing\n",
      "19:55:36 - cmdstanpy - INFO - Chain [1] start processing\n"
     ]
    },
    {
     "name": "stdout",
     "output_type": "stream",
     "text": [
      "2024-02-25 00:00:00\n"
     ]
    },
    {
     "name": "stderr",
     "output_type": "stream",
     "text": [
      "19:55:36 - cmdstanpy - INFO - Chain [1] done processing\n",
      "19:55:37 - cmdstanpy - INFO - Chain [1] start processing\n"
     ]
    },
    {
     "name": "stdout",
     "output_type": "stream",
     "text": [
      "2024-02-25 00:00:00\n"
     ]
    },
    {
     "name": "stderr",
     "output_type": "stream",
     "text": [
      "19:55:37 - cmdstanpy - INFO - Chain [1] done processing\n",
      "19:55:37 - cmdstanpy - INFO - Chain [1] start processing\n"
     ]
    },
    {
     "name": "stdout",
     "output_type": "stream",
     "text": [
      "2024-02-25 00:00:00\n"
     ]
    },
    {
     "name": "stderr",
     "output_type": "stream",
     "text": [
      "19:55:37 - cmdstanpy - INFO - Chain [1] done processing\n",
      "19:55:37 - cmdstanpy - INFO - Chain [1] start processing\n"
     ]
    },
    {
     "name": "stdout",
     "output_type": "stream",
     "text": [
      "2024-02-25 00:00:00\n"
     ]
    },
    {
     "name": "stderr",
     "output_type": "stream",
     "text": [
      "19:55:37 - cmdstanpy - INFO - Chain [1] done processing\n",
      "19:55:38 - cmdstanpy - INFO - Chain [1] start processing\n"
     ]
    },
    {
     "name": "stdout",
     "output_type": "stream",
     "text": [
      "2024-02-25 00:00:00\n"
     ]
    },
    {
     "name": "stderr",
     "output_type": "stream",
     "text": [
      "19:55:38 - cmdstanpy - INFO - Chain [1] done processing\n",
      "19:55:38 - cmdstanpy - INFO - Chain [1] start processing\n"
     ]
    },
    {
     "name": "stdout",
     "output_type": "stream",
     "text": [
      "2024-02-25 00:00:00\n"
     ]
    },
    {
     "name": "stderr",
     "output_type": "stream",
     "text": [
      "19:55:38 - cmdstanpy - INFO - Chain [1] done processing\n",
      "19:55:39 - cmdstanpy - INFO - Chain [1] start processing\n"
     ]
    },
    {
     "name": "stdout",
     "output_type": "stream",
     "text": [
      "2024-02-25 00:00:00\n"
     ]
    },
    {
     "name": "stderr",
     "output_type": "stream",
     "text": [
      "19:55:39 - cmdstanpy - INFO - Chain [1] done processing\n",
      "19:55:39 - cmdstanpy - INFO - Chain [1] start processing\n"
     ]
    },
    {
     "name": "stdout",
     "output_type": "stream",
     "text": [
      "2024-02-25 00:00:00\n"
     ]
    },
    {
     "name": "stderr",
     "output_type": "stream",
     "text": [
      "19:55:39 - cmdstanpy - INFO - Chain [1] done processing\n",
      "19:55:39 - cmdstanpy - INFO - Chain [1] start processing\n"
     ]
    },
    {
     "name": "stdout",
     "output_type": "stream",
     "text": [
      "2024-02-25 00:00:00\n"
     ]
    },
    {
     "name": "stderr",
     "output_type": "stream",
     "text": [
      "19:55:40 - cmdstanpy - INFO - Chain [1] done processing\n",
      "19:55:40 - cmdstanpy - INFO - Chain [1] start processing\n"
     ]
    },
    {
     "name": "stdout",
     "output_type": "stream",
     "text": [
      "2024-02-25 00:00:00\n"
     ]
    },
    {
     "name": "stderr",
     "output_type": "stream",
     "text": [
      "19:55:40 - cmdstanpy - INFO - Chain [1] done processing\n",
      "19:55:40 - cmdstanpy - INFO - Chain [1] start processing\n"
     ]
    },
    {
     "name": "stdout",
     "output_type": "stream",
     "text": [
      "2024-02-25 00:00:00\n"
     ]
    },
    {
     "name": "stderr",
     "output_type": "stream",
     "text": [
      "19:55:41 - cmdstanpy - INFO - Chain [1] done processing\n",
      "19:55:41 - cmdstanpy - INFO - Chain [1] start processing\n"
     ]
    },
    {
     "name": "stdout",
     "output_type": "stream",
     "text": [
      "2024-02-25 00:00:00\n"
     ]
    },
    {
     "name": "stderr",
     "output_type": "stream",
     "text": [
      "19:55:41 - cmdstanpy - INFO - Chain [1] done processing\n",
      "19:55:41 - cmdstanpy - INFO - Chain [1] start processing\n"
     ]
    },
    {
     "name": "stdout",
     "output_type": "stream",
     "text": [
      "2024-02-25 00:00:00\n"
     ]
    },
    {
     "name": "stderr",
     "output_type": "stream",
     "text": [
      "19:55:42 - cmdstanpy - INFO - Chain [1] done processing\n",
      "19:55:42 - cmdstanpy - INFO - Chain [1] start processing\n"
     ]
    },
    {
     "name": "stdout",
     "output_type": "stream",
     "text": [
      "2024-02-25 00:00:00\n"
     ]
    },
    {
     "name": "stderr",
     "output_type": "stream",
     "text": [
      "19:55:42 - cmdstanpy - INFO - Chain [1] done processing\n",
      "19:55:42 - cmdstanpy - INFO - Chain [1] start processing\n"
     ]
    },
    {
     "name": "stdout",
     "output_type": "stream",
     "text": [
      "2024-02-25 00:00:00\n"
     ]
    },
    {
     "name": "stderr",
     "output_type": "stream",
     "text": [
      "19:55:42 - cmdstanpy - INFO - Chain [1] done processing\n",
      "19:55:43 - cmdstanpy - INFO - Chain [1] start processing\n"
     ]
    },
    {
     "name": "stdout",
     "output_type": "stream",
     "text": [
      "2024-02-25 00:00:00\n"
     ]
    },
    {
     "name": "stderr",
     "output_type": "stream",
     "text": [
      "19:55:43 - cmdstanpy - INFO - Chain [1] done processing\n",
      "19:55:43 - cmdstanpy - INFO - Chain [1] start processing\n"
     ]
    },
    {
     "name": "stdout",
     "output_type": "stream",
     "text": [
      "2024-02-25 00:00:00\n"
     ]
    },
    {
     "name": "stderr",
     "output_type": "stream",
     "text": [
      "19:55:43 - cmdstanpy - INFO - Chain [1] done processing\n",
      "19:55:44 - cmdstanpy - INFO - Chain [1] start processing\n",
      "19:55:44 - cmdstanpy - INFO - Chain [1] done processing\n"
     ]
    },
    {
     "name": "stdout",
     "output_type": "stream",
     "text": [
      "2024-02-25 00:00:00\n"
     ]
    },
    {
     "name": "stderr",
     "output_type": "stream",
     "text": [
      "19:55:44 - cmdstanpy - INFO - Chain [1] start processing\n"
     ]
    },
    {
     "name": "stdout",
     "output_type": "stream",
     "text": [
      "2024-02-25 00:00:00\n"
     ]
    },
    {
     "name": "stderr",
     "output_type": "stream",
     "text": [
      "19:55:44 - cmdstanpy - INFO - Chain [1] done processing\n",
      "19:55:44 - cmdstanpy - INFO - Chain [1] start processing\n",
      "19:55:44 - cmdstanpy - INFO - Chain [1] done processing\n"
     ]
    },
    {
     "name": "stdout",
     "output_type": "stream",
     "text": [
      "2024-02-25 00:00:00\n"
     ]
    },
    {
     "name": "stderr",
     "output_type": "stream",
     "text": [
      "19:55:45 - cmdstanpy - INFO - Chain [1] start processing\n"
     ]
    },
    {
     "name": "stdout",
     "output_type": "stream",
     "text": [
      "2024-02-25 00:00:00\n"
     ]
    },
    {
     "name": "stderr",
     "output_type": "stream",
     "text": [
      "19:55:45 - cmdstanpy - INFO - Chain [1] done processing\n",
      "19:55:45 - cmdstanpy - INFO - Chain [1] start processing\n"
     ]
    },
    {
     "name": "stdout",
     "output_type": "stream",
     "text": [
      "2024-02-25 00:00:00\n"
     ]
    },
    {
     "name": "stderr",
     "output_type": "stream",
     "text": [
      "19:55:45 - cmdstanpy - INFO - Chain [1] done processing\n",
      "19:55:45 - cmdstanpy - INFO - Chain [1] start processing\n"
     ]
    },
    {
     "name": "stdout",
     "output_type": "stream",
     "text": [
      "2024-02-25 00:00:00\n"
     ]
    },
    {
     "name": "stderr",
     "output_type": "stream",
     "text": [
      "19:55:46 - cmdstanpy - INFO - Chain [1] done processing\n"
     ]
    },
    {
     "name": "stdout",
     "output_type": "stream",
     "text": [
      "2024-02-25 00:00:00\n"
     ]
    },
    {
     "name": "stderr",
     "output_type": "stream",
     "text": [
      "19:55:46 - cmdstanpy - INFO - Chain [1] start processing\n",
      "19:55:46 - cmdstanpy - INFO - Chain [1] done processing\n",
      "19:55:46 - cmdstanpy - INFO - Chain [1] start processing\n"
     ]
    },
    {
     "name": "stdout",
     "output_type": "stream",
     "text": [
      "2024-02-25 00:00:00\n"
     ]
    },
    {
     "name": "stderr",
     "output_type": "stream",
     "text": [
      "19:55:47 - cmdstanpy - INFO - Chain [1] done processing\n",
      "19:55:47 - cmdstanpy - INFO - Chain [1] start processing\n"
     ]
    },
    {
     "name": "stdout",
     "output_type": "stream",
     "text": [
      "2024-02-25 00:00:00\n"
     ]
    },
    {
     "name": "stderr",
     "output_type": "stream",
     "text": [
      "19:55:47 - cmdstanpy - INFO - Chain [1] done processing\n",
      "19:55:48 - cmdstanpy - INFO - Chain [1] start processing\n"
     ]
    },
    {
     "name": "stdout",
     "output_type": "stream",
     "text": [
      "2024-02-25 00:00:00\n"
     ]
    },
    {
     "name": "stderr",
     "output_type": "stream",
     "text": [
      "19:55:48 - cmdstanpy - INFO - Chain [1] done processing\n",
      "19:55:48 - cmdstanpy - INFO - Chain [1] start processing\n"
     ]
    },
    {
     "name": "stdout",
     "output_type": "stream",
     "text": [
      "2024-02-25 00:00:00\n"
     ]
    },
    {
     "name": "stderr",
     "output_type": "stream",
     "text": [
      "19:55:48 - cmdstanpy - INFO - Chain [1] done processing\n",
      "19:55:49 - cmdstanpy - INFO - Chain [1] start processing\n"
     ]
    },
    {
     "name": "stdout",
     "output_type": "stream",
     "text": [
      "2024-02-25 00:00:00\n"
     ]
    },
    {
     "name": "stderr",
     "output_type": "stream",
     "text": [
      "19:55:49 - cmdstanpy - INFO - Chain [1] done processing\n",
      "19:55:49 - cmdstanpy - INFO - Chain [1] start processing\n"
     ]
    },
    {
     "name": "stdout",
     "output_type": "stream",
     "text": [
      "2024-02-25 00:00:00\n"
     ]
    },
    {
     "name": "stderr",
     "output_type": "stream",
     "text": [
      "19:55:49 - cmdstanpy - INFO - Chain [1] done processing\n",
      "19:55:49 - cmdstanpy - INFO - Chain [1] start processing\n"
     ]
    },
    {
     "name": "stdout",
     "output_type": "stream",
     "text": [
      "2024-02-25 00:00:00\n"
     ]
    },
    {
     "name": "stderr",
     "output_type": "stream",
     "text": [
      "19:55:49 - cmdstanpy - INFO - Chain [1] done processing\n",
      "19:55:50 - cmdstanpy - INFO - Chain [1] start processing\n",
      "19:55:50 - cmdstanpy - INFO - Chain [1] done processing\n"
     ]
    },
    {
     "name": "stdout",
     "output_type": "stream",
     "text": [
      "2024-02-25 00:00:00\n"
     ]
    },
    {
     "name": "stderr",
     "output_type": "stream",
     "text": [
      "19:55:50 - cmdstanpy - INFO - Chain [1] start processing\n"
     ]
    },
    {
     "name": "stdout",
     "output_type": "stream",
     "text": [
      "2024-02-25 00:00:00\n"
     ]
    },
    {
     "name": "stderr",
     "output_type": "stream",
     "text": [
      "19:55:50 - cmdstanpy - INFO - Chain [1] done processing\n",
      "19:55:51 - cmdstanpy - INFO - Chain [1] start processing\n"
     ]
    },
    {
     "name": "stdout",
     "output_type": "stream",
     "text": [
      "2024-02-25 00:00:00\n"
     ]
    },
    {
     "name": "stderr",
     "output_type": "stream",
     "text": [
      "19:55:51 - cmdstanpy - INFO - Chain [1] done processing\n",
      "19:55:51 - cmdstanpy - INFO - Chain [1] start processing\n"
     ]
    },
    {
     "name": "stdout",
     "output_type": "stream",
     "text": [
      "2024-02-25 00:00:00\n"
     ]
    },
    {
     "name": "stderr",
     "output_type": "stream",
     "text": [
      "19:55:51 - cmdstanpy - INFO - Chain [1] done processing\n",
      "19:55:51 - cmdstanpy - INFO - Chain [1] start processing\n",
      "19:55:51 - cmdstanpy - INFO - Chain [1] done processing\n"
     ]
    },
    {
     "name": "stdout",
     "output_type": "stream",
     "text": [
      "2024-02-25 00:00:00\n"
     ]
    },
    {
     "name": "stderr",
     "output_type": "stream",
     "text": [
      "19:55:52 - cmdstanpy - INFO - Chain [1] start processing\n"
     ]
    },
    {
     "name": "stdout",
     "output_type": "stream",
     "text": [
      "2024-02-25 00:00:00\n"
     ]
    },
    {
     "name": "stderr",
     "output_type": "stream",
     "text": [
      "19:55:52 - cmdstanpy - INFO - Chain [1] done processing\n",
      "19:55:52 - cmdstanpy - INFO - Chain [1] start processing\n"
     ]
    },
    {
     "name": "stdout",
     "output_type": "stream",
     "text": [
      "2024-02-25 00:00:00\n"
     ]
    },
    {
     "name": "stderr",
     "output_type": "stream",
     "text": [
      "19:55:52 - cmdstanpy - INFO - Chain [1] done processing\n",
      "19:55:52 - cmdstanpy - INFO - Chain [1] start processing\n"
     ]
    },
    {
     "name": "stdout",
     "output_type": "stream",
     "text": [
      "2024-02-25 00:00:00\n"
     ]
    },
    {
     "name": "stderr",
     "output_type": "stream",
     "text": [
      "19:55:53 - cmdstanpy - INFO - Chain [1] done processing\n",
      "19:55:53 - cmdstanpy - INFO - Chain [1] start processing\n"
     ]
    },
    {
     "name": "stdout",
     "output_type": "stream",
     "text": [
      "2024-02-25 00:00:00\n"
     ]
    },
    {
     "name": "stderr",
     "output_type": "stream",
     "text": [
      "19:55:53 - cmdstanpy - INFO - Chain [1] done processing\n",
      "19:55:53 - cmdstanpy - INFO - Chain [1] start processing\n"
     ]
    },
    {
     "name": "stdout",
     "output_type": "stream",
     "text": [
      "2024-02-25 00:00:00\n"
     ]
    },
    {
     "name": "stderr",
     "output_type": "stream",
     "text": [
      "19:55:53 - cmdstanpy - INFO - Chain [1] done processing\n",
      "19:55:54 - cmdstanpy - INFO - Chain [1] start processing\n",
      "19:55:54 - cmdstanpy - INFO - Chain [1] done processing\n"
     ]
    },
    {
     "name": "stdout",
     "output_type": "stream",
     "text": [
      "2024-02-25 00:00:00\n"
     ]
    },
    {
     "name": "stderr",
     "output_type": "stream",
     "text": [
      "19:55:54 - cmdstanpy - INFO - Chain [1] start processing\n"
     ]
    },
    {
     "name": "stdout",
     "output_type": "stream",
     "text": [
      "2024-02-25 00:00:00\n"
     ]
    },
    {
     "name": "stderr",
     "output_type": "stream",
     "text": [
      "19:55:54 - cmdstanpy - INFO - Chain [1] done processing\n",
      "19:55:54 - cmdstanpy - INFO - Chain [1] start processing\n",
      "19:55:55 - cmdstanpy - INFO - Chain [1] done processing\n"
     ]
    },
    {
     "name": "stdout",
     "output_type": "stream",
     "text": [
      "2024-02-25 00:00:00\n"
     ]
    },
    {
     "name": "stderr",
     "output_type": "stream",
     "text": [
      "19:55:55 - cmdstanpy - INFO - Chain [1] start processing\n"
     ]
    },
    {
     "name": "stdout",
     "output_type": "stream",
     "text": [
      "2024-02-25 00:00:00\n"
     ]
    },
    {
     "name": "stderr",
     "output_type": "stream",
     "text": [
      "19:55:55 - cmdstanpy - INFO - Chain [1] done processing\n",
      "19:55:55 - cmdstanpy - INFO - Chain [1] start processing\n"
     ]
    },
    {
     "name": "stdout",
     "output_type": "stream",
     "text": [
      "2024-02-25 00:00:00\n"
     ]
    },
    {
     "name": "stderr",
     "output_type": "stream",
     "text": [
      "19:55:55 - cmdstanpy - INFO - Chain [1] done processing\n",
      "19:55:56 - cmdstanpy - INFO - Chain [1] start processing\n",
      "19:55:56 - cmdstanpy - INFO - Chain [1] done processing\n"
     ]
    },
    {
     "name": "stdout",
     "output_type": "stream",
     "text": [
      "2024-02-25 00:00:00\n"
     ]
    },
    {
     "name": "stderr",
     "output_type": "stream",
     "text": [
      "19:55:56 - cmdstanpy - INFO - Chain [1] start processing\n"
     ]
    },
    {
     "name": "stdout",
     "output_type": "stream",
     "text": [
      "2024-02-25 00:00:00\n"
     ]
    },
    {
     "name": "stderr",
     "output_type": "stream",
     "text": [
      "19:55:56 - cmdstanpy - INFO - Chain [1] done processing\n",
      "19:55:56 - cmdstanpy - INFO - Chain [1] start processing\n"
     ]
    },
    {
     "name": "stdout",
     "output_type": "stream",
     "text": [
      "2024-02-25 00:00:00\n"
     ]
    },
    {
     "name": "stderr",
     "output_type": "stream",
     "text": [
      "19:55:57 - cmdstanpy - INFO - Chain [1] done processing\n",
      "19:55:57 - cmdstanpy - INFO - Chain [1] start processing\n",
      "19:55:57 - cmdstanpy - INFO - Chain [1] done processing\n"
     ]
    },
    {
     "name": "stdout",
     "output_type": "stream",
     "text": [
      "2024-02-25 00:00:00\n"
     ]
    },
    {
     "name": "stderr",
     "output_type": "stream",
     "text": [
      "19:55:57 - cmdstanpy - INFO - Chain [1] start processing\n"
     ]
    },
    {
     "name": "stdout",
     "output_type": "stream",
     "text": [
      "2024-02-25 00:00:00\n"
     ]
    },
    {
     "name": "stderr",
     "output_type": "stream",
     "text": [
      "19:55:57 - cmdstanpy - INFO - Chain [1] done processing\n",
      "19:55:58 - cmdstanpy - INFO - Chain [1] start processing\n",
      "19:55:58 - cmdstanpy - INFO - Chain [1] done processing\n"
     ]
    },
    {
     "name": "stdout",
     "output_type": "stream",
     "text": [
      "2024-02-25 00:00:00\n"
     ]
    },
    {
     "name": "stderr",
     "output_type": "stream",
     "text": [
      "19:55:58 - cmdstanpy - INFO - Chain [1] start processing\n",
      "19:55:58 - cmdstanpy - INFO - Chain [1] done processing\n"
     ]
    },
    {
     "name": "stdout",
     "output_type": "stream",
     "text": [
      "2024-02-25 00:00:00\n"
     ]
    },
    {
     "name": "stderr",
     "output_type": "stream",
     "text": [
      "19:55:58 - cmdstanpy - INFO - Chain [1] start processing\n"
     ]
    },
    {
     "name": "stdout",
     "output_type": "stream",
     "text": [
      "2024-02-25 00:00:00\n"
     ]
    },
    {
     "name": "stderr",
     "output_type": "stream",
     "text": [
      "19:55:59 - cmdstanpy - INFO - Chain [1] done processing\n",
      "19:55:59 - cmdstanpy - INFO - Chain [1] start processing\n",
      "19:55:59 - cmdstanpy - INFO - Chain [1] done processing\n"
     ]
    },
    {
     "name": "stdout",
     "output_type": "stream",
     "text": [
      "2024-02-25 00:00:00\n"
     ]
    },
    {
     "name": "stderr",
     "output_type": "stream",
     "text": [
      "19:55:59 - cmdstanpy - INFO - Chain [1] start processing\n"
     ]
    },
    {
     "name": "stdout",
     "output_type": "stream",
     "text": [
      "2024-02-25 00:00:00\n"
     ]
    },
    {
     "name": "stderr",
     "output_type": "stream",
     "text": [
      "19:55:59 - cmdstanpy - INFO - Chain [1] done processing\n",
      "19:56:00 - cmdstanpy - INFO - Chain [1] start processing\n"
     ]
    },
    {
     "name": "stdout",
     "output_type": "stream",
     "text": [
      "2024-02-25 00:00:00\n"
     ]
    },
    {
     "name": "stderr",
     "output_type": "stream",
     "text": [
      "19:56:00 - cmdstanpy - INFO - Chain [1] done processing\n",
      "19:56:00 - cmdstanpy - INFO - Chain [1] start processing\n",
      "19:56:00 - cmdstanpy - INFO - Chain [1] done processing\n"
     ]
    },
    {
     "name": "stdout",
     "output_type": "stream",
     "text": [
      "2024-02-25 00:00:00\n"
     ]
    },
    {
     "name": "stderr",
     "output_type": "stream",
     "text": [
      "19:56:00 - cmdstanpy - INFO - Chain [1] start processing\n"
     ]
    },
    {
     "name": "stdout",
     "output_type": "stream",
     "text": [
      "2024-02-25 00:00:00\n"
     ]
    },
    {
     "name": "stderr",
     "output_type": "stream",
     "text": [
      "19:56:01 - cmdstanpy - INFO - Chain [1] done processing\n",
      "19:56:01 - cmdstanpy - INFO - Chain [1] start processing\n"
     ]
    },
    {
     "name": "stdout",
     "output_type": "stream",
     "text": [
      "2024-02-25 00:00:00\n"
     ]
    },
    {
     "name": "stderr",
     "output_type": "stream",
     "text": [
      "19:56:01 - cmdstanpy - INFO - Chain [1] done processing\n",
      "19:56:01 - cmdstanpy - INFO - Chain [1] start processing\n"
     ]
    },
    {
     "name": "stdout",
     "output_type": "stream",
     "text": [
      "2024-02-25 00:00:00\n"
     ]
    },
    {
     "name": "stderr",
     "output_type": "stream",
     "text": [
      "19:56:01 - cmdstanpy - INFO - Chain [1] done processing\n",
      "19:56:02 - cmdstanpy - INFO - Chain [1] start processing\n"
     ]
    },
    {
     "name": "stdout",
     "output_type": "stream",
     "text": [
      "2024-02-25 00:00:00\n"
     ]
    },
    {
     "name": "stderr",
     "output_type": "stream",
     "text": [
      "19:56:02 - cmdstanpy - INFO - Chain [1] done processing\n",
      "19:56:02 - cmdstanpy - INFO - Chain [1] start processing\n"
     ]
    },
    {
     "name": "stdout",
     "output_type": "stream",
     "text": [
      "2024-02-25 00:00:00\n"
     ]
    },
    {
     "name": "stderr",
     "output_type": "stream",
     "text": [
      "19:56:02 - cmdstanpy - INFO - Chain [1] done processing\n",
      "19:56:02 - cmdstanpy - INFO - Chain [1] start processing\n",
      "19:56:02 - cmdstanpy - INFO - Chain [1] done processing\n"
     ]
    },
    {
     "name": "stdout",
     "output_type": "stream",
     "text": [
      "2024-02-25 00:00:00\n"
     ]
    },
    {
     "name": "stderr",
     "output_type": "stream",
     "text": [
      "19:56:03 - cmdstanpy - INFO - Chain [1] start processing\n",
      "19:56:03 - cmdstanpy - INFO - Chain [1] done processing\n"
     ]
    },
    {
     "name": "stdout",
     "output_type": "stream",
     "text": [
      "2024-02-25 00:00:00\n"
     ]
    },
    {
     "name": "stderr",
     "output_type": "stream",
     "text": [
      "19:56:03 - cmdstanpy - INFO - Chain [1] start processing\n"
     ]
    },
    {
     "name": "stdout",
     "output_type": "stream",
     "text": [
      "2024-02-25 00:00:00\n"
     ]
    },
    {
     "name": "stderr",
     "output_type": "stream",
     "text": [
      "19:56:03 - cmdstanpy - INFO - Chain [1] done processing\n",
      "19:56:04 - cmdstanpy - INFO - Chain [1] start processing\n",
      "19:56:04 - cmdstanpy - INFO - Chain [1] done processing\n"
     ]
    },
    {
     "name": "stdout",
     "output_type": "stream",
     "text": [
      "2024-02-25 00:00:00\n"
     ]
    },
    {
     "name": "stderr",
     "output_type": "stream",
     "text": [
      "19:56:04 - cmdstanpy - INFO - Chain [1] start processing\n"
     ]
    },
    {
     "name": "stdout",
     "output_type": "stream",
     "text": [
      "2024-02-25 00:00:00\n"
     ]
    },
    {
     "name": "stderr",
     "output_type": "stream",
     "text": [
      "19:56:04 - cmdstanpy - INFO - Chain [1] done processing\n",
      "19:56:04 - cmdstanpy - INFO - Chain [1] start processing\n"
     ]
    },
    {
     "name": "stdout",
     "output_type": "stream",
     "text": [
      "2024-02-25 00:00:00\n"
     ]
    },
    {
     "name": "stderr",
     "output_type": "stream",
     "text": [
      "19:56:04 - cmdstanpy - INFO - Chain [1] done processing\n",
      "19:56:05 - cmdstanpy - INFO - Chain [1] start processing\n"
     ]
    },
    {
     "name": "stdout",
     "output_type": "stream",
     "text": [
      "2024-02-25 00:00:00\n"
     ]
    },
    {
     "name": "stderr",
     "output_type": "stream",
     "text": [
      "19:56:05 - cmdstanpy - INFO - Chain [1] done processing\n",
      "19:56:05 - cmdstanpy - INFO - Chain [1] start processing\n"
     ]
    },
    {
     "name": "stdout",
     "output_type": "stream",
     "text": [
      "2024-02-25 00:00:00\n"
     ]
    },
    {
     "name": "stderr",
     "output_type": "stream",
     "text": [
      "19:56:05 - cmdstanpy - INFO - Chain [1] done processing\n",
      "19:56:06 - cmdstanpy - INFO - Chain [1] start processing\n",
      "19:56:06 - cmdstanpy - INFO - Chain [1] done processing\n"
     ]
    },
    {
     "name": "stdout",
     "output_type": "stream",
     "text": [
      "2024-02-25 00:00:00\n"
     ]
    },
    {
     "name": "stderr",
     "output_type": "stream",
     "text": [
      "19:56:06 - cmdstanpy - INFO - Chain [1] start processing\n"
     ]
    },
    {
     "name": "stdout",
     "output_type": "stream",
     "text": [
      "2024-02-25 00:00:00\n"
     ]
    },
    {
     "name": "stderr",
     "output_type": "stream",
     "text": [
      "19:56:06 - cmdstanpy - INFO - Chain [1] done processing\n",
      "19:56:06 - cmdstanpy - INFO - Chain [1] start processing\n"
     ]
    },
    {
     "name": "stdout",
     "output_type": "stream",
     "text": [
      "2024-02-25 00:00:00\n"
     ]
    },
    {
     "name": "stderr",
     "output_type": "stream",
     "text": [
      "19:56:06 - cmdstanpy - INFO - Chain [1] done processing\n",
      "19:56:07 - cmdstanpy - INFO - Chain [1] start processing\n"
     ]
    },
    {
     "name": "stdout",
     "output_type": "stream",
     "text": [
      "2024-02-25 00:00:00\n"
     ]
    },
    {
     "name": "stderr",
     "output_type": "stream",
     "text": [
      "19:56:07 - cmdstanpy - INFO - Chain [1] done processing\n"
     ]
    },
    {
     "name": "stdout",
     "output_type": "stream",
     "text": [
      "2024-02-25 00:00:00\n"
     ]
    },
    {
     "name": "stderr",
     "output_type": "stream",
     "text": [
      "19:56:07 - cmdstanpy - INFO - Chain [1] start processing\n",
      "19:56:07 - cmdstanpy - INFO - Chain [1] done processing\n",
      "19:56:08 - cmdstanpy - INFO - Chain [1] start processing\n",
      "19:56:08 - cmdstanpy - INFO - Chain [1] done processing\n"
     ]
    },
    {
     "name": "stdout",
     "output_type": "stream",
     "text": [
      "2024-02-25 00:00:00\n"
     ]
    },
    {
     "name": "stderr",
     "output_type": "stream",
     "text": [
      "19:56:08 - cmdstanpy - INFO - Chain [1] start processing\n"
     ]
    },
    {
     "name": "stdout",
     "output_type": "stream",
     "text": [
      "2024-02-25 00:00:00\n"
     ]
    },
    {
     "name": "stderr",
     "output_type": "stream",
     "text": [
      "19:56:08 - cmdstanpy - INFO - Chain [1] done processing\n",
      "19:56:08 - cmdstanpy - INFO - Chain [1] start processing\n"
     ]
    },
    {
     "name": "stdout",
     "output_type": "stream",
     "text": [
      "2024-02-25 00:00:00\n"
     ]
    },
    {
     "name": "stderr",
     "output_type": "stream",
     "text": [
      "19:56:09 - cmdstanpy - INFO - Chain [1] done processing\n",
      "19:56:09 - cmdstanpy - INFO - Chain [1] start processing\n"
     ]
    },
    {
     "name": "stdout",
     "output_type": "stream",
     "text": [
      "2024-02-25 00:00:00\n"
     ]
    },
    {
     "name": "stderr",
     "output_type": "stream",
     "text": [
      "19:56:09 - cmdstanpy - INFO - Chain [1] done processing\n",
      "19:56:09 - cmdstanpy - INFO - Chain [1] start processing\n",
      "19:56:09 - cmdstanpy - INFO - Chain [1] done processing\n"
     ]
    },
    {
     "name": "stdout",
     "output_type": "stream",
     "text": [
      "2024-02-25 00:00:00\n"
     ]
    },
    {
     "name": "stderr",
     "output_type": "stream",
     "text": [
      "19:56:10 - cmdstanpy - INFO - Chain [1] start processing\n"
     ]
    },
    {
     "name": "stdout",
     "output_type": "stream",
     "text": [
      "2024-02-25 00:00:00\n"
     ]
    },
    {
     "name": "stderr",
     "output_type": "stream",
     "text": [
      "19:56:10 - cmdstanpy - INFO - Chain [1] done processing\n",
      "19:56:10 - cmdstanpy - INFO - Chain [1] start processing\n"
     ]
    },
    {
     "name": "stdout",
     "output_type": "stream",
     "text": [
      "2024-02-25 00:00:00\n"
     ]
    },
    {
     "name": "stderr",
     "output_type": "stream",
     "text": [
      "19:56:10 - cmdstanpy - INFO - Chain [1] done processing\n"
     ]
    },
    {
     "name": "stdout",
     "output_type": "stream",
     "text": [
      "2024-02-25 00:00:00\n"
     ]
    },
    {
     "name": "stderr",
     "output_type": "stream",
     "text": [
      "19:56:11 - cmdstanpy - INFO - Chain [1] start processing\n",
      "19:56:11 - cmdstanpy - INFO - Chain [1] done processing\n",
      "19:56:11 - cmdstanpy - INFO - Chain [1] start processing\n"
     ]
    },
    {
     "name": "stdout",
     "output_type": "stream",
     "text": [
      "2024-02-25 00:00:00\n"
     ]
    },
    {
     "name": "stderr",
     "output_type": "stream",
     "text": [
      "19:56:11 - cmdstanpy - INFO - Chain [1] done processing\n",
      "19:56:12 - cmdstanpy - INFO - Chain [1] start processing\n"
     ]
    },
    {
     "name": "stdout",
     "output_type": "stream",
     "text": [
      "2024-02-25 00:00:00\n"
     ]
    },
    {
     "name": "stderr",
     "output_type": "stream",
     "text": [
      "19:56:12 - cmdstanpy - INFO - Chain [1] done processing\n",
      "19:56:12 - cmdstanpy - INFO - Chain [1] start processing\n",
      "19:56:12 - cmdstanpy - INFO - Chain [1] done processing\n"
     ]
    },
    {
     "name": "stdout",
     "output_type": "stream",
     "text": [
      "2024-02-25 00:00:00\n"
     ]
    },
    {
     "name": "stderr",
     "output_type": "stream",
     "text": [
      "19:56:12 - cmdstanpy - INFO - Chain [1] start processing\n"
     ]
    },
    {
     "name": "stdout",
     "output_type": "stream",
     "text": [
      "2024-02-25 00:00:00\n"
     ]
    },
    {
     "name": "stderr",
     "output_type": "stream",
     "text": [
      "19:56:12 - cmdstanpy - INFO - Chain [1] done processing\n",
      "19:56:13 - cmdstanpy - INFO - Chain [1] start processing\n"
     ]
    },
    {
     "name": "stdout",
     "output_type": "stream",
     "text": [
      "2024-02-25 00:00:00\n"
     ]
    },
    {
     "name": "stderr",
     "output_type": "stream",
     "text": [
      "19:56:13 - cmdstanpy - INFO - Chain [1] done processing\n",
      "19:56:13 - cmdstanpy - INFO - Chain [1] start processing\n"
     ]
    },
    {
     "name": "stdout",
     "output_type": "stream",
     "text": [
      "2024-02-25 00:00:00\n"
     ]
    },
    {
     "name": "stderr",
     "output_type": "stream",
     "text": [
      "19:56:13 - cmdstanpy - INFO - Chain [1] done processing\n",
      "19:56:13 - cmdstanpy - INFO - Chain [1] start processing\n"
     ]
    },
    {
     "name": "stdout",
     "output_type": "stream",
     "text": [
      "2024-02-25 00:00:00\n"
     ]
    },
    {
     "name": "stderr",
     "output_type": "stream",
     "text": [
      "19:56:14 - cmdstanpy - INFO - Chain [1] done processing\n",
      "19:56:14 - cmdstanpy - INFO - Chain [1] start processing\n"
     ]
    },
    {
     "name": "stdout",
     "output_type": "stream",
     "text": [
      "2024-02-25 00:00:00\n"
     ]
    },
    {
     "name": "stderr",
     "output_type": "stream",
     "text": [
      "19:56:14 - cmdstanpy - INFO - Chain [1] done processing\n",
      "19:56:14 - cmdstanpy - INFO - Chain [1] start processing\n"
     ]
    },
    {
     "name": "stdout",
     "output_type": "stream",
     "text": [
      "2024-02-25 00:00:00\n"
     ]
    },
    {
     "name": "stderr",
     "output_type": "stream",
     "text": [
      "19:56:14 - cmdstanpy - INFO - Chain [1] done processing\n",
      "19:56:15 - cmdstanpy - INFO - Chain [1] start processing\n"
     ]
    },
    {
     "name": "stdout",
     "output_type": "stream",
     "text": [
      "2024-02-25 00:00:00\n"
     ]
    },
    {
     "name": "stderr",
     "output_type": "stream",
     "text": [
      "19:56:15 - cmdstanpy - INFO - Chain [1] done processing\n",
      "19:56:15 - cmdstanpy - INFO - Chain [1] start processing\n"
     ]
    },
    {
     "name": "stdout",
     "output_type": "stream",
     "text": [
      "2024-02-25 00:00:00\n"
     ]
    },
    {
     "name": "stderr",
     "output_type": "stream",
     "text": [
      "19:56:15 - cmdstanpy - INFO - Chain [1] done processing\n",
      "19:56:16 - cmdstanpy - INFO - Chain [1] start processing\n"
     ]
    },
    {
     "name": "stdout",
     "output_type": "stream",
     "text": [
      "2024-02-25 00:00:00\n"
     ]
    },
    {
     "name": "stderr",
     "output_type": "stream",
     "text": [
      "19:56:16 - cmdstanpy - INFO - Chain [1] done processing\n",
      "19:56:16 - cmdstanpy - INFO - Chain [1] start processing\n"
     ]
    },
    {
     "name": "stdout",
     "output_type": "stream",
     "text": [
      "2024-02-25 00:00:00\n"
     ]
    },
    {
     "name": "stderr",
     "output_type": "stream",
     "text": [
      "19:56:16 - cmdstanpy - INFO - Chain [1] done processing\n",
      "19:56:16 - cmdstanpy - INFO - Chain [1] start processing\n"
     ]
    },
    {
     "name": "stdout",
     "output_type": "stream",
     "text": [
      "2024-02-25 00:00:00\n"
     ]
    },
    {
     "name": "stderr",
     "output_type": "stream",
     "text": [
      "19:56:16 - cmdstanpy - INFO - Chain [1] done processing\n",
      "19:56:17 - cmdstanpy - INFO - Chain [1] start processing\n"
     ]
    },
    {
     "name": "stdout",
     "output_type": "stream",
     "text": [
      "2024-02-25 00:00:00\n"
     ]
    },
    {
     "name": "stderr",
     "output_type": "stream",
     "text": [
      "19:56:17 - cmdstanpy - INFO - Chain [1] done processing\n",
      "19:56:17 - cmdstanpy - INFO - Chain [1] start processing\n",
      "19:56:17 - cmdstanpy - INFO - Chain [1] done processing\n"
     ]
    },
    {
     "name": "stdout",
     "output_type": "stream",
     "text": [
      "2024-02-25 00:00:00\n"
     ]
    },
    {
     "name": "stderr",
     "output_type": "stream",
     "text": [
      "19:56:18 - cmdstanpy - INFO - Chain [1] start processing\n"
     ]
    },
    {
     "name": "stdout",
     "output_type": "stream",
     "text": [
      "2024-02-25 00:00:00\n"
     ]
    },
    {
     "name": "stderr",
     "output_type": "stream",
     "text": [
      "19:56:18 - cmdstanpy - INFO - Chain [1] done processing\n",
      "19:56:18 - cmdstanpy - INFO - Chain [1] start processing\n"
     ]
    },
    {
     "name": "stdout",
     "output_type": "stream",
     "text": [
      "2024-02-25 00:00:00\n"
     ]
    },
    {
     "name": "stderr",
     "output_type": "stream",
     "text": [
      "19:56:18 - cmdstanpy - INFO - Chain [1] done processing\n",
      "19:56:19 - cmdstanpy - INFO - Chain [1] start processing\n"
     ]
    },
    {
     "name": "stdout",
     "output_type": "stream",
     "text": [
      "2024-02-25 00:00:00\n"
     ]
    },
    {
     "name": "stderr",
     "output_type": "stream",
     "text": [
      "19:56:19 - cmdstanpy - INFO - Chain [1] done processing\n",
      "19:56:19 - cmdstanpy - INFO - Chain [1] start processing\n"
     ]
    },
    {
     "name": "stdout",
     "output_type": "stream",
     "text": [
      "2024-02-25 00:00:00\n"
     ]
    },
    {
     "name": "stderr",
     "output_type": "stream",
     "text": [
      "19:56:19 - cmdstanpy - INFO - Chain [1] done processing\n",
      "19:56:19 - cmdstanpy - INFO - Chain [1] start processing\n"
     ]
    },
    {
     "name": "stdout",
     "output_type": "stream",
     "text": [
      "2024-02-25 00:00:00\n"
     ]
    },
    {
     "name": "stderr",
     "output_type": "stream",
     "text": [
      "19:56:20 - cmdstanpy - INFO - Chain [1] done processing\n",
      "19:56:20 - cmdstanpy - INFO - Chain [1] start processing\n",
      "19:56:20 - cmdstanpy - INFO - Chain [1] done processing\n"
     ]
    },
    {
     "name": "stdout",
     "output_type": "stream",
     "text": [
      "2024-02-25 00:00:00\n"
     ]
    },
    {
     "name": "stderr",
     "output_type": "stream",
     "text": [
      "19:56:20 - cmdstanpy - INFO - Chain [1] start processing\n",
      "19:56:20 - cmdstanpy - INFO - Chain [1] done processing\n"
     ]
    },
    {
     "name": "stdout",
     "output_type": "stream",
     "text": [
      "2024-02-25 00:00:00\n"
     ]
    },
    {
     "name": "stderr",
     "output_type": "stream",
     "text": [
      "19:56:21 - cmdstanpy - INFO - Chain [1] start processing\n"
     ]
    },
    {
     "name": "stdout",
     "output_type": "stream",
     "text": [
      "2024-02-25 00:00:00\n"
     ]
    },
    {
     "name": "stderr",
     "output_type": "stream",
     "text": [
      "19:56:21 - cmdstanpy - INFO - Chain [1] done processing\n",
      "19:56:21 - cmdstanpy - INFO - Chain [1] start processing\n"
     ]
    },
    {
     "name": "stdout",
     "output_type": "stream",
     "text": [
      "2024-02-25 00:00:00\n"
     ]
    },
    {
     "name": "stderr",
     "output_type": "stream",
     "text": [
      "19:56:21 - cmdstanpy - INFO - Chain [1] done processing\n",
      "19:56:21 - cmdstanpy - INFO - Chain [1] start processing\n"
     ]
    },
    {
     "name": "stdout",
     "output_type": "stream",
     "text": [
      "2024-02-25 00:00:00\n"
     ]
    },
    {
     "name": "stderr",
     "output_type": "stream",
     "text": [
      "19:56:21 - cmdstanpy - INFO - Chain [1] done processing\n",
      "19:56:22 - cmdstanpy - INFO - Chain [1] start processing\n"
     ]
    },
    {
     "name": "stdout",
     "output_type": "stream",
     "text": [
      "2024-02-25 00:00:00\n"
     ]
    },
    {
     "name": "stderr",
     "output_type": "stream",
     "text": [
      "19:56:22 - cmdstanpy - INFO - Chain [1] done processing\n",
      "19:56:22 - cmdstanpy - INFO - Chain [1] start processing\n"
     ]
    },
    {
     "name": "stdout",
     "output_type": "stream",
     "text": [
      "2024-02-25 00:00:00\n"
     ]
    },
    {
     "name": "stderr",
     "output_type": "stream",
     "text": [
      "19:56:22 - cmdstanpy - INFO - Chain [1] done processing\n",
      "19:56:22 - cmdstanpy - INFO - Chain [1] start processing\n"
     ]
    },
    {
     "name": "stdout",
     "output_type": "stream",
     "text": [
      "2024-02-25 00:00:00\n"
     ]
    },
    {
     "name": "stderr",
     "output_type": "stream",
     "text": [
      "19:56:23 - cmdstanpy - INFO - Chain [1] done processing\n",
      "19:56:23 - cmdstanpy - INFO - Chain [1] start processing\n"
     ]
    },
    {
     "name": "stdout",
     "output_type": "stream",
     "text": [
      "2024-02-25 00:00:00\n"
     ]
    },
    {
     "name": "stderr",
     "output_type": "stream",
     "text": [
      "19:56:23 - cmdstanpy - INFO - Chain [1] done processing\n"
     ]
    },
    {
     "name": "stdout",
     "output_type": "stream",
     "text": [
      "2024-02-25 00:00:00\n"
     ]
    },
    {
     "name": "stderr",
     "output_type": "stream",
     "text": [
      "19:56:23 - cmdstanpy - INFO - Chain [1] start processing\n",
      "19:56:23 - cmdstanpy - INFO - Chain [1] done processing\n",
      "19:56:24 - cmdstanpy - INFO - Chain [1] start processing\n"
     ]
    },
    {
     "name": "stdout",
     "output_type": "stream",
     "text": [
      "2024-02-25 00:00:00\n"
     ]
    },
    {
     "name": "stderr",
     "output_type": "stream",
     "text": [
      "19:56:24 - cmdstanpy - INFO - Chain [1] done processing\n",
      "19:56:24 - cmdstanpy - INFO - Chain [1] start processing\n",
      "19:56:24 - cmdstanpy - INFO - Chain [1] done processing\n"
     ]
    },
    {
     "name": "stdout",
     "output_type": "stream",
     "text": [
      "2024-02-25 00:00:00\n"
     ]
    },
    {
     "name": "stderr",
     "output_type": "stream",
     "text": [
      "19:56:25 - cmdstanpy - INFO - Chain [1] start processing\n"
     ]
    },
    {
     "name": "stdout",
     "output_type": "stream",
     "text": [
      "2024-02-25 00:00:00\n"
     ]
    },
    {
     "name": "stderr",
     "output_type": "stream",
     "text": [
      "19:56:25 - cmdstanpy - INFO - Chain [1] done processing\n"
     ]
    },
    {
     "name": "stdout",
     "output_type": "stream",
     "text": [
      "2024-02-25 00:00:00\n"
     ]
    },
    {
     "name": "stderr",
     "output_type": "stream",
     "text": [
      "19:56:25 - cmdstanpy - INFO - Chain [1] start processing\n",
      "19:56:25 - cmdstanpy - INFO - Chain [1] done processing\n",
      "19:56:26 - cmdstanpy - INFO - Chain [1] start processing\n"
     ]
    },
    {
     "name": "stdout",
     "output_type": "stream",
     "text": [
      "2024-02-25 00:00:00\n"
     ]
    },
    {
     "name": "stderr",
     "output_type": "stream",
     "text": [
      "19:56:26 - cmdstanpy - INFO - Chain [1] done processing\n",
      "19:56:26 - cmdstanpy - INFO - Chain [1] start processing\n",
      "19:56:26 - cmdstanpy - INFO - Chain [1] done processing\n"
     ]
    },
    {
     "name": "stdout",
     "output_type": "stream",
     "text": [
      "2024-02-25 00:00:00\n"
     ]
    },
    {
     "name": "stderr",
     "output_type": "stream",
     "text": [
      "19:56:27 - cmdstanpy - INFO - Chain [1] start processing\n",
      "19:56:27 - cmdstanpy - INFO - Chain [1] done processing\n"
     ]
    },
    {
     "name": "stdout",
     "output_type": "stream",
     "text": [
      "2024-02-25 00:00:00\n",
      "2024-02-25 00:00:00\n"
     ]
    },
    {
     "name": "stderr",
     "output_type": "stream",
     "text": [
      "19:56:27 - cmdstanpy - INFO - Chain [1] start processing\n",
      "19:56:27 - cmdstanpy - INFO - Chain [1] done processing\n",
      "19:56:27 - cmdstanpy - INFO - Chain [1] start processing\n",
      "19:56:27 - cmdstanpy - INFO - Chain [1] done processing\n"
     ]
    },
    {
     "name": "stdout",
     "output_type": "stream",
     "text": [
      "2024-02-25 00:00:00\n"
     ]
    },
    {
     "name": "stderr",
     "output_type": "stream",
     "text": [
      "19:56:28 - cmdstanpy - INFO - Chain [1] start processing\n"
     ]
    },
    {
     "name": "stdout",
     "output_type": "stream",
     "text": [
      "2024-02-25 00:00:00\n"
     ]
    },
    {
     "name": "stderr",
     "output_type": "stream",
     "text": [
      "19:56:28 - cmdstanpy - INFO - Chain [1] done processing\n",
      "19:56:28 - cmdstanpy - INFO - Chain [1] start processing\n"
     ]
    },
    {
     "name": "stdout",
     "output_type": "stream",
     "text": [
      "2024-02-25 00:00:00\n"
     ]
    },
    {
     "name": "stderr",
     "output_type": "stream",
     "text": [
      "19:56:28 - cmdstanpy - INFO - Chain [1] done processing\n"
     ]
    },
    {
     "name": "stdout",
     "output_type": "stream",
     "text": [
      "2024-02-25 00:00:00\n"
     ]
    },
    {
     "name": "stderr",
     "output_type": "stream",
     "text": [
      "19:56:29 - cmdstanpy - INFO - Chain [1] start processing\n",
      "19:56:29 - cmdstanpy - INFO - Chain [1] done processing\n",
      "19:56:29 - cmdstanpy - INFO - Chain [1] start processing\n"
     ]
    },
    {
     "name": "stdout",
     "output_type": "stream",
     "text": [
      "2024-02-25 00:00:00\n"
     ]
    },
    {
     "name": "stderr",
     "output_type": "stream",
     "text": [
      "19:56:29 - cmdstanpy - INFO - Chain [1] done processing\n",
      "19:56:29 - cmdstanpy - INFO - Chain [1] start processing\n",
      "19:56:30 - cmdstanpy - INFO - Chain [1] done processing\n"
     ]
    },
    {
     "name": "stdout",
     "output_type": "stream",
     "text": [
      "2024-02-25 00:00:00\n"
     ]
    },
    {
     "name": "stderr",
     "output_type": "stream",
     "text": [
      "19:56:30 - cmdstanpy - INFO - Chain [1] start processing\n"
     ]
    },
    {
     "name": "stdout",
     "output_type": "stream",
     "text": [
      "2024-02-25 00:00:00\n"
     ]
    },
    {
     "name": "stderr",
     "output_type": "stream",
     "text": [
      "19:56:30 - cmdstanpy - INFO - Chain [1] done processing\n",
      "19:56:30 - cmdstanpy - INFO - Chain [1] start processing\n"
     ]
    },
    {
     "name": "stdout",
     "output_type": "stream",
     "text": [
      "2024-02-25 00:00:00\n"
     ]
    },
    {
     "name": "stderr",
     "output_type": "stream",
     "text": [
      "19:56:30 - cmdstanpy - INFO - Chain [1] done processing\n",
      "19:56:31 - cmdstanpy - INFO - Chain [1] start processing\n"
     ]
    },
    {
     "name": "stdout",
     "output_type": "stream",
     "text": [
      "2024-02-25 00:00:00\n"
     ]
    },
    {
     "name": "stderr",
     "output_type": "stream",
     "text": [
      "19:56:31 - cmdstanpy - INFO - Chain [1] done processing\n",
      "19:56:31 - cmdstanpy - INFO - Chain [1] start processing\n"
     ]
    },
    {
     "name": "stdout",
     "output_type": "stream",
     "text": [
      "2024-02-25 00:00:00\n"
     ]
    },
    {
     "name": "stderr",
     "output_type": "stream",
     "text": [
      "19:56:31 - cmdstanpy - INFO - Chain [1] done processing\n",
      "19:56:32 - cmdstanpy - INFO - Chain [1] start processing\n",
      "19:56:32 - cmdstanpy - INFO - Chain [1] done processing\n"
     ]
    },
    {
     "name": "stdout",
     "output_type": "stream",
     "text": [
      "2024-02-25 00:00:00\n"
     ]
    },
    {
     "name": "stderr",
     "output_type": "stream",
     "text": [
      "19:56:32 - cmdstanpy - INFO - Chain [1] start processing\n"
     ]
    },
    {
     "name": "stdout",
     "output_type": "stream",
     "text": [
      "2024-02-25 00:00:00\n"
     ]
    },
    {
     "name": "stderr",
     "output_type": "stream",
     "text": [
      "19:56:32 - cmdstanpy - INFO - Chain [1] done processing\n",
      "19:56:32 - cmdstanpy - INFO - Chain [1] start processing\n",
      "19:56:32 - cmdstanpy - INFO - Chain [1] done processing\n"
     ]
    },
    {
     "name": "stdout",
     "output_type": "stream",
     "text": [
      "2024-02-25 00:00:00\n"
     ]
    },
    {
     "name": "stderr",
     "output_type": "stream",
     "text": [
      "19:56:33 - cmdstanpy - INFO - Chain [1] start processing\n"
     ]
    },
    {
     "name": "stdout",
     "output_type": "stream",
     "text": [
      "2024-02-25 00:00:00\n"
     ]
    },
    {
     "name": "stderr",
     "output_type": "stream",
     "text": [
      "19:56:33 - cmdstanpy - INFO - Chain [1] done processing\n",
      "19:56:33 - cmdstanpy - INFO - Chain [1] start processing\n"
     ]
    },
    {
     "name": "stdout",
     "output_type": "stream",
     "text": [
      "2024-02-25 00:00:00\n"
     ]
    },
    {
     "name": "stderr",
     "output_type": "stream",
     "text": [
      "19:56:33 - cmdstanpy - INFO - Chain [1] done processing\n",
      "19:56:33 - cmdstanpy - INFO - Chain [1] start processing\n",
      "19:56:34 - cmdstanpy - INFO - Chain [1] done processing\n"
     ]
    },
    {
     "name": "stdout",
     "output_type": "stream",
     "text": [
      "2024-02-25 00:00:00\n"
     ]
    },
    {
     "name": "stderr",
     "output_type": "stream",
     "text": [
      "19:56:34 - cmdstanpy - INFO - Chain [1] start processing\n"
     ]
    },
    {
     "name": "stdout",
     "output_type": "stream",
     "text": [
      "2024-02-25 00:00:00\n"
     ]
    },
    {
     "name": "stderr",
     "output_type": "stream",
     "text": [
      "19:56:34 - cmdstanpy - INFO - Chain [1] done processing\n",
      "19:56:34 - cmdstanpy - INFO - Chain [1] start processing\n"
     ]
    },
    {
     "name": "stdout",
     "output_type": "stream",
     "text": [
      "2024-02-25 00:00:00\n"
     ]
    },
    {
     "name": "stderr",
     "output_type": "stream",
     "text": [
      "19:56:34 - cmdstanpy - INFO - Chain [1] done processing\n",
      "19:56:35 - cmdstanpy - INFO - Chain [1] start processing\n"
     ]
    },
    {
     "name": "stdout",
     "output_type": "stream",
     "text": [
      "2024-02-25 00:00:00\n"
     ]
    },
    {
     "name": "stderr",
     "output_type": "stream",
     "text": [
      "19:56:35 - cmdstanpy - INFO - Chain [1] done processing\n",
      "19:56:35 - cmdstanpy - INFO - Chain [1] start processing\n"
     ]
    },
    {
     "name": "stdout",
     "output_type": "stream",
     "text": [
      "2024-02-25 00:00:00\n"
     ]
    },
    {
     "name": "stderr",
     "output_type": "stream",
     "text": [
      "19:56:35 - cmdstanpy - INFO - Chain [1] done processing\n",
      "19:56:36 - cmdstanpy - INFO - Chain [1] start processing\n",
      "19:56:36 - cmdstanpy - INFO - Chain [1] done processing\n"
     ]
    },
    {
     "name": "stdout",
     "output_type": "stream",
     "text": [
      "2024-02-25 00:00:00\n"
     ]
    },
    {
     "name": "stderr",
     "output_type": "stream",
     "text": [
      "19:56:36 - cmdstanpy - INFO - Chain [1] start processing\n"
     ]
    },
    {
     "name": "stdout",
     "output_type": "stream",
     "text": [
      "2024-02-25 00:00:00\n"
     ]
    },
    {
     "name": "stderr",
     "output_type": "stream",
     "text": [
      "19:56:36 - cmdstanpy - INFO - Chain [1] done processing\n",
      "19:56:36 - cmdstanpy - INFO - Chain [1] start processing\n"
     ]
    },
    {
     "name": "stdout",
     "output_type": "stream",
     "text": [
      "2024-02-25 00:00:00\n"
     ]
    },
    {
     "name": "stderr",
     "output_type": "stream",
     "text": [
      "19:56:37 - cmdstanpy - INFO - Chain [1] done processing\n",
      "19:56:37 - cmdstanpy - INFO - Chain [1] start processing\n"
     ]
    },
    {
     "name": "stdout",
     "output_type": "stream",
     "text": [
      "2024-02-25 00:00:00\n"
     ]
    },
    {
     "name": "stderr",
     "output_type": "stream",
     "text": [
      "19:56:37 - cmdstanpy - INFO - Chain [1] done processing\n",
      "19:56:38 - cmdstanpy - INFO - Chain [1] start processing\n"
     ]
    },
    {
     "name": "stdout",
     "output_type": "stream",
     "text": [
      "2024-02-25 00:00:00\n"
     ]
    },
    {
     "name": "stderr",
     "output_type": "stream",
     "text": [
      "19:56:38 - cmdstanpy - INFO - Chain [1] done processing\n",
      "19:56:38 - cmdstanpy - INFO - Chain [1] start processing\n"
     ]
    },
    {
     "name": "stdout",
     "output_type": "stream",
     "text": [
      "2024-02-25 00:00:00\n"
     ]
    },
    {
     "name": "stderr",
     "output_type": "stream",
     "text": [
      "19:56:39 - cmdstanpy - INFO - Chain [1] done processing\n",
      "19:56:39 - cmdstanpy - INFO - Chain [1] start processing\n"
     ]
    },
    {
     "name": "stdout",
     "output_type": "stream",
     "text": [
      "2024-02-25 00:00:00\n"
     ]
    },
    {
     "name": "stderr",
     "output_type": "stream",
     "text": [
      "19:56:39 - cmdstanpy - INFO - Chain [1] done processing\n"
     ]
    },
    {
     "name": "stdout",
     "output_type": "stream",
     "text": [
      "2024-02-25 00:00:00\n"
     ]
    },
    {
     "name": "stderr",
     "output_type": "stream",
     "text": [
      "19:56:40 - cmdstanpy - INFO - Chain [1] start processing\n",
      "19:56:40 - cmdstanpy - INFO - Chain [1] done processing\n",
      "19:56:40 - cmdstanpy - INFO - Chain [1] start processing\n"
     ]
    },
    {
     "name": "stdout",
     "output_type": "stream",
     "text": [
      "2024-02-25 00:00:00\n"
     ]
    },
    {
     "name": "stderr",
     "output_type": "stream",
     "text": [
      "19:56:40 - cmdstanpy - INFO - Chain [1] done processing\n",
      "19:56:41 - cmdstanpy - INFO - Chain [1] start processing\n"
     ]
    },
    {
     "name": "stdout",
     "output_type": "stream",
     "text": [
      "2024-02-25 00:00:00\n"
     ]
    },
    {
     "name": "stderr",
     "output_type": "stream",
     "text": [
      "19:56:41 - cmdstanpy - INFO - Chain [1] done processing\n",
      "19:56:41 - cmdstanpy - INFO - Chain [1] start processing\n"
     ]
    },
    {
     "name": "stdout",
     "output_type": "stream",
     "text": [
      "2024-02-25 00:00:00\n"
     ]
    },
    {
     "name": "stderr",
     "output_type": "stream",
     "text": [
      "19:56:41 - cmdstanpy - INFO - Chain [1] done processing\n",
      "19:56:42 - cmdstanpy - INFO - Chain [1] start processing\n"
     ]
    },
    {
     "name": "stdout",
     "output_type": "stream",
     "text": [
      "2024-02-25 00:00:00\n"
     ]
    },
    {
     "name": "stderr",
     "output_type": "stream",
     "text": [
      "19:56:42 - cmdstanpy - INFO - Chain [1] done processing\n",
      "19:56:42 - cmdstanpy - INFO - Chain [1] start processing\n",
      "19:56:42 - cmdstanpy - INFO - Chain [1] done processing\n"
     ]
    },
    {
     "name": "stdout",
     "output_type": "stream",
     "text": [
      "2024-02-25 00:00:00\n"
     ]
    },
    {
     "name": "stderr",
     "output_type": "stream",
     "text": [
      "19:56:43 - cmdstanpy - INFO - Chain [1] start processing\n"
     ]
    },
    {
     "name": "stdout",
     "output_type": "stream",
     "text": [
      "2024-02-25 00:00:00\n"
     ]
    },
    {
     "name": "stderr",
     "output_type": "stream",
     "text": [
      "19:56:43 - cmdstanpy - INFO - Chain [1] done processing\n",
      "19:56:43 - cmdstanpy - INFO - Chain [1] start processing\n"
     ]
    },
    {
     "name": "stdout",
     "output_type": "stream",
     "text": [
      "2024-02-25 00:00:00\n"
     ]
    },
    {
     "name": "stderr",
     "output_type": "stream",
     "text": [
      "19:56:43 - cmdstanpy - INFO - Chain [1] done processing\n",
      "19:56:44 - cmdstanpy - INFO - Chain [1] start processing\n"
     ]
    },
    {
     "name": "stdout",
     "output_type": "stream",
     "text": [
      "2024-02-25 00:00:00\n"
     ]
    },
    {
     "name": "stderr",
     "output_type": "stream",
     "text": [
      "19:56:44 - cmdstanpy - INFO - Chain [1] done processing\n",
      "19:56:44 - cmdstanpy - INFO - Chain [1] start processing\n"
     ]
    },
    {
     "name": "stdout",
     "output_type": "stream",
     "text": [
      "2024-02-25 00:00:00\n"
     ]
    },
    {
     "name": "stderr",
     "output_type": "stream",
     "text": [
      "19:56:44 - cmdstanpy - INFO - Chain [1] done processing\n",
      "19:56:44 - cmdstanpy - INFO - Chain [1] start processing\n"
     ]
    },
    {
     "name": "stdout",
     "output_type": "stream",
     "text": [
      "2024-02-25 00:00:00\n"
     ]
    },
    {
     "name": "stderr",
     "output_type": "stream",
     "text": [
      "19:56:45 - cmdstanpy - INFO - Chain [1] done processing\n",
      "19:56:45 - cmdstanpy - INFO - Chain [1] start processing\n"
     ]
    },
    {
     "name": "stdout",
     "output_type": "stream",
     "text": [
      "2024-02-25 00:00:00\n"
     ]
    },
    {
     "name": "stderr",
     "output_type": "stream",
     "text": [
      "19:56:45 - cmdstanpy - INFO - Chain [1] done processing\n",
      "19:56:46 - cmdstanpy - INFO - Chain [1] start processing\n"
     ]
    },
    {
     "name": "stdout",
     "output_type": "stream",
     "text": [
      "2024-02-25 00:00:00\n"
     ]
    },
    {
     "name": "stderr",
     "output_type": "stream",
     "text": [
      "19:56:46 - cmdstanpy - INFO - Chain [1] done processing\n",
      "19:56:46 - cmdstanpy - INFO - Chain [1] start processing\n"
     ]
    },
    {
     "name": "stdout",
     "output_type": "stream",
     "text": [
      "2024-02-25 00:00:00\n"
     ]
    },
    {
     "name": "stderr",
     "output_type": "stream",
     "text": [
      "19:56:46 - cmdstanpy - INFO - Chain [1] done processing\n",
      "19:56:47 - cmdstanpy - INFO - Chain [1] start processing\n"
     ]
    },
    {
     "name": "stdout",
     "output_type": "stream",
     "text": [
      "2024-02-25 00:00:00\n"
     ]
    },
    {
     "name": "stderr",
     "output_type": "stream",
     "text": [
      "19:56:47 - cmdstanpy - INFO - Chain [1] done processing\n"
     ]
    },
    {
     "name": "stdout",
     "output_type": "stream",
     "text": [
      "2024-02-25 00:00:00\n"
     ]
    },
    {
     "name": "stderr",
     "output_type": "stream",
     "text": [
      "19:56:47 - cmdstanpy - INFO - Chain [1] start processing\n",
      "19:56:47 - cmdstanpy - INFO - Chain [1] done processing\n",
      "19:56:48 - cmdstanpy - INFO - Chain [1] start processing\n"
     ]
    },
    {
     "name": "stdout",
     "output_type": "stream",
     "text": [
      "2024-02-25 00:00:00\n"
     ]
    },
    {
     "name": "stderr",
     "output_type": "stream",
     "text": [
      "19:56:48 - cmdstanpy - INFO - Chain [1] done processing\n",
      "19:56:48 - cmdstanpy - INFO - Chain [1] start processing\n"
     ]
    },
    {
     "name": "stdout",
     "output_type": "stream",
     "text": [
      "2024-02-25 00:00:00\n"
     ]
    },
    {
     "name": "stderr",
     "output_type": "stream",
     "text": [
      "19:56:48 - cmdstanpy - INFO - Chain [1] done processing\n",
      "19:56:49 - cmdstanpy - INFO - Chain [1] start processing\n"
     ]
    },
    {
     "name": "stdout",
     "output_type": "stream",
     "text": [
      "2024-02-25 00:00:00\n"
     ]
    },
    {
     "name": "stderr",
     "output_type": "stream",
     "text": [
      "19:56:49 - cmdstanpy - INFO - Chain [1] done processing\n",
      "19:56:49 - cmdstanpy - INFO - Chain [1] start processing\n",
      "19:56:49 - cmdstanpy - INFO - Chain [1] done processing\n"
     ]
    },
    {
     "name": "stdout",
     "output_type": "stream",
     "text": [
      "2024-02-25 00:00:00\n"
     ]
    },
    {
     "name": "stderr",
     "output_type": "stream",
     "text": [
      "19:56:50 - cmdstanpy - INFO - Chain [1] start processing\n"
     ]
    },
    {
     "name": "stdout",
     "output_type": "stream",
     "text": [
      "2024-02-25 00:00:00\n"
     ]
    },
    {
     "name": "stderr",
     "output_type": "stream",
     "text": [
      "19:56:50 - cmdstanpy - INFO - Chain [1] done processing\n",
      "19:56:50 - cmdstanpy - INFO - Chain [1] start processing\n"
     ]
    },
    {
     "name": "stdout",
     "output_type": "stream",
     "text": [
      "2024-02-25 00:00:00\n"
     ]
    },
    {
     "name": "stderr",
     "output_type": "stream",
     "text": [
      "19:56:50 - cmdstanpy - INFO - Chain [1] done processing\n",
      "19:56:51 - cmdstanpy - INFO - Chain [1] start processing\n"
     ]
    },
    {
     "name": "stdout",
     "output_type": "stream",
     "text": [
      "2024-02-25 00:00:00\n"
     ]
    },
    {
     "name": "stderr",
     "output_type": "stream",
     "text": [
      "19:56:51 - cmdstanpy - INFO - Chain [1] done processing\n",
      "19:56:51 - cmdstanpy - INFO - Chain [1] start processing\n"
     ]
    },
    {
     "name": "stdout",
     "output_type": "stream",
     "text": [
      "2024-02-25 00:00:00\n"
     ]
    },
    {
     "name": "stderr",
     "output_type": "stream",
     "text": [
      "19:56:51 - cmdstanpy - INFO - Chain [1] done processing\n",
      "19:56:52 - cmdstanpy - INFO - Chain [1] start processing\n",
      "19:56:52 - cmdstanpy - INFO - Chain [1] done processing\n"
     ]
    },
    {
     "name": "stdout",
     "output_type": "stream",
     "text": [
      "2024-02-25 00:00:00\n"
     ]
    },
    {
     "name": "stderr",
     "output_type": "stream",
     "text": [
      "19:56:52 - cmdstanpy - INFO - Chain [1] start processing\n"
     ]
    },
    {
     "name": "stdout",
     "output_type": "stream",
     "text": [
      "2024-02-25 00:00:00\n"
     ]
    },
    {
     "name": "stderr",
     "output_type": "stream",
     "text": [
      "19:56:52 - cmdstanpy - INFO - Chain [1] done processing\n",
      "19:56:53 - cmdstanpy - INFO - Chain [1] start processing\n"
     ]
    },
    {
     "name": "stdout",
     "output_type": "stream",
     "text": [
      "2024-02-25 00:00:00\n"
     ]
    },
    {
     "name": "stderr",
     "output_type": "stream",
     "text": [
      "19:56:53 - cmdstanpy - INFO - Chain [1] done processing\n",
      "19:56:53 - cmdstanpy - INFO - Chain [1] start processing\n"
     ]
    },
    {
     "name": "stdout",
     "output_type": "stream",
     "text": [
      "2024-02-25 00:00:00\n"
     ]
    },
    {
     "name": "stderr",
     "output_type": "stream",
     "text": [
      "19:56:53 - cmdstanpy - INFO - Chain [1] done processing\n",
      "19:56:54 - cmdstanpy - INFO - Chain [1] start processing\n"
     ]
    },
    {
     "name": "stdout",
     "output_type": "stream",
     "text": [
      "2024-02-25 00:00:00\n"
     ]
    },
    {
     "name": "stderr",
     "output_type": "stream",
     "text": [
      "19:56:54 - cmdstanpy - INFO - Chain [1] done processing\n",
      "19:56:54 - cmdstanpy - INFO - Chain [1] start processing\n"
     ]
    },
    {
     "name": "stdout",
     "output_type": "stream",
     "text": [
      "2024-02-25 00:00:00\n"
     ]
    },
    {
     "name": "stderr",
     "output_type": "stream",
     "text": [
      "19:56:54 - cmdstanpy - INFO - Chain [1] done processing\n",
      "19:56:55 - cmdstanpy - INFO - Chain [1] start processing\n"
     ]
    },
    {
     "name": "stdout",
     "output_type": "stream",
     "text": [
      "2024-02-25 00:00:00\n"
     ]
    },
    {
     "name": "stderr",
     "output_type": "stream",
     "text": [
      "19:56:55 - cmdstanpy - INFO - Chain [1] done processing\n",
      "19:56:55 - cmdstanpy - INFO - Chain [1] start processing\n",
      "19:56:55 - cmdstanpy - INFO - Chain [1] done processing\n"
     ]
    },
    {
     "name": "stdout",
     "output_type": "stream",
     "text": [
      "2024-02-25 00:00:00\n",
      "2024-02-25 00:00:00\n"
     ]
    },
    {
     "name": "stderr",
     "output_type": "stream",
     "text": [
      "19:56:56 - cmdstanpy - INFO - Chain [1] start processing\n",
      "19:56:56 - cmdstanpy - INFO - Chain [1] done processing\n",
      "19:56:56 - cmdstanpy - INFO - Chain [1] start processing\n"
     ]
    },
    {
     "name": "stdout",
     "output_type": "stream",
     "text": [
      "2024-02-25 00:00:00\n"
     ]
    },
    {
     "name": "stderr",
     "output_type": "stream",
     "text": [
      "19:56:56 - cmdstanpy - INFO - Chain [1] done processing\n",
      "19:56:57 - cmdstanpy - INFO - Chain [1] start processing\n"
     ]
    },
    {
     "name": "stdout",
     "output_type": "stream",
     "text": [
      "2024-02-25 00:00:00\n"
     ]
    },
    {
     "name": "stderr",
     "output_type": "stream",
     "text": [
      "19:56:57 - cmdstanpy - INFO - Chain [1] done processing\n",
      "19:56:57 - cmdstanpy - INFO - Chain [1] start processing\n"
     ]
    },
    {
     "name": "stdout",
     "output_type": "stream",
     "text": [
      "2024-02-25 00:00:00\n"
     ]
    },
    {
     "name": "stderr",
     "output_type": "stream",
     "text": [
      "19:56:57 - cmdstanpy - INFO - Chain [1] done processing\n",
      "19:56:58 - cmdstanpy - INFO - Chain [1] start processing\n",
      "19:56:58 - cmdstanpy - INFO - Chain [1] done processing\n"
     ]
    },
    {
     "name": "stdout",
     "output_type": "stream",
     "text": [
      "2024-02-25 00:00:00\n"
     ]
    },
    {
     "name": "stderr",
     "output_type": "stream",
     "text": [
      "19:56:58 - cmdstanpy - INFO - Chain [1] start processing\n"
     ]
    },
    {
     "name": "stdout",
     "output_type": "stream",
     "text": [
      "2024-02-25 00:00:00\n"
     ]
    },
    {
     "name": "stderr",
     "output_type": "stream",
     "text": [
      "19:56:58 - cmdstanpy - INFO - Chain [1] done processing\n",
      "19:56:59 - cmdstanpy - INFO - Chain [1] start processing\n"
     ]
    },
    {
     "name": "stdout",
     "output_type": "stream",
     "text": [
      "2024-02-25 00:00:00\n"
     ]
    },
    {
     "name": "stderr",
     "output_type": "stream",
     "text": [
      "19:56:59 - cmdstanpy - INFO - Chain [1] done processing\n",
      "19:56:59 - cmdstanpy - INFO - Chain [1] start processing\n"
     ]
    },
    {
     "name": "stdout",
     "output_type": "stream",
     "text": [
      "2024-02-25 00:00:00\n"
     ]
    },
    {
     "name": "stderr",
     "output_type": "stream",
     "text": [
      "19:57:00 - cmdstanpy - INFO - Chain [1] done processing\n",
      "19:57:00 - cmdstanpy - INFO - Chain [1] start processing\n"
     ]
    },
    {
     "name": "stdout",
     "output_type": "stream",
     "text": [
      "2024-02-25 00:00:00\n"
     ]
    },
    {
     "name": "stderr",
     "output_type": "stream",
     "text": [
      "19:57:00 - cmdstanpy - INFO - Chain [1] done processing\n",
      "19:57:00 - cmdstanpy - INFO - Chain [1] start processing\n"
     ]
    },
    {
     "name": "stdout",
     "output_type": "stream",
     "text": [
      "2024-02-25 00:00:00\n"
     ]
    },
    {
     "name": "stderr",
     "output_type": "stream",
     "text": [
      "19:57:00 - cmdstanpy - INFO - Chain [1] done processing\n",
      "19:57:01 - cmdstanpy - INFO - Chain [1] start processing\n"
     ]
    },
    {
     "name": "stdout",
     "output_type": "stream",
     "text": [
      "2024-02-25 00:00:00\n"
     ]
    },
    {
     "name": "stderr",
     "output_type": "stream",
     "text": [
      "19:57:01 - cmdstanpy - INFO - Chain [1] done processing\n",
      "19:57:01 - cmdstanpy - INFO - Chain [1] start processing\n"
     ]
    },
    {
     "name": "stdout",
     "output_type": "stream",
     "text": [
      "2024-02-25 00:00:00\n"
     ]
    },
    {
     "name": "stderr",
     "output_type": "stream",
     "text": [
      "19:57:02 - cmdstanpy - INFO - Chain [1] done processing\n",
      "19:57:02 - cmdstanpy - INFO - Chain [1] start processing\n"
     ]
    },
    {
     "name": "stdout",
     "output_type": "stream",
     "text": [
      "2024-02-25 00:00:00\n"
     ]
    },
    {
     "name": "stderr",
     "output_type": "stream",
     "text": [
      "19:57:02 - cmdstanpy - INFO - Chain [1] done processing\n",
      "19:57:02 - cmdstanpy - INFO - Chain [1] start processing\n"
     ]
    },
    {
     "name": "stdout",
     "output_type": "stream",
     "text": [
      "2024-02-25 00:00:00\n"
     ]
    },
    {
     "name": "stderr",
     "output_type": "stream",
     "text": [
      "19:57:03 - cmdstanpy - INFO - Chain [1] done processing\n",
      "19:57:03 - cmdstanpy - INFO - Chain [1] start processing\n"
     ]
    },
    {
     "name": "stdout",
     "output_type": "stream",
     "text": [
      "2024-02-25 00:00:00\n"
     ]
    },
    {
     "name": "stderr",
     "output_type": "stream",
     "text": [
      "19:57:03 - cmdstanpy - INFO - Chain [1] done processing\n",
      "19:57:03 - cmdstanpy - INFO - Chain [1] start processing\n"
     ]
    },
    {
     "name": "stdout",
     "output_type": "stream",
     "text": [
      "2024-02-25 00:00:00\n"
     ]
    },
    {
     "name": "stderr",
     "output_type": "stream",
     "text": [
      "19:57:04 - cmdstanpy - INFO - Chain [1] done processing\n",
      "19:57:04 - cmdstanpy - INFO - Chain [1] start processing\n"
     ]
    },
    {
     "name": "stdout",
     "output_type": "stream",
     "text": [
      "2024-02-25 00:00:00\n"
     ]
    },
    {
     "name": "stderr",
     "output_type": "stream",
     "text": [
      "19:57:04 - cmdstanpy - INFO - Chain [1] done processing\n",
      "19:57:04 - cmdstanpy - INFO - Chain [1] start processing\n"
     ]
    },
    {
     "name": "stdout",
     "output_type": "stream",
     "text": [
      "2024-02-25 00:00:00\n"
     ]
    },
    {
     "name": "stderr",
     "output_type": "stream",
     "text": [
      "19:57:05 - cmdstanpy - INFO - Chain [1] done processing\n",
      "19:57:05 - cmdstanpy - INFO - Chain [1] start processing\n"
     ]
    },
    {
     "name": "stdout",
     "output_type": "stream",
     "text": [
      "2024-02-25 00:00:00\n"
     ]
    },
    {
     "name": "stderr",
     "output_type": "stream",
     "text": [
      "19:57:05 - cmdstanpy - INFO - Chain [1] done processing\n",
      "19:57:05 - cmdstanpy - INFO - Chain [1] start processing\n"
     ]
    },
    {
     "name": "stdout",
     "output_type": "stream",
     "text": [
      "2024-02-25 00:00:00\n"
     ]
    },
    {
     "name": "stderr",
     "output_type": "stream",
     "text": [
      "19:57:06 - cmdstanpy - INFO - Chain [1] done processing\n",
      "19:57:06 - cmdstanpy - INFO - Chain [1] start processing\n"
     ]
    },
    {
     "name": "stdout",
     "output_type": "stream",
     "text": [
      "2024-02-25 00:00:00\n"
     ]
    },
    {
     "name": "stderr",
     "output_type": "stream",
     "text": [
      "19:57:06 - cmdstanpy - INFO - Chain [1] done processing\n",
      "19:57:07 - cmdstanpy - INFO - Chain [1] start processing\n"
     ]
    },
    {
     "name": "stdout",
     "output_type": "stream",
     "text": [
      "2024-02-25 00:00:00\n"
     ]
    },
    {
     "name": "stderr",
     "output_type": "stream",
     "text": [
      "19:57:07 - cmdstanpy - INFO - Chain [1] done processing\n",
      "19:57:07 - cmdstanpy - INFO - Chain [1] start processing\n"
     ]
    },
    {
     "name": "stdout",
     "output_type": "stream",
     "text": [
      "2024-02-25 00:00:00\n"
     ]
    },
    {
     "name": "stderr",
     "output_type": "stream",
     "text": [
      "19:57:07 - cmdstanpy - INFO - Chain [1] done processing\n",
      "19:57:08 - cmdstanpy - INFO - Chain [1] start processing\n"
     ]
    },
    {
     "name": "stdout",
     "output_type": "stream",
     "text": [
      "2024-02-25 00:00:00\n"
     ]
    },
    {
     "name": "stderr",
     "output_type": "stream",
     "text": [
      "19:57:08 - cmdstanpy - INFO - Chain [1] done processing\n",
      "19:57:08 - cmdstanpy - INFO - Chain [1] start processing\n"
     ]
    },
    {
     "name": "stdout",
     "output_type": "stream",
     "text": [
      "2024-02-25 00:00:00\n"
     ]
    },
    {
     "name": "stderr",
     "output_type": "stream",
     "text": [
      "19:57:08 - cmdstanpy - INFO - Chain [1] done processing\n",
      "19:57:09 - cmdstanpy - INFO - Chain [1] start processing\n"
     ]
    },
    {
     "name": "stdout",
     "output_type": "stream",
     "text": [
      "2024-02-25 00:00:00\n"
     ]
    },
    {
     "name": "stderr",
     "output_type": "stream",
     "text": [
      "19:57:09 - cmdstanpy - INFO - Chain [1] done processing\n",
      "19:57:09 - cmdstanpy - INFO - Chain [1] start processing\n"
     ]
    },
    {
     "name": "stdout",
     "output_type": "stream",
     "text": [
      "2024-02-25 00:00:00\n"
     ]
    },
    {
     "name": "stderr",
     "output_type": "stream",
     "text": [
      "19:57:09 - cmdstanpy - INFO - Chain [1] done processing\n",
      "19:57:09 - cmdstanpy - INFO - Chain [1] start processing\n"
     ]
    },
    {
     "name": "stdout",
     "output_type": "stream",
     "text": [
      "2024-02-25 00:00:00\n"
     ]
    },
    {
     "name": "stderr",
     "output_type": "stream",
     "text": [
      "19:57:10 - cmdstanpy - INFO - Chain [1] done processing\n",
      "19:57:10 - cmdstanpy - INFO - Chain [1] start processing\n"
     ]
    },
    {
     "name": "stdout",
     "output_type": "stream",
     "text": [
      "2024-02-25 00:00:00\n"
     ]
    },
    {
     "name": "stderr",
     "output_type": "stream",
     "text": [
      "19:57:10 - cmdstanpy - INFO - Chain [1] done processing\n",
      "19:57:10 - cmdstanpy - INFO - Chain [1] start processing\n",
      "19:57:11 - cmdstanpy - INFO - Chain [1] done processing\n"
     ]
    },
    {
     "name": "stdout",
     "output_type": "stream",
     "text": [
      "2024-02-25 00:00:00\n"
     ]
    },
    {
     "name": "stderr",
     "output_type": "stream",
     "text": [
      "19:57:11 - cmdstanpy - INFO - Chain [1] start processing\n"
     ]
    },
    {
     "name": "stdout",
     "output_type": "stream",
     "text": [
      "2024-02-25 00:00:00\n"
     ]
    },
    {
     "name": "stderr",
     "output_type": "stream",
     "text": [
      "19:57:11 - cmdstanpy - INFO - Chain [1] done processing\n",
      "19:57:11 - cmdstanpy - INFO - Chain [1] start processing\n"
     ]
    },
    {
     "name": "stdout",
     "output_type": "stream",
     "text": [
      "2024-02-25 00:00:00\n"
     ]
    },
    {
     "name": "stderr",
     "output_type": "stream",
     "text": [
      "19:57:12 - cmdstanpy - INFO - Chain [1] done processing\n",
      "19:57:12 - cmdstanpy - INFO - Chain [1] start processing\n"
     ]
    },
    {
     "name": "stdout",
     "output_type": "stream",
     "text": [
      "2024-02-25 00:00:00\n"
     ]
    },
    {
     "name": "stderr",
     "output_type": "stream",
     "text": [
      "19:57:12 - cmdstanpy - INFO - Chain [1] done processing\n",
      "19:57:12 - cmdstanpy - INFO - Chain [1] start processing\n"
     ]
    },
    {
     "name": "stdout",
     "output_type": "stream",
     "text": [
      "2024-02-25 00:00:00\n"
     ]
    },
    {
     "name": "stderr",
     "output_type": "stream",
     "text": [
      "19:57:13 - cmdstanpy - INFO - Chain [1] done processing\n",
      "19:57:13 - cmdstanpy - INFO - Chain [1] start processing\n"
     ]
    },
    {
     "name": "stdout",
     "output_type": "stream",
     "text": [
      "2024-02-25 00:00:00\n"
     ]
    },
    {
     "name": "stderr",
     "output_type": "stream",
     "text": [
      "19:57:13 - cmdstanpy - INFO - Chain [1] done processing\n",
      "19:57:13 - cmdstanpy - INFO - Chain [1] start processing\n"
     ]
    },
    {
     "name": "stdout",
     "output_type": "stream",
     "text": [
      "2024-02-25 00:00:00\n"
     ]
    },
    {
     "name": "stderr",
     "output_type": "stream",
     "text": [
      "19:57:14 - cmdstanpy - INFO - Chain [1] done processing\n",
      "19:57:14 - cmdstanpy - INFO - Chain [1] start processing\n"
     ]
    },
    {
     "name": "stdout",
     "output_type": "stream",
     "text": [
      "2024-02-25 00:00:00\n"
     ]
    },
    {
     "name": "stderr",
     "output_type": "stream",
     "text": [
      "19:57:14 - cmdstanpy - INFO - Chain [1] done processing\n",
      "19:57:14 - cmdstanpy - INFO - Chain [1] start processing\n"
     ]
    },
    {
     "name": "stdout",
     "output_type": "stream",
     "text": [
      "2024-02-25 00:00:00\n"
     ]
    },
    {
     "name": "stderr",
     "output_type": "stream",
     "text": [
      "19:57:15 - cmdstanpy - INFO - Chain [1] done processing\n",
      "19:57:15 - cmdstanpy - INFO - Chain [1] start processing\n"
     ]
    },
    {
     "name": "stdout",
     "output_type": "stream",
     "text": [
      "2024-02-25 00:00:00\n"
     ]
    },
    {
     "name": "stderr",
     "output_type": "stream",
     "text": [
      "19:57:15 - cmdstanpy - INFO - Chain [1] done processing\n",
      "19:57:15 - cmdstanpy - INFO - Chain [1] start processing\n",
      "19:57:15 - cmdstanpy - INFO - Chain [1] done processing\n"
     ]
    },
    {
     "name": "stdout",
     "output_type": "stream",
     "text": [
      "2024-02-25 00:00:00\n"
     ]
    },
    {
     "name": "stderr",
     "output_type": "stream",
     "text": [
      "19:57:16 - cmdstanpy - INFO - Chain [1] start processing\n"
     ]
    },
    {
     "name": "stdout",
     "output_type": "stream",
     "text": [
      "2024-02-25 00:00:00\n"
     ]
    },
    {
     "name": "stderr",
     "output_type": "stream",
     "text": [
      "19:57:16 - cmdstanpy - INFO - Chain [1] done processing\n",
      "19:57:16 - cmdstanpy - INFO - Chain [1] start processing\n"
     ]
    },
    {
     "name": "stdout",
     "output_type": "stream",
     "text": [
      "2024-02-25 00:00:00\n"
     ]
    },
    {
     "name": "stderr",
     "output_type": "stream",
     "text": [
      "19:57:16 - cmdstanpy - INFO - Chain [1] done processing\n",
      "19:57:17 - cmdstanpy - INFO - Chain [1] start processing\n"
     ]
    },
    {
     "name": "stdout",
     "output_type": "stream",
     "text": [
      "2024-02-25 00:00:00\n"
     ]
    },
    {
     "name": "stderr",
     "output_type": "stream",
     "text": [
      "19:57:17 - cmdstanpy - INFO - Chain [1] done processing\n",
      "19:57:17 - cmdstanpy - INFO - Chain [1] start processing\n"
     ]
    },
    {
     "name": "stdout",
     "output_type": "stream",
     "text": [
      "2024-02-25 00:00:00\n"
     ]
    },
    {
     "name": "stderr",
     "output_type": "stream",
     "text": [
      "19:57:17 - cmdstanpy - INFO - Chain [1] done processing\n",
      "19:57:17 - cmdstanpy - INFO - Chain [1] start processing\n"
     ]
    },
    {
     "name": "stdout",
     "output_type": "stream",
     "text": [
      "2024-02-25 00:00:00\n"
     ]
    },
    {
     "name": "stderr",
     "output_type": "stream",
     "text": [
      "19:57:17 - cmdstanpy - INFO - Chain [1] done processing\n",
      "19:57:18 - cmdstanpy - INFO - Chain [1] start processing\n"
     ]
    },
    {
     "name": "stdout",
     "output_type": "stream",
     "text": [
      "2024-02-25 00:00:00\n"
     ]
    },
    {
     "name": "stderr",
     "output_type": "stream",
     "text": [
      "19:57:18 - cmdstanpy - INFO - Chain [1] done processing\n",
      "19:57:18 - cmdstanpy - INFO - Chain [1] start processing\n",
      "19:57:18 - cmdstanpy - INFO - Chain [1] done processing\n"
     ]
    },
    {
     "name": "stdout",
     "output_type": "stream",
     "text": [
      "2024-02-25 00:00:00\n"
     ]
    },
    {
     "name": "stderr",
     "output_type": "stream",
     "text": [
      "19:57:19 - cmdstanpy - INFO - Chain [1] start processing\n"
     ]
    },
    {
     "name": "stdout",
     "output_type": "stream",
     "text": [
      "2024-02-25 00:00:00\n"
     ]
    },
    {
     "name": "stderr",
     "output_type": "stream",
     "text": [
      "19:57:19 - cmdstanpy - INFO - Chain [1] done processing\n",
      "19:57:19 - cmdstanpy - INFO - Chain [1] start processing\n"
     ]
    },
    {
     "name": "stdout",
     "output_type": "stream",
     "text": [
      "2024-02-25 00:00:00\n"
     ]
    },
    {
     "name": "stderr",
     "output_type": "stream",
     "text": [
      "19:57:19 - cmdstanpy - INFO - Chain [1] done processing\n",
      "19:57:19 - cmdstanpy - INFO - Chain [1] start processing\n"
     ]
    },
    {
     "name": "stdout",
     "output_type": "stream",
     "text": [
      "2024-02-25 00:00:00\n"
     ]
    },
    {
     "name": "stderr",
     "output_type": "stream",
     "text": [
      "19:57:19 - cmdstanpy - INFO - Chain [1] done processing\n",
      "19:57:20 - cmdstanpy - INFO - Chain [1] start processing\n",
      "19:57:20 - cmdstanpy - INFO - Chain [1] done processing\n"
     ]
    },
    {
     "name": "stdout",
     "output_type": "stream",
     "text": [
      "2024-02-25 00:00:00\n"
     ]
    },
    {
     "name": "stderr",
     "output_type": "stream",
     "text": [
      "19:57:20 - cmdstanpy - INFO - Chain [1] start processing\n"
     ]
    },
    {
     "name": "stdout",
     "output_type": "stream",
     "text": [
      "2024-02-25 00:00:00\n"
     ]
    },
    {
     "name": "stderr",
     "output_type": "stream",
     "text": [
      "19:57:20 - cmdstanpy - INFO - Chain [1] done processing\n",
      "19:57:21 - cmdstanpy - INFO - Chain [1] start processing\n"
     ]
    },
    {
     "name": "stdout",
     "output_type": "stream",
     "text": [
      "2024-02-25 00:00:00\n"
     ]
    },
    {
     "name": "stderr",
     "output_type": "stream",
     "text": [
      "19:57:21 - cmdstanpy - INFO - Chain [1] done processing\n",
      "19:57:21 - cmdstanpy - INFO - Chain [1] start processing\n"
     ]
    },
    {
     "name": "stdout",
     "output_type": "stream",
     "text": [
      "2024-02-25 00:00:00\n"
     ]
    },
    {
     "name": "stderr",
     "output_type": "stream",
     "text": [
      "19:57:21 - cmdstanpy - INFO - Chain [1] done processing\n",
      "19:57:22 - cmdstanpy - INFO - Chain [1] start processing\n",
      "19:57:22 - cmdstanpy - INFO - Chain [1] done processing\n"
     ]
    },
    {
     "name": "stdout",
     "output_type": "stream",
     "text": [
      "2024-02-25 00:00:00\n"
     ]
    },
    {
     "name": "stderr",
     "output_type": "stream",
     "text": [
      "19:57:22 - cmdstanpy - INFO - Chain [1] start processing\n"
     ]
    },
    {
     "name": "stdout",
     "output_type": "stream",
     "text": [
      "2024-02-25 00:00:00\n"
     ]
    },
    {
     "name": "stderr",
     "output_type": "stream",
     "text": [
      "19:57:22 - cmdstanpy - INFO - Chain [1] done processing\n",
      "19:57:22 - cmdstanpy - INFO - Chain [1] start processing\n"
     ]
    },
    {
     "name": "stdout",
     "output_type": "stream",
     "text": [
      "2024-02-25 00:00:00\n"
     ]
    },
    {
     "name": "stderr",
     "output_type": "stream",
     "text": [
      "19:57:22 - cmdstanpy - INFO - Chain [1] done processing\n",
      "19:57:23 - cmdstanpy - INFO - Chain [1] start processing\n",
      "19:57:23 - cmdstanpy - INFO - Chain [1] done processing\n"
     ]
    },
    {
     "name": "stdout",
     "output_type": "stream",
     "text": [
      "2024-02-25 00:00:00\n"
     ]
    },
    {
     "name": "stderr",
     "output_type": "stream",
     "text": [
      "19:57:23 - cmdstanpy - INFO - Chain [1] start processing\n"
     ]
    },
    {
     "name": "stdout",
     "output_type": "stream",
     "text": [
      "2024-02-25 00:00:00\n"
     ]
    },
    {
     "name": "stderr",
     "output_type": "stream",
     "text": [
      "19:57:23 - cmdstanpy - INFO - Chain [1] done processing\n",
      "19:57:24 - cmdstanpy - INFO - Chain [1] start processing\n"
     ]
    },
    {
     "name": "stdout",
     "output_type": "stream",
     "text": [
      "2024-02-25 00:00:00\n"
     ]
    },
    {
     "name": "stderr",
     "output_type": "stream",
     "text": [
      "19:57:24 - cmdstanpy - INFO - Chain [1] done processing\n",
      "19:57:24 - cmdstanpy - INFO - Chain [1] start processing\n"
     ]
    },
    {
     "name": "stdout",
     "output_type": "stream",
     "text": [
      "2024-02-25 00:00:00\n"
     ]
    },
    {
     "name": "stderr",
     "output_type": "stream",
     "text": [
      "19:57:24 - cmdstanpy - INFO - Chain [1] done processing\n",
      "19:57:24 - cmdstanpy - INFO - Chain [1] start processing\n"
     ]
    },
    {
     "name": "stdout",
     "output_type": "stream",
     "text": [
      "2024-02-25 00:00:00\n"
     ]
    },
    {
     "name": "stderr",
     "output_type": "stream",
     "text": [
      "19:57:24 - cmdstanpy - INFO - Chain [1] done processing\n",
      "19:57:25 - cmdstanpy - INFO - Chain [1] start processing\n"
     ]
    },
    {
     "name": "stdout",
     "output_type": "stream",
     "text": [
      "2024-02-25 00:00:00\n"
     ]
    },
    {
     "name": "stderr",
     "output_type": "stream",
     "text": [
      "19:57:25 - cmdstanpy - INFO - Chain [1] done processing\n",
      "19:57:25 - cmdstanpy - INFO - Chain [1] start processing\n"
     ]
    },
    {
     "name": "stdout",
     "output_type": "stream",
     "text": [
      "2024-02-25 00:00:00\n"
     ]
    },
    {
     "name": "stderr",
     "output_type": "stream",
     "text": [
      "19:57:25 - cmdstanpy - INFO - Chain [1] done processing\n",
      "19:57:26 - cmdstanpy - INFO - Chain [1] start processing\n",
      "19:57:26 - cmdstanpy - INFO - Chain [1] done processing\n"
     ]
    },
    {
     "name": "stdout",
     "output_type": "stream",
     "text": [
      "2024-02-25 00:00:00\n"
     ]
    },
    {
     "name": "stderr",
     "output_type": "stream",
     "text": [
      "19:57:26 - cmdstanpy - INFO - Chain [1] start processing\n"
     ]
    },
    {
     "name": "stdout",
     "output_type": "stream",
     "text": [
      "2024-02-25 00:00:00\n"
     ]
    },
    {
     "name": "stderr",
     "output_type": "stream",
     "text": [
      "19:57:26 - cmdstanpy - INFO - Chain [1] done processing\n",
      "19:57:26 - cmdstanpy - INFO - Chain [1] start processing\n"
     ]
    },
    {
     "name": "stdout",
     "output_type": "stream",
     "text": [
      "2024-02-25 00:00:00\n"
     ]
    },
    {
     "name": "stderr",
     "output_type": "stream",
     "text": [
      "19:57:27 - cmdstanpy - INFO - Chain [1] done processing\n",
      "19:57:27 - cmdstanpy - INFO - Chain [1] start processing\n",
      "19:57:27 - cmdstanpy - INFO - Chain [1] done processing\n"
     ]
    },
    {
     "name": "stdout",
     "output_type": "stream",
     "text": [
      "2024-02-25 00:00:00\n"
     ]
    },
    {
     "name": "stderr",
     "output_type": "stream",
     "text": [
      "19:57:27 - cmdstanpy - INFO - Chain [1] start processing\n",
      "19:57:27 - cmdstanpy - INFO - Chain [1] done processing\n"
     ]
    },
    {
     "name": "stdout",
     "output_type": "stream",
     "text": [
      "2024-02-25 00:00:00\n"
     ]
    },
    {
     "name": "stderr",
     "output_type": "stream",
     "text": [
      "19:57:28 - cmdstanpy - INFO - Chain [1] start processing\n"
     ]
    },
    {
     "name": "stdout",
     "output_type": "stream",
     "text": [
      "2024-02-25 00:00:00\n"
     ]
    },
    {
     "name": "stderr",
     "output_type": "stream",
     "text": [
      "19:57:28 - cmdstanpy - INFO - Chain [1] done processing\n",
      "19:57:28 - cmdstanpy - INFO - Chain [1] start processing\n"
     ]
    },
    {
     "name": "stdout",
     "output_type": "stream",
     "text": [
      "2024-02-25 00:00:00\n"
     ]
    },
    {
     "name": "stderr",
     "output_type": "stream",
     "text": [
      "19:57:28 - cmdstanpy - INFO - Chain [1] done processing\n",
      "19:57:29 - cmdstanpy - INFO - Chain [1] start processing\n"
     ]
    },
    {
     "name": "stdout",
     "output_type": "stream",
     "text": [
      "2024-02-25 00:00:00\n"
     ]
    },
    {
     "name": "stderr",
     "output_type": "stream",
     "text": [
      "19:57:29 - cmdstanpy - INFO - Chain [1] done processing\n",
      "19:57:29 - cmdstanpy - INFO - Chain [1] start processing\n"
     ]
    },
    {
     "name": "stdout",
     "output_type": "stream",
     "text": [
      "2024-02-25 00:00:00\n"
     ]
    },
    {
     "name": "stderr",
     "output_type": "stream",
     "text": [
      "19:57:29 - cmdstanpy - INFO - Chain [1] done processing\n",
      "19:57:29 - cmdstanpy - INFO - Chain [1] start processing\n",
      "19:57:29 - cmdstanpy - INFO - Chain [1] done processing\n"
     ]
    },
    {
     "name": "stdout",
     "output_type": "stream",
     "text": [
      "2024-02-25 00:00:00\n"
     ]
    },
    {
     "name": "stderr",
     "output_type": "stream",
     "text": [
      "19:57:30 - cmdstanpy - INFO - Chain [1] start processing\n"
     ]
    },
    {
     "name": "stdout",
     "output_type": "stream",
     "text": [
      "2024-02-25 00:00:00\n"
     ]
    },
    {
     "name": "stderr",
     "output_type": "stream",
     "text": [
      "19:57:30 - cmdstanpy - INFO - Chain [1] done processing\n",
      "19:57:30 - cmdstanpy - INFO - Chain [1] start processing\n",
      "19:57:30 - cmdstanpy - INFO - Chain [1] done processing\n"
     ]
    },
    {
     "name": "stdout",
     "output_type": "stream",
     "text": [
      "2024-02-25 00:00:00\n"
     ]
    },
    {
     "name": "stderr",
     "output_type": "stream",
     "text": [
      "19:57:31 - cmdstanpy - INFO - Chain [1] start processing\n"
     ]
    },
    {
     "name": "stdout",
     "output_type": "stream",
     "text": [
      "2024-02-25 00:00:00\n"
     ]
    },
    {
     "name": "stderr",
     "output_type": "stream",
     "text": [
      "19:57:31 - cmdstanpy - INFO - Chain [1] done processing\n",
      "19:57:31 - cmdstanpy - INFO - Chain [1] start processing\n"
     ]
    },
    {
     "name": "stdout",
     "output_type": "stream",
     "text": [
      "2024-02-25 00:00:00\n"
     ]
    },
    {
     "name": "stderr",
     "output_type": "stream",
     "text": [
      "19:57:31 - cmdstanpy - INFO - Chain [1] done processing\n",
      "19:57:32 - cmdstanpy - INFO - Chain [1] start processing\n"
     ]
    },
    {
     "name": "stdout",
     "output_type": "stream",
     "text": [
      "2024-02-25 00:00:00\n"
     ]
    },
    {
     "name": "stderr",
     "output_type": "stream",
     "text": [
      "19:57:32 - cmdstanpy - INFO - Chain [1] done processing\n",
      "19:57:32 - cmdstanpy - INFO - Chain [1] start processing\n"
     ]
    },
    {
     "name": "stdout",
     "output_type": "stream",
     "text": [
      "2024-02-25 00:00:00\n"
     ]
    },
    {
     "name": "stderr",
     "output_type": "stream",
     "text": [
      "19:57:32 - cmdstanpy - INFO - Chain [1] done processing\n",
      "19:57:32 - cmdstanpy - INFO - Chain [1] start processing\n"
     ]
    },
    {
     "name": "stdout",
     "output_type": "stream",
     "text": [
      "2024-02-25 00:00:00\n"
     ]
    },
    {
     "name": "stderr",
     "output_type": "stream",
     "text": [
      "19:57:32 - cmdstanpy - INFO - Chain [1] done processing\n",
      "19:57:33 - cmdstanpy - INFO - Chain [1] start processing\n"
     ]
    },
    {
     "name": "stdout",
     "output_type": "stream",
     "text": [
      "2024-02-25 00:00:00\n"
     ]
    },
    {
     "name": "stderr",
     "output_type": "stream",
     "text": [
      "19:57:33 - cmdstanpy - INFO - Chain [1] done processing\n",
      "19:57:33 - cmdstanpy - INFO - Chain [1] start processing\n"
     ]
    },
    {
     "name": "stdout",
     "output_type": "stream",
     "text": [
      "2024-02-25 00:00:00\n"
     ]
    },
    {
     "name": "stderr",
     "output_type": "stream",
     "text": [
      "19:57:33 - cmdstanpy - INFO - Chain [1] done processing\n",
      "19:57:34 - cmdstanpy - INFO - Chain [1] start processing\n"
     ]
    },
    {
     "name": "stdout",
     "output_type": "stream",
     "text": [
      "2024-02-25 00:00:00\n"
     ]
    },
    {
     "name": "stderr",
     "output_type": "stream",
     "text": [
      "19:57:34 - cmdstanpy - INFO - Chain [1] done processing\n",
      "19:57:34 - cmdstanpy - INFO - Chain [1] start processing\n"
     ]
    },
    {
     "name": "stdout",
     "output_type": "stream",
     "text": [
      "2024-02-25 00:00:00\n"
     ]
    },
    {
     "name": "stderr",
     "output_type": "stream",
     "text": [
      "19:57:34 - cmdstanpy - INFO - Chain [1] done processing\n",
      "19:57:35 - cmdstanpy - INFO - Chain [1] start processing\n"
     ]
    },
    {
     "name": "stdout",
     "output_type": "stream",
     "text": [
      "2024-02-25 00:00:00\n"
     ]
    },
    {
     "name": "stderr",
     "output_type": "stream",
     "text": [
      "19:57:35 - cmdstanpy - INFO - Chain [1] done processing\n",
      "19:57:35 - cmdstanpy - INFO - Chain [1] start processing\n"
     ]
    },
    {
     "name": "stdout",
     "output_type": "stream",
     "text": [
      "2024-02-25 00:00:00\n"
     ]
    },
    {
     "name": "stderr",
     "output_type": "stream",
     "text": [
      "19:57:35 - cmdstanpy - INFO - Chain [1] done processing\n",
      "19:57:35 - cmdstanpy - INFO - Chain [1] start processing\n"
     ]
    },
    {
     "name": "stdout",
     "output_type": "stream",
     "text": [
      "2024-02-25 00:00:00\n"
     ]
    },
    {
     "name": "stderr",
     "output_type": "stream",
     "text": [
      "19:57:35 - cmdstanpy - INFO - Chain [1] done processing\n",
      "19:57:36 - cmdstanpy - INFO - Chain [1] start processing\n"
     ]
    },
    {
     "name": "stdout",
     "output_type": "stream",
     "text": [
      "2024-02-25 00:00:00\n"
     ]
    },
    {
     "name": "stderr",
     "output_type": "stream",
     "text": [
      "19:57:36 - cmdstanpy - INFO - Chain [1] done processing\n",
      "19:57:36 - cmdstanpy - INFO - Chain [1] start processing\n"
     ]
    },
    {
     "name": "stdout",
     "output_type": "stream",
     "text": [
      "2024-02-25 00:00:00\n"
     ]
    },
    {
     "name": "stderr",
     "output_type": "stream",
     "text": [
      "19:57:36 - cmdstanpy - INFO - Chain [1] done processing\n",
      "19:57:37 - cmdstanpy - INFO - Chain [1] start processing\n",
      "19:57:37 - cmdstanpy - INFO - Chain [1] done processing\n"
     ]
    },
    {
     "name": "stdout",
     "output_type": "stream",
     "text": [
      "2024-02-25 00:00:00\n"
     ]
    },
    {
     "name": "stderr",
     "output_type": "stream",
     "text": [
      "19:57:37 - cmdstanpy - INFO - Chain [1] start processing\n"
     ]
    },
    {
     "name": "stdout",
     "output_type": "stream",
     "text": [
      "2024-02-25 00:00:00\n"
     ]
    },
    {
     "name": "stderr",
     "output_type": "stream",
     "text": [
      "19:57:37 - cmdstanpy - INFO - Chain [1] done processing\n",
      "19:57:37 - cmdstanpy - INFO - Chain [1] start processing\n"
     ]
    },
    {
     "name": "stdout",
     "output_type": "stream",
     "text": [
      "2024-02-25 00:00:00\n"
     ]
    },
    {
     "name": "stderr",
     "output_type": "stream",
     "text": [
      "19:57:38 - cmdstanpy - INFO - Chain [1] done processing\n",
      "19:57:38 - cmdstanpy - INFO - Chain [1] start processing\n"
     ]
    },
    {
     "name": "stdout",
     "output_type": "stream",
     "text": [
      "2024-02-25 00:00:00\n"
     ]
    },
    {
     "name": "stderr",
     "output_type": "stream",
     "text": [
      "19:57:38 - cmdstanpy - INFO - Chain [1] done processing\n",
      "19:57:38 - cmdstanpy - INFO - Chain [1] start processing\n",
      "19:57:38 - cmdstanpy - INFO - Chain [1] done processing\n"
     ]
    },
    {
     "name": "stdout",
     "output_type": "stream",
     "text": [
      "2024-02-25 00:00:00\n"
     ]
    },
    {
     "name": "stderr",
     "output_type": "stream",
     "text": [
      "19:57:39 - cmdstanpy - INFO - Chain [1] start processing\n"
     ]
    },
    {
     "name": "stdout",
     "output_type": "stream",
     "text": [
      "2024-02-25 00:00:00\n"
     ]
    },
    {
     "name": "stderr",
     "output_type": "stream",
     "text": [
      "19:57:39 - cmdstanpy - INFO - Chain [1] done processing\n",
      "19:57:39 - cmdstanpy - INFO - Chain [1] start processing\n"
     ]
    },
    {
     "name": "stdout",
     "output_type": "stream",
     "text": [
      "2024-02-25 00:00:00\n"
     ]
    },
    {
     "name": "stderr",
     "output_type": "stream",
     "text": [
      "19:57:39 - cmdstanpy - INFO - Chain [1] done processing\n",
      "19:57:39 - cmdstanpy - INFO - Chain [1] start processing\n",
      "19:57:39 - cmdstanpy - INFO - Chain [1] done processing\n"
     ]
    },
    {
     "name": "stdout",
     "output_type": "stream",
     "text": [
      "2024-02-25 00:00:00\n"
     ]
    },
    {
     "name": "stderr",
     "output_type": "stream",
     "text": [
      "19:57:40 - cmdstanpy - INFO - Chain [1] start processing\n"
     ]
    },
    {
     "name": "stdout",
     "output_type": "stream",
     "text": [
      "2024-02-25 00:00:00\n"
     ]
    },
    {
     "name": "stderr",
     "output_type": "stream",
     "text": [
      "19:57:40 - cmdstanpy - INFO - Chain [1] done processing\n",
      "19:57:40 - cmdstanpy - INFO - Chain [1] start processing\n"
     ]
    },
    {
     "name": "stdout",
     "output_type": "stream",
     "text": [
      "2024-02-25 00:00:00\n"
     ]
    },
    {
     "name": "stderr",
     "output_type": "stream",
     "text": [
      "19:57:40 - cmdstanpy - INFO - Chain [1] done processing\n",
      "19:57:41 - cmdstanpy - INFO - Chain [1] start processing\n"
     ]
    },
    {
     "name": "stdout",
     "output_type": "stream",
     "text": [
      "2024-02-25 00:00:00\n"
     ]
    },
    {
     "name": "stderr",
     "output_type": "stream",
     "text": [
      "19:57:41 - cmdstanpy - INFO - Chain [1] done processing\n",
      "19:57:41 - cmdstanpy - INFO - Chain [1] start processing\n"
     ]
    },
    {
     "name": "stdout",
     "output_type": "stream",
     "text": [
      "2024-02-25 00:00:00\n"
     ]
    },
    {
     "name": "stderr",
     "output_type": "stream",
     "text": [
      "19:57:41 - cmdstanpy - INFO - Chain [1] done processing\n",
      "19:57:42 - cmdstanpy - INFO - Chain [1] start processing\n"
     ]
    },
    {
     "name": "stdout",
     "output_type": "stream",
     "text": [
      "2024-02-25 00:00:00\n"
     ]
    },
    {
     "name": "stderr",
     "output_type": "stream",
     "text": [
      "19:57:42 - cmdstanpy - INFO - Chain [1] done processing\n",
      "19:57:42 - cmdstanpy - INFO - Chain [1] start processing\n"
     ]
    },
    {
     "name": "stdout",
     "output_type": "stream",
     "text": [
      "2024-02-25 00:00:00\n"
     ]
    },
    {
     "name": "stderr",
     "output_type": "stream",
     "text": [
      "19:57:43 - cmdstanpy - INFO - Chain [1] done processing\n",
      "19:57:43 - cmdstanpy - INFO - Chain [1] start processing\n"
     ]
    },
    {
     "name": "stdout",
     "output_type": "stream",
     "text": [
      "2024-02-25 00:00:00\n"
     ]
    },
    {
     "name": "stderr",
     "output_type": "stream",
     "text": [
      "19:57:43 - cmdstanpy - INFO - Chain [1] done processing\n",
      "19:57:43 - cmdstanpy - INFO - Chain [1] start processing\n",
      "19:57:43 - cmdstanpy - INFO - Chain [1] done processing\n"
     ]
    },
    {
     "name": "stdout",
     "output_type": "stream",
     "text": [
      "2024-02-25 00:00:00\n"
     ]
    },
    {
     "name": "stderr",
     "output_type": "stream",
     "text": [
      "19:57:44 - cmdstanpy - INFO - Chain [1] start processing\n"
     ]
    },
    {
     "name": "stdout",
     "output_type": "stream",
     "text": [
      "2024-02-25 00:00:00\n"
     ]
    },
    {
     "name": "stderr",
     "output_type": "stream",
     "text": [
      "19:57:44 - cmdstanpy - INFO - Chain [1] done processing\n",
      "19:57:44 - cmdstanpy - INFO - Chain [1] start processing\n"
     ]
    },
    {
     "name": "stdout",
     "output_type": "stream",
     "text": [
      "2024-02-25 00:00:00\n"
     ]
    },
    {
     "name": "stderr",
     "output_type": "stream",
     "text": [
      "19:57:44 - cmdstanpy - INFO - Chain [1] done processing\n"
     ]
    },
    {
     "name": "stdout",
     "output_type": "stream",
     "text": [
      "2024-02-25 00:00:00\n"
     ]
    },
    {
     "name": "stderr",
     "output_type": "stream",
     "text": [
      "19:57:45 - cmdstanpy - INFO - Chain [1] start processing\n",
      "19:57:45 - cmdstanpy - INFO - Chain [1] done processing\n",
      "19:57:46 - cmdstanpy - INFO - Chain [1] start processing\n"
     ]
    },
    {
     "name": "stdout",
     "output_type": "stream",
     "text": [
      "2024-02-25 00:00:00\n"
     ]
    },
    {
     "name": "stderr",
     "output_type": "stream",
     "text": [
      "19:57:46 - cmdstanpy - INFO - Chain [1] done processing\n"
     ]
    },
    {
     "name": "stdout",
     "output_type": "stream",
     "text": [
      "2024-02-25 00:00:00\n"
     ]
    },
    {
     "name": "stderr",
     "output_type": "stream",
     "text": [
      "19:57:46 - cmdstanpy - INFO - Chain [1] start processing\n",
      "19:57:46 - cmdstanpy - INFO - Chain [1] done processing\n"
     ]
    },
    {
     "name": "stdout",
     "output_type": "stream",
     "text": [
      "2024-02-25 00:00:00\n"
     ]
    },
    {
     "name": "stderr",
     "output_type": "stream",
     "text": [
      "19:57:47 - cmdstanpy - INFO - Chain [1] start processing\n",
      "19:57:47 - cmdstanpy - INFO - Chain [1] done processing\n",
      "19:57:47 - cmdstanpy - INFO - Chain [1] start processing\n",
      "19:57:47 - cmdstanpy - INFO - Chain [1] done processing\n"
     ]
    },
    {
     "name": "stdout",
     "output_type": "stream",
     "text": [
      "2024-02-25 00:00:00\n"
     ]
    },
    {
     "name": "stderr",
     "output_type": "stream",
     "text": [
      "19:57:48 - cmdstanpy - INFO - Chain [1] start processing\n"
     ]
    },
    {
     "name": "stdout",
     "output_type": "stream",
     "text": [
      "2024-02-25 00:00:00\n"
     ]
    },
    {
     "name": "stderr",
     "output_type": "stream",
     "text": [
      "19:57:48 - cmdstanpy - INFO - Chain [1] done processing\n",
      "19:57:49 - cmdstanpy - INFO - Chain [1] start processing\n"
     ]
    },
    {
     "name": "stdout",
     "output_type": "stream",
     "text": [
      "2024-02-25 00:00:00\n"
     ]
    },
    {
     "name": "stderr",
     "output_type": "stream",
     "text": [
      "19:57:49 - cmdstanpy - INFO - Chain [1] done processing\n",
      "19:57:49 - cmdstanpy - INFO - Chain [1] start processing\n"
     ]
    },
    {
     "name": "stdout",
     "output_type": "stream",
     "text": [
      "2024-02-25 00:00:00\n"
     ]
    },
    {
     "name": "stderr",
     "output_type": "stream",
     "text": [
      "19:57:49 - cmdstanpy - INFO - Chain [1] done processing\n",
      "19:57:49 - cmdstanpy - INFO - Chain [1] start processing\n",
      "19:57:50 - cmdstanpy - INFO - Chain [1] done processing\n"
     ]
    },
    {
     "name": "stdout",
     "output_type": "stream",
     "text": [
      "2024-02-25 00:00:00\n"
     ]
    },
    {
     "name": "stderr",
     "output_type": "stream",
     "text": [
      "19:57:50 - cmdstanpy - INFO - Chain [1] start processing\n"
     ]
    },
    {
     "name": "stdout",
     "output_type": "stream",
     "text": [
      "2024-02-25 00:00:00\n"
     ]
    },
    {
     "name": "stderr",
     "output_type": "stream",
     "text": [
      "19:57:50 - cmdstanpy - INFO - Chain [1] done processing\n",
      "19:57:50 - cmdstanpy - INFO - Chain [1] start processing\n"
     ]
    },
    {
     "name": "stdout",
     "output_type": "stream",
     "text": [
      "2024-02-25 00:00:00\n"
     ]
    },
    {
     "name": "stderr",
     "output_type": "stream",
     "text": [
      "19:57:50 - cmdstanpy - INFO - Chain [1] done processing\n",
      "19:57:51 - cmdstanpy - INFO - Chain [1] start processing\n",
      "19:57:51 - cmdstanpy - INFO - Chain [1] done processing\n"
     ]
    },
    {
     "name": "stdout",
     "output_type": "stream",
     "text": [
      "2024-02-25 00:00:00\n"
     ]
    },
    {
     "name": "stderr",
     "output_type": "stream",
     "text": [
      "19:57:51 - cmdstanpy - INFO - Chain [1] start processing\n"
     ]
    },
    {
     "name": "stdout",
     "output_type": "stream",
     "text": [
      "2024-02-25 00:00:00\n"
     ]
    },
    {
     "name": "stderr",
     "output_type": "stream",
     "text": [
      "19:57:51 - cmdstanpy - INFO - Chain [1] done processing\n",
      "19:57:51 - cmdstanpy - INFO - Chain [1] start processing\n"
     ]
    },
    {
     "name": "stdout",
     "output_type": "stream",
     "text": [
      "2024-02-25 00:00:00\n"
     ]
    },
    {
     "name": "stderr",
     "output_type": "stream",
     "text": [
      "19:57:52 - cmdstanpy - INFO - Chain [1] done processing\n",
      "19:57:52 - cmdstanpy - INFO - Chain [1] start processing\n"
     ]
    },
    {
     "name": "stdout",
     "output_type": "stream",
     "text": [
      "2024-02-25 00:00:00\n"
     ]
    },
    {
     "name": "stderr",
     "output_type": "stream",
     "text": [
      "19:57:52 - cmdstanpy - INFO - Chain [1] done processing\n",
      "19:57:52 - cmdstanpy - INFO - Chain [1] start processing\n"
     ]
    },
    {
     "name": "stdout",
     "output_type": "stream",
     "text": [
      "2024-02-25 00:00:00\n"
     ]
    },
    {
     "name": "stderr",
     "output_type": "stream",
     "text": [
      "19:57:52 - cmdstanpy - INFO - Chain [1] done processing\n"
     ]
    },
    {
     "name": "stdout",
     "output_type": "stream",
     "text": [
      "2024-02-25 00:00:00\n"
     ]
    },
    {
     "name": "stderr",
     "output_type": "stream",
     "text": [
      "19:57:53 - cmdstanpy - INFO - Chain [1] start processing\n",
      "19:57:53 - cmdstanpy - INFO - Chain [1] done processing\n",
      "19:57:53 - cmdstanpy - INFO - Chain [1] start processing\n"
     ]
    },
    {
     "name": "stdout",
     "output_type": "stream",
     "text": [
      "2024-02-25 00:00:00\n"
     ]
    },
    {
     "name": "stderr",
     "output_type": "stream",
     "text": [
      "19:57:53 - cmdstanpy - INFO - Chain [1] done processing\n"
     ]
    },
    {
     "name": "stdout",
     "output_type": "stream",
     "text": [
      "2024-02-25 00:00:00\n"
     ]
    },
    {
     "name": "stderr",
     "output_type": "stream",
     "text": [
      "19:57:54 - cmdstanpy - INFO - Chain [1] start processing\n",
      "19:57:54 - cmdstanpy - INFO - Chain [1] done processing\n",
      "19:57:54 - cmdstanpy - INFO - Chain [1] start processing\n"
     ]
    },
    {
     "name": "stdout",
     "output_type": "stream",
     "text": [
      "2024-02-25 00:00:00\n"
     ]
    },
    {
     "name": "stderr",
     "output_type": "stream",
     "text": [
      "19:57:55 - cmdstanpy - INFO - Chain [1] done processing\n",
      "19:57:55 - cmdstanpy - INFO - Chain [1] start processing\n"
     ]
    },
    {
     "name": "stdout",
     "output_type": "stream",
     "text": [
      "2024-02-25 00:00:00\n"
     ]
    },
    {
     "name": "stderr",
     "output_type": "stream",
     "text": [
      "19:57:55 - cmdstanpy - INFO - Chain [1] done processing\n",
      "19:57:55 - cmdstanpy - INFO - Chain [1] start processing\n"
     ]
    },
    {
     "name": "stdout",
     "output_type": "stream",
     "text": [
      "2024-02-25 00:00:00\n"
     ]
    },
    {
     "name": "stderr",
     "output_type": "stream",
     "text": [
      "19:57:56 - cmdstanpy - INFO - Chain [1] done processing\n",
      "19:57:56 - cmdstanpy - INFO - Chain [1] start processing\n"
     ]
    },
    {
     "name": "stdout",
     "output_type": "stream",
     "text": [
      "2024-02-25 00:00:00\n"
     ]
    },
    {
     "name": "stderr",
     "output_type": "stream",
     "text": [
      "19:57:56 - cmdstanpy - INFO - Chain [1] done processing\n",
      "19:57:57 - cmdstanpy - INFO - Chain [1] start processing\n"
     ]
    },
    {
     "name": "stdout",
     "output_type": "stream",
     "text": [
      "2024-02-25 00:00:00\n"
     ]
    },
    {
     "name": "stderr",
     "output_type": "stream",
     "text": [
      "19:57:57 - cmdstanpy - INFO - Chain [1] done processing\n",
      "19:57:57 - cmdstanpy - INFO - Chain [1] start processing\n"
     ]
    },
    {
     "name": "stdout",
     "output_type": "stream",
     "text": [
      "2024-02-25 00:00:00\n"
     ]
    },
    {
     "name": "stderr",
     "output_type": "stream",
     "text": [
      "19:57:57 - cmdstanpy - INFO - Chain [1] done processing\n",
      "19:57:58 - cmdstanpy - INFO - Chain [1] start processing\n"
     ]
    },
    {
     "name": "stdout",
     "output_type": "stream",
     "text": [
      "2024-02-25 00:00:00\n"
     ]
    },
    {
     "name": "stderr",
     "output_type": "stream",
     "text": [
      "19:57:58 - cmdstanpy - INFO - Chain [1] done processing\n",
      "19:57:58 - cmdstanpy - INFO - Chain [1] start processing\n"
     ]
    },
    {
     "name": "stdout",
     "output_type": "stream",
     "text": [
      "2024-02-25 00:00:00\n"
     ]
    },
    {
     "name": "stderr",
     "output_type": "stream",
     "text": [
      "19:57:58 - cmdstanpy - INFO - Chain [1] done processing\n",
      "19:57:59 - cmdstanpy - INFO - Chain [1] start processing\n"
     ]
    },
    {
     "name": "stdout",
     "output_type": "stream",
     "text": [
      "2024-02-25 00:00:00\n"
     ]
    },
    {
     "name": "stderr",
     "output_type": "stream",
     "text": [
      "19:57:59 - cmdstanpy - INFO - Chain [1] done processing\n",
      "19:58:00 - cmdstanpy - INFO - Chain [1] start processing\n"
     ]
    },
    {
     "name": "stdout",
     "output_type": "stream",
     "text": [
      "2024-02-25 00:00:00\n"
     ]
    },
    {
     "name": "stderr",
     "output_type": "stream",
     "text": [
      "19:58:00 - cmdstanpy - INFO - Chain [1] done processing\n",
      "19:58:00 - cmdstanpy - INFO - Chain [1] start processing\n"
     ]
    },
    {
     "name": "stdout",
     "output_type": "stream",
     "text": [
      "2024-02-25 00:00:00\n"
     ]
    },
    {
     "name": "stderr",
     "output_type": "stream",
     "text": [
      "19:58:00 - cmdstanpy - INFO - Chain [1] done processing\n"
     ]
    },
    {
     "name": "stdout",
     "output_type": "stream",
     "text": [
      "2024-02-25 00:00:00\n"
     ]
    },
    {
     "name": "stderr",
     "output_type": "stream",
     "text": [
      "19:58:01 - cmdstanpy - INFO - Chain [1] start processing\n",
      "19:58:01 - cmdstanpy - INFO - Chain [1] done processing\n",
      "19:58:01 - cmdstanpy - INFO - Chain [1] start processing\n"
     ]
    },
    {
     "name": "stdout",
     "output_type": "stream",
     "text": [
      "2024-02-25 00:00:00\n"
     ]
    },
    {
     "name": "stderr",
     "output_type": "stream",
     "text": [
      "19:58:01 - cmdstanpy - INFO - Chain [1] done processing\n",
      "19:58:02 - cmdstanpy - INFO - Chain [1] start processing\n"
     ]
    },
    {
     "name": "stdout",
     "output_type": "stream",
     "text": [
      "2024-02-25 00:00:00\n"
     ]
    },
    {
     "name": "stderr",
     "output_type": "stream",
     "text": [
      "19:58:02 - cmdstanpy - INFO - Chain [1] done processing\n",
      "19:58:02 - cmdstanpy - INFO - Chain [1] start processing\n"
     ]
    },
    {
     "name": "stdout",
     "output_type": "stream",
     "text": [
      "2024-02-25 00:00:00\n"
     ]
    },
    {
     "name": "stderr",
     "output_type": "stream",
     "text": [
      "19:58:02 - cmdstanpy - INFO - Chain [1] done processing\n",
      "19:58:02 - cmdstanpy - INFO - Chain [1] start processing\n"
     ]
    },
    {
     "name": "stdout",
     "output_type": "stream",
     "text": [
      "2024-02-25 00:00:00\n"
     ]
    },
    {
     "name": "stderr",
     "output_type": "stream",
     "text": [
      "19:58:03 - cmdstanpy - INFO - Chain [1] done processing\n",
      "19:58:03 - cmdstanpy - INFO - Chain [1] start processing\n"
     ]
    },
    {
     "name": "stdout",
     "output_type": "stream",
     "text": [
      "2024-02-25 00:00:00\n"
     ]
    },
    {
     "name": "stderr",
     "output_type": "stream",
     "text": [
      "19:58:03 - cmdstanpy - INFO - Chain [1] done processing\n",
      "19:58:04 - cmdstanpy - INFO - Chain [1] start processing\n"
     ]
    },
    {
     "name": "stdout",
     "output_type": "stream",
     "text": [
      "2024-02-25 00:00:00\n"
     ]
    },
    {
     "name": "stderr",
     "output_type": "stream",
     "text": [
      "19:58:04 - cmdstanpy - INFO - Chain [1] done processing\n"
     ]
    },
    {
     "name": "stdout",
     "output_type": "stream",
     "text": [
      "2024-02-25 00:00:00\n"
     ]
    },
    {
     "name": "stderr",
     "output_type": "stream",
     "text": [
      "19:58:04 - cmdstanpy - INFO - Chain [1] start processing\n",
      "19:58:05 - cmdstanpy - INFO - Chain [1] done processing\n"
     ]
    },
    {
     "name": "stdout",
     "output_type": "stream",
     "text": [
      "2024-02-25 00:00:00\n"
     ]
    },
    {
     "name": "stderr",
     "output_type": "stream",
     "text": [
      "19:58:05 - cmdstanpy - INFO - Chain [1] start processing\n",
      "19:58:05 - cmdstanpy - INFO - Chain [1] done processing\n",
      "19:58:05 - cmdstanpy - INFO - Chain [1] start processing\n",
      "19:58:05 - cmdstanpy - INFO - Chain [1] done processing\n"
     ]
    },
    {
     "name": "stdout",
     "output_type": "stream",
     "text": [
      "2024-02-25 00:00:00\n"
     ]
    },
    {
     "name": "stderr",
     "output_type": "stream",
     "text": [
      "19:58:06 - cmdstanpy - INFO - Chain [1] start processing\n"
     ]
    },
    {
     "name": "stdout",
     "output_type": "stream",
     "text": [
      "2024-02-25 00:00:00\n"
     ]
    },
    {
     "name": "stderr",
     "output_type": "stream",
     "text": [
      "19:58:06 - cmdstanpy - INFO - Chain [1] done processing\n",
      "19:58:06 - cmdstanpy - INFO - Chain [1] start processing\n"
     ]
    },
    {
     "name": "stdout",
     "output_type": "stream",
     "text": [
      "2024-02-25 00:00:00\n"
     ]
    },
    {
     "name": "stderr",
     "output_type": "stream",
     "text": [
      "19:58:06 - cmdstanpy - INFO - Chain [1] done processing\n",
      "19:58:07 - cmdstanpy - INFO - Chain [1] start processing\n",
      "19:58:07 - cmdstanpy - INFO - Chain [1] done processing\n"
     ]
    },
    {
     "name": "stdout",
     "output_type": "stream",
     "text": [
      "2024-02-25 00:00:00\n"
     ]
    },
    {
     "name": "stderr",
     "output_type": "stream",
     "text": [
      "19:58:07 - cmdstanpy - INFO - Chain [1] start processing\n"
     ]
    },
    {
     "name": "stdout",
     "output_type": "stream",
     "text": [
      "2024-02-25 00:00:00\n"
     ]
    },
    {
     "name": "stderr",
     "output_type": "stream",
     "text": [
      "19:58:07 - cmdstanpy - INFO - Chain [1] done processing\n",
      "19:58:08 - cmdstanpy - INFO - Chain [1] start processing\n"
     ]
    },
    {
     "name": "stdout",
     "output_type": "stream",
     "text": [
      "2024-02-25 00:00:00\n"
     ]
    },
    {
     "name": "stderr",
     "output_type": "stream",
     "text": [
      "19:58:08 - cmdstanpy - INFO - Chain [1] done processing\n",
      "19:58:08 - cmdstanpy - INFO - Chain [1] start processing\n"
     ]
    },
    {
     "name": "stdout",
     "output_type": "stream",
     "text": [
      "2024-02-25 00:00:00\n"
     ]
    },
    {
     "name": "stderr",
     "output_type": "stream",
     "text": [
      "19:58:08 - cmdstanpy - INFO - Chain [1] done processing\n"
     ]
    },
    {
     "name": "stdout",
     "output_type": "stream",
     "text": [
      "2024-02-25 00:00:00\n"
     ]
    },
    {
     "name": "stderr",
     "output_type": "stream",
     "text": [
      "19:58:09 - cmdstanpy - INFO - Chain [1] start processing\n",
      "19:58:09 - cmdstanpy - INFO - Chain [1] done processing\n"
     ]
    },
    {
     "name": "stdout",
     "output_type": "stream",
     "text": [
      "2024-02-25 00:00:00\n"
     ]
    },
    {
     "name": "stderr",
     "output_type": "stream",
     "text": [
      "19:58:09 - cmdstanpy - INFO - Chain [1] start processing\n",
      "19:58:10 - cmdstanpy - INFO - Chain [1] done processing\n"
     ]
    },
    {
     "name": "stdout",
     "output_type": "stream",
     "text": [
      "2024-02-25 00:00:00\n"
     ]
    },
    {
     "name": "stderr",
     "output_type": "stream",
     "text": [
      "19:58:10 - cmdstanpy - INFO - Chain [1] start processing\n",
      "19:58:10 - cmdstanpy - INFO - Chain [1] done processing\n",
      "19:58:11 - cmdstanpy - INFO - Chain [1] start processing\n"
     ]
    },
    {
     "name": "stdout",
     "output_type": "stream",
     "text": [
      "2024-02-25 00:00:00\n"
     ]
    },
    {
     "name": "stderr",
     "output_type": "stream",
     "text": [
      "19:58:11 - cmdstanpy - INFO - Chain [1] done processing\n",
      "19:58:11 - cmdstanpy - INFO - Chain [1] start processing\n"
     ]
    },
    {
     "name": "stdout",
     "output_type": "stream",
     "text": [
      "2024-02-25 00:00:00\n"
     ]
    },
    {
     "name": "stderr",
     "output_type": "stream",
     "text": [
      "19:58:11 - cmdstanpy - INFO - Chain [1] done processing\n",
      "19:58:12 - cmdstanpy - INFO - Chain [1] start processing\n"
     ]
    },
    {
     "name": "stdout",
     "output_type": "stream",
     "text": [
      "2024-02-25 00:00:00\n"
     ]
    },
    {
     "name": "stderr",
     "output_type": "stream",
     "text": [
      "19:58:12 - cmdstanpy - INFO - Chain [1] done processing\n"
     ]
    },
    {
     "name": "stdout",
     "output_type": "stream",
     "text": [
      "2024-02-25 00:00:00\n"
     ]
    },
    {
     "name": "stderr",
     "output_type": "stream",
     "text": [
      "19:58:12 - cmdstanpy - INFO - Chain [1] start processing\n",
      "19:58:12 - cmdstanpy - INFO - Chain [1] done processing\n"
     ]
    },
    {
     "name": "stdout",
     "output_type": "stream",
     "text": [
      "2024-02-25 00:00:00\n"
     ]
    },
    {
     "name": "stderr",
     "output_type": "stream",
     "text": [
      "19:58:13 - cmdstanpy - INFO - Chain [1] start processing\n",
      "19:58:13 - cmdstanpy - INFO - Chain [1] done processing\n",
      "19:58:14 - cmdstanpy - INFO - Chain [1] start processing\n"
     ]
    },
    {
     "name": "stdout",
     "output_type": "stream",
     "text": [
      "2024-02-25 00:00:00\n"
     ]
    },
    {
     "name": "stderr",
     "output_type": "stream",
     "text": [
      "19:58:14 - cmdstanpy - INFO - Chain [1] done processing\n",
      "19:58:14 - cmdstanpy - INFO - Chain [1] start processing\n"
     ]
    },
    {
     "name": "stdout",
     "output_type": "stream",
     "text": [
      "2024-02-25 00:00:00\n"
     ]
    },
    {
     "name": "stderr",
     "output_type": "stream",
     "text": [
      "19:58:15 - cmdstanpy - INFO - Chain [1] done processing\n",
      "19:58:15 - cmdstanpy - INFO - Chain [1] start processing\n"
     ]
    },
    {
     "name": "stdout",
     "output_type": "stream",
     "text": [
      "2024-02-25 00:00:00\n"
     ]
    },
    {
     "name": "stderr",
     "output_type": "stream",
     "text": [
      "19:58:15 - cmdstanpy - INFO - Chain [1] done processing\n",
      "19:58:15 - cmdstanpy - INFO - Chain [1] start processing\n"
     ]
    },
    {
     "name": "stdout",
     "output_type": "stream",
     "text": [
      "2024-02-25 00:00:00\n"
     ]
    },
    {
     "name": "stderr",
     "output_type": "stream",
     "text": [
      "19:58:16 - cmdstanpy - INFO - Chain [1] done processing\n",
      "19:58:16 - cmdstanpy - INFO - Chain [1] start processing\n"
     ]
    },
    {
     "name": "stdout",
     "output_type": "stream",
     "text": [
      "2024-02-25 00:00:00\n"
     ]
    },
    {
     "name": "stderr",
     "output_type": "stream",
     "text": [
      "19:58:16 - cmdstanpy - INFO - Chain [1] done processing\n",
      "19:58:16 - cmdstanpy - INFO - Chain [1] start processing\n"
     ]
    },
    {
     "name": "stdout",
     "output_type": "stream",
     "text": [
      "2024-02-25 00:00:00\n"
     ]
    },
    {
     "name": "stderr",
     "output_type": "stream",
     "text": [
      "19:58:16 - cmdstanpy - INFO - Chain [1] done processing\n",
      "19:58:17 - cmdstanpy - INFO - Chain [1] start processing\n"
     ]
    },
    {
     "name": "stdout",
     "output_type": "stream",
     "text": [
      "2024-02-25 00:00:00\n"
     ]
    },
    {
     "name": "stderr",
     "output_type": "stream",
     "text": [
      "19:58:17 - cmdstanpy - INFO - Chain [1] done processing\n"
     ]
    },
    {
     "name": "stdout",
     "output_type": "stream",
     "text": [
      "2024-02-25 00:00:00\n"
     ]
    },
    {
     "name": "stderr",
     "output_type": "stream",
     "text": [
      "19:58:17 - cmdstanpy - INFO - Chain [1] start processing\n",
      "19:58:17 - cmdstanpy - INFO - Chain [1] done processing\n",
      "19:58:18 - cmdstanpy - INFO - Chain [1] start processing\n"
     ]
    },
    {
     "name": "stdout",
     "output_type": "stream",
     "text": [
      "2024-02-25 00:00:00\n"
     ]
    },
    {
     "name": "stderr",
     "output_type": "stream",
     "text": [
      "19:58:18 - cmdstanpy - INFO - Chain [1] done processing\n",
      "19:58:18 - cmdstanpy - INFO - Chain [1] start processing\n"
     ]
    },
    {
     "name": "stdout",
     "output_type": "stream",
     "text": [
      "2024-02-25 00:00:00\n"
     ]
    },
    {
     "name": "stderr",
     "output_type": "stream",
     "text": [
      "19:58:18 - cmdstanpy - INFO - Chain [1] done processing\n",
      "19:58:18 - cmdstanpy - INFO - Chain [1] start processing\n"
     ]
    },
    {
     "name": "stdout",
     "output_type": "stream",
     "text": [
      "2024-02-25 00:00:00\n"
     ]
    },
    {
     "name": "stderr",
     "output_type": "stream",
     "text": [
      "19:58:19 - cmdstanpy - INFO - Chain [1] done processing\n",
      "19:58:19 - cmdstanpy - INFO - Chain [1] start processing\n"
     ]
    },
    {
     "name": "stdout",
     "output_type": "stream",
     "text": [
      "2024-02-25 00:00:00\n"
     ]
    },
    {
     "name": "stderr",
     "output_type": "stream",
     "text": [
      "19:58:19 - cmdstanpy - INFO - Chain [1] done processing\n",
      "19:58:20 - cmdstanpy - INFO - Chain [1] start processing\n"
     ]
    },
    {
     "name": "stdout",
     "output_type": "stream",
     "text": [
      "2024-02-25 00:00:00\n"
     ]
    },
    {
     "name": "stderr",
     "output_type": "stream",
     "text": [
      "19:58:20 - cmdstanpy - INFO - Chain [1] done processing\n",
      "19:58:20 - cmdstanpy - INFO - Chain [1] start processing\n"
     ]
    },
    {
     "name": "stdout",
     "output_type": "stream",
     "text": [
      "2024-02-25 00:00:00\n"
     ]
    },
    {
     "name": "stderr",
     "output_type": "stream",
     "text": [
      "19:58:20 - cmdstanpy - INFO - Chain [1] done processing\n",
      "19:58:21 - cmdstanpy - INFO - Chain [1] start processing\n"
     ]
    },
    {
     "name": "stdout",
     "output_type": "stream",
     "text": [
      "2024-02-25 00:00:00\n"
     ]
    },
    {
     "name": "stderr",
     "output_type": "stream",
     "text": [
      "19:58:21 - cmdstanpy - INFO - Chain [1] done processing\n",
      "19:58:21 - cmdstanpy - INFO - Chain [1] start processing\n"
     ]
    },
    {
     "name": "stdout",
     "output_type": "stream",
     "text": [
      "2024-02-25 00:00:00\n"
     ]
    },
    {
     "name": "stderr",
     "output_type": "stream",
     "text": [
      "19:58:21 - cmdstanpy - INFO - Chain [1] done processing\n",
      "19:58:21 - cmdstanpy - INFO - Chain [1] start processing\n"
     ]
    },
    {
     "name": "stdout",
     "output_type": "stream",
     "text": [
      "2024-02-25 00:00:00\n"
     ]
    },
    {
     "name": "stderr",
     "output_type": "stream",
     "text": [
      "19:58:21 - cmdstanpy - INFO - Chain [1] done processing\n",
      "19:58:22 - cmdstanpy - INFO - Chain [1] start processing\n"
     ]
    },
    {
     "name": "stdout",
     "output_type": "stream",
     "text": [
      "2024-02-25 00:00:00\n"
     ]
    },
    {
     "name": "stderr",
     "output_type": "stream",
     "text": [
      "19:58:22 - cmdstanpy - INFO - Chain [1] done processing\n",
      "19:58:22 - cmdstanpy - INFO - Chain [1] start processing\n"
     ]
    },
    {
     "name": "stdout",
     "output_type": "stream",
     "text": [
      "2024-02-25 00:00:00\n"
     ]
    },
    {
     "name": "stderr",
     "output_type": "stream",
     "text": [
      "19:58:22 - cmdstanpy - INFO - Chain [1] done processing\n",
      "19:58:23 - cmdstanpy - INFO - Chain [1] start processing\n"
     ]
    },
    {
     "name": "stdout",
     "output_type": "stream",
     "text": [
      "2024-02-25 00:00:00\n"
     ]
    },
    {
     "name": "stderr",
     "output_type": "stream",
     "text": [
      "19:58:23 - cmdstanpy - INFO - Chain [1] done processing\n",
      "19:58:23 - cmdstanpy - INFO - Chain [1] start processing\n"
     ]
    },
    {
     "name": "stdout",
     "output_type": "stream",
     "text": [
      "2024-02-25 00:00:00\n"
     ]
    },
    {
     "name": "stderr",
     "output_type": "stream",
     "text": [
      "19:58:23 - cmdstanpy - INFO - Chain [1] done processing\n",
      "19:58:24 - cmdstanpy - INFO - Chain [1] start processing\n"
     ]
    },
    {
     "name": "stdout",
     "output_type": "stream",
     "text": [
      "2024-02-25 00:00:00\n"
     ]
    },
    {
     "name": "stderr",
     "output_type": "stream",
     "text": [
      "19:58:24 - cmdstanpy - INFO - Chain [1] done processing\n",
      "19:58:24 - cmdstanpy - INFO - Chain [1] start processing\n"
     ]
    },
    {
     "name": "stdout",
     "output_type": "stream",
     "text": [
      "2024-02-25 00:00:00\n"
     ]
    },
    {
     "name": "stderr",
     "output_type": "stream",
     "text": [
      "19:58:24 - cmdstanpy - INFO - Chain [1] done processing\n",
      "19:58:25 - cmdstanpy - INFO - Chain [1] start processing\n"
     ]
    },
    {
     "name": "stdout",
     "output_type": "stream",
     "text": [
      "2024-02-25 00:00:00\n"
     ]
    },
    {
     "name": "stderr",
     "output_type": "stream",
     "text": [
      "19:58:25 - cmdstanpy - INFO - Chain [1] done processing\n",
      "19:58:25 - cmdstanpy - INFO - Chain [1] start processing\n"
     ]
    },
    {
     "name": "stdout",
     "output_type": "stream",
     "text": [
      "2024-02-25 00:00:00\n"
     ]
    },
    {
     "name": "stderr",
     "output_type": "stream",
     "text": [
      "19:58:25 - cmdstanpy - INFO - Chain [1] done processing\n",
      "19:58:25 - cmdstanpy - INFO - Chain [1] start processing\n",
      "19:58:25 - cmdstanpy - INFO - Chain [1] done processing\n"
     ]
    },
    {
     "name": "stdout",
     "output_type": "stream",
     "text": [
      "2024-02-25 00:00:00\n"
     ]
    },
    {
     "name": "stderr",
     "output_type": "stream",
     "text": [
      "19:58:26 - cmdstanpy - INFO - Chain [1] start processing\n"
     ]
    },
    {
     "name": "stdout",
     "output_type": "stream",
     "text": [
      "2024-02-25 00:00:00\n"
     ]
    },
    {
     "name": "stderr",
     "output_type": "stream",
     "text": [
      "19:58:26 - cmdstanpy - INFO - Chain [1] done processing\n",
      "19:58:26 - cmdstanpy - INFO - Chain [1] start processing\n"
     ]
    },
    {
     "name": "stdout",
     "output_type": "stream",
     "text": [
      "2024-02-25 00:00:00\n"
     ]
    },
    {
     "name": "stderr",
     "output_type": "stream",
     "text": [
      "19:58:27 - cmdstanpy - INFO - Chain [1] done processing\n",
      "19:58:27 - cmdstanpy - INFO - Chain [1] start processing\n"
     ]
    },
    {
     "name": "stdout",
     "output_type": "stream",
     "text": [
      "2024-02-25 00:00:00\n"
     ]
    },
    {
     "name": "stderr",
     "output_type": "stream",
     "text": [
      "19:58:27 - cmdstanpy - INFO - Chain [1] done processing\n",
      "19:58:27 - cmdstanpy - INFO - Chain [1] start processing\n"
     ]
    },
    {
     "name": "stdout",
     "output_type": "stream",
     "text": [
      "2024-02-25 00:00:00\n"
     ]
    },
    {
     "name": "stderr",
     "output_type": "stream",
     "text": [
      "19:58:27 - cmdstanpy - INFO - Chain [1] done processing\n",
      "19:58:28 - cmdstanpy - INFO - Chain [1] start processing\n"
     ]
    },
    {
     "name": "stdout",
     "output_type": "stream",
     "text": [
      "2024-02-25 00:00:00\n"
     ]
    },
    {
     "name": "stderr",
     "output_type": "stream",
     "text": [
      "19:58:28 - cmdstanpy - INFO - Chain [1] done processing\n",
      "19:58:28 - cmdstanpy - INFO - Chain [1] start processing\n"
     ]
    },
    {
     "name": "stdout",
     "output_type": "stream",
     "text": [
      "2024-02-25 00:00:00\n"
     ]
    },
    {
     "name": "stderr",
     "output_type": "stream",
     "text": [
      "19:58:29 - cmdstanpy - INFO - Chain [1] done processing\n",
      "19:58:29 - cmdstanpy - INFO - Chain [1] start processing\n",
      "19:58:29 - cmdstanpy - INFO - Chain [1] done processing\n"
     ]
    },
    {
     "name": "stdout",
     "output_type": "stream",
     "text": [
      "2024-02-25 00:00:00\n"
     ]
    },
    {
     "name": "stderr",
     "output_type": "stream",
     "text": [
      "19:58:29 - cmdstanpy - INFO - Chain [1] start processing\n"
     ]
    },
    {
     "name": "stdout",
     "output_type": "stream",
     "text": [
      "2024-02-25 00:00:00\n"
     ]
    },
    {
     "name": "stderr",
     "output_type": "stream",
     "text": [
      "19:58:30 - cmdstanpy - INFO - Chain [1] done processing\n"
     ]
    },
    {
     "name": "stdout",
     "output_type": "stream",
     "text": [
      "2024-02-25 00:00:00\n"
     ]
    },
    {
     "name": "stderr",
     "output_type": "stream",
     "text": [
      "19:58:31 - cmdstanpy - INFO - Chain [1] start processing\n",
      "19:58:31 - cmdstanpy - INFO - Chain [1] done processing\n"
     ]
    },
    {
     "name": "stdout",
     "output_type": "stream",
     "text": [
      "2024-02-25 00:00:00\n"
     ]
    },
    {
     "name": "stderr",
     "output_type": "stream",
     "text": [
      "19:58:32 - cmdstanpy - INFO - Chain [1] start processing\n",
      "19:58:32 - cmdstanpy - INFO - Chain [1] done processing\n",
      "19:58:32 - cmdstanpy - INFO - Chain [1] start processing\n"
     ]
    },
    {
     "name": "stdout",
     "output_type": "stream",
     "text": [
      "2024-02-25 00:00:00\n"
     ]
    },
    {
     "name": "stderr",
     "output_type": "stream",
     "text": [
      "19:58:32 - cmdstanpy - INFO - Chain [1] done processing\n",
      "19:58:32 - cmdstanpy - INFO - Chain [1] start processing\n"
     ]
    },
    {
     "name": "stdout",
     "output_type": "stream",
     "text": [
      "2024-02-25 00:00:00\n"
     ]
    },
    {
     "name": "stderr",
     "output_type": "stream",
     "text": [
      "19:58:33 - cmdstanpy - INFO - Chain [1] done processing\n"
     ]
    },
    {
     "name": "stdout",
     "output_type": "stream",
     "text": [
      "2024-02-25 00:00:00\n"
     ]
    },
    {
     "name": "stderr",
     "output_type": "stream",
     "text": [
      "19:58:33 - cmdstanpy - INFO - Chain [1] start processing\n",
      "19:58:33 - cmdstanpy - INFO - Chain [1] done processing\n",
      "19:58:33 - cmdstanpy - INFO - Chain [1] start processing\n"
     ]
    },
    {
     "name": "stdout",
     "output_type": "stream",
     "text": [
      "2024-02-25 00:00:00\n"
     ]
    },
    {
     "name": "stderr",
     "output_type": "stream",
     "text": [
      "19:58:33 - cmdstanpy - INFO - Chain [1] done processing\n",
      "19:58:34 - cmdstanpy - INFO - Chain [1] start processing\n",
      "19:58:34 - cmdstanpy - INFO - Chain [1] done processing\n"
     ]
    },
    {
     "name": "stdout",
     "output_type": "stream",
     "text": [
      "2024-02-25 00:00:00\n"
     ]
    },
    {
     "name": "stderr",
     "output_type": "stream",
     "text": [
      "19:58:34 - cmdstanpy - INFO - Chain [1] start processing\n"
     ]
    },
    {
     "name": "stdout",
     "output_type": "stream",
     "text": [
      "2024-02-25 00:00:00\n"
     ]
    },
    {
     "name": "stderr",
     "output_type": "stream",
     "text": [
      "19:58:35 - cmdstanpy - INFO - Chain [1] done processing\n",
      "19:58:35 - cmdstanpy - INFO - Chain [1] start processing\n"
     ]
    },
    {
     "name": "stdout",
     "output_type": "stream",
     "text": [
      "2024-02-25 00:00:00\n"
     ]
    },
    {
     "name": "stderr",
     "output_type": "stream",
     "text": [
      "19:58:35 - cmdstanpy - INFO - Chain [1] done processing\n",
      "19:58:35 - cmdstanpy - INFO - Chain [1] start processing\n"
     ]
    },
    {
     "name": "stdout",
     "output_type": "stream",
     "text": [
      "2024-02-25 00:00:00\n"
     ]
    },
    {
     "name": "stderr",
     "output_type": "stream",
     "text": [
      "19:58:35 - cmdstanpy - INFO - Chain [1] done processing\n",
      "19:58:36 - cmdstanpy - INFO - Chain [1] start processing\n"
     ]
    },
    {
     "name": "stdout",
     "output_type": "stream",
     "text": [
      "2024-02-25 00:00:00\n"
     ]
    },
    {
     "name": "stderr",
     "output_type": "stream",
     "text": [
      "19:58:36 - cmdstanpy - INFO - Chain [1] done processing\n",
      "19:58:36 - cmdstanpy - INFO - Chain [1] start processing\n"
     ]
    },
    {
     "name": "stdout",
     "output_type": "stream",
     "text": [
      "2024-02-25 00:00:00\n"
     ]
    },
    {
     "name": "stderr",
     "output_type": "stream",
     "text": [
      "19:58:36 - cmdstanpy - INFO - Chain [1] done processing\n",
      "19:58:37 - cmdstanpy - INFO - Chain [1] start processing\n"
     ]
    },
    {
     "name": "stdout",
     "output_type": "stream",
     "text": [
      "2024-02-25 00:00:00\n"
     ]
    },
    {
     "name": "stderr",
     "output_type": "stream",
     "text": [
      "19:58:37 - cmdstanpy - INFO - Chain [1] done processing\n",
      "19:58:37 - cmdstanpy - INFO - Chain [1] start processing\n",
      "19:58:37 - cmdstanpy - INFO - Chain [1] done processing\n"
     ]
    },
    {
     "name": "stdout",
     "output_type": "stream",
     "text": [
      "2024-02-25 00:00:00\n"
     ]
    },
    {
     "name": "stderr",
     "output_type": "stream",
     "text": [
      "19:58:37 - cmdstanpy - INFO - Chain [1] start processing\n"
     ]
    },
    {
     "name": "stdout",
     "output_type": "stream",
     "text": [
      "2024-02-25 00:00:00\n"
     ]
    },
    {
     "name": "stderr",
     "output_type": "stream",
     "text": [
      "19:58:37 - cmdstanpy - INFO - Chain [1] done processing\n",
      "19:58:38 - cmdstanpy - INFO - Chain [1] start processing\n",
      "19:58:38 - cmdstanpy - INFO - Chain [1] done processing\n"
     ]
    },
    {
     "name": "stdout",
     "output_type": "stream",
     "text": [
      "2024-02-25 00:00:00\n"
     ]
    },
    {
     "name": "stderr",
     "output_type": "stream",
     "text": [
      "19:58:38 - cmdstanpy - INFO - Chain [1] start processing\n"
     ]
    },
    {
     "name": "stdout",
     "output_type": "stream",
     "text": [
      "2024-02-25 00:00:00\n"
     ]
    },
    {
     "name": "stderr",
     "output_type": "stream",
     "text": [
      "19:58:38 - cmdstanpy - INFO - Chain [1] done processing\n",
      "19:58:39 - cmdstanpy - INFO - Chain [1] start processing\n"
     ]
    },
    {
     "name": "stdout",
     "output_type": "stream",
     "text": [
      "2024-02-25 00:00:00\n"
     ]
    },
    {
     "name": "stderr",
     "output_type": "stream",
     "text": [
      "19:58:39 - cmdstanpy - INFO - Chain [1] done processing\n",
      "19:58:39 - cmdstanpy - INFO - Chain [1] start processing\n"
     ]
    },
    {
     "name": "stdout",
     "output_type": "stream",
     "text": [
      "2024-02-25 00:00:00\n"
     ]
    },
    {
     "name": "stderr",
     "output_type": "stream",
     "text": [
      "19:58:39 - cmdstanpy - INFO - Chain [1] done processing\n",
      "19:58:40 - cmdstanpy - INFO - Chain [1] start processing\n"
     ]
    },
    {
     "name": "stdout",
     "output_type": "stream",
     "text": [
      "2024-02-25 00:00:00\n"
     ]
    },
    {
     "name": "stderr",
     "output_type": "stream",
     "text": [
      "19:58:40 - cmdstanpy - INFO - Chain [1] done processing\n",
      "19:58:40 - cmdstanpy - INFO - Chain [1] start processing\n"
     ]
    },
    {
     "name": "stdout",
     "output_type": "stream",
     "text": [
      "2024-02-25 00:00:00\n"
     ]
    },
    {
     "name": "stderr",
     "output_type": "stream",
     "text": [
      "19:58:40 - cmdstanpy - INFO - Chain [1] done processing\n",
      "19:58:41 - cmdstanpy - INFO - Chain [1] start processing\n"
     ]
    },
    {
     "name": "stdout",
     "output_type": "stream",
     "text": [
      "2024-02-25 00:00:00\n"
     ]
    },
    {
     "name": "stderr",
     "output_type": "stream",
     "text": [
      "19:58:41 - cmdstanpy - INFO - Chain [1] done processing\n",
      "19:58:41 - cmdstanpy - INFO - Chain [1] start processing\n"
     ]
    },
    {
     "name": "stdout",
     "output_type": "stream",
     "text": [
      "2024-02-25 00:00:00\n"
     ]
    },
    {
     "name": "stderr",
     "output_type": "stream",
     "text": [
      "19:58:41 - cmdstanpy - INFO - Chain [1] done processing\n",
      "19:58:42 - cmdstanpy - INFO - Chain [1] start processing\n"
     ]
    },
    {
     "name": "stdout",
     "output_type": "stream",
     "text": [
      "2024-02-25 00:00:00\n"
     ]
    },
    {
     "name": "stderr",
     "output_type": "stream",
     "text": [
      "19:58:42 - cmdstanpy - INFO - Chain [1] done processing\n",
      "19:58:42 - cmdstanpy - INFO - Chain [1] start processing\n"
     ]
    },
    {
     "name": "stdout",
     "output_type": "stream",
     "text": [
      "2024-02-25 00:00:00\n"
     ]
    },
    {
     "name": "stderr",
     "output_type": "stream",
     "text": [
      "19:58:42 - cmdstanpy - INFO - Chain [1] done processing\n",
      "19:58:42 - cmdstanpy - INFO - Chain [1] start processing\n",
      "19:58:42 - cmdstanpy - INFO - Chain [1] done processing\n"
     ]
    },
    {
     "name": "stdout",
     "output_type": "stream",
     "text": [
      "2024-02-25 00:00:00\n"
     ]
    },
    {
     "name": "stderr",
     "output_type": "stream",
     "text": [
      "19:58:43 - cmdstanpy - INFO - Chain [1] start processing\n",
      "19:58:43 - cmdstanpy - INFO - Chain [1] done processing\n"
     ]
    },
    {
     "name": "stdout",
     "output_type": "stream",
     "text": [
      "2024-02-25 00:00:00\n"
     ]
    },
    {
     "name": "stderr",
     "output_type": "stream",
     "text": [
      "19:58:43 - cmdstanpy - INFO - Chain [1] start processing\n"
     ]
    },
    {
     "name": "stdout",
     "output_type": "stream",
     "text": [
      "2024-02-25 00:00:00\n"
     ]
    },
    {
     "name": "stderr",
     "output_type": "stream",
     "text": [
      "19:58:43 - cmdstanpy - INFO - Chain [1] done processing\n",
      "19:58:44 - cmdstanpy - INFO - Chain [1] start processing\n"
     ]
    },
    {
     "name": "stdout",
     "output_type": "stream",
     "text": [
      "2024-02-25 00:00:00\n"
     ]
    },
    {
     "name": "stderr",
     "output_type": "stream",
     "text": [
      "19:58:44 - cmdstanpy - INFO - Chain [1] done processing\n",
      "19:58:44 - cmdstanpy - INFO - Chain [1] start processing\n"
     ]
    },
    {
     "name": "stdout",
     "output_type": "stream",
     "text": [
      "2024-02-25 00:00:00\n"
     ]
    },
    {
     "name": "stderr",
     "output_type": "stream",
     "text": [
      "19:58:44 - cmdstanpy - INFO - Chain [1] done processing\n",
      "19:58:44 - cmdstanpy - INFO - Chain [1] start processing\n"
     ]
    },
    {
     "name": "stdout",
     "output_type": "stream",
     "text": [
      "2024-02-25 00:00:00\n"
     ]
    },
    {
     "name": "stderr",
     "output_type": "stream",
     "text": [
      "19:58:45 - cmdstanpy - INFO - Chain [1] done processing\n",
      "19:58:45 - cmdstanpy - INFO - Chain [1] start processing\n"
     ]
    },
    {
     "name": "stdout",
     "output_type": "stream",
     "text": [
      "2024-02-25 00:00:00\n"
     ]
    },
    {
     "name": "stderr",
     "output_type": "stream",
     "text": [
      "19:58:45 - cmdstanpy - INFO - Chain [1] done processing\n",
      "19:58:45 - cmdstanpy - INFO - Chain [1] start processing\n"
     ]
    },
    {
     "name": "stdout",
     "output_type": "stream",
     "text": [
      "2024-02-25 00:00:00\n"
     ]
    },
    {
     "name": "stderr",
     "output_type": "stream",
     "text": [
      "19:58:45 - cmdstanpy - INFO - Chain [1] done processing\n",
      "19:58:46 - cmdstanpy - INFO - Chain [1] start processing\n"
     ]
    },
    {
     "name": "stdout",
     "output_type": "stream",
     "text": [
      "2024-02-25 00:00:00\n"
     ]
    },
    {
     "name": "stderr",
     "output_type": "stream",
     "text": [
      "19:58:46 - cmdstanpy - INFO - Chain [1] done processing\n"
     ]
    },
    {
     "name": "stdout",
     "output_type": "stream",
     "text": [
      "2024-02-25 00:00:00\n"
     ]
    },
    {
     "name": "stderr",
     "output_type": "stream",
     "text": [
      "19:58:46 - cmdstanpy - INFO - Chain [1] start processing\n",
      "19:58:46 - cmdstanpy - INFO - Chain [1] done processing\n",
      "19:58:47 - cmdstanpy - INFO - Chain [1] start processing\n"
     ]
    },
    {
     "name": "stdout",
     "output_type": "stream",
     "text": [
      "2024-02-25 00:00:00\n"
     ]
    },
    {
     "name": "stderr",
     "output_type": "stream",
     "text": [
      "19:58:47 - cmdstanpy - INFO - Chain [1] done processing\n",
      "19:58:47 - cmdstanpy - INFO - Chain [1] start processing\n"
     ]
    },
    {
     "name": "stdout",
     "output_type": "stream",
     "text": [
      "2024-02-25 00:00:00\n"
     ]
    },
    {
     "name": "stderr",
     "output_type": "stream",
     "text": [
      "19:58:47 - cmdstanpy - INFO - Chain [1] done processing\n"
     ]
    },
    {
     "name": "stdout",
     "output_type": "stream",
     "text": [
      "2024-02-25 00:00:00\n"
     ]
    },
    {
     "name": "stderr",
     "output_type": "stream",
     "text": [
      "19:58:48 - cmdstanpy - INFO - Chain [1] start processing\n",
      "19:58:48 - cmdstanpy - INFO - Chain [1] done processing\n"
     ]
    },
    {
     "name": "stdout",
     "output_type": "stream",
     "text": [
      "2024-02-25 00:00:00\n"
     ]
    },
    {
     "name": "stderr",
     "output_type": "stream",
     "text": [
      "19:58:48 - cmdstanpy - INFO - Chain [1] start processing\n",
      "19:58:48 - cmdstanpy - INFO - Chain [1] done processing\n"
     ]
    },
    {
     "name": "stdout",
     "output_type": "stream",
     "text": [
      "2024-02-25 00:00:00\n"
     ]
    },
    {
     "name": "stderr",
     "output_type": "stream",
     "text": [
      "19:58:49 - cmdstanpy - INFO - Chain [1] start processing\n",
      "19:58:49 - cmdstanpy - INFO - Chain [1] done processing\n"
     ]
    },
    {
     "name": "stdout",
     "output_type": "stream",
     "text": [
      "2024-02-25 00:00:00\n"
     ]
    },
    {
     "name": "stderr",
     "output_type": "stream",
     "text": [
      "19:58:50 - cmdstanpy - INFO - Chain [1] start processing\n",
      "19:58:50 - cmdstanpy - INFO - Chain [1] done processing\n"
     ]
    },
    {
     "name": "stdout",
     "output_type": "stream",
     "text": [
      "2024-02-25 00:00:00\n"
     ]
    },
    {
     "name": "stderr",
     "output_type": "stream",
     "text": [
      "19:58:50 - cmdstanpy - INFO - Chain [1] start processing\n",
      "19:58:51 - cmdstanpy - INFO - Chain [1] done processing\n"
     ]
    },
    {
     "name": "stdout",
     "output_type": "stream",
     "text": [
      "2024-02-25 00:00:00\n"
     ]
    },
    {
     "name": "stderr",
     "output_type": "stream",
     "text": [
      "19:58:51 - cmdstanpy - INFO - Chain [1] start processing\n",
      "19:58:51 - cmdstanpy - INFO - Chain [1] done processing\n"
     ]
    },
    {
     "name": "stdout",
     "output_type": "stream",
     "text": [
      "2024-02-25 00:00:00\n"
     ]
    },
    {
     "name": "stderr",
     "output_type": "stream",
     "text": [
      "19:58:52 - cmdstanpy - INFO - Chain [1] start processing\n",
      "19:58:52 - cmdstanpy - INFO - Chain [1] done processing\n"
     ]
    },
    {
     "name": "stdout",
     "output_type": "stream",
     "text": [
      "2024-02-25 00:00:00\n"
     ]
    },
    {
     "name": "stderr",
     "output_type": "stream",
     "text": [
      "19:58:52 - cmdstanpy - INFO - Chain [1] start processing\n",
      "19:58:52 - cmdstanpy - INFO - Chain [1] done processing\n",
      "19:58:53 - cmdstanpy - INFO - Chain [1] start processing\n"
     ]
    },
    {
     "name": "stdout",
     "output_type": "stream",
     "text": [
      "2024-02-25 00:00:00\n"
     ]
    },
    {
     "name": "stderr",
     "output_type": "stream",
     "text": [
      "19:58:53 - cmdstanpy - INFO - Chain [1] done processing\n"
     ]
    },
    {
     "name": "stdout",
     "output_type": "stream",
     "text": [
      "2024-02-25 00:00:00\n"
     ]
    },
    {
     "name": "stderr",
     "output_type": "stream",
     "text": [
      "19:58:53 - cmdstanpy - INFO - Chain [1] start processing\n",
      "19:58:54 - cmdstanpy - INFO - Chain [1] done processing\n",
      "19:58:54 - cmdstanpy - INFO - Chain [1] start processing\n"
     ]
    },
    {
     "name": "stdout",
     "output_type": "stream",
     "text": [
      "2024-02-25 00:00:00\n"
     ]
    },
    {
     "name": "stderr",
     "output_type": "stream",
     "text": [
      "19:58:54 - cmdstanpy - INFO - Chain [1] done processing\n",
      "19:58:54 - cmdstanpy - INFO - Chain [1] start processing\n",
      "19:58:54 - cmdstanpy - INFO - Chain [1] done processing\n"
     ]
    },
    {
     "name": "stdout",
     "output_type": "stream",
     "text": [
      "2024-02-25 00:00:00\n",
      "2024-02-25 00:00:00\n"
     ]
    },
    {
     "name": "stderr",
     "output_type": "stream",
     "text": [
      "19:58:55 - cmdstanpy - INFO - Chain [1] start processing\n",
      "19:58:55 - cmdstanpy - INFO - Chain [1] done processing\n",
      "19:58:55 - cmdstanpy - INFO - Chain [1] start processing\n"
     ]
    },
    {
     "name": "stdout",
     "output_type": "stream",
     "text": [
      "2024-02-25 00:00:00\n"
     ]
    },
    {
     "name": "stderr",
     "output_type": "stream",
     "text": [
      "19:58:56 - cmdstanpy - INFO - Chain [1] done processing\n",
      "19:58:56 - cmdstanpy - INFO - Chain [1] start processing\n"
     ]
    },
    {
     "name": "stdout",
     "output_type": "stream",
     "text": [
      "2024-02-25 00:00:00\n"
     ]
    },
    {
     "name": "stderr",
     "output_type": "stream",
     "text": [
      "19:58:56 - cmdstanpy - INFO - Chain [1] done processing\n",
      "19:58:56 - cmdstanpy - INFO - Chain [1] start processing\n"
     ]
    },
    {
     "name": "stdout",
     "output_type": "stream",
     "text": [
      "2024-02-25 00:00:00\n"
     ]
    },
    {
     "name": "stderr",
     "output_type": "stream",
     "text": [
      "19:58:56 - cmdstanpy - INFO - Chain [1] done processing\n"
     ]
    },
    {
     "name": "stdout",
     "output_type": "stream",
     "text": [
      "2024-02-25 00:00:00\n"
     ]
    },
    {
     "name": "stderr",
     "output_type": "stream",
     "text": [
      "19:58:57 - cmdstanpy - INFO - Chain [1] start processing\n",
      "19:58:57 - cmdstanpy - INFO - Chain [1] done processing\n"
     ]
    },
    {
     "name": "stdout",
     "output_type": "stream",
     "text": [
      "2024-02-25 00:00:00\n"
     ]
    },
    {
     "name": "stderr",
     "output_type": "stream",
     "text": [
      "19:58:58 - cmdstanpy - INFO - Chain [1] start processing\n",
      "19:58:58 - cmdstanpy - INFO - Chain [1] done processing\n",
      "19:58:58 - cmdstanpy - INFO - Chain [1] start processing\n"
     ]
    },
    {
     "name": "stdout",
     "output_type": "stream",
     "text": [
      "2024-02-25 00:00:00\n"
     ]
    },
    {
     "name": "stderr",
     "output_type": "stream",
     "text": [
      "19:58:59 - cmdstanpy - INFO - Chain [1] done processing\n",
      "19:58:59 - cmdstanpy - INFO - Chain [1] start processing\n"
     ]
    },
    {
     "name": "stdout",
     "output_type": "stream",
     "text": [
      "2024-02-25 00:00:00\n"
     ]
    },
    {
     "name": "stderr",
     "output_type": "stream",
     "text": [
      "19:58:59 - cmdstanpy - INFO - Chain [1] done processing\n",
      "19:59:00 - cmdstanpy - INFO - Chain [1] start processing\n"
     ]
    },
    {
     "name": "stdout",
     "output_type": "stream",
     "text": [
      "2024-02-25 00:00:00\n"
     ]
    },
    {
     "name": "stderr",
     "output_type": "stream",
     "text": [
      "19:59:00 - cmdstanpy - INFO - Chain [1] done processing\n",
      "19:59:00 - cmdstanpy - INFO - Chain [1] start processing\n"
     ]
    },
    {
     "name": "stdout",
     "output_type": "stream",
     "text": [
      "2024-02-25 00:00:00\n"
     ]
    },
    {
     "name": "stderr",
     "output_type": "stream",
     "text": [
      "19:59:00 - cmdstanpy - INFO - Chain [1] done processing\n",
      "19:59:01 - cmdstanpy - INFO - Chain [1] start processing\n"
     ]
    },
    {
     "name": "stdout",
     "output_type": "stream",
     "text": [
      "2024-02-25 00:00:00\n"
     ]
    },
    {
     "name": "stderr",
     "output_type": "stream",
     "text": [
      "19:59:01 - cmdstanpy - INFO - Chain [1] done processing\n",
      "19:59:01 - cmdstanpy - INFO - Chain [1] start processing\n"
     ]
    },
    {
     "name": "stdout",
     "output_type": "stream",
     "text": [
      "2024-02-25 00:00:00\n"
     ]
    },
    {
     "name": "stderr",
     "output_type": "stream",
     "text": [
      "19:59:01 - cmdstanpy - INFO - Chain [1] done processing\n",
      "19:59:02 - cmdstanpy - INFO - Chain [1] start processing\n"
     ]
    },
    {
     "name": "stdout",
     "output_type": "stream",
     "text": [
      "2024-02-25 00:00:00\n"
     ]
    },
    {
     "name": "stderr",
     "output_type": "stream",
     "text": [
      "19:59:02 - cmdstanpy - INFO - Chain [1] done processing\n",
      "19:59:02 - cmdstanpy - INFO - Chain [1] start processing\n"
     ]
    },
    {
     "name": "stdout",
     "output_type": "stream",
     "text": [
      "2024-02-25 00:00:00\n"
     ]
    },
    {
     "name": "stderr",
     "output_type": "stream",
     "text": [
      "19:59:02 - cmdstanpy - INFO - Chain [1] done processing\n",
      "19:59:03 - cmdstanpy - INFO - Chain [1] start processing\n"
     ]
    },
    {
     "name": "stdout",
     "output_type": "stream",
     "text": [
      "2024-02-25 00:00:00\n"
     ]
    },
    {
     "name": "stderr",
     "output_type": "stream",
     "text": [
      "19:59:03 - cmdstanpy - INFO - Chain [1] done processing\n",
      "19:59:03 - cmdstanpy - INFO - Chain [1] start processing\n"
     ]
    },
    {
     "name": "stdout",
     "output_type": "stream",
     "text": [
      "2024-02-25 00:00:00\n"
     ]
    },
    {
     "name": "stderr",
     "output_type": "stream",
     "text": [
      "19:59:03 - cmdstanpy - INFO - Chain [1] done processing\n",
      "19:59:04 - cmdstanpy - INFO - Chain [1] start processing\n",
      "19:59:04 - cmdstanpy - INFO - Chain [1] done processing\n"
     ]
    },
    {
     "name": "stdout",
     "output_type": "stream",
     "text": [
      "2024-02-25 00:00:00\n"
     ]
    },
    {
     "name": "stderr",
     "output_type": "stream",
     "text": [
      "19:59:04 - cmdstanpy - INFO - Chain [1] start processing\n"
     ]
    },
    {
     "name": "stdout",
     "output_type": "stream",
     "text": [
      "2024-02-25 00:00:00\n"
     ]
    },
    {
     "name": "stderr",
     "output_type": "stream",
     "text": [
      "19:59:04 - cmdstanpy - INFO - Chain [1] done processing\n",
      "19:59:05 - cmdstanpy - INFO - Chain [1] start processing\n"
     ]
    },
    {
     "name": "stdout",
     "output_type": "stream",
     "text": [
      "2024-02-25 00:00:00\n"
     ]
    },
    {
     "name": "stderr",
     "output_type": "stream",
     "text": [
      "19:59:05 - cmdstanpy - INFO - Chain [1] done processing\n",
      "19:59:05 - cmdstanpy - INFO - Chain [1] start processing\n"
     ]
    },
    {
     "name": "stdout",
     "output_type": "stream",
     "text": [
      "2024-02-25 00:00:00\n"
     ]
    },
    {
     "name": "stderr",
     "output_type": "stream",
     "text": [
      "19:59:05 - cmdstanpy - INFO - Chain [1] done processing\n",
      "19:59:05 - cmdstanpy - INFO - Chain [1] start processing\n"
     ]
    },
    {
     "name": "stdout",
     "output_type": "stream",
     "text": [
      "2024-02-25 00:00:00\n"
     ]
    },
    {
     "name": "stderr",
     "output_type": "stream",
     "text": [
      "19:59:05 - cmdstanpy - INFO - Chain [1] done processing\n",
      "19:59:06 - cmdstanpy - INFO - Chain [1] start processing\n",
      "19:59:06 - cmdstanpy - INFO - Chain [1] done processing\n"
     ]
    },
    {
     "name": "stdout",
     "output_type": "stream",
     "text": [
      "2024-02-25 00:00:00\n"
     ]
    },
    {
     "name": "stderr",
     "output_type": "stream",
     "text": [
      "19:59:06 - cmdstanpy - INFO - Chain [1] start processing\n"
     ]
    },
    {
     "name": "stdout",
     "output_type": "stream",
     "text": [
      "2024-02-25 00:00:00\n"
     ]
    },
    {
     "name": "stderr",
     "output_type": "stream",
     "text": [
      "19:59:06 - cmdstanpy - INFO - Chain [1] done processing\n",
      "19:59:07 - cmdstanpy - INFO - Chain [1] start processing\n"
     ]
    },
    {
     "name": "stdout",
     "output_type": "stream",
     "text": [
      "2024-02-25 00:00:00\n"
     ]
    },
    {
     "name": "stderr",
     "output_type": "stream",
     "text": [
      "19:59:07 - cmdstanpy - INFO - Chain [1] done processing\n",
      "19:59:07 - cmdstanpy - INFO - Chain [1] start processing\n",
      "19:59:07 - cmdstanpy - INFO - Chain [1] done processing\n"
     ]
    },
    {
     "name": "stdout",
     "output_type": "stream",
     "text": [
      "2024-02-25 00:00:00\n"
     ]
    },
    {
     "name": "stderr",
     "output_type": "stream",
     "text": [
      "19:59:07 - cmdstanpy - INFO - Chain [1] start processing\n"
     ]
    },
    {
     "name": "stdout",
     "output_type": "stream",
     "text": [
      "2024-02-25 00:00:00\n"
     ]
    },
    {
     "name": "stderr",
     "output_type": "stream",
     "text": [
      "19:59:07 - cmdstanpy - INFO - Chain [1] done processing\n",
      "19:59:08 - cmdstanpy - INFO - Chain [1] start processing\n",
      "19:59:08 - cmdstanpy - INFO - Chain [1] done processing\n"
     ]
    },
    {
     "name": "stdout",
     "output_type": "stream",
     "text": [
      "2024-02-25 00:00:00\n"
     ]
    },
    {
     "name": "stderr",
     "output_type": "stream",
     "text": [
      "19:59:08 - cmdstanpy - INFO - Chain [1] start processing\n"
     ]
    },
    {
     "name": "stdout",
     "output_type": "stream",
     "text": [
      "2024-02-25 00:00:00\n"
     ]
    },
    {
     "name": "stderr",
     "output_type": "stream",
     "text": [
      "19:59:08 - cmdstanpy - INFO - Chain [1] done processing\n",
      "19:59:09 - cmdstanpy - INFO - Chain [1] start processing\n",
      "19:59:09 - cmdstanpy - INFO - Chain [1] done processing\n"
     ]
    },
    {
     "name": "stdout",
     "output_type": "stream",
     "text": [
      "2024-02-25 00:00:00\n"
     ]
    },
    {
     "name": "stderr",
     "output_type": "stream",
     "text": [
      "19:59:09 - cmdstanpy - INFO - Chain [1] start processing\n"
     ]
    },
    {
     "name": "stdout",
     "output_type": "stream",
     "text": [
      "2024-02-25 00:00:00\n"
     ]
    },
    {
     "name": "stderr",
     "output_type": "stream",
     "text": [
      "19:59:09 - cmdstanpy - INFO - Chain [1] done processing\n",
      "19:59:10 - cmdstanpy - INFO - Chain [1] start processing\n",
      "19:59:10 - cmdstanpy - INFO - Chain [1] done processing\n"
     ]
    },
    {
     "name": "stdout",
     "output_type": "stream",
     "text": [
      "2024-02-25 00:00:00\n"
     ]
    },
    {
     "name": "stderr",
     "output_type": "stream",
     "text": [
      "19:59:10 - cmdstanpy - INFO - Chain [1] start processing\n"
     ]
    },
    {
     "name": "stdout",
     "output_type": "stream",
     "text": [
      "2024-02-25 00:00:00\n"
     ]
    },
    {
     "name": "stderr",
     "output_type": "stream",
     "text": [
      "19:59:10 - cmdstanpy - INFO - Chain [1] done processing\n",
      "19:59:10 - cmdstanpy - INFO - Chain [1] start processing\n"
     ]
    },
    {
     "name": "stdout",
     "output_type": "stream",
     "text": [
      "2024-02-25 00:00:00\n"
     ]
    },
    {
     "name": "stderr",
     "output_type": "stream",
     "text": [
      "19:59:10 - cmdstanpy - INFO - Chain [1] done processing\n",
      "19:59:11 - cmdstanpy - INFO - Chain [1] start processing\n"
     ]
    },
    {
     "name": "stdout",
     "output_type": "stream",
     "text": [
      "2024-02-25 00:00:00\n"
     ]
    },
    {
     "name": "stderr",
     "output_type": "stream",
     "text": [
      "19:59:11 - cmdstanpy - INFO - Chain [1] done processing\n"
     ]
    },
    {
     "name": "stdout",
     "output_type": "stream",
     "text": [
      "2024-02-25 00:00:00\n"
     ]
    },
    {
     "name": "stderr",
     "output_type": "stream",
     "text": [
      "19:59:12 - cmdstanpy - INFO - Chain [1] start processing\n",
      "19:59:12 - cmdstanpy - INFO - Chain [1] done processing\n",
      "19:59:12 - cmdstanpy - INFO - Chain [1] start processing\n"
     ]
    },
    {
     "name": "stdout",
     "output_type": "stream",
     "text": [
      "2024-02-25 00:00:00\n"
     ]
    },
    {
     "name": "stderr",
     "output_type": "stream",
     "text": [
      "19:59:12 - cmdstanpy - INFO - Chain [1] done processing\n"
     ]
    },
    {
     "name": "stdout",
     "output_type": "stream",
     "text": [
      "2024-02-25 00:00:00\n"
     ]
    },
    {
     "name": "stderr",
     "output_type": "stream",
     "text": [
      "19:59:13 - cmdstanpy - INFO - Chain [1] start processing\n",
      "19:59:14 - cmdstanpy - INFO - Chain [1] done processing\n",
      "19:59:14 - cmdstanpy - INFO - Chain [1] start processing\n"
     ]
    },
    {
     "name": "stdout",
     "output_type": "stream",
     "text": [
      "2024-02-25 00:00:00\n"
     ]
    },
    {
     "name": "stderr",
     "output_type": "stream",
     "text": [
      "19:59:14 - cmdstanpy - INFO - Chain [1] done processing\n"
     ]
    },
    {
     "name": "stdout",
     "output_type": "stream",
     "text": [
      "2024-02-25 00:00:00\n"
     ]
    },
    {
     "name": "stderr",
     "output_type": "stream",
     "text": [
      "19:59:15 - cmdstanpy - INFO - Chain [1] start processing\n",
      "19:59:15 - cmdstanpy - INFO - Chain [1] done processing\n"
     ]
    },
    {
     "name": "stdout",
     "output_type": "stream",
     "text": [
      "2024-02-25 00:00:00\n"
     ]
    },
    {
     "name": "stderr",
     "output_type": "stream",
     "text": [
      "19:59:15 - cmdstanpy - INFO - Chain [1] start processing\n",
      "19:59:16 - cmdstanpy - INFO - Chain [1] done processing\n"
     ]
    },
    {
     "name": "stdout",
     "output_type": "stream",
     "text": [
      "2024-02-25 00:00:00\n"
     ]
    },
    {
     "name": "stderr",
     "output_type": "stream",
     "text": [
      "19:59:17 - cmdstanpy - INFO - Chain [1] start processing\n",
      "19:59:17 - cmdstanpy - INFO - Chain [1] done processing\n",
      "19:59:17 - cmdstanpy - INFO - Chain [1] start processing\n"
     ]
    },
    {
     "name": "stdout",
     "output_type": "stream",
     "text": [
      "2024-02-25 00:00:00\n"
     ]
    },
    {
     "name": "stderr",
     "output_type": "stream",
     "text": [
      "19:59:17 - cmdstanpy - INFO - Chain [1] done processing\n"
     ]
    },
    {
     "name": "stdout",
     "output_type": "stream",
     "text": [
      "2024-02-25 00:00:00\n"
     ]
    },
    {
     "name": "stderr",
     "output_type": "stream",
     "text": [
      "19:59:18 - cmdstanpy - INFO - Chain [1] start processing\n",
      "19:59:18 - cmdstanpy - INFO - Chain [1] done processing\n",
      "19:59:18 - cmdstanpy - INFO - Chain [1] start processing\n"
     ]
    },
    {
     "name": "stdout",
     "output_type": "stream",
     "text": [
      "2024-02-25 00:00:00\n"
     ]
    },
    {
     "name": "stderr",
     "output_type": "stream",
     "text": [
      "19:59:18 - cmdstanpy - INFO - Chain [1] done processing\n",
      "19:59:19 - cmdstanpy - INFO - Chain [1] start processing\n"
     ]
    },
    {
     "name": "stdout",
     "output_type": "stream",
     "text": [
      "2024-02-25 00:00:00\n"
     ]
    },
    {
     "name": "stderr",
     "output_type": "stream",
     "text": [
      "19:59:19 - cmdstanpy - INFO - Chain [1] done processing\n",
      "19:59:19 - cmdstanpy - INFO - Chain [1] start processing\n"
     ]
    },
    {
     "name": "stdout",
     "output_type": "stream",
     "text": [
      "2024-02-25 00:00:00\n"
     ]
    },
    {
     "name": "stderr",
     "output_type": "stream",
     "text": [
      "19:59:19 - cmdstanpy - INFO - Chain [1] done processing\n"
     ]
    },
    {
     "name": "stdout",
     "output_type": "stream",
     "text": [
      "2024-02-25 00:00:00\n"
     ]
    },
    {
     "name": "stderr",
     "output_type": "stream",
     "text": [
      "19:59:20 - cmdstanpy - INFO - Chain [1] start processing\n",
      "19:59:20 - cmdstanpy - INFO - Chain [1] done processing\n",
      "19:59:20 - cmdstanpy - INFO - Chain [1] start processing\n"
     ]
    },
    {
     "name": "stdout",
     "output_type": "stream",
     "text": [
      "2024-02-25 00:00:00\n"
     ]
    },
    {
     "name": "stderr",
     "output_type": "stream",
     "text": [
      "19:59:20 - cmdstanpy - INFO - Chain [1] done processing\n",
      "19:59:20 - cmdstanpy - INFO - Chain [1] start processing\n"
     ]
    },
    {
     "name": "stdout",
     "output_type": "stream",
     "text": [
      "2024-02-25 00:00:00\n"
     ]
    },
    {
     "name": "stderr",
     "output_type": "stream",
     "text": [
      "19:59:21 - cmdstanpy - INFO - Chain [1] done processing\n",
      "19:59:21 - cmdstanpy - INFO - Chain [1] start processing\n"
     ]
    },
    {
     "name": "stdout",
     "output_type": "stream",
     "text": [
      "2024-02-25 00:00:00\n"
     ]
    },
    {
     "name": "stderr",
     "output_type": "stream",
     "text": [
      "19:59:21 - cmdstanpy - INFO - Chain [1] done processing\n",
      "19:59:21 - cmdstanpy - INFO - Chain [1] start processing\n"
     ]
    },
    {
     "name": "stdout",
     "output_type": "stream",
     "text": [
      "2024-02-25 00:00:00\n"
     ]
    },
    {
     "name": "stderr",
     "output_type": "stream",
     "text": [
      "19:59:22 - cmdstanpy - INFO - Chain [1] done processing\n",
      "19:59:22 - cmdstanpy - INFO - Chain [1] start processing\n",
      "19:59:22 - cmdstanpy - INFO - Chain [1] done processing\n"
     ]
    },
    {
     "name": "stdout",
     "output_type": "stream",
     "text": [
      "2024-02-25 00:00:00\n"
     ]
    },
    {
     "name": "stderr",
     "output_type": "stream",
     "text": [
      "19:59:22 - cmdstanpy - INFO - Chain [1] start processing\n"
     ]
    },
    {
     "name": "stdout",
     "output_type": "stream",
     "text": [
      "2024-02-25 00:00:00\n"
     ]
    },
    {
     "name": "stderr",
     "output_type": "stream",
     "text": [
      "19:59:22 - cmdstanpy - INFO - Chain [1] done processing\n"
     ]
    },
    {
     "name": "stdout",
     "output_type": "stream",
     "text": [
      "2024-02-25 00:00:00\n"
     ]
    },
    {
     "name": "stderr",
     "output_type": "stream",
     "text": [
      "19:59:23 - cmdstanpy - INFO - Chain [1] start processing\n",
      "19:59:23 - cmdstanpy - INFO - Chain [1] done processing\n",
      "19:59:23 - cmdstanpy - INFO - Chain [1] start processing\n"
     ]
    },
    {
     "name": "stdout",
     "output_type": "stream",
     "text": [
      "2024-02-25 00:00:00\n"
     ]
    },
    {
     "name": "stderr",
     "output_type": "stream",
     "text": [
      "19:59:23 - cmdstanpy - INFO - Chain [1] done processing\n",
      "19:59:24 - cmdstanpy - INFO - Chain [1] start processing\n"
     ]
    },
    {
     "name": "stdout",
     "output_type": "stream",
     "text": [
      "2024-02-25 00:00:00\n"
     ]
    },
    {
     "name": "stderr",
     "output_type": "stream",
     "text": [
      "19:59:24 - cmdstanpy - INFO - Chain [1] done processing\n",
      "19:59:24 - cmdstanpy - INFO - Chain [1] start processing\n"
     ]
    },
    {
     "name": "stdout",
     "output_type": "stream",
     "text": [
      "2024-02-25 00:00:00\n"
     ]
    },
    {
     "name": "stderr",
     "output_type": "stream",
     "text": [
      "19:59:24 - cmdstanpy - INFO - Chain [1] done processing\n",
      "19:59:25 - cmdstanpy - INFO - Chain [1] start processing\n"
     ]
    },
    {
     "name": "stdout",
     "output_type": "stream",
     "text": [
      "2024-02-25 00:00:00\n"
     ]
    },
    {
     "name": "stderr",
     "output_type": "stream",
     "text": [
      "19:59:25 - cmdstanpy - INFO - Chain [1] done processing\n",
      "19:59:25 - cmdstanpy - INFO - Chain [1] start processing\n"
     ]
    },
    {
     "name": "stdout",
     "output_type": "stream",
     "text": [
      "2024-02-25 00:00:00\n"
     ]
    },
    {
     "name": "stderr",
     "output_type": "stream",
     "text": [
      "19:59:25 - cmdstanpy - INFO - Chain [1] done processing\n",
      "19:59:25 - cmdstanpy - INFO - Chain [1] start processing\n"
     ]
    },
    {
     "name": "stdout",
     "output_type": "stream",
     "text": [
      "2024-02-25 00:00:00\n"
     ]
    },
    {
     "name": "stderr",
     "output_type": "stream",
     "text": [
      "19:59:25 - cmdstanpy - INFO - Chain [1] done processing\n",
      "19:59:26 - cmdstanpy - INFO - Chain [1] start processing\n"
     ]
    },
    {
     "name": "stdout",
     "output_type": "stream",
     "text": [
      "2024-02-25 00:00:00\n"
     ]
    },
    {
     "name": "stderr",
     "output_type": "stream",
     "text": [
      "19:59:26 - cmdstanpy - INFO - Chain [1] done processing\n",
      "19:59:26 - cmdstanpy - INFO - Chain [1] start processing\n"
     ]
    },
    {
     "name": "stdout",
     "output_type": "stream",
     "text": [
      "2024-02-25 00:00:00\n"
     ]
    },
    {
     "name": "stderr",
     "output_type": "stream",
     "text": [
      "19:59:26 - cmdstanpy - INFO - Chain [1] done processing\n",
      "19:59:27 - cmdstanpy - INFO - Chain [1] start processing\n",
      "19:59:27 - cmdstanpy - INFO - Chain [1] done processing\n"
     ]
    },
    {
     "name": "stdout",
     "output_type": "stream",
     "text": [
      "2024-02-25 00:00:00\n"
     ]
    },
    {
     "name": "stderr",
     "output_type": "stream",
     "text": [
      "19:59:27 - cmdstanpy - INFO - Chain [1] start processing\n"
     ]
    },
    {
     "name": "stdout",
     "output_type": "stream",
     "text": [
      "2024-02-25 00:00:00\n"
     ]
    },
    {
     "name": "stderr",
     "output_type": "stream",
     "text": [
      "19:59:27 - cmdstanpy - INFO - Chain [1] done processing\n"
     ]
    },
    {
     "name": "stdout",
     "output_type": "stream",
     "text": [
      "2024-02-25 00:00:00\n"
     ]
    },
    {
     "name": "stderr",
     "output_type": "stream",
     "text": [
      "19:59:28 - cmdstanpy - INFO - Chain [1] start processing\n",
      "19:59:28 - cmdstanpy - INFO - Chain [1] done processing\n",
      "19:59:28 - cmdstanpy - INFO - Chain [1] start processing\n"
     ]
    },
    {
     "name": "stdout",
     "output_type": "stream",
     "text": [
      "2024-02-25 00:00:00\n"
     ]
    },
    {
     "name": "stderr",
     "output_type": "stream",
     "text": [
      "19:59:28 - cmdstanpy - INFO - Chain [1] done processing\n",
      "19:59:29 - cmdstanpy - INFO - Chain [1] start processing\n"
     ]
    },
    {
     "name": "stdout",
     "output_type": "stream",
     "text": [
      "2024-02-25 00:00:00\n"
     ]
    },
    {
     "name": "stderr",
     "output_type": "stream",
     "text": [
      "19:59:29 - cmdstanpy - INFO - Chain [1] done processing\n",
      "19:59:29 - cmdstanpy - INFO - Chain [1] start processing\n"
     ]
    },
    {
     "name": "stdout",
     "output_type": "stream",
     "text": [
      "2024-02-25 00:00:00\n"
     ]
    },
    {
     "name": "stderr",
     "output_type": "stream",
     "text": [
      "19:59:29 - cmdstanpy - INFO - Chain [1] done processing\n",
      "19:59:30 - cmdstanpy - INFO - Chain [1] start processing\n"
     ]
    },
    {
     "name": "stdout",
     "output_type": "stream",
     "text": [
      "2024-02-25 00:00:00\n"
     ]
    },
    {
     "name": "stderr",
     "output_type": "stream",
     "text": [
      "19:59:30 - cmdstanpy - INFO - Chain [1] done processing\n",
      "19:59:30 - cmdstanpy - INFO - Chain [1] start processing\n"
     ]
    },
    {
     "name": "stdout",
     "output_type": "stream",
     "text": [
      "2024-02-25 00:00:00\n"
     ]
    },
    {
     "name": "stderr",
     "output_type": "stream",
     "text": [
      "19:59:30 - cmdstanpy - INFO - Chain [1] done processing\n",
      "19:59:31 - cmdstanpy - INFO - Chain [1] start processing\n"
     ]
    },
    {
     "name": "stdout",
     "output_type": "stream",
     "text": [
      "2024-02-25 00:00:00\n"
     ]
    },
    {
     "name": "stderr",
     "output_type": "stream",
     "text": [
      "19:59:31 - cmdstanpy - INFO - Chain [1] done processing\n",
      "19:59:31 - cmdstanpy - INFO - Chain [1] start processing\n"
     ]
    },
    {
     "name": "stdout",
     "output_type": "stream",
     "text": [
      "2024-02-25 00:00:00\n"
     ]
    },
    {
     "name": "stderr",
     "output_type": "stream",
     "text": [
      "19:59:31 - cmdstanpy - INFO - Chain [1] done processing\n"
     ]
    },
    {
     "name": "stdout",
     "output_type": "stream",
     "text": [
      "2024-02-25 00:00:00\n"
     ]
    },
    {
     "name": "stderr",
     "output_type": "stream",
     "text": [
      "19:59:32 - cmdstanpy - INFO - Chain [1] start processing\n",
      "19:59:32 - cmdstanpy - INFO - Chain [1] done processing\n",
      "19:59:32 - cmdstanpy - INFO - Chain [1] start processing\n"
     ]
    },
    {
     "name": "stdout",
     "output_type": "stream",
     "text": [
      "2024-02-25 00:00:00\n"
     ]
    },
    {
     "name": "stderr",
     "output_type": "stream",
     "text": [
      "19:59:32 - cmdstanpy - INFO - Chain [1] done processing\n",
      "19:59:33 - cmdstanpy - INFO - Chain [1] start processing\n"
     ]
    },
    {
     "name": "stdout",
     "output_type": "stream",
     "text": [
      "2024-02-25 00:00:00\n"
     ]
    },
    {
     "name": "stderr",
     "output_type": "stream",
     "text": [
      "19:59:33 - cmdstanpy - INFO - Chain [1] done processing\n",
      "19:59:33 - cmdstanpy - INFO - Chain [1] start processing\n"
     ]
    },
    {
     "name": "stdout",
     "output_type": "stream",
     "text": [
      "2024-02-25 00:00:00\n"
     ]
    },
    {
     "name": "stderr",
     "output_type": "stream",
     "text": [
      "19:59:33 - cmdstanpy - INFO - Chain [1] done processing\n",
      "19:59:34 - cmdstanpy - INFO - Chain [1] start processing\n",
      "19:59:34 - cmdstanpy - INFO - Chain [1] done processing\n"
     ]
    },
    {
     "name": "stdout",
     "output_type": "stream",
     "text": [
      "2024-02-25 00:00:00\n"
     ]
    },
    {
     "name": "stderr",
     "output_type": "stream",
     "text": [
      "19:59:34 - cmdstanpy - INFO - Chain [1] start processing\n"
     ]
    },
    {
     "name": "stdout",
     "output_type": "stream",
     "text": [
      "2024-02-25 00:00:00\n"
     ]
    },
    {
     "name": "stderr",
     "output_type": "stream",
     "text": [
      "19:59:34 - cmdstanpy - INFO - Chain [1] done processing\n",
      "19:59:34 - cmdstanpy - INFO - Chain [1] start processing\n"
     ]
    },
    {
     "name": "stdout",
     "output_type": "stream",
     "text": [
      "2024-02-25 00:00:00\n"
     ]
    },
    {
     "name": "stderr",
     "output_type": "stream",
     "text": [
      "19:59:35 - cmdstanpy - INFO - Chain [1] done processing\n",
      "19:59:35 - cmdstanpy - INFO - Chain [1] start processing\n"
     ]
    },
    {
     "name": "stdout",
     "output_type": "stream",
     "text": [
      "2024-02-25 00:00:00\n"
     ]
    },
    {
     "name": "stderr",
     "output_type": "stream",
     "text": [
      "19:59:35 - cmdstanpy - INFO - Chain [1] done processing\n",
      "19:59:36 - cmdstanpy - INFO - Chain [1] start processing\n"
     ]
    },
    {
     "name": "stdout",
     "output_type": "stream",
     "text": [
      "2024-02-25 00:00:00\n"
     ]
    },
    {
     "name": "stderr",
     "output_type": "stream",
     "text": [
      "19:59:36 - cmdstanpy - INFO - Chain [1] done processing\n",
      "19:59:36 - cmdstanpy - INFO - Chain [1] start processing\n"
     ]
    },
    {
     "name": "stdout",
     "output_type": "stream",
     "text": [
      "2024-02-25 00:00:00\n"
     ]
    },
    {
     "name": "stderr",
     "output_type": "stream",
     "text": [
      "19:59:36 - cmdstanpy - INFO - Chain [1] done processing\n",
      "19:59:37 - cmdstanpy - INFO - Chain [1] start processing\n"
     ]
    },
    {
     "name": "stdout",
     "output_type": "stream",
     "text": [
      "2024-02-25 00:00:00\n"
     ]
    },
    {
     "name": "stderr",
     "output_type": "stream",
     "text": [
      "19:59:37 - cmdstanpy - INFO - Chain [1] done processing\n",
      "19:59:37 - cmdstanpy - INFO - Chain [1] start processing\n"
     ]
    },
    {
     "name": "stdout",
     "output_type": "stream",
     "text": [
      "2024-02-25 00:00:00\n"
     ]
    },
    {
     "name": "stderr",
     "output_type": "stream",
     "text": [
      "19:59:37 - cmdstanpy - INFO - Chain [1] done processing\n",
      "19:59:37 - cmdstanpy - INFO - Chain [1] start processing\n"
     ]
    },
    {
     "name": "stdout",
     "output_type": "stream",
     "text": [
      "2024-02-25 00:00:00\n"
     ]
    },
    {
     "name": "stderr",
     "output_type": "stream",
     "text": [
      "19:59:37 - cmdstanpy - INFO - Chain [1] done processing\n",
      "19:59:38 - cmdstanpy - INFO - Chain [1] start processing\n"
     ]
    },
    {
     "name": "stdout",
     "output_type": "stream",
     "text": [
      "2024-02-25 00:00:00\n"
     ]
    },
    {
     "name": "stderr",
     "output_type": "stream",
     "text": [
      "19:59:38 - cmdstanpy - INFO - Chain [1] done processing\n",
      "19:59:38 - cmdstanpy - INFO - Chain [1] start processing\n"
     ]
    },
    {
     "name": "stdout",
     "output_type": "stream",
     "text": [
      "2024-02-25 00:00:00\n"
     ]
    },
    {
     "name": "stderr",
     "output_type": "stream",
     "text": [
      "19:59:38 - cmdstanpy - INFO - Chain [1] done processing\n",
      "19:59:39 - cmdstanpy - INFO - Chain [1] start processing\n"
     ]
    },
    {
     "name": "stdout",
     "output_type": "stream",
     "text": [
      "2024-02-25 00:00:00\n"
     ]
    },
    {
     "name": "stderr",
     "output_type": "stream",
     "text": [
      "19:59:39 - cmdstanpy - INFO - Chain [1] done processing\n",
      "19:59:39 - cmdstanpy - INFO - Chain [1] start processing\n"
     ]
    },
    {
     "name": "stdout",
     "output_type": "stream",
     "text": [
      "2024-02-25 00:00:00\n"
     ]
    },
    {
     "name": "stderr",
     "output_type": "stream",
     "text": [
      "19:59:39 - cmdstanpy - INFO - Chain [1] done processing\n"
     ]
    },
    {
     "name": "stdout",
     "output_type": "stream",
     "text": [
      "2024-02-25 00:00:00\n"
     ]
    },
    {
     "name": "stderr",
     "output_type": "stream",
     "text": [
      "19:59:40 - cmdstanpy - INFO - Chain [1] start processing\n",
      "19:59:40 - cmdstanpy - INFO - Chain [1] done processing\n",
      "19:59:40 - cmdstanpy - INFO - Chain [1] start processing\n"
     ]
    },
    {
     "name": "stdout",
     "output_type": "stream",
     "text": [
      "2024-02-25 00:00:00\n"
     ]
    },
    {
     "name": "stderr",
     "output_type": "stream",
     "text": [
      "19:59:40 - cmdstanpy - INFO - Chain [1] done processing\n",
      "19:59:41 - cmdstanpy - INFO - Chain [1] start processing\n",
      "19:59:41 - cmdstanpy - INFO - Chain [1] done processing\n"
     ]
    },
    {
     "name": "stdout",
     "output_type": "stream",
     "text": [
      "2024-02-25 00:00:00\n"
     ]
    },
    {
     "name": "stderr",
     "output_type": "stream",
     "text": [
      "19:59:41 - cmdstanpy - INFO - Chain [1] start processing\n"
     ]
    },
    {
     "name": "stdout",
     "output_type": "stream",
     "text": [
      "2024-02-25 00:00:00\n"
     ]
    },
    {
     "name": "stderr",
     "output_type": "stream",
     "text": [
      "19:59:41 - cmdstanpy - INFO - Chain [1] done processing\n",
      "19:59:42 - cmdstanpy - INFO - Chain [1] start processing\n"
     ]
    },
    {
     "name": "stdout",
     "output_type": "stream",
     "text": [
      "2024-02-25 00:00:00\n"
     ]
    },
    {
     "name": "stderr",
     "output_type": "stream",
     "text": [
      "19:59:42 - cmdstanpy - INFO - Chain [1] done processing\n",
      "19:59:42 - cmdstanpy - INFO - Chain [1] start processing\n"
     ]
    },
    {
     "name": "stdout",
     "output_type": "stream",
     "text": [
      "2024-02-25 00:00:00\n"
     ]
    },
    {
     "name": "stderr",
     "output_type": "stream",
     "text": [
      "19:59:42 - cmdstanpy - INFO - Chain [1] done processing\n",
      "19:59:43 - cmdstanpy - INFO - Chain [1] start processing\n"
     ]
    },
    {
     "name": "stdout",
     "output_type": "stream",
     "text": [
      "2024-02-25 00:00:00\n"
     ]
    },
    {
     "name": "stderr",
     "output_type": "stream",
     "text": [
      "19:59:43 - cmdstanpy - INFO - Chain [1] done processing\n",
      "19:59:43 - cmdstanpy - INFO - Chain [1] start processing\n",
      "19:59:43 - cmdstanpy - INFO - Chain [1] done processing\n"
     ]
    },
    {
     "name": "stdout",
     "output_type": "stream",
     "text": [
      "2024-02-25 00:00:00\n"
     ]
    },
    {
     "name": "stderr",
     "output_type": "stream",
     "text": [
      "19:59:43 - cmdstanpy - INFO - Chain [1] start processing\n"
     ]
    },
    {
     "name": "stdout",
     "output_type": "stream",
     "text": [
      "2024-02-25 00:00:00\n"
     ]
    },
    {
     "name": "stderr",
     "output_type": "stream",
     "text": [
      "19:59:43 - cmdstanpy - INFO - Chain [1] done processing\n",
      "19:59:44 - cmdstanpy - INFO - Chain [1] start processing\n",
      "19:59:44 - cmdstanpy - INFO - Chain [1] done processing\n"
     ]
    },
    {
     "name": "stdout",
     "output_type": "stream",
     "text": [
      "2024-02-25 00:00:00\n"
     ]
    },
    {
     "name": "stderr",
     "output_type": "stream",
     "text": [
      "19:59:44 - cmdstanpy - INFO - Chain [1] start processing\n"
     ]
    },
    {
     "name": "stdout",
     "output_type": "stream",
     "text": [
      "2024-02-25 00:00:00\n"
     ]
    },
    {
     "name": "stderr",
     "output_type": "stream",
     "text": [
      "19:59:44 - cmdstanpy - INFO - Chain [1] done processing\n",
      "19:59:45 - cmdstanpy - INFO - Chain [1] start processing\n",
      "19:59:45 - cmdstanpy - INFO - Chain [1] done processing\n"
     ]
    },
    {
     "name": "stdout",
     "output_type": "stream",
     "text": [
      "2024-02-25 00:00:00\n"
     ]
    },
    {
     "name": "stderr",
     "output_type": "stream",
     "text": [
      "19:59:45 - cmdstanpy - INFO - Chain [1] start processing\n"
     ]
    },
    {
     "name": "stdout",
     "output_type": "stream",
     "text": [
      "2024-02-25 00:00:00\n"
     ]
    },
    {
     "name": "stderr",
     "output_type": "stream",
     "text": [
      "19:59:45 - cmdstanpy - INFO - Chain [1] done processing\n",
      "19:59:46 - cmdstanpy - INFO - Chain [1] start processing\n"
     ]
    },
    {
     "name": "stdout",
     "output_type": "stream",
     "text": [
      "2024-02-25 00:00:00\n"
     ]
    },
    {
     "name": "stderr",
     "output_type": "stream",
     "text": [
      "19:59:46 - cmdstanpy - INFO - Chain [1] done processing\n",
      "19:59:46 - cmdstanpy - INFO - Chain [1] start processing\n"
     ]
    },
    {
     "name": "stdout",
     "output_type": "stream",
     "text": [
      "2024-02-25 00:00:00\n"
     ]
    },
    {
     "name": "stderr",
     "output_type": "stream",
     "text": [
      "19:59:46 - cmdstanpy - INFO - Chain [1] done processing\n",
      "19:59:47 - cmdstanpy - INFO - Chain [1] start processing\n"
     ]
    },
    {
     "name": "stdout",
     "output_type": "stream",
     "text": [
      "2024-02-25 00:00:00\n"
     ]
    },
    {
     "name": "stderr",
     "output_type": "stream",
     "text": [
      "19:59:47 - cmdstanpy - INFO - Chain [1] done processing\n",
      "19:59:47 - cmdstanpy - INFO - Chain [1] start processing\n"
     ]
    },
    {
     "name": "stdout",
     "output_type": "stream",
     "text": [
      "2024-02-25 00:00:00\n"
     ]
    },
    {
     "name": "stderr",
     "output_type": "stream",
     "text": [
      "19:59:47 - cmdstanpy - INFO - Chain [1] done processing\n",
      "19:59:48 - cmdstanpy - INFO - Chain [1] start processing\n"
     ]
    },
    {
     "name": "stdout",
     "output_type": "stream",
     "text": [
      "2024-02-25 00:00:00\n"
     ]
    },
    {
     "name": "stderr",
     "output_type": "stream",
     "text": [
      "19:59:48 - cmdstanpy - INFO - Chain [1] done processing\n",
      "19:59:48 - cmdstanpy - INFO - Chain [1] start processing\n"
     ]
    },
    {
     "name": "stdout",
     "output_type": "stream",
     "text": [
      "2024-02-25 00:00:00\n"
     ]
    },
    {
     "name": "stderr",
     "output_type": "stream",
     "text": [
      "19:59:49 - cmdstanpy - INFO - Chain [1] done processing\n",
      "19:59:49 - cmdstanpy - INFO - Chain [1] start processing\n"
     ]
    },
    {
     "name": "stdout",
     "output_type": "stream",
     "text": [
      "2024-02-25 00:00:00\n"
     ]
    },
    {
     "name": "stderr",
     "output_type": "stream",
     "text": [
      "19:59:49 - cmdstanpy - INFO - Chain [1] done processing\n"
     ]
    },
    {
     "name": "stdout",
     "output_type": "stream",
     "text": [
      "2024-02-25 00:00:00\n"
     ]
    },
    {
     "name": "stderr",
     "output_type": "stream",
     "text": [
      "19:59:50 - cmdstanpy - INFO - Chain [1] start processing\n",
      "19:59:51 - cmdstanpy - INFO - Chain [1] done processing\n"
     ]
    },
    {
     "name": "stdout",
     "output_type": "stream",
     "text": [
      "2024-02-25 00:00:00\n"
     ]
    },
    {
     "name": "stderr",
     "output_type": "stream",
     "text": [
      "19:59:52 - cmdstanpy - INFO - Chain [1] start processing\n",
      "19:59:52 - cmdstanpy - INFO - Chain [1] done processing\n"
     ]
    },
    {
     "name": "stdout",
     "output_type": "stream",
     "text": [
      "2024-02-25 00:00:00\n"
     ]
    },
    {
     "name": "stderr",
     "output_type": "stream",
     "text": [
      "19:59:52 - cmdstanpy - INFO - Chain [1] start processing\n",
      "19:59:53 - cmdstanpy - INFO - Chain [1] done processing\n"
     ]
    },
    {
     "name": "stdout",
     "output_type": "stream",
     "text": [
      "2024-02-25 00:00:00\n"
     ]
    },
    {
     "name": "stderr",
     "output_type": "stream",
     "text": [
      "19:59:53 - cmdstanpy - INFO - Chain [1] start processing\n",
      "19:59:54 - cmdstanpy - INFO - Chain [1] done processing\n"
     ]
    },
    {
     "name": "stdout",
     "output_type": "stream",
     "text": [
      "2024-02-25 00:00:00\n"
     ]
    },
    {
     "name": "stderr",
     "output_type": "stream",
     "text": [
      "19:59:54 - cmdstanpy - INFO - Chain [1] start processing\n",
      "19:59:54 - cmdstanpy - INFO - Chain [1] done processing\n"
     ]
    },
    {
     "name": "stdout",
     "output_type": "stream",
     "text": [
      "2024-02-25 00:00:00\n"
     ]
    },
    {
     "name": "stderr",
     "output_type": "stream",
     "text": [
      "19:59:55 - cmdstanpy - INFO - Chain [1] start processing\n",
      "19:59:55 - cmdstanpy - INFO - Chain [1] done processing\n",
      "19:59:55 - cmdstanpy - INFO - Chain [1] start processing\n"
     ]
    },
    {
     "name": "stdout",
     "output_type": "stream",
     "text": [
      "2024-02-25 00:00:00\n"
     ]
    },
    {
     "name": "stderr",
     "output_type": "stream",
     "text": [
      "19:59:56 - cmdstanpy - INFO - Chain [1] done processing\n",
      "19:59:56 - cmdstanpy - INFO - Chain [1] start processing\n"
     ]
    },
    {
     "name": "stdout",
     "output_type": "stream",
     "text": [
      "2024-02-25 00:00:00\n"
     ]
    },
    {
     "name": "stderr",
     "output_type": "stream",
     "text": [
      "19:59:56 - cmdstanpy - INFO - Chain [1] done processing\n",
      "19:59:57 - cmdstanpy - INFO - Chain [1] start processing\n"
     ]
    },
    {
     "name": "stdout",
     "output_type": "stream",
     "text": [
      "2024-02-25 00:00:00\n"
     ]
    },
    {
     "name": "stderr",
     "output_type": "stream",
     "text": [
      "19:59:57 - cmdstanpy - INFO - Chain [1] done processing\n",
      "19:59:57 - cmdstanpy - INFO - Chain [1] start processing\n"
     ]
    },
    {
     "name": "stdout",
     "output_type": "stream",
     "text": [
      "2024-02-25 00:00:00\n"
     ]
    },
    {
     "name": "stderr",
     "output_type": "stream",
     "text": [
      "19:59:57 - cmdstanpy - INFO - Chain [1] done processing\n"
     ]
    },
    {
     "name": "stdout",
     "output_type": "stream",
     "text": [
      "2024-02-25 00:00:00\n"
     ]
    },
    {
     "name": "stderr",
     "output_type": "stream",
     "text": [
      "19:59:58 - cmdstanpy - INFO - Chain [1] start processing\n",
      "19:59:58 - cmdstanpy - INFO - Chain [1] done processing\n",
      "19:59:58 - cmdstanpy - INFO - Chain [1] start processing\n"
     ]
    },
    {
     "name": "stdout",
     "output_type": "stream",
     "text": [
      "2024-02-25 00:00:00\n"
     ]
    },
    {
     "name": "stderr",
     "output_type": "stream",
     "text": [
      "19:59:59 - cmdstanpy - INFO - Chain [1] done processing\n"
     ]
    },
    {
     "name": "stdout",
     "output_type": "stream",
     "text": [
      "2024-02-25 00:00:00\n"
     ]
    },
    {
     "name": "stderr",
     "output_type": "stream",
     "text": [
      "19:59:59 - cmdstanpy - INFO - Chain [1] start processing\n",
      "19:59:59 - cmdstanpy - INFO - Chain [1] done processing\n",
      "20:00:00 - cmdstanpy - INFO - Chain [1] start processing\n"
     ]
    },
    {
     "name": "stdout",
     "output_type": "stream",
     "text": [
      "2024-02-25 00:00:00\n"
     ]
    },
    {
     "name": "stderr",
     "output_type": "stream",
     "text": [
      "20:00:00 - cmdstanpy - INFO - Chain [1] done processing\n",
      "20:00:00 - cmdstanpy - INFO - Chain [1] start processing\n"
     ]
    },
    {
     "name": "stdout",
     "output_type": "stream",
     "text": [
      "2024-02-25 00:00:00\n"
     ]
    },
    {
     "name": "stderr",
     "output_type": "stream",
     "text": [
      "20:00:00 - cmdstanpy - INFO - Chain [1] done processing\n",
      "20:00:01 - cmdstanpy - INFO - Chain [1] start processing\n",
      "20:00:01 - cmdstanpy - INFO - Chain [1] done processing\n"
     ]
    },
    {
     "name": "stdout",
     "output_type": "stream",
     "text": [
      "2024-02-25 00:00:00\n"
     ]
    },
    {
     "name": "stderr",
     "output_type": "stream",
     "text": [
      "20:00:01 - cmdstanpy - INFO - Chain [1] start processing\n"
     ]
    },
    {
     "name": "stdout",
     "output_type": "stream",
     "text": [
      "2024-02-25 00:00:00\n"
     ]
    },
    {
     "name": "stderr",
     "output_type": "stream",
     "text": [
      "20:00:01 - cmdstanpy - INFO - Chain [1] done processing\n",
      "20:00:02 - cmdstanpy - INFO - Chain [1] start processing\n"
     ]
    },
    {
     "name": "stdout",
     "output_type": "stream",
     "text": [
      "2024-02-25 00:00:00\n"
     ]
    },
    {
     "name": "stderr",
     "output_type": "stream",
     "text": [
      "20:00:02 - cmdstanpy - INFO - Chain [1] done processing\n",
      "20:00:02 - cmdstanpy - INFO - Chain [1] start processing\n"
     ]
    },
    {
     "name": "stdout",
     "output_type": "stream",
     "text": [
      "2024-02-25 00:00:00\n"
     ]
    },
    {
     "name": "stderr",
     "output_type": "stream",
     "text": [
      "20:00:02 - cmdstanpy - INFO - Chain [1] done processing\n",
      "20:00:03 - cmdstanpy - INFO - Chain [1] start processing\n"
     ]
    },
    {
     "name": "stdout",
     "output_type": "stream",
     "text": [
      "2024-02-25 00:00:00\n"
     ]
    },
    {
     "name": "stderr",
     "output_type": "stream",
     "text": [
      "20:00:03 - cmdstanpy - INFO - Chain [1] done processing\n"
     ]
    },
    {
     "name": "stdout",
     "output_type": "stream",
     "text": [
      "2024-02-25 00:00:00\n"
     ]
    },
    {
     "name": "stderr",
     "output_type": "stream",
     "text": [
      "20:00:03 - cmdstanpy - INFO - Chain [1] start processing\n",
      "20:00:04 - cmdstanpy - INFO - Chain [1] done processing\n",
      "20:00:04 - cmdstanpy - INFO - Chain [1] start processing\n"
     ]
    },
    {
     "name": "stdout",
     "output_type": "stream",
     "text": [
      "2024-02-25 00:00:00\n"
     ]
    },
    {
     "name": "stderr",
     "output_type": "stream",
     "text": [
      "20:00:04 - cmdstanpy - INFO - Chain [1] done processing\n"
     ]
    },
    {
     "name": "stdout",
     "output_type": "stream",
     "text": [
      "2024-02-25 00:00:00\n"
     ]
    },
    {
     "name": "stderr",
     "output_type": "stream",
     "text": [
      "20:00:05 - cmdstanpy - INFO - Chain [1] start processing\n",
      "20:00:05 - cmdstanpy - INFO - Chain [1] done processing\n",
      "20:00:05 - cmdstanpy - INFO - Chain [1] start processing\n"
     ]
    },
    {
     "name": "stdout",
     "output_type": "stream",
     "text": [
      "2024-02-25 00:00:00\n"
     ]
    },
    {
     "name": "stderr",
     "output_type": "stream",
     "text": [
      "20:00:05 - cmdstanpy - INFO - Chain [1] done processing\n",
      "20:00:06 - cmdstanpy - INFO - Chain [1] start processing\n"
     ]
    },
    {
     "name": "stdout",
     "output_type": "stream",
     "text": [
      "2024-02-25 00:00:00\n"
     ]
    },
    {
     "name": "stderr",
     "output_type": "stream",
     "text": [
      "20:00:06 - cmdstanpy - INFO - Chain [1] done processing\n"
     ]
    },
    {
     "name": "stdout",
     "output_type": "stream",
     "text": [
      "2024-02-25 00:00:00\n"
     ]
    },
    {
     "name": "stderr",
     "output_type": "stream",
     "text": [
      "20:00:06 - cmdstanpy - INFO - Chain [1] start processing\n",
      "20:00:06 - cmdstanpy - INFO - Chain [1] done processing\n"
     ]
    },
    {
     "name": "stdout",
     "output_type": "stream",
     "text": [
      "2024-02-25 00:00:00\n"
     ]
    },
    {
     "name": "stderr",
     "output_type": "stream",
     "text": [
      "20:00:08 - cmdstanpy - INFO - Chain [1] start processing\n",
      "20:00:08 - cmdstanpy - INFO - Chain [1] done processing\n",
      "20:00:08 - cmdstanpy - INFO - Chain [1] start processing\n"
     ]
    },
    {
     "name": "stdout",
     "output_type": "stream",
     "text": [
      "2024-02-25 00:00:00\n"
     ]
    },
    {
     "name": "stderr",
     "output_type": "stream",
     "text": [
      "20:00:08 - cmdstanpy - INFO - Chain [1] done processing\n",
      "20:00:09 - cmdstanpy - INFO - Chain [1] start processing\n",
      "20:00:09 - cmdstanpy - INFO - Chain [1] done processing\n"
     ]
    },
    {
     "name": "stdout",
     "output_type": "stream",
     "text": [
      "2024-02-25 00:00:00\n"
     ]
    },
    {
     "name": "stderr",
     "output_type": "stream",
     "text": [
      "20:00:09 - cmdstanpy - INFO - Chain [1] start processing\n"
     ]
    },
    {
     "name": "stdout",
     "output_type": "stream",
     "text": [
      "2024-02-25 00:00:00\n"
     ]
    },
    {
     "name": "stderr",
     "output_type": "stream",
     "text": [
      "20:00:10 - cmdstanpy - INFO - Chain [1] done processing\n"
     ]
    },
    {
     "name": "stdout",
     "output_type": "stream",
     "text": [
      "2024-02-25 00:00:00\n"
     ]
    },
    {
     "name": "stderr",
     "output_type": "stream",
     "text": [
      "20:00:10 - cmdstanpy - INFO - Chain [1] start processing\n",
      "20:00:10 - cmdstanpy - INFO - Chain [1] done processing\n",
      "20:00:11 - cmdstanpy - INFO - Chain [1] start processing\n"
     ]
    },
    {
     "name": "stdout",
     "output_type": "stream",
     "text": [
      "2024-02-25 00:00:00\n"
     ]
    },
    {
     "name": "stderr",
     "output_type": "stream",
     "text": [
      "20:00:11 - cmdstanpy - INFO - Chain [1] done processing\n",
      "20:00:12 - cmdstanpy - INFO - Chain [1] start processing\n"
     ]
    },
    {
     "name": "stdout",
     "output_type": "stream",
     "text": [
      "2024-02-25 00:00:00\n"
     ]
    },
    {
     "name": "stderr",
     "output_type": "stream",
     "text": [
      "20:00:12 - cmdstanpy - INFO - Chain [1] done processing\n",
      "20:00:12 - cmdstanpy - INFO - Chain [1] start processing\n"
     ]
    },
    {
     "name": "stdout",
     "output_type": "stream",
     "text": [
      "2024-02-25 00:00:00\n"
     ]
    },
    {
     "name": "stderr",
     "output_type": "stream",
     "text": [
      "20:00:12 - cmdstanpy - INFO - Chain [1] done processing\n",
      "20:00:13 - cmdstanpy - INFO - Chain [1] start processing\n"
     ]
    },
    {
     "name": "stdout",
     "output_type": "stream",
     "text": [
      "2024-02-25 00:00:00\n"
     ]
    },
    {
     "name": "stderr",
     "output_type": "stream",
     "text": [
      "20:00:13 - cmdstanpy - INFO - Chain [1] done processing\n",
      "20:00:13 - cmdstanpy - INFO - Chain [1] start processing\n"
     ]
    },
    {
     "name": "stdout",
     "output_type": "stream",
     "text": [
      "2024-02-25 00:00:00\n"
     ]
    },
    {
     "name": "stderr",
     "output_type": "stream",
     "text": [
      "20:00:14 - cmdstanpy - INFO - Chain [1] done processing\n",
      "20:00:14 - cmdstanpy - INFO - Chain [1] start processing\n"
     ]
    },
    {
     "name": "stdout",
     "output_type": "stream",
     "text": [
      "2024-02-25 00:00:00\n"
     ]
    },
    {
     "name": "stderr",
     "output_type": "stream",
     "text": [
      "20:00:14 - cmdstanpy - INFO - Chain [1] done processing\n",
      "20:00:15 - cmdstanpy - INFO - Chain [1] start processing\n"
     ]
    },
    {
     "name": "stdout",
     "output_type": "stream",
     "text": [
      "2024-02-25 00:00:00\n"
     ]
    },
    {
     "name": "stderr",
     "output_type": "stream",
     "text": [
      "20:00:15 - cmdstanpy - INFO - Chain [1] done processing\n",
      "20:00:15 - cmdstanpy - INFO - Chain [1] start processing\n"
     ]
    },
    {
     "name": "stdout",
     "output_type": "stream",
     "text": [
      "2024-02-25 00:00:00\n"
     ]
    },
    {
     "name": "stderr",
     "output_type": "stream",
     "text": [
      "20:00:15 - cmdstanpy - INFO - Chain [1] done processing\n",
      "20:00:16 - cmdstanpy - INFO - Chain [1] start processing\n"
     ]
    },
    {
     "name": "stdout",
     "output_type": "stream",
     "text": [
      "2024-02-25 00:00:00\n"
     ]
    },
    {
     "name": "stderr",
     "output_type": "stream",
     "text": [
      "20:00:16 - cmdstanpy - INFO - Chain [1] done processing\n",
      "20:00:16 - cmdstanpy - INFO - Chain [1] start processing\n"
     ]
    },
    {
     "name": "stdout",
     "output_type": "stream",
     "text": [
      "2024-02-25 00:00:00\n"
     ]
    },
    {
     "name": "stderr",
     "output_type": "stream",
     "text": [
      "20:00:16 - cmdstanpy - INFO - Chain [1] done processing\n",
      "20:00:16 - cmdstanpy - INFO - Chain [1] start processing\n"
     ]
    },
    {
     "name": "stdout",
     "output_type": "stream",
     "text": [
      "2024-02-25 00:00:00\n"
     ]
    },
    {
     "name": "stderr",
     "output_type": "stream",
     "text": [
      "20:00:17 - cmdstanpy - INFO - Chain [1] done processing\n",
      "20:00:17 - cmdstanpy - INFO - Chain [1] start processing\n"
     ]
    },
    {
     "name": "stdout",
     "output_type": "stream",
     "text": [
      "2024-02-25 00:00:00\n"
     ]
    },
    {
     "name": "stderr",
     "output_type": "stream",
     "text": [
      "20:00:17 - cmdstanpy - INFO - Chain [1] done processing\n"
     ]
    },
    {
     "name": "stdout",
     "output_type": "stream",
     "text": [
      "2024-02-25 00:00:00\n"
     ]
    },
    {
     "name": "stderr",
     "output_type": "stream",
     "text": [
      "20:00:18 - cmdstanpy - INFO - Chain [1] start processing\n",
      "20:00:18 - cmdstanpy - INFO - Chain [1] done processing\n"
     ]
    },
    {
     "name": "stdout",
     "output_type": "stream",
     "text": [
      "2024-02-25 00:00:00\n"
     ]
    },
    {
     "name": "stderr",
     "output_type": "stream",
     "text": [
      "20:00:18 - cmdstanpy - INFO - Chain [1] start processing\n",
      "20:00:19 - cmdstanpy - INFO - Chain [1] done processing\n"
     ]
    },
    {
     "name": "stdout",
     "output_type": "stream",
     "text": [
      "2024-02-25 00:00:00\n"
     ]
    },
    {
     "name": "stderr",
     "output_type": "stream",
     "text": [
      "20:00:20 - cmdstanpy - INFO - Chain [1] start processing\n",
      "20:00:20 - cmdstanpy - INFO - Chain [1] done processing\n"
     ]
    },
    {
     "name": "stdout",
     "output_type": "stream",
     "text": [
      "2024-02-25 00:00:00\n"
     ]
    },
    {
     "name": "stderr",
     "output_type": "stream",
     "text": [
      "20:00:20 - cmdstanpy - INFO - Chain [1] start processing\n",
      "20:00:20 - cmdstanpy - INFO - Chain [1] done processing\n",
      "20:00:21 - cmdstanpy - INFO - Chain [1] start processing\n"
     ]
    },
    {
     "name": "stdout",
     "output_type": "stream",
     "text": [
      "2024-02-25 00:00:00\n"
     ]
    },
    {
     "name": "stderr",
     "output_type": "stream",
     "text": [
      "20:00:21 - cmdstanpy - INFO - Chain [1] done processing\n"
     ]
    },
    {
     "name": "stdout",
     "output_type": "stream",
     "text": [
      "2024-02-25 00:00:00\n"
     ]
    },
    {
     "name": "stderr",
     "output_type": "stream",
     "text": [
      "20:00:22 - cmdstanpy - INFO - Chain [1] start processing\n",
      "20:00:22 - cmdstanpy - INFO - Chain [1] done processing\n"
     ]
    },
    {
     "name": "stdout",
     "output_type": "stream",
     "text": [
      "2024-02-25 00:00:00\n"
     ]
    },
    {
     "name": "stderr",
     "output_type": "stream",
     "text": [
      "20:00:22 - cmdstanpy - INFO - Chain [1] start processing\n",
      "20:00:22 - cmdstanpy - INFO - Chain [1] done processing\n"
     ]
    },
    {
     "name": "stdout",
     "output_type": "stream",
     "text": [
      "2024-02-25 00:00:00\n"
     ]
    },
    {
     "name": "stderr",
     "output_type": "stream",
     "text": [
      "20:00:23 - cmdstanpy - INFO - Chain [1] start processing\n",
      "20:00:23 - cmdstanpy - INFO - Chain [1] done processing\n"
     ]
    },
    {
     "name": "stdout",
     "output_type": "stream",
     "text": [
      "2024-02-25 00:00:00\n"
     ]
    },
    {
     "name": "stderr",
     "output_type": "stream",
     "text": [
      "20:00:24 - cmdstanpy - INFO - Chain [1] start processing\n",
      "20:00:24 - cmdstanpy - INFO - Chain [1] done processing\n"
     ]
    },
    {
     "name": "stdout",
     "output_type": "stream",
     "text": [
      "2024-02-25 00:00:00\n"
     ]
    },
    {
     "name": "stderr",
     "output_type": "stream",
     "text": [
      "20:00:25 - cmdstanpy - INFO - Chain [1] start processing\n",
      "20:00:25 - cmdstanpy - INFO - Chain [1] done processing\n",
      "20:00:25 - cmdstanpy - INFO - Chain [1] start processing\n"
     ]
    },
    {
     "name": "stdout",
     "output_type": "stream",
     "text": [
      "2024-02-25 00:00:00\n"
     ]
    },
    {
     "name": "stderr",
     "output_type": "stream",
     "text": [
      "20:00:25 - cmdstanpy - INFO - Chain [1] done processing\n"
     ]
    },
    {
     "name": "stdout",
     "output_type": "stream",
     "text": [
      "2024-02-25 00:00:00\n"
     ]
    },
    {
     "name": "stderr",
     "output_type": "stream",
     "text": [
      "20:00:26 - cmdstanpy - INFO - Chain [1] start processing\n",
      "20:00:26 - cmdstanpy - INFO - Chain [1] done processing\n",
      "20:00:27 - cmdstanpy - INFO - Chain [1] start processing\n"
     ]
    },
    {
     "name": "stdout",
     "output_type": "stream",
     "text": [
      "2024-02-25 00:00:00\n"
     ]
    },
    {
     "name": "stderr",
     "output_type": "stream",
     "text": [
      "20:00:27 - cmdstanpy - INFO - Chain [1] done processing\n",
      "20:00:27 - cmdstanpy - INFO - Chain [1] start processing\n"
     ]
    },
    {
     "name": "stdout",
     "output_type": "stream",
     "text": [
      "2024-02-25 00:00:00\n"
     ]
    },
    {
     "name": "stderr",
     "output_type": "stream",
     "text": [
      "20:00:27 - cmdstanpy - INFO - Chain [1] done processing\n"
     ]
    },
    {
     "name": "stdout",
     "output_type": "stream",
     "text": [
      "2024-02-25 00:00:00\n"
     ]
    },
    {
     "name": "stderr",
     "output_type": "stream",
     "text": [
      "20:00:28 - cmdstanpy - INFO - Chain [1] start processing\n",
      "20:00:28 - cmdstanpy - INFO - Chain [1] done processing\n",
      "20:00:28 - cmdstanpy - INFO - Chain [1] start processing\n"
     ]
    },
    {
     "name": "stdout",
     "output_type": "stream",
     "text": [
      "2024-02-25 00:00:00\n"
     ]
    },
    {
     "name": "stderr",
     "output_type": "stream",
     "text": [
      "20:00:28 - cmdstanpy - INFO - Chain [1] done processing\n",
      "20:00:29 - cmdstanpy - INFO - Chain [1] start processing\n"
     ]
    },
    {
     "name": "stdout",
     "output_type": "stream",
     "text": [
      "2024-02-25 00:00:00\n"
     ]
    },
    {
     "name": "stderr",
     "output_type": "stream",
     "text": [
      "20:00:29 - cmdstanpy - INFO - Chain [1] done processing\n",
      "20:00:29 - cmdstanpy - INFO - Chain [1] start processing\n"
     ]
    },
    {
     "name": "stdout",
     "output_type": "stream",
     "text": [
      "2024-02-25 00:00:00\n"
     ]
    },
    {
     "name": "stderr",
     "output_type": "stream",
     "text": [
      "20:00:29 - cmdstanpy - INFO - Chain [1] done processing\n",
      "20:00:30 - cmdstanpy - INFO - Chain [1] start processing\n",
      "20:00:30 - cmdstanpy - INFO - Chain [1] done processing\n"
     ]
    },
    {
     "name": "stdout",
     "output_type": "stream",
     "text": [
      "2024-02-25 00:00:00\n"
     ]
    },
    {
     "name": "stderr",
     "output_type": "stream",
     "text": [
      "20:00:30 - cmdstanpy - INFO - Chain [1] start processing\n"
     ]
    },
    {
     "name": "stdout",
     "output_type": "stream",
     "text": [
      "2024-02-25 00:00:00\n"
     ]
    },
    {
     "name": "stderr",
     "output_type": "stream",
     "text": [
      "20:00:30 - cmdstanpy - INFO - Chain [1] done processing\n",
      "20:00:31 - cmdstanpy - INFO - Chain [1] start processing\n"
     ]
    },
    {
     "name": "stdout",
     "output_type": "stream",
     "text": [
      "2024-02-25 00:00:00\n"
     ]
    },
    {
     "name": "stderr",
     "output_type": "stream",
     "text": [
      "20:00:31 - cmdstanpy - INFO - Chain [1] done processing\n",
      "20:00:31 - cmdstanpy - INFO - Chain [1] start processing\n"
     ]
    },
    {
     "name": "stdout",
     "output_type": "stream",
     "text": [
      "2024-02-25 00:00:00\n"
     ]
    },
    {
     "name": "stderr",
     "output_type": "stream",
     "text": [
      "20:00:31 - cmdstanpy - INFO - Chain [1] done processing\n",
      "20:00:32 - cmdstanpy - INFO - Chain [1] start processing\n"
     ]
    },
    {
     "name": "stdout",
     "output_type": "stream",
     "text": [
      "2024-02-25 00:00:00\n"
     ]
    },
    {
     "name": "stderr",
     "output_type": "stream",
     "text": [
      "20:00:32 - cmdstanpy - INFO - Chain [1] done processing\n",
      "20:00:32 - cmdstanpy - INFO - Chain [1] start processing\n"
     ]
    },
    {
     "name": "stdout",
     "output_type": "stream",
     "text": [
      "2024-02-25 00:00:00\n"
     ]
    },
    {
     "name": "stderr",
     "output_type": "stream",
     "text": [
      "20:00:32 - cmdstanpy - INFO - Chain [1] done processing\n",
      "20:00:33 - cmdstanpy - INFO - Chain [1] start processing\n"
     ]
    },
    {
     "name": "stdout",
     "output_type": "stream",
     "text": [
      "2024-02-25 00:00:00\n"
     ]
    },
    {
     "name": "stderr",
     "output_type": "stream",
     "text": [
      "20:00:33 - cmdstanpy - INFO - Chain [1] done processing\n",
      "20:00:33 - cmdstanpy - INFO - Chain [1] start processing\n"
     ]
    },
    {
     "name": "stdout",
     "output_type": "stream",
     "text": [
      "2024-02-25 00:00:00\n"
     ]
    },
    {
     "name": "stderr",
     "output_type": "stream",
     "text": [
      "20:00:33 - cmdstanpy - INFO - Chain [1] done processing\n",
      "20:00:34 - cmdstanpy - INFO - Chain [1] start processing\n"
     ]
    },
    {
     "name": "stdout",
     "output_type": "stream",
     "text": [
      "2024-02-25 00:00:00\n"
     ]
    },
    {
     "name": "stderr",
     "output_type": "stream",
     "text": [
      "20:00:34 - cmdstanpy - INFO - Chain [1] done processing\n",
      "20:00:34 - cmdstanpy - INFO - Chain [1] start processing\n",
      "20:00:34 - cmdstanpy - INFO - Chain [1] done processing\n"
     ]
    },
    {
     "name": "stdout",
     "output_type": "stream",
     "text": [
      "2024-02-25 00:00:00\n"
     ]
    },
    {
     "name": "stderr",
     "output_type": "stream",
     "text": [
      "20:00:34 - cmdstanpy - INFO - Chain [1] start processing\n"
     ]
    },
    {
     "name": "stdout",
     "output_type": "stream",
     "text": [
      "2024-02-25 00:00:00\n"
     ]
    },
    {
     "name": "stderr",
     "output_type": "stream",
     "text": [
      "20:00:34 - cmdstanpy - INFO - Chain [1] done processing\n"
     ]
    },
    {
     "name": "stdout",
     "output_type": "stream",
     "text": [
      "2024-02-25 00:00:00\n"
     ]
    },
    {
     "name": "stderr",
     "output_type": "stream",
     "text": [
      "20:00:35 - cmdstanpy - INFO - Chain [1] start processing\n",
      "20:00:35 - cmdstanpy - INFO - Chain [1] done processing\n",
      "20:00:35 - cmdstanpy - INFO - Chain [1] start processing\n"
     ]
    },
    {
     "name": "stdout",
     "output_type": "stream",
     "text": [
      "2024-02-25 00:00:00\n"
     ]
    },
    {
     "name": "stderr",
     "output_type": "stream",
     "text": [
      "20:00:35 - cmdstanpy - INFO - Chain [1] done processing\n",
      "20:00:36 - cmdstanpy - INFO - Chain [1] start processing\n",
      "20:00:36 - cmdstanpy - INFO - Chain [1] done processing\n"
     ]
    },
    {
     "name": "stdout",
     "output_type": "stream",
     "text": [
      "2024-02-25 00:00:00\n"
     ]
    },
    {
     "name": "stderr",
     "output_type": "stream",
     "text": [
      "20:00:36 - cmdstanpy - INFO - Chain [1] start processing\n"
     ]
    },
    {
     "name": "stdout",
     "output_type": "stream",
     "text": [
      "2024-02-25 00:00:00\n"
     ]
    },
    {
     "name": "stderr",
     "output_type": "stream",
     "text": [
      "20:00:36 - cmdstanpy - INFO - Chain [1] done processing\n",
      "20:00:36 - cmdstanpy - INFO - Chain [1] start processing\n"
     ]
    },
    {
     "name": "stdout",
     "output_type": "stream",
     "text": [
      "2024-02-25 00:00:00\n"
     ]
    },
    {
     "name": "stderr",
     "output_type": "stream",
     "text": [
      "20:00:37 - cmdstanpy - INFO - Chain [1] done processing\n",
      "20:00:37 - cmdstanpy - INFO - Chain [1] start processing\n"
     ]
    },
    {
     "name": "stdout",
     "output_type": "stream",
     "text": [
      "2024-02-25 00:00:00\n"
     ]
    },
    {
     "name": "stderr",
     "output_type": "stream",
     "text": [
      "20:00:37 - cmdstanpy - INFO - Chain [1] done processing\n",
      "20:00:37 - cmdstanpy - INFO - Chain [1] start processing\n"
     ]
    },
    {
     "name": "stdout",
     "output_type": "stream",
     "text": [
      "2024-02-25 00:00:00\n"
     ]
    },
    {
     "name": "stderr",
     "output_type": "stream",
     "text": [
      "20:00:37 - cmdstanpy - INFO - Chain [1] done processing\n",
      "20:00:38 - cmdstanpy - INFO - Chain [1] start processing\n"
     ]
    },
    {
     "name": "stdout",
     "output_type": "stream",
     "text": [
      "2024-02-25 00:00:00\n"
     ]
    },
    {
     "name": "stderr",
     "output_type": "stream",
     "text": [
      "20:00:38 - cmdstanpy - INFO - Chain [1] done processing\n",
      "20:00:38 - cmdstanpy - INFO - Chain [1] start processing\n"
     ]
    },
    {
     "name": "stdout",
     "output_type": "stream",
     "text": [
      "2024-02-25 00:00:00\n"
     ]
    },
    {
     "name": "stderr",
     "output_type": "stream",
     "text": [
      "20:00:38 - cmdstanpy - INFO - Chain [1] done processing\n",
      "20:00:39 - cmdstanpy - INFO - Chain [1] start processing\n"
     ]
    },
    {
     "name": "stdout",
     "output_type": "stream",
     "text": [
      "2024-02-25 00:00:00\n"
     ]
    },
    {
     "name": "stderr",
     "output_type": "stream",
     "text": [
      "20:00:39 - cmdstanpy - INFO - Chain [1] done processing\n",
      "20:00:39 - cmdstanpy - INFO - Chain [1] start processing\n"
     ]
    },
    {
     "name": "stdout",
     "output_type": "stream",
     "text": [
      "2024-02-25 00:00:00\n"
     ]
    },
    {
     "name": "stderr",
     "output_type": "stream",
     "text": [
      "20:00:39 - cmdstanpy - INFO - Chain [1] done processing\n",
      "20:00:40 - cmdstanpy - INFO - Chain [1] start processing\n"
     ]
    },
    {
     "name": "stdout",
     "output_type": "stream",
     "text": [
      "2024-02-25 00:00:00\n"
     ]
    },
    {
     "name": "stderr",
     "output_type": "stream",
     "text": [
      "20:00:40 - cmdstanpy - INFO - Chain [1] done processing\n",
      "20:00:40 - cmdstanpy - INFO - Chain [1] start processing\n"
     ]
    },
    {
     "name": "stdout",
     "output_type": "stream",
     "text": [
      "2024-02-25 00:00:00\n"
     ]
    },
    {
     "name": "stderr",
     "output_type": "stream",
     "text": [
      "20:00:40 - cmdstanpy - INFO - Chain [1] done processing\n"
     ]
    },
    {
     "name": "stdout",
     "output_type": "stream",
     "text": [
      "2024-02-25 00:00:00\n"
     ]
    },
    {
     "name": "stderr",
     "output_type": "stream",
     "text": [
      "20:00:41 - cmdstanpy - INFO - Chain [1] start processing\n",
      "20:00:42 - cmdstanpy - INFO - Chain [1] done processing\n",
      "20:00:42 - cmdstanpy - INFO - Chain [1] start processing\n"
     ]
    },
    {
     "name": "stdout",
     "output_type": "stream",
     "text": [
      "2024-02-25 00:00:00\n"
     ]
    },
    {
     "name": "stderr",
     "output_type": "stream",
     "text": [
      "20:00:42 - cmdstanpy - INFO - Chain [1] done processing\n",
      "20:00:42 - cmdstanpy - INFO - Chain [1] start processing\n"
     ]
    },
    {
     "name": "stdout",
     "output_type": "stream",
     "text": [
      "2024-02-25 00:00:00\n"
     ]
    },
    {
     "name": "stderr",
     "output_type": "stream",
     "text": [
      "20:00:42 - cmdstanpy - INFO - Chain [1] done processing\n",
      "20:00:43 - cmdstanpy - INFO - Chain [1] start processing\n"
     ]
    },
    {
     "name": "stdout",
     "output_type": "stream",
     "text": [
      "2024-02-25 00:00:00\n"
     ]
    },
    {
     "name": "stderr",
     "output_type": "stream",
     "text": [
      "20:00:43 - cmdstanpy - INFO - Chain [1] done processing\n"
     ]
    },
    {
     "name": "stdout",
     "output_type": "stream",
     "text": [
      "2024-02-25 00:00:00\n"
     ]
    },
    {
     "name": "stderr",
     "output_type": "stream",
     "text": [
      "20:00:43 - cmdstanpy - INFO - Chain [1] start processing\n",
      "20:00:43 - cmdstanpy - INFO - Chain [1] done processing\n",
      "20:00:44 - cmdstanpy - INFO - Chain [1] start processing\n"
     ]
    },
    {
     "name": "stdout",
     "output_type": "stream",
     "text": [
      "2024-02-25 00:00:00\n"
     ]
    },
    {
     "name": "stderr",
     "output_type": "stream",
     "text": [
      "20:00:44 - cmdstanpy - INFO - Chain [1] done processing\n",
      "20:00:44 - cmdstanpy - INFO - Chain [1] start processing\n"
     ]
    },
    {
     "name": "stdout",
     "output_type": "stream",
     "text": [
      "2024-02-25 00:00:00\n"
     ]
    },
    {
     "name": "stderr",
     "output_type": "stream",
     "text": [
      "20:00:44 - cmdstanpy - INFO - Chain [1] done processing\n",
      "20:00:45 - cmdstanpy - INFO - Chain [1] start processing\n"
     ]
    },
    {
     "name": "stdout",
     "output_type": "stream",
     "text": [
      "2024-02-25 00:00:00\n"
     ]
    },
    {
     "name": "stderr",
     "output_type": "stream",
     "text": [
      "20:00:45 - cmdstanpy - INFO - Chain [1] done processing\n",
      "20:00:45 - cmdstanpy - INFO - Chain [1] start processing\n",
      "20:00:45 - cmdstanpy - INFO - Chain [1] done processing\n"
     ]
    },
    {
     "name": "stdout",
     "output_type": "stream",
     "text": [
      "2024-02-25 00:00:00\n",
      "2024-02-25 00:00:00\n"
     ]
    },
    {
     "name": "stderr",
     "output_type": "stream",
     "text": [
      "20:00:45 - cmdstanpy - INFO - Chain [1] start processing\n",
      "20:00:45 - cmdstanpy - INFO - Chain [1] done processing\n",
      "20:00:46 - cmdstanpy - INFO - Chain [1] start processing\n"
     ]
    },
    {
     "name": "stdout",
     "output_type": "stream",
     "text": [
      "2024-02-25 00:00:00\n"
     ]
    },
    {
     "name": "stderr",
     "output_type": "stream",
     "text": [
      "20:00:46 - cmdstanpy - INFO - Chain [1] done processing\n",
      "20:00:46 - cmdstanpy - INFO - Chain [1] start processing\n",
      "20:00:46 - cmdstanpy - INFO - Chain [1] done processing\n"
     ]
    },
    {
     "name": "stdout",
     "output_type": "stream",
     "text": [
      "2024-02-25 00:00:00\n"
     ]
    },
    {
     "name": "stderr",
     "output_type": "stream",
     "text": [
      "20:00:47 - cmdstanpy - INFO - Chain [1] start processing\n"
     ]
    },
    {
     "name": "stdout",
     "output_type": "stream",
     "text": [
      "2024-02-25 00:00:00\n"
     ]
    },
    {
     "name": "stderr",
     "output_type": "stream",
     "text": [
      "20:00:47 - cmdstanpy - INFO - Chain [1] done processing\n",
      "20:00:47 - cmdstanpy - INFO - Chain [1] start processing\n"
     ]
    },
    {
     "name": "stdout",
     "output_type": "stream",
     "text": [
      "2024-02-25 00:00:00\n"
     ]
    },
    {
     "name": "stderr",
     "output_type": "stream",
     "text": [
      "20:00:47 - cmdstanpy - INFO - Chain [1] done processing\n",
      "20:00:48 - cmdstanpy - INFO - Chain [1] start processing\n"
     ]
    },
    {
     "name": "stdout",
     "output_type": "stream",
     "text": [
      "2024-02-25 00:00:00\n"
     ]
    },
    {
     "name": "stderr",
     "output_type": "stream",
     "text": [
      "20:00:48 - cmdstanpy - INFO - Chain [1] done processing\n",
      "20:00:48 - cmdstanpy - INFO - Chain [1] start processing\n",
      "20:00:48 - cmdstanpy - INFO - Chain [1] done processing\n"
     ]
    },
    {
     "name": "stdout",
     "output_type": "stream",
     "text": [
      "2024-02-25 00:00:00\n"
     ]
    },
    {
     "name": "stderr",
     "output_type": "stream",
     "text": [
      "20:00:49 - cmdstanpy - INFO - Chain [1] start processing\n"
     ]
    },
    {
     "name": "stdout",
     "output_type": "stream",
     "text": [
      "2024-02-25 00:00:00\n"
     ]
    },
    {
     "name": "stderr",
     "output_type": "stream",
     "text": [
      "20:00:49 - cmdstanpy - INFO - Chain [1] done processing\n",
      "20:00:49 - cmdstanpy - INFO - Chain [1] start processing\n"
     ]
    },
    {
     "name": "stdout",
     "output_type": "stream",
     "text": [
      "2024-02-25 00:00:00\n"
     ]
    },
    {
     "name": "stderr",
     "output_type": "stream",
     "text": [
      "20:00:49 - cmdstanpy - INFO - Chain [1] done processing\n",
      "20:00:50 - cmdstanpy - INFO - Chain [1] start processing\n",
      "20:00:50 - cmdstanpy - INFO - Chain [1] done processing\n"
     ]
    },
    {
     "name": "stdout",
     "output_type": "stream",
     "text": [
      "2024-02-25 00:00:00\n"
     ]
    },
    {
     "name": "stderr",
     "output_type": "stream",
     "text": [
      "20:00:50 - cmdstanpy - INFO - Chain [1] start processing\n"
     ]
    },
    {
     "name": "stdout",
     "output_type": "stream",
     "text": [
      "2024-02-25 00:00:00\n"
     ]
    },
    {
     "name": "stderr",
     "output_type": "stream",
     "text": [
      "20:00:50 - cmdstanpy - INFO - Chain [1] done processing\n",
      "20:00:51 - cmdstanpy - INFO - Chain [1] start processing\n"
     ]
    },
    {
     "name": "stdout",
     "output_type": "stream",
     "text": [
      "2024-02-25 00:00:00\n"
     ]
    },
    {
     "name": "stderr",
     "output_type": "stream",
     "text": [
      "20:00:51 - cmdstanpy - INFO - Chain [1] done processing\n",
      "20:00:51 - cmdstanpy - INFO - Chain [1] start processing\n"
     ]
    },
    {
     "name": "stdout",
     "output_type": "stream",
     "text": [
      "2024-02-25 00:00:00\n"
     ]
    },
    {
     "name": "stderr",
     "output_type": "stream",
     "text": [
      "20:00:51 - cmdstanpy - INFO - Chain [1] done processing\n",
      "20:00:51 - cmdstanpy - INFO - Chain [1] start processing\n"
     ]
    },
    {
     "name": "stdout",
     "output_type": "stream",
     "text": [
      "2024-02-25 00:00:00\n"
     ]
    },
    {
     "name": "stderr",
     "output_type": "stream",
     "text": [
      "20:00:51 - cmdstanpy - INFO - Chain [1] done processing\n",
      "20:00:52 - cmdstanpy - INFO - Chain [1] start processing\n"
     ]
    },
    {
     "name": "stdout",
     "output_type": "stream",
     "text": [
      "2024-02-25 00:00:00\n"
     ]
    },
    {
     "name": "stderr",
     "output_type": "stream",
     "text": [
      "20:00:52 - cmdstanpy - INFO - Chain [1] done processing\n",
      "20:00:53 - cmdstanpy - INFO - Chain [1] start processing\n"
     ]
    },
    {
     "name": "stdout",
     "output_type": "stream",
     "text": [
      "2024-02-25 00:00:00\n"
     ]
    },
    {
     "name": "stderr",
     "output_type": "stream",
     "text": [
      "20:00:53 - cmdstanpy - INFO - Chain [1] done processing\n",
      "20:00:53 - cmdstanpy - INFO - Chain [1] start processing\n"
     ]
    },
    {
     "name": "stdout",
     "output_type": "stream",
     "text": [
      "2024-02-25 00:00:00\n"
     ]
    },
    {
     "name": "stderr",
     "output_type": "stream",
     "text": [
      "20:00:53 - cmdstanpy - INFO - Chain [1] done processing\n",
      "20:00:54 - cmdstanpy - INFO - Chain [1] start processing\n"
     ]
    },
    {
     "name": "stdout",
     "output_type": "stream",
     "text": [
      "2024-02-25 00:00:00\n"
     ]
    },
    {
     "name": "stderr",
     "output_type": "stream",
     "text": [
      "20:00:54 - cmdstanpy - INFO - Chain [1] done processing\n",
      "20:00:54 - cmdstanpy - INFO - Chain [1] start processing\n"
     ]
    },
    {
     "name": "stdout",
     "output_type": "stream",
     "text": [
      "2024-02-25 00:00:00\n"
     ]
    },
    {
     "name": "stderr",
     "output_type": "stream",
     "text": [
      "20:00:54 - cmdstanpy - INFO - Chain [1] done processing\n",
      "20:00:55 - cmdstanpy - INFO - Chain [1] start processing\n"
     ]
    },
    {
     "name": "stdout",
     "output_type": "stream",
     "text": [
      "2024-02-25 00:00:00\n"
     ]
    },
    {
     "name": "stderr",
     "output_type": "stream",
     "text": [
      "20:00:55 - cmdstanpy - INFO - Chain [1] done processing\n",
      "20:00:55 - cmdstanpy - INFO - Chain [1] start processing\n"
     ]
    },
    {
     "name": "stdout",
     "output_type": "stream",
     "text": [
      "2024-02-25 00:00:00\n"
     ]
    },
    {
     "name": "stderr",
     "output_type": "stream",
     "text": [
      "20:00:55 - cmdstanpy - INFO - Chain [1] done processing\n",
      "20:00:56 - cmdstanpy - INFO - Chain [1] start processing\n",
      "20:00:56 - cmdstanpy - INFO - Chain [1] done processing\n"
     ]
    },
    {
     "name": "stdout",
     "output_type": "stream",
     "text": [
      "2024-02-25 00:00:00\n"
     ]
    },
    {
     "name": "stderr",
     "output_type": "stream",
     "text": [
      "20:00:56 - cmdstanpy - INFO - Chain [1] start processing\n",
      "20:00:56 - cmdstanpy - INFO - Chain [1] done processing\n"
     ]
    },
    {
     "name": "stdout",
     "output_type": "stream",
     "text": [
      "2024-02-25 00:00:00\n"
     ]
    },
    {
     "name": "stderr",
     "output_type": "stream",
     "text": [
      "20:00:57 - cmdstanpy - INFO - Chain [1] start processing\n"
     ]
    },
    {
     "name": "stdout",
     "output_type": "stream",
     "text": [
      "2024-02-25 00:00:00\n"
     ]
    },
    {
     "name": "stderr",
     "output_type": "stream",
     "text": [
      "20:00:57 - cmdstanpy - INFO - Chain [1] done processing\n",
      "20:00:57 - cmdstanpy - INFO - Chain [1] start processing\n"
     ]
    },
    {
     "name": "stdout",
     "output_type": "stream",
     "text": [
      "2024-02-25 00:00:00\n"
     ]
    },
    {
     "name": "stderr",
     "output_type": "stream",
     "text": [
      "20:00:57 - cmdstanpy - INFO - Chain [1] done processing\n",
      "20:00:57 - cmdstanpy - INFO - Chain [1] start processing\n"
     ]
    },
    {
     "name": "stdout",
     "output_type": "stream",
     "text": [
      "2024-02-25 00:00:00\n"
     ]
    },
    {
     "name": "stderr",
     "output_type": "stream",
     "text": [
      "20:00:58 - cmdstanpy - INFO - Chain [1] done processing\n",
      "20:00:58 - cmdstanpy - INFO - Chain [1] start processing\n"
     ]
    },
    {
     "name": "stdout",
     "output_type": "stream",
     "text": [
      "2024-02-25 00:00:00\n"
     ]
    },
    {
     "name": "stderr",
     "output_type": "stream",
     "text": [
      "20:00:58 - cmdstanpy - INFO - Chain [1] done processing\n",
      "20:00:58 - cmdstanpy - INFO - Chain [1] start processing\n"
     ]
    },
    {
     "name": "stdout",
     "output_type": "stream",
     "text": [
      "2024-02-25 00:00:00\n"
     ]
    },
    {
     "name": "stderr",
     "output_type": "stream",
     "text": [
      "20:00:59 - cmdstanpy - INFO - Chain [1] done processing\n",
      "20:00:59 - cmdstanpy - INFO - Chain [1] start processing\n"
     ]
    },
    {
     "name": "stdout",
     "output_type": "stream",
     "text": [
      "2024-02-25 00:00:00\n"
     ]
    },
    {
     "name": "stderr",
     "output_type": "stream",
     "text": [
      "20:00:59 - cmdstanpy - INFO - Chain [1] done processing\n",
      "20:00:59 - cmdstanpy - INFO - Chain [1] start processing\n"
     ]
    },
    {
     "name": "stdout",
     "output_type": "stream",
     "text": [
      "2024-02-25 00:00:00\n"
     ]
    },
    {
     "name": "stderr",
     "output_type": "stream",
     "text": [
      "20:00:59 - cmdstanpy - INFO - Chain [1] done processing\n",
      "20:01:00 - cmdstanpy - INFO - Chain [1] start processing\n"
     ]
    },
    {
     "name": "stdout",
     "output_type": "stream",
     "text": [
      "2024-02-25 00:00:00\n"
     ]
    },
    {
     "name": "stderr",
     "output_type": "stream",
     "text": [
      "20:01:00 - cmdstanpy - INFO - Chain [1] done processing\n",
      "20:01:00 - cmdstanpy - INFO - Chain [1] start processing\n"
     ]
    },
    {
     "name": "stdout",
     "output_type": "stream",
     "text": [
      "2024-02-25 00:00:00\n"
     ]
    },
    {
     "name": "stderr",
     "output_type": "stream",
     "text": [
      "20:01:00 - cmdstanpy - INFO - Chain [1] done processing\n",
      "20:01:01 - cmdstanpy - INFO - Chain [1] start processing\n"
     ]
    },
    {
     "name": "stdout",
     "output_type": "stream",
     "text": [
      "2024-02-25 00:00:00\n"
     ]
    },
    {
     "name": "stderr",
     "output_type": "stream",
     "text": [
      "20:01:01 - cmdstanpy - INFO - Chain [1] done processing\n",
      "20:01:01 - cmdstanpy - INFO - Chain [1] start processing\n"
     ]
    },
    {
     "name": "stdout",
     "output_type": "stream",
     "text": [
      "2024-02-25 00:00:00\n"
     ]
    },
    {
     "name": "stderr",
     "output_type": "stream",
     "text": [
      "20:01:01 - cmdstanpy - INFO - Chain [1] done processing\n",
      "20:01:02 - cmdstanpy - INFO - Chain [1] start processing\n"
     ]
    },
    {
     "name": "stdout",
     "output_type": "stream",
     "text": [
      "2024-02-25 00:00:00\n"
     ]
    },
    {
     "name": "stderr",
     "output_type": "stream",
     "text": [
      "20:01:02 - cmdstanpy - INFO - Chain [1] done processing\n",
      "20:01:02 - cmdstanpy - INFO - Chain [1] start processing\n"
     ]
    },
    {
     "name": "stdout",
     "output_type": "stream",
     "text": [
      "2024-02-25 00:00:00\n"
     ]
    },
    {
     "name": "stderr",
     "output_type": "stream",
     "text": [
      "20:01:02 - cmdstanpy - INFO - Chain [1] done processing\n",
      "20:01:03 - cmdstanpy - INFO - Chain [1] start processing\n"
     ]
    },
    {
     "name": "stdout",
     "output_type": "stream",
     "text": [
      "2024-02-25 00:00:00\n"
     ]
    },
    {
     "name": "stderr",
     "output_type": "stream",
     "text": [
      "20:01:03 - cmdstanpy - INFO - Chain [1] done processing\n",
      "20:01:03 - cmdstanpy - INFO - Chain [1] start processing\n"
     ]
    },
    {
     "name": "stdout",
     "output_type": "stream",
     "text": [
      "2024-02-25 00:00:00\n"
     ]
    },
    {
     "name": "stderr",
     "output_type": "stream",
     "text": [
      "20:01:03 - cmdstanpy - INFO - Chain [1] done processing\n",
      "20:01:03 - cmdstanpy - INFO - Chain [1] start processing\n"
     ]
    },
    {
     "name": "stdout",
     "output_type": "stream",
     "text": [
      "2024-02-25 00:00:00\n"
     ]
    },
    {
     "name": "stderr",
     "output_type": "stream",
     "text": [
      "20:01:04 - cmdstanpy - INFO - Chain [1] done processing\n",
      "20:01:04 - cmdstanpy - INFO - Chain [1] start processing\n"
     ]
    },
    {
     "name": "stdout",
     "output_type": "stream",
     "text": [
      "2024-02-25 00:00:00\n"
     ]
    },
    {
     "name": "stderr",
     "output_type": "stream",
     "text": [
      "20:01:05 - cmdstanpy - INFO - Chain [1] done processing\n",
      "20:01:05 - cmdstanpy - INFO - Chain [1] start processing\n"
     ]
    },
    {
     "name": "stdout",
     "output_type": "stream",
     "text": [
      "2024-02-25 00:00:00\n"
     ]
    },
    {
     "name": "stderr",
     "output_type": "stream",
     "text": [
      "20:01:05 - cmdstanpy - INFO - Chain [1] done processing\n",
      "20:01:05 - cmdstanpy - INFO - Chain [1] start processing\n"
     ]
    },
    {
     "name": "stdout",
     "output_type": "stream",
     "text": [
      "2024-02-25 00:00:00\n"
     ]
    },
    {
     "name": "stderr",
     "output_type": "stream",
     "text": [
      "20:01:05 - cmdstanpy - INFO - Chain [1] done processing\n",
      "20:01:06 - cmdstanpy - INFO - Chain [1] start processing\n",
      "20:01:06 - cmdstanpy - INFO - Chain [1] done processing\n"
     ]
    },
    {
     "name": "stdout",
     "output_type": "stream",
     "text": [
      "2024-02-25 00:00:00\n"
     ]
    },
    {
     "name": "stderr",
     "output_type": "stream",
     "text": [
      "20:01:06 - cmdstanpy - INFO - Chain [1] start processing\n",
      "20:01:06 - cmdstanpy - INFO - Chain [1] done processing\n"
     ]
    },
    {
     "name": "stdout",
     "output_type": "stream",
     "text": [
      "2024-02-25 00:00:00\n"
     ]
    },
    {
     "name": "stderr",
     "output_type": "stream",
     "text": [
      "20:01:07 - cmdstanpy - INFO - Chain [1] start processing\n"
     ]
    },
    {
     "name": "stdout",
     "output_type": "stream",
     "text": [
      "2024-02-25 00:00:00\n"
     ]
    },
    {
     "name": "stderr",
     "output_type": "stream",
     "text": [
      "20:01:07 - cmdstanpy - INFO - Chain [1] done processing\n",
      "20:01:07 - cmdstanpy - INFO - Chain [1] start processing\n",
      "20:01:07 - cmdstanpy - INFO - Chain [1] done processing\n"
     ]
    },
    {
     "name": "stdout",
     "output_type": "stream",
     "text": [
      "2024-02-25 00:00:00\n"
     ]
    },
    {
     "name": "stderr",
     "output_type": "stream",
     "text": [
      "20:01:07 - cmdstanpy - INFO - Chain [1] start processing\n"
     ]
    },
    {
     "name": "stdout",
     "output_type": "stream",
     "text": [
      "2024-02-25 00:00:00\n"
     ]
    },
    {
     "name": "stderr",
     "output_type": "stream",
     "text": [
      "20:01:07 - cmdstanpy - INFO - Chain [1] done processing\n",
      "20:01:08 - cmdstanpy - INFO - Chain [1] start processing\n"
     ]
    },
    {
     "name": "stdout",
     "output_type": "stream",
     "text": [
      "2024-02-25 00:00:00\n"
     ]
    },
    {
     "name": "stderr",
     "output_type": "stream",
     "text": [
      "20:01:08 - cmdstanpy - INFO - Chain [1] done processing\n"
     ]
    },
    {
     "name": "stdout",
     "output_type": "stream",
     "text": [
      "2024-02-25 00:00:00\n"
     ]
    },
    {
     "name": "stderr",
     "output_type": "stream",
     "text": [
      "20:01:08 - cmdstanpy - INFO - Chain [1] start processing\n",
      "20:01:09 - cmdstanpy - INFO - Chain [1] done processing\n",
      "20:01:09 - cmdstanpy - INFO - Chain [1] start processing\n"
     ]
    },
    {
     "name": "stdout",
     "output_type": "stream",
     "text": [
      "2024-02-25 00:00:00\n"
     ]
    },
    {
     "name": "stderr",
     "output_type": "stream",
     "text": [
      "20:01:09 - cmdstanpy - INFO - Chain [1] done processing\n",
      "20:01:10 - cmdstanpy - INFO - Chain [1] start processing\n"
     ]
    },
    {
     "name": "stdout",
     "output_type": "stream",
     "text": [
      "2024-02-25 00:00:00\n"
     ]
    },
    {
     "name": "stderr",
     "output_type": "stream",
     "text": [
      "20:01:10 - cmdstanpy - INFO - Chain [1] done processing\n",
      "20:01:10 - cmdstanpy - INFO - Chain [1] start processing\n"
     ]
    },
    {
     "name": "stdout",
     "output_type": "stream",
     "text": [
      "2024-02-25 00:00:00\n"
     ]
    },
    {
     "name": "stderr",
     "output_type": "stream",
     "text": [
      "20:01:10 - cmdstanpy - INFO - Chain [1] done processing\n",
      "20:01:10 - cmdstanpy - INFO - Chain [1] start processing\n"
     ]
    },
    {
     "name": "stdout",
     "output_type": "stream",
     "text": [
      "2024-02-25 00:00:00\n"
     ]
    },
    {
     "name": "stderr",
     "output_type": "stream",
     "text": [
      "20:01:10 - cmdstanpy - INFO - Chain [1] done processing\n",
      "20:01:11 - cmdstanpy - INFO - Chain [1] start processing\n"
     ]
    },
    {
     "name": "stdout",
     "output_type": "stream",
     "text": [
      "2024-02-25 00:00:00\n"
     ]
    },
    {
     "name": "stderr",
     "output_type": "stream",
     "text": [
      "20:01:11 - cmdstanpy - INFO - Chain [1] done processing\n",
      "20:01:11 - cmdstanpy - INFO - Chain [1] start processing\n"
     ]
    },
    {
     "name": "stdout",
     "output_type": "stream",
     "text": [
      "2024-02-25 00:00:00\n"
     ]
    },
    {
     "name": "stderr",
     "output_type": "stream",
     "text": [
      "20:01:11 - cmdstanpy - INFO - Chain [1] done processing\n"
     ]
    },
    {
     "name": "stdout",
     "output_type": "stream",
     "text": [
      "2024-02-25 00:00:00\n"
     ]
    },
    {
     "name": "stderr",
     "output_type": "stream",
     "text": [
      "20:01:12 - cmdstanpy - INFO - Chain [1] start processing\n",
      "20:01:12 - cmdstanpy - INFO - Chain [1] done processing\n",
      "20:01:12 - cmdstanpy - INFO - Chain [1] start processing\n"
     ]
    },
    {
     "name": "stdout",
     "output_type": "stream",
     "text": [
      "2024-02-25 00:00:00\n"
     ]
    },
    {
     "name": "stderr",
     "output_type": "stream",
     "text": [
      "20:01:12 - cmdstanpy - INFO - Chain [1] done processing\n",
      "20:01:13 - cmdstanpy - INFO - Chain [1] start processing\n"
     ]
    },
    {
     "name": "stdout",
     "output_type": "stream",
     "text": [
      "2024-02-25 00:00:00\n"
     ]
    },
    {
     "name": "stderr",
     "output_type": "stream",
     "text": [
      "20:01:13 - cmdstanpy - INFO - Chain [1] done processing\n"
     ]
    },
    {
     "name": "stdout",
     "output_type": "stream",
     "text": [
      "2024-02-25 00:00:00\n"
     ]
    },
    {
     "name": "stderr",
     "output_type": "stream",
     "text": [
      "20:01:13 - cmdstanpy - INFO - Chain [1] start processing\n",
      "20:01:14 - cmdstanpy - INFO - Chain [1] done processing\n"
     ]
    },
    {
     "name": "stdout",
     "output_type": "stream",
     "text": [
      "2024-02-25 00:00:00\n"
     ]
    },
    {
     "name": "stderr",
     "output_type": "stream",
     "text": [
      "20:01:14 - cmdstanpy - INFO - Chain [1] start processing\n",
      "20:01:14 - cmdstanpy - INFO - Chain [1] done processing\n"
     ]
    },
    {
     "name": "stdout",
     "output_type": "stream",
     "text": [
      "2024-02-25 00:00:00\n"
     ]
    },
    {
     "name": "stderr",
     "output_type": "stream",
     "text": [
      "20:01:15 - cmdstanpy - INFO - Chain [1] start processing\n",
      "20:01:15 - cmdstanpy - INFO - Chain [1] done processing\n"
     ]
    },
    {
     "name": "stdout",
     "output_type": "stream",
     "text": [
      "2024-02-25 00:00:00\n"
     ]
    },
    {
     "name": "stderr",
     "output_type": "stream",
     "text": [
      "20:01:16 - cmdstanpy - INFO - Chain [1] start processing\n",
      "20:01:16 - cmdstanpy - INFO - Chain [1] done processing\n",
      "20:01:16 - cmdstanpy - INFO - Chain [1] start processing\n"
     ]
    },
    {
     "name": "stdout",
     "output_type": "stream",
     "text": [
      "2024-02-25 00:00:00\n"
     ]
    },
    {
     "name": "stderr",
     "output_type": "stream",
     "text": [
      "20:01:16 - cmdstanpy - INFO - Chain [1] done processing\n",
      "20:01:17 - cmdstanpy - INFO - Chain [1] start processing\n"
     ]
    },
    {
     "name": "stdout",
     "output_type": "stream",
     "text": [
      "2024-02-25 00:00:00\n"
     ]
    },
    {
     "name": "stderr",
     "output_type": "stream",
     "text": [
      "20:01:17 - cmdstanpy - INFO - Chain [1] done processing\n",
      "20:01:17 - cmdstanpy - INFO - Chain [1] start processing\n"
     ]
    },
    {
     "name": "stdout",
     "output_type": "stream",
     "text": [
      "2024-02-25 00:00:00\n"
     ]
    },
    {
     "name": "stderr",
     "output_type": "stream",
     "text": [
      "20:01:17 - cmdstanpy - INFO - Chain [1] done processing\n"
     ]
    },
    {
     "name": "stdout",
     "output_type": "stream",
     "text": [
      "2024-02-25 00:00:00\n"
     ]
    },
    {
     "name": "stderr",
     "output_type": "stream",
     "text": [
      "20:01:18 - cmdstanpy - INFO - Chain [1] start processing\n",
      "20:01:18 - cmdstanpy - INFO - Chain [1] done processing\n",
      "20:01:18 - cmdstanpy - INFO - Chain [1] start processing\n"
     ]
    },
    {
     "name": "stdout",
     "output_type": "stream",
     "text": [
      "2024-02-25 00:00:00\n"
     ]
    },
    {
     "name": "stderr",
     "output_type": "stream",
     "text": [
      "20:01:18 - cmdstanpy - INFO - Chain [1] done processing\n",
      "20:01:19 - cmdstanpy - INFO - Chain [1] start processing\n"
     ]
    },
    {
     "name": "stdout",
     "output_type": "stream",
     "text": [
      "2024-02-25 00:00:00\n"
     ]
    },
    {
     "name": "stderr",
     "output_type": "stream",
     "text": [
      "20:01:19 - cmdstanpy - INFO - Chain [1] done processing\n",
      "20:01:19 - cmdstanpy - INFO - Chain [1] start processing\n"
     ]
    },
    {
     "name": "stdout",
     "output_type": "stream",
     "text": [
      "2024-02-25 00:00:00\n"
     ]
    },
    {
     "name": "stderr",
     "output_type": "stream",
     "text": [
      "20:01:19 - cmdstanpy - INFO - Chain [1] done processing\n",
      "20:01:20 - cmdstanpy - INFO - Chain [1] start processing\n"
     ]
    },
    {
     "name": "stdout",
     "output_type": "stream",
     "text": [
      "2024-02-25 00:00:00\n"
     ]
    },
    {
     "name": "stderr",
     "output_type": "stream",
     "text": [
      "20:01:20 - cmdstanpy - INFO - Chain [1] done processing\n",
      "20:01:20 - cmdstanpy - INFO - Chain [1] start processing\n"
     ]
    },
    {
     "name": "stdout",
     "output_type": "stream",
     "text": [
      "2024-02-25 00:00:00\n"
     ]
    },
    {
     "name": "stderr",
     "output_type": "stream",
     "text": [
      "20:01:20 - cmdstanpy - INFO - Chain [1] done processing\n",
      "20:01:21 - cmdstanpy - INFO - Chain [1] start processing\n"
     ]
    },
    {
     "name": "stdout",
     "output_type": "stream",
     "text": [
      "2024-02-25 00:00:00\n"
     ]
    },
    {
     "name": "stderr",
     "output_type": "stream",
     "text": [
      "20:01:21 - cmdstanpy - INFO - Chain [1] done processing\n",
      "20:01:22 - cmdstanpy - INFO - Chain [1] start processing\n"
     ]
    },
    {
     "name": "stdout",
     "output_type": "stream",
     "text": [
      "2024-02-25 00:00:00\n"
     ]
    },
    {
     "name": "stderr",
     "output_type": "stream",
     "text": [
      "20:01:22 - cmdstanpy - INFO - Chain [1] done processing\n"
     ]
    },
    {
     "name": "stdout",
     "output_type": "stream",
     "text": [
      "2024-02-25 00:00:00\n"
     ]
    },
    {
     "name": "stderr",
     "output_type": "stream",
     "text": [
      "20:01:22 - cmdstanpy - INFO - Chain [1] start processing\n",
      "20:01:22 - cmdstanpy - INFO - Chain [1] done processing\n",
      "20:01:23 - cmdstanpy - INFO - Chain [1] start processing\n"
     ]
    },
    {
     "name": "stdout",
     "output_type": "stream",
     "text": [
      "2024-02-25 00:00:00\n"
     ]
    },
    {
     "name": "stderr",
     "output_type": "stream",
     "text": [
      "20:01:23 - cmdstanpy - INFO - Chain [1] done processing\n",
      "20:01:23 - cmdstanpy - INFO - Chain [1] start processing\n"
     ]
    },
    {
     "name": "stdout",
     "output_type": "stream",
     "text": [
      "2024-02-25 00:00:00\n"
     ]
    },
    {
     "name": "stderr",
     "output_type": "stream",
     "text": [
      "20:01:23 - cmdstanpy - INFO - Chain [1] done processing\n",
      "20:01:24 - cmdstanpy - INFO - Chain [1] start processing\n"
     ]
    },
    {
     "name": "stdout",
     "output_type": "stream",
     "text": [
      "2024-02-25 00:00:00\n"
     ]
    },
    {
     "name": "stderr",
     "output_type": "stream",
     "text": [
      "20:01:24 - cmdstanpy - INFO - Chain [1] done processing\n",
      "20:01:24 - cmdstanpy - INFO - Chain [1] start processing\n"
     ]
    },
    {
     "name": "stdout",
     "output_type": "stream",
     "text": [
      "2024-02-25 00:00:00\n"
     ]
    },
    {
     "name": "stderr",
     "output_type": "stream",
     "text": [
      "20:01:24 - cmdstanpy - INFO - Chain [1] done processing\n",
      "20:01:24 - cmdstanpy - INFO - Chain [1] start processing\n"
     ]
    },
    {
     "name": "stdout",
     "output_type": "stream",
     "text": [
      "2024-02-25 00:00:00\n"
     ]
    },
    {
     "name": "stderr",
     "output_type": "stream",
     "text": [
      "20:01:24 - cmdstanpy - INFO - Chain [1] done processing\n",
      "20:01:25 - cmdstanpy - INFO - Chain [1] start processing\n"
     ]
    },
    {
     "name": "stdout",
     "output_type": "stream",
     "text": [
      "2024-02-25 00:00:00\n"
     ]
    },
    {
     "name": "stderr",
     "output_type": "stream",
     "text": [
      "20:01:25 - cmdstanpy - INFO - Chain [1] done processing\n",
      "20:01:25 - cmdstanpy - INFO - Chain [1] start processing\n"
     ]
    },
    {
     "name": "stdout",
     "output_type": "stream",
     "text": [
      "2024-02-25 00:00:00\n"
     ]
    },
    {
     "name": "stderr",
     "output_type": "stream",
     "text": [
      "20:01:26 - cmdstanpy - INFO - Chain [1] done processing\n",
      "20:01:26 - cmdstanpy - INFO - Chain [1] start processing\n"
     ]
    },
    {
     "name": "stdout",
     "output_type": "stream",
     "text": [
      "2024-02-25 00:00:00\n"
     ]
    },
    {
     "name": "stderr",
     "output_type": "stream",
     "text": [
      "20:01:26 - cmdstanpy - INFO - Chain [1] done processing\n",
      "20:01:26 - cmdstanpy - INFO - Chain [1] start processing\n"
     ]
    },
    {
     "name": "stdout",
     "output_type": "stream",
     "text": [
      "2024-02-25 00:00:00\n"
     ]
    },
    {
     "name": "stderr",
     "output_type": "stream",
     "text": [
      "20:01:26 - cmdstanpy - INFO - Chain [1] done processing\n",
      "20:01:27 - cmdstanpy - INFO - Chain [1] start processing\n"
     ]
    },
    {
     "name": "stdout",
     "output_type": "stream",
     "text": [
      "2024-02-25 00:00:00\n"
     ]
    },
    {
     "name": "stderr",
     "output_type": "stream",
     "text": [
      "20:01:27 - cmdstanpy - INFO - Chain [1] done processing\n",
      "20:01:27 - cmdstanpy - INFO - Chain [1] start processing\n"
     ]
    },
    {
     "name": "stdout",
     "output_type": "stream",
     "text": [
      "2024-02-25 00:00:00\n"
     ]
    },
    {
     "name": "stderr",
     "output_type": "stream",
     "text": [
      "20:01:27 - cmdstanpy - INFO - Chain [1] done processing\n",
      "20:01:28 - cmdstanpy - INFO - Chain [1] start processing\n"
     ]
    },
    {
     "name": "stdout",
     "output_type": "stream",
     "text": [
      "2024-02-25 00:00:00\n"
     ]
    },
    {
     "name": "stderr",
     "output_type": "stream",
     "text": [
      "20:01:28 - cmdstanpy - INFO - Chain [1] done processing\n",
      "20:01:28 - cmdstanpy - INFO - Chain [1] start processing\n"
     ]
    },
    {
     "name": "stdout",
     "output_type": "stream",
     "text": [
      "2024-02-25 00:00:00\n"
     ]
    },
    {
     "name": "stderr",
     "output_type": "stream",
     "text": [
      "20:01:28 - cmdstanpy - INFO - Chain [1] done processing\n",
      "20:01:29 - cmdstanpy - INFO - Chain [1] start processing\n"
     ]
    },
    {
     "name": "stdout",
     "output_type": "stream",
     "text": [
      "2024-02-25 00:00:00\n"
     ]
    },
    {
     "name": "stderr",
     "output_type": "stream",
     "text": [
      "20:01:29 - cmdstanpy - INFO - Chain [1] done processing\n"
     ]
    },
    {
     "name": "stdout",
     "output_type": "stream",
     "text": [
      "2024-02-25 00:00:00\n"
     ]
    },
    {
     "name": "stderr",
     "output_type": "stream",
     "text": [
      "20:01:29 - cmdstanpy - INFO - Chain [1] start processing\n",
      "20:01:29 - cmdstanpy - INFO - Chain [1] done processing\n",
      "20:01:30 - cmdstanpy - INFO - Chain [1] start processing\n"
     ]
    },
    {
     "name": "stdout",
     "output_type": "stream",
     "text": [
      "2024-02-25 00:00:00\n"
     ]
    },
    {
     "name": "stderr",
     "output_type": "stream",
     "text": [
      "20:01:30 - cmdstanpy - INFO - Chain [1] done processing\n",
      "20:01:30 - cmdstanpy - INFO - Chain [1] start processing\n"
     ]
    },
    {
     "name": "stdout",
     "output_type": "stream",
     "text": [
      "2024-02-25 00:00:00\n"
     ]
    },
    {
     "name": "stderr",
     "output_type": "stream",
     "text": [
      "20:01:30 - cmdstanpy - INFO - Chain [1] done processing\n"
     ]
    },
    {
     "name": "stdout",
     "output_type": "stream",
     "text": [
      "2024-02-25 00:00:00\n"
     ]
    },
    {
     "name": "stderr",
     "output_type": "stream",
     "text": [
      "20:01:31 - cmdstanpy - INFO - Chain [1] start processing\n",
      "20:01:31 - cmdstanpy - INFO - Chain [1] done processing\n",
      "20:01:32 - cmdstanpy - INFO - Chain [1] start processing\n",
      "20:01:32 - cmdstanpy - INFO - Chain [1] done processing\n"
     ]
    },
    {
     "name": "stdout",
     "output_type": "stream",
     "text": [
      "2024-02-25 00:00:00\n"
     ]
    },
    {
     "name": "stderr",
     "output_type": "stream",
     "text": [
      "20:01:32 - cmdstanpy - INFO - Chain [1] start processing\n"
     ]
    },
    {
     "name": "stdout",
     "output_type": "stream",
     "text": [
      "2024-02-25 00:00:00\n"
     ]
    },
    {
     "name": "stderr",
     "output_type": "stream",
     "text": [
      "20:01:32 - cmdstanpy - INFO - Chain [1] done processing\n",
      "20:01:33 - cmdstanpy - INFO - Chain [1] start processing\n"
     ]
    },
    {
     "name": "stdout",
     "output_type": "stream",
     "text": [
      "2024-02-25 00:00:00\n"
     ]
    },
    {
     "name": "stderr",
     "output_type": "stream",
     "text": [
      "20:01:33 - cmdstanpy - INFO - Chain [1] done processing\n",
      "20:01:33 - cmdstanpy - INFO - Chain [1] start processing\n"
     ]
    },
    {
     "name": "stdout",
     "output_type": "stream",
     "text": [
      "2024-02-25 00:00:00\n"
     ]
    },
    {
     "name": "stderr",
     "output_type": "stream",
     "text": [
      "20:01:33 - cmdstanpy - INFO - Chain [1] done processing\n",
      "20:01:34 - cmdstanpy - INFO - Chain [1] start processing\n"
     ]
    },
    {
     "name": "stdout",
     "output_type": "stream",
     "text": [
      "2024-02-25 00:00:00\n"
     ]
    },
    {
     "name": "stderr",
     "output_type": "stream",
     "text": [
      "20:01:34 - cmdstanpy - INFO - Chain [1] done processing\n",
      "20:01:34 - cmdstanpy - INFO - Chain [1] start processing\n"
     ]
    },
    {
     "name": "stdout",
     "output_type": "stream",
     "text": [
      "2024-02-25 00:00:00\n"
     ]
    },
    {
     "name": "stderr",
     "output_type": "stream",
     "text": [
      "20:01:34 - cmdstanpy - INFO - Chain [1] done processing\n",
      "20:01:35 - cmdstanpy - INFO - Chain [1] start processing\n"
     ]
    },
    {
     "name": "stdout",
     "output_type": "stream",
     "text": [
      "2024-02-25 00:00:00\n"
     ]
    },
    {
     "name": "stderr",
     "output_type": "stream",
     "text": [
      "20:01:35 - cmdstanpy - INFO - Chain [1] done processing\n",
      "20:01:35 - cmdstanpy - INFO - Chain [1] start processing\n"
     ]
    },
    {
     "name": "stdout",
     "output_type": "stream",
     "text": [
      "2024-02-25 00:00:00\n"
     ]
    },
    {
     "name": "stderr",
     "output_type": "stream",
     "text": [
      "20:01:36 - cmdstanpy - INFO - Chain [1] done processing\n",
      "20:01:36 - cmdstanpy - INFO - Chain [1] start processing\n"
     ]
    },
    {
     "name": "stdout",
     "output_type": "stream",
     "text": [
      "2024-02-25 00:00:00\n"
     ]
    },
    {
     "name": "stderr",
     "output_type": "stream",
     "text": [
      "20:01:36 - cmdstanpy - INFO - Chain [1] done processing\n",
      "20:01:37 - cmdstanpy - INFO - Chain [1] start processing\n",
      "20:01:37 - cmdstanpy - INFO - Chain [1] done processing\n"
     ]
    },
    {
     "name": "stdout",
     "output_type": "stream",
     "text": [
      "2024-02-25 00:00:00\n"
     ]
    },
    {
     "name": "stderr",
     "output_type": "stream",
     "text": [
      "20:01:37 - cmdstanpy - INFO - Chain [1] start processing\n"
     ]
    },
    {
     "name": "stdout",
     "output_type": "stream",
     "text": [
      "2024-02-25 00:00:00\n"
     ]
    },
    {
     "name": "stderr",
     "output_type": "stream",
     "text": [
      "20:01:37 - cmdstanpy - INFO - Chain [1] done processing\n",
      "20:01:37 - cmdstanpy - INFO - Chain [1] start processing\n"
     ]
    },
    {
     "name": "stdout",
     "output_type": "stream",
     "text": [
      "2024-02-25 00:00:00\n"
     ]
    },
    {
     "name": "stderr",
     "output_type": "stream",
     "text": [
      "20:01:38 - cmdstanpy - INFO - Chain [1] done processing\n",
      "20:01:38 - cmdstanpy - INFO - Chain [1] start processing\n"
     ]
    },
    {
     "name": "stdout",
     "output_type": "stream",
     "text": [
      "2024-02-25 00:00:00\n"
     ]
    },
    {
     "name": "stderr",
     "output_type": "stream",
     "text": [
      "20:01:38 - cmdstanpy - INFO - Chain [1] done processing\n",
      "20:01:39 - cmdstanpy - INFO - Chain [1] start processing\n"
     ]
    },
    {
     "name": "stdout",
     "output_type": "stream",
     "text": [
      "2024-02-25 00:00:00\n"
     ]
    },
    {
     "name": "stderr",
     "output_type": "stream",
     "text": [
      "20:01:39 - cmdstanpy - INFO - Chain [1] done processing\n",
      "20:01:39 - cmdstanpy - INFO - Chain [1] start processing\n"
     ]
    },
    {
     "name": "stdout",
     "output_type": "stream",
     "text": [
      "2024-02-25 00:00:00\n"
     ]
    },
    {
     "name": "stderr",
     "output_type": "stream",
     "text": [
      "20:01:39 - cmdstanpy - INFO - Chain [1] done processing\n",
      "20:01:40 - cmdstanpy - INFO - Chain [1] start processing\n"
     ]
    },
    {
     "name": "stdout",
     "output_type": "stream",
     "text": [
      "2024-02-25 00:00:00\n"
     ]
    },
    {
     "name": "stderr",
     "output_type": "stream",
     "text": [
      "20:01:40 - cmdstanpy - INFO - Chain [1] done processing\n",
      "20:01:40 - cmdstanpy - INFO - Chain [1] start processing\n"
     ]
    },
    {
     "name": "stdout",
     "output_type": "stream",
     "text": [
      "2024-02-25 00:00:00\n"
     ]
    },
    {
     "name": "stderr",
     "output_type": "stream",
     "text": [
      "20:01:41 - cmdstanpy - INFO - Chain [1] done processing\n",
      "20:01:41 - cmdstanpy - INFO - Chain [1] start processing\n"
     ]
    },
    {
     "name": "stdout",
     "output_type": "stream",
     "text": [
      "2024-02-25 00:00:00\n"
     ]
    },
    {
     "name": "stderr",
     "output_type": "stream",
     "text": [
      "20:01:41 - cmdstanpy - INFO - Chain [1] done processing\n",
      "20:01:42 - cmdstanpy - INFO - Chain [1] start processing\n"
     ]
    },
    {
     "name": "stdout",
     "output_type": "stream",
     "text": [
      "2024-02-25 00:00:00\n"
     ]
    },
    {
     "name": "stderr",
     "output_type": "stream",
     "text": [
      "20:01:42 - cmdstanpy - INFO - Chain [1] done processing\n",
      "20:01:42 - cmdstanpy - INFO - Chain [1] start processing\n",
      "20:01:42 - cmdstanpy - INFO - Chain [1] done processing\n"
     ]
    },
    {
     "name": "stdout",
     "output_type": "stream",
     "text": [
      "2024-02-25 00:00:00\n"
     ]
    },
    {
     "name": "stderr",
     "output_type": "stream",
     "text": [
      "20:01:42 - cmdstanpy - INFO - Chain [1] start processing\n"
     ]
    },
    {
     "name": "stdout",
     "output_type": "stream",
     "text": [
      "2024-02-25 00:00:00\n"
     ]
    },
    {
     "name": "stderr",
     "output_type": "stream",
     "text": [
      "20:01:43 - cmdstanpy - INFO - Chain [1] done processing\n",
      "20:01:43 - cmdstanpy - INFO - Chain [1] start processing\n"
     ]
    },
    {
     "name": "stdout",
     "output_type": "stream",
     "text": [
      "2024-02-25 00:00:00\n"
     ]
    },
    {
     "name": "stderr",
     "output_type": "stream",
     "text": [
      "20:01:43 - cmdstanpy - INFO - Chain [1] done processing\n",
      "20:01:43 - cmdstanpy - INFO - Chain [1] start processing\n"
     ]
    },
    {
     "name": "stdout",
     "output_type": "stream",
     "text": [
      "2024-02-25 00:00:00\n"
     ]
    },
    {
     "name": "stderr",
     "output_type": "stream",
     "text": [
      "20:01:44 - cmdstanpy - INFO - Chain [1] done processing\n",
      "20:01:44 - cmdstanpy - INFO - Chain [1] start processing\n"
     ]
    },
    {
     "name": "stdout",
     "output_type": "stream",
     "text": [
      "2024-02-25 00:00:00\n"
     ]
    },
    {
     "name": "stderr",
     "output_type": "stream",
     "text": [
      "20:01:44 - cmdstanpy - INFO - Chain [1] done processing\n",
      "20:01:44 - cmdstanpy - INFO - Chain [1] start processing\n"
     ]
    },
    {
     "name": "stdout",
     "output_type": "stream",
     "text": [
      "2024-02-25 00:00:00\n"
     ]
    },
    {
     "name": "stderr",
     "output_type": "stream",
     "text": [
      "20:01:45 - cmdstanpy - INFO - Chain [1] done processing\n",
      "20:01:45 - cmdstanpy - INFO - Chain [1] start processing\n"
     ]
    },
    {
     "name": "stdout",
     "output_type": "stream",
     "text": [
      "2024-02-25 00:00:00\n"
     ]
    },
    {
     "name": "stderr",
     "output_type": "stream",
     "text": [
      "20:01:45 - cmdstanpy - INFO - Chain [1] done processing\n",
      "20:01:45 - cmdstanpy - INFO - Chain [1] start processing\n"
     ]
    },
    {
     "name": "stdout",
     "output_type": "stream",
     "text": [
      "2024-02-25 00:00:00\n"
     ]
    },
    {
     "name": "stderr",
     "output_type": "stream",
     "text": [
      "20:01:46 - cmdstanpy - INFO - Chain [1] done processing\n",
      "20:01:46 - cmdstanpy - INFO - Chain [1] start processing\n"
     ]
    },
    {
     "name": "stdout",
     "output_type": "stream",
     "text": [
      "2024-02-25 00:00:00\n"
     ]
    },
    {
     "name": "stderr",
     "output_type": "stream",
     "text": [
      "20:01:46 - cmdstanpy - INFO - Chain [1] done processing\n",
      "20:01:47 - cmdstanpy - INFO - Chain [1] start processing\n"
     ]
    },
    {
     "name": "stdout",
     "output_type": "stream",
     "text": [
      "2024-02-25 00:00:00\n"
     ]
    },
    {
     "name": "stderr",
     "output_type": "stream",
     "text": [
      "20:01:47 - cmdstanpy - INFO - Chain [1] done processing\n",
      "20:01:47 - cmdstanpy - INFO - Chain [1] start processing\n"
     ]
    },
    {
     "name": "stdout",
     "output_type": "stream",
     "text": [
      "2024-02-25 00:00:00\n"
     ]
    },
    {
     "name": "stderr",
     "output_type": "stream",
     "text": [
      "20:01:47 - cmdstanpy - INFO - Chain [1] done processing\n",
      "20:01:48 - cmdstanpy - INFO - Chain [1] start processing\n"
     ]
    },
    {
     "name": "stdout",
     "output_type": "stream",
     "text": [
      "2024-02-25 00:00:00\n"
     ]
    },
    {
     "name": "stderr",
     "output_type": "stream",
     "text": [
      "20:01:48 - cmdstanpy - INFO - Chain [1] done processing\n",
      "20:01:48 - cmdstanpy - INFO - Chain [1] start processing\n"
     ]
    },
    {
     "name": "stdout",
     "output_type": "stream",
     "text": [
      "2024-02-25 00:00:00\n"
     ]
    },
    {
     "name": "stderr",
     "output_type": "stream",
     "text": [
      "20:01:48 - cmdstanpy - INFO - Chain [1] done processing\n",
      "20:01:49 - cmdstanpy - INFO - Chain [1] start processing\n"
     ]
    },
    {
     "name": "stdout",
     "output_type": "stream",
     "text": [
      "2024-02-25 00:00:00\n"
     ]
    },
    {
     "name": "stderr",
     "output_type": "stream",
     "text": [
      "20:01:49 - cmdstanpy - INFO - Chain [1] done processing\n",
      "20:01:49 - cmdstanpy - INFO - Chain [1] start processing\n"
     ]
    },
    {
     "name": "stdout",
     "output_type": "stream",
     "text": [
      "2024-02-25 00:00:00\n"
     ]
    },
    {
     "name": "stderr",
     "output_type": "stream",
     "text": [
      "20:01:50 - cmdstanpy - INFO - Chain [1] done processing\n",
      "20:01:50 - cmdstanpy - INFO - Chain [1] start processing\n"
     ]
    },
    {
     "name": "stdout",
     "output_type": "stream",
     "text": [
      "2024-02-25 00:00:00\n"
     ]
    },
    {
     "name": "stderr",
     "output_type": "stream",
     "text": [
      "20:01:50 - cmdstanpy - INFO - Chain [1] done processing\n",
      "20:01:50 - cmdstanpy - INFO - Chain [1] start processing\n"
     ]
    },
    {
     "name": "stdout",
     "output_type": "stream",
     "text": [
      "2024-02-25 00:00:00\n"
     ]
    },
    {
     "name": "stderr",
     "output_type": "stream",
     "text": [
      "20:01:50 - cmdstanpy - INFO - Chain [1] done processing\n",
      "20:01:51 - cmdstanpy - INFO - Chain [1] start processing\n"
     ]
    },
    {
     "name": "stdout",
     "output_type": "stream",
     "text": [
      "2024-02-25 00:00:00\n"
     ]
    },
    {
     "name": "stderr",
     "output_type": "stream",
     "text": [
      "20:01:51 - cmdstanpy - INFO - Chain [1] done processing\n"
     ]
    },
    {
     "name": "stdout",
     "output_type": "stream",
     "text": [
      "2024-02-25 00:00:00\n"
     ]
    },
    {
     "name": "stderr",
     "output_type": "stream",
     "text": [
      "20:01:51 - cmdstanpy - INFO - Chain [1] start processing\n",
      "20:01:51 - cmdstanpy - INFO - Chain [1] done processing\n",
      "20:01:52 - cmdstanpy - INFO - Chain [1] start processing\n",
      "20:01:52 - cmdstanpy - INFO - Chain [1] done processing\n"
     ]
    },
    {
     "name": "stdout",
     "output_type": "stream",
     "text": [
      "2024-02-25 00:00:00\n"
     ]
    },
    {
     "name": "stderr",
     "output_type": "stream",
     "text": [
      "20:01:52 - cmdstanpy - INFO - Chain [1] start processing\n"
     ]
    },
    {
     "name": "stdout",
     "output_type": "stream",
     "text": [
      "2024-02-25 00:00:00\n"
     ]
    },
    {
     "name": "stderr",
     "output_type": "stream",
     "text": [
      "20:01:52 - cmdstanpy - INFO - Chain [1] done processing\n",
      "20:01:53 - cmdstanpy - INFO - Chain [1] start processing\n"
     ]
    },
    {
     "name": "stdout",
     "output_type": "stream",
     "text": [
      "2024-02-25 00:00:00\n"
     ]
    },
    {
     "name": "stderr",
     "output_type": "stream",
     "text": [
      "20:01:53 - cmdstanpy - INFO - Chain [1] done processing\n",
      "20:01:53 - cmdstanpy - INFO - Chain [1] start processing\n"
     ]
    },
    {
     "name": "stdout",
     "output_type": "stream",
     "text": [
      "2024-02-25 00:00:00\n"
     ]
    },
    {
     "name": "stderr",
     "output_type": "stream",
     "text": [
      "20:01:53 - cmdstanpy - INFO - Chain [1] done processing\n",
      "20:01:54 - cmdstanpy - INFO - Chain [1] start processing\n"
     ]
    },
    {
     "name": "stdout",
     "output_type": "stream",
     "text": [
      "2024-02-25 00:00:00\n"
     ]
    },
    {
     "name": "stderr",
     "output_type": "stream",
     "text": [
      "20:01:54 - cmdstanpy - INFO - Chain [1] done processing\n",
      "20:01:54 - cmdstanpy - INFO - Chain [1] start processing\n"
     ]
    },
    {
     "name": "stdout",
     "output_type": "stream",
     "text": [
      "2024-02-25 00:00:00\n"
     ]
    },
    {
     "name": "stderr",
     "output_type": "stream",
     "text": [
      "20:01:54 - cmdstanpy - INFO - Chain [1] done processing\n",
      "20:01:55 - cmdstanpy - INFO - Chain [1] start processing\n"
     ]
    },
    {
     "name": "stdout",
     "output_type": "stream",
     "text": [
      "2024-02-25 00:00:00\n"
     ]
    },
    {
     "name": "stderr",
     "output_type": "stream",
     "text": [
      "20:01:55 - cmdstanpy - INFO - Chain [1] done processing\n",
      "20:01:55 - cmdstanpy - INFO - Chain [1] start processing\n"
     ]
    },
    {
     "name": "stdout",
     "output_type": "stream",
     "text": [
      "2024-02-25 00:00:00\n"
     ]
    },
    {
     "name": "stderr",
     "output_type": "stream",
     "text": [
      "20:01:55 - cmdstanpy - INFO - Chain [1] done processing\n",
      "20:01:55 - cmdstanpy - INFO - Chain [1] start processing\n"
     ]
    },
    {
     "name": "stdout",
     "output_type": "stream",
     "text": [
      "2024-02-25 00:00:00\n"
     ]
    },
    {
     "name": "stderr",
     "output_type": "stream",
     "text": [
      "20:01:56 - cmdstanpy - INFO - Chain [1] done processing\n",
      "20:01:56 - cmdstanpy - INFO - Chain [1] start processing\n"
     ]
    },
    {
     "name": "stdout",
     "output_type": "stream",
     "text": [
      "2024-02-25 00:00:00\n"
     ]
    },
    {
     "name": "stderr",
     "output_type": "stream",
     "text": [
      "20:01:56 - cmdstanpy - INFO - Chain [1] done processing\n",
      "20:01:57 - cmdstanpy - INFO - Chain [1] start processing\n",
      "20:01:57 - cmdstanpy - INFO - Chain [1] done processing\n"
     ]
    },
    {
     "name": "stdout",
     "output_type": "stream",
     "text": [
      "2024-02-25 00:00:00\n"
     ]
    },
    {
     "name": "stderr",
     "output_type": "stream",
     "text": [
      "20:01:57 - cmdstanpy - INFO - Chain [1] start processing\n"
     ]
    },
    {
     "name": "stdout",
     "output_type": "stream",
     "text": [
      "2024-02-25 00:00:00\n"
     ]
    },
    {
     "name": "stderr",
     "output_type": "stream",
     "text": [
      "20:01:57 - cmdstanpy - INFO - Chain [1] done processing\n"
     ]
    },
    {
     "name": "stdout",
     "output_type": "stream",
     "text": [
      "2024-02-25 00:00:00\n"
     ]
    },
    {
     "name": "stderr",
     "output_type": "stream",
     "text": [
      "20:01:58 - cmdstanpy - INFO - Chain [1] start processing\n",
      "20:01:58 - cmdstanpy - INFO - Chain [1] done processing\n",
      "20:01:58 - cmdstanpy - INFO - Chain [1] start processing\n"
     ]
    },
    {
     "name": "stdout",
     "output_type": "stream",
     "text": [
      "2024-02-25 00:00:00\n"
     ]
    },
    {
     "name": "stderr",
     "output_type": "stream",
     "text": [
      "20:01:58 - cmdstanpy - INFO - Chain [1] done processing\n",
      "20:01:58 - cmdstanpy - INFO - Chain [1] start processing\n"
     ]
    },
    {
     "name": "stdout",
     "output_type": "stream",
     "text": [
      "2024-02-25 00:00:00\n"
     ]
    },
    {
     "name": "stderr",
     "output_type": "stream",
     "text": [
      "20:01:58 - cmdstanpy - INFO - Chain [1] done processing\n",
      "20:01:59 - cmdstanpy - INFO - Chain [1] start processing\n"
     ]
    },
    {
     "name": "stdout",
     "output_type": "stream",
     "text": [
      "2024-02-25 00:00:00\n"
     ]
    },
    {
     "name": "stderr",
     "output_type": "stream",
     "text": [
      "20:01:59 - cmdstanpy - INFO - Chain [1] done processing\n"
     ]
    },
    {
     "name": "stdout",
     "output_type": "stream",
     "text": [
      "2024-02-25 00:00:00\n"
     ]
    },
    {
     "name": "stderr",
     "output_type": "stream",
     "text": [
      "20:01:59 - cmdstanpy - INFO - Chain [1] start processing\n",
      "20:02:00 - cmdstanpy - INFO - Chain [1] done processing\n",
      "20:02:00 - cmdstanpy - INFO - Chain [1] start processing\n"
     ]
    },
    {
     "name": "stdout",
     "output_type": "stream",
     "text": [
      "2024-02-25 00:00:00\n"
     ]
    },
    {
     "name": "stderr",
     "output_type": "stream",
     "text": [
      "20:02:00 - cmdstanpy - INFO - Chain [1] done processing\n",
      "20:02:00 - cmdstanpy - INFO - Chain [1] start processing\n"
     ]
    },
    {
     "name": "stdout",
     "output_type": "stream",
     "text": [
      "2024-02-25 00:00:00\n"
     ]
    },
    {
     "name": "stderr",
     "output_type": "stream",
     "text": [
      "20:02:01 - cmdstanpy - INFO - Chain [1] done processing\n",
      "20:02:01 - cmdstanpy - INFO - Chain [1] start processing\n"
     ]
    },
    {
     "name": "stdout",
     "output_type": "stream",
     "text": [
      "2024-02-25 00:00:00\n"
     ]
    },
    {
     "name": "stderr",
     "output_type": "stream",
     "text": [
      "20:02:01 - cmdstanpy - INFO - Chain [1] done processing\n",
      "20:02:01 - cmdstanpy - INFO - Chain [1] start processing\n"
     ]
    },
    {
     "name": "stdout",
     "output_type": "stream",
     "text": [
      "2024-02-25 00:00:00\n"
     ]
    },
    {
     "name": "stderr",
     "output_type": "stream",
     "text": [
      "20:02:01 - cmdstanpy - INFO - Chain [1] done processing\n"
     ]
    },
    {
     "name": "stdout",
     "output_type": "stream",
     "text": [
      "2024-02-25 00:00:00\n"
     ]
    },
    {
     "name": "stderr",
     "output_type": "stream",
     "text": [
      "20:02:02 - cmdstanpy - INFO - Chain [1] start processing\n",
      "20:02:02 - cmdstanpy - INFO - Chain [1] done processing\n",
      "20:02:02 - cmdstanpy - INFO - Chain [1] start processing\n"
     ]
    },
    {
     "name": "stdout",
     "output_type": "stream",
     "text": [
      "2024-02-25 00:00:00\n"
     ]
    },
    {
     "name": "stderr",
     "output_type": "stream",
     "text": [
      "20:02:02 - cmdstanpy - INFO - Chain [1] done processing\n",
      "20:02:03 - cmdstanpy - INFO - Chain [1] start processing\n"
     ]
    },
    {
     "name": "stdout",
     "output_type": "stream",
     "text": [
      "2024-02-25 00:00:00\n"
     ]
    },
    {
     "name": "stderr",
     "output_type": "stream",
     "text": [
      "20:02:03 - cmdstanpy - INFO - Chain [1] done processing\n",
      "20:02:03 - cmdstanpy - INFO - Chain [1] start processing\n"
     ]
    },
    {
     "name": "stdout",
     "output_type": "stream",
     "text": [
      "2024-02-25 00:00:00\n"
     ]
    },
    {
     "name": "stderr",
     "output_type": "stream",
     "text": [
      "20:02:03 - cmdstanpy - INFO - Chain [1] done processing\n",
      "20:02:04 - cmdstanpy - INFO - Chain [1] start processing\n"
     ]
    },
    {
     "name": "stdout",
     "output_type": "stream",
     "text": [
      "2024-02-25 00:00:00\n"
     ]
    },
    {
     "name": "stderr",
     "output_type": "stream",
     "text": [
      "20:02:04 - cmdstanpy - INFO - Chain [1] done processing\n",
      "20:02:04 - cmdstanpy - INFO - Chain [1] start processing\n"
     ]
    },
    {
     "name": "stdout",
     "output_type": "stream",
     "text": [
      "2024-02-25 00:00:00\n"
     ]
    },
    {
     "name": "stderr",
     "output_type": "stream",
     "text": [
      "20:02:04 - cmdstanpy - INFO - Chain [1] done processing\n",
      "20:02:05 - cmdstanpy - INFO - Chain [1] start processing\n"
     ]
    },
    {
     "name": "stdout",
     "output_type": "stream",
     "text": [
      "2024-02-25 00:00:00\n"
     ]
    },
    {
     "name": "stderr",
     "output_type": "stream",
     "text": [
      "20:02:05 - cmdstanpy - INFO - Chain [1] done processing\n",
      "20:02:05 - cmdstanpy - INFO - Chain [1] start processing\n"
     ]
    },
    {
     "name": "stdout",
     "output_type": "stream",
     "text": [
      "2024-02-25 00:00:00\n"
     ]
    },
    {
     "name": "stderr",
     "output_type": "stream",
     "text": [
      "20:02:05 - cmdstanpy - INFO - Chain [1] done processing\n",
      "20:02:06 - cmdstanpy - INFO - Chain [1] start processing\n"
     ]
    },
    {
     "name": "stdout",
     "output_type": "stream",
     "text": [
      "2024-02-25 00:00:00\n"
     ]
    },
    {
     "name": "stderr",
     "output_type": "stream",
     "text": [
      "20:02:06 - cmdstanpy - INFO - Chain [1] done processing\n"
     ]
    },
    {
     "name": "stdout",
     "output_type": "stream",
     "text": [
      "2024-02-25 00:00:00\n"
     ]
    },
    {
     "name": "stderr",
     "output_type": "stream",
     "text": [
      "20:02:06 - cmdstanpy - INFO - Chain [1] start processing\n",
      "20:02:06 - cmdstanpy - INFO - Chain [1] done processing\n",
      "20:02:07 - cmdstanpy - INFO - Chain [1] start processing\n"
     ]
    },
    {
     "name": "stdout",
     "output_type": "stream",
     "text": [
      "2024-02-25 00:00:00\n"
     ]
    },
    {
     "name": "stderr",
     "output_type": "stream",
     "text": [
      "20:02:07 - cmdstanpy - INFO - Chain [1] done processing\n",
      "20:02:07 - cmdstanpy - INFO - Chain [1] start processing\n"
     ]
    },
    {
     "name": "stdout",
     "output_type": "stream",
     "text": [
      "2024-02-25 00:00:00\n"
     ]
    },
    {
     "name": "stderr",
     "output_type": "stream",
     "text": [
      "20:02:07 - cmdstanpy - INFO - Chain [1] done processing\n",
      "20:02:08 - cmdstanpy - INFO - Chain [1] start processing\n"
     ]
    },
    {
     "name": "stdout",
     "output_type": "stream",
     "text": [
      "2024-02-25 00:00:00\n"
     ]
    },
    {
     "name": "stderr",
     "output_type": "stream",
     "text": [
      "20:02:08 - cmdstanpy - INFO - Chain [1] done processing\n",
      "20:02:08 - cmdstanpy - INFO - Chain [1] start processing\n"
     ]
    },
    {
     "name": "stdout",
     "output_type": "stream",
     "text": [
      "2024-02-25 00:00:00\n"
     ]
    },
    {
     "name": "stderr",
     "output_type": "stream",
     "text": [
      "20:02:08 - cmdstanpy - INFO - Chain [1] done processing\n",
      "20:02:08 - cmdstanpy - INFO - Chain [1] start processing\n"
     ]
    },
    {
     "name": "stdout",
     "output_type": "stream",
     "text": [
      "2024-02-25 00:00:00\n"
     ]
    },
    {
     "name": "stderr",
     "output_type": "stream",
     "text": [
      "20:02:09 - cmdstanpy - INFO - Chain [1] done processing\n"
     ]
    },
    {
     "name": "stdout",
     "output_type": "stream",
     "text": [
      "prophet model 1:  1411\n"
     ]
    }
   ],
   "source": [
    "selected_df_daily,selected_df_weekly,selected_df_monthly, max_date  = data_preprocessing(final_data_set)\n",
    "\n",
    "############################### Unique IDs import from excel file to perform each model #############################\n",
    "# try:\n",
    "# ## Read selected unique_Ids for prophet model 1 (Daily to Monthly)\n",
    "#     # prophet_unique_ids_1 = pd.read_csv(f\"{base_path}/prophet.csv\", encoding = 'latin1')\n",
    "#     prophet_unique_ids_1 = pd.read_csv(f\"{base_path}/prophet.csv\", encoding = 'latin1')\n",
    "#     prophet_unique_ids_1 = prophet_unique_ids_1.applymap(lambda x: x.strip() if isinstance(x, str) else x)\n",
    "#     logger.debug(f\"Successfully read the unique_IDs to perform Prophet model_1 and read count from list:{prophet_unique_ids_1['uniqueID'].nunique()}\")\n",
    "# except OSError as e:\n",
    "#     logging.error(\"Failed read the unique_IDs to perform Prophet model_1.\")\n",
    "# try:        \n",
    "# ### Read selected unique_Ids for prophet model 2 (Monthly)\n",
    "#     prophet_unique_ids_2 = pd.read_csv(f\"{base_path}/st_prophet_monthly_list.csv\", encoding = 'latin1')\n",
    "#     prophet_unique_ids_2 = prophet_unique_ids_2.applymap(lambda x: x.strip() if isinstance(x, str) else x)\n",
    "#     logger.debug(f\"Successfully read the unique_IDs to perform Prophet model_2 and read count from list:{prophet_unique_ids_2['uniqueID'].nunique()}\")\n",
    "# except OSError as e:\n",
    "#     logging.error(\"Failed read the unique_IDs to perform Prophet model_2.\")\n",
    "# try:\n",
    "# ### Read selected unique_Ids for ZIM model 1 (Weekly to Monthly)\n",
    "#     zim_1 = pd.read_csv(f\"{base_path}/st_zim_weekly_monthly_list.csv\", encoding = 'latin1')\n",
    "#     zim_1 = zim_1.applymap(lambda x: x.strip() if isinstance(x, str) else x)\n",
    "#     logger.debug(f\"Successfully read the unique_IDs to perform ZIM model_1 and read count from list:{zim_1['uniqueID'].nunique()}\")\n",
    "# except OSError as e:\n",
    "#     logging.error(\"Failed read the unique_IDs to perform ZIM model_1.\")\n",
    "# try:\n",
    "# ### Read selected unique_Ids for lazy prophet (Daily to Monthly)\n",
    "#     lazy_prophet_unique_ids_1 = pd.read_csv(f\"{base_path}/st_lazy_prophet_daily_monthly_list.csv\", encoding = 'latin1')\n",
    "#     lazy_prophet_unique_ids_1 = lazy_prophet_unique_ids_1.applymap(lambda x: x.strip() if isinstance(x, str) else x)\n",
    "#     logger.debug(f\"Successfully read the unique_IDs to perform Lazy Prophet model and read count from list:{lazy_prophet_unique_ids_1['uniqueID'].nunique()}\")\n",
    "# except OSError as e:\n",
    "#     logging.error(\"Failed read the unique_IDs to perform Lazy Prophet model.\")\n",
    "\n",
    "############################### ****************************************** #############################\n",
    "\n",
    "############################# Filter uniqueIDs and save it into different data frams ###################\n",
    "# try:\n",
    "#     #### Filter the unique IDs that has perfomred well on Prophet_1 model\n",
    "#     prophet_filtered_df_1 = selected_df_weekly[selected_df_weekly['uniqueID'].isin(prophet_unique_ids_1['uniqueID'].unique())]\n",
    "#     logger.debug(\"Successfully filtered the unique_IDs to perform Prophet 1 model.\")\n",
    "# except OSError as e:\n",
    "#         logging.error(\"Failed filtered the unique_IDs to perform Prophet 1 model.\")\n",
    "# try:\n",
    "#     #### Filter the unique IDs that has perfomred well on Prophet_1 model\n",
    "#     prophet_filtered_df_2 = selected_df_monthly[selected_df_monthly['uniqueID'].isin(prophet_unique_ids_2['uniqueID'])]\n",
    "#     logger.debug(\"Successfully filtered the unique_IDs to perform Prophet 2 model.\")\n",
    "# except OSError as e:\n",
    "#         logging.error(\"Failed filtered the unique_IDs to perform Prophet 2 model.\")\n",
    "# try:\n",
    "#     #### Filter the unique IDs that has perfomred well on ZIM_1 model\n",
    "#     zim_filtered_df_1 = selected_df_weekly[selected_df_weekly['uniqueID'].isin(zim_1['uniqueID'])]\n",
    "#     logger.debug(\"Successfully filtered the unique_IDs to perform ZIM 1 model.\")\n",
    "# except OSError as e:\n",
    "#         logging.error(\"Failed filtered the unique_IDs to perform ZIM 1 model.\")\n",
    "# try:\n",
    "#     #### Filter the unique IDs that has perfomred well on Lazy Prophet model\n",
    "#     LP_filtered_df = selected_df_daily[selected_df_daily['uniqueID'].isin(lazy_prophet_unique_ids_1['uniqueID'])]\n",
    "#     logger.debug(\"Successfully filtered the unique_IDs to perform Lazy Prophet model.\")\n",
    "# except OSError as e:\n",
    "#         logging.error(\"Failed filtered the unique_IDs to perform Lazy Prophet model.\")\n",
    "\n",
    "#################################### **************** ################################################\n",
    "\n",
    "try:\n",
    "    prop1_all_prediction_df, prop1_all_actual_df = run_model_for_all_ids(prophet_1, selected_df_weekly,max_date,model_name=\"prophet_model_1\")\n",
    "    logger.debug(\"Successfully saved both actual data and prophet 1 prediction results as two separate dataframes.\")\n",
    "    print(\"prophet model 1: \",prop1_all_prediction_df.uniqueID.nunique())\n",
    "\n",
    "except OSError as e:\n",
    "    logging.error(\"Failed to save both actual data and prophet 1 prediction results as two separate dataframes.\")\n",
    "    \n",
    "# try:\n",
    "#     prop2_all_prediction_df, prop2_all_actual_df = run_model_for_all_ids(prophet_2,prophet_filtered_df_2,max_date,model_name=\"prophet_model_2\")\n",
    "#     logger.debug(\"Successfully saved both actual data and prophet 2 prediction results as two separate dataframes.\")\n",
    "#     print(\"prophet model 2: \",prop2_all_prediction_df.uniqueID.nunique())\n",
    "\n",
    "# except OSError as e:\n",
    "#     logging.error(\"Failed to save both actual data and prophet 2 prediction results as two separate dataframes.\")\n",
    "\n",
    "# try:\n",
    "#     zim1_all_prediction_df, zim1_all_actual_df = run_model_for_all_ids(zero_inflated_model_1,zim_filtered_df_1,max_date,model_name=\"ZIM_model_1\")\n",
    "#     logger.debug(\"Successfully saved both actual data and zero infulated model 1 prediction results as two separate dataframes.\")\n",
    "#     print(\"zim model 1: \",zim1_all_prediction_df.uniqueID.nunique())\n",
    "\n",
    "# except OSError as e:\n",
    "#     logging.error(\"Failed to save both actual data and zero infulated model 1 prediction results as two separate dataframes.\")\n",
    "\n",
    "# try:\n",
    "#     LP_all_prediction_df, LP_all_actual_df = run_model_for_all_ids(lazy_prophet_model,LP_filtered_df,max_date,model_name=\"Lazy_prophet_model\")\n",
    "#     logger.debug(\"Successfully saved both actual data and lazy prophet prediction model results as two separate dataframes.\")\n",
    "\n",
    "# except OSError as e:\n",
    "#     logging.error(\"Failed to save both actual data and lazy prophet model prediction results as two separate dataframes.\")\n",
    "\n",
    "\n",
    "###### Concatenate all actual data frames into a single actual data frame, and concatenate all predicted data frames into a single predicted data frame.\n",
    "# List of dataframes to be concatenated\n",
    "actual_dataframes = [prop1_all_actual_df]\n",
    "predict_dataframes = [prop1_all_prediction_df]\n",
    "# Concatenating the dataframes\n",
    "final_actual_dataframe = pd.concat(actual_dataframes, ignore_index=True)\n",
    "final_predict_dataframe = pd.concat(predict_dataframes, ignore_index=True)\n",
    "\n",
    "\n",
    "final_actual_dataframe[['Property_name', 'Cost_Center_Name','Category_Standard', 'Item_Name_Standard']] = final_actual_dataframe['uniqueID'].str.split('__', expand=True)\n",
    "\n",
    "final_predict_dataframe[['Property_name', 'Cost_Center_Name','Category_Standard', 'Item_Name_Standard']] = final_predict_dataframe['uniqueID'].str.split('__', expand=True)\n"
   ]
  },
  {
   "cell_type": "code",
   "execution_count": 28,
   "metadata": {},
   "outputs": [
    {
     "data": {
      "text/html": [
       "<div>\n",
       "<style scoped>\n",
       "    .dataframe tbody tr th:only-of-type {\n",
       "        vertical-align: middle;\n",
       "    }\n",
       "\n",
       "    .dataframe tbody tr th {\n",
       "        vertical-align: top;\n",
       "    }\n",
       "\n",
       "    .dataframe thead th {\n",
       "        text-align: right;\n",
       "    }\n",
       "</style>\n",
       "<table border=\"1\" class=\"dataframe\">\n",
       "  <thead>\n",
       "    <tr style=\"text-align: right;\">\n",
       "      <th></th>\n",
       "      <th>uniqueID</th>\n",
       "      <th>Booking_Date</th>\n",
       "      <th>predicted</th>\n",
       "      <th>Property_name</th>\n",
       "      <th>Cost_Center_Name</th>\n",
       "      <th>Category_Standard</th>\n",
       "      <th>Item_Name_Standard</th>\n",
       "    </tr>\n",
       "  </thead>\n",
       "  <tbody>\n",
       "    <tr>\n",
       "      <th>0</th>\n",
       "      <td>ADAGIO__F&amp;B Kitchen__LS - Bakery Products Chil...</td>\n",
       "      <td>2024-03-31</td>\n",
       "      <td>70.140769</td>\n",
       "      <td>ADAGIO</td>\n",
       "      <td>F&amp;B Kitchen</td>\n",
       "      <td>LS - Bakery Products Chilled</td>\n",
       "      <td>glaze</td>\n",
       "    </tr>\n",
       "    <tr>\n",
       "      <th>1</th>\n",
       "      <td>ADAGIO__F&amp;B Kitchen__LS - Bakery Products Chil...</td>\n",
       "      <td>2024-04-30</td>\n",
       "      <td>25.361264</td>\n",
       "      <td>ADAGIO</td>\n",
       "      <td>F&amp;B Kitchen</td>\n",
       "      <td>LS - Bakery Products Chilled</td>\n",
       "      <td>glaze</td>\n",
       "    </tr>\n",
       "    <tr>\n",
       "      <th>2</th>\n",
       "      <td>ADAGIO__F&amp;B Kitchen__LS - Bakery Products Chil...</td>\n",
       "      <td>2024-05-31</td>\n",
       "      <td>65.256966</td>\n",
       "      <td>ADAGIO</td>\n",
       "      <td>F&amp;B Kitchen</td>\n",
       "      <td>LS - Bakery Products Chilled</td>\n",
       "      <td>glaze</td>\n",
       "    </tr>\n",
       "    <tr>\n",
       "      <th>3</th>\n",
       "      <td>ADAGIO__F&amp;B Kitchen__LS - Bakery Products Chil...</td>\n",
       "      <td>2024-06-30</td>\n",
       "      <td>40.885475</td>\n",
       "      <td>ADAGIO</td>\n",
       "      <td>F&amp;B Kitchen</td>\n",
       "      <td>LS - Bakery Products Chilled</td>\n",
       "      <td>glaze</td>\n",
       "    </tr>\n",
       "    <tr>\n",
       "      <th>4</th>\n",
       "      <td>ADAGIO__F&amp;B Kitchen__LS - Bakery Products Chil...</td>\n",
       "      <td>2024-07-31</td>\n",
       "      <td>80.061877</td>\n",
       "      <td>ADAGIO</td>\n",
       "      <td>F&amp;B Kitchen</td>\n",
       "      <td>LS - Bakery Products Chilled</td>\n",
       "      <td>glaze</td>\n",
       "    </tr>\n",
       "    <tr>\n",
       "      <th>...</th>\n",
       "      <td>...</td>\n",
       "      <td>...</td>\n",
       "      <td>...</td>\n",
       "      <td>...</td>\n",
       "      <td>...</td>\n",
       "      <td>...</td>\n",
       "      <td>...</td>\n",
       "    </tr>\n",
       "    <tr>\n",
       "      <th>16927</th>\n",
       "      <td>PDCC__H2022 - Soma Spa__LS - Fruit Fresh__appl...</td>\n",
       "      <td>2024-10-31</td>\n",
       "      <td>308.592267</td>\n",
       "      <td>PDCC</td>\n",
       "      <td>H2022 - Soma Spa</td>\n",
       "      <td>LS - Fruit Fresh</td>\n",
       "      <td>apple green</td>\n",
       "    </tr>\n",
       "    <tr>\n",
       "      <th>16928</th>\n",
       "      <td>PDCC__H2022 - Soma Spa__LS - Fruit Fresh__appl...</td>\n",
       "      <td>2024-11-30</td>\n",
       "      <td>326.395616</td>\n",
       "      <td>PDCC</td>\n",
       "      <td>H2022 - Soma Spa</td>\n",
       "      <td>LS - Fruit Fresh</td>\n",
       "      <td>apple green</td>\n",
       "    </tr>\n",
       "    <tr>\n",
       "      <th>16929</th>\n",
       "      <td>PDCC__H2022 - Soma Spa__LS - Fruit Fresh__appl...</td>\n",
       "      <td>2024-12-31</td>\n",
       "      <td>433.030479</td>\n",
       "      <td>PDCC</td>\n",
       "      <td>H2022 - Soma Spa</td>\n",
       "      <td>LS - Fruit Fresh</td>\n",
       "      <td>apple green</td>\n",
       "    </tr>\n",
       "    <tr>\n",
       "      <th>16930</th>\n",
       "      <td>PDCC__H2022 - Soma Spa__LS - Fruit Fresh__appl...</td>\n",
       "      <td>2025-01-31</td>\n",
       "      <td>366.453151</td>\n",
       "      <td>PDCC</td>\n",
       "      <td>H2022 - Soma Spa</td>\n",
       "      <td>LS - Fruit Fresh</td>\n",
       "      <td>apple green</td>\n",
       "    </tr>\n",
       "    <tr>\n",
       "      <th>16931</th>\n",
       "      <td>PDCC__H2022 - Soma Spa__LS - Fruit Fresh__appl...</td>\n",
       "      <td>2025-02-28</td>\n",
       "      <td>384.256500</td>\n",
       "      <td>PDCC</td>\n",
       "      <td>H2022 - Soma Spa</td>\n",
       "      <td>LS - Fruit Fresh</td>\n",
       "      <td>apple green</td>\n",
       "    </tr>\n",
       "  </tbody>\n",
       "</table>\n",
       "<p>16932 rows × 7 columns</p>\n",
       "</div>"
      ],
      "text/plain": [
       "                                                uniqueID Booking_Date  \\\n",
       "0      ADAGIO__F&B Kitchen__LS - Bakery Products Chil...   2024-03-31   \n",
       "1      ADAGIO__F&B Kitchen__LS - Bakery Products Chil...   2024-04-30   \n",
       "2      ADAGIO__F&B Kitchen__LS - Bakery Products Chil...   2024-05-31   \n",
       "3      ADAGIO__F&B Kitchen__LS - Bakery Products Chil...   2024-06-30   \n",
       "4      ADAGIO__F&B Kitchen__LS - Bakery Products Chil...   2024-07-31   \n",
       "...                                                  ...          ...   \n",
       "16927  PDCC__H2022 - Soma Spa__LS - Fruit Fresh__appl...   2024-10-31   \n",
       "16928  PDCC__H2022 - Soma Spa__LS - Fruit Fresh__appl...   2024-11-30   \n",
       "16929  PDCC__H2022 - Soma Spa__LS - Fruit Fresh__appl...   2024-12-31   \n",
       "16930  PDCC__H2022 - Soma Spa__LS - Fruit Fresh__appl...   2025-01-31   \n",
       "16931  PDCC__H2022 - Soma Spa__LS - Fruit Fresh__appl...   2025-02-28   \n",
       "\n",
       "        predicted Property_name  Cost_Center_Name  \\\n",
       "0       70.140769        ADAGIO       F&B Kitchen   \n",
       "1       25.361264        ADAGIO       F&B Kitchen   \n",
       "2       65.256966        ADAGIO       F&B Kitchen   \n",
       "3       40.885475        ADAGIO       F&B Kitchen   \n",
       "4       80.061877        ADAGIO       F&B Kitchen   \n",
       "...           ...           ...               ...   \n",
       "16927  308.592267          PDCC  H2022 - Soma Spa   \n",
       "16928  326.395616          PDCC  H2022 - Soma Spa   \n",
       "16929  433.030479          PDCC  H2022 - Soma Spa   \n",
       "16930  366.453151          PDCC  H2022 - Soma Spa   \n",
       "16931  384.256500          PDCC  H2022 - Soma Spa   \n",
       "\n",
       "                  Category_Standard Item_Name_Standard  \n",
       "0      LS - Bakery Products Chilled              glaze  \n",
       "1      LS - Bakery Products Chilled              glaze  \n",
       "2      LS - Bakery Products Chilled              glaze  \n",
       "3      LS - Bakery Products Chilled              glaze  \n",
       "4      LS - Bakery Products Chilled              glaze  \n",
       "...                             ...                ...  \n",
       "16927              LS - Fruit Fresh        apple green  \n",
       "16928              LS - Fruit Fresh        apple green  \n",
       "16929              LS - Fruit Fresh        apple green  \n",
       "16930              LS - Fruit Fresh        apple green  \n",
       "16931              LS - Fruit Fresh        apple green  \n",
       "\n",
       "[16932 rows x 7 columns]"
      ]
     },
     "execution_count": 28,
     "metadata": {},
     "output_type": "execute_result"
    }
   ],
   "source": [
    "final_predict_dataframe\n"
   ]
  },
  {
   "cell_type": "code",
   "execution_count": 13,
   "metadata": {},
   "outputs": [
    {
     "data": {
      "text/plain": [
       "1411"
      ]
     },
     "execution_count": 13,
     "metadata": {},
     "output_type": "execute_result"
    }
   ],
   "source": [
    "prop1_all_prediction_df.uniqueID.nunique()"
   ]
  },
  {
   "cell_type": "code",
   "execution_count": 14,
   "metadata": {},
   "outputs": [
    {
     "data": {
      "text/html": [
       "<div>\n",
       "<style scoped>\n",
       "    .dataframe tbody tr th:only-of-type {\n",
       "        vertical-align: middle;\n",
       "    }\n",
       "\n",
       "    .dataframe tbody tr th {\n",
       "        vertical-align: top;\n",
       "    }\n",
       "\n",
       "    .dataframe thead th {\n",
       "        text-align: right;\n",
       "    }\n",
       "</style>\n",
       "<table border=\"1\" class=\"dataframe\">\n",
       "  <thead>\n",
       "    <tr style=\"text-align: right;\">\n",
       "      <th></th>\n",
       "      <th>uniqueID</th>\n",
       "      <th>Booking_Date</th>\n",
       "      <th>predicted</th>\n",
       "    </tr>\n",
       "  </thead>\n",
       "  <tbody>\n",
       "    <tr>\n",
       "      <th>0</th>\n",
       "      <td>ADAGIO | 1300_72885.HA609 | LS - Cleaning Prod...</td>\n",
       "      <td>2024-03-31</td>\n",
       "      <td>1268.849698</td>\n",
       "    </tr>\n",
       "    <tr>\n",
       "      <th>1</th>\n",
       "      <td>ADAGIO | 1300_72885.HA609 | LS - Cleaning Prod...</td>\n",
       "      <td>2024-04-30</td>\n",
       "      <td>1607.346126</td>\n",
       "    </tr>\n",
       "    <tr>\n",
       "      <th>2</th>\n",
       "      <td>ADAGIO | 1300_72885.HA609 | LS - Cleaning Prod...</td>\n",
       "      <td>2024-05-31</td>\n",
       "      <td>527.565089</td>\n",
       "    </tr>\n",
       "    <tr>\n",
       "      <th>3</th>\n",
       "      <td>ADAGIO | 1300_72885.HA609 | LS - Cleaning Prod...</td>\n",
       "      <td>2024-06-30</td>\n",
       "      <td>600.526773</td>\n",
       "    </tr>\n",
       "    <tr>\n",
       "      <th>4</th>\n",
       "      <td>ADAGIO | 1300_72885.HA609 | LS - Cleaning Prod...</td>\n",
       "      <td>2024-07-31</td>\n",
       "      <td>526.957412</td>\n",
       "    </tr>\n",
       "    <tr>\n",
       "      <th>...</th>\n",
       "      <td>...</td>\n",
       "      <td>...</td>\n",
       "      <td>...</td>\n",
       "    </tr>\n",
       "    <tr>\n",
       "      <th>16927</th>\n",
       "      <td>PDCC | 5400_70120.H2022 | LS - Electrical Supp...</td>\n",
       "      <td>2024-10-31</td>\n",
       "      <td>476.353657</td>\n",
       "    </tr>\n",
       "    <tr>\n",
       "      <th>16928</th>\n",
       "      <td>PDCC | 5400_70120.H2022 | LS - Electrical Supp...</td>\n",
       "      <td>2024-11-30</td>\n",
       "      <td>496.095372</td>\n",
       "    </tr>\n",
       "    <tr>\n",
       "      <th>16929</th>\n",
       "      <td>PDCC | 5400_70120.H2022 | LS - Electrical Supp...</td>\n",
       "      <td>2024-12-31</td>\n",
       "      <td>647.881001</td>\n",
       "    </tr>\n",
       "    <tr>\n",
       "      <th>16930</th>\n",
       "      <td>PDCC | 5400_70120.H2022 | LS - Electrical Supp...</td>\n",
       "      <td>2025-01-31</td>\n",
       "      <td>540.514230</td>\n",
       "    </tr>\n",
       "    <tr>\n",
       "      <th>16931</th>\n",
       "      <td>PDCC | 5400_70120.H2022 | LS - Electrical Supp...</td>\n",
       "      <td>2025-02-28</td>\n",
       "      <td>560.255945</td>\n",
       "    </tr>\n",
       "  </tbody>\n",
       "</table>\n",
       "<p>16932 rows × 3 columns</p>\n",
       "</div>"
      ],
      "text/plain": [
       "                                                uniqueID Booking_Date  \\\n",
       "0      ADAGIO | 1300_72885.HA609 | LS - Cleaning Prod...   2024-03-31   \n",
       "1      ADAGIO | 1300_72885.HA609 | LS - Cleaning Prod...   2024-04-30   \n",
       "2      ADAGIO | 1300_72885.HA609 | LS - Cleaning Prod...   2024-05-31   \n",
       "3      ADAGIO | 1300_72885.HA609 | LS - Cleaning Prod...   2024-06-30   \n",
       "4      ADAGIO | 1300_72885.HA609 | LS - Cleaning Prod...   2024-07-31   \n",
       "...                                                  ...          ...   \n",
       "16927  PDCC | 5400_70120.H2022 | LS - Electrical Supp...   2024-10-31   \n",
       "16928  PDCC | 5400_70120.H2022 | LS - Electrical Supp...   2024-11-30   \n",
       "16929  PDCC | 5400_70120.H2022 | LS - Electrical Supp...   2024-12-31   \n",
       "16930  PDCC | 5400_70120.H2022 | LS - Electrical Supp...   2025-01-31   \n",
       "16931  PDCC | 5400_70120.H2022 | LS - Electrical Supp...   2025-02-28   \n",
       "\n",
       "         predicted  \n",
       "0      1268.849698  \n",
       "1      1607.346126  \n",
       "2       527.565089  \n",
       "3       600.526773  \n",
       "4       526.957412  \n",
       "...            ...  \n",
       "16927   476.353657  \n",
       "16928   496.095372  \n",
       "16929   647.881001  \n",
       "16930   540.514230  \n",
       "16931   560.255945  \n",
       "\n",
       "[16932 rows x 3 columns]"
      ]
     },
     "execution_count": 14,
     "metadata": {},
     "output_type": "execute_result"
    }
   ],
   "source": [
    "prop1_all_prediction_df"
   ]
  },
  {
   "cell_type": "code",
   "execution_count": null,
   "metadata": {},
   "outputs": [],
   "source": [
    "# selected_df_weekly.to_csv('selected_df_weekly.csv',index=False)"
   ]
  },
  {
   "cell_type": "code",
   "execution_count": null,
   "metadata": {},
   "outputs": [
    {
     "name": "stdout",
     "output_type": "stream",
     "text": [
      "1411\n"
     ]
    }
   ],
   "source": [
    "print(prop1_all_prediction_df.uniqueID.nunique())\n",
    "# print(prop2_all_prediction_df.uniqueID.nunique())\n",
    "# print(zim1_all_prediction_df.uniqueID.nunique())\n"
   ]
  },
  {
   "cell_type": "code",
   "execution_count": null,
   "metadata": {},
   "outputs": [],
   "source": [
    "# prop1_all_prediction_df.to_csv(\"final.csv\")"
   ]
  },
  {
   "cell_type": "code",
   "execution_count": null,
   "metadata": {},
   "outputs": [
    {
     "data": {
      "text/html": [
       "<div>\n",
       "<style scoped>\n",
       "    .dataframe tbody tr th:only-of-type {\n",
       "        vertical-align: middle;\n",
       "    }\n",
       "\n",
       "    .dataframe tbody tr th {\n",
       "        vertical-align: top;\n",
       "    }\n",
       "\n",
       "    .dataframe thead th {\n",
       "        text-align: right;\n",
       "    }\n",
       "</style>\n",
       "<table border=\"1\" class=\"dataframe\">\n",
       "  <thead>\n",
       "    <tr style=\"text-align: right;\">\n",
       "      <th></th>\n",
       "      <th>uniqueID</th>\n",
       "      <th>Booking_Date</th>\n",
       "      <th>Quantity_IU</th>\n",
       "    </tr>\n",
       "  </thead>\n",
       "  <tbody>\n",
       "    <tr>\n",
       "      <th>0</th>\n",
       "      <td>Main Kitchen Store__H2022 - Main Kitchen__gara...</td>\n",
       "      <td>2022-01-16</td>\n",
       "      <td>4.0</td>\n",
       "    </tr>\n",
       "    <tr>\n",
       "      <th>1</th>\n",
       "      <td>Main Kitchen Store__H2022 - Main Kitchen__gara...</td>\n",
       "      <td>2022-01-23</td>\n",
       "      <td>4.0</td>\n",
       "    </tr>\n",
       "    <tr>\n",
       "      <th>2</th>\n",
       "      <td>Main Kitchen Store__H2022 - Main Kitchen__gara...</td>\n",
       "      <td>2022-01-30</td>\n",
       "      <td>0.0</td>\n",
       "    </tr>\n",
       "    <tr>\n",
       "      <th>4</th>\n",
       "      <td>Main Kitchen Store__H2022 - Main Kitchen__gara...</td>\n",
       "      <td>2022-02-06</td>\n",
       "      <td>3.0</td>\n",
       "    </tr>\n",
       "    <tr>\n",
       "      <th>5</th>\n",
       "      <td>Main Kitchen Store__H2022 - Main Kitchen__gara...</td>\n",
       "      <td>2022-02-13</td>\n",
       "      <td>0.0</td>\n",
       "    </tr>\n",
       "    <tr>\n",
       "      <th>...</th>\n",
       "      <td>...</td>\n",
       "      <td>...</td>\n",
       "      <td>...</td>\n",
       "    </tr>\n",
       "    <tr>\n",
       "      <th>119</th>\n",
       "      <td>Main Kitchen Store__H2022 - Main Kitchen__gara...</td>\n",
       "      <td>2023-12-03</td>\n",
       "      <td>0.0</td>\n",
       "    </tr>\n",
       "    <tr>\n",
       "      <th>120</th>\n",
       "      <td>Main Kitchen Store__H2022 - Main Kitchen__gara...</td>\n",
       "      <td>2023-12-10</td>\n",
       "      <td>0.0</td>\n",
       "    </tr>\n",
       "    <tr>\n",
       "      <th>121</th>\n",
       "      <td>Main Kitchen Store__H2022 - Main Kitchen__gara...</td>\n",
       "      <td>2023-12-17</td>\n",
       "      <td>0.0</td>\n",
       "    </tr>\n",
       "    <tr>\n",
       "      <th>122</th>\n",
       "      <td>Main Kitchen Store__H2022 - Main Kitchen__gara...</td>\n",
       "      <td>2023-12-24</td>\n",
       "      <td>1.0</td>\n",
       "    </tr>\n",
       "    <tr>\n",
       "      <th>123</th>\n",
       "      <td>Main Kitchen Store__H2022 - Main Kitchen__gara...</td>\n",
       "      <td>2023-12-31</td>\n",
       "      <td>1.0</td>\n",
       "    </tr>\n",
       "  </tbody>\n",
       "</table>\n",
       "<p>103 rows × 3 columns</p>\n",
       "</div>"
      ],
      "text/plain": [
       "                                              uniqueID Booking_Date  \\\n",
       "0    Main Kitchen Store__H2022 - Main Kitchen__gara...   2022-01-16   \n",
       "1    Main Kitchen Store__H2022 - Main Kitchen__gara...   2022-01-23   \n",
       "2    Main Kitchen Store__H2022 - Main Kitchen__gara...   2022-01-30   \n",
       "4    Main Kitchen Store__H2022 - Main Kitchen__gara...   2022-02-06   \n",
       "5    Main Kitchen Store__H2022 - Main Kitchen__gara...   2022-02-13   \n",
       "..                                                 ...          ...   \n",
       "119  Main Kitchen Store__H2022 - Main Kitchen__gara...   2023-12-03   \n",
       "120  Main Kitchen Store__H2022 - Main Kitchen__gara...   2023-12-10   \n",
       "121  Main Kitchen Store__H2022 - Main Kitchen__gara...   2023-12-17   \n",
       "122  Main Kitchen Store__H2022 - Main Kitchen__gara...   2023-12-24   \n",
       "123  Main Kitchen Store__H2022 - Main Kitchen__gara...   2023-12-31   \n",
       "\n",
       "     Quantity_IU  \n",
       "0            4.0  \n",
       "1            4.0  \n",
       "2            0.0  \n",
       "4            3.0  \n",
       "5            0.0  \n",
       "..           ...  \n",
       "119          0.0  \n",
       "120          0.0  \n",
       "121          0.0  \n",
       "122          1.0  \n",
       "123          1.0  \n",
       "\n",
       "[103 rows x 3 columns]"
      ]
     },
     "execution_count": 180,
     "metadata": {},
     "output_type": "execute_result"
    }
   ],
   "source": [
    "selected_df_weekly[selected_df_weekly['uniqueID']== 'Main Kitchen Store__H2022 - Main Kitchen__garam masala']"
   ]
  },
  {
   "cell_type": "code",
   "execution_count": null,
   "metadata": {},
   "outputs": [
    {
     "data": {
      "text/html": [
       "<div>\n",
       "<style scoped>\n",
       "    .dataframe tbody tr th:only-of-type {\n",
       "        vertical-align: middle;\n",
       "    }\n",
       "\n",
       "    .dataframe tbody tr th {\n",
       "        vertical-align: top;\n",
       "    }\n",
       "\n",
       "    .dataframe thead th {\n",
       "        text-align: right;\n",
       "    }\n",
       "</style>\n",
       "<table border=\"1\" class=\"dataframe\">\n",
       "  <thead>\n",
       "    <tr style=\"text-align: right;\">\n",
       "      <th></th>\n",
       "      <th>Cost_center_in</th>\n",
       "      <th>Receiving_store</th>\n",
       "      <th>Item_Name</th>\n",
       "      <th>Quantity_IU</th>\n",
       "      <th>Booking_Date</th>\n",
       "      <th>Category_Standard</th>\n",
       "      <th>Item_Name_Standard</th>\n",
       "      <th>Unit_Standard</th>\n",
       "      <th>uniqueID</th>\n",
       "    </tr>\n",
       "  </thead>\n",
       "  <tbody>\n",
       "  </tbody>\n",
       "</table>\n",
       "</div>"
      ],
      "text/plain": [
       "Empty DataFrame\n",
       "Columns: [Cost_center_in, Receiving_store, Item_Name, Quantity_IU, Booking_Date, Category_Standard, Item_Name_Standard, Unit_Standard, uniqueID]\n",
       "Index: []"
      ]
     },
     "execution_count": 128,
     "metadata": {},
     "output_type": "execute_result"
    }
   ],
   "source": [
    "final_data_set[final_data_set['Item_Name_Standard']=='seaweed']"
   ]
  },
  {
   "cell_type": "code",
   "execution_count": null,
   "metadata": {},
   "outputs": [
    {
     "data": {
      "text/plain": [
       "850"
      ]
     },
     "execution_count": 102,
     "metadata": {},
     "output_type": "execute_result"
    }
   ],
   "source": [
    "selected_df_daily.uniqueID.nunique()"
   ]
  },
  {
   "cell_type": "code",
   "execution_count": null,
   "metadata": {},
   "outputs": [
    {
     "data": {
      "text/html": [
       "<div>\n",
       "<style scoped>\n",
       "    .dataframe tbody tr th:only-of-type {\n",
       "        vertical-align: middle;\n",
       "    }\n",
       "\n",
       "    .dataframe tbody tr th {\n",
       "        vertical-align: top;\n",
       "    }\n",
       "\n",
       "    .dataframe thead th {\n",
       "        text-align: right;\n",
       "    }\n",
       "</style>\n",
       "<table border=\"1\" class=\"dataframe\">\n",
       "  <thead>\n",
       "    <tr style=\"text-align: right;\">\n",
       "      <th></th>\n",
       "      <th>uniqueID</th>\n",
       "      <th>Booking_Date</th>\n",
       "      <th>Quantity_IU</th>\n",
       "    </tr>\n",
       "  </thead>\n",
       "  <tbody>\n",
       "    <tr>\n",
       "      <th>0</th>\n",
       "      <td>Main Kitchen Store__H6685 - IBIS Al Rigga Main...</td>\n",
       "      <td>2022-02-06</td>\n",
       "      <td>3.0</td>\n",
       "    </tr>\n",
       "    <tr>\n",
       "      <th>1</th>\n",
       "      <td>Main Kitchen Store__H6685 - IBIS Al Rigga Main...</td>\n",
       "      <td>2022-02-13</td>\n",
       "      <td>2.0</td>\n",
       "    </tr>\n",
       "    <tr>\n",
       "      <th>2</th>\n",
       "      <td>Main Kitchen Store__H6685 - IBIS Al Rigga Main...</td>\n",
       "      <td>2022-02-20</td>\n",
       "      <td>1.0</td>\n",
       "    </tr>\n",
       "    <tr>\n",
       "      <th>3</th>\n",
       "      <td>Main Kitchen Store__H6685 - IBIS Al Rigga Main...</td>\n",
       "      <td>2022-02-27</td>\n",
       "      <td>0.0</td>\n",
       "    </tr>\n",
       "    <tr>\n",
       "      <th>5</th>\n",
       "      <td>Main Kitchen Store__H6685 - IBIS Al Rigga Main...</td>\n",
       "      <td>2022-03-06</td>\n",
       "      <td>1.0</td>\n",
       "    </tr>\n",
       "    <tr>\n",
       "      <th>...</th>\n",
       "      <td>...</td>\n",
       "      <td>...</td>\n",
       "      <td>...</td>\n",
       "    </tr>\n",
       "    <tr>\n",
       "      <th>115</th>\n",
       "      <td>Main Kitchen Store__H6685 - IBIS Al Rigga Main...</td>\n",
       "      <td>2023-12-03</td>\n",
       "      <td>0.0</td>\n",
       "    </tr>\n",
       "    <tr>\n",
       "      <th>116</th>\n",
       "      <td>Main Kitchen Store__H6685 - IBIS Al Rigga Main...</td>\n",
       "      <td>2023-12-10</td>\n",
       "      <td>0.0</td>\n",
       "    </tr>\n",
       "    <tr>\n",
       "      <th>117</th>\n",
       "      <td>Main Kitchen Store__H6685 - IBIS Al Rigga Main...</td>\n",
       "      <td>2023-12-17</td>\n",
       "      <td>1.0</td>\n",
       "    </tr>\n",
       "    <tr>\n",
       "      <th>118</th>\n",
       "      <td>Main Kitchen Store__H6685 - IBIS Al Rigga Main...</td>\n",
       "      <td>2023-12-24</td>\n",
       "      <td>0.0</td>\n",
       "    </tr>\n",
       "    <tr>\n",
       "      <th>119</th>\n",
       "      <td>Main Kitchen Store__H6685 - IBIS Al Rigga Main...</td>\n",
       "      <td>2023-12-31</td>\n",
       "      <td>3.0</td>\n",
       "    </tr>\n",
       "  </tbody>\n",
       "</table>\n",
       "<p>100 rows × 3 columns</p>\n",
       "</div>"
      ],
      "text/plain": [
       "                                              uniqueID Booking_Date  \\\n",
       "0    Main Kitchen Store__H6685 - IBIS Al Rigga Main...   2022-02-06   \n",
       "1    Main Kitchen Store__H6685 - IBIS Al Rigga Main...   2022-02-13   \n",
       "2    Main Kitchen Store__H6685 - IBIS Al Rigga Main...   2022-02-20   \n",
       "3    Main Kitchen Store__H6685 - IBIS Al Rigga Main...   2022-02-27   \n",
       "5    Main Kitchen Store__H6685 - IBIS Al Rigga Main...   2022-03-06   \n",
       "..                                                 ...          ...   \n",
       "115  Main Kitchen Store__H6685 - IBIS Al Rigga Main...   2023-12-03   \n",
       "116  Main Kitchen Store__H6685 - IBIS Al Rigga Main...   2023-12-10   \n",
       "117  Main Kitchen Store__H6685 - IBIS Al Rigga Main...   2023-12-17   \n",
       "118  Main Kitchen Store__H6685 - IBIS Al Rigga Main...   2023-12-24   \n",
       "119  Main Kitchen Store__H6685 - IBIS Al Rigga Main...   2023-12-31   \n",
       "\n",
       "     Quantity_IU  \n",
       "0            3.0  \n",
       "1            2.0  \n",
       "2            1.0  \n",
       "3            0.0  \n",
       "5            1.0  \n",
       "..           ...  \n",
       "115          0.0  \n",
       "116          0.0  \n",
       "117          1.0  \n",
       "118          0.0  \n",
       "119          3.0  \n",
       "\n",
       "[100 rows x 3 columns]"
      ]
     },
     "execution_count": 71,
     "metadata": {},
     "output_type": "execute_result"
    }
   ],
   "source": [
    "Max_Date = '2023-12-31'\n",
    "weekly = selected_df_weekly[selected_df_weekly['uniqueID']=='Main Kitchen Store__H6685 - IBIS Al Rigga Main Kitchen__jam orange']\n",
    "weekly"
   ]
  },
  {
   "cell_type": "code",
   "execution_count": null,
   "metadata": {},
   "outputs": [],
   "source": [
    "\n",
    "prediction_df, actual_df = zero_inflated_model_1(weekly)"
   ]
  },
  {
   "cell_type": "code",
   "execution_count": null,
   "metadata": {},
   "outputs": [
    {
     "data": {
      "text/html": [
       "<div>\n",
       "<style scoped>\n",
       "    .dataframe tbody tr th:only-of-type {\n",
       "        vertical-align: middle;\n",
       "    }\n",
       "\n",
       "    .dataframe tbody tr th {\n",
       "        vertical-align: top;\n",
       "    }\n",
       "\n",
       "    .dataframe thead th {\n",
       "        text-align: right;\n",
       "    }\n",
       "</style>\n",
       "<table border=\"1\" class=\"dataframe\">\n",
       "  <thead>\n",
       "    <tr style=\"text-align: right;\">\n",
       "      <th></th>\n",
       "      <th>uniqueID</th>\n",
       "      <th>Booking_Date</th>\n",
       "      <th>Quantity_IU</th>\n",
       "    </tr>\n",
       "  </thead>\n",
       "  <tbody>\n",
       "    <tr>\n",
       "      <th>0</th>\n",
       "      <td>Main Kitchen Store__H6685 - IBIS Al Rigga Main...</td>\n",
       "      <td>2022-02-28</td>\n",
       "      <td>6.0</td>\n",
       "    </tr>\n",
       "    <tr>\n",
       "      <th>1</th>\n",
       "      <td>Main Kitchen Store__H6685 - IBIS Al Rigga Main...</td>\n",
       "      <td>2022-03-31</td>\n",
       "      <td>4.0</td>\n",
       "    </tr>\n",
       "    <tr>\n",
       "      <th>2</th>\n",
       "      <td>Main Kitchen Store__H6685 - IBIS Al Rigga Main...</td>\n",
       "      <td>2022-04-30</td>\n",
       "      <td>1.0</td>\n",
       "    </tr>\n",
       "    <tr>\n",
       "      <th>3</th>\n",
       "      <td>Main Kitchen Store__H6685 - IBIS Al Rigga Main...</td>\n",
       "      <td>2022-05-31</td>\n",
       "      <td>0.0</td>\n",
       "    </tr>\n",
       "    <tr>\n",
       "      <th>4</th>\n",
       "      <td>Main Kitchen Store__H6685 - IBIS Al Rigga Main...</td>\n",
       "      <td>2022-06-30</td>\n",
       "      <td>1.0</td>\n",
       "    </tr>\n",
       "    <tr>\n",
       "      <th>5</th>\n",
       "      <td>Main Kitchen Store__H6685 - IBIS Al Rigga Main...</td>\n",
       "      <td>2022-07-31</td>\n",
       "      <td>1.0</td>\n",
       "    </tr>\n",
       "    <tr>\n",
       "      <th>6</th>\n",
       "      <td>Main Kitchen Store__H6685 - IBIS Al Rigga Main...</td>\n",
       "      <td>2022-08-31</td>\n",
       "      <td>7.0</td>\n",
       "    </tr>\n",
       "    <tr>\n",
       "      <th>7</th>\n",
       "      <td>Main Kitchen Store__H6685 - IBIS Al Rigga Main...</td>\n",
       "      <td>2022-09-30</td>\n",
       "      <td>2.0</td>\n",
       "    </tr>\n",
       "    <tr>\n",
       "      <th>8</th>\n",
       "      <td>Main Kitchen Store__H6685 - IBIS Al Rigga Main...</td>\n",
       "      <td>2022-10-31</td>\n",
       "      <td>4.0</td>\n",
       "    </tr>\n",
       "    <tr>\n",
       "      <th>9</th>\n",
       "      <td>Main Kitchen Store__H6685 - IBIS Al Rigga Main...</td>\n",
       "      <td>2022-11-30</td>\n",
       "      <td>6.0</td>\n",
       "    </tr>\n",
       "    <tr>\n",
       "      <th>10</th>\n",
       "      <td>Main Kitchen Store__H6685 - IBIS Al Rigga Main...</td>\n",
       "      <td>2022-12-31</td>\n",
       "      <td>4.0</td>\n",
       "    </tr>\n",
       "    <tr>\n",
       "      <th>11</th>\n",
       "      <td>Main Kitchen Store__H6685 - IBIS Al Rigga Main...</td>\n",
       "      <td>2023-01-31</td>\n",
       "      <td>3.0</td>\n",
       "    </tr>\n",
       "    <tr>\n",
       "      <th>12</th>\n",
       "      <td>Main Kitchen Store__H6685 - IBIS Al Rigga Main...</td>\n",
       "      <td>2023-02-28</td>\n",
       "      <td>4.0</td>\n",
       "    </tr>\n",
       "    <tr>\n",
       "      <th>13</th>\n",
       "      <td>Main Kitchen Store__H6685 - IBIS Al Rigga Main...</td>\n",
       "      <td>2023-03-31</td>\n",
       "      <td>5.0</td>\n",
       "    </tr>\n",
       "    <tr>\n",
       "      <th>14</th>\n",
       "      <td>Main Kitchen Store__H6685 - IBIS Al Rigga Main...</td>\n",
       "      <td>2023-04-30</td>\n",
       "      <td>2.0</td>\n",
       "    </tr>\n",
       "    <tr>\n",
       "      <th>15</th>\n",
       "      <td>Main Kitchen Store__H6685 - IBIS Al Rigga Main...</td>\n",
       "      <td>2023-05-31</td>\n",
       "      <td>3.0</td>\n",
       "    </tr>\n",
       "    <tr>\n",
       "      <th>16</th>\n",
       "      <td>Main Kitchen Store__H6685 - IBIS Al Rigga Main...</td>\n",
       "      <td>2023-06-30</td>\n",
       "      <td>4.0</td>\n",
       "    </tr>\n",
       "    <tr>\n",
       "      <th>17</th>\n",
       "      <td>Main Kitchen Store__H6685 - IBIS Al Rigga Main...</td>\n",
       "      <td>2023-07-31</td>\n",
       "      <td>2.0</td>\n",
       "    </tr>\n",
       "    <tr>\n",
       "      <th>18</th>\n",
       "      <td>Main Kitchen Store__H6685 - IBIS Al Rigga Main...</td>\n",
       "      <td>2023-08-31</td>\n",
       "      <td>5.0</td>\n",
       "    </tr>\n",
       "    <tr>\n",
       "      <th>19</th>\n",
       "      <td>Main Kitchen Store__H6685 - IBIS Al Rigga Main...</td>\n",
       "      <td>2023-09-30</td>\n",
       "      <td>1.0</td>\n",
       "    </tr>\n",
       "    <tr>\n",
       "      <th>20</th>\n",
       "      <td>Main Kitchen Store__H6685 - IBIS Al Rigga Main...</td>\n",
       "      <td>2023-10-31</td>\n",
       "      <td>0.0</td>\n",
       "    </tr>\n",
       "    <tr>\n",
       "      <th>21</th>\n",
       "      <td>Main Kitchen Store__H6685 - IBIS Al Rigga Main...</td>\n",
       "      <td>2023-11-30</td>\n",
       "      <td>1.0</td>\n",
       "    </tr>\n",
       "    <tr>\n",
       "      <th>22</th>\n",
       "      <td>Main Kitchen Store__H6685 - IBIS Al Rigga Main...</td>\n",
       "      <td>2023-12-31</td>\n",
       "      <td>4.0</td>\n",
       "    </tr>\n",
       "  </tbody>\n",
       "</table>\n",
       "</div>"
      ],
      "text/plain": [
       "                                             uniqueID Booking_Date  \\\n",
       "0   Main Kitchen Store__H6685 - IBIS Al Rigga Main...   2022-02-28   \n",
       "1   Main Kitchen Store__H6685 - IBIS Al Rigga Main...   2022-03-31   \n",
       "2   Main Kitchen Store__H6685 - IBIS Al Rigga Main...   2022-04-30   \n",
       "3   Main Kitchen Store__H6685 - IBIS Al Rigga Main...   2022-05-31   \n",
       "4   Main Kitchen Store__H6685 - IBIS Al Rigga Main...   2022-06-30   \n",
       "5   Main Kitchen Store__H6685 - IBIS Al Rigga Main...   2022-07-31   \n",
       "6   Main Kitchen Store__H6685 - IBIS Al Rigga Main...   2022-08-31   \n",
       "7   Main Kitchen Store__H6685 - IBIS Al Rigga Main...   2022-09-30   \n",
       "8   Main Kitchen Store__H6685 - IBIS Al Rigga Main...   2022-10-31   \n",
       "9   Main Kitchen Store__H6685 - IBIS Al Rigga Main...   2022-11-30   \n",
       "10  Main Kitchen Store__H6685 - IBIS Al Rigga Main...   2022-12-31   \n",
       "11  Main Kitchen Store__H6685 - IBIS Al Rigga Main...   2023-01-31   \n",
       "12  Main Kitchen Store__H6685 - IBIS Al Rigga Main...   2023-02-28   \n",
       "13  Main Kitchen Store__H6685 - IBIS Al Rigga Main...   2023-03-31   \n",
       "14  Main Kitchen Store__H6685 - IBIS Al Rigga Main...   2023-04-30   \n",
       "15  Main Kitchen Store__H6685 - IBIS Al Rigga Main...   2023-05-31   \n",
       "16  Main Kitchen Store__H6685 - IBIS Al Rigga Main...   2023-06-30   \n",
       "17  Main Kitchen Store__H6685 - IBIS Al Rigga Main...   2023-07-31   \n",
       "18  Main Kitchen Store__H6685 - IBIS Al Rigga Main...   2023-08-31   \n",
       "19  Main Kitchen Store__H6685 - IBIS Al Rigga Main...   2023-09-30   \n",
       "20  Main Kitchen Store__H6685 - IBIS Al Rigga Main...   2023-10-31   \n",
       "21  Main Kitchen Store__H6685 - IBIS Al Rigga Main...   2023-11-30   \n",
       "22  Main Kitchen Store__H6685 - IBIS Al Rigga Main...   2023-12-31   \n",
       "\n",
       "    Quantity_IU  \n",
       "0           6.0  \n",
       "1           4.0  \n",
       "2           1.0  \n",
       "3           0.0  \n",
       "4           1.0  \n",
       "5           1.0  \n",
       "6           7.0  \n",
       "7           2.0  \n",
       "8           4.0  \n",
       "9           6.0  \n",
       "10          4.0  \n",
       "11          3.0  \n",
       "12          4.0  \n",
       "13          5.0  \n",
       "14          2.0  \n",
       "15          3.0  \n",
       "16          4.0  \n",
       "17          2.0  \n",
       "18          5.0  \n",
       "19          1.0  \n",
       "20          0.0  \n",
       "21          1.0  \n",
       "22          4.0  "
      ]
     },
     "execution_count": 73,
     "metadata": {},
     "output_type": "execute_result"
    }
   ],
   "source": [
    "actual_df"
   ]
  },
  {
   "cell_type": "code",
   "execution_count": null,
   "metadata": {},
   "outputs": [
    {
     "data": {
      "text/html": [
       "<div>\n",
       "<style scoped>\n",
       "    .dataframe tbody tr th:only-of-type {\n",
       "        vertical-align: middle;\n",
       "    }\n",
       "\n",
       "    .dataframe tbody tr th {\n",
       "        vertical-align: top;\n",
       "    }\n",
       "\n",
       "    .dataframe thead th {\n",
       "        text-align: right;\n",
       "    }\n",
       "</style>\n",
       "<table border=\"1\" class=\"dataframe\">\n",
       "  <thead>\n",
       "    <tr style=\"text-align: right;\">\n",
       "      <th></th>\n",
       "      <th>uniqueID</th>\n",
       "      <th>Booking_Date</th>\n",
       "      <th>predicted</th>\n",
       "    </tr>\n",
       "  </thead>\n",
       "  <tbody>\n",
       "    <tr>\n",
       "      <th>0</th>\n",
       "      <td>Main Kitchen Store__H6685 - IBIS Al Rigga Main...</td>\n",
       "      <td>2024-01-31</td>\n",
       "      <td>0.000000</td>\n",
       "    </tr>\n",
       "    <tr>\n",
       "      <th>1</th>\n",
       "      <td>Main Kitchen Store__H6685 - IBIS Al Rigga Main...</td>\n",
       "      <td>2024-02-29</td>\n",
       "      <td>4.311083</td>\n",
       "    </tr>\n",
       "    <tr>\n",
       "      <th>2</th>\n",
       "      <td>Main Kitchen Store__H6685 - IBIS Al Rigga Main...</td>\n",
       "      <td>2024-03-31</td>\n",
       "      <td>5.101392</td>\n",
       "    </tr>\n",
       "    <tr>\n",
       "      <th>3</th>\n",
       "      <td>Main Kitchen Store__H6685 - IBIS Al Rigga Main...</td>\n",
       "      <td>2024-04-30</td>\n",
       "      <td>0.000000</td>\n",
       "    </tr>\n",
       "    <tr>\n",
       "      <th>4</th>\n",
       "      <td>Main Kitchen Store__H6685 - IBIS Al Rigga Main...</td>\n",
       "      <td>2024-05-31</td>\n",
       "      <td>0.000000</td>\n",
       "    </tr>\n",
       "    <tr>\n",
       "      <th>5</th>\n",
       "      <td>Main Kitchen Store__H6685 - IBIS Al Rigga Main...</td>\n",
       "      <td>2024-06-30</td>\n",
       "      <td>3.572871</td>\n",
       "    </tr>\n",
       "    <tr>\n",
       "      <th>6</th>\n",
       "      <td>Main Kitchen Store__H6685 - IBIS Al Rigga Main...</td>\n",
       "      <td>2024-07-31</td>\n",
       "      <td>0.000000</td>\n",
       "    </tr>\n",
       "    <tr>\n",
       "      <th>7</th>\n",
       "      <td>Main Kitchen Store__H6685 - IBIS Al Rigga Main...</td>\n",
       "      <td>2024-08-31</td>\n",
       "      <td>0.000000</td>\n",
       "    </tr>\n",
       "    <tr>\n",
       "      <th>8</th>\n",
       "      <td>Main Kitchen Store__H6685 - IBIS Al Rigga Main...</td>\n",
       "      <td>2024-09-30</td>\n",
       "      <td>2.834722</td>\n",
       "    </tr>\n",
       "    <tr>\n",
       "      <th>9</th>\n",
       "      <td>Main Kitchen Store__H6685 - IBIS Al Rigga Main...</td>\n",
       "      <td>2024-10-31</td>\n",
       "      <td>0.000000</td>\n",
       "    </tr>\n",
       "    <tr>\n",
       "      <th>10</th>\n",
       "      <td>Main Kitchen Store__H6685 - IBIS Al Rigga Main...</td>\n",
       "      <td>2024-11-30</td>\n",
       "      <td>0.000000</td>\n",
       "    </tr>\n",
       "    <tr>\n",
       "      <th>11</th>\n",
       "      <td>Main Kitchen Store__H6685 - IBIS Al Rigga Main...</td>\n",
       "      <td>2024-12-31</td>\n",
       "      <td>0.000000</td>\n",
       "    </tr>\n",
       "  </tbody>\n",
       "</table>\n",
       "</div>"
      ],
      "text/plain": [
       "                                             uniqueID Booking_Date  predicted\n",
       "0   Main Kitchen Store__H6685 - IBIS Al Rigga Main...   2024-01-31   0.000000\n",
       "1   Main Kitchen Store__H6685 - IBIS Al Rigga Main...   2024-02-29   4.311083\n",
       "2   Main Kitchen Store__H6685 - IBIS Al Rigga Main...   2024-03-31   5.101392\n",
       "3   Main Kitchen Store__H6685 - IBIS Al Rigga Main...   2024-04-30   0.000000\n",
       "4   Main Kitchen Store__H6685 - IBIS Al Rigga Main...   2024-05-31   0.000000\n",
       "5   Main Kitchen Store__H6685 - IBIS Al Rigga Main...   2024-06-30   3.572871\n",
       "6   Main Kitchen Store__H6685 - IBIS Al Rigga Main...   2024-07-31   0.000000\n",
       "7   Main Kitchen Store__H6685 - IBIS Al Rigga Main...   2024-08-31   0.000000\n",
       "8   Main Kitchen Store__H6685 - IBIS Al Rigga Main...   2024-09-30   2.834722\n",
       "9   Main Kitchen Store__H6685 - IBIS Al Rigga Main...   2024-10-31   0.000000\n",
       "10  Main Kitchen Store__H6685 - IBIS Al Rigga Main...   2024-11-30   0.000000\n",
       "11  Main Kitchen Store__H6685 - IBIS Al Rigga Main...   2024-12-31   0.000000"
      ]
     },
     "execution_count": 74,
     "metadata": {},
     "output_type": "execute_result"
    }
   ],
   "source": [
    "prediction_df"
   ]
  },
  {
   "cell_type": "code",
   "execution_count": null,
   "metadata": {},
   "outputs": [
    {
     "data": {
      "text/html": [
       "<div>\n",
       "<style scoped>\n",
       "    .dataframe tbody tr th:only-of-type {\n",
       "        vertical-align: middle;\n",
       "    }\n",
       "\n",
       "    .dataframe tbody tr th {\n",
       "        vertical-align: top;\n",
       "    }\n",
       "\n",
       "    .dataframe thead th {\n",
       "        text-align: right;\n",
       "    }\n",
       "</style>\n",
       "<table border=\"1\" class=\"dataframe\">\n",
       "  <thead>\n",
       "    <tr style=\"text-align: right;\">\n",
       "      <th></th>\n",
       "      <th>uniqueID</th>\n",
       "      <th>Booking_Date</th>\n",
       "      <th>Quantity_IU</th>\n",
       "    </tr>\n",
       "  </thead>\n",
       "  <tbody>\n",
       "    <tr>\n",
       "      <th>0</th>\n",
       "      <td>Amicci Store__H6493 - MOE Amici Restaurant__ch...</td>\n",
       "      <td>2022-02-28</td>\n",
       "      <td>12.0</td>\n",
       "    </tr>\n",
       "    <tr>\n",
       "      <th>1</th>\n",
       "      <td>Amicci Store__H6493 - MOE Amici Restaurant__ch...</td>\n",
       "      <td>2022-03-31</td>\n",
       "      <td>4.0</td>\n",
       "    </tr>\n",
       "    <tr>\n",
       "      <th>2</th>\n",
       "      <td>Amicci Store__H6493 - MOE Amici Restaurant__ch...</td>\n",
       "      <td>2022-04-30</td>\n",
       "      <td>14.0</td>\n",
       "    </tr>\n",
       "    <tr>\n",
       "      <th>3</th>\n",
       "      <td>Amicci Store__H6493 - MOE Amici Restaurant__ch...</td>\n",
       "      <td>2022-05-31</td>\n",
       "      <td>18.0</td>\n",
       "    </tr>\n",
       "    <tr>\n",
       "      <th>4</th>\n",
       "      <td>Amicci Store__H6493 - MOE Amici Restaurant__ch...</td>\n",
       "      <td>2022-06-30</td>\n",
       "      <td>4.0</td>\n",
       "    </tr>\n",
       "    <tr>\n",
       "      <th>5</th>\n",
       "      <td>Amicci Store__H6493 - MOE Amici Restaurant__ch...</td>\n",
       "      <td>2022-07-31</td>\n",
       "      <td>6.0</td>\n",
       "    </tr>\n",
       "    <tr>\n",
       "      <th>6</th>\n",
       "      <td>Amicci Store__H6493 - MOE Amici Restaurant__ch...</td>\n",
       "      <td>2022-08-31</td>\n",
       "      <td>0.0</td>\n",
       "    </tr>\n",
       "    <tr>\n",
       "      <th>7</th>\n",
       "      <td>Amicci Store__H6493 - MOE Amici Restaurant__ch...</td>\n",
       "      <td>2022-09-30</td>\n",
       "      <td>10.0</td>\n",
       "    </tr>\n",
       "    <tr>\n",
       "      <th>8</th>\n",
       "      <td>Amicci Store__H6493 - MOE Amici Restaurant__ch...</td>\n",
       "      <td>2022-10-31</td>\n",
       "      <td>7.0</td>\n",
       "    </tr>\n",
       "    <tr>\n",
       "      <th>9</th>\n",
       "      <td>Amicci Store__H6493 - MOE Amici Restaurant__ch...</td>\n",
       "      <td>2022-11-30</td>\n",
       "      <td>8.0</td>\n",
       "    </tr>\n",
       "    <tr>\n",
       "      <th>10</th>\n",
       "      <td>Amicci Store__H6493 - MOE Amici Restaurant__ch...</td>\n",
       "      <td>2022-12-31</td>\n",
       "      <td>0.0</td>\n",
       "    </tr>\n",
       "    <tr>\n",
       "      <th>11</th>\n",
       "      <td>Amicci Store__H6493 - MOE Amici Restaurant__ch...</td>\n",
       "      <td>2023-01-31</td>\n",
       "      <td>0.0</td>\n",
       "    </tr>\n",
       "    <tr>\n",
       "      <th>12</th>\n",
       "      <td>Amicci Store__H6493 - MOE Amici Restaurant__ch...</td>\n",
       "      <td>2023-02-28</td>\n",
       "      <td>0.0</td>\n",
       "    </tr>\n",
       "    <tr>\n",
       "      <th>13</th>\n",
       "      <td>Amicci Store__H6493 - MOE Amici Restaurant__ch...</td>\n",
       "      <td>2023-03-31</td>\n",
       "      <td>8.0</td>\n",
       "    </tr>\n",
       "    <tr>\n",
       "      <th>14</th>\n",
       "      <td>Amicci Store__H6493 - MOE Amici Restaurant__ch...</td>\n",
       "      <td>2023-04-30</td>\n",
       "      <td>6.0</td>\n",
       "    </tr>\n",
       "    <tr>\n",
       "      <th>15</th>\n",
       "      <td>Amicci Store__H6493 - MOE Amici Restaurant__ch...</td>\n",
       "      <td>2023-05-31</td>\n",
       "      <td>3.0</td>\n",
       "    </tr>\n",
       "    <tr>\n",
       "      <th>16</th>\n",
       "      <td>Amicci Store__H6493 - MOE Amici Restaurant__ch...</td>\n",
       "      <td>2023-06-30</td>\n",
       "      <td>11.0</td>\n",
       "    </tr>\n",
       "    <tr>\n",
       "      <th>17</th>\n",
       "      <td>Amicci Store__H6493 - MOE Amici Restaurant__ch...</td>\n",
       "      <td>2023-07-31</td>\n",
       "      <td>21.0</td>\n",
       "    </tr>\n",
       "    <tr>\n",
       "      <th>18</th>\n",
       "      <td>Amicci Store__H6493 - MOE Amici Restaurant__ch...</td>\n",
       "      <td>2023-08-31</td>\n",
       "      <td>19.0</td>\n",
       "    </tr>\n",
       "    <tr>\n",
       "      <th>19</th>\n",
       "      <td>Amicci Store__H6493 - MOE Amici Restaurant__ch...</td>\n",
       "      <td>2023-09-30</td>\n",
       "      <td>3.0</td>\n",
       "    </tr>\n",
       "    <tr>\n",
       "      <th>20</th>\n",
       "      <td>Amicci Store__H6493 - MOE Amici Restaurant__ch...</td>\n",
       "      <td>2023-10-31</td>\n",
       "      <td>10.0</td>\n",
       "    </tr>\n",
       "    <tr>\n",
       "      <th>21</th>\n",
       "      <td>Amicci Store__H6493 - MOE Amici Restaurant__ch...</td>\n",
       "      <td>2023-11-30</td>\n",
       "      <td>11.0</td>\n",
       "    </tr>\n",
       "    <tr>\n",
       "      <th>22</th>\n",
       "      <td>Amicci Store__H6493 - MOE Amici Restaurant__ch...</td>\n",
       "      <td>2023-12-31</td>\n",
       "      <td>11.0</td>\n",
       "    </tr>\n",
       "  </tbody>\n",
       "</table>\n",
       "</div>"
      ],
      "text/plain": [
       "                                             uniqueID Booking_Date  \\\n",
       "0   Amicci Store__H6493 - MOE Amici Restaurant__ch...   2022-02-28   \n",
       "1   Amicci Store__H6493 - MOE Amici Restaurant__ch...   2022-03-31   \n",
       "2   Amicci Store__H6493 - MOE Amici Restaurant__ch...   2022-04-30   \n",
       "3   Amicci Store__H6493 - MOE Amici Restaurant__ch...   2022-05-31   \n",
       "4   Amicci Store__H6493 - MOE Amici Restaurant__ch...   2022-06-30   \n",
       "5   Amicci Store__H6493 - MOE Amici Restaurant__ch...   2022-07-31   \n",
       "6   Amicci Store__H6493 - MOE Amici Restaurant__ch...   2022-08-31   \n",
       "7   Amicci Store__H6493 - MOE Amici Restaurant__ch...   2022-09-30   \n",
       "8   Amicci Store__H6493 - MOE Amici Restaurant__ch...   2022-10-31   \n",
       "9   Amicci Store__H6493 - MOE Amici Restaurant__ch...   2022-11-30   \n",
       "10  Amicci Store__H6493 - MOE Amici Restaurant__ch...   2022-12-31   \n",
       "11  Amicci Store__H6493 - MOE Amici Restaurant__ch...   2023-01-31   \n",
       "12  Amicci Store__H6493 - MOE Amici Restaurant__ch...   2023-02-28   \n",
       "13  Amicci Store__H6493 - MOE Amici Restaurant__ch...   2023-03-31   \n",
       "14  Amicci Store__H6493 - MOE Amici Restaurant__ch...   2023-04-30   \n",
       "15  Amicci Store__H6493 - MOE Amici Restaurant__ch...   2023-05-31   \n",
       "16  Amicci Store__H6493 - MOE Amici Restaurant__ch...   2023-06-30   \n",
       "17  Amicci Store__H6493 - MOE Amici Restaurant__ch...   2023-07-31   \n",
       "18  Amicci Store__H6493 - MOE Amici Restaurant__ch...   2023-08-31   \n",
       "19  Amicci Store__H6493 - MOE Amici Restaurant__ch...   2023-09-30   \n",
       "20  Amicci Store__H6493 - MOE Amici Restaurant__ch...   2023-10-31   \n",
       "21  Amicci Store__H6493 - MOE Amici Restaurant__ch...   2023-11-30   \n",
       "22  Amicci Store__H6493 - MOE Amici Restaurant__ch...   2023-12-31   \n",
       "\n",
       "    Quantity_IU  \n",
       "0          12.0  \n",
       "1           4.0  \n",
       "2          14.0  \n",
       "3          18.0  \n",
       "4           4.0  \n",
       "5           6.0  \n",
       "6           0.0  \n",
       "7          10.0  \n",
       "8           7.0  \n",
       "9           8.0  \n",
       "10          0.0  \n",
       "11          0.0  \n",
       "12          0.0  \n",
       "13          8.0  \n",
       "14          6.0  \n",
       "15          3.0  \n",
       "16         11.0  \n",
       "17         21.0  \n",
       "18         19.0  \n",
       "19          3.0  \n",
       "20         10.0  \n",
       "21         11.0  \n",
       "22         11.0  "
      ]
     },
     "execution_count": 50,
     "metadata": {},
     "output_type": "execute_result"
    }
   ],
   "source": [
    "actual_df"
   ]
  },
  {
   "cell_type": "code",
   "execution_count": null,
   "metadata": {},
   "outputs": [
    {
     "data": {
      "text/plain": [
       "850"
      ]
     },
     "execution_count": 12,
     "metadata": {},
     "output_type": "execute_result"
    }
   ],
   "source": [
    "selected_df_weekly.uniqueID.nunique()"
   ]
  },
  {
   "cell_type": "code",
   "execution_count": null,
   "metadata": {},
   "outputs": [
    {
     "data": {
      "text/plain": [
       "850"
      ]
     },
     "execution_count": 13,
     "metadata": {},
     "output_type": "execute_result"
    }
   ],
   "source": [
    "selected_df_monthly.uniqueID.nunique()"
   ]
  }
 ],
 "metadata": {
  "kernelspec": {
   "display_name": "Python 3",
   "language": "python",
   "name": "python3"
  },
  "language_info": {
   "codemirror_mode": {
    "name": "ipython",
    "version": 3
   },
   "file_extension": ".py",
   "mimetype": "text/x-python",
   "name": "python",
   "nbconvert_exporter": "python",
   "pygments_lexer": "ipython3",
   "version": "3.12.2"
  }
 },
 "nbformat": 4,
 "nbformat_minor": 2
}
